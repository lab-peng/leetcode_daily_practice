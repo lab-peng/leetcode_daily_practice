{
 "cells": [
  {
   "cell_type": "code",
   "execution_count": 1,
   "metadata": {},
   "outputs": [],
   "source": [
    "from typing import List"
   ]
  },
  {
   "cell_type": "code",
   "execution_count": 35,
   "metadata": {},
   "outputs": [],
   "source": [
    "class Solution:\n",
    "    def construct2DArray(self, original: List[int], m: int, n: int) -> List[List[int]]:\n",
    "        \"\"\" \n",
    "        2022. Convert 1D Array Into 2D Array\n",
    "        \"\"\"\n",
    "        ln = len(original)\n",
    "        if m * n != ln:\n",
    "            return []\n",
    "\n",
    "        # ans = []\n",
    "        # for i in range(0, ln, steps):\n",
    "        #     # row = []\n",
    "        #     # for j in range(i, i + n):\n",
    "        #     #     row.append(original[j])\n",
    "        #     row = [original[j] for j in range(i, i + n)]\n",
    "        #     ans.append(row)\n",
    "\n",
    "\n",
    "        return [[original[j] for j in range(i, i + n)] for i in range(0, ln, n)]\n",
    "        # return ans\n",
    "                \n",
    "\n",
    "\n",
    "s = Solution()\n",
    "assert s.construct2DArray(original = [1,2,3,4], m = 2, n = 2) ==  [[1, 2], [3, 4]]\n",
    "assert s.construct2DArray(original = [1,2,3], m = 1, n = 3)  == [[1,2,3]]\n"
   ]
  },
  {
   "cell_type": "code",
   "execution_count": null,
   "metadata": {},
   "outputs": [],
   "source": []
  }
 ],
 "metadata": {
  "kernelspec": {
   "display_name": "Python 3",
   "language": "python",
   "name": "python3"
  },
  "language_info": {
   "codemirror_mode": {
    "name": "ipython",
    "version": 3
   },
   "file_extension": ".py",
   "mimetype": "text/x-python",
   "name": "python",
   "nbconvert_exporter": "python",
   "pygments_lexer": "ipython3",
   "version": "3.11.1"
  },
  "orig_nbformat": 4,
  "vscode": {
   "interpreter": {
    "hash": "b7ca4a75756fff48ad75ddef2741ecfed8f2ce12ec8770943891cb3b12546634"
   }
  }
 },
 "nbformat": 4,
 "nbformat_minor": 2
}
