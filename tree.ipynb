{
 "cells": [
  {
   "cell_type": "markdown",
   "metadata": {},
   "source": [
    "1. Balanced Binary Tree\n",
    "https://leetcode.com/problems/balanced-binary-tree/"
   ]
  },
  {
   "cell_type": "code",
   "execution_count": 2,
   "metadata": {},
   "outputs": [],
   "source": [
    "from typing import List, Optional\n",
    "# Definition for a binary tree node.\n",
    "class TreeNode:\n",
    "    def __init__(self, val=0, left=None, right=None):\n",
    "        self.val = val\n",
    "        self.left = left\n",
    "        self.right = right\n",
    "        \n",
    "class Solution:\n",
    "    def isBalanced(self, root: Optional[TreeNode]) -> bool:\n",
    "        \n",
    "        def dfs(root):\n",
    "            if not root:\n",
    "                return [True, 0]\n",
    "            left, right = dfs(root.left), dfs(root.right)\n",
    "            balanced = (left[0] and right[0] and abs(left[1] - right[1]) <= 1)\n",
    "\n",
    "            return [balanced, 1 + max(left[1], right[1])]\n",
    "        \n",
    "        return dfs(root)[0]\n",
    "\n"
   ]
  },
  {
   "cell_type": "markdown",
   "metadata": {},
   "source": [
    "2. Count Good Nodes in Binary Tree\n",
    "https://leetcode.com/problems/count-good-nodes-in-binary-tree/\n"
   ]
  },
  {
   "cell_type": "code",
   "execution_count": 3,
   "metadata": {},
   "outputs": [
    {
     "data": {
      "text/plain": [
       "4"
      ]
     },
     "execution_count": 3,
     "metadata": {},
     "output_type": "execute_result"
    }
   ],
   "source": [
    "# Definition for a binary tree node.\n",
    "class TreeNode:\n",
    "    def __init__(self, val=0, left=None, right=None):\n",
    "        self.val = val\n",
    "        self.left = left\n",
    "        self.right = right\n",
    "        \n",
    "class Solution:\n",
    "    def goodNodes(self, root: TreeNode) -> int:\n",
    "\n",
    "        def dfs(node, max_val):\n",
    "            if not node:\n",
    "                return 0\n",
    "            res = 1 if node.val >= max_val else 0\n",
    "            max_val = max(max_val, node.val)\n",
    "\n",
    "            res += dfs(node.left, max_val)\n",
    "            res += dfs(node.right, max_val)\n",
    "            return res\n",
    "\n",
    "        return dfs(root, float('-inf'))\n",
    "        \n",
    "a = TreeNode(3)\n",
    "a.left = TreeNode(1)\n",
    "a.right = TreeNode(4)\n",
    "a.left.left = TreeNode(3)\n",
    "a.right.left = TreeNode(1)\n",
    "a.right.right = TreeNode(5)\n",
    "s = Solution()\n",
    "s.goodNodes(a)"
   ]
  },
  {
   "cell_type": "markdown",
   "metadata": {},
   "source": [
    "3. Invert Binary Tree\n",
    "https://leetcode.com/problems/invert-binary-tree/\n"
   ]
  },
  {
   "cell_type": "code",
   "execution_count": 4,
   "metadata": {},
   "outputs": [],
   "source": [
    "# Definition for a binary tree node.\n",
    "class TreeNode:\n",
    "    def __init__(self, val=0, left=None, right=None):\n",
    "        self.val = val\n",
    "        self.left = left\n",
    "        self.right = right\n",
    "\n",
    "class Solution:\n",
    "    def invertTree(self, root: Optional[TreeNode]) -> Optional[TreeNode]:\n",
    "        if not root:\n",
    "            return None\n",
    "    \n",
    "        root.left, root.right = root.right, root.left\n",
    "\n",
    "        self.invertTree(root.left)\n",
    "        self.invertTree(root.right)\n",
    "\n",
    "        return root"
   ]
  },
  {
   "cell_type": "markdown",
   "metadata": {},
   "source": [
    "4. Merge Two Binary Trees\n",
    "https://leetcode.com/problems/merge-two-binary-trees/"
   ]
  },
  {
   "cell_type": "code",
   "execution_count": 5,
   "metadata": {},
   "outputs": [
    {
     "name": "stdout",
     "output_type": "stream",
     "text": [
      "3\n",
      "4\n",
      "5\n",
      "5\n",
      "4\n",
      "7\n"
     ]
    },
    {
     "name": "stderr",
     "output_type": "stream",
     "text": [
      "C:\\Users\\71072\\AppData\\Local\\Temp\\ipykernel_17456\\2492593854.py:3: DeprecationWarning: The Tix Tk extension is unmaintained, and the tkinter.tix wrapper module is deprecated in favor of tkinter.ttk\n",
      "  from tkinter.tix import Tree\n"
     ]
    }
   ],
   "source": [
    "# Definition for a binary tree node.\n",
    "\n",
    "from tkinter.tix import Tree\n",
    "\n",
    "\n",
    "class TreeNode:\n",
    "    def __init__(self, val=0, left=None, right=None):\n",
    "        self.val = val\n",
    "        self.left = left\n",
    "        self.right = right\n",
    "class Solution:\n",
    "    def mergeTrees(self, root1: Optional[TreeNode], root2: Optional[TreeNode]) -> Optional[TreeNode]:\n",
    "        if not root1 and not root2:\n",
    "            return None\n",
    "\n",
    "        v1 = root1.val if root1 else 0\n",
    "        v2 = root2.val if root2 else 0\n",
    "        root = TreeNode(v1 + v2)\n",
    "        root.left = self.mergeTrees(root1.left if root1 else None, root2.left if root2 else None)\n",
    "        root.right = self.mergeTrees(root1.right if root1 else None, root2.right if root2 else None)\n",
    "\n",
    "        return root\n",
    "\n",
    "\n",
    "\n",
    "root1 = TreeNode(1)\n",
    "root1.left = TreeNode(3)\n",
    "root1.right = TreeNode(2)\n",
    "root1.left.left = TreeNode(5)\n",
    "\n",
    "root2 = TreeNode(2)\n",
    "root2.left = TreeNode(1)\n",
    "root2.right = TreeNode(3)\n",
    "root2.left.right = TreeNode(4)\n",
    "root2.right.right = TreeNode(7)\n",
    "\n",
    "s = Solution()\n",
    "x = s.mergeTrees(root1, root2)\n",
    "print(x.val)\n",
    "print(x.left.val)\n",
    "print(x.right.val)\n",
    "print(x.left.left.val)\n",
    "print(x.left.right.val)\n",
    "\n",
    "print(x.right.right.val)"
   ]
  },
  {
   "cell_type": "markdown",
   "metadata": {},
   "source": [
    "5. Convert Sorted Array to Binary Search Tree\n",
    "https://leetcode.com/problems/convert-sorted-array-to-binary-search-tree/\n"
   ]
  },
  {
   "cell_type": "code",
   "execution_count": 6,
   "metadata": {},
   "outputs": [
    {
     "name": "stdout",
     "output_type": "stream",
     "text": [
      "0 -10 5 -3 9\n"
     ]
    }
   ],
   "source": [
    "# Definition for a binary tree node.\n",
    "class TreeNode:\n",
    "    def __init__(self, val=0, left=None, right=None):\n",
    "        self.val = val\n",
    "        self.left = left\n",
    "        self.right = right\n",
    "\n",
    "class Solution:\n",
    "    def sortedArrayToBST(self, nums: List[int]) -> Optional[TreeNode]:\n",
    "        return _sorted_arr_to_bst(nums, 0, len(nums)-1)\n",
    "\n",
    "def _sorted_arr_to_bst(arr, start, end):\n",
    "    if start > end:\n",
    "        return None\n",
    "    mid = (start + end) // 2\n",
    "    node = TreeNode(arr[mid])\n",
    "    node.left = _sorted_arr_to_bst(arr, start, mid - 1)\n",
    "    node.right = _sorted_arr_to_bst(arr, mid + 1, end)\n",
    "    return node\n",
    "\n",
    "nums = [-10,-3,0,5,9]\n",
    "s = Solution()\n",
    "a1 = s.sortedArrayToBST(nums)\n",
    "print(a1.val, a1.left.val, a1.right.val, a1.left.right.val, a1.right.right.val)\n"
   ]
  },
  {
   "cell_type": "markdown",
   "metadata": {},
   "source": [
    "6 validate binary search trees\n",
    "check bst.py"
   ]
  },
  {
   "cell_type": "markdown",
   "metadata": {},
   "source": [
    "7. Triangle\n",
    "https://leetcode.com/problems/triangle/"
   ]
  },
  {
   "cell_type": "code",
   "execution_count": 7,
   "metadata": {},
   "outputs": [
    {
     "name": "stdout",
     "output_type": "stream",
     "text": [
      "[4, 1, 8, 3, 0]\n",
      "[7, 6, 10, 3, 0]\n",
      "[9, 10, 10, 3, 0]\n",
      "[11, 10, 10, 3, 0]\n"
     ]
    },
    {
     "data": {
      "text/plain": [
       "11"
      ]
     },
     "execution_count": 7,
     "metadata": {},
     "output_type": "execute_result"
    }
   ],
   "source": [
    "class Solution:\n",
    "    def minimumTotal(self, triangle: List[List[int]]) -> int:\n",
    "        dp = [0] * (len(triangle)+1)\n",
    "\n",
    "        for row in triangle[::-1]:\n",
    "            for i, v in enumerate(row):\n",
    "                dp[i] = min(dp[i], dp[i+1]) + v\n",
    "            print(dp)\n",
    "\n",
    "        return dp[0]\n",
    "\n",
    "triangle = [[2],[3,4],[6,5,7],[4,1,8,3]]\n",
    "s = Solution()\n",
    "s.minimumTotal(triangle)"
   ]
  },
  {
   "cell_type": "markdown",
   "metadata": {},
   "source": [
    "8. Sum Root to Leaf Numbers\n",
    "https://leetcode.com/problems/sum-root-to-leaf-numbers/\n"
   ]
  },
  {
   "cell_type": "code",
   "execution_count": 8,
   "metadata": {},
   "outputs": [
    {
     "data": {
      "text/plain": [
       "1026"
      ]
     },
     "execution_count": 8,
     "metadata": {},
     "output_type": "execute_result"
    }
   ],
   "source": [
    "# Definition for a binary tree node.\n",
    "class TreeNode:\n",
    "    def __init__(self, val=0, left=None, right=None):\n",
    "        self.val = val\n",
    "        self.left = left\n",
    "        self.right = right\n",
    "\n",
    "class Solution:\n",
    "    def sumNumbers(self, root: Optional[TreeNode]) -> int:\n",
    "        def dfs(node, num):\n",
    "            if not node:\n",
    "                return 0\n",
    "            num = num * 10 + node.val\n",
    "            if not node.left and not node.right:\n",
    "                return num\n",
    "\n",
    "            return dfs(node.left, num) + dfs(node.right, num)\n",
    "        \n",
    "        return dfs(root, 0)\n",
    "\n",
    "root = TreeNode(4)\n",
    "root.left = TreeNode(9)\n",
    "root.right = TreeNode(0)\n",
    "root.left.left = TreeNode(5)\n",
    "root.left.right = TreeNode(1)\n",
    "\n",
    "s = Solution()\n",
    "s.sumNumbers(root)"
   ]
  },
  {
   "cell_type": "code",
   "execution_count": null,
   "metadata": {},
   "outputs": [],
   "source": []
  },
  {
   "cell_type": "code",
   "execution_count": null,
   "metadata": {},
   "outputs": [],
   "source": []
  },
  {
   "cell_type": "code",
   "execution_count": null,
   "metadata": {},
   "outputs": [],
   "source": []
  },
  {
   "cell_type": "code",
   "execution_count": null,
   "metadata": {},
   "outputs": [],
   "source": []
  },
  {
   "cell_type": "code",
   "execution_count": null,
   "metadata": {},
   "outputs": [],
   "source": []
  },
  {
   "cell_type": "code",
   "execution_count": null,
   "metadata": {},
   "outputs": [],
   "source": []
  },
  {
   "cell_type": "code",
   "execution_count": 41,
   "metadata": {},
   "outputs": [
    {
     "name": "stdout",
     "output_type": "stream",
     "text": [
      "0\n",
      "1\n",
      "2\n",
      "4\n",
      "\u0000\u0000\u0000\b0\n",
      "1\n",
      "2\n",
      "4\n"
     ]
    }
   ],
   "source": []
  },
  {
   "cell_type": "code",
   "execution_count": 40,
   "metadata": {},
   "outputs": [
    {
     "name": "stdout",
     "output_type": "stream",
     "text": [
      "0\n",
      "1\n",
      "2\n",
      "4\n"
     ]
    }
   ],
   "source": []
  },
  {
   "cell_type": "code",
   "execution_count": null,
   "metadata": {},
   "outputs": [],
   "source": [
    "# i = 0\n",
    "# while i < 5:\n",
    "#     if i == 3:\n",
    "#         i += 1\n",
    "#         continue\n",
    "#     print(i)\n",
    "#     i += 1\n",
    "\n",
    "# ===\n",
    "\n",
    "i = 0\n",
    "while i < 5:\n",
    "    if i == 3:\n",
    "        pass\n",
    "    else:\n",
    "        print(i)\n",
    "    i += 1"
   ]
  }
 ],
 "metadata": {
  "kernelspec": {
   "display_name": "Python 3",
   "language": "python",
   "name": "python3"
  },
  "language_info": {
   "codemirror_mode": {
    "name": "ipython",
    "version": 3
   },
   "file_extension": ".py",
   "mimetype": "text/x-python",
   "name": "python",
   "nbconvert_exporter": "python",
   "pygments_lexer": "ipython3",
   "version": "3.11.1"
  },
  "orig_nbformat": 4,
  "vscode": {
   "interpreter": {
    "hash": "3c82aea9bf3f365190a7e416b607cf2c9372b04170f58ad31092367f98b9b5cc"
   }
  }
 },
 "nbformat": 4,
 "nbformat_minor": 2
}
