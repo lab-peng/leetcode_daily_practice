{
 "cells": [
  {
   "cell_type": "code",
   "execution_count": 2,
   "metadata": {},
   "outputs": [],
   "source": [
    "from typing import List, Optional"
   ]
  },
  {
   "cell_type": "markdown",
   "metadata": {},
   "source": [
    "643. Maximum Average Subarray I\n",
    "https://leetcode.com/problems/maximum-average-subarray-i/"
   ]
  },
  {
   "cell_type": "code",
   "execution_count": 3,
   "metadata": {},
   "outputs": [
    {
     "data": {
      "text/plain": [
       "12.75"
      ]
     },
     "execution_count": 3,
     "metadata": {},
     "output_type": "execute_result"
    }
   ],
   "source": [
    "# naive solution (brute force)\n",
    "class Solution:\n",
    "    def findMaxAverage(self, nums: List[int], k: int) -> float:\n",
    "        max_sum = float('-inf')\n",
    "\n",
    "        for i in range(len(nums)):\n",
    "            k_sum = 0\n",
    "            for j in range(k):\n",
    "                if i+k <= len(nums):\n",
    "                    k_sum += nums[i+j]\n",
    "                else:\n",
    "                    # i = len(nums)\n",
    "                    # j = k\n",
    "                    break\n",
    "            if k_sum != 0:\n",
    "                max_sum = max(max_sum, k_sum/k)\n",
    "        if max_sum == float('-inf'):\n",
    "            return 0\n",
    "        return max_sum\n",
    "\n",
    "    \n",
    "nums = [1, 12, -5, -6, 50, 3]\n",
    "k = 4\n",
    "s = Solution()\n",
    "s.findMaxAverage(nums, k)"
   ]
  },
  {
   "cell_type": "code",
   "execution_count": 4,
   "metadata": {},
   "outputs": [
    {
     "data": {
      "text/plain": [
       "12.75"
      ]
     },
     "execution_count": 4,
     "metadata": {},
     "output_type": "execute_result"
    }
   ],
   "source": [
    "# sliding window solution (fixed size)\n",
    "class Solution:\n",
    "    def findMaxAverage(self, nums: List[int], k: int) -> float:\n",
    "        max_sum = sum(nums[:k])\n",
    "        curr_sum = max_sum\n",
    "\n",
    "        for i in range(1, len(nums)-k+1):\n",
    "            curr_sum -= nums[i-1]\n",
    "            curr_sum += nums[i+k-1]\n",
    "            max_sum = max(max_sum, curr_sum)\n",
    "        \n",
    "        return max_sum / k\n",
    "\n",
    "    \n",
    "nums = [1, 12, -5, -6, 50, 3]\n",
    "# nums = [5]\n",
    "k = 4\n",
    "# k = 1\n",
    "s = Solution()\n",
    "s.findMaxAverage(nums, k)"
   ]
  },
  {
   "cell_type": "markdown",
   "metadata": {},
   "source": [
    "724. Find Pivot Index\n",
    "https://leetcode.com/problems/find-pivot-index/"
   ]
  },
  {
   "cell_type": "code",
   "execution_count": 5,
   "metadata": {},
   "outputs": [
    {
     "data": {
      "text/plain": [
       "3"
      ]
     },
     "execution_count": 5,
     "metadata": {},
     "output_type": "execute_result"
    }
   ],
   "source": [
    "class Solution:\n",
    "    def pivotIndex(self, nums: List[int]) -> int:\n",
    "        total = sum(nums)\n",
    "\n",
    "        left_sum = 0\n",
    "        for i in range(len(nums)):\n",
    "            right_sum = total - nums[i] - left_sum\n",
    "            if left_sum == right_sum:\n",
    "                return i\n",
    "            left_sum += nums[i]\n",
    "        return -1\n",
    "\n",
    "nums = [1,7,3,6,5,6]\n",
    "# nums = [1,2,3]\n",
    "# nums = [2,1,-1]\n",
    "# nums = [1, -1, 2]\n",
    "s = Solution()\n",
    "s.pivotIndex(nums)"
   ]
  },
  {
   "cell_type": "markdown",
   "metadata": {},
   "source": [
    "102. Binary Tree Level Order Traversal\n",
    "https://leetcode.com/problems/binary-tree-level-order-traversal/"
   ]
  },
  {
   "cell_type": "code",
   "execution_count": 6,
   "metadata": {},
   "outputs": [
    {
     "data": {
      "text/plain": [
       "[[3], [9, 20], [15, 7]]"
      ]
     },
     "execution_count": 6,
     "metadata": {},
     "output_type": "execute_result"
    }
   ],
   "source": [
    "# Definition for a binary tree node.\n",
    "class TreeNode:\n",
    "    def __init__(self, val=0, left=None, right=None):\n",
    "        self.val = val\n",
    "        self.left = left\n",
    "        self.right = right\n",
    "\n",
    "from collections import deque # deque [dek] == double-ended queue\n",
    "class Solution:\n",
    "    def levelOrder(self, root: Optional[TreeNode]) -> List[List[int]]:\n",
    "        if not root:\n",
    "            return []\n",
    "\n",
    "        q = deque()\n",
    "        q.append(root)\n",
    "        \n",
    "        res = []\n",
    "\n",
    "        while q:\n",
    "            level_node_size = len(q)\n",
    "            level_list = []\n",
    "            for _ in range(level_node_size):\n",
    "                node = q.popleft()\n",
    "                level_list.append(node.val)\n",
    "\n",
    "                if node.left:\n",
    "                    q.append(node.left)\n",
    "                if node.right:\n",
    "                    q.append(node.right)\n",
    "            res.append(level_list)\n",
    "        return res\n",
    "\n",
    "# root = [3,9,20,null,null,15,7]\n",
    "root = TreeNode(3)\n",
    "root.left = TreeNode(9)\n",
    "root.right = TreeNode(20)\n",
    "root.right.left = TreeNode(15)\n",
    "root.right.right = TreeNode(7)\n",
    "\n",
    "s = Solution()\n",
    "s.levelOrder(root)"
   ]
  },
  {
   "cell_type": "markdown",
   "metadata": {},
   "source": [
    "637. Average of Levels in Binary Tree\n",
    "https://leetcode.com/problems/average-of-levels-in-binary-tree/"
   ]
  },
  {
   "cell_type": "code",
   "execution_count": 7,
   "metadata": {},
   "outputs": [
    {
     "data": {
      "text/plain": [
       "[3.0, 14.5, 11.0]"
      ]
     },
     "execution_count": 7,
     "metadata": {},
     "output_type": "execute_result"
    }
   ],
   "source": [
    "# Definition for a binary tree node.\n",
    "class TreeNode:\n",
    "    def __init__(self, val=0, left=None, right=None):\n",
    "        self.val = val\n",
    "        self.left = left\n",
    "        self.right = right\n",
    "\n",
    "from collections import deque # deque [dek] == double-ended queue\n",
    "class Solution:\n",
    "    def averageOfLevels(self, root: Optional[TreeNode]) -> List[float]:\n",
    "        if not root:\n",
    "            return []\n",
    "\n",
    "        res = []\n",
    "        q = deque()\n",
    "        q.append(root)\n",
    "\n",
    "        while q:\n",
    "            level_size = len(q)\n",
    "            level_sum = 0\n",
    "\n",
    "            for _ in range(level_size):\n",
    "                node = q.popleft()\n",
    "                level_sum += node.val\n",
    "                # print(level_sum)\n",
    "\n",
    "                if node.left:\n",
    "                    q.append(node.left)\n",
    "\n",
    "                if node.right:\n",
    "                    q.append(node.right)\n",
    "            res.append(level_sum / level_size)\n",
    "\n",
    "        return res\n",
    "\n",
    "# root = [3,9,20,null,null,15,7]\n",
    "root = TreeNode(3)\n",
    "root.left = TreeNode(9)\n",
    "root.right = TreeNode(20)\n",
    "root.right.left = TreeNode(15)\n",
    "root.right.right = TreeNode(7)\n",
    "\n",
    "s = Solution()\n",
    "s.averageOfLevels(root)"
   ]
  },
  {
   "cell_type": "markdown",
   "metadata": {},
   "source": [
    "111. Minimum Depth of Binary Tree\n",
    "https://leetcode.com/problems/minimum-depth-of-binary-tree/\n"
   ]
  },
  {
   "cell_type": "code",
   "execution_count": 8,
   "metadata": {},
   "outputs": [
    {
     "data": {
      "text/plain": [
       "2"
      ]
     },
     "execution_count": 8,
     "metadata": {},
     "output_type": "execute_result"
    }
   ],
   "source": [
    "# Definition for a binary tree node.\n",
    "class TreeNode:\n",
    "    def __init__(self, val=0, left=None, right=None):\n",
    "        self.val = val\n",
    "        self.left = left\n",
    "        self.right = right\n",
    "\n",
    "from collections import deque # deque [dek] == double-ended queue\n",
    "class Solution:\n",
    "    def minDepth(self, root: Optional[TreeNode]) -> int:\n",
    "\n",
    "        min_depth = 0\n",
    "        q = deque()\n",
    "        q.append(root)\n",
    "\n",
    "        while q:\n",
    "            level_size = len(q)\n",
    "            min_depth += 1\n",
    "\n",
    "            for _ in range(level_size):\n",
    "                node = q.popleft()\n",
    "                if not node.left and not node.right:\n",
    "                    return min_depth\n",
    "\n",
    "                if node.left:\n",
    "                    q.append(node.left)\n",
    "                if node.right:\n",
    "                    q.append(node.right)\n",
    "\n",
    "            \n",
    "\n",
    "# root = [3,9,20,null,null,15,7]\n",
    "root = TreeNode(3)\n",
    "root.left = TreeNode(9)\n",
    "root.right = TreeNode(20)\n",
    "root.right.left = TreeNode(15)\n",
    "root.right.right = TreeNode(7)\n",
    "\n",
    "s = Solution()\n",
    "s.minDepth(root)"
   ]
  },
  {
   "cell_type": "markdown",
   "metadata": {},
   "source": [
    "104. Maximum Depth of Binary Tree\n",
    "https://leetcode.com/problems/maximum-depth-of-binary-tree/"
   ]
  },
  {
   "cell_type": "code",
   "execution_count": 9,
   "metadata": {},
   "outputs": [
    {
     "data": {
      "text/plain": [
       "3"
      ]
     },
     "execution_count": 9,
     "metadata": {},
     "output_type": "execute_result"
    }
   ],
   "source": [
    "# Definition for a binary tree node.\n",
    "class TreeNode:\n",
    "    def __init__(self, val=0, left=None, right=None):\n",
    "        self.val = val\n",
    "        self.left = left\n",
    "        self.right = right\n",
    "\n",
    "from collections import deque # deque [dek] == double-ended queue\n",
    "class Solution:\n",
    "    def maxDepth(self, root: Optional[TreeNode]) -> int:\n",
    "        depth = 0\n",
    "        q = deque()\n",
    "        if root:\n",
    "            q.append(root)\n",
    "\n",
    "            while q:\n",
    "                level_size = len(q)\n",
    "                depth += 1\n",
    "\n",
    "                for _ in range(level_size):\n",
    "                    node = q.popleft()\n",
    "                    if node.left:\n",
    "                        q.append(node.left)\n",
    "                    if node.right:\n",
    "                        q.append(node.right)\n",
    "        return depth\n",
    "\n",
    "            \n",
    "\n",
    "# root = [3,9,20,null,null,15,7]\n",
    "root = TreeNode(3)\n",
    "root.left = TreeNode(9)\n",
    "root.right = TreeNode(20)\n",
    "root.right.left = TreeNode(15)\n",
    "root.right.right = TreeNode(7)\n",
    "\n",
    "s = Solution()\n",
    "s.maxDepth(root)"
   ]
  },
  {
   "cell_type": "markdown",
   "metadata": {},
   "source": [
    "852. Peak Index in a Mountain Array\n",
    "https://leetcode.com/problems/peak-index-in-a-mountain-array/"
   ]
  },
  {
   "cell_type": "code",
   "execution_count": 10,
   "metadata": {},
   "outputs": [
    {
     "data": {
      "text/plain": [
       "2"
      ]
     },
     "execution_count": 10,
     "metadata": {},
     "output_type": "execute_result"
    }
   ],
   "source": [
    "# 'two pointers, the most useful pattern in existence!' -- Kantan Coding\n",
    "class Solution:\n",
    "    def peakIndexInMountainArray(self, arr: List[int]) -> int:\n",
    "        l = 0\n",
    "        r = len(arr) - 1\n",
    "\n",
    "        while l < r:\n",
    "            m = (l + r) // 2\n",
    "            if arr[m] < arr[m+1]:\n",
    "                l = m + 1\n",
    "            elif arr[m] >= arr[m+1]:\n",
    "                r = m\n",
    "        return l\n",
    "\n",
    "arr = [0, 10, 11, 11, 7, 2]\n",
    "# arr = [0, 1, 0]\n",
    "# arr = [0,2,1,0]\n",
    "s = Solution()\n",
    "s.peakIndexInMountainArray(arr)"
   ]
  },
  {
   "cell_type": "markdown",
   "metadata": {},
   "source": [
    "162. Find Peak Element\n",
    "https://leetcode.com/problems/find-peak-element/"
   ]
  },
  {
   "cell_type": "code",
   "execution_count": 11,
   "metadata": {},
   "outputs": [],
   "source": [
    "# It's the same solution for the above"
   ]
  },
  {
   "cell_type": "markdown",
   "metadata": {},
   "source": [
    "904. Fruit Into Baskets\n",
    "https://leetcode.com/problems/fruit-into-baskets/"
   ]
  },
  {
   "cell_type": "code",
   "execution_count": 12,
   "metadata": {},
   "outputs": [
    {
     "name": "stdout",
     "output_type": "stream",
     "text": [
      "[(1, 1), (6, 2)]\n",
      "deque([])\n"
     ]
    }
   ],
   "source": [
    "# from collections import deque\n",
    "from collections import OrderedDict, deque\n",
    "\n",
    "fruits = [1, 6, 6, 4, 4, 6]\n",
    "\n",
    "q = deque()\n",
    "basket = OrderedDict()\n",
    "for i in range(len(fruits)):\n",
    "    basket[fruits[i]] = basket.get(fruits[i], 0) + 1\n",
    "    if len(basket) > 2:\n",
    "        break\n",
    "    \n",
    "    \n",
    "print(list(basket.items())[:2])\n",
    "\n",
    "\n",
    "        \n",
    "    \n",
    "print(q)"
   ]
  },
  {
   "cell_type": "code",
   "execution_count": 13,
   "metadata": {},
   "outputs": [
    {
     "data": {
      "text/plain": [
       "5"
      ]
     },
     "execution_count": 13,
     "metadata": {},
     "output_type": "execute_result"
    }
   ],
   "source": [
    "# Time Limit Exceeded Solution\n",
    "class Solution:\n",
    "    def totalFruit(self, fruits: List[int]) -> int:\n",
    "        max_sum = 0\n",
    "        start = 0\n",
    "        while start < len(fruits):\n",
    "            basket = {}\n",
    "            # print(fruits[start:])\n",
    "            for i, v in enumerate(fruits[start:]):\n",
    "                # print(i, v)\n",
    "                if len(basket) < 2 and not basket.get(v):\n",
    "                    basket[v] = 1\n",
    "                elif basket.get(v):\n",
    "                    basket[v] += 1\n",
    "                else:\n",
    "                    break\n",
    "            # print(basket)\n",
    "            # print(sum(basket.values()))\n",
    "            max_sum = max(max_sum, sum(basket.values()))\n",
    "            start += 1\n",
    "        return max_sum\n",
    "\n",
    "fruits = [3,3,3,1,2,1,1,2,3,3,4]\n",
    "s = Solution()\n",
    "s.totalFruit(fruits)"
   ]
  },
  {
   "cell_type": "code",
   "execution_count": 14,
   "metadata": {},
   "outputs": [
    {
     "data": {
      "text/plain": [
       "5"
      ]
     },
     "execution_count": 14,
     "metadata": {},
     "output_type": "execute_result"
    }
   ],
   "source": [
    "# https://www.youtube.com/watch?v=r-tA3ReIFBM\n",
    "class Solution:\n",
    "    def totalFruit(self, fruits: List[int]) -> int:\n",
    "        start = 0\n",
    "        curr_fruits = 0\n",
    "        max_fruits = curr_fruits\n",
    "        basket = {}\n",
    "\n",
    "        for end in range(len(fruits)):\n",
    "            curr_fruits += 1\n",
    "            basket[fruits[end]] = basket.get(fruits[end], 0) + 1\n",
    "\n",
    "            while len(basket) > 2:\n",
    "                # print(basket)\n",
    "                curr_fruits -= 1\n",
    "                basket[fruits[start]] -= 1\n",
    "\n",
    "                if basket[fruits[start]] == 0:\n",
    "                    del basket[fruits[start]]\n",
    "                \n",
    "                start += 1\n",
    "\n",
    "            max_fruits = max(max_fruits, curr_fruits)\n",
    "        return max_fruits\n",
    "\n",
    "\n",
    "fruits = [3,3,3,1,2,1,1,2,3,3,4]\n",
    "# fruits = [1,2,1]\n",
    "# fruits = [0,1,2,2]\n",
    "# fruits = [1,2,3,2,2]\n",
    "s = Solution()\n",
    "s.totalFruit(fruits)"
   ]
  },
  {
   "cell_type": "markdown",
   "metadata": {},
   "source": [
    "146. LRU Cache\n",
    "https://leetcode.com/problems/lru-cache/"
   ]
  },
  {
   "cell_type": "code",
   "execution_count": 15,
   "metadata": {},
   "outputs": [
    {
     "data": {
      "text/plain": [
       "4"
      ]
     },
     "execution_count": 15,
     "metadata": {},
     "output_type": "execute_result"
    }
   ],
   "source": [
    "# TODO ???\n",
    "class Node:\n",
    "    def __init__(self, key, val):\n",
    "        self.key, self.val = key, val\n",
    "        self.prev = self.next = None\n",
    "        \n",
    "\n",
    "\n",
    "class LRUCache:\n",
    "\n",
    "    def __init__(self, capacity: int):\n",
    "        self.capacity = capacity\n",
    "        self.cache = {} # map key to node\n",
    "\n",
    "        # left = Least recently used (LRU)  right = most recently used\n",
    "        self.left, self.right = Node(0, 0), Node(0, 0)\n",
    "        self.left.next, self.right.prev = self.right, self.left\n",
    "        \n",
    "    # remove node from left\n",
    "    def remove(self, node):\n",
    "        prev, nxt = node.prev, node.next\n",
    "        prev.next, nxt.prev = nxt, prev\n",
    " \n",
    "    # insert node at right\n",
    "    def insert(self, node):\n",
    "        prev, nxt = self.right.prev, self.right\n",
    "        prev.next = nxt.prev = node\n",
    "        node.next, node.prev = nxt, prev\n",
    "\n",
    "    def get(self, key: int) -> int:\n",
    "        if key in self.cache:\n",
    "            self.remove(self.cache[key])\n",
    "            self.insert(self.cache[key])\n",
    "            return self.cache[key].val\n",
    "        return -1\n",
    "        \n",
    "\n",
    "    def put(self, key: int, value: int) -> None:\n",
    "        if key in self.cache:\n",
    "            self.remove(self.cache[key])\n",
    "        self.cache[key] = Node(key, value)\n",
    "        self.insert(self.cache[key])\n",
    "\n",
    "        if len(self.cache) > self.capacity:\n",
    "            # remove from the list and delete the LRU from the hashmap\n",
    "            lru = self.left.next\n",
    "            self.remove(lru)\n",
    "            # del self.cache[lru.key]\n",
    "            self.cache.pop(lru.key)\n",
    "        \n",
    "\n",
    "\n",
    "# Your LRUCache object will be instantiated and called as such:\n",
    "capacity = 2\n",
    "\n",
    "obj = LRUCache(capacity)\n",
    "param_1 = obj.get(5)\n",
    "obj.put(5, 4)\n",
    "\n",
    "obj.get(5)"
   ]
  },
  {
   "cell_type": "markdown",
   "metadata": {},
   "source": [
    "108. Convert Sorted Array to Binary Search Tree\n",
    "https://leetcode.com/problems/convert-sorted-array-to-binary-search-tree/"
   ]
  },
  {
   "cell_type": "code",
   "execution_count": 16,
   "metadata": {},
   "outputs": [
    {
     "name": "stdout",
     "output_type": "stream",
     "text": [
      "  ___0  \n",
      " /    \\ \n",
      "-10_  5 \n",
      "    \\  \\\n",
      "   -3  9\n"
     ]
    }
   ],
   "source": [
    "# Definition for a binary tree node.\n",
    "class TreeNode:\n",
    "    def __init__(self, val=0, left=None, right=None):\n",
    "        self.val = val\n",
    "        self.left = left\n",
    "        self.right = right\n",
    "\n",
    "    def graph(self):\n",
    "        lines, *_ = self.graph_aux()\n",
    "        for line in lines:\n",
    "            print(line)\n",
    "\n",
    "    def graph_aux(self):\n",
    "        \"\"\"Returns list of strings, width, height, and horizontal coordinate of the root.\"\"\"\n",
    "        # No child.\n",
    "        if self.right is None and self.left is None:\n",
    "            line = str(self.val)\n",
    "            width = len(line)\n",
    "            height = 1\n",
    "            middle = width // 2\n",
    "            return [line], width, height, middle\n",
    "\n",
    "        # Only left child.\n",
    "        if self.right is None:\n",
    "            lines, n, p, x = self.left.graph_aux()\n",
    "            s = str(self.val)\n",
    "            u = len(s)\n",
    "            first_line = (x + 1) * ' ' + (n - x - 1) * '_' + s\n",
    "            second_line = x * ' ' + '/' + (n - x - 1 + u) * ' '\n",
    "            shifted_lines = [line + u * ' ' for line in lines]\n",
    "            return [first_line, second_line] + shifted_lines, n + u, p + 2, n + u // 2\n",
    "\n",
    "        # Only right child.\n",
    "        if self.left is None:\n",
    "            lines, n, p, x = self.right.graph_aux()\n",
    "            s = str(self.val)\n",
    "            u = len(s)\n",
    "            first_line = s + x * '_' + (n - x) * ' '\n",
    "            second_line = (u + x) * ' ' + '\\\\' + (n - x - 1) * ' '\n",
    "            shifted_lines = [u * ' ' + line for line in lines]\n",
    "            return [first_line, second_line] + shifted_lines, n + u, p + 2, u // 2\n",
    "\n",
    "        # Two children.\n",
    "        left, n, p, x = self.left.graph_aux()\n",
    "        right, m, q, y = self.right.graph_aux()\n",
    "        s = str(self.val)\n",
    "        u = len(s)\n",
    "        first_line = (x + 1) * ' ' + (n - x - 1) * '_' + s + y * '_' + (m - y) * ' '\n",
    "        second_line = x * ' ' + '/' + (n - x - 1 + u + y) * ' ' + '\\\\' + (m - y - 1) * ' '\n",
    "        if p < q:\n",
    "            left += [n * ' '] * (q - p)\n",
    "        elif q < p:\n",
    "            right += [m * ' '] * (p - q)\n",
    "        zipped_lines = zip(left, right)\n",
    "        lines = [first_line, second_line] + [a + u * ' ' + b for a, b in zipped_lines]\n",
    "        return lines, n + m + u, max(p, q) + 2, n + u // 2\n",
    "\n",
    "class Solution:\n",
    "    def sortedArrayToBST(self, nums: List[int]) -> Optional[TreeNode]:\n",
    "        return _sorted_arr_to_bst(nums, 0, len(nums)-1)\n",
    "\n",
    "def _sorted_arr_to_bst(arr, start, end):\n",
    "    if start > end:\n",
    "        return None\n",
    "    mid = (start + end) // 2\n",
    "    node = TreeNode(arr[mid])\n",
    "    node.left = _sorted_arr_to_bst(arr, start, mid - 1)\n",
    "    node.right = _sorted_arr_to_bst(arr, mid + 1, end)\n",
    "    return node\n",
    "\n",
    "nums = [-10, -3, 0, 5, 9]\n",
    "s = Solution()\n",
    "root = s.sortedArrayToBST(nums)\n",
    "root.graph()"
   ]
  },
  {
   "cell_type": "code",
   "execution_count": 17,
   "metadata": {},
   "outputs": [
    {
     "name": "stdout",
     "output_type": "stream",
     "text": [
      "  ___0  \n",
      " /    \\ \n",
      "-10_  5 \n",
      "    \\  \\\n",
      "   -3  9\n"
     ]
    }
   ],
   "source": [
    "# static method convertion of the above code\n",
    "class Solution:\n",
    "    def sortedArrayToBST(self, nums: List[int]) -> Optional[TreeNode]:\n",
    "        return Solution._sorted_arr_to_bst(nums, 0, len(nums)-1)\n",
    "\n",
    "    @staticmethod\n",
    "    def _sorted_arr_to_bst(arr, start, end):\n",
    "        if start > end:\n",
    "            return None\n",
    "        mid = (start + end) // 2\n",
    "        node = TreeNode(arr[mid])\n",
    "        node.left = Solution._sorted_arr_to_bst(arr, start, mid - 1)\n",
    "        node.right = Solution._sorted_arr_to_bst(arr, mid + 1, end)\n",
    "        return node\n",
    "\n",
    "nums = [-10, -3, 0, 5, 9]\n",
    "s = Solution()\n",
    "root = s.sortedArrayToBST(nums)\n",
    "root.graph()"
   ]
  },
  {
   "cell_type": "markdown",
   "metadata": {},
   "source": [
    "344. Reverse String\n",
    "https://leetcode.com/problems/reverse-string/\n"
   ]
  },
  {
   "cell_type": "code",
   "execution_count": 18,
   "metadata": {},
   "outputs": [
    {
     "data": {
      "text/plain": [
       "['9', '8', '7', '6', '5', '4', '3', '2', '1']"
      ]
     },
     "execution_count": 18,
     "metadata": {},
     "output_type": "execute_result"
    }
   ],
   "source": [
    "class Solution:\n",
    "    def reverseString(self, s: List[str]) -> None:\n",
    "        \"\"\"\n",
    "        Do not return anything, modify s in-place instead.\n",
    "        \"\"\"\n",
    "        l, r = 0, len(s)-1\n",
    "        while l < r:\n",
    "            s[l], s[r] = s[r], s[l]\n",
    "            l += 1\n",
    "            r -= 1\n",
    "\n",
    "s = ['1', '2', '3', '4', '5', '6', '7', '8', '9']\n",
    "solution = Solution()\n",
    "solution.reverseString(s)\n",
    "s\n"
   ]
  },
  {
   "cell_type": "markdown",
   "metadata": {},
   "source": [
    "345. Reverse Vowels of a String\n",
    "https://leetcode.com/problems/reverse-vowels-of-a-string/description/\n"
   ]
  },
  {
   "cell_type": "code",
   "execution_count": 19,
   "metadata": {},
   "outputs": [
    {
     "data": {
      "text/plain": [
       "'holle'"
      ]
     },
     "execution_count": 19,
     "metadata": {},
     "output_type": "execute_result"
    }
   ],
   "source": [
    "class Solution:\n",
    "    def reverseVowels(self, s: str) -> str:\n",
    "        l, r = 0, len(s) - 1\n",
    "        s = list(s)\n",
    "        while l < r:\n",
    "            if s[l] not in 'aeiouAEIOU':\n",
    "                l += 1\n",
    "\n",
    "            elif s[r] not in 'aeiouAEIOU':\n",
    "                r -= 1\n",
    "\n",
    "            else:\n",
    "                s[l], s[r] = s[r], s[l]\n",
    "                l += 1\n",
    "                r -= 1\n",
    "        return ''.join(s)\n",
    "\n",
    "s = 'hello'\n",
    "solution = Solution()\n",
    "solution.reverseVowels(s)"
   ]
  },
  {
   "cell_type": "code",
   "execution_count": 20,
   "metadata": {},
   "outputs": [
    {
     "data": {
      "text/plain": [
       "'holle'"
      ]
     },
     "execution_count": 20,
     "metadata": {},
     "output_type": "execute_result"
    }
   ],
   "source": [
    "# Refactoring with a contiue keyword\n",
    "class Solution:\n",
    "    def reverseVowels(self, s: str) -> str:\n",
    "        l, r = 0, len(s) - 1\n",
    "        s = list(s)\n",
    "        while l < r:\n",
    "            if s[l] not in 'aeiouAEIOU':\n",
    "                l += 1\n",
    "                continue\n",
    "\n",
    "            if s[r] not in 'aeiouAEIOU':\n",
    "                r -= 1\n",
    "                continue\n",
    "            \n",
    "            s[l], s[r] = s[r], s[l]\n",
    "            l += 1\n",
    "            r -= 1\n",
    "        return ''.join(s)\n",
    "\n",
    "s = 'hello'\n",
    "solution = Solution()\n",
    "solution.reverseVowels(s)"
   ]
  },
  {
   "cell_type": "markdown",
   "metadata": {},
   "source": [
    "515. Find Largest Value in Each Tree Row\n",
    "https://leetcode.com/problems/find-largest-value-in-each-tree-row/description/"
   ]
  },
  {
   "cell_type": "code",
   "execution_count": 21,
   "metadata": {},
   "outputs": [
    {
     "data": {
      "text/plain": [
       "[1, 3, 9]"
      ]
     },
     "execution_count": 21,
     "metadata": {},
     "output_type": "execute_result"
    }
   ],
   "source": [
    "# TODO Having problem in understanding the code\n",
    "class TreeNode:\n",
    "    def __init__(self, val=0, left=None, right=None):\n",
    "        self.val = val\n",
    "        self.left = left\n",
    "        self.right = right\n",
    "\n",
    "class Solution:\n",
    "    def largestValues(self, root: Optional[TreeNode]) -> List[int]:\n",
    "        res = [] # idx == depth, value == largest_value\n",
    "        \n",
    "        def dfs(root, depth):\n",
    "            if not root:\n",
    "                return None\n",
    "\n",
    "            if depth == len(res):\n",
    "                res.append(root.val)\n",
    "            res[depth] = max(res[depth], root.val)\n",
    "            dfs(root.left, depth+1)\n",
    "            dfs(root.right, depth+1)\n",
    "        dfs(root, 0)\n",
    "        return res\n",
    "\n",
    "root = TreeNode(1)\n",
    "root.left = TreeNode(3)\n",
    "root.right = TreeNode(2)\n",
    "root.left.left = TreeNode(5)\n",
    "root.left.right = TreeNode(3)\n",
    "root.right.right = TreeNode(9)\n",
    "\n",
    "s = Solution()\n",
    "s.largestValues(root)"
   ]
  },
  {
   "cell_type": "code",
   "execution_count": null,
   "metadata": {},
   "outputs": [],
   "source": []
  },
  {
   "cell_type": "code",
   "execution_count": null,
   "metadata": {},
   "outputs": [],
   "source": []
  },
  {
   "cell_type": "code",
   "execution_count": null,
   "metadata": {},
   "outputs": [],
   "source": []
  },
  {
   "cell_type": "code",
   "execution_count": null,
   "metadata": {},
   "outputs": [],
   "source": []
  },
  {
   "cell_type": "code",
   "execution_count": null,
   "metadata": {},
   "outputs": [],
   "source": []
  },
  {
   "cell_type": "code",
   "execution_count": 22,
   "metadata": {},
   "outputs": [
    {
     "name": "stdout",
     "output_type": "stream",
     "text": [
      "{'gender': 'male', 'age': 30}\n",
      "{'gender': 'female', 'age': 20}\n",
      "Employee.__init__() takes 2 positional arguments but 3 were given\n"
     ]
    }
   ],
   "source": [
    "class Employee:\n",
    "    def __init__(self, gender):\n",
    "        self.gender = gender\n",
    "        self.age = 30\n",
    "\n",
    "e = Employee('male')\n",
    "print(e.__dict__)\n",
    "\n",
    "e.gender = 'female'\n",
    "e.age = 20\n",
    "\n",
    "print(e.__dict__)\n",
    "\n",
    "try:\n",
    "    e_2 = Employee('male', 20)\n",
    "except TypeError as e:\n",
    "    print(e)"
   ]
  },
  {
   "cell_type": "markdown",
   "metadata": {},
   "source": [
    "13. Roman to Integer\n",
    "https://leetcode.com/problems/roman-to-integer/"
   ]
  },
  {
   "cell_type": "code",
   "execution_count": 23,
   "metadata": {},
   "outputs": [
    {
     "data": {
      "text/plain": [
       "1994"
      ]
     },
     "execution_count": 23,
     "metadata": {},
     "output_type": "execute_result"
    }
   ],
   "source": [
    "class Solution:\n",
    "    def romanToInt(self, s: str) -> int:\n",
    "        hm = { 'I': 1,\n",
    "                'V': 5,\n",
    "                'X': 10,\n",
    "                'L': 50,\n",
    "                'C': 100,\n",
    "                'D': 500,\n",
    "                'M': 1000\n",
    "                }\n",
    "        total = 0\n",
    "        for i in range(len(s)):\n",
    "            if i < (len(s) - 1) and hm[s[i]] < hm[s[i+1]]:\n",
    "                total -= hm[s[i]]\n",
    "            else:\n",
    "                total += hm[s[i]]\n",
    "        return total\n",
    "\n",
    "roman_numeral = 'LVIII'\n",
    "roman_numeral = 'MCMXCIV'\n",
    "s = Solution()\n",
    "s.romanToInt(roman_numeral)\n"
   ]
  },
  {
   "cell_type": "markdown",
   "metadata": {},
   "source": [
    "14. Longest Common Prefix\n",
    "https://leetcode.com/problems/longest-common-prefix/"
   ]
  },
  {
   "cell_type": "code",
   "execution_count": 24,
   "metadata": {},
   "outputs": [
    {
     "data": {
      "text/plain": [
       "'fl'"
      ]
     },
     "execution_count": 24,
     "metadata": {},
     "output_type": "execute_result"
    }
   ],
   "source": [
    "class Solution:\n",
    "    def longestCommonPrefix(self, strs: List[str]) -> str:\n",
    "        prefix = strs[0]\n",
    "        prelen = len(strs[0])\n",
    "\n",
    "        for s in strs[1:]:\n",
    "            while prefix != s[:prelen]:\n",
    "                prefix = prefix[:prelen-1]\n",
    "                prelen -= 1\n",
    "\n",
    "                if prelen == 0:\n",
    "                    prefix = ''\n",
    "        return prefix\n",
    "\n",
    "\n",
    "strs = [\"flower\",\"flow\",\"flight\"]\n",
    "# strs = [\"dog\",\"racecar\",\"car\"]\n",
    "s = Solution()\n",
    "s.longestCommonPrefix(strs)"
   ]
  },
  {
   "cell_type": "code",
   "execution_count": 2,
   "metadata": {},
   "outputs": [
    {
     "data": {
      "text/plain": [
       "0.5714285714285714"
      ]
     },
     "execution_count": 2,
     "metadata": {},
     "output_type": "execute_result"
    }
   ],
   "source": [
    " 4 / 7"
   ]
  },
  {
   "cell_type": "code",
   "execution_count": null,
   "metadata": {},
   "outputs": [],
   "source": []
  }
 ],
 "metadata": {
  "kernelspec": {
   "display_name": "python_sql_venv",
   "language": "python",
   "name": "python3"
  },
  "language_info": {
   "codemirror_mode": {
    "name": "ipython",
    "version": 3
   },
   "file_extension": ".py",
   "mimetype": "text/x-python",
   "name": "python",
   "nbconvert_exporter": "python",
   "pygments_lexer": "ipython3",
   "version": "3.11.2"
  },
  "orig_nbformat": 4,
  "vscode": {
   "interpreter": {
    "hash": "d069d7a1948727279f2cf1fb753e38696f857060f508c2c6fffe28efce4c20be"
   }
  }
 },
 "nbformat": 4,
 "nbformat_minor": 2
}
