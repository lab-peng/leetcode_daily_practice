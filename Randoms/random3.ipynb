{
 "cells": [
  {
   "cell_type": "code",
   "execution_count": 1,
   "metadata": {},
   "outputs": [],
   "source": [
    "from typing import List, Optional"
   ]
  },
  {
   "cell_type": "code",
   "execution_count": 2,
   "metadata": {},
   "outputs": [],
   "source": [
    "# 1572. Matrix Diagonal Sum\n",
    "# https://leetcode.com/problems/matrix-diagonal-sum/\n",
    "class Solution:\n",
    "    def diagonalSum(self, mat: List[List[int]]) -> int:\n",
    "        n = len(mat)\n",
    "        ans = 0\n",
    "        for i in range(n):\n",
    "            ans += mat[i][i]\n",
    "\n",
    "        for i in range(n):\n",
    "            ans += mat[i][n - i - 1]\n",
    "\n",
    "        if n & 1 != 0:\n",
    "            ans -= mat[i // 2][i // 2]\n",
    "        return ans\n",
    "        \n",
    "        # n = len(mat)\n",
    "        # i, j, k, ans = 0, n - 1, 0, 0\n",
    "        # while i < n:\n",
    "        #     if j != k:\n",
    "        #         ans += (mat[i][k] + mat[i][j])\n",
    "        #     else:\n",
    "        #         ans += mat[i][j]\n",
    "        #     i += 1\n",
    "        #     k += 1\n",
    "        #     j -= 1\n",
    "        # return ans\n",
    "\n",
    "s = Solution()\n",
    "assert s.diagonalSum(mat = [[1,2,3],\n",
    "       [4,5,6],\n",
    "       [7,8,9]]) == 25\n",
    "assert s.diagonalSum(mat = [[1,1,1,1],\n",
    "        [1,1,1,1],\n",
    "        [1,1,1,1],\n",
    "        [1,1,1,1]]) == 8\n",
    "assert s.diagonalSum(mat = [[5]]) == 5\n",
    "# mat[0][2]\n",
    "# mat[1][1]\n",
    "# mat[2][0]"
   ]
  },
  {
   "cell_type": "code",
   "execution_count": 3,
   "metadata": {},
   "outputs": [
    {
     "data": {
      "text/plain": [
       "7"
      ]
     },
     "execution_count": 3,
     "metadata": {},
     "output_type": "execute_result"
    }
   ],
   "source": [
    "# 2140. Solving Questions With Brainpower\n",
    "# https://leetcode.com/problems/solving-questions-with-brainpower/\n",
    "\n",
    "class Solution:\n",
    "    def mostPoints(self, questions: List[List[int]]) -> int:\n",
    "        i, j, k = 0, 1, 2\n",
    "        I, J, K = 0, 0, 0\n",
    "        ln = len(questions)\n",
    "        while i < ln:\n",
    "            I += questions[i][0]\n",
    "            i += 3\n",
    "        while j < ln:\n",
    "            J += questions[j][0]\n",
    "            j += 3\n",
    "        while k < ln:\n",
    "            K += questions[k][0]\n",
    "            k += 3\n",
    "        return max(I, J, K)\n",
    "\n",
    "\n",
    "\n",
    "questions = [[1,1],[2,2],[3,3],[4,4],[5,5]]\n",
    "s = Solution()\n",
    "s.mostPoints(questions)\n"
   ]
  },
  {
   "cell_type": "code",
   "execution_count": 4,
   "metadata": {},
   "outputs": [
    {
     "data": {
      "text/plain": [
       "'bb'"
      ]
     },
     "execution_count": 4,
     "metadata": {},
     "output_type": "execute_result"
    }
   ],
   "source": [
    "class Solution:\n",
    "    def longestPalindrome(self, s: str) -> str:\n",
    "        n = len(s)\n",
    "        tab = [[0] * n for _ in range(n)]\n",
    "        for d in range(n):\n",
    "            for r in range(n - d):\n",
    "                c = r + d\n",
    "                if c == r:\n",
    "                    tab[r][c] = 1\n",
    "                    start, end = r, c\n",
    "                elif c - r == 1:\n",
    "                    if s[r] == s[c]:\n",
    "                        tab[r][c] = 1\n",
    "                        start, end = r, c\n",
    "                else:\n",
    "                    if s[r] == s[c] and tab[r + 1][c - 1]:\n",
    "                        tab[r][c] = 1\n",
    "                        start, end = r, c\n",
    "                # print(r, c, s[r] == s[c], tab)\n",
    "        return s[start: end + 1]\n",
    "\n",
    "sln = Solution()\n",
    "sln.longestPalindrome('cbbd')"
   ]
  },
  {
   "cell_type": "code",
   "execution_count": null,
   "metadata": {},
   "outputs": [],
   "source": []
  },
  {
   "cell_type": "code",
   "execution_count": 5,
   "metadata": {},
   "outputs": [
    {
     "data": {
      "text/plain": [
       "1"
      ]
     },
     "execution_count": 5,
     "metadata": {},
     "output_type": "execute_result"
    }
   ],
   "source": [
    "class Solution:\n",
    "    def evalRPN(self, tokens: List[str]) -> int:\n",
    "        from operator import add, mul, sub\n",
    "        ops = {\n",
    "            '+': add, \n",
    "            '-': sub,\n",
    "            '*': mul,\n",
    "            '/': (lambda x, y: int(x / y))\n",
    "               }\n",
    "        stack = []\n",
    "        for t in tokens:\n",
    "            if t in ops:\n",
    "                right = stack.pop()\n",
    "                left = stack.pop()\n",
    "                value = ops[t](left, right)\n",
    "                stack.append(value)\n",
    "            else:\n",
    "                stack.append(int(t))\n",
    "        return stack[0]\n",
    "        \n",
    "\n",
    "tokens = [\"2\",\"1\",\"+\",\"3\",\"*\"]\n",
    "tokens = [\"10\",\"6\",\"9\",\"3\",\"+\",\"-11\",\"*\",\"/\",\"*\",\"17\",\"+\",\"5\",\"+\"]\n",
    "tokens = [\"4\",\"3\",\"-\"]\n",
    "\n",
    "sln = Solution()\n",
    "sln.evalRPN(tokens)"
   ]
  },
  {
   "cell_type": "code",
   "execution_count": 6,
   "metadata": {},
   "outputs": [
    {
     "data": {
      "text/plain": [
       "{'eat', 'oath'}"
      ]
     },
     "execution_count": 6,
     "metadata": {},
     "output_type": "execute_result"
    }
   ],
   "source": [
    "# Word Search II\n",
    "# https://www.youtube.com/watch?v=3Tte86twOJ0\n",
    "class Trie:\n",
    "    def __init__(self):\n",
    "        self.d = {}\n",
    "        self.is_word = False\n",
    "\n",
    "\n",
    "class Solution:\n",
    "    def findWords(self, board: List[List[str]], words: List[str]) -> List[str]:\n",
    "        rows, cols = len(board), len(board[0])\n",
    "\n",
    "        ### construct trie\n",
    "        trie = Trie()\n",
    "        for word in words:\n",
    "            crt = trie\n",
    "            for c in word:\n",
    "                if c not in crt.d:\n",
    "                    crt.d[c] = Trie()\n",
    "                crt = crt.d[c]\n",
    "            crt.is_word = True\n",
    "\n",
    "\n",
    "        ### dfs branching algo\n",
    "        def dfs(row, col, node, path):\n",
    "            if node.is_word:\n",
    "                ans.add(path)\n",
    "\n",
    "            if node.d:\n",
    "                for r, c in [(row - 1, col), (row + 1, col), (row, col + 1), (row, col - 1)]:\n",
    "                    if 0 <= r < rows and 0 <= c < cols:\n",
    "                        char = board[r][c]\n",
    "                        if (r, c) not in visited and char in node.d:\n",
    "                            visited.add((r, c))\n",
    "                            if dfs(r, c, node.d[char], path + char):\n",
    "                                # if the branch is completed, throw it away !  \n",
    "                                node.d.pop(char)\n",
    "                            visited.remove((r, c))  # backtrack\n",
    "            return not node.d # keep the branch only if not empty (this will backprop to top nodes)\n",
    "            # # by structure, a leaf node can only be either a word end, or a branch we started popping already.\n",
    "            \n",
    "        ans = set() \n",
    "        for r in range(rows):\n",
    "            for c in range(cols):\n",
    "                char = board[r][c]\n",
    "                if char in trie.d:\n",
    "                    visited = set([(r, c)])\n",
    "                    dfs(r, c, trie.d[char], char)\n",
    "\n",
    "        return ans\n",
    "    \n",
    "sln = Solution()\n",
    "sln.findWords(board = [[\"o\",\"a\",\"a\",\"n\"],[\"e\",\"t\",\"a\",\"e\"],[\"i\",\"h\",\"k\",\"r\"],[\"i\",\"f\",\"l\",\"v\"]], words = [\"oath\",\"pea\",\"eat\",\"rain\"])\n"
   ]
  },
  {
   "cell_type": "code",
   "execution_count": 7,
   "metadata": {},
   "outputs": [],
   "source": [
    "from collections import defaultdict"
   ]
  },
  {
   "cell_type": "code",
   "execution_count": 8,
   "metadata": {},
   "outputs": [],
   "source": [
    "Trie = lambda: defaultdict(Trie)\n",
    "root = Trie()\n",
    "\n",
    "word = 'ea'\n",
    "crt = root\n",
    "for c in word: \n",
    "    crt = crt[c]\n",
    "crt['$'] = word\n"
   ]
  },
  {
   "cell_type": "code",
   "execution_count": 9,
   "metadata": {},
   "outputs": [
    {
     "name": "stdout",
     "output_type": "stream",
     "text": [
      "{'o': {'a': {'t': {'h': {'$': 'oath'}}}}, 'p': {'e': {'a': {'$': 'pea'}}}, 'e': {'a': {'t': {'$': 'eat'}}}, 'r': {'a': {'i': {'n': {'$': 'rain'}}}}}\n"
     ]
    }
   ],
   "source": [
    "Trie = lambda: {}\n",
    "root = Trie()\n",
    "\n",
    "word = 'oath'\n",
    "words = [\"oath\",\"pea\",\"eat\",\"rain\"]\n",
    "def add(word):\n",
    "    crt = root\n",
    "    for c in word: \n",
    "        if c not in crt:\n",
    "            crt[c] = {}\n",
    "        crt = crt[c]\n",
    "    crt['$'] = word\n",
    "for word in words:\n",
    "    add(word)\n",
    "\n",
    "print(root)"
   ]
  },
  {
   "cell_type": "code",
   "execution_count": 10,
   "metadata": {},
   "outputs": [
    {
     "data": {
      "text/plain": [
       "False"
      ]
     },
     "execution_count": 10,
     "metadata": {},
     "output_type": "execute_result"
    }
   ],
   "source": [
    "not any([0, 0, 0, -1])"
   ]
  },
  {
   "cell_type": "code",
   "execution_count": 11,
   "metadata": {},
   "outputs": [
    {
     "data": {
      "text/plain": [
       "True"
      ]
     },
     "execution_count": 11,
     "metadata": {},
     "output_type": "execute_result"
    }
   ],
   "source": [
    "not any([0, 0, 0, 0])"
   ]
  },
  {
   "cell_type": "code",
   "execution_count": 12,
   "metadata": {},
   "outputs": [],
   "source": [
    "# \\\\host_name\\c$"
   ]
  },
  {
   "cell_type": "code",
   "execution_count": 13,
   "metadata": {},
   "outputs": [
    {
     "name": "stdout",
     "output_type": "stream",
     "text": [
      "[1, 2, 3]\n",
      "[]\n",
      "[]\n"
     ]
    }
   ],
   "source": [
    "nums = [1, 2, 3]\n",
    "print(nums)\n",
    "vals = nums\n",
    "del vals[:]\n",
    "print(nums)\n",
    "print(vals)"
   ]
  },
  {
   "cell_type": "code",
   "execution_count": 14,
   "metadata": {},
   "outputs": [
    {
     "name": "stdout",
     "output_type": "stream",
     "text": [
      "1\n",
      "1\n",
      "0 1\n"
     ]
    }
   ],
   "source": [
    "a, b = 1, 0\n",
    "a = a ^ b\n",
    "print(a)\n",
    "b = a ^ b\n",
    "print(b)\n",
    "a = a ^ b\n",
    "print(a, b)"
   ]
  },
  {
   "cell_type": "code",
   "execution_count": 15,
   "metadata": {},
   "outputs": [
    {
     "name": "stdout",
     "output_type": "stream",
     "text": [
      "0 [1, 1, 2]\n",
      "1 [1, 1, 1, 2]\n"
     ]
    }
   ],
   "source": [
    "lst = [1, 2]\n",
    "for v in range(2):\n",
    "    lst.insert(-1, lst[v])\n",
    "    print(v, lst)"
   ]
  },
  {
   "cell_type": "code",
   "execution_count": 16,
   "metadata": {},
   "outputs": [
    {
     "data": {
      "text/plain": [
       "[1, 5, 2]"
      ]
     },
     "execution_count": 16,
     "metadata": {},
     "output_type": "execute_result"
    }
   ],
   "source": [
    "x = [1, 2]\n",
    "x.insert(1, 5)\n",
    "x"
   ]
  },
  {
   "cell_type": "code",
   "execution_count": 30,
   "metadata": {},
   "outputs": [
    {
     "name": "stdout",
     "output_type": "stream",
     "text": [
      "Welcome to the White Pool!\n"
     ]
    }
   ],
   "source": [
    "import abc\n",
    "\n",
    "class BluePrint(abc.ABC):\n",
    "    @abc.abstractmethod\n",
    "    def hello(self):\n",
    "        pass\n",
    "\n",
    "class WhitePool(BluePrint):\n",
    "    def hello(self):\n",
    "        print('Welcome to the White Pool!')\n",
    "\n",
    "wp = WhitePool()\n",
    "wp.hello()\n",
    "\n",
    "# isinstance(wp, WhitePool)\n",
    "# WhitePool.__instancecheck__(wp)"
   ]
  },
  {
   "cell_type": "code",
   "execution_count": 27,
   "metadata": {},
   "outputs": [
    {
     "ename": "OwnMath",
     "evalue": "",
     "output_type": "error",
     "traceback": [
      "\u001b[1;31m---------------------------------------------------------------------------\u001b[0m",
      "\u001b[1;31mZeroDivisionError\u001b[0m                         Traceback (most recent call last)",
      "Cell \u001b[1;32mIn[27], line 6\u001b[0m, in \u001b[0;36mcalculate_value\u001b[1;34m(numerator, denominator)\u001b[0m\n\u001b[0;32m      5\u001b[0m \u001b[38;5;28;01mtry\u001b[39;00m:\n\u001b[1;32m----> 6\u001b[0m     value \u001b[38;5;241m=\u001b[39m \u001b[43mnumerator\u001b[49m\u001b[43m \u001b[49m\u001b[38;5;241;43m/\u001b[39;49m\u001b[43m \u001b[49m\u001b[43mdenominator\u001b[49m\n\u001b[0;32m      7\u001b[0m \u001b[38;5;28;01mexcept\u001b[39;00m \u001b[38;5;167;01mZeroDivisionError\u001b[39;00m \u001b[38;5;28;01mas\u001b[39;00m e:\n",
      "\u001b[1;31mZeroDivisionError\u001b[0m: division by zero",
      "\nThe above exception was the direct cause of the following exception:\n",
      "\u001b[1;31mOwnMath\u001b[0m                                   Traceback (most recent call last)",
      "Cell \u001b[1;32mIn[27], line 11\u001b[0m\n\u001b[0;32m      8\u001b[0m         \u001b[38;5;28;01mraise\u001b[39;00m OwnMath \u001b[38;5;28;01mfrom\u001b[39;00m \u001b[38;5;21;01me\u001b[39;00m\n\u001b[0;32m      9\u001b[0m     \u001b[38;5;28;01mreturn\u001b[39;00m value\n\u001b[1;32m---> 11\u001b[0m \u001b[43mcalculate_value\u001b[49m\u001b[43m(\u001b[49m\u001b[38;5;241;43m4\u001b[39;49m\u001b[43m,\u001b[49m\u001b[43m \u001b[49m\u001b[38;5;241;43m0\u001b[39;49m\u001b[43m)\u001b[49m\n",
      "Cell \u001b[1;32mIn[27], line 8\u001b[0m, in \u001b[0;36mcalculate_value\u001b[1;34m(numerator, denominator)\u001b[0m\n\u001b[0;32m      6\u001b[0m     value \u001b[38;5;241m=\u001b[39m numerator \u001b[38;5;241m/\u001b[39m denominator\n\u001b[0;32m      7\u001b[0m \u001b[38;5;28;01mexcept\u001b[39;00m \u001b[38;5;167;01mZeroDivisionError\u001b[39;00m \u001b[38;5;28;01mas\u001b[39;00m e:\n\u001b[1;32m----> 8\u001b[0m     \u001b[38;5;28;01mraise\u001b[39;00m OwnMath \u001b[38;5;28;01mfrom\u001b[39;00m \u001b[38;5;21;01me\u001b[39;00m\n\u001b[0;32m      9\u001b[0m \u001b[38;5;28;01mreturn\u001b[39;00m value\n",
      "\u001b[1;31mOwnMath\u001b[0m: "
     ]
    }
   ],
   "source": [
    "class OwnMath(Exception):\n",
    "    pass\n",
    "\n",
    "def calculate_value(numerator, denominator):\n",
    "    try:\n",
    "        value = numerator / denominator\n",
    "    except ZeroDivisionError as e:\n",
    "        raise OwnMath from e\n",
    "    return value\n",
    "\n",
    "calculate_value(4, 0)"
   ]
  },
  {
   "cell_type": "code",
   "execution_count": 37,
   "metadata": {},
   "outputs": [
    {
     "name": "stdout",
     "output_type": "stream",
     "text": [
      "(\"No module named 'abcdefg'\",)\n",
      "abcdefg\n",
      "None\n"
     ]
    }
   ],
   "source": [
    "try:\n",
    "    import abcdefg\n",
    "except ImportError as e:\n",
    "    print(e.args)\n",
    "    print(e.name)\n",
    "    print(e.path)"
   ]
  },
  {
   "cell_type": "code",
   "execution_count": 40,
   "metadata": {},
   "outputs": [
    {
     "name": "stdout",
     "output_type": "stream",
     "text": [
      "Final check procedure\n",
      "\tThe captain's name is John\n",
      "\tThe pilot's name is Mary\n",
      "\tThe mechanic's name is Mike\n",
      "Crew is incomplete\n",
      "list index out of range\n"
     ]
    }
   ],
   "source": [
    "class RocketNotReadyError(Exception):\n",
    "    pass\n",
    "\n",
    "\n",
    "def personnel_check():\n",
    "    try:\n",
    "        print(\"\\tThe captain's name is\", crew[0])\n",
    "        print(\"\\tThe pilot's name is\", crew[1])\n",
    "        print(\"\\tThe mechanic's name is\", crew[2])\n",
    "        print(\"\\tThe navigator's name is\", crew[3])\n",
    "    except IndexError as e:\n",
    "        raise RocketNotReadyError('Crew is incomplete') from e\n",
    "\n",
    "crew = ['John', 'Mary', 'Mike']\n",
    "print('Final check procedure')\n",
    "\n",
    "# personnel_check()\n",
    "\n",
    "try:\n",
    "    personnel_check()\n",
    "except RocketNotReadyError as e:\n",
    "    print(e)\n",
    "    print(e.__cause__)"
   ]
  },
  {
   "cell_type": "code",
   "execution_count": 41,
   "metadata": {},
   "outputs": [
    {
     "name": "stdout",
     "output_type": "stream",
     "text": [
      "Final check procedure\n",
      "\tThe captain's name is John\n",
      "\tThe pilot's name is Mary\n",
      "\tThe mechanic's name is Mike\n",
      "RocketNotReady exception: \"Crew is incomplete\", caused by \"list index out of range\"\n",
      "RocketNotReady exception: \"Problem with fuel gauge\", caused by \"division by zero\"\n"
     ]
    }
   ],
   "source": [
    "class RocketNotReadyError(Exception):\n",
    "    pass\n",
    "\n",
    "\n",
    "def personnel_check():\n",
    "    try:\n",
    "        print(\"\\tThe captain's name is\", crew[0])\n",
    "        print(\"\\tThe pilot's name is\", crew[1])\n",
    "        print(\"\\tThe mechanic's name is\", crew[2])\n",
    "        print(\"\\tThe navigator's name is\", crew[3])\n",
    "    except IndexError as e:\n",
    "        raise RocketNotReadyError('Crew is incomplete') from e\n",
    "\n",
    "\n",
    "def fuel_check():\n",
    "    try:\n",
    "        print('Fuel tank is full in {}%'.format(100 / 0))\n",
    "    except ZeroDivisionError as e:\n",
    "        raise RocketNotReadyError('Problem with fuel gauge') from e\n",
    "\n",
    "\n",
    "crew = ['John', 'Mary', 'Mike']\n",
    "fuel = 100\n",
    "check_list = [personnel_check, fuel_check]\n",
    "\n",
    "print('Final check procedure')\n",
    "\n",
    "for check in check_list:\n",
    "    try:\n",
    "        check()\n",
    "    except RocketNotReadyError as f:\n",
    "        print('RocketNotReady exception: \"{}\", caused by \"{}\"'.format(f, f.__cause__))"
   ]
  },
  {
   "cell_type": "code",
   "execution_count": 44,
   "metadata": {},
   "outputs": [
    {
     "name": "stdout",
     "output_type": "stream",
     "text": [
      "Single reference copy\n",
      "Execution time: 0.0\n",
      "Memory chunks: 1696142868416 1696142868416\n",
      "Same memory chunk? True\n",
      "\n",
      "Shallow copy\n",
      "Execution time: 0.005\n",
      "Memory chunks: 1696142868416 1696148792832\n",
      "Same memory chunk? False\n",
      "\n",
      "Deep copy\n",
      "Execution time: 4.231\n",
      "Memory chunks: 1696142868416 1696149579200\n",
      "Same memory chunk? False\n"
     ]
    }
   ],
   "source": [
    "import copy\n",
    "import time\n",
    "\n",
    "a_list = [(1,2,3) for x in range(1_000_000)]\n",
    "\n",
    "print('Single reference copy')\n",
    "time_start = time.time()\n",
    "b_list = a_list\n",
    "print('Execution time:', round(time.time() - time_start, 3))\n",
    "print('Memory chunks:', id(a_list), id(b_list))\n",
    "print('Same memory chunk?', a_list is b_list)\n",
    "\n",
    "print()\n",
    "\n",
    "print('Shallow copy')\n",
    "time_start = time.time()\n",
    "b_list = a_list[:]\n",
    "print('Execution time:', round(time.time() - time_start, 3))\n",
    "print('Memory chunks:', id(a_list), id(b_list))\n",
    "print('Same memory chunk?', a_list is b_list)\n",
    "\n",
    "print()\n",
    "\n",
    "print('Deep copy')\n",
    "time_start = time.time()\n",
    "b_list = copy.deepcopy(a_list)\n",
    "print('Execution time:', round(time.time() - time_start, 3))\n",
    "print('Memory chunks:', id(a_list), id(b_list))\n",
    "print('Same memory chunk?', a_list is b_list)"
   ]
  },
  {
   "cell_type": "code",
   "execution_count": 53,
   "metadata": {},
   "outputs": [
    {
     "name": "stdout",
     "output_type": "stream",
     "text": [
      "[name: Lolly Pop, price: 0.4, weight: 133, liked by: ['Adam', 'Eve']] [name: Lolly Pop, price: 0.4, weight: 1000, liked by: ['Adam', 'Eve']] 1696141815120 1696149472592\n",
      "[name: Licorice, price: 0.1, weight: 251, liked by: ['Adam']] [name: Licorice, price: 0.1, weight: 1000, liked by: ['Adam', 'Eve']] 1696142277840 1696149090128\n"
     ]
    }
   ],
   "source": [
    "import copy\n",
    "\n",
    "class Delicacy:\n",
    "    def __init__(self, name, price, weight, liked) -> None:\n",
    "        self.name = name\n",
    "        self.price = price\n",
    "        self.weight = weight\n",
    "        self.liked = liked\n",
    "\n",
    "    def __str__(self) -> str:\n",
    "        return f'[name: {self.name}, price: {self.price}, weight: {self.weight}, liked by: {self.liked}]'\n",
    "    \n",
    "lolly = Delicacy('Lolly Pop', 0.4, 133, ['Adam'])\n",
    "licorice = Delicacy('Licorice', 0.1, 251, ['Adam'])\n",
    "\n",
    "lolly_cp = copy.copy(lolly)\n",
    "licorice_cp = copy.deepcopy(licorice)\n",
    "\n",
    "lolly_cp.weight = 1000\n",
    "lolly_cp.liked.append('Eve')\n",
    "print(lolly, lolly_cp, id(lolly), id(lolly_cp))\n",
    "\n",
    "licorice_cp.weight = 1000\n",
    "licorice_cp.liked.append('Eve')\n",
    "print(licorice, licorice_cp, id(licorice), id(licorice_cp))\n"
   ]
  },
  {
   "cell_type": "code",
   "execution_count": 1,
   "metadata": {},
   "outputs": [
    {
     "name": "stdout",
     "output_type": "stream",
     "text": [
      "{4: 1, 2: 0.5}\n",
      "{4: 1, 2: 0.5, 'China': 'Beijing'}\n"
     ]
    }
   ],
   "source": [
    "class OwnDict(dict):\n",
    "    def __setitem__(self, _key, _val):\n",
    "        super().__setitem__(_key, _val)\n",
    "    \n",
    "    def update(self, *args, **kwargs):\n",
    "        for _key, _val in dict(*args, **kwargs).items():\n",
    "            self.__setitem__(_key, _val)\n",
    "own_dict = OwnDict()\n",
    "own_dict[4] = 1\n",
    "own_dict[2] = 0.5\n",
    "print(own_dict)\n",
    "\n",
    "own_dict.update({'China': 'Beijing'})\n",
    "print(own_dict)"
   ]
  },
  {
   "cell_type": "code",
   "execution_count": 4,
   "metadata": {},
   "outputs": [
    {
     "name": "stdout",
     "output_type": "stream",
     "text": [
      "Help on function func in module __main__:\n",
      "\n",
      "func()\n",
      "    hello this function is about blah blah\n",
      "\n"
     ]
    }
   ],
   "source": [
    "def func():\n",
    "    \"\"\"\n",
    "    hello this function is about blah blah\n",
    "    \"\"\"\n",
    "\n",
    "help(func)"
   ]
  },
  {
   "cell_type": "code",
   "execution_count": 5,
   "metadata": {},
   "outputs": [
    {
     "name": "stdout",
     "output_type": "stream",
     "text": [
      "The Zen of Python, by Tim Peters\n",
      "\n",
      "Beautiful is better than ugly.\n",
      "Explicit is better than implicit.\n",
      "Simple is better than complex.\n",
      "Complex is better than complicated.\n",
      "Flat is better than nested.\n",
      "Sparse is better than dense.\n",
      "Readability counts.\n",
      "Special cases aren't special enough to break the rules.\n",
      "Although practicality beats purity.\n",
      "Errors should never pass silently.\n",
      "Unless explicitly silenced.\n",
      "In the face of ambiguity, refuse the temptation to guess.\n",
      "There should be one-- and preferably only one --obvious way to do it.\n",
      "Although that way may not be obvious at first unless you're Dutch.\n",
      "Now is better than never.\n",
      "Although never is often better than *right* now.\n",
      "If the implementation is hard to explain, it's a bad idea.\n",
      "If the implementation is easy to explain, it may be a good idea.\n",
      "Namespaces are one honking great idea -- let's do more of those!\n"
     ]
    }
   ],
   "source": [
    "import this"
   ]
  },
  {
   "cell_type": "code",
   "execution_count": 16,
   "metadata": {},
   "outputs": [
    {
     "name": "stdout",
     "output_type": "stream",
     "text": [
      "[1, 2, 3]\n"
     ]
    }
   ],
   "source": [
    "dct = {1: 2, 2: 4}\n",
    "lst = [1, 2, 3]\n",
    "import json\n",
    "\n",
    "json_data = json.dumps(lst)\n",
    "print(json_data)"
   ]
  },
  {
   "cell_type": "code",
   "execution_count": null,
   "metadata": {},
   "outputs": [],
   "source": []
  }
 ],
 "metadata": {
  "kernelspec": {
   "display_name": "Python 3",
   "language": "python",
   "name": "python3"
  },
  "language_info": {
   "codemirror_mode": {
    "name": "ipython",
    "version": 3
   },
   "file_extension": ".py",
   "mimetype": "text/x-python",
   "name": "python",
   "nbconvert_exporter": "python",
   "pygments_lexer": "ipython3",
   "version": "3.11.2"
  },
  "orig_nbformat": 4
 },
 "nbformat": 4,
 "nbformat_minor": 2
}
