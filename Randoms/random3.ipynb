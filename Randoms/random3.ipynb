{
 "cells": [
  {
   "cell_type": "code",
   "execution_count": 9,
   "metadata": {},
   "outputs": [],
   "source": [
    "from typing import List, Optional"
   ]
  },
  {
   "cell_type": "code",
   "execution_count": 11,
   "metadata": {},
   "outputs": [],
   "source": [
    "# 1572. Matrix Diagonal Sum\n",
    "# https://leetcode.com/problems/matrix-diagonal-sum/\n",
    "class Solution:\n",
    "    def diagonalSum(self, mat: List[List[int]]) -> int:\n",
    "        n = len(mat)\n",
    "        ans = 0\n",
    "        for i in range(n):\n",
    "            ans += mat[i][i]\n",
    "\n",
    "        for i in range(n):\n",
    "            ans += mat[i][n - i - 1]\n",
    "\n",
    "        if n & 1 != 0:\n",
    "            ans -= mat[i // 2][i // 2]\n",
    "        return ans\n",
    "        \n",
    "        # n = len(mat)\n",
    "        # i, j, k, ans = 0, n - 1, 0, 0\n",
    "        # while i < n:\n",
    "        #     if j != k:\n",
    "        #         ans += (mat[i][k] + mat[i][j])\n",
    "        #     else:\n",
    "        #         ans += mat[i][j]\n",
    "        #     i += 1\n",
    "        #     k += 1\n",
    "        #     j -= 1\n",
    "        # return ans\n",
    "\n",
    "s = Solution()\n",
    "assert s.diagonalSum(mat = [[1,2,3],\n",
    "       [4,5,6],\n",
    "       [7,8,9]]) == 25\n",
    "assert s.diagonalSum(mat = [[1,1,1,1],\n",
    "        [1,1,1,1],\n",
    "        [1,1,1,1],\n",
    "        [1,1,1,1]]) == 8\n",
    "assert s.diagonalSum(mat = [[5]]) == 5\n",
    "# mat[0][2]\n",
    "# mat[1][1]\n",
    "# mat[2][0]"
   ]
  },
  {
   "cell_type": "code",
   "execution_count": 67,
   "metadata": {},
   "outputs": [
    {
     "name": "stdout",
     "output_type": "stream",
     "text": [
      "1\n",
      "4\n"
     ]
    },
    {
     "data": {
      "text/plain": [
       "7"
      ]
     },
     "execution_count": 67,
     "metadata": {},
     "output_type": "execute_result"
    }
   ],
   "source": [
    "# 2140. Solving Questions With Brainpower\n",
    "# https://leetcode.com/problems/solving-questions-with-brainpower/\n",
    "\n",
    "class Solution:\n",
    "    def mostPoints(self, questions: List[List[int]]) -> int:\n",
    "        i, j, k = 0, 1, 2\n",
    "        I, J, K = 0, 0, 0\n",
    "        ln = len(questions)\n",
    "        while i < ln:\n",
    "            I += questions[i][0]\n",
    "            i += 3\n",
    "        while j < ln:\n",
    "            J += questions[j][0]\n",
    "            j += 3\n",
    "        while k < ln:\n",
    "            K += questions[k][0]\n",
    "            k += 3\n",
    "        return max(I, J, K)\n",
    "\n",
    "\n",
    "\n",
    "questions = [[1,1],[2,2],[3,3],[4,4],[5,5]]\n",
    "s = Solution()\n",
    "s.mostPoints(questions)\n"
   ]
  },
  {
   "cell_type": "code",
   "execution_count": 25,
   "metadata": {},
   "outputs": [
    {
     "data": {
      "text/plain": [
       "'bb'"
      ]
     },
     "execution_count": 25,
     "metadata": {},
     "output_type": "execute_result"
    }
   ],
   "source": [
    "class Solution:\n",
    "    def longestPalindrome(self, s: str) -> str:\n",
    "        n = len(s)\n",
    "        tab = [[0] * n for _ in range(n)]\n",
    "        for d in range(n):\n",
    "            for r in range(n - d):\n",
    "                c = r + d\n",
    "                if c == r:\n",
    "                    tab[r][c] = 1\n",
    "                    start, end = r, c\n",
    "                elif c - r == 1:\n",
    "                    if s[r] == s[c]:\n",
    "                        tab[r][c] = 1\n",
    "                        start, end = r, c\n",
    "                else:\n",
    "                    if s[r] == s[c] and tab[r + 1][c - 1]:\n",
    "                        tab[r][c] = 1\n",
    "                        start, end = r, c\n",
    "                # print(r, c, s[r] == s[c], tab)\n",
    "        return s[start: end + 1]\n",
    "\n",
    "sln = Solution()\n",
    "sln.longestPalindrome('cbbd')"
   ]
  },
  {
   "cell_type": "code",
   "execution_count": null,
   "metadata": {},
   "outputs": [],
   "source": []
  }
 ],
 "metadata": {
  "kernelspec": {
   "display_name": "Python 3",
   "language": "python",
   "name": "python3"
  },
  "language_info": {
   "codemirror_mode": {
    "name": "ipython",
    "version": 3
   },
   "file_extension": ".py",
   "mimetype": "text/x-python",
   "name": "python",
   "nbconvert_exporter": "python",
   "pygments_lexer": "ipython3",
   "version": "3.11.2"
  },
  "orig_nbformat": 4
 },
 "nbformat": 4,
 "nbformat_minor": 2
}
