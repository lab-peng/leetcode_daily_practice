{
 "cells": [
  {
   "cell_type": "code",
   "execution_count": 3,
   "metadata": {},
   "outputs": [],
   "source": [
    "from typing import List, Optional"
   ]
  },
  {
   "cell_type": "code",
   "execution_count": 11,
   "metadata": {},
   "outputs": [],
   "source": [
    "# 1572. Matrix Diagonal Sum\n",
    "# https://leetcode.com/problems/matrix-diagonal-sum/\n",
    "class Solution:\n",
    "    def diagonalSum(self, mat: List[List[int]]) -> int:\n",
    "        n = len(mat)\n",
    "        ans = 0\n",
    "        for i in range(n):\n",
    "            ans += mat[i][i]\n",
    "\n",
    "        for i in range(n):\n",
    "            ans += mat[i][n - i - 1]\n",
    "\n",
    "        if n & 1 != 0:\n",
    "            ans -= mat[i // 2][i // 2]\n",
    "        return ans\n",
    "        \n",
    "        # n = len(mat)\n",
    "        # i, j, k, ans = 0, n - 1, 0, 0\n",
    "        # while i < n:\n",
    "        #     if j != k:\n",
    "        #         ans += (mat[i][k] + mat[i][j])\n",
    "        #     else:\n",
    "        #         ans += mat[i][j]\n",
    "        #     i += 1\n",
    "        #     k += 1\n",
    "        #     j -= 1\n",
    "        # return ans\n",
    "\n",
    "s = Solution()\n",
    "assert s.diagonalSum(mat = [[1,2,3],\n",
    "       [4,5,6],\n",
    "       [7,8,9]]) == 25\n",
    "assert s.diagonalSum(mat = [[1,1,1,1],\n",
    "        [1,1,1,1],\n",
    "        [1,1,1,1],\n",
    "        [1,1,1,1]]) == 8\n",
    "assert s.diagonalSum(mat = [[5]]) == 5\n",
    "# mat[0][2]\n",
    "# mat[1][1]\n",
    "# mat[2][0]"
   ]
  },
  {
   "cell_type": "code",
   "execution_count": 67,
   "metadata": {},
   "outputs": [
    {
     "name": "stdout",
     "output_type": "stream",
     "text": [
      "1\n",
      "4\n"
     ]
    },
    {
     "data": {
      "text/plain": [
       "7"
      ]
     },
     "execution_count": 67,
     "metadata": {},
     "output_type": "execute_result"
    }
   ],
   "source": [
    "# 2140. Solving Questions With Brainpower\n",
    "# https://leetcode.com/problems/solving-questions-with-brainpower/\n",
    "\n",
    "class Solution:\n",
    "    def mostPoints(self, questions: List[List[int]]) -> int:\n",
    "        i, j, k = 0, 1, 2\n",
    "        I, J, K = 0, 0, 0\n",
    "        ln = len(questions)\n",
    "        while i < ln:\n",
    "            I += questions[i][0]\n",
    "            i += 3\n",
    "        while j < ln:\n",
    "            J += questions[j][0]\n",
    "            j += 3\n",
    "        while k < ln:\n",
    "            K += questions[k][0]\n",
    "            k += 3\n",
    "        return max(I, J, K)\n",
    "\n",
    "\n",
    "\n",
    "questions = [[1,1],[2,2],[3,3],[4,4],[5,5]]\n",
    "s = Solution()\n",
    "s.mostPoints(questions)\n"
   ]
  },
  {
   "cell_type": "code",
   "execution_count": 25,
   "metadata": {},
   "outputs": [
    {
     "data": {
      "text/plain": [
       "'bb'"
      ]
     },
     "execution_count": 25,
     "metadata": {},
     "output_type": "execute_result"
    }
   ],
   "source": [
    "class Solution:\n",
    "    def longestPalindrome(self, s: str) -> str:\n",
    "        n = len(s)\n",
    "        tab = [[0] * n for _ in range(n)]\n",
    "        for d in range(n):\n",
    "            for r in range(n - d):\n",
    "                c = r + d\n",
    "                if c == r:\n",
    "                    tab[r][c] = 1\n",
    "                    start, end = r, c\n",
    "                elif c - r == 1:\n",
    "                    if s[r] == s[c]:\n",
    "                        tab[r][c] = 1\n",
    "                        start, end = r, c\n",
    "                else:\n",
    "                    if s[r] == s[c] and tab[r + 1][c - 1]:\n",
    "                        tab[r][c] = 1\n",
    "                        start, end = r, c\n",
    "                # print(r, c, s[r] == s[c], tab)\n",
    "        return s[start: end + 1]\n",
    "\n",
    "sln = Solution()\n",
    "sln.longestPalindrome('cbbd')"
   ]
  },
  {
   "cell_type": "code",
   "execution_count": null,
   "metadata": {},
   "outputs": [],
   "source": []
  },
  {
   "cell_type": "code",
   "execution_count": 116,
   "metadata": {},
   "outputs": [
    {
     "data": {
      "text/plain": [
       "1"
      ]
     },
     "execution_count": 116,
     "metadata": {},
     "output_type": "execute_result"
    }
   ],
   "source": [
    "class Solution:\n",
    "    def evalRPN(self, tokens: List[str]) -> int:\n",
    "        from operator import add, mul, sub\n",
    "        ops = {\n",
    "            '+': add, \n",
    "            '-': sub,\n",
    "            '*': mul,\n",
    "            '/': (lambda x, y: int(x / y))\n",
    "               }\n",
    "        stack = []\n",
    "        for t in tokens:\n",
    "            if t in ops:\n",
    "                right = stack.pop()\n",
    "                left = stack.pop()\n",
    "                value = ops[t](left, right)\n",
    "                stack.append(value)\n",
    "            else:\n",
    "                stack.append(int(t))\n",
    "        return stack[0]\n",
    "        \n",
    "\n",
    "tokens = [\"2\",\"1\",\"+\",\"3\",\"*\"]\n",
    "tokens = [\"10\",\"6\",\"9\",\"3\",\"+\",\"-11\",\"*\",\"/\",\"*\",\"17\",\"+\",\"5\",\"+\"]\n",
    "tokens = [\"4\",\"3\",\"-\"]\n",
    "\n",
    "sln = Solution()\n",
    "sln.evalRPN(tokens)"
   ]
  },
  {
   "cell_type": "code",
   "execution_count": 106,
   "metadata": {},
   "outputs": [],
   "source": [
    "def zero_div(a, b):\n",
    "    res = floordiv(a, b)\n",
    "    return res if res > 0 else 0\n",
    "    # return int(a / b)"
   ]
  },
  {
   "cell_type": "code",
   "execution_count": 110,
   "metadata": {},
   "outputs": [
    {
     "data": {
      "text/plain": [
       "0"
      ]
     },
     "execution_count": 110,
     "metadata": {},
     "output_type": "execute_result"
    }
   ],
   "source": [
    "zero_div(5, 13)"
   ]
  },
  {
   "cell_type": "code",
   "execution_count": 13,
   "metadata": {},
   "outputs": [
    {
     "data": {
      "text/plain": [
       "{'eat', 'oath'}"
      ]
     },
     "execution_count": 13,
     "metadata": {},
     "output_type": "execute_result"
    }
   ],
   "source": [
    "# Word Search II\n",
    "# https://www.youtube.com/watch?v=3Tte86twOJ0\n",
    "class Trie:\n",
    "    def __init__(self):\n",
    "        self.d = {}\n",
    "        self.is_word = False\n",
    "\n",
    "\n",
    "class Solution:\n",
    "    def findWords(self, board: List[List[str]], words: List[str]) -> List[str]:\n",
    "        rows, cols = len(board), len(board[0])\n",
    "\n",
    "        ### construct trie\n",
    "        trie = Trie()\n",
    "        for word in words:\n",
    "            crt = trie\n",
    "            for c in word:\n",
    "                if c not in crt.d:\n",
    "                    crt.d[c] = Trie()\n",
    "                crt = crt.d[c]\n",
    "            crt.is_word = True\n",
    "\n",
    "\n",
    "        ### dfs branching algo\n",
    "        def dfs(row, col, node, path):\n",
    "            if node.is_word:\n",
    "                ans.add(path)\n",
    "\n",
    "            if node.d:\n",
    "                for r, c in [(row - 1, col), (row + 1, col), (row, col + 1), (row, col - 1)]:\n",
    "                    if 0 <= r < rows and 0 <= c < cols:\n",
    "                        char = board[r][c]\n",
    "                        if (r, c) not in visited and char in node.d:\n",
    "                            visited.add((r, c))\n",
    "                            if dfs(r, c, node.d[char], path + char):\n",
    "                                # if the branch is completed, throw it away !  \n",
    "                                node.d.pop(char)\n",
    "                            visited.remove((r, c))  # backtrack\n",
    "            return not node.d # keep the branch only if not empty (this will backprop to top nodes)\n",
    "            # # by structure, a leaf node can only be either a word end, or a branch we started popping already.\n",
    "            \n",
    "        ans = set() \n",
    "        for r in range(rows):\n",
    "            for c in range(cols):\n",
    "                char = board[r][c]\n",
    "                if char in trie.d:\n",
    "                    visited = set([(r, c)])\n",
    "                    dfs(r, c, trie.d[char], char)\n",
    "\n",
    "        return ans\n",
    "    \n",
    "sln = Solution()\n",
    "sln.findWords(board = [[\"o\",\"a\",\"a\",\"n\"],[\"e\",\"t\",\"a\",\"e\"],[\"i\",\"h\",\"k\",\"r\"],[\"i\",\"f\",\"l\",\"v\"]], words = [\"oath\",\"pea\",\"eat\",\"rain\"])\n"
   ]
  },
  {
   "cell_type": "code",
   "execution_count": 20,
   "metadata": {},
   "outputs": [],
   "source": [
    "from collections import defaultdict"
   ]
  },
  {
   "cell_type": "code",
   "execution_count": 24,
   "metadata": {},
   "outputs": [],
   "source": [
    "Trie = lambda: defaultdict(Trie)\n",
    "root = Trie()\n",
    "\n",
    "word = 'ea'\n",
    "crt = root\n",
    "for c in word: \n",
    "    crt = crt[c]\n",
    "crt['$'] = word\n"
   ]
  },
  {
   "cell_type": "code",
   "execution_count": 48,
   "metadata": {},
   "outputs": [
    {
     "name": "stdout",
     "output_type": "stream",
     "text": [
      "{'o': {'a': {'t': {'h': {'$': 'oath'}}}}, 'p': {'e': {'a': {'$': 'pea'}}}, 'e': {'a': {'t': {'$': 'eat'}}}, 'r': {'a': {'i': {'n': {'$': 'rain'}}}}}\n"
     ]
    }
   ],
   "source": [
    "Trie = lambda: {}\n",
    "root = Trie()\n",
    "\n",
    "word = 'oath'\n",
    "words = [\"oath\",\"pea\",\"eat\",\"rain\"]\n",
    "def add(word):\n",
    "    crt = root\n",
    "    for c in word: \n",
    "        if c not in crt:\n",
    "            crt[c] = {}\n",
    "        crt = crt[c]\n",
    "    crt['$'] = word\n",
    "for word in words:\n",
    "    add(word)\n",
    "\n",
    "print(root)"
   ]
  },
  {
   "cell_type": "code",
   "execution_count": null,
   "metadata": {},
   "outputs": [],
   "source": []
  },
  {
   "cell_type": "code",
   "execution_count": null,
   "metadata": {},
   "outputs": [],
   "source": []
  },
  {
   "cell_type": "code",
   "execution_count": null,
   "metadata": {},
   "outputs": [],
   "source": []
  }
 ],
 "metadata": {
  "kernelspec": {
   "display_name": "Python 3",
   "language": "python",
   "name": "python3"
  },
  "language_info": {
   "codemirror_mode": {
    "name": "ipython",
    "version": 3
   },
   "file_extension": ".py",
   "mimetype": "text/x-python",
   "name": "python",
   "nbconvert_exporter": "python",
   "pygments_lexer": "ipython3",
   "version": "3.11.2"
  },
  "orig_nbformat": 4
 },
 "nbformat": 4,
 "nbformat_minor": 2
}
