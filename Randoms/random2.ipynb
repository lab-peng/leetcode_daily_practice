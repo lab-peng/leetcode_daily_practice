{
 "cells": [
  {
   "cell_type": "code",
   "execution_count": 9,
   "source": [
    "from typing import List\r\n",
    "class Solution:\r\n",
    "    def removeDuplicates(self, nums: List[int]) -> int:\r\n",
    "        \"\"\"\r\n",
    "        26. Remove Duplicates from Sorted Array\r\n",
    "        \"\"\"\r\n",
    "        l = 1\r\n",
    "        for r in range(1, len(nums)):\r\n",
    "            if nums[r] != nums[r - 1]:\r\n",
    "                nums[l] = nums[r]\r\n",
    "                l += 1\r\n",
    "        return l\r\n",
    "    \r\n",
    "nums = [0,0,1,1,1,2,2,3,3,4]\r\n",
    "s = Solution()\r\n",
    "print(s.removeDuplicates(nums))\r\n",
    "print(nums)"
   ],
   "outputs": [
    {
     "output_type": "stream",
     "name": "stdout",
     "text": [
      "5\n",
      "[0, 1, 2, 3, 4, 2, 2, 3, 3, 4]\n"
     ]
    }
   ],
   "metadata": {}
  },
  {
   "cell_type": "code",
   "execution_count": 10,
   "source": [
    "from collections import defaultdict\r\n",
    "\r\n",
    "class Solution:\r\n",
    "    def totalFruit(self, fruits: List[int]) -> int:\r\n",
    "        \"\"\" \r\n",
    "        904. Fruit Into Baskets\r\n",
    "        https://leetcode.com/problems/fruit-into-baskets/\r\n",
    "\r\n",
    "        Rephrased problem description: Find the widest sliding window \r\n",
    "        consisting of two unique elements.\r\n",
    "\r\n",
    "        \"\"\"\r\n",
    "        l, total, max_total = 0, 0, 0\r\n",
    "        counter = defaultdict(int)\r\n",
    "\r\n",
    "        for r in range(len(fruits)):\r\n",
    "            counter[fruits[r]] += 1\r\n",
    "            total += 1\r\n",
    "\r\n",
    "            if len(counter) > 2:\r\n",
    "                counter[fruits[l]] -= 1\r\n",
    "                total -= 1\r\n",
    "\r\n",
    "                if not counter[fruits[l]]:\r\n",
    "                    counter.pop(fruits[l])\r\n",
    "                    l += 1\r\n",
    "\r\n",
    "            max_total = max(max_total, total)\r\n",
    "        return max_total\r\n",
    "\r\n",
    "s = Solution()\r\n",
    "assert s.totalFruit([0,1,2,2]) == 3\r\n",
    "assert s.totalFruit([1,2,3,2,2]) == 4"
   ],
   "outputs": [],
   "metadata": {}
  },
  {
   "cell_type": "code",
   "execution_count": 11,
   "source": [
    "# Definition for a Node.\r\n",
    "class Node:\r\n",
    "    def __init__(self, val=None, children=None):\r\n",
    "        self.val = val\r\n",
    "        self.children = children\r\n",
    "\r\n",
    "class Solution:\r\n",
    "    def postorder(self, root: 'Node') -> List[int]:\r\n",
    "        \"\"\" \r\n",
    "        590. N-ary Tree Postorder Traversal\r\n",
    "        https://leetcode.com/problems/n-ary-tree-postorder-traversal/\r\n",
    "        \"\"\"\r\n",
    "        ans = []\r\n",
    "        def dfs(root):\r\n",
    "            if not root:\r\n",
    "                return\r\n",
    "            for child in root.children:\r\n",
    "                dfs(child)\r\n",
    "            ans.append(root.val)\r\n",
    "        dfs(root)\r\n",
    "\r\n",
    "        return ans"
   ],
   "outputs": [],
   "metadata": {}
  },
  {
   "cell_type": "code",
   "execution_count": 12,
   "source": [
    "from collections import deque\r\n",
    "class Solution:\r\n",
    "    def levelOrder(self, root: 'Node') -> List[List[int]]:\r\n",
    "        \"\"\" \r\n",
    "        429. N-ary Tree Level Order Traversal\r\n",
    "        https://leetcode.com/problems/n-ary-tree-level-order-traversal/\r\n",
    "        \"\"\"\r\n",
    "        ans = []\r\n",
    "        q = deque()\r\n",
    "        if root:\r\n",
    "            q.append(root)\r\n",
    "\r\n",
    "        while q:\r\n",
    "            lvl = []\r\n",
    "            for i in range(len(q)):\r\n",
    "                crt = q.popleft()\r\n",
    "                lvl.append(crt.val)\r\n",
    "                if crt.children:\r\n",
    "                    for child in crt.children:\r\n",
    "                        q.append(child)\r\n",
    "            ans.append(lvl)\r\n",
    "\r\n",
    "        return ans"
   ],
   "outputs": [],
   "metadata": {}
  },
  {
   "cell_type": "code",
   "execution_count": 13,
   "source": [
    "# string builder += is not as efficient as  [].append and ''.join([....])"
   ],
   "outputs": [],
   "metadata": {}
  },
  {
   "cell_type": "code",
   "execution_count": 14,
   "source": [
    "class Solution:\r\n",
    "    def rob(self, nums: List[int]) -> int:\r\n",
    "        \"\"\"\r\n",
    "        House Robber\r\n",
    "        https://leetcode.com/problems/house-robber/\r\n",
    "        \"\"\"\r\n",
    "        tab = [0] * len(nums)\r\n",
    "\r\n",
    "        tab[0] = nums[0]\r\n",
    "        if len(nums) > 1:\r\n",
    "            tab[1] = max(tab[0], nums[1])\r\n",
    "            for i in range(2, len(nums)):\r\n",
    "                tab[i] = max(nums[i] + tab[i-2], tab[i-1])\r\n",
    "\r\n",
    "        return tab[-1]\r\n",
    "\r\n",
    "\r\n",
    "s = Solution()\r\n",
    "assert s.rob([1, 2, 3, 1]) == 4\r\n",
    "assert s.rob([2,7,9,3,1]) == 12"
   ],
   "outputs": [],
   "metadata": {}
  },
  {
   "cell_type": "code",
   "execution_count": null,
   "source": [],
   "outputs": [],
   "metadata": {}
  },
  {
   "cell_type": "code",
   "execution_count": 15,
   "source": [
    "s = [1, 1, 2, 2, 2, 3, 3, 3]\r\n",
    "\r\n",
    "# i = 0\r\n",
    "# ln = len(s)\r\n",
    "# while i < ln:\r\n",
    "#     while s[i + 1] == s[i]:\r\n",
    "#         s[i] \r\n",
    "\r\n",
    "\r\n",
    "\r\n",
    "\r\n"
   ],
   "outputs": [],
   "metadata": {}
  },
  {
   "cell_type": "code",
   "execution_count": null,
   "source": [],
   "outputs": [],
   "metadata": {}
  }
 ],
 "metadata": {
  "kernelspec": {
   "display_name": "Python 3",
   "language": "python",
   "name": "python3"
  },
  "language_info": {
   "codemirror_mode": {
    "name": "ipython",
    "version": 3
   },
   "file_extension": ".py",
   "mimetype": "text/x-python",
   "name": "python",
   "nbconvert_exporter": "python",
   "pygments_lexer": "ipython3",
   "version": "3.11.2"
  },
  "orig_nbformat": 4,
  "vscode": {
   "interpreter": {
    "hash": "3c82aea9bf3f365190a7e416b607cf2c9372b04170f58ad31092367f98b9b5cc"
   }
  }
 },
 "nbformat": 4,
 "nbformat_minor": 2
}