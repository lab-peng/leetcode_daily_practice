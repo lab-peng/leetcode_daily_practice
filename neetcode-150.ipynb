{
 "cells": [
  {
   "attachments": {},
   "cell_type": "markdown",
   "metadata": {},
   "source": [
    "##### Array & Hashing"
   ]
  },
  {
   "cell_type": "code",
   "execution_count": 1,
   "metadata": {},
   "outputs": [],
   "source": [
    "from typing import List, Optional"
   ]
  },
  {
   "cell_type": "code",
   "execution_count": 2,
   "metadata": {},
   "outputs": [],
   "source": [
    "# Contains Duplicate\n",
    "class Solution:\n",
    "    def containsDuplicate(self, nums: List[int]) -> bool:\n",
    "        hs = set()\n",
    "        for n in nums:\n",
    "            if n in hs:\n",
    "                return True\n",
    "            hs.add(n)\n",
    "        return False"
   ]
  },
  {
   "cell_type": "code",
   "execution_count": 3,
   "metadata": {},
   "outputs": [],
   "source": [
    "# 242. Valid Anagram\n",
    "from collections import Counter\n",
    "class Solution:\n",
    "    def isAnagram(self, s: str, t: str) -> bool:\n",
    "        return Counter(s) == Counter(t)"
   ]
  },
  {
   "cell_type": "code",
   "execution_count": 4,
   "metadata": {},
   "outputs": [],
   "source": [
    "# 1. Two Sum\n",
    "class Solution:\n",
    "    def twoSum(self, nums: List[int], target: int) -> List[int]:\n",
    "        hm = {}\n",
    "        for i, v in enumerate(nums):\n",
    "            diff = target - v\n",
    "            if diff in hm:\n",
    "                return [hm[diff], i]\n",
    "            hm[v] = i\n",
    "        return -1\n"
   ]
  },
  {
   "cell_type": "code",
   "execution_count": 5,
   "metadata": {},
   "outputs": [],
   "source": [
    "# 49. Group Anagrams\n",
    "from collections import defaultdict\n",
    "class Solution:\n",
    "    def groupAnagrams(self, strs: List[str]) -> List[List[str]]:\n",
    "        ans = defaultdict(list)\n",
    "        for s in strs:\n",
    "            key = sorted(s)\n",
    "            ans[tuple(key)].append(s)\n",
    "        return ans.values()"
   ]
  },
  {
   "cell_type": "code",
   "execution_count": 164,
   "metadata": {},
   "outputs": [],
   "source": [
    "# 347. Top K Frequent Elements\n",
    "from collections import Counter\n",
    "class Solution:\n",
    "    def topKFrequent(self, nums: List[int], k: int) -> List[int]:\n",
    "        return [num for (num, _) in Counter(nums).most_common(k)]\n"
   ]
  },
  {
   "cell_type": "code",
   "execution_count": 165,
   "metadata": {},
   "outputs": [],
   "source": [
    "# 238. Product of Array Except Self\n",
    "class Solution:\n",
    "    def productExceptSelf(self, nums: List[int]) -> List[int]:\n",
    "        ln = len(nums)\n",
    "        ans = [1] * ln\n",
    "\n",
    "        prefix = 1\n",
    "        for i in range(ln):\n",
    "            ans[i] *= prefix\n",
    "            prefix *= nums[i]\n",
    "\n",
    "        suffix = 1\n",
    "        for i in range(ln-1, -1, -1):\n",
    "            ans[i] *= suffix\n",
    "            suffix *= nums[i]\n",
    "\n",
    "        return ans"
   ]
  },
  {
   "cell_type": "code",
   "execution_count": 166,
   "metadata": {},
   "outputs": [],
   "source": [
    "# 36. Valid Sudoku\n",
    "from collections import defaultdict\n",
    "class Solution:\n",
    "    def isValidSudoku(self, board: List[List[str]]) -> bool:\n",
    "        rows, cols, squares = defaultdict(set), defaultdict(set), defaultdict(set)\n",
    "        for r in range(9):\n",
    "            for c in range(9):\n",
    "                num = board[r][c]\n",
    "                if num == '.':\n",
    "                    continue\n",
    "                if num in rows[r] or num in cols[c] or num in squares[( r // 3, c // 3)]:\n",
    "                    return False\n",
    "                rows[r].add(num)\n",
    "                cols[c].add(num)\n",
    "                squares[(r // 3, c // 3)].add(num)\n",
    "        return True"
   ]
  },
  {
   "cell_type": "code",
   "execution_count": 167,
   "metadata": {},
   "outputs": [],
   "source": [
    "# Encode and Decode Strings\n",
    "class Solution:\n",
    "    def encode(self, strs):\n",
    "        return ':;'.join(strs)\n",
    "\n",
    "    def decode(self, str):\n",
    "        return str.split(':;')"
   ]
  },
  {
   "cell_type": "code",
   "execution_count": 168,
   "metadata": {},
   "outputs": [],
   "source": [
    "# 128. Longest Consecutive Sequence\n",
    "class Solution:\n",
    "    def longestConsecutive(self, nums: List[int]) -> int:\n",
    "        l, mx, ln = 0, 0, len(nums)\n",
    "        nums.sort()\n",
    "        for r in range(1, ln):\n",
    "            if nums[r] == nums[r - 1]:\n",
    "                l += 1\n",
    "            elif nums[r] - nums[r - 1] != 1:\n",
    "                l = r\n",
    "            mx = max(mx, r - l + 1)\n",
    "        return mx if ln > 1 else ln"
   ]
  },
  {
   "attachments": {},
   "cell_type": "markdown",
   "metadata": {},
   "source": [
    "##### Two Pointers"
   ]
  },
  {
   "cell_type": "code",
   "execution_count": 169,
   "metadata": {},
   "outputs": [
    {
     "data": {
      "text/plain": [
       "True"
      ]
     },
     "execution_count": 169,
     "metadata": {},
     "output_type": "execute_result"
    }
   ],
   "source": [
    "# 125. Valid Palindrome\n",
    "import re\n",
    "class Solution:\n",
    "    def isPalindrome(self, s: str) -> bool:\n",
    "        # l, r = 0, len(s) - 1\n",
    "        # while l < r:\n",
    "        #     while not s[l].isalnum() and l < r:  # why do I have to write l < r condition twice?\n",
    "        #         l += 1\n",
    "        #     while not s[r].isalnum() and l < r:\n",
    "        #         r -= 1\n",
    "        #     if s[l].lower() != s[r].lower():\n",
    "        #         return False\n",
    "        #     l += 1\n",
    "        #     r -= 1\n",
    "        # return True\n",
    "\n",
    "# \\w\tReturns a match where the string contains any word characters (characters from a to Z, digits from 0-9, and the underscore _ character)\n",
    "# \\W\tReturns a match where the string DOES NOT contain any word characters\n",
    "        pure = re.sub(r'[\\W_]+', '', s).lower()\n",
    "        l, r = 0, len(pure) - 1\n",
    "        while l < r:\n",
    "            if pure[r] != pure[l]:\n",
    "                return False\n",
    "            l += 1\n",
    "            r -= 1\n",
    "        return True\n",
    "\n",
    "s = \"A man, a plan, a canal: Panama\"\n",
    "s = \".,\"\n",
    "solution = Solution()\n",
    "solution.isPalindrome(s)"
   ]
  },
  {
   "cell_type": "code",
   "execution_count": 170,
   "metadata": {},
   "outputs": [
    {
     "data": {
      "text/plain": [
       "[1, 2]"
      ]
     },
     "execution_count": 170,
     "metadata": {},
     "output_type": "execute_result"
    }
   ],
   "source": [
    "# 167. Two Sum II - Input Array Is Sorted\n",
    "class Solution:\n",
    "    def twoSum(self, numbers: List[int], target: int) -> List[int]:\n",
    "        l, r = 0, len(numbers) - 1\n",
    "        while l < r:\n",
    "            if numbers[l] + numbers[r] > target:\n",
    "                r -= 1\n",
    "            elif numbers[l] + numbers[r] < target:\n",
    "                l += 1\n",
    "            else:\n",
    "                return [l + 1, r + 1]\n",
    "\n",
    "\n",
    "numbers = [2,7,11,15]\n",
    "target = 9\n",
    "\n",
    "s = Solution()\n",
    "s.twoSum(numbers, target)\n"
   ]
  },
  {
   "cell_type": "code",
   "execution_count": 171,
   "metadata": {},
   "outputs": [
    {
     "data": {
      "text/plain": [
       "[[-1, -1, 2], [-1, 0, 1]]"
      ]
     },
     "execution_count": 171,
     "metadata": {},
     "output_type": "execute_result"
    }
   ],
   "source": [
    "# 15. 3Sum\n",
    "class Solution:\n",
    "    def threeSum(self, nums: list[int]) -> list[list[int]]:\n",
    "        nums.sort()\n",
    "        ans = []\n",
    "\n",
    "        for i, v in enumerate(nums):\n",
    "            # These lines are for eliminating duplicates\n",
    "            if i > 0 and v == nums[i - 1]:\n",
    "                continue\n",
    "\n",
    "            l = i + 1\n",
    "            r = len(nums) - 1\n",
    "            while l < r:\n",
    "                sum3 = v + nums[l] + nums[r]\n",
    "                if sum3 > 0:\n",
    "                    r -= 1\n",
    "                elif sum3 < 0:\n",
    "                    l += 1\n",
    "                else:\n",
    "                    ans.append([v, nums[l], nums[r]])\n",
    "                    l += 1\n",
    "                    while nums[l] == nums[l - 1] and l < r: \n",
    "                        l += 1\n",
    "        return ans\n",
    "\n",
    "nums = [-1,0,1,2,-1,-4]\n",
    "s = Solution()\n",
    "s.threeSum(nums)\n"
   ]
  },
  {
   "cell_type": "code",
   "execution_count": 172,
   "metadata": {},
   "outputs": [
    {
     "data": {
      "text/plain": [
       "49"
      ]
     },
     "execution_count": 172,
     "metadata": {},
     "output_type": "execute_result"
    }
   ],
   "source": [
    "# 11. Container With Most Water\n",
    "class Solution:\n",
    "    def maxArea(self, height: List[int]) -> int:\n",
    "        l, r, mx = 0, len(height) - 1, 0\n",
    "        while l < r:\n",
    "            mx = max(mx, min(height[l], height[r]) * (r - l))\n",
    "            # the higher one stands still, the lower one moves.\n",
    "            # If the mountain won't come to Mohammed, Mohammed must go to the mountain.\n",
    "            if height[l] < height[r]: \n",
    "                l += 1\n",
    "            else:\n",
    "                r -= 1\n",
    "        return mx\n",
    "    \n",
    "height = [1,8,6,2,5,4,8,3,7]\n",
    "s = Solution()\n",
    "s.maxArea(height)"
   ]
  },
  {
   "cell_type": "code",
   "execution_count": 173,
   "metadata": {},
   "outputs": [
    {
     "data": {
      "text/plain": [
       "9"
      ]
     },
     "execution_count": 173,
     "metadata": {},
     "output_type": "execute_result"
    }
   ],
   "source": [
    "# 42. Trapping Rain Water\n",
    "class Solution:\n",
    "    def trap(self, height: List[int]) -> int:\n",
    "        l, r, lmax, rmax, ans = 0, len(height) - 1, 0, 0, 0\n",
    "\n",
    "        while l < r:\n",
    "            if height[l] < height[r]:\n",
    "                if height[l] > lmax:\n",
    "                    lmax = height[l]\n",
    "                else:\n",
    "                    ans += lmax - height[l]\n",
    "                l += 1\n",
    "            else:\n",
    "                if height[r] > rmax:\n",
    "                    rmax = height[r]\n",
    "                else:\n",
    "                    ans += rmax - height[r]\n",
    "                r -= 1\n",
    "        return ans\n",
    "height = [0,1,0,2,1,0,1,3,2,1,2,1]\n",
    "height = [4,2,0,3,2,5]\n",
    "s = Solution()\n",
    "s.trap(height)"
   ]
  },
  {
   "attachments": {},
   "cell_type": "markdown",
   "metadata": {},
   "source": [
    "##### Sliding Window"
   ]
  },
  {
   "cell_type": "code",
   "execution_count": 174,
   "metadata": {},
   "outputs": [
    {
     "data": {
      "text/plain": [
       "5"
      ]
     },
     "execution_count": 174,
     "metadata": {},
     "output_type": "execute_result"
    }
   ],
   "source": [
    "# 121. Best Time to Buy and Sell Stock\n",
    "class Solution:\n",
    "    def maxProfit(self, prices: List[int]) -> int:\n",
    "        l, mx = 0, 0\n",
    "        for r in range(len(prices)):\n",
    "            if prices[r] < prices[l]:\n",
    "                l = r\n",
    "            mx = max(mx, prices[r] - prices[l])\n",
    "        return mx\n",
    "\n",
    "prices = [7,1,5,3,6,4]\n",
    "# prices = [7,6,4,3,1]\n",
    "s = Solution()\n",
    "s.maxProfit(prices)"
   ]
  },
  {
   "cell_type": "code",
   "execution_count": 175,
   "metadata": {},
   "outputs": [
    {
     "data": {
      "text/plain": [
       "1"
      ]
     },
     "execution_count": 175,
     "metadata": {},
     "output_type": "execute_result"
    }
   ],
   "source": [
    "# 3. Longest Substring Without Repeating Characters\n",
    "class Solution:\n",
    "    def lengthOfLongestSubstring(self, s: str) -> int:\n",
    "        l, mx, hm= 0, 0, {}\n",
    "\n",
    "        for r, v in enumerate(s):\n",
    "            if v in hm and hm[v] >= l:\n",
    "                l = hm[v] + 1\n",
    "            hm[v] = r\n",
    "            mx = max(mx, r - l + 1)\n",
    "        return mx\n",
    "    \n",
    "s = \" \"\n",
    "solution = Solution()\n",
    "solution.lengthOfLongestSubstring(s)"
   ]
  },
  {
   "cell_type": "code",
   "execution_count": 176,
   "metadata": {},
   "outputs": [],
   "source": [
    "# Longest Repeating Character Replacement"
   ]
  },
  {
   "cell_type": "code",
   "execution_count": 177,
   "metadata": {},
   "outputs": [],
   "source": [
    "# Permutation In String"
   ]
  },
  {
   "cell_type": "code",
   "execution_count": 178,
   "metadata": {},
   "outputs": [
    {
     "name": "stdout",
     "output_type": "stream",
     "text": [
      "ADOBEC\n",
      "ODEBANC\n"
     ]
    }
   ],
   "source": [
    "# 76. Minimum Window Substring\n",
    "class Solution:\n",
    "    def minWindow(self, s: str, t: str) -> str:\n",
    "        def contain(big, small):\n",
    "            for s in small:\n",
    "                if s not in big:\n",
    "                    return False\n",
    "            return True\n",
    "        l, mn, ln = 0, float('inf'), len(s)\n",
    "        for r in range(ln):\n",
    "            if contain(s[l: r + 1], t):\n",
    "                mn = min(mn, r - l + 1)\n",
    "                print(s[l: r + 1])\n",
    "                l = r + 1\n",
    "    \n",
    "s, t = \"ADOBECODEBANC\", \"ABC\"\n",
    "solution = Solution()\n",
    "solution.minWindow(s, t)\n"
   ]
  },
  {
   "cell_type": "code",
   "execution_count": 179,
   "metadata": {},
   "outputs": [
    {
     "data": {
      "text/plain": [
       "[3, 3, 2, 5]"
      ]
     },
     "execution_count": 179,
     "metadata": {},
     "output_type": "execute_result"
    }
   ],
   "source": [
    "# 239. Sliding Window Maximum\n",
    "from collections import deque\n",
    "class Solution:\n",
    "    def maxSlidingWindow(self, nums: List[int], k: int) -> List[int]:\n",
    "        q = deque() # stores *indices*\n",
    "        ans = []\n",
    "        for i, v in enumerate(nums):\n",
    "            while q and nums[q[-1]] <= v:\n",
    "                q.pop()\n",
    "            q.append(i)\n",
    "            # remove first element if it's outside the window\n",
    "            if q[0] == i - k:\n",
    "                q.popleft()\n",
    "            # print(q, [nums[i] for i in q])\n",
    "            # if window has k elements, add to results \n",
    "            if i >= k - 1:\n",
    "                ans.append(nums[q[0]])\n",
    "        return ans\n",
    "            \n",
    "nums, k = [1,3,-1,-3,5,3,6,7], 3\n",
    "nums, k = [1,3,1,2,0,5], 3\n",
    "# nums, k = [1, 3, 2, 5, 8, 7], 3\n",
    "# nums, k = [1], 1\n",
    "# nums, k = [1, -1], 1\n",
    "# nums, k = [7, 2, 4], 2\n",
    "s = Solution()\n",
    "s.maxSlidingWindow(nums, k)"
   ]
  },
  {
   "attachments": {},
   "cell_type": "markdown",
   "metadata": {},
   "source": [
    "##### Stack"
   ]
  },
  {
   "cell_type": "code",
   "execution_count": 180,
   "metadata": {},
   "outputs": [
    {
     "data": {
      "text/plain": [
       "True"
      ]
     },
     "execution_count": 180,
     "metadata": {},
     "output_type": "execute_result"
    }
   ],
   "source": [
    "# 20. Valid Parentheses\n",
    "from collections import deque\n",
    "class Solution:\n",
    "    def isValid(self, s: str) -> bool:\n",
    "        hm = {\n",
    "            ')': '(',\n",
    "            ']': '[',\n",
    "            '}': '{'\n",
    "        }\n",
    "        stack = deque()\n",
    "\n",
    "        for c in s:\n",
    "            if stack and stack[-1] == hm.get(c):\n",
    "                stack.pop()\n",
    "            else:\n",
    "                stack.append(c)\n",
    "        return not stack\n",
    "\n",
    "s = \"()[]{}\"\n",
    "s = '{}()[{}]'\n",
    "# s = '(]'\n",
    "# s = \"([)]\"\n",
    "so = Solution()\n",
    "so.isValid(s)"
   ]
  },
  {
   "cell_type": "code",
   "execution_count": 181,
   "metadata": {},
   "outputs": [
    {
     "name": "stdout",
     "output_type": "stream",
     "text": [
      "deque([]) []\n",
      "deque([-2]) [-2]\n",
      "deque([-2, 0]) [-2, 0]\n",
      "deque([-2, 0, -3]) [-3, 0, -2]\n",
      "-3\n",
      "deque([-2, 0]) [0, -2]\n",
      "deque([-2]) [-2]\n",
      "-2\n"
     ]
    }
   ],
   "source": [
    "# 155. Min Stack\n",
    "from collections import deque\n",
    "from heapq import heappush, heappop\n",
    "class MinStack:\n",
    "\n",
    "    def __init__(self):\n",
    "        self.stack = deque()\n",
    "        self.min_stack = []\n",
    "\n",
    "    def push(self, val: int) -> None:\n",
    "        self.stack.append(val)\n",
    "        heappush(self.min_stack, val)  \n",
    "\n",
    "    def pop(self) -> None:\n",
    "        self.min_stack.remove(self.stack.pop())\n",
    "\n",
    "    def top(self) -> int:\n",
    "        return self.stack[-1]\n",
    "        \n",
    "\n",
    "    def getMin(self) -> int:\n",
    "        if self.min_stack:\n",
    "            return self.min_stack[0]\n",
    "\n",
    "# Your MinStack object will be instantiated and called as such:\n",
    "obj = MinStack()\n",
    "print(obj.stack, obj.min_stack)\n",
    "obj.push(-2)\n",
    "print(obj.stack, obj.min_stack)\n",
    "obj.push(0)\n",
    "print(obj.stack, obj.min_stack)\n",
    "obj.push(-3)\n",
    "print(obj.stack, obj.min_stack)\n",
    "print(obj.getMin())\n",
    "obj.pop()\n",
    "print(obj.stack, obj.min_stack)\n",
    "obj.pop()\n",
    "print(obj.stack, obj.min_stack)\n",
    "print(obj.getMin())"
   ]
  },
  {
   "cell_type": "code",
   "execution_count": 182,
   "metadata": {},
   "outputs": [
    {
     "data": {
      "text/plain": [
       "-7"
      ]
     },
     "execution_count": 182,
     "metadata": {},
     "output_type": "execute_result"
    }
   ],
   "source": [
    "# 150. Evaluate Reverse Polish Notation\n",
    "from collections import deque\n",
    "class Solution:\n",
    "    def evalRPN(self, tokens: List[str]) -> int:\n",
    "        if len(tokens) == 1:\n",
    "            return int(tokens[0])\n",
    "        ops = {\n",
    "            '+': (lambda x, y: x + y), \n",
    "            '-': (lambda x, y: x - y),\n",
    "            '*': (lambda x, y: x * y),\n",
    "            '/': (lambda x, y: int(x / y))\n",
    "               }\n",
    "        stack = deque()\n",
    "        for t in tokens:\n",
    "            stack.append(t)\n",
    "            if t in ops:\n",
    "                t = stack.pop()\n",
    "                right = stack.pop()\n",
    "                left = stack.pop()\n",
    "                value = ops[t](int(left), int(right))\n",
    "                stack.append(value)\n",
    "        return value\n",
    "        \n",
    "\n",
    "tokens = [\"10\",\"6\",\"9\",\"3\",\"+\",\"-11\",\"*\",\"/\",\"*\",\"17\",\"+\",\"5\",\"+\"]\n",
    "# tokens = [\"4\",\"13\",\"5\",\"/\",\"+\"]\n",
    "# tokens = [\"2\",\"1\",\"+\",\"3\",\"*\"]\n",
    "tokens = [\"4\",\"-2\",\"/\",\"2\",\"-3\",\"-\",\"-\"]\n",
    "s = Solution()\n",
    "s.evalRPN(tokens)"
   ]
  },
  {
   "cell_type": "code",
   "execution_count": 183,
   "metadata": {},
   "outputs": [
    {
     "data": {
      "text/plain": [
       "[1, 1, 0]"
      ]
     },
     "execution_count": 183,
     "metadata": {},
     "output_type": "execute_result"
    }
   ],
   "source": [
    "# 739. Daily Temperatures \n",
    "# TODO time exceeded\n",
    "from collections import deque\n",
    "class Solution:\n",
    "    def dailyTemperatures(self, temps: List[int]) -> List[int]:\n",
    "        ln = len(temps)\n",
    "        for i in range(ln):\n",
    "            stack = deque()\n",
    "            t = temps[i]\n",
    "            j = i + 1\n",
    "            has_warmer = False\n",
    "            while j < ln:\n",
    "                if temps[j] > t:\n",
    "                    has_warmer = True\n",
    "                    break\n",
    "                stack.append(temps[j])\n",
    "                j += 1\n",
    "            temps[i] = len(stack) + 1 if has_warmer else 0\n",
    "        return temps\n",
    "\n",
    "\n",
    "s = Solution()\n",
    "s.dailyTemperatures([73,74,75,71,69,72,76,73])\n",
    "s.dailyTemperatures([30,40,50,60])\n",
    "s.dailyTemperatures([30,60,90])"
   ]
  },
  {
   "cell_type": "code",
   "execution_count": 184,
   "metadata": {},
   "outputs": [],
   "source": [
    "# Car Fleet"
   ]
  },
  {
   "cell_type": "code",
   "execution_count": 185,
   "metadata": {},
   "outputs": [],
   "source": [
    "# 84. Largest Rectangle in Histogram\n",
    "class Solution:\n",
    "    def largestRectangleArea(self, heights: List[int]) -> int:\n",
    "        pass\n",
    "# Explanation\n",
    "# https://leetcode.com/problems/largest-rectangle-in-histogram/solutions/995249/python-increasing-stack-explained/\n",
    "\n",
    "s = Solution()\n",
    "s.largestRectangleArea([2,1,5,6,2,3])\n",
    "# s.largestRectangleArea([0,9])\n",
    "# s.largestRectangleArea([4, 2, 0, 3, 2, 4, 3, 4])"
   ]
  },
  {
   "attachments": {},
   "cell_type": "markdown",
   "metadata": {},
   "source": [
    "##### Binary Search"
   ]
  },
  {
   "cell_type": "code",
   "execution_count": 186,
   "metadata": {},
   "outputs": [],
   "source": [
    "# 704. Binary Search\n",
    "class Solution:\n",
    "    def search(self, nums: List[int], target: int) -> int:\n",
    "        l, r = 0, len(nums) - 1\n",
    "        while l <= r:\n",
    "            mid = (l + r) // 2\n",
    "            if nums[mid] > target:\n",
    "                r = mid - 1\n",
    "            elif nums[mid] < target:\n",
    "                l = mid + 1\n",
    "            else:\n",
    "                return mid\n",
    "        return -1"
   ]
  },
  {
   "cell_type": "code",
   "execution_count": 187,
   "metadata": {},
   "outputs": [
    {
     "data": {
      "text/plain": [
       "False"
      ]
     },
     "execution_count": 187,
     "metadata": {},
     "output_type": "execute_result"
    }
   ],
   "source": [
    "# 74. Search a 2D Matrix\n",
    "class Solution:\n",
    "    def searchMatrix(self, matrix: List[List[int]], target: int) -> bool:\n",
    "        flat = [i for m in matrix for i in m]\n",
    "        l, r = 0, len(flat) - 1\n",
    "        while l <= r:\n",
    "            mid = (l + r) // 2\n",
    "            if flat[mid] > target:\n",
    "                r = mid - 1\n",
    "            elif flat[mid] < target:\n",
    "                l = mid + 1\n",
    "            else:\n",
    "                return True\n",
    "        return False\n",
    "\n",
    "matrix, target = [[1,3,5,7],[10,11,16,20],[23,30,34,60]], 13\n",
    "s = Solution()\n",
    "s.searchMatrix(matrix, target)\n"
   ]
  },
  {
   "cell_type": "code",
   "execution_count": 188,
   "metadata": {},
   "outputs": [],
   "source": [
    "# Koko Eating Bananas"
   ]
  },
  {
   "cell_type": "code",
   "execution_count": 189,
   "metadata": {},
   "outputs": [
    {
     "data": {
      "text/plain": [
       "0"
      ]
     },
     "execution_count": 189,
     "metadata": {},
     "output_type": "execute_result"
    }
   ],
   "source": [
    "# 153. Find Minimum in Rotated Sorted Array\n",
    "class Solution:\n",
    "    def findMin(self, nums: List[int]) -> int:\n",
    "        l, r = 0, len(nums) - 1\n",
    "        while l < r:\n",
    "            m = (l + r) // 2\n",
    "            if nums[m] > nums[r]:\n",
    "                l = m + 1\n",
    "            else:\n",
    "                r = m\n",
    "        return nums[l]\n",
    "        \n",
    "nums = [3,4,5,1,2]\n",
    "nums = [4, 5, 6, 7, 0, 1, 2]\n",
    "s = Solution()\n",
    "s.findMin(nums)"
   ]
  },
  {
   "cell_type": "code",
   "execution_count": 190,
   "metadata": {},
   "outputs": [
    {
     "data": {
      "text/plain": [
       "2"
      ]
     },
     "execution_count": 190,
     "metadata": {},
     "output_type": "execute_result"
    }
   ],
   "source": [
    "# 33. Search in Rotated Sorted Array\n",
    "class Solution:\n",
    "    def search(self, nums: List[int], target: int) -> int:\n",
    "\n",
    "        # https://www.youtube.com/watch?v=nuN3-AkykfM\n",
    "        l, r = 0, len(nums) - 1\n",
    "        while l <= r:\n",
    "            m = (l + r) // 2\n",
    "\n",
    "            if target < nums[m]:\n",
    "                if nums[l] > nums[m] or target >= nums[l]:\n",
    "                    # nums[l] > nums[m] means the pivot is in the left half \n",
    "                    # which again means we need to find the target in the left\n",
    "                    # half( there will be values less then nums[m] to the \n",
    "                    # left of nums[m])\n",
    "                    r = m - 1\n",
    "                else:\n",
    "                    l = m + 1\n",
    "            elif target > nums[m]:\n",
    "                if nums[m] > nums[r] or target <= nums[r]:\n",
    "                    # nums[m] > nums[r] means the pivot is in the right half\n",
    "                    l = m + 1\n",
    "                else:\n",
    "                    r = m - 1\n",
    "            else:\n",
    "                return m\n",
    "        return -1\n",
    "\n",
    "              \n",
    "nums, target = [4, 5, 6, 7, 0, 1, 2], 0\n",
    "nums, target = [6, 7, 1, 2, 3, 4, 5], 1\n",
    "\n",
    "s = Solution()\n",
    "s.search(nums, target)"
   ]
  },
  {
   "cell_type": "code",
   "execution_count": 191,
   "metadata": {},
   "outputs": [
    {
     "name": "stdout",
     "output_type": "stream",
     "text": [
      "None\n",
      "None\n",
      "\n",
      "high\n",
      "high\n",
      "low\n",
      "low\n"
     ]
    }
   ],
   "source": [
    "# Time Based Key Value Store\n",
    "from collections import defaultdict\n",
    "class TimeMap:\n",
    "\n",
    "    def __init__(self):\n",
    "        self.hm = defaultdict(list)\n",
    "\n",
    "    def set(self, key: str, value: str, timestamp: int) -> None:\n",
    "        self.hm[key].append((value, timestamp))\n",
    "        \n",
    "\n",
    "    def get(self, key: str, timestamp: int) -> str:\n",
    "        values = self.hm.get(key)\n",
    "        if not values or values[0][1] > timestamp:\n",
    "            return ''\n",
    "        for i in range(len(values) - 1, -1, -1):\n",
    "            if timestamp >= values[i][1]:\n",
    "                return values[i][0]\n",
    "                break\n",
    "                \n",
    "    \n",
    "obj = TimeMap()\n",
    "print(obj.set(\"love\",\"high\",10))\n",
    "print(obj.set(\"love\",\"low\",20))\n",
    "# print(obj.hm)\n",
    "print(obj.get(\"love\",5))\n",
    "print(obj.get(\"love\",10))\n",
    "print(obj.get(\"love\",15))\n",
    "print(obj.get(\"love\",20))\n",
    "print(obj.get(\"love\",25))"
   ]
  },
  {
   "cell_type": "code",
   "execution_count": 192,
   "metadata": {},
   "outputs": [],
   "source": [
    "# Median of Two Sorted Arrays"
   ]
  },
  {
   "attachments": {},
   "cell_type": "markdown",
   "metadata": {},
   "source": [
    "##### Linked List"
   ]
  },
  {
   "cell_type": "code",
   "execution_count": 193,
   "metadata": {},
   "outputs": [
    {
     "name": "stdout",
     "output_type": "stream",
     "text": [
      "1 -> 2 -> 3 -> 4 -> 5 -> None\n",
      "5 -> 4 -> 3 -> 2 -> 1 -> None\n"
     ]
    }
   ],
   "source": [
    "class ListNode:\n",
    "    def __init__(self, val=0, next=None):\n",
    "        self.val = val\n",
    "        self.next = next\n",
    "\n",
    "    def graph(self):\n",
    "        nodes = []\n",
    "        while self:\n",
    "            nodes.append(str(self.val) + ' ->')\n",
    "            self = self.next\n",
    "        print(' '.join(nodes) + ' None') \n",
    "    \n",
    "def list2ll(arr):\n",
    "    crt = dummy = ListNode()\n",
    "    for a in arr:\n",
    "        crt.next = ListNode(a)\n",
    "        crt = crt.next\n",
    "    return dummy.next\n",
    "\n",
    "# 206. Reverse Linked List\n",
    "class Solution:\n",
    "    def reverseList(self, head: Optional[ListNode]) -> Optional[ListNode]:\n",
    "        prev = None\n",
    "        crt = head\n",
    "        while crt:\n",
    "            nxt = crt.next\n",
    "            crt.next = prev\n",
    "            prev = crt\n",
    "            crt = nxt\n",
    "        return prev\n",
    "\n",
    "\n",
    "\n",
    "head = list2ll([1,2,3,4,5])\n",
    "head.graph()\n",
    "s = Solution()\n",
    "ans = s.reverseList(head)\n",
    "ans.graph()"
   ]
  },
  {
   "cell_type": "code",
   "execution_count": 194,
   "metadata": {},
   "outputs": [
    {
     "name": "stdout",
     "output_type": "stream",
     "text": [
      "1 -> 2 -> 4 -> None\n",
      "1 -> 3 -> 4 -> None\n",
      "1 -> 1 -> 2 -> 3 -> 4 -> 4 -> None\n"
     ]
    }
   ],
   "source": [
    "# 21. Merge Two Sorted Lists\n",
    "class Solution:\n",
    "    def mergeTwoLists(self, list1: Optional[ListNode], list2: Optional[ListNode]) -> Optional[ListNode]:\n",
    "        crt = dummy = ListNode()\n",
    "        while list1 and list2:\n",
    "            if list1.val < list2.val:\n",
    "                crt.next = list1\n",
    "                list1 = list1.next\n",
    "            else:\n",
    "                crt.next = list2\n",
    "                list2 = list2.next\n",
    "            crt = crt.next\n",
    "        if list1:\n",
    "            crt.next = list1\n",
    "        if list2:\n",
    "            crt.next = list2\n",
    "        return dummy.next\n",
    "\n",
    "        \n",
    "\n",
    "list1 = list2ll([1, 2, 4])\n",
    "list2 = list2ll([1, 3, 4])\n",
    "list1.graph()\n",
    "list2.graph()\n",
    "\n",
    "s = Solution()\n",
    "ans = s.mergeTwoLists(list1, list2)\n",
    "ans.graph()\n"
   ]
  },
  {
   "cell_type": "code",
   "execution_count": 195,
   "metadata": {},
   "outputs": [
    {
     "name": "stdout",
     "output_type": "stream",
     "text": [
      "1 -> 2 -> 3 -> 4 -> 5 -> None\n"
     ]
    }
   ],
   "source": [
    "# 143. Reorder List\n",
    "class Solution:\n",
    "    def reorderList(self, head: Optional[ListNode]) -> None:\n",
    "        \"\"\"\n",
    "        Do not return anything, modify head in-place instead.\n",
    "        \"\"\"\n",
    "        lst = []\n",
    "        crt = head\n",
    "        while crt:\n",
    "            lst.append(crt)\n",
    "            crt = crt.next\n",
    "\n",
    "        # crt = head\n",
    "        # l, r = 1, len(lst) - 1\n",
    "        # while l <= r:\n",
    "        #     crt.next = lst[r]\n",
    "        #     crt = crt.next\n",
    "        #     r -= 1\n",
    "        #     print(lst[r].val)\n",
    "        #     print(lst[l].val)\n",
    "        #     crt.next = lst[l]\n",
    "        #     crt = crt.next\n",
    "        #     l += 1\n",
    "        \n",
    "        # crt = head\n",
    "        # while crt:\n",
    "        #     crt = crt.next\n",
    "        #     print(crt)\n",
    "        \n",
    "        \n",
    "head = list2ll([1,2,3,4])\n",
    "head = list2ll([1,2,3,4,5])\n",
    "head.graph()\n",
    "\n",
    "s = Solution()\n",
    "ans = s.reorderList(head)\n",
    "# ans.graph()\n"
   ]
  },
  {
   "cell_type": "code",
   "execution_count": 196,
   "metadata": {},
   "outputs": [
    {
     "name": "stdout",
     "output_type": "stream",
     "text": [
      "2 -> None\n"
     ]
    }
   ],
   "source": [
    "# 19. Remove Nth Node From End of List\n",
    "class Solution:\n",
    "    def removeNthFromEnd(self, head: Optional[ListNode], n: int) -> Optional[ListNode]:\n",
    "        cnt = 0\n",
    "        crt = head\n",
    "        while crt:\n",
    "            cnt += 1\n",
    "            crt = crt.next\n",
    "\n",
    "        nth = cnt - n\n",
    "        if nth == 0:\n",
    "            return head.next\n",
    "        \n",
    "        crt = head\n",
    "        cnt = 0\n",
    "        while crt:\n",
    "            cnt += 1\n",
    "            if cnt == nth:\n",
    "                if crt.next:\n",
    "                    crt.next = crt.next.next\n",
    "            else:\n",
    "                crt = crt.next\n",
    "        return head\n",
    "head, n = list2ll([1,2,3,4,5]), 2\n",
    "head, n = ListNode(1), 1\n",
    "head, n = list2ll([1,2]), 2\n",
    "s = Solution()\n",
    "s.removeNthFromEnd(head, n).graph()"
   ]
  },
  {
   "cell_type": "code",
   "execution_count": 197,
   "metadata": {},
   "outputs": [
    {
     "name": "stdout",
     "output_type": "stream",
     "text": [
      "1 -> 2 -> None\n"
     ]
    }
   ],
   "source": [
    "# 138. Copy List with Random Pointer\"\n",
    "class Node:\n",
    "    def __init__(self, x: int, next: 'Node' = None, random: 'Node' = None):\n",
    "        self.val = int(x)\n",
    "        self.next = next\n",
    "        self.random = random\n",
    "\n",
    "class Solution:\n",
    "    def copyRandomList(self, head: 'Optional[Node]') -> 'Optional[Node]':\n",
    "        lst = []\n",
    "        crt = head\n",
    "        while crt:\n",
    "            lst.append(crt)\n",
    "            crt = crt.next\n",
    "\n",
    "        crt = dummy = ListNode()\n",
    "        new_lst = []\n",
    "        for node in lst:\n",
    "            crt.next = ListNode(val=node.val)\n",
    "            crt = crt.next\n",
    "            crt.random = None\n",
    "            new_lst.append(crt)\n",
    "            # print(crt.val, crt.random)\n",
    "        new_head = dummy.next\n",
    "\n",
    "\n",
    "        for i in range(len(lst)):\n",
    "            if lst[i].random:\n",
    "                new_lst[i].random = new_lst[lst.index(lst[i].random)]\n",
    "\n",
    "        # new_head.graph()\n",
    "        # crt = new_head\n",
    "        # while crt:\n",
    "        #     print(crt.random.val)\n",
    "        #     crt = crt.next\n",
    "        return new_head\n",
    "head = list2ll([1, 2])\n",
    "head.random = head.next\n",
    "head.next.random = head.next\n",
    "head.graph()\n",
    "s = Solution()\n",
    "ans = s.copyRandomList(head)\n",
    "# ans.graph()\n"
   ]
  },
  {
   "cell_type": "code",
   "execution_count": 198,
   "metadata": {},
   "outputs": [
    {
     "name": "stdout",
     "output_type": "stream",
     "text": [
      "9 -> 9 -> 9 -> 9 -> 9 -> 9 -> 9 -> None\n",
      "9 -> 9 -> 9 -> 9 -> None\n",
      "8 -> 9 -> 9 -> 9 -> 0 -> 0 -> 0 -> 1 -> None\n"
     ]
    }
   ],
   "source": [
    "# 2. Add Two Numbers\n",
    "class Solution:\n",
    "    def addTwoNumbers(self, l1: Optional[ListNode], l2: Optional[ListNode]) -> Optional[ListNode]:\n",
    "        crt = dummy = ListNode()\n",
    "        carry = 0\n",
    "        while l1 and l2:\n",
    "            val = l1.val + l2.val + carry\n",
    "            crt.next = ListNode(val % 10)\n",
    "            l1 = l1.next\n",
    "            l2 = l2.next\n",
    "            if val > 9:\n",
    "                carry = 1\n",
    "            else:\n",
    "                carry = 0\n",
    "            crt = crt.next\n",
    "        \n",
    "\n",
    "        while l1:\n",
    "            val = l1.val + carry\n",
    "            crt.next = ListNode(val % 10)\n",
    "            l1 = l1.next\n",
    "            if val > 9:\n",
    "                carry = 1\n",
    "            else:\n",
    "                carry = 0\n",
    "            crt = crt.next\n",
    "\n",
    "        while l2:\n",
    "            val = l2.val + carry\n",
    "            crt.next = ListNode(val % 10)\n",
    "            l2 = l2.next\n",
    "            if val > 9:\n",
    "                carry = 1\n",
    "            else:\n",
    "                carry = 0\n",
    "            crt = crt.next\n",
    "\n",
    "        if carry:\n",
    "            crt.next = ListNode(carry)\n",
    "\n",
    "        return dummy.next\n",
    "    \n",
    "\n",
    "\n",
    "\n",
    "l1 = list2ll([9,9,9,9,9,9,9])\n",
    "l2 = list2ll([9,9,9,9])\n",
    "l1.graph()\n",
    "l2.graph()\n",
    "\n",
    "# l1 = list2ll([2, 4, 3])\n",
    "# l2 = list2ll([5, 6, 4])\n",
    "\n",
    "# l1 = list2ll([2, 4, 9])\n",
    "# l2 = list2ll([5, 6, 4, 9])\n",
    "\n",
    "s = Solution()\n",
    "ans = s.addTwoNumbers(l1, l2)\n",
    "ans.graph()\n"
   ]
  },
  {
   "cell_type": "code",
   "execution_count": 199,
   "metadata": {},
   "outputs": [
    {
     "name": "stdout",
     "output_type": "stream",
     "text": [
      "-1\n",
      "3\n"
     ]
    }
   ],
   "source": [
    "# 146. LRU Cache\n",
    "from collections import OrderedDict\n",
    "class LRUCache:\n",
    "\n",
    "    def __init__(self, capacity: int):\n",
    "        self.capacity = capacity\n",
    "        self.od = OrderedDict()\n",
    "\n",
    "    def get(self, key: int) -> int:\n",
    "        v = self.od.get(key, None)\n",
    "        if v is None:\n",
    "            return -1\n",
    "        self.od.pop(key)\n",
    "        self.od[key] = v\n",
    "        return v\n",
    "\n",
    "    def put(self, key: int, value: int) -> None:\n",
    "        if key in self.od:\n",
    "            self.od.pop(key)\n",
    "            self.od[key] = value\n",
    "        self.od[key] = value\n",
    "        if len(self.od) > self.capacity:\n",
    "            for key in self.od.keys():\n",
    "                self.od.pop(key)\n",
    "                break\n",
    "\n",
    "obj = LRUCache(2)\n",
    "obj.put(2, 1)\n",
    "# print(obj.od)\n",
    "obj.put(1, 1)\n",
    "# print(obj.od)\n",
    "obj.put(2, 3)\n",
    "# print(obj.od)\n",
    "obj.put(4, 1)\n",
    "# print(obj.od)\n",
    "print(obj.get(1))\n",
    "print(obj.get(2))\n",
    "\n",
    "\n"
   ]
  },
  {
   "cell_type": "code",
   "execution_count": 200,
   "metadata": {},
   "outputs": [],
   "source": [
    "# Merge K Sorted Lists"
   ]
  },
  {
   "cell_type": "code",
   "execution_count": 201,
   "metadata": {},
   "outputs": [],
   "source": [
    "# Reverse Nodes In K Group"
   ]
  },
  {
   "cell_type": "markdown",
   "metadata": {},
   "source": [
    "##### Trees"
   ]
  },
  {
   "cell_type": "code",
   "execution_count": 202,
   "metadata": {},
   "outputs": [
    {
     "name": "stdout",
     "output_type": "stream",
     "text": [
      "  _4_  \n",
      " /   \\ \n",
      " 2   7 \n",
      "/ \\ / \\\n",
      "1 3 6 9\n"
     ]
    }
   ],
   "source": [
    "from collections import deque\n",
    "class TreeNode:\n",
    "    def __init__(self, val, left=None, right=None):\n",
    "        self.val = val\n",
    "        self.left = left\n",
    "        self.right = right\n",
    "\n",
    "    def graph(self):\n",
    "        \"\"\"Graph an instance of (tree) Node class\"\"\"\n",
    "        lines, *_ = self.graph_aux()\n",
    "        for line in lines:\n",
    "            print(line)\n",
    "\n",
    "    def graph_aux(self):\n",
    "        \"\"\"Returns list of strings, width, height, and horizontal coordinate of the root.\"\"\"\n",
    "        # No child.\n",
    "        if self.right is None and self.left is None:\n",
    "            line = str(self.val)\n",
    "            width = len(line)\n",
    "            height = 1\n",
    "            middle = width // 2\n",
    "            return [line], width, height, middle\n",
    "\n",
    "        # Only left child.\n",
    "        if self.right is None:\n",
    "            lines, n, p, x = self.left.graph_aux()\n",
    "            s = str(self.val)\n",
    "            u = len(s)\n",
    "            first_line = (x + 1) * ' ' + (n - x - 1) * '_' + s\n",
    "            second_line = x * ' ' + '/' + (n - x - 1 + u) * ' '\n",
    "            shifted_lines = [line + u * ' ' for line in lines]\n",
    "            return [first_line, second_line] + shifted_lines, n + u, p + 2, n + u // 2\n",
    "\n",
    "        # Only right child.\n",
    "        if self.left is None:\n",
    "            lines, n, p, x = self.right.graph_aux()\n",
    "            s = str(self.val)\n",
    "            u = len(s)\n",
    "            first_line = s + x * '_' + (n - x) * ' '\n",
    "            second_line = (u + x) * ' ' + '\\\\' + (n - x - 1) * ' '\n",
    "            shifted_lines = [u * ' ' + line for line in lines]\n",
    "            return [first_line, second_line] + shifted_lines, n + u, p + 2, u // 2\n",
    "\n",
    "        # Two children.\n",
    "        left, n, p, x = self.left.graph_aux()\n",
    "        right, m, q, y = self.right.graph_aux()\n",
    "        s = str(self.val)\n",
    "        u = len(s)\n",
    "        first_line = (x + 1) * ' ' + (n - x - 1) * '_' + s + y * '_' + (m - y) * ' '\n",
    "        second_line = x * ' ' + '/' + (n - x - 1 + u + y) * ' ' + '\\\\' + (m - y - 1) * ' '\n",
    "        if p < q:\n",
    "            left += [n * ' '] * (q - p)\n",
    "        elif q < p:\n",
    "            right += [m * ' '] * (p - q)\n",
    "        zipped_lines = zip(left, right)\n",
    "        lines = [first_line, second_line] + [a + u * ' ' + b for a, b in zipped_lines]\n",
    "        return lines, n + m + u, max(p, q) + 2, n + u // 2\n",
    "\n",
    "\n",
    "\n",
    "def serialize(root):\n",
    "    q = deque()\n",
    "\n",
    "    if not root: \n",
    "        return None\n",
    "    q.append(root)\n",
    "\n",
    "    ans = []\n",
    "    while q:\n",
    "        crt = q.popleft()\n",
    "        if not crt:\n",
    "            ans.append(None)\n",
    "        else:\n",
    "            ans.append(crt.val)\n",
    "\n",
    "            q.append(crt.left)\n",
    "            q.append(crt.right)\n",
    "    return ans\n",
    "\n",
    "def deserialize(data):\n",
    "    def createNode(val):\n",
    "        if val is None: \n",
    "            return None\n",
    "        return TreeNode(val)\n",
    "\n",
    "    if not data: \n",
    "        return None\n",
    "    root = createNode(data[0])\n",
    "    i = 1\n",
    "    q = deque([root])\n",
    "    while q:\n",
    "        crt = q.popleft()\n",
    "        crt.left = createNode(data[i])\n",
    "        crt.right = createNode(data[i+1])\n",
    "        i += 2\n",
    "\n",
    "        if crt.left:\n",
    "            q.append(crt.left)\n",
    "        if crt.right:\n",
    "            q.append(crt.right)\n",
    "    return root\n",
    "\n",
    "\n",
    "# 226. Invert Binary Tree\n",
    "class Solution:\n",
    "    def invertTree(self, root: Optional[TreeNode]) -> Optional[TreeNode]:\n",
    "        pass\n",
    "\n",
    "root = deserialize([4, 2, 7, 1, 3, 6, 9, None, None, None, None, None, None, None, None])\n",
    "root.graph()"
   ]
  },
  {
   "cell_type": "code",
   "execution_count": 207,
   "metadata": {},
   "outputs": [
    {
     "name": "stdout",
     "output_type": "stream",
     "text": [
      "  3_  \n",
      " /  \\ \n",
      " 1  4 \n",
      "/  / \\\n",
      "3  1 5\n"
     ]
    },
    {
     "data": {
      "text/plain": [
       "2"
      ]
     },
     "execution_count": 207,
     "metadata": {},
     "output_type": "execute_result"
    }
   ],
   "source": [
    "# 1448. Count Good Nodes in Binary Tree\n",
    "class Solution:\n",
    "    def goodNodes(self, root: TreeNode) -> int:\n",
    "        if not root:\n",
    "            return 0\n",
    "        if (root.left and root.left.val >= root.val)\\\n",
    "            and (root.right and root.right.val >= root.val):\n",
    "            return 3\n",
    "        if root.left and root.left.val >= root.val:\n",
    "            return 2\n",
    "        if root.right and root.right.val >= root.val:\n",
    "            return 2\n",
    "        return 1 + self.goodNodes(root.left) + self.goodNodes(root.right)\n",
    "\n",
    "root = deserialize([3,1,4,3,None,1,5] + [None] * 6)\n",
    "root.graph()\n",
    "s = Solution()\n",
    "s.goodNodes(root)\n"
   ]
  },
  {
   "cell_type": "code",
   "execution_count": 221,
   "metadata": {},
   "outputs": [
    {
     "name": "stdout",
     "output_type": "stream",
     "text": [
      " 2 \n",
      "/ \\\n",
      "1 3\n",
      "[1, 2, 3]\n",
      "True\n"
     ]
    }
   ],
   "source": [
    "# 98. Validate Binary Search Tree\n",
    "class Solution:\n",
    "    def isValidBST(self, root: Optional[TreeNode]) -> bool:\n",
    "        def inorder(root):\n",
    "            if not root:\n",
    "                return []\n",
    "            return [*inorder(root.left), root.val, *inorder(root.right)]\n",
    "        pre_list = inorder(root)\n",
    "        print(pre_list)\n",
    "        for i in range(1, len(pre_list)):\n",
    "            if pre_list[i] <= pre_list[i - 1]:\n",
    "                return False\n",
    "        return True\n",
    "\n",
    "# root = deserialize([5,1,4,None, None,3,6] + [None]*4)\n",
    "root = deserialize([2, 1, 3] + [None] * 4)\n",
    "root.graph()\n",
    "\n",
    "s = Solution()\n",
    "print(s.isValidBST(root))\n"
   ]
  },
  {
   "cell_type": "code",
   "execution_count": 288,
   "metadata": {},
   "outputs": [
    {
     "name": "stdout",
     "output_type": "stream",
     "text": [
      "2\n",
      "0\n",
      "0\n",
      "0\n",
      " _3 \n",
      "/  \\\n",
      "1  4\n",
      " \\  \n",
      " 2  \n"
     ]
    }
   ],
   "source": [
    "# 105. Construct Binary Tree from Preorder and Inorder Traversal\n",
    "class Solution:\n",
    "    def buildTree(self, preorder: List[int], inorder: List[int]) -> Optional[TreeNode]:\n",
    "        if not inorder:\n",
    "            return None\n",
    "        val = preorder.pop(0)\n",
    "        idx = inorder.index(val)\n",
    "        print(idx)\n",
    "        root = TreeNode(val)\n",
    "        root.left = self.buildTree(preorder, inorder[:idx])\n",
    "        root.right = self.buildTree(preorder, inorder[idx+1:])\n",
    "        return root\n",
    "\n",
    "\n",
    "preorder, inorder = [3,9,20,15,7], [9,3,15,20,7]\n",
    "preorder, inorder = [3, 1, 2, 4], [1, 2, 3, 4]\n",
    "s = Solution()\n",
    "s.buildTree(preorder, inorder).graph()\n"
   ]
  },
  {
   "cell_type": "markdown",
   "metadata": {},
   "source": [
    "##### Tries"
   ]
  },
  {
   "cell_type": "code",
   "execution_count": null,
   "metadata": {},
   "outputs": [],
   "source": []
  },
  {
   "cell_type": "code",
   "execution_count": null,
   "metadata": {},
   "outputs": [],
   "source": []
  },
  {
   "cell_type": "code",
   "execution_count": null,
   "metadata": {},
   "outputs": [],
   "source": []
  },
  {
   "cell_type": "markdown",
   "metadata": {},
   "source": [
    "##### Heap / Priority Queue"
   ]
  },
  {
   "cell_type": "code",
   "execution_count": 396,
   "metadata": {},
   "outputs": [
    {
     "data": {
      "text/plain": [
       "8"
      ]
     },
     "execution_count": 396,
     "metadata": {},
     "output_type": "execute_result"
    }
   ],
   "source": [
    "# 703. Kth Largest Element in a Stream\n",
    "from heapq import heapify\n",
    "class KthLargest:\n",
    "\n",
    "    # def __init__(self, k: int, nums: List[int]):\n",
    "    #     self.k = k\n",
    "    #     self.nums = nums\n",
    "    #     heapify(self.nums)\n",
    "\n",
    "    # def add(self, val: int) -> int:\n",
    "    #     heappush(self.nums, val)\n",
    "    #     cp = self.nums.copy()\n",
    "    #     print(cp)\n",
    "\n",
    "    def __init__(self, k: int, nums: list[int]):\n",
    "        self.k = k\n",
    "        self.nums = nums\n",
    "        heapify(self.nums)\n",
    "\n",
    "    def add(self, val: int) -> int:\n",
    "        heappush(self.nums, val)\n",
    "        # print(self.nums)\n",
    "        while len(self.nums) > self.k: \n",
    "            heappop(self.nums)\n",
    "        return self.nums[0]\n",
    "    \n",
    "obj = KthLargest(3, [4, 5, 8, 2])\n",
    "obj.add(3)\n",
    "obj.add(5)\n",
    "obj.add(10)\n",
    "obj.add(9)\n",
    "obj.add(4)\n"
   ]
  },
  {
   "cell_type": "code",
   "execution_count": 440,
   "metadata": {},
   "outputs": [
    {
     "data": {
      "text/plain": [
       "1"
      ]
     },
     "execution_count": 440,
     "metadata": {},
     "output_type": "execute_result"
    }
   ],
   "source": [
    "# 1046. Last Stone Weight\n",
    "from typing import List\n",
    "import heapq\n",
    "class Solution:\n",
    "    def lastStoneWeight(self, stones: List[int]) -> int:\n",
    "        stones = [-s for s in stones]\n",
    "        heapq.heapify(stones)\n",
    "        while len(stones) > 1:\n",
    "            y = heappop(stones)\n",
    "            x = heappop(stones)\n",
    "            if y != x:\n",
    "                heappush(stones, y - x)\n",
    "        return -(stones[0]) if stones else 0\n",
    "    \n",
    "stones = [2,7,4,1,8,1]\n",
    "stones = [1]\n",
    "s = Solution()\n",
    "s.lastStoneWeight(stones)\n"
   ]
  },
  {
   "cell_type": "code",
   "execution_count": 438,
   "metadata": {},
   "outputs": [
    {
     "data": {
      "text/plain": [
       "[[3, 3], [-2, 4]]"
      ]
     },
     "execution_count": 438,
     "metadata": {},
     "output_type": "execute_result"
    }
   ],
   "source": [
    "# 973. K Closest Points to Origin\n",
    "from math import sqrt, pow\n",
    "class Solution:\n",
    "    def kClosest(self, points: List[List[int]], k: int) -> List[List[int]]:\n",
    "        distances = []\n",
    "        ans = []\n",
    "        for x, y in points:\n",
    "            heappush(distances, (sqrt(pow(x, 2) + pow(y, 2)), [x, y]))\n",
    "        for i in range(k):\n",
    "            p = heappop(distances)\n",
    "            ans.append(p[1])\n",
    "        return ans\n",
    "\n",
    "points, k  = [[1,3],[-2,2]], 1\n",
    "points, k = [[3,3],[5,-1],[-2,4]], 2\n",
    "\n",
    "s = Solution()\n",
    "s.kClosest(points, k)"
   ]
  },
  {
   "cell_type": "code",
   "execution_count": 442,
   "metadata": {},
   "outputs": [],
   "source": [
    "# 215. Kth Largest Element in an Array\n",
    "from heapq import heapify, heappush, heappop\n",
    "class Solution:\n",
    "    def findKthLargest(self, nums: List[int], k: int) -> int:\n",
    "        heapify(nums)\n",
    "        for i in range(len(nums) - k):\n",
    "            heappop(nums)\n",
    "        return nums[0]\n"
   ]
  },
  {
   "cell_type": "code",
   "execution_count": 449,
   "metadata": {},
   "outputs": [
    {
     "name": "stdout",
     "output_type": "stream",
     "text": [
      "['A', 'A', 'A', 'A', 'A', 'A', 'B', 'C', 'D', 'E', 'F', 'G']\n"
     ]
    }
   ],
   "source": [
    "# 621. Task Scheduler\n",
    "class Solution:\n",
    "    def leastInterval(self, tasks: List[str], n: int) -> int:\n",
    "        heapify(tasks)\n",
    "        print(tasks)\n",
    "\n",
    "tasks, k = [\"A\",\"A\",\"A\",\"B\",\"B\",\"B\"],  2\n",
    "tasks, k = [\"A\",\"A\",\"A\",\"A\",\"A\",\"A\",\"B\",\"C\",\"D\",\"E\",\"F\",\"G\"], 2\n",
    "s = Solution()\n",
    "s.leastInterval(tasks, k)"
   ]
  },
  {
   "cell_type": "markdown",
   "metadata": {},
   "source": [
    "\n",
    "##### Backtracking"
   ]
  },
  {
   "cell_type": "code",
   "execution_count": 210,
   "metadata": {},
   "outputs": [
    {
     "data": {
      "text/plain": [
       "[[], [1], [2], [1, 2], [3], [1, 3], [2, 3], [1, 2, 3]]"
      ]
     },
     "execution_count": 210,
     "metadata": {},
     "output_type": "execute_result"
    }
   ],
   "source": [
    "# 78. Subsets\n",
    "from itertools import combinations\n",
    "class Solution:\n",
    "    def subsets(self, nums: List[int]) -> List[List[int]]:\n",
    "        # ans = []\n",
    "        # for i in range(len(nums) + 1):\n",
    "        #     for com in combinations(nums, i):\n",
    "        #         ans.append(list(com))\n",
    "        # return ans\n",
    "\n",
    "        if not nums:\n",
    "            return [[]]\n",
    "        left, last = nums[:-1], nums[-1]\n",
    "\n",
    "        without_last = self.subsets(left)\n",
    "        with_last = []\n",
    "\n",
    "        for without in without_last:\n",
    "            com = [*without, last]\n",
    "            with_last.append(com)\n",
    "        # print(without_last, '||', with_last)\n",
    "        return [*without_last, *with_last]\n",
    "    \n",
    "nums = [1, 2, 3]\n",
    "# nums = [1]  # [[], [1]]\n",
    "# nums = [1, 2, 2]\n",
    "# nums = [4,4,4,1,4]\n",
    "\n",
    "# nums = ['a']\n",
    "# nums = ['a', 'b']\n",
    "# nums = ['a', 'b', 'c']\n",
    "s = Solution()\n",
    "s.subsets(nums)\n",
    "# [[],[1],[2],[1,2],[3],[1,3],[2,3],[1,2,3]]"
   ]
  },
  {
   "cell_type": "code",
   "execution_count": 302,
   "metadata": {},
   "outputs": [
    {
     "data": {
      "text/plain": [
       "[[2, 2, 3], [7]]"
      ]
     },
     "execution_count": 302,
     "metadata": {},
     "output_type": "execute_result"
    }
   ],
   "source": [
    "# 39. Combination Sum\n",
    "# https://www.youtube.com/watch?v=MTI2wc8s0BY&t=1088s\n",
    "class Solution:\n",
    "    def combinationSum(self, candidates: List[int], target: int) -> List[List[int]]:\n",
    "        \n",
    "        def com_sum(candidates, target, i, com, coms):\n",
    "            if target <= 0:\n",
    "                if target == 0:\n",
    "                    coms.append(com[:])\n",
    "                return\n",
    "            if i < len(candidates):\n",
    "                value = candidates[i]\n",
    "                com.append(value)\n",
    "                com_sum(candidates, target - value, i, com, coms)\n",
    "                com.pop()\n",
    "                com_sum(candidates, target, i + 1, com, coms)\n",
    "            return coms\n",
    "            \n",
    "        return com_sum(candidates, target, 0, [], [])\n",
    "\n",
    "\n",
    "candidates, target = [2,3,6,7], 7\n",
    "s = Solution()\n",
    "s.combinationSum(candidates, target)\n"
   ]
  },
  {
   "cell_type": "code",
   "execution_count": 357,
   "metadata": {},
   "outputs": [
    {
     "data": {
      "text/plain": [
       "[[1, 2, 3], [2, 1, 3], [2, 3, 1], [1, 3, 2], [3, 1, 2], [3, 2, 1]]"
      ]
     },
     "execution_count": 357,
     "metadata": {},
     "output_type": "execute_result"
    }
   ],
   "source": [
    "# 46. Permutations\n",
    "from itertools import permutations\n",
    "class Solution:\n",
    "    def permute(self, nums: List[int]) -> List[List[int]]:\n",
    "        # ans = []\n",
    "        # for per in permutations(nums):\n",
    "        #     ans.append(list(per))\n",
    "        # return ans\n",
    "\n",
    "        if not nums:\n",
    "            return [[]]\n",
    "        first, rest = nums[0], nums[1:]\n",
    "        without_first = self.permute(rest)\n",
    "        ans = []\n",
    "        for without in without_first:\n",
    "            for i in range(len(without) + 1):\n",
    "                perm = [*without[:i], first, *without[i:]]\n",
    "                ans.append(perm)\n",
    "        return ans\n",
    "\n",
    "        # if not nums:\n",
    "        #     return [[]]\n",
    "        # left, last = nums[:-1], nums[-1]\n",
    "        # without_last = self.permute(left)\n",
    "        # ans = []\n",
    "        # for without in without_last:\n",
    "        #     for i in range(len(without) + 1):\n",
    "        #         perm = [*without[:i], last, *without[i:]]\n",
    "        #         ans.append(perm)\n",
    "        # return ans\n",
    "        \n",
    "\n",
    "nums = [1, 2, 3]\n",
    "# nums = [1]\n",
    "s = Solution()\n",
    "s.permute(nums)\n"
   ]
  },
  {
   "cell_type": "code",
   "execution_count": 216,
   "metadata": {},
   "outputs": [
    {
     "data": {
      "text/plain": [
       "[[],\n",
       " [4],\n",
       " [4, 4],\n",
       " [4, 4, 4],\n",
       " [1],\n",
       " [1, 4],\n",
       " [1, 4, 4],\n",
       " [1, 4, 4, 4],\n",
       " [4, 4, 4, 4],\n",
       " [1, 4, 4, 4, 4]]"
      ]
     },
     "execution_count": 216,
     "metadata": {},
     "output_type": "execute_result"
    }
   ],
   "source": [
    "# 90. Subsets II\n",
    "from itertools import combinations\n",
    "# from heapq import heapify\n",
    "class Solution:\n",
    "    def subsetsWithDup(self, nums: List[int]) -> List[List[int]]:\n",
    "        # pre_ans = []\n",
    "        # for i in range(len(nums) + 1):\n",
    "        #     for com in combinations(nums, i):\n",
    "        #         if com not in pre_ans:\n",
    "        #             pre_ans.append(com)\n",
    "\n",
    "        # ans = []\n",
    "        # for a in pre_ans:\n",
    "        #     a = sorted(list(a))\n",
    "        #     if a not in ans:\n",
    "        #         ans.append(a)\n",
    "        # return ans\n",
    "\n",
    "        if not nums:\n",
    "            return [[]]\n",
    "        left, last = nums[:-1], nums[-1]\n",
    "        without_last = self.subsetsWithDup(left)\n",
    "        with_last = []\n",
    "        for without in without_last:\n",
    "            com = [*without, last]\n",
    "            com.sort()\n",
    "            if com not in with_last and com not in without_last:\n",
    "                with_last.append(com)\n",
    "\n",
    "        return [*without_last, *with_last]\n",
    "        \n",
    "\n",
    "# nums = [1, 2, 2]\n",
    "nums = [4,4,4,1,4]\n",
    "s = Solution()\n",
    "s.subsetsWithDup(nums)"
   ]
  },
  {
   "cell_type": "code",
   "execution_count": 354,
   "metadata": {},
   "outputs": [
    {
     "data": {
      "text/plain": [
       "[[5], [1, 2, 2]]"
      ]
     },
     "execution_count": 354,
     "metadata": {},
     "output_type": "execute_result"
    }
   ],
   "source": [
    "# 40. Combination Sum II\n",
    "class Solution:\n",
    "    def combinationSum2(self, candidates: List[int], target: int) -> List[List[int]]:\n",
    "        ans = []\n",
    "        def combinationsUnique(candidates):\n",
    "            if not candidates:\n",
    "                return [[]]\n",
    "            left, last = candidates[:-1], candidates[-1]\n",
    "\n",
    "            without_last = combinationsUnique(left)\n",
    "            with_last = []\n",
    "\n",
    "            for without in without_last:\n",
    "                com = [*without, last]\n",
    "                com.sort()\n",
    "                if com not in with_last and com not in without_last:\n",
    "                    if sum(com) == target:\n",
    "                        ans.append(com)\n",
    "                    with_last.append(com)\n",
    "                \n",
    "            return [*without_last, *with_last]\n",
    "        \n",
    "        combinationsUnique(candidates)\n",
    "        return ans\n",
    "\n",
    "\n",
    "\n",
    "# candidates, target = [10,1,2,7,6,1,5], 8\n",
    "candidates, target  = [2,5,2,1,2], 5\n",
    "# candidates, target = [1, 2, 2], 3\n",
    "s = Solution()\n",
    "s.combinationSum2(candidates, target)\n"
   ]
  },
  {
   "cell_type": "code",
   "execution_count": 305,
   "metadata": {},
   "outputs": [
    {
     "data": {
      "text/plain": [
       "[['a', 'a', 'b'], ['aa', 'b']]"
      ]
     },
     "execution_count": 305,
     "metadata": {},
     "output_type": "execute_result"
    }
   ],
   "source": [
    "# 131. Palindrome Partitioning\n",
    "class Solution:\n",
    "    def partition(self, s: str) -> List[List[str]]:\n",
    "\n",
    "        ans = []\n",
    "        def dfs(st, crt, s):   # start, current\n",
    "            ln = len(s)\n",
    "            if st == ln:\n",
    "                ans.append(crt)\n",
    "                return\n",
    "            for i in range(st, ln):\n",
    "                if s[st: i + 1] ==  s[st: i + 1][::-1]:\n",
    "                    dfs(i + 1, crt + [s[st: i + 1]], s)\n",
    "        dfs(0, [], s)\n",
    "\n",
    "        return ans\n",
    "\n",
    "\n",
    "\n",
    "s = \"aab\"\n",
    "solution = Solution()\n",
    "solution.partition(s)"
   ]
  },
  {
   "cell_type": "code",
   "execution_count": 314,
   "metadata": {},
   "outputs": [
    {
     "name": "stdout",
     "output_type": "stream",
     "text": [
      "['a', 'b', 'c']\n",
      "['ad', 'bd', 'cd', 'ae', 'be', 'ce', 'af', 'bf', 'cf']\n"
     ]
    },
    {
     "data": {
      "text/plain": [
       "['ad', 'bd', 'cd', 'ae', 'be', 'ce', 'af', 'bf', 'cf']"
      ]
     },
     "execution_count": 314,
     "metadata": {},
     "output_type": "execute_result"
    }
   ],
   "source": [
    "# 17. Letter Combinations of a Phone Number\n",
    "from itertools import combinations\n",
    "class Solution:\n",
    "    def letterCombinations(self, digits: str) -> List[str]:\n",
    "        hm = {\n",
    "            '2': ['a', 'b', 'c'],\n",
    "            '3': ['d', 'e', 'f'],\n",
    "            '4': ['g', 'h', 'i'],\n",
    "            '5': ['j', 'k', 'l'],\n",
    "            '6': ['m', 'n', 'o'],\n",
    "            '7': ['p', 'q', 'r', 's'],\n",
    "            '8': ['t', 'u', 'v'],\n",
    "            '9': ['w', 'x', 'y', 'z']\n",
    "            }\n",
    "\n",
    "        ans = ['']\n",
    "        if not digits:\n",
    "            return []\n",
    "        for d in digits:\n",
    "            tmp = []\n",
    "            for c in hm[d]:\n",
    "                for a in ans:\n",
    "                    tmp.append(a + c)\n",
    "            print(tmp)\n",
    "            ans = tmp\n",
    "        return ans\n",
    "    \n",
    "digits = \"23\"\n",
    "s = Solution()\n",
    "s.letterCombinations(digits)"
   ]
  },
  {
   "cell_type": "code",
   "execution_count": 300,
   "metadata": {},
   "outputs": [
    {
     "data": {
      "text/plain": [
       "[['.Q..', '...Q', 'Q...', '..Q.'], ['..Q.', 'Q...', '...Q', '.Q..']]"
      ]
     },
     "execution_count": 300,
     "metadata": {},
     "output_type": "execute_result"
    }
   ],
   "source": [
    "# 51. N-Queens\n",
    "class Solution:\n",
    "    def solveNQueens(self, n: int) -> List[List[str]]:\n",
    "        solutions = []\n",
    "        state = []\n",
    "        self.search(state, solutions, n)\n",
    "        return solutions\n",
    "    \n",
    "    def is_valid_state(self, state, n):\n",
    "        return len(state) == n \n",
    "    \n",
    "\n",
    "    def get_candidates(self, state, n):\n",
    "        if not state:\n",
    "            return range(n)\n",
    "        \n",
    "        position = len(state)\n",
    "        candidates = set(range(n))\n",
    "        for row, col in enumerate(state):\n",
    "            # print(state, candidates)\n",
    "            candidates.discard(col)\n",
    "            distance = position - row\n",
    "            candidates.discard(col + distance)\n",
    "            candidates.discard(col - distance)\n",
    "            # print(state, candidates, '>>>>>')\n",
    "        return candidates\n",
    "    \n",
    "    def search(self, state, solutions, n):\n",
    "        if self.is_valid_state(state, n):\n",
    "            state_string = self.state_to_string(state, n)\n",
    "            solutions.append(state_string)\n",
    "            return\n",
    "        for candidate in self.get_candidates(state, n):\n",
    "            state.append(candidate)\n",
    "            # print(state)\n",
    "            self.search(state, solutions, n)\n",
    "            state.pop()\n",
    "\n",
    "    def state_to_string(self, state, n):\n",
    "        strings = []\n",
    "        for s in state:\n",
    "            string = '.' * s + 'Q' + '.' * (n - s - 1)\n",
    "            strings.append(string)\n",
    "        return strings\n",
    "\n",
    "\n",
    "\n",
    "n = 4\n",
    "s = Solution()\n",
    "s.solveNQueens(n)\n",
    "\n",
    "# [[1, 3, 0, 2], [2, 0, 3, 1]]     \n",
    "# [[\".Q..\",\"...Q\",\"Q...\",\"..Q.\"],[\"..Q.\",\"Q...\",\"...Q\",\".Q..\"]]"
   ]
  },
  {
   "cell_type": "code",
   "execution_count": 253,
   "metadata": {},
   "outputs": [
    {
     "name": "stdout",
     "output_type": "stream",
     "text": [
      "[array([[0., 0., 1., 0.],\n",
      "       [1., 0., 0., 0.],\n",
      "       [0., 0., 0., 1.],\n",
      "       [0., 1., 0., 0.]]), array([[0., 0., 1., 0.],\n",
      "       [1., 0., 0., 0.],\n",
      "       [0., 0., 0., 1.],\n",
      "       [0., 1., 0., 0.]]), array([[0., 0., 1., 0.],\n",
      "       [1., 0., 0., 0.],\n",
      "       [0., 0., 0., 1.],\n",
      "       [0., 1., 0., 0.]]), array([[0., 0., 1., 0.],\n",
      "       [1., 0., 0., 0.],\n",
      "       [0., 0., 0., 1.],\n",
      "       [0., 1., 0., 0.]])]\n"
     ]
    }
   ],
   "source": [
    "# import numpy as np\n",
    "\n",
    "# def validate(bo, n):\n",
    "#     for row in range (0,n):\n",
    "#         if sum(bo[row,])>1:\n",
    "#             return False\n",
    "\n",
    "#     for col in range (0,n):\n",
    "#         if sum(bo[:,col])>1:\n",
    "#             return False\n",
    "\n",
    "#     diags = [bo[::-1,:].diagonal(i) for i in range(-n+1,n)]\n",
    "#     diags.extend(bo.diagonal(i) for i in range(n-1,-n,-1))\n",
    "#     for x in diags:\n",
    "#         if len(x)>1:\n",
    "#             if sum (x)>1:\n",
    "#                 return False\n",
    "\n",
    "#     return True\n",
    "\n",
    "\n",
    "# ans = []\n",
    "# def solve (bo, col, n):\n",
    "#     if validate(bo,n):\n",
    "#         if bo.sum()==n:\n",
    "#             return True\n",
    "\n",
    "#         for row in range (0,n):\n",
    "#             bo[row,col] = 1\n",
    "#             if validate (bo,n):\n",
    "#                 if solve(bo, col+1,n):\n",
    "#                     ans.append(bo)\n",
    "#                     return True\n",
    "                    \n",
    "#                 bo[row,col] = 0\n",
    "#             else:\n",
    "#                 bo[row,col] = 0\n",
    "#     return False\n",
    "\n",
    "\n",
    "# board = np.zeros((4, 4))\n",
    "# if solve(board, 0, 4):\n",
    "#     print(ans)"
   ]
  },
  {
   "cell_type": "code",
   "execution_count": 330,
   "metadata": {},
   "outputs": [
    {
     "name": "stdout",
     "output_type": "stream",
     "text": [
      "(1, 2, 3) 123\n",
      "(1, 3, 2) 132\n",
      "(2, 1, 3) 213\n",
      "(2, 3, 1) 231\n",
      "(3, 1, 2) 312\n",
      "(3, 2, 1) 321\n"
     ]
    }
   ],
   "source": [
    "from itertools import permutations\n",
    "for per in permutations(range(1, 4)):\n",
    "    print(per, ''.join(str(i) for i in per))\n",
    "# [[1, 2, 3], [2, 1, 3], [2, 3, 1], [1, 3, 2], [3, 1, 2], [3, 2, 1]]"
   ]
  },
  {
   "cell_type": "markdown",
   "metadata": {},
   "source": [
    "##### Graphs"
   ]
  },
  {
   "cell_type": "code",
   "execution_count": 10,
   "metadata": {},
   "outputs": [
    {
     "data": {
      "text/plain": [
       "3"
      ]
     },
     "execution_count": 10,
     "metadata": {},
     "output_type": "execute_result"
    }
   ],
   "source": [
    "from typing import List\n",
    "from collections import deque\n",
    "# 200. Number of Islands\n",
    "class Solution:\n",
    "    def numIslands(self, grid: List[List[str]]) -> int:\n",
    "    #     rows, cols = len(grid), len(grid[0])\n",
    "    #     visited = set()\n",
    "    #     count = 0\n",
    "    #     for r in range(len(grid)):\n",
    "    #         for c in range(len(grid[0])):\n",
    "    #             if self.dfs(grid, r, c, visited) == True:\n",
    "    #                 count += 1\n",
    "    #     return count\n",
    "\n",
    "    # def dfs(self, grid, r, c, visited):\n",
    "    #     rows, cols = len(grid), len(grid[0])\n",
    "    #     if r not in range(rows) \\\n",
    "    #         or c not in range(cols) \\\n",
    "    #         or grid[r][c] == '0' \\\n",
    "    #         or (r, c) in visited:\n",
    "    #         return False\n",
    "        \n",
    "    #     visited.add((r, c))\n",
    "    #     directions = ((-1, 0), (1, 0), (0, -1), (0, 1))\n",
    "    #     for dr, dc in directions:\n",
    "    #         self.dfs(grid, r + dr, c + dc, visited)\n",
    "    #     return True\n",
    "\n",
    "        rows, cols = len(grid), len(grid[0])\n",
    "\n",
    "        visited = set()\n",
    "\n",
    "        def bfs(r, c):\n",
    "            q = deque()\n",
    "            visited.add((r, c))\n",
    "            q.append((r, c))\n",
    "\n",
    "            while q:\n",
    "                row, col = q.popleft()\n",
    "                directions = ((-1, 0), (1, 0), (0, -1), (0, 1))\n",
    "                for dr, dc in directions:\n",
    "                    r, c = row + dr, col + dc\n",
    "                    if r in range(rows) and c in range(cols) and grid[r][c] == '1' and (r, c) not in visited:\n",
    "                        visited.add((r, c))\n",
    "                        q.append((r, c))\n",
    "\n",
    "        ans = 0\n",
    "        for r in range(rows):\n",
    "            for c in range(cols):\n",
    "                if grid[r][c] == '1' and (r, c) not in visited:\n",
    "                    bfs(r, c)\n",
    "                    ans += 1\n",
    "\n",
    "        return ans\n",
    "    \n",
    "grid = [\n",
    "  [\"1\",\"1\",\"0\",\"0\",\"0\"],\n",
    "  [\"1\",\"1\",\"0\",\"0\",\"0\"],\n",
    "  [\"0\",\"0\",\"1\",\"0\",\"0\"],\n",
    "  [\"0\",\"0\",\"0\",\"1\",\"1\"]\n",
    "]\n",
    "s = Solution()\n",
    "s.numIslands(grid)"
   ]
  },
  {
   "cell_type": "code",
   "execution_count": null,
   "metadata": {},
   "outputs": [],
   "source": [
    "# 133. Clone Graph\n",
    "\n",
    "class Node:\n",
    "    def __init__(self, val = 0, neighbors = None):\n",
    "        self.val = val\n",
    "        self.neighbors = neighbors if neighbors is not None else []\n",
    "\n",
    "\n",
    "class Solution:\n",
    "    def cloneGraph(self, node: 'Node') -> 'Node':\n",
    "        pass\n",
    "\n",
    "# a = Node(1, [2, 4])\n",
    "# b = Node(2, [1, 3])\n",
    "# c = Node(3, [2, 4])\n",
    "# d = Node(4, [1, 3])"
   ]
  },
  {
   "cell_type": "code",
   "execution_count": 388,
   "metadata": {},
   "outputs": [
    {
     "data": {
      "text/plain": [
       "4"
      ]
     },
     "execution_count": 388,
     "metadata": {},
     "output_type": "execute_result"
    }
   ],
   "source": [
    "# 994. Rotting Oranges\n",
    "# https://www.youtube.com/watch?v=vsAeM9EGhFo&list=PLtQWXpf5JNGJrA4oZNuF8pRfdxRq3XVm9&index=14\n",
    "from collections import deque\n",
    "class Solution:\n",
    "    def orangesRotting(self, grid: List[List[int]]) -> int:\n",
    "        rows, cols = len(grid), len(grid[0])\n",
    "        freshes = 0\n",
    "        for r in range(rows):\n",
    "            for c in range(cols):\n",
    "                if grid[r][c] == 1:\n",
    "                    freshes += 1\n",
    "        \n",
    "        q = deque()\n",
    "        for r in range(rows):\n",
    "            for c in range(cols):\n",
    "                if grid[r][c] == 2:\n",
    "                    q.append((r, c))\n",
    "\n",
    "        mins = 0\n",
    "        while q and freshes > 0:\n",
    "            for _ in range(len(q)):\n",
    "                row, col = q.popleft()\n",
    "                directions = ((-1, 0), (1, 0), (0, -1), (0, 1))\n",
    "                for dr, dc in directions:\n",
    "                    r, c = row + dr, col + dc\n",
    "                    if r in range(rows) and c in range(cols) and grid[r][c] == 1:\n",
    "                        q.append((r, c))\n",
    "                        freshes -= 1\n",
    "                        grid[r][c] = 2\n",
    "            mins += 1\n",
    "\n",
    "        return mins if not freshes else -1\n",
    "\n",
    "            \n",
    "grid = [[2,1,1],[1,1,0],[0,1,1]]\n",
    "# grid = [[2,1,1],[1,1,1],[0,1,2]]\n",
    "# grid = [[2,1,1],[0,1,1],[1,0,1]]\n",
    "# grid = [[0,2]]\n",
    "# grid = [[0, 1]]\n",
    "# grid = [[0]]\n",
    "# grid = [[0,0,0,0]]\n",
    "s = Solution()\n",
    "s.orangesRotting(grid)\n"
   ]
  },
  {
   "cell_type": "code",
   "execution_count": 409,
   "metadata": {},
   "outputs": [
    {
     "name": "stdout",
     "output_type": "stream",
     "text": [
      "[['X', 'X', 'X', 'X'], ['X', 'X', 'X', 'X'], ['X', 'X', 'X', 'X'], ['X', 'O', 'X', 'X']]\n"
     ]
    }
   ],
   "source": [
    "# 130. Surrounded Regions\n",
    "from collections import deque\n",
    "class Solution:\n",
    "\n",
    "    def solve(self, board: List[List[str]]) -> None:\n",
    "        \"\"\"\n",
    "        Do not return anything, modify board in-place instead.\n",
    "        \"\"\"\n",
    "        rows, cols = len(board), len(board[0])\n",
    "        for r in range(rows):\n",
    "            self.mark(board, r, 0)  # left boader\n",
    "            self.mark(board, r, cols - 1) # right boader\n",
    "\n",
    "        for c in range(1, cols - 1):\n",
    "            self.mark(board, 0, c) # top boarder except the 1st & the last\n",
    "            self.mark(board, rows - 1, c)  # bottom boarder except the 1st & the last\n",
    "\n",
    "\n",
    "        for r in range(rows):\n",
    "            for c in range(cols):\n",
    "                if board[r][c] == 'M':\n",
    "                    board[r][c] = 'O'\n",
    "                elif board[r][c] == 'O':\n",
    "                    board[r][c] = 'X'\n",
    "\n",
    "        \n",
    "    def mark(self, board, r, c):\n",
    "        rows, cols = len(board), len(board[0])\n",
    "        if board[r][c] != 'O':\n",
    "            return\n",
    "        board[r][c] = 'M';\n",
    "\n",
    "        q = deque()\n",
    "        visited = {(r, c)}\n",
    "        q.append((r, c))\n",
    "        while q:\n",
    "            row, col = q.popleft()\n",
    "            directions = ((-1, 0), (1, 0), (0, -1), (0, 1))\n",
    "            for dr, dc in directions:\n",
    "                r, c= row + dr, col + dc\n",
    "                if r in range(rows) and c in range(cols) and board[r][c] == 'O' and (r, c) not in visited:\n",
    "                    visited.add((r, c))\n",
    "                    q.append((r, c))\n",
    "                    board[r][c] = 'M'\n",
    "\n",
    "\n",
    "board = [[\"X\",\"X\",\"X\",\"X\"],[\"X\",\"O\",\"O\",\"X\"],[\"X\",\"X\",\"O\",\"X\"],[\"X\",\"O\",\"X\",\"X\"]]\n",
    "\n",
    "s = Solution()\n",
    "s.solve(board)\n",
    "print(board)\n"
   ]
  },
  {
   "cell_type": "markdown",
   "metadata": {},
   "source": [
    "##### Dynamic Programming"
   ]
  },
  {
   "cell_type": "code",
   "execution_count": null,
   "metadata": {},
   "outputs": [
    {
     "name": "stdout",
     "output_type": "stream",
     "text": [
      "2\n"
     ]
    }
   ],
   "source": [
    "# 322. Coin Change\n",
    "class Solution:\n",
    "    def coinChange(self, coins: List[int], amount: int) -> int:\n",
    "        ans = 0\n",
    "        coins.sort(reverse=True)\n",
    "        while amount > 0:\n",
    "            for c in coins:\n",
    "                x, y = divmod(amount, c)\n",
    "                print(x, y)\n",
    "\n",
    "\n",
    "\n",
    "coins, amount = [1,2,5], 11\n",
    "s = Solution()\n",
    "s.coinChange(coins, amount)"
   ]
  },
  {
   "cell_type": "markdown",
   "metadata": {},
   "source": [
    "##### Greedy"
   ]
  },
  {
   "cell_type": "code",
   "execution_count": 33,
   "metadata": {},
   "outputs": [
    {
     "data": {
      "text/plain": [
       "6"
      ]
     },
     "execution_count": 33,
     "metadata": {},
     "output_type": "execute_result"
    }
   ],
   "source": [
    "# 53. Maximum Subarray\n",
    "class Solution:\n",
    "    def maxSubArray(self, nums: List[int]) -> int:\n",
    "        # mx = float('-inf')\n",
    "        # mx_sofar = 0\n",
    "    \n",
    "        # for i in range(len(nums)):\n",
    "        #     mx_sofar = mx_sofar + nums[i]\n",
    "        #     mx = max(mx, mx_sofar)\n",
    "    \n",
    "        #     if mx_sofar < 0:\n",
    "        #         mx_sofar = 0\n",
    "        # return mx\n",
    "        i = 0\n",
    "        while i < len(nums) - 1:\n",
    "            if nums[i] > 0:\n",
    "                nums[i + 1] += nums[i]\n",
    "            i += 1\n",
    "        return max(nums)\n",
    "\n",
    "\n",
    "nums = [-2,1,-3,4,-1,2,1,-5,4]\n",
    "s = Solution()\n",
    "s.maxSubArray(nums)\n"
   ]
  },
  {
   "cell_type": "code",
   "execution_count": 34,
   "metadata": {},
   "outputs": [
    {
     "name": "stdout",
     "output_type": "stream",
     "text": [
      "0 4\n",
      "1 1\n",
      "2 1\n",
      "3 3\n",
      "4 2\n"
     ]
    }
   ],
   "source": [
    "# 55. Jump Game\n",
    "class Solution:\n",
    "    def canJump(self, nums: List[int]) -> bool:\n",
    "        nums.reverse()\n",
    "        for i, v in enumerate(nums):\n",
    "            print(i, v)\n",
    "            \n",
    "\n",
    "nums = [2,3,1,1,4]\n",
    "s = Solution()\n",
    "s.canJump(nums)\n"
   ]
  },
  {
   "cell_type": "code",
   "execution_count": null,
   "metadata": {},
   "outputs": [],
   "source": []
  }
 ],
 "metadata": {
  "kernelspec": {
   "display_name": "Python 3",
   "language": "python",
   "name": "python3"
  },
  "language_info": {
   "codemirror_mode": {
    "name": "ipython",
    "version": 3
   },
   "file_extension": ".py",
   "mimetype": "text/x-python",
   "name": "python",
   "nbconvert_exporter": "python",
   "pygments_lexer": "ipython3",
   "version": "3.11.2"
  },
  "orig_nbformat": 4
 },
 "nbformat": 4,
 "nbformat_minor": 2
}
