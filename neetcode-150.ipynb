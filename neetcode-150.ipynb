{
 "cells": [
  {
   "attachments": {},
   "cell_type": "markdown",
   "metadata": {},
   "source": [
    "##### Array & Hashing"
   ]
  },
  {
   "cell_type": "code",
   "execution_count": 1,
   "metadata": {},
   "outputs": [],
   "source": [
    "from typing import List, Optional"
   ]
  },
  {
   "cell_type": "code",
   "execution_count": 106,
   "metadata": {},
   "outputs": [],
   "source": [
    "# Contains Duplicate\n",
    "class Solution:\n",
    "    def containsDuplicate(self, nums: List[int]) -> bool:\n",
    "        hs = set()\n",
    "        for n in nums:\n",
    "            if n in hs:\n",
    "                return True\n",
    "            hs.add(n)\n",
    "        return False"
   ]
  },
  {
   "cell_type": "code",
   "execution_count": 107,
   "metadata": {},
   "outputs": [],
   "source": [
    "# 242. Valid Anagram\n",
    "from collections import Counter\n",
    "class Solution:\n",
    "    def isAnagram(self, s: str, t: str) -> bool:\n",
    "        return Counter(s) == Counter(t)"
   ]
  },
  {
   "cell_type": "code",
   "execution_count": 108,
   "metadata": {},
   "outputs": [],
   "source": [
    "# 1. Two Sum\n",
    "class Solution:\n",
    "    def twoSum(self, nums: List[int], target: int) -> List[int]:\n",
    "        hm = {}\n",
    "        for i, v in enumerate(nums):\n",
    "            diff = target - v\n",
    "            if diff in hm:\n",
    "                return [hm[diff], i]\n",
    "            hm[v] = i\n",
    "        return -1\n"
   ]
  },
  {
   "cell_type": "code",
   "execution_count": 109,
   "metadata": {},
   "outputs": [],
   "source": [
    "# 49. Group Anagrams\n",
    "from collections import defaultdict\n",
    "class Solution:\n",
    "    def groupAnagrams(self, strs: List[str]) -> List[List[str]]:\n",
    "        ans = defaultdict(list)\n",
    "        for s in strs:\n",
    "            key = sorted(s)\n",
    "            ans[tuple(key)].append(s)\n",
    "        return ans.values()"
   ]
  },
  {
   "cell_type": "code",
   "execution_count": 110,
   "metadata": {},
   "outputs": [],
   "source": [
    "# 347. Top K Frequent Elements\n",
    "from collections import Counter\n",
    "class Solution:\n",
    "    def topKFrequent(self, nums: List[int], k: int) -> List[int]:\n",
    "        return [num for (num, _) in Counter(nums).most_common(k)]\n"
   ]
  },
  {
   "cell_type": "code",
   "execution_count": 111,
   "metadata": {},
   "outputs": [],
   "source": [
    "# 238. Product of Array Except Self\n",
    "class Solution:\n",
    "    def productExceptSelf(self, nums: List[int]) -> List[int]:\n",
    "        ln = len(nums)\n",
    "        ans = [1] * ln\n",
    "\n",
    "        prefix = 1\n",
    "        for i in range(ln):\n",
    "            ans[i] *= prefix\n",
    "            prefix *= nums[i]\n",
    "\n",
    "        suffix = 1\n",
    "        for i in range(ln-1, -1, -1):\n",
    "            ans[i] *= suffix\n",
    "            suffix *= nums[i]\n",
    "\n",
    "        return ans"
   ]
  },
  {
   "cell_type": "code",
   "execution_count": 112,
   "metadata": {},
   "outputs": [],
   "source": [
    "# 36. Valid Sudoku\n",
    "from collections import defaultdict\n",
    "class Solution:\n",
    "    def isValidSudoku(self, board: List[List[str]]) -> bool:\n",
    "        rows, cols, squares = defaultdict(set), defaultdict(set), defaultdict(set)\n",
    "        for r in range(9):\n",
    "            for c in range(9):\n",
    "                num = board[r][c]\n",
    "                if num == '.':\n",
    "                    continue\n",
    "                if num in rows[r] or num in cols[c] or num in squares[( r // 3, c // 3)]:\n",
    "                    return False\n",
    "                rows[r].add(num)\n",
    "                cols[c].add(num)\n",
    "                squares[(r // 3, c // 3)].add(num)\n",
    "        return True"
   ]
  },
  {
   "cell_type": "code",
   "execution_count": 113,
   "metadata": {},
   "outputs": [],
   "source": [
    "# Encode and Decode Strings\n",
    "class Solution:\n",
    "    def encode(self, strs):\n",
    "        return ':;'.join(strs)\n",
    "\n",
    "    def decode(self, str):\n",
    "        return str.split(':;')"
   ]
  },
  {
   "cell_type": "code",
   "execution_count": 114,
   "metadata": {},
   "outputs": [],
   "source": [
    "# 128. Longest Consecutive Sequence\n",
    "class Solution:\n",
    "    def longestConsecutive(self, nums: List[int]) -> int:\n",
    "        l, mx, ln = 0, 0, len(nums)\n",
    "        nums.sort()\n",
    "        for r in range(1, ln):\n",
    "            if nums[r] == nums[r - 1]:\n",
    "                l += 1\n",
    "            elif nums[r] - nums[r - 1] != 1:\n",
    "                l = r\n",
    "            mx = max(mx, r - l + 1)\n",
    "        return mx if ln > 1 else ln"
   ]
  },
  {
   "attachments": {},
   "cell_type": "markdown",
   "metadata": {},
   "source": [
    "##### Two Pointers"
   ]
  },
  {
   "cell_type": "code",
   "execution_count": 115,
   "metadata": {},
   "outputs": [
    {
     "data": {
      "text/plain": [
       "True"
      ]
     },
     "execution_count": 115,
     "metadata": {},
     "output_type": "execute_result"
    }
   ],
   "source": [
    "# 125. Valid Palindrome\n",
    "import re\n",
    "class Solution:\n",
    "    def isPalindrome(self, s: str) -> bool:\n",
    "        # l, r = 0, len(s) - 1\n",
    "        # while l < r:\n",
    "        #     while not s[l].isalnum() and l < r:  # why do I have to write l < r condition twice?\n",
    "        #         l += 1\n",
    "        #     while not s[r].isalnum() and l < r:\n",
    "        #         r -= 1\n",
    "        #     if s[l].lower() != s[r].lower():\n",
    "        #         return False\n",
    "        #     l += 1\n",
    "        #     r -= 1\n",
    "        # return True\n",
    "\n",
    "# \\w\tReturns a match where the string contains any word characters (characters from a to Z, digits from 0-9, and the underscore _ character)\n",
    "# \\W\tReturns a match where the string DOES NOT contain any word characters\n",
    "        pure = re.sub(r'[\\W_]+', '', s).lower()\n",
    "        l, r = 0, len(pure) - 1\n",
    "        while l < r:\n",
    "            if pure[r] != pure[l]:\n",
    "                return False\n",
    "            l += 1\n",
    "            r -= 1\n",
    "        return True\n",
    "\n",
    "s = \"A man, a plan, a canal: Panama\"\n",
    "s = \".,\"\n",
    "solution = Solution()\n",
    "solution.isPalindrome(s)"
   ]
  },
  {
   "cell_type": "code",
   "execution_count": 116,
   "metadata": {},
   "outputs": [
    {
     "data": {
      "text/plain": [
       "[1, 2]"
      ]
     },
     "execution_count": 116,
     "metadata": {},
     "output_type": "execute_result"
    }
   ],
   "source": [
    "# 167. Two Sum II - Input Array Is Sorted\n",
    "class Solution:\n",
    "    def twoSum(self, numbers: List[int], target: int) -> List[int]:\n",
    "        l, r = 0, len(numbers) - 1\n",
    "        while l < r:\n",
    "            if numbers[l] + numbers[r] > target:\n",
    "                r -= 1\n",
    "            elif numbers[l] + numbers[r] < target:\n",
    "                l += 1\n",
    "            else:\n",
    "                return [l + 1, r + 1]\n",
    "\n",
    "\n",
    "numbers = [2,7,11,15]\n",
    "target = 9\n",
    "\n",
    "s = Solution()\n",
    "s.twoSum(numbers, target)\n"
   ]
  },
  {
   "cell_type": "code",
   "execution_count": 117,
   "metadata": {},
   "outputs": [
    {
     "data": {
      "text/plain": [
       "[[-1, -1, 2], [-1, 0, 1]]"
      ]
     },
     "execution_count": 117,
     "metadata": {},
     "output_type": "execute_result"
    }
   ],
   "source": [
    "# 15. 3Sum\n",
    "class Solution:\n",
    "    def threeSum(self, nums: list[int]) -> list[list[int]]:\n",
    "        nums.sort()\n",
    "        ans = []\n",
    "\n",
    "        for i, v in enumerate(nums):\n",
    "            # These lines are for eliminating duplicates\n",
    "            if i > 0 and v == nums[i - 1]:\n",
    "                continue\n",
    "\n",
    "            l = i + 1\n",
    "            r = len(nums) - 1\n",
    "            while l < r:\n",
    "                sum3 = v + nums[l] + nums[r]\n",
    "                if sum3 > 0:\n",
    "                    r -= 1\n",
    "                elif sum3 < 0:\n",
    "                    l += 1\n",
    "                else:\n",
    "                    ans.append([v, nums[l], nums[r]])\n",
    "                    l += 1\n",
    "                    while nums[l] == nums[l - 1] and l < r: \n",
    "                        l += 1\n",
    "        return ans\n",
    "\n",
    "nums = [-1,0,1,2,-1,-4]\n",
    "s = Solution()\n",
    "s.threeSum(nums)\n"
   ]
  },
  {
   "cell_type": "code",
   "execution_count": 118,
   "metadata": {},
   "outputs": [
    {
     "data": {
      "text/plain": [
       "49"
      ]
     },
     "execution_count": 118,
     "metadata": {},
     "output_type": "execute_result"
    }
   ],
   "source": [
    "# 11. Container With Most Water\n",
    "class Solution:\n",
    "    def maxArea(self, height: List[int]) -> int:\n",
    "        l, r, mx = 0, len(height) - 1, 0\n",
    "        while l < r:\n",
    "            mx = max(mx, min(height[l], height[r]) * (r - l))\n",
    "            # the higher one stands still, the lower one moves.\n",
    "            # If the mountain won't come to Mohammed, Mohammed must go to the mountain.\n",
    "            if height[l] < height[r]: \n",
    "                l += 1\n",
    "            else:\n",
    "                r -= 1\n",
    "        return mx\n",
    "    \n",
    "height = [1,8,6,2,5,4,8,3,7]\n",
    "s = Solution()\n",
    "s.maxArea(height)"
   ]
  },
  {
   "cell_type": "code",
   "execution_count": 119,
   "metadata": {},
   "outputs": [
    {
     "data": {
      "text/plain": [
       "9"
      ]
     },
     "execution_count": 119,
     "metadata": {},
     "output_type": "execute_result"
    }
   ],
   "source": [
    "# 42. Trapping Rain Water\n",
    "class Solution:\n",
    "    def trap(self, height: List[int]) -> int:\n",
    "        l, r, lmax, rmax, ans = 0, len(height) - 1, 0, 0, 0\n",
    "\n",
    "        while l < r:\n",
    "            if height[l] < height[r]:\n",
    "                if height[l] > lmax:\n",
    "                    lmax = height[l]\n",
    "                else:\n",
    "                    ans += lmax - height[l]\n",
    "                l += 1\n",
    "            else:\n",
    "                if height[r] > rmax:\n",
    "                    rmax = height[r]\n",
    "                else:\n",
    "                    ans += rmax - height[r]\n",
    "                r -= 1\n",
    "        return ans\n",
    "height = [0,1,0,2,1,0,1,3,2,1,2,1]\n",
    "height = [4,2,0,3,2,5]\n",
    "s = Solution()\n",
    "s.trap(height)"
   ]
  },
  {
   "attachments": {},
   "cell_type": "markdown",
   "metadata": {},
   "source": [
    "##### Sliding Window"
   ]
  },
  {
   "cell_type": "code",
   "execution_count": 120,
   "metadata": {},
   "outputs": [
    {
     "data": {
      "text/plain": [
       "5"
      ]
     },
     "execution_count": 120,
     "metadata": {},
     "output_type": "execute_result"
    }
   ],
   "source": [
    "# 121. Best Time to Buy and Sell Stock\n",
    "class Solution:\n",
    "    def maxProfit(self, prices: List[int]) -> int:\n",
    "        l, mx = 0, 0\n",
    "        for r in range(len(prices)):\n",
    "            if prices[r] < prices[l]:\n",
    "                l = r\n",
    "            mx = max(mx, prices[r] - prices[l])\n",
    "        return mx\n",
    "\n",
    "prices = [7,1,5,3,6,4]\n",
    "# prices = [7,6,4,3,1]\n",
    "s = Solution()\n",
    "s.maxProfit(prices)"
   ]
  },
  {
   "cell_type": "code",
   "execution_count": 121,
   "metadata": {},
   "outputs": [
    {
     "data": {
      "text/plain": [
       "1"
      ]
     },
     "execution_count": 121,
     "metadata": {},
     "output_type": "execute_result"
    }
   ],
   "source": [
    "# 3. Longest Substring Without Repeating Characters\n",
    "class Solution:\n",
    "    def lengthOfLongestSubstring(self, s: str) -> int:\n",
    "        l, mx, hm= 0, 0, {}\n",
    "\n",
    "        for r, v in enumerate(s):\n",
    "            if v in hm and hm[v] >= l:\n",
    "                l = hm[v] + 1\n",
    "            hm[v] = r\n",
    "            mx = max(mx, r - l + 1)\n",
    "        return mx\n",
    "    \n",
    "s = \" \"\n",
    "solution = Solution()\n",
    "solution.lengthOfLongestSubstring(s)"
   ]
  },
  {
   "cell_type": "code",
   "execution_count": 122,
   "metadata": {},
   "outputs": [],
   "source": [
    "# Longest Repeating Character Replacement"
   ]
  },
  {
   "cell_type": "code",
   "execution_count": 123,
   "metadata": {},
   "outputs": [],
   "source": [
    "# Permutation In String"
   ]
  },
  {
   "cell_type": "code",
   "execution_count": 124,
   "metadata": {},
   "outputs": [
    {
     "name": "stdout",
     "output_type": "stream",
     "text": [
      "ADOBEC\n",
      "ODEBANC\n"
     ]
    }
   ],
   "source": [
    "# 76. Minimum Window Substring\n",
    "class Solution:\n",
    "    def minWindow(self, s: str, t: str) -> str:\n",
    "        def contain(big, small):\n",
    "            for s in small:\n",
    "                if s not in big:\n",
    "                    return False\n",
    "            return True\n",
    "        l, mn, ln = 0, float('inf'), len(s)\n",
    "        for r in range(ln):\n",
    "            if contain(s[l: r + 1], t):\n",
    "                mn = min(mn, r - l + 1)\n",
    "                print(s[l: r + 1])\n",
    "                l = r + 1\n",
    "    \n",
    "s, t = \"ADOBECODEBANC\", \"ABC\"\n",
    "solution = Solution()\n",
    "solution.minWindow(s, t)\n"
   ]
  },
  {
   "cell_type": "code",
   "execution_count": 125,
   "metadata": {},
   "outputs": [
    {
     "data": {
      "text/plain": [
       "[3, 3, 2, 5]"
      ]
     },
     "execution_count": 125,
     "metadata": {},
     "output_type": "execute_result"
    }
   ],
   "source": [
    "# 239. Sliding Window Maximum\n",
    "from collections import deque\n",
    "class Solution:\n",
    "    def maxSlidingWindow(self, nums: List[int], k: int) -> List[int]:\n",
    "        q = deque() # stores *indices*\n",
    "        ans = []\n",
    "        for i, v in enumerate(nums):\n",
    "            while q and nums[q[-1]] <= v:\n",
    "                q.pop()\n",
    "            q.append(i)\n",
    "            # remove first element if it's outside the window\n",
    "            if q[0] == i - k:\n",
    "                q.popleft()\n",
    "            # print(q, [nums[i] for i in q])\n",
    "            # if window has k elements, add to results \n",
    "            if i >= k - 1:\n",
    "                ans.append(nums[q[0]])\n",
    "        return ans\n",
    "            \n",
    "nums, k = [1,3,-1,-3,5,3,6,7], 3\n",
    "nums, k = [1,3,1,2,0,5], 3\n",
    "# nums, k = [1, 3, 2, 5, 8, 7], 3\n",
    "# nums, k = [1], 1\n",
    "# nums, k = [1, -1], 1\n",
    "# nums, k = [7, 2, 4], 2\n",
    "s = Solution()\n",
    "s.maxSlidingWindow(nums, k)"
   ]
  },
  {
   "attachments": {},
   "cell_type": "markdown",
   "metadata": {},
   "source": [
    "##### Stack"
   ]
  },
  {
   "cell_type": "code",
   "execution_count": 185,
   "metadata": {},
   "outputs": [
    {
     "data": {
      "text/plain": [
       "True"
      ]
     },
     "execution_count": 185,
     "metadata": {},
     "output_type": "execute_result"
    }
   ],
   "source": [
    "# 20. Valid Parentheses\n",
    "from collections import deque\n",
    "class Solution:\n",
    "    def isValid(self, s: str) -> bool:\n",
    "        hm = {\n",
    "            ')': '(',\n",
    "            ']': '[',\n",
    "            '}': '{'\n",
    "        }\n",
    "        stack = deque()\n",
    "\n",
    "        for c in s:\n",
    "            if stack and stack[-1] == hm.get(c):\n",
    "                stack.pop()\n",
    "            else:\n",
    "                stack.append(c)\n",
    "        return not stack\n",
    "\n",
    "s = \"()[]{}\"\n",
    "# s = '(]'\n",
    "# s = \"([)]\"\n",
    "so = Solution()\n",
    "so.isValid(s)"
   ]
  },
  {
   "cell_type": "code",
   "execution_count": 362,
   "metadata": {},
   "outputs": [
    {
     "name": "stdout",
     "output_type": "stream",
     "text": [
      "deque([]) []\n",
      "deque([-2]) [-2]\n",
      "deque([-2, 0]) [-2, 0]\n",
      "deque([-2, 0, -3]) [-3, 0, -2]\n",
      "-3\n",
      "deque([-2, 0]) [0, -2]\n",
      "deque([-2]) [-2]\n",
      "-2\n"
     ]
    }
   ],
   "source": [
    "# 155. Min Stack\n",
    "from collections import deque\n",
    "from heapq import heappush, heappop\n",
    "class MinStack:\n",
    "\n",
    "    def __init__(self):\n",
    "        self.stack = deque()\n",
    "        self.min_stack = []\n",
    "\n",
    "    def push(self, val: int) -> None:\n",
    "        self.stack.append(val)\n",
    "        heappush(self.min_stack, val)  \n",
    "\n",
    "    def pop(self) -> None:\n",
    "        self.min_stack.remove(self.stack.pop())\n",
    "\n",
    "    def top(self) -> int:\n",
    "        return self.stack[-1]\n",
    "        \n",
    "\n",
    "    def getMin(self) -> int:\n",
    "        if self.min_stack:\n",
    "            return self.min_stack[0]\n",
    "\n",
    "# Your MinStack object will be instantiated and called as such:\n",
    "obj = MinStack()\n",
    "print(obj.stack, obj.min_stack)\n",
    "obj.push(-2)\n",
    "print(obj.stack, obj.min_stack)\n",
    "obj.push(0)\n",
    "print(obj.stack, obj.min_stack)\n",
    "obj.push(-3)\n",
    "print(obj.stack, obj.min_stack)\n",
    "print(obj.getMin())\n",
    "obj.pop()\n",
    "print(obj.stack, obj.min_stack)\n",
    "obj.pop()\n",
    "print(obj.stack, obj.min_stack)\n",
    "print(obj.getMin())"
   ]
  },
  {
   "cell_type": "code",
   "execution_count": 275,
   "metadata": {},
   "outputs": [
    {
     "data": {
      "text/plain": [
       "-7"
      ]
     },
     "execution_count": 275,
     "metadata": {},
     "output_type": "execute_result"
    }
   ],
   "source": [
    "# 150. Evaluate Reverse Polish Notation\n",
    "from collections import deque\n",
    "class Solution:\n",
    "    def evalRPN(self, tokens: List[str]) -> int:\n",
    "        if len(tokens) == 1:\n",
    "            return int(tokens[0])\n",
    "        ops = {\n",
    "            '+': (lambda x, y: x + y), \n",
    "            '-': (lambda x, y: x - y),\n",
    "            '*': (lambda x, y: x * y),\n",
    "            '/': (lambda x, y: int(x / y))\n",
    "               }\n",
    "        stack = deque()\n",
    "        for t in tokens:\n",
    "            stack.append(t)\n",
    "            if t in ops:\n",
    "                t = stack.pop()\n",
    "                right = stack.pop()\n",
    "                left = stack.pop()\n",
    "                value = ops[t](int(left), int(right))\n",
    "                stack.append(value)\n",
    "        return value\n",
    "        \n",
    "\n",
    "tokens = [\"10\",\"6\",\"9\",\"3\",\"+\",\"-11\",\"*\",\"/\",\"*\",\"17\",\"+\",\"5\",\"+\"]\n",
    "# tokens = [\"4\",\"13\",\"5\",\"/\",\"+\"]\n",
    "# tokens = [\"2\",\"1\",\"+\",\"3\",\"*\"]\n",
    "tokens = [\"4\",\"-2\",\"/\",\"2\",\"-3\",\"-\",\"-\"]\n",
    "s = Solution()\n",
    "s.evalRPN(tokens)"
   ]
  },
  {
   "cell_type": "code",
   "execution_count": 355,
   "metadata": {},
   "outputs": [
    {
     "data": {
      "text/plain": [
       "[1, 1, 0]"
      ]
     },
     "execution_count": 355,
     "metadata": {},
     "output_type": "execute_result"
    }
   ],
   "source": [
    "# 739. Daily Temperatures \n",
    "# TODO time exceeded\n",
    "from collections import deque\n",
    "class Solution:\n",
    "    def dailyTemperatures(self, temps: List[int]) -> List[int]:\n",
    "        ln = len(temps)\n",
    "        for i in range(ln):\n",
    "            stack = deque()\n",
    "            t = temps[i]\n",
    "            j = i + 1\n",
    "            has_warmer = False\n",
    "            while j < ln:\n",
    "                if temps[j] > t:\n",
    "                    has_warmer = True\n",
    "                    break\n",
    "                stack.append(temps[j])\n",
    "                j += 1\n",
    "            temps[i] = len(stack) + 1 if has_warmer else 0\n",
    "        return temps\n",
    "\n",
    "\n",
    "s = Solution()\n",
    "s.dailyTemperatures([73,74,75,71,69,72,76,73])\n",
    "s.dailyTemperatures([30,40,50,60])\n",
    "s.dailyTemperatures([30,60,90])"
   ]
  },
  {
   "cell_type": "code",
   "execution_count": null,
   "metadata": {},
   "outputs": [],
   "source": [
    "# Car Fleet"
   ]
  },
  {
   "cell_type": "code",
   "execution_count": 354,
   "metadata": {},
   "outputs": [
    {
     "name": "stdout",
     "output_type": "stream",
     "text": [
      "[2, 2, 5, 6, 5, 6]\n"
     ]
    }
   ],
   "source": [
    "# 84. Largest Rectangle in Histogram\n",
    "class Solution:\n",
    "    def largestRectangleArea(self, heights: List[int]) -> int:\n",
    "        pass\n",
    "# Explanation\n",
    "# https://leetcode.com/problems/largest-rectangle-in-histogram/solutions/995249/python-increasing-stack-explained/\n",
    "\n",
    "s = Solution()\n",
    "s.largestRectangleArea([2,1,5,6,2,3])\n",
    "# s.largestRectangleArea([0,9])\n",
    "# s.largestRectangleArea([4, 2, 0, 3, 2, 4, 3, 4])"
   ]
  },
  {
   "attachments": {},
   "cell_type": "markdown",
   "metadata": {},
   "source": [
    "##### Binary Search"
   ]
  },
  {
   "cell_type": "code",
   "execution_count": 556,
   "metadata": {},
   "outputs": [],
   "source": [
    "# 704. Binary Search\n",
    "class Solution:\n",
    "    def search(self, nums: List[int], target: int) -> int:\n",
    "        l, r = 0, len(nums) - 1\n",
    "        while l <= r:\n",
    "            mid = (l + r) // 2\n",
    "            if nums[mid] > target:\n",
    "                r = mid - 1\n",
    "            elif nums[mid] < target:\n",
    "                l = mid + 1\n",
    "            else:\n",
    "                return mid\n",
    "        return -1"
   ]
  },
  {
   "cell_type": "code",
   "execution_count": 557,
   "metadata": {},
   "outputs": [
    {
     "data": {
      "text/plain": [
       "False"
      ]
     },
     "execution_count": 557,
     "metadata": {},
     "output_type": "execute_result"
    }
   ],
   "source": [
    "# 74. Search a 2D Matrix\n",
    "class Solution:\n",
    "    def searchMatrix(self, matrix: List[List[int]], target: int) -> bool:\n",
    "        flat = [i for m in matrix for i in m]\n",
    "        l, r = 0, len(flat) - 1\n",
    "        while l <= r:\n",
    "            mid = (l + r) // 2\n",
    "            if flat[mid] > target:\n",
    "                r = mid - 1\n",
    "            elif flat[mid] < target:\n",
    "                l = mid + 1\n",
    "            else:\n",
    "                return True\n",
    "        return False\n",
    "\n",
    "matrix, target = [[1,3,5,7],[10,11,16,20],[23,30,34,60]], 13\n",
    "s = Solution()\n",
    "s.searchMatrix(matrix, target)\n"
   ]
  },
  {
   "cell_type": "code",
   "execution_count": null,
   "metadata": {},
   "outputs": [],
   "source": [
    "# Koko Eating Bananas"
   ]
  },
  {
   "cell_type": "code",
   "execution_count": 572,
   "metadata": {},
   "outputs": [
    {
     "data": {
      "text/plain": [
       "0"
      ]
     },
     "execution_count": 572,
     "metadata": {},
     "output_type": "execute_result"
    }
   ],
   "source": [
    "# 153. Find Minimum in Rotated Sorted Array\n",
    "class Solution:\n",
    "    def findMin(self, nums: List[int]) -> int:\n",
    "        l, r = 0, len(nums) - 1\n",
    "        while l < r:\n",
    "            m = (l + r) // 2\n",
    "            if nums[m] > nums[r]:\n",
    "                l = m + 1\n",
    "            else:\n",
    "                r = m\n",
    "        return nums[l]\n",
    "        \n",
    "nums = [3,4,5,1,2]\n",
    "nums = [4, 5, 6, 7, 0, 1, 2]\n",
    "s = Solution()\n",
    "s.findMin(nums)"
   ]
  },
  {
   "cell_type": "code",
   "execution_count": 601,
   "metadata": {},
   "outputs": [
    {
     "name": "stdout",
     "output_type": "stream",
     "text": [
      "0 6 3\n",
      "0 2 1\n",
      "2 2 2\n"
     ]
    },
    {
     "data": {
      "text/plain": [
       "2"
      ]
     },
     "execution_count": 601,
     "metadata": {},
     "output_type": "execute_result"
    }
   ],
   "source": [
    "# 33. Search in Rotated Sorted Array\n",
    "class Solution:\n",
    "    def search(self, nums: List[int], target: int) -> int:\n",
    "        # ln = len(nums)\n",
    "        # l, r = 0, ln - 1\n",
    "        # while l < r:\n",
    "        #     m = (l + r) // 2\n",
    "        #     if nums[m] > nums[r]:\n",
    "        #         l = m + 1\n",
    "        #     else:\n",
    "        #         r = m\n",
    "        # pivot = l\n",
    "\n",
    "        # l, r = 0, ln - 1\n",
    "        # while l <= r:\n",
    "        #     m = (l + r) // 2\n",
    "        #     m2 = (m + pivot) % ln\n",
    "        #     print(m, m2)\n",
    "        #     if nums[m2] == target:\n",
    "        #         return m2\n",
    "        #     elif nums[m2] < target:\n",
    "        #         l = m + 1\n",
    "        #     else:\n",
    "        #         r = m - 1\n",
    "        # return -1\n",
    "\n",
    "\n",
    "        # https://www.youtube.com/watch?v=nuN3-AkykfM\n",
    "        l, r = 0, len(nums) - 1\n",
    "        while l <= r:\n",
    "            m = (l + r) // 2\n",
    "\n",
    "            if target < nums[m]:\n",
    "                if target >= nums[l] or nums[l] > nums[m]:\n",
    "                    r = m - 1\n",
    "                else:\n",
    "                    l = m + 1\n",
    "            elif target > nums[m]:\n",
    "                if target <= nums[r] or nums[m] > nums[r]:\n",
    "                    l = m + 1\n",
    "                else:\n",
    "                    r = m - 1\n",
    "            else:\n",
    "                return m\n",
    "        return -1\n",
    "\n",
    "              \n",
    "nums, target = [4, 5, 6, 7, 0, 1, 2], 0\n",
    "nums, target = [6, 7, 1, 2, 3, 4, 5], 1\n",
    "\n",
    "s = Solution()\n",
    "s.search(nums, target)"
   ]
  },
  {
   "cell_type": "code",
   "execution_count": 499,
   "metadata": {},
   "outputs": [
    {
     "name": "stdout",
     "output_type": "stream",
     "text": [
      "None\n",
      "None\n",
      "\n",
      "high\n",
      "high\n",
      "low\n",
      "low\n"
     ]
    }
   ],
   "source": [
    "# Time Based Key Value Store\n",
    "from collections import defaultdict\n",
    "class TimeMap:\n",
    "\n",
    "    def __init__(self):\n",
    "        self.hm = defaultdict(list)\n",
    "\n",
    "    def set(self, key: str, value: str, timestamp: int) -> None:\n",
    "        self.hm[key].append((value, timestamp))\n",
    "        \n",
    "\n",
    "    def get(self, key: str, timestamp: int) -> str:\n",
    "        values = self.hm.get(key)\n",
    "        if not values or values[0][1] > timestamp:\n",
    "            return ''\n",
    "        for i in range(len(values) - 1, -1, -1):\n",
    "            if timestamp >= values[i][1]:\n",
    "                return values[i][0]\n",
    "                break\n",
    "                \n",
    "    \n",
    "obj = TimeMap()\n",
    "print(obj.set(\"love\",\"high\",10))\n",
    "print(obj.set(\"love\",\"low\",20))\n",
    "# print(obj.hm)\n",
    "print(obj.get(\"love\",5))\n",
    "print(obj.get(\"love\",10))\n",
    "print(obj.get(\"love\",15))\n",
    "print(obj.get(\"love\",20))\n",
    "print(obj.get(\"love\",25))"
   ]
  },
  {
   "cell_type": "code",
   "execution_count": null,
   "metadata": {},
   "outputs": [],
   "source": [
    "# Median of Two Sorted Arrays"
   ]
  },
  {
   "attachments": {},
   "cell_type": "markdown",
   "metadata": {},
   "source": [
    "##### Linked List"
   ]
  },
  {
   "cell_type": "code",
   "execution_count": 4,
   "metadata": {},
   "outputs": [
    {
     "name": "stdout",
     "output_type": "stream",
     "text": [
      "1 -> 2 -> 3 -> 4 -> 5 -> None\n",
      "5 -> 4 -> 3 -> 2 -> 1 -> None\n"
     ]
    }
   ],
   "source": [
    "class ListNode:\n",
    "    def __init__(self, val=0, next=None):\n",
    "        self.val = val\n",
    "        self.next = next\n",
    "\n",
    "    def graph(self):\n",
    "        nodes = []\n",
    "        while self:\n",
    "            nodes.append(str(self.val) + ' ->')\n",
    "            self = self.next\n",
    "        print(' '.join(nodes) + ' None') \n",
    "    \n",
    "def list2ll(arr):\n",
    "    crt = dummy = ListNode()\n",
    "    for a in arr:\n",
    "        crt.next = ListNode(a)\n",
    "        crt = crt.next\n",
    "    return dummy.next\n",
    "\n",
    "# 206. Reverse Linked List\n",
    "class Solution:\n",
    "    def reverseList(self, head: Optional[ListNode]) -> Optional[ListNode]:\n",
    "        prev = None\n",
    "        crt = head\n",
    "        while crt:\n",
    "            nxt = crt.next\n",
    "            crt.next = prev\n",
    "            prev = crt\n",
    "            crt = nxt\n",
    "        return prev\n",
    "\n",
    "\n",
    "\n",
    "head = list2ll([1,2,3,4,5])\n",
    "head.graph()\n",
    "s = Solution()\n",
    "ans = s.reverseList(head)\n",
    "ans.graph()"
   ]
  },
  {
   "cell_type": "code",
   "execution_count": 4,
   "metadata": {},
   "outputs": [
    {
     "name": "stdout",
     "output_type": "stream",
     "text": [
      "1 -> 2 -> 4 -> None\n",
      "1 -> 3 -> 4 -> None\n",
      "1 -> 1 -> 2 -> 3 -> 4 -> 4 -> None\n"
     ]
    }
   ],
   "source": [
    "# 21. Merge Two Sorted Lists\n",
    "class Solution:\n",
    "    def mergeTwoLists(self, list1: Optional[ListNode], list2: Optional[ListNode]) -> Optional[ListNode]:\n",
    "        crt = dummy = ListNode()\n",
    "        while list1 and list2:\n",
    "            if list1.val < list2.val:\n",
    "                crt.next = list1\n",
    "                list1 = list1.next\n",
    "            else:\n",
    "                crt.next = list2\n",
    "                list2 = list2.next\n",
    "            crt = crt.next\n",
    "        if list1:\n",
    "            crt.next = list1\n",
    "        if list2:\n",
    "            crt.next = list2\n",
    "        return dummy.next\n",
    "\n",
    "        \n",
    "\n",
    "list1 = list2ll([1, 2, 4])\n",
    "list2 = list2ll([1, 3, 4])\n",
    "list1.graph()\n",
    "list2.graph()\n",
    "\n",
    "s = Solution()\n",
    "ans = s.mergeTwoLists(list1, list2)\n",
    "ans.graph()\n"
   ]
  },
  {
   "cell_type": "code",
   "execution_count": 5,
   "metadata": {},
   "outputs": [
    {
     "name": "stdout",
     "output_type": "stream",
     "text": [
      "1 -> 2 -> 3 -> 4 -> 5 -> None\n"
     ]
    }
   ],
   "source": [
    "# 143. Reorder List\n",
    "class Solution:\n",
    "    def reorderList(self, head: Optional[ListNode]) -> None:\n",
    "        \"\"\"\n",
    "        Do not return anything, modify head in-place instead.\n",
    "        \"\"\"\n",
    "        lst = []\n",
    "        crt = head\n",
    "        while crt:\n",
    "            lst.append(crt)\n",
    "            crt = crt.next\n",
    "\n",
    "        # crt = head\n",
    "        # l, r = 1, len(lst) - 1\n",
    "        # while l <= r:\n",
    "        #     crt.next = lst[r]\n",
    "        #     crt = crt.next\n",
    "        #     r -= 1\n",
    "        #     print(lst[r].val)\n",
    "        #     print(lst[l].val)\n",
    "        #     crt.next = lst[l]\n",
    "        #     crt = crt.next\n",
    "        #     l += 1\n",
    "        \n",
    "        # crt = head\n",
    "        # while crt:\n",
    "        #     crt = crt.next\n",
    "        #     print(crt)\n",
    "        \n",
    "        \n",
    "head = list2ll([1,2,3,4])\n",
    "head = list2ll([1,2,3,4,5])\n",
    "head.graph()\n",
    "\n",
    "s = Solution()\n",
    "ans = s.reorderList(head)\n",
    "# ans.graph()\n"
   ]
  },
  {
   "cell_type": "code",
   "execution_count": 49,
   "metadata": {},
   "outputs": [
    {
     "name": "stdout",
     "output_type": "stream",
     "text": [
      "2 -> None\n"
     ]
    }
   ],
   "source": [
    "# 19. Remove Nth Node From End of List\n",
    "class Solution:\n",
    "    def removeNthFromEnd(self, head: Optional[ListNode], n: int) -> Optional[ListNode]:\n",
    "        cnt = 0\n",
    "        crt = head\n",
    "        while crt:\n",
    "            cnt += 1\n",
    "            crt = crt.next\n",
    "\n",
    "        nth = cnt - n\n",
    "        if nth == 0:\n",
    "            return head.next\n",
    "        \n",
    "        crt = head\n",
    "        cnt = 0\n",
    "        while crt:\n",
    "            cnt += 1\n",
    "            if cnt == nth:\n",
    "                if crt.next:\n",
    "                    crt.next = crt.next.next\n",
    "            else:\n",
    "                crt = crt.next\n",
    "        return head\n",
    "head, n = list2ll([1,2,3,4,5]), 2\n",
    "head, n = ListNode(1), 1\n",
    "head, n = list2ll([1,2]), 2\n",
    "s = Solution()\n",
    "s.removeNthFromEnd(head, n).graph()"
   ]
  },
  {
   "cell_type": "code",
   "execution_count": 32,
   "metadata": {},
   "outputs": [
    {
     "name": "stdout",
     "output_type": "stream",
     "text": [
      "1 -> 2 -> None\n"
     ]
    }
   ],
   "source": [
    "# 138. Copy List with Random Pointer\"\n",
    "class Node:\n",
    "    def __init__(self, x: int, next: 'Node' = None, random: 'Node' = None):\n",
    "        self.val = int(x)\n",
    "        self.next = next\n",
    "        self.random = random\n",
    "\n",
    "class Solution:\n",
    "    def copyRandomList(self, head: 'Optional[Node]') -> 'Optional[Node]':\n",
    "        lst = []\n",
    "        crt = head\n",
    "        while crt:\n",
    "            lst.append(crt)\n",
    "            crt = crt.next\n",
    "\n",
    "        crt = dummy = ListNode()\n",
    "        new_lst = []\n",
    "        for node in lst:\n",
    "            crt.next = ListNode(val=node.val)\n",
    "            crt = crt.next\n",
    "            crt.random = None\n",
    "            new_lst.append(crt)\n",
    "            # print(crt.val, crt.random)\n",
    "        new_head = dummy.next\n",
    "\n",
    "\n",
    "        for i in range(len(lst)):\n",
    "            if lst[i].random:\n",
    "                new_lst[i].random = new_lst[lst.index(lst[i].random)]\n",
    "\n",
    "        # new_head.graph()\n",
    "        # crt = new_head\n",
    "        # while crt:\n",
    "        #     print(crt.random.val)\n",
    "        #     crt = crt.next\n",
    "        return new_head\n",
    "head = list2ll([1, 2])\n",
    "head.random = head.next\n",
    "head.next.random = head.next\n",
    "head.graph()\n",
    "s = Solution()\n",
    "ans = s.copyRandomList(head)\n",
    "# ans.graph()\n"
   ]
  },
  {
   "cell_type": "code",
   "execution_count": 105,
   "metadata": {},
   "outputs": [
    {
     "name": "stdout",
     "output_type": "stream",
     "text": [
      "9 -> 9 -> 9 -> 9 -> 9 -> 9 -> 9 -> None\n",
      "9 -> 9 -> 9 -> 9 -> None\n",
      "8 -> 9 -> 9 -> 9 -> 0 -> 0 -> 0 -> 1 -> None\n"
     ]
    }
   ],
   "source": [
    "# 2. Add Two Numbers\n",
    "class Solution:\n",
    "    def addTwoNumbers(self, l1: Optional[ListNode], l2: Optional[ListNode]) -> Optional[ListNode]:\n",
    "        crt = dummy = ListNode()\n",
    "        carry = 0\n",
    "        while l1 and l2:\n",
    "            val = l1.val + l2.val + carry\n",
    "            crt.next = ListNode(val % 10)\n",
    "            l1 = l1.next\n",
    "            l2 = l2.next\n",
    "            if val > 9:\n",
    "                carry = 1\n",
    "            else:\n",
    "                carry = 0\n",
    "            crt = crt.next\n",
    "        \n",
    "\n",
    "        while l1:\n",
    "            val = l1.val + carry\n",
    "            crt.next = ListNode(val % 10)\n",
    "            l1 = l1.next\n",
    "            if val > 9:\n",
    "                carry = 1\n",
    "            else:\n",
    "                carry = 0\n",
    "            crt = crt.next\n",
    "\n",
    "        while l2:\n",
    "            val = l2.val + carry\n",
    "            crt.next = ListNode(val % 10)\n",
    "            l2 = l2.next\n",
    "            if val > 9:\n",
    "                carry = 1\n",
    "            else:\n",
    "                carry = 0\n",
    "            crt = crt.next\n",
    "\n",
    "        if carry:\n",
    "            crt.next = ListNode(carry)\n",
    "\n",
    "        return dummy.next\n",
    "    \n",
    "\n",
    "\n",
    "\n",
    "l1 = list2ll([9,9,9,9,9,9,9])\n",
    "l2 = list2ll([9,9,9,9])\n",
    "l1.graph()\n",
    "l2.graph()\n",
    "\n",
    "# l1 = list2ll([2, 4, 3])\n",
    "# l2 = list2ll([5, 6, 4])\n",
    "\n",
    "# l1 = list2ll([2, 4, 9])\n",
    "# l2 = list2ll([5, 6, 4, 9])\n",
    "\n",
    "s = Solution()\n",
    "ans = s.addTwoNumbers(l1, l2)\n",
    "ans.graph()\n"
   ]
  },
  {
   "cell_type": "code",
   "execution_count": 150,
   "metadata": {},
   "outputs": [
    {
     "name": "stdout",
     "output_type": "stream",
     "text": [
      "-1\n",
      "3\n"
     ]
    }
   ],
   "source": [
    "# 146. LRU Cache\n",
    "from collections import OrderedDict\n",
    "class LRUCache:\n",
    "\n",
    "    def __init__(self, capacity: int):\n",
    "        self.capacity = capacity\n",
    "        self.od = OrderedDict()\n",
    "\n",
    "    def get(self, key: int) -> int:\n",
    "        v = self.od.get(key, None)\n",
    "        if v is None:\n",
    "            return -1\n",
    "        self.od.pop(key)\n",
    "        self.od[key] = v\n",
    "        return v\n",
    "\n",
    "    def put(self, key: int, value: int) -> None:\n",
    "        if key in self.od:\n",
    "            self.od.pop(key)\n",
    "            self.od[key] = value\n",
    "        self.od[key] = value\n",
    "        if len(self.od) > self.capacity:\n",
    "            for key in self.od.keys():\n",
    "                self.od.pop(key)\n",
    "                break\n",
    "\n",
    "obj = LRUCache(2)\n",
    "obj.put(2, 1)\n",
    "# print(obj.od)\n",
    "obj.put(1, 1)\n",
    "# print(obj.od)\n",
    "obj.put(2, 3)\n",
    "# print(obj.od)\n",
    "obj.put(4, 1)\n",
    "# print(obj.od)\n",
    "print(obj.get(1))\n",
    "print(obj.get(2))\n",
    "\n",
    "\n"
   ]
  },
  {
   "cell_type": "code",
   "execution_count": 151,
   "metadata": {},
   "outputs": [],
   "source": [
    "# Merge K Sorted Lists"
   ]
  },
  {
   "cell_type": "code",
   "execution_count": 152,
   "metadata": {},
   "outputs": [],
   "source": [
    "# Reverse Nodes In K Group"
   ]
  },
  {
   "cell_type": "markdown",
   "metadata": {},
   "source": [
    "##### Trees"
   ]
  },
  {
   "cell_type": "code",
   "execution_count": 156,
   "metadata": {},
   "outputs": [
    {
     "name": "stdout",
     "output_type": "stream",
     "text": [
      "  _4_  \n",
      " /   \\ \n",
      " 2   7 \n",
      "/ \\ / \\\n",
      "1 3 6 9\n"
     ]
    }
   ],
   "source": [
    "from collections import deque\n",
    "class TreeNode:\n",
    "    def __init__(self, val, left=None, right=None):\n",
    "        self.val = val\n",
    "        self.left = left\n",
    "        self.right = right\n",
    "\n",
    "    def graph(self):\n",
    "        \"\"\"Graph an instance of (tree) Node class\"\"\"\n",
    "        lines, *_ = self.graph_aux()\n",
    "        for line in lines:\n",
    "            print(line)\n",
    "\n",
    "    def graph_aux(self):\n",
    "        \"\"\"Returns list of strings, width, height, and horizontal coordinate of the root.\"\"\"\n",
    "        # No child.\n",
    "        if self.right is None and self.left is None:\n",
    "            line = str(self.val)\n",
    "            width = len(line)\n",
    "            height = 1\n",
    "            middle = width // 2\n",
    "            return [line], width, height, middle\n",
    "\n",
    "        # Only left child.\n",
    "        if self.right is None:\n",
    "            lines, n, p, x = self.left.graph_aux()\n",
    "            s = str(self.val)\n",
    "            u = len(s)\n",
    "            first_line = (x + 1) * ' ' + (n - x - 1) * '_' + s\n",
    "            second_line = x * ' ' + '/' + (n - x - 1 + u) * ' '\n",
    "            shifted_lines = [line + u * ' ' for line in lines]\n",
    "            return [first_line, second_line] + shifted_lines, n + u, p + 2, n + u // 2\n",
    "\n",
    "        # Only right child.\n",
    "        if self.left is None:\n",
    "            lines, n, p, x = self.right.graph_aux()\n",
    "            s = str(self.val)\n",
    "            u = len(s)\n",
    "            first_line = s + x * '_' + (n - x) * ' '\n",
    "            second_line = (u + x) * ' ' + '\\\\' + (n - x - 1) * ' '\n",
    "            shifted_lines = [u * ' ' + line for line in lines]\n",
    "            return [first_line, second_line] + shifted_lines, n + u, p + 2, u // 2\n",
    "\n",
    "        # Two children.\n",
    "        left, n, p, x = self.left.graph_aux()\n",
    "        right, m, q, y = self.right.graph_aux()\n",
    "        s = str(self.val)\n",
    "        u = len(s)\n",
    "        first_line = (x + 1) * ' ' + (n - x - 1) * '_' + s + y * '_' + (m - y) * ' '\n",
    "        second_line = x * ' ' + '/' + (n - x - 1 + u + y) * ' ' + '\\\\' + (m - y - 1) * ' '\n",
    "        if p < q:\n",
    "            left += [n * ' '] * (q - p)\n",
    "        elif q < p:\n",
    "            right += [m * ' '] * (p - q)\n",
    "        zipped_lines = zip(left, right)\n",
    "        lines = [first_line, second_line] + [a + u * ' ' + b for a, b in zipped_lines]\n",
    "        return lines, n + m + u, max(p, q) + 2, n + u // 2\n",
    "\n",
    "\n",
    "\n",
    "def serialize(root):\n",
    "    q = deque()\n",
    "\n",
    "    if not root: \n",
    "        return None\n",
    "    q.append(root)\n",
    "\n",
    "    ans = []\n",
    "    while q:\n",
    "        crt = q.popleft()\n",
    "        if not crt:\n",
    "            ans.append(None)\n",
    "        else:\n",
    "            ans.append(crt.val)\n",
    "\n",
    "            q.append(crt.left)\n",
    "            q.append(crt.right)\n",
    "    return ans\n",
    "\n",
    "def deserialize(data):\n",
    "    def createNode(val):\n",
    "        if val is None: \n",
    "            return None\n",
    "        return TreeNode(val)\n",
    "\n",
    "    if not data: \n",
    "        return None\n",
    "    root = createNode(data[0])\n",
    "    i = 1\n",
    "    q = deque([root])\n",
    "    while q:\n",
    "        crt = q.popleft()\n",
    "        crt.left = createNode(data[i])\n",
    "        crt.right = createNode(data[i+1])\n",
    "        i += 2\n",
    "\n",
    "        if crt.left:\n",
    "            q.append(crt.left)\n",
    "        if crt.right:\n",
    "            q.append(crt.right)\n",
    "    return root\n",
    "\n",
    "\n",
    "# 226. Invert Binary Tree\n",
    "class Solution:\n",
    "    def invertTree(self, root: Optional[TreeNode]) -> Optional[TreeNode]:\n",
    "        pass\n",
    "\n",
    "root = deserialize([4, 2, 7, 1, 3, 6, 9, None, None, None, None, None, None, None, None])\n",
    "root.graph()"
   ]
  },
  {
   "cell_type": "code",
   "execution_count": null,
   "metadata": {},
   "outputs": [],
   "source": []
  }
 ],
 "metadata": {
  "kernelspec": {
   "display_name": "Python 3",
   "language": "python",
   "name": "python3"
  },
  "language_info": {
   "codemirror_mode": {
    "name": "ipython",
    "version": 3
   },
   "file_extension": ".py",
   "mimetype": "text/x-python",
   "name": "python",
   "nbconvert_exporter": "python",
   "pygments_lexer": "ipython3",
   "version": "3.11.2"
  },
  "orig_nbformat": 4
 },
 "nbformat": 4,
 "nbformat_minor": 2
}
