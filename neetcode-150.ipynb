{
 "cells": [
  {
   "attachments": {},
   "cell_type": "markdown",
   "metadata": {},
   "source": [
    "##### Array & Hashing"
   ]
  },
  {
   "cell_type": "code",
   "execution_count": 88,
   "metadata": {},
   "outputs": [],
   "source": [
    "from typing import List"
   ]
  },
  {
   "cell_type": "code",
   "execution_count": 100,
   "metadata": {},
   "outputs": [],
   "source": [
    "# Contains Duplicate\n",
    "class Solution:\n",
    "    def containsDuplicate(self, nums: List[int]) -> bool:\n",
    "        hs = set()\n",
    "        for n in nums:\n",
    "            if n in hs:\n",
    "                return True\n",
    "            hs.add(n)\n",
    "        return False"
   ]
  },
  {
   "cell_type": "code",
   "execution_count": 101,
   "metadata": {},
   "outputs": [],
   "source": [
    "# 242. Valid Anagram\n",
    "from collections import Counter\n",
    "class Solution:\n",
    "    def isAnagram(self, s: str, t: str) -> bool:\n",
    "        return Counter(s) == Counter(t)"
   ]
  },
  {
   "cell_type": "code",
   "execution_count": 102,
   "metadata": {},
   "outputs": [],
   "source": [
    "# 1. Two Sum\n",
    "class Solution:\n",
    "    def twoSum(self, nums: List[int], target: int) -> List[int]:\n",
    "        hm = {}\n",
    "        for i, v in enumerate(nums):\n",
    "            diff = target - v\n",
    "            if diff in hm:\n",
    "                return [hm[diff], i]\n",
    "            hm[v] = i\n",
    "        return -1\n"
   ]
  },
  {
   "cell_type": "code",
   "execution_count": 103,
   "metadata": {},
   "outputs": [],
   "source": [
    "# 49. Group Anagrams\n",
    "from collections import defaultdict\n",
    "class Solution:\n",
    "    def groupAnagrams(self, strs: List[str]) -> List[List[str]]:\n",
    "        ans = defaultdict(list)\n",
    "        for s in strs:\n",
    "            key = sorted(s)\n",
    "            ans[tuple(key)].append(s)\n",
    "        return ans.values()"
   ]
  },
  {
   "cell_type": "code",
   "execution_count": 104,
   "metadata": {},
   "outputs": [],
   "source": [
    "# 347. Top K Frequent Elements\n",
    "from collections import Counter\n",
    "class Solution:\n",
    "    def topKFrequent(self, nums: List[int], k: int) -> List[int]:\n",
    "        return [num for (num, _) in Counter(nums).most_common(k)]\n"
   ]
  },
  {
   "cell_type": "code",
   "execution_count": 105,
   "metadata": {},
   "outputs": [],
   "source": [
    "# 238. Product of Array Except Self\n",
    "class Solution:\n",
    "    def productExceptSelf(self, nums: List[int]) -> List[int]:\n",
    "        ln = len(nums)\n",
    "        ans = [1] * ln\n",
    "\n",
    "        prefix = 1\n",
    "        for i in range(ln):\n",
    "            ans[i] *= prefix\n",
    "            prefix *= nums[i]\n",
    "\n",
    "        suffix = 1\n",
    "        for i in range(ln-1, -1, -1):\n",
    "            ans[i] *= suffix\n",
    "            suffix *= nums[i]\n",
    "\n",
    "        return ans"
   ]
  },
  {
   "cell_type": "code",
   "execution_count": 106,
   "metadata": {},
   "outputs": [],
   "source": [
    "# 36. Valid Sudoku\n",
    "from collections import defaultdict\n",
    "class Solution:\n",
    "    def isValidSudoku(self, board: List[List[str]]) -> bool:\n",
    "        rows, cols, squares = defaultdict(set), defaultdict(set), defaultdict(set)\n",
    "        for r in range(9):\n",
    "            for c in range(9):\n",
    "                num = board[r][c]\n",
    "                if num == '.':\n",
    "                    continue\n",
    "                if num in rows[r] or num in cols[c] or num in squares[( r // 3, c // 3)]:\n",
    "                    return False\n",
    "                rows[r].add(num)\n",
    "                cols[c].add(num)\n",
    "                squares[(r // 3, c // 3)].add(num)\n",
    "        return True"
   ]
  },
  {
   "cell_type": "code",
   "execution_count": 107,
   "metadata": {},
   "outputs": [],
   "source": [
    "# Encode and Decode Strings\n",
    "class Solution:\n",
    "    def encode(self, strs):\n",
    "        return ':;'.join(strs)\n",
    "\n",
    "    def decode(self, str):\n",
    "        return str.split(':;')"
   ]
  },
  {
   "cell_type": "code",
   "execution_count": 108,
   "metadata": {},
   "outputs": [],
   "source": [
    "# 128. Longest Consecutive Sequence\n",
    "class Solution:\n",
    "    def longestConsecutive(self, nums: List[int]) -> int:\n",
    "        l, mx, ln = 0, 0, len(nums)\n",
    "        nums.sort()\n",
    "        for r in range(1, ln):\n",
    "            if nums[r] == nums[r - 1]:\n",
    "                l += 1\n",
    "            elif nums[r] - nums[r - 1] != 1:\n",
    "                l = r\n",
    "            mx = max(mx, r - l + 1)\n",
    "        return mx if ln > 1 else ln"
   ]
  },
  {
   "attachments": {},
   "cell_type": "markdown",
   "metadata": {},
   "source": [
    "##### Two Pointers"
   ]
  },
  {
   "cell_type": "code",
   "execution_count": 131,
   "metadata": {},
   "outputs": [
    {
     "data": {
      "text/plain": [
       "True"
      ]
     },
     "execution_count": 131,
     "metadata": {},
     "output_type": "execute_result"
    }
   ],
   "source": [
    "# 125. Valid Palindrome\n",
    "import re\n",
    "class Solution:\n",
    "    def isPalindrome(self, s: str) -> bool:\n",
    "        # l, r = 0, len(s) - 1\n",
    "        # while l < r:\n",
    "        #     while not s[l].isalnum() and l < r:  # why do I have to write l < r condition twice?\n",
    "        #         l += 1\n",
    "        #     while not s[r].isalnum() and l < r:\n",
    "        #         r -= 1\n",
    "        #     if s[l].lower() != s[r].lower():\n",
    "        #         return False\n",
    "        #     l += 1\n",
    "        #     r -= 1\n",
    "        # return True\n",
    "\n",
    "# \\w\tReturns a match where the string contains any word characters (characters from a to Z, digits from 0-9, and the underscore _ character)\n",
    "# \\W\tReturns a match where the string DOES NOT contain any word characters\n",
    "        pure = re.sub(r'[\\W_]+', '', s).lower()\n",
    "        l, r = 0, len(pure) - 1\n",
    "        while l < r:\n",
    "            if pure[r] != pure[l]:\n",
    "                return False\n",
    "            l += 1\n",
    "            r -= 1\n",
    "        return True\n",
    "\n",
    "s = \"A man, a plan, a canal: Panama\"\n",
    "s = \".,\"\n",
    "solution = Solution()\n",
    "solution.isPalindrome(s)"
   ]
  },
  {
   "cell_type": "code",
   "execution_count": 135,
   "metadata": {},
   "outputs": [
    {
     "data": {
      "text/plain": [
       "[1, 2]"
      ]
     },
     "execution_count": 135,
     "metadata": {},
     "output_type": "execute_result"
    }
   ],
   "source": [
    "# 167. Two Sum II - Input Array Is Sorted\n",
    "class Solution:\n",
    "    def twoSum(self, numbers: List[int], target: int) -> List[int]:\n",
    "        l, r = 0, len(numbers) - 1\n",
    "        while l < r:\n",
    "            if numbers[l] + numbers[r] > target:\n",
    "                r -= 1\n",
    "            elif numbers[l] + numbers[r] < target:\n",
    "                l += 1\n",
    "            else:\n",
    "                return [l + 1, r + 1]\n",
    "\n",
    "\n",
    "numbers = [2,7,11,15]\n",
    "target = 9\n",
    "\n",
    "s = Solution()\n",
    "s.twoSum(numbers, target)\n"
   ]
  },
  {
   "cell_type": "code",
   "execution_count": 154,
   "metadata": {},
   "outputs": [
    {
     "data": {
      "text/plain": [
       "[[-1, -1, 2], [-1, 0, 1]]"
      ]
     },
     "execution_count": 154,
     "metadata": {},
     "output_type": "execute_result"
    }
   ],
   "source": [
    "class Solution:\n",
    "    def threeSum(self, nums: list[int]) -> list[list[int]]:\n",
    "        nums.sort()\n",
    "        ans = []\n",
    "\n",
    "        for i, v in enumerate(nums):\n",
    "            # These lines are for eliminating duplicates\n",
    "            if i > 0 and v == nums[i - 1]:\n",
    "                continue\n",
    "\n",
    "            l = i + 1\n",
    "            r = len(nums) - 1\n",
    "            while l < r:\n",
    "                sum3 = v + nums[l] + nums[r]\n",
    "                if sum3 > 0:\n",
    "                    r -= 1\n",
    "                elif sum3 < 0:\n",
    "                    l += 1\n",
    "                else:\n",
    "                    ans.append([v, nums[l], nums[r]])\n",
    "                    l += 1\n",
    "                    while nums[l] == nums[l - 1] and l < r: \n",
    "                        l += 1\n",
    "        return ans\n",
    "\n",
    "nums = [-1,0,1,2,-1,-4]\n",
    "s = Solution()\n",
    "s.threeSum(nums)\n"
   ]
  },
  {
   "cell_type": "code",
   "execution_count": 159,
   "metadata": {},
   "outputs": [
    {
     "data": {
      "text/plain": [
       "49"
      ]
     },
     "execution_count": 159,
     "metadata": {},
     "output_type": "execute_result"
    }
   ],
   "source": [
    "# 11. Container With Most Water\n",
    "class Solution:\n",
    "    def maxArea(self, height: List[int]) -> int:\n",
    "        l, r, mx = 0, len(height) - 1, 0\n",
    "        while l < r:\n",
    "            mx = max(mx, min(height[l], height[r]) * (r - l))\n",
    "            if height[l] < height[r]:\n",
    "                l += 1\n",
    "            else:\n",
    "                r -= 1\n",
    "            # print(l, r, mx, min(height[l], height[r]) * (r - l))\n",
    "        return mx\n",
    "    \n",
    "height = [1,8,6,2,5,4,8,3,7]\n",
    "s = Solution()\n",
    "s.maxArea(height)"
   ]
  },
  {
   "cell_type": "code",
   "execution_count": 1,
   "metadata": {},
   "outputs": [
    {
     "name": "stdout",
     "output_type": "stream",
     "text": [
      "1\n"
     ]
    }
   ],
   "source": [
    "print(1)"
   ]
  },
  {
   "cell_type": "code",
   "execution_count": null,
   "metadata": {},
   "outputs": [],
   "source": []
  }
 ],
 "metadata": {
  "kernelspec": {
   "display_name": "Python 3",
   "language": "python",
   "name": "python3"
  },
  "language_info": {
   "codemirror_mode": {
    "name": "ipython",
    "version": 3
   },
   "file_extension": ".py",
   "mimetype": "text/x-python",
   "name": "python",
   "nbconvert_exporter": "python",
   "pygments_lexer": "ipython3",
   "version": "3.11.2"
  },
  "orig_nbformat": 4
 },
 "nbformat": 4,
 "nbformat_minor": 2
}
