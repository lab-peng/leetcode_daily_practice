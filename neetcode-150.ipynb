{
 "cells": [
  {
   "attachments": {},
   "cell_type": "markdown",
   "metadata": {},
   "source": [
    "##### Array & Hashing"
   ]
  },
  {
   "cell_type": "code",
   "execution_count": 7,
   "metadata": {},
   "outputs": [],
   "source": [
    "from typing import List\n",
    "from collections import defaultdict"
   ]
  },
  {
   "cell_type": "code",
   "execution_count": 13,
   "metadata": {},
   "outputs": [
    {
     "data": {
      "text/plain": [
       "True"
      ]
     },
     "execution_count": 13,
     "metadata": {},
     "output_type": "execute_result"
    }
   ],
   "source": [
    "class Solution:\n",
    "    def isValidSudoku(self, board: List[List[str]]) -> bool:\n",
    "        \n",
    "        # rows, cols, squares = defaultdict(set), defaultdict(set), defaultdict(set)\n",
    "        # for r in range(9):\n",
    "        #     for c in range(9):\n",
    "        #         num = board[r][c]\n",
    "        #         if num == '.':\n",
    "        #             continue\n",
    "        #         if num in rows[r] or \\\n",
    "        #            num in cols[c] or \\\n",
    "        #            num in squares[(r // 3, c //3)]:\n",
    "        #             return False\n",
    "        #         rows[r].add(num)\n",
    "        #         cols[c].add(num)\n",
    "        #         squares[(r // 3, c //3)].add(num)\n",
    "        # return True\n",
    "        rows, cols, squares = defaultdict(set), defaultdict(set), defaultdict(set)\n",
    "        for r in range(9):\n",
    "            for c in range(9):\n",
    "                num = board[r][c]\n",
    "                if num == '.':\n",
    "                    continue\n",
    "                if num in rows[r] or num in cols[c] or num in squares[(r // 3, c // 3)]:\n",
    "                    return False\n",
    "                rows[r].add(num)\n",
    "                cols[c].add(num)\n",
    "                squares[(r // 3, c // 3)].add(num)\n",
    "        return True\n",
    "                           \n",
    "    \n",
    "board = [\n",
    "     [\"5\",\"3\",\".\",\".\",\"7\",\".\",\".\",\".\",\".\"]\n",
    "    ,[\"6\",\".\",\".\",\"1\",\"9\",\"5\",\".\",\".\",\".\"]\n",
    "    ,[\".\",\"9\",\"8\",\".\",\".\",\".\",\".\",\"6\",\".\"]\n",
    "    ,[\"8\",\".\",\".\",\".\",\"6\",\".\",\".\",\".\",\"3\"]\n",
    "    ,[\"4\",\".\",\".\",\"8\",\".\",\"3\",\".\",\".\",\"1\"]\n",
    "    ,[\"7\",\".\",\".\",\".\",\"2\",\".\",\".\",\".\",\"6\"]\n",
    "    ,[\".\",\"6\",\".\",\".\",\".\",\".\",\"2\",\"8\",\".\"]\n",
    "    ,[\".\",\".\",\".\",\"4\",\"1\",\"9\",\".\",\".\",\"5\"]\n",
    "    ,[\".\",\".\",\".\",\".\",\"8\",\".\",\".\",\"7\",\"9\"]\n",
    "]\n",
    "\n",
    "s = Solution()\n",
    "s.isValidSudoku(board)"
   ]
  },
  {
   "cell_type": "code",
   "execution_count": 19,
   "metadata": {},
   "outputs": [
    {
     "name": "stdout",
     "output_type": "stream",
     "text": [
      "[1, 1, 2, 6, 24]\n",
      "1\n",
      "5\n",
      "20\n",
      "60\n",
      "120\n"
     ]
    },
    {
     "data": {
      "text/plain": [
       "[120, 60, 40, 30, 24]"
      ]
     },
     "execution_count": 19,
     "metadata": {},
     "output_type": "execute_result"
    }
   ],
   "source": [
    "class Solution:\n",
    "    def productExceptSelf(self, nums: List[int]) -> List[int]:\n",
    "        ans = [1] * len(nums)\n",
    "\n",
    "        prefix = 1\n",
    "        for i in range(len(nums)):\n",
    "            ans[i] = prefix\n",
    "            prefix *= nums[i]\n",
    "\n",
    "        suffix = 1\n",
    "        for i in range(len(nums)-1, -1, -1):\n",
    "            ans[i] *= suffix\n",
    "            suffix *= nums[i]\n",
    "        return ans\n",
    "    \n",
    "s = Solution()\n",
    "s.productExceptSelf(nums = [1,2,3,4,5])"
   ]
  },
  {
   "cell_type": "code",
   "execution_count": null,
   "metadata": {},
   "outputs": [],
   "source": []
  }
 ],
 "metadata": {
  "kernelspec": {
   "display_name": "Python 3",
   "language": "python",
   "name": "python3"
  },
  "language_info": {
   "codemirror_mode": {
    "name": "ipython",
    "version": 3
   },
   "file_extension": ".py",
   "mimetype": "text/x-python",
   "name": "python",
   "nbconvert_exporter": "python",
   "pygments_lexer": "ipython3",
   "version": "3.11.3"
  },
  "orig_nbformat": 4
 },
 "nbformat": 4,
 "nbformat_minor": 2
}
