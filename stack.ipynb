{
 "cells": [
  {
   "cell_type": "markdown",
   "metadata": {},
   "source": [
    "1. Valid Parentheses\n",
    "https://leetcode.com/problems/valid-parentheses/\n"
   ]
  },
  {
   "cell_type": "code",
   "execution_count": 1,
   "metadata": {},
   "outputs": [
    {
     "name": "stdout",
     "output_type": "stream",
     "text": [
      "['{']\n",
      "['{', '[']\n",
      "['{']\n",
      "['{', '(']\n",
      "['{']\n",
      "[]\n"
     ]
    },
    {
     "data": {
      "text/plain": [
       "True"
      ]
     },
     "execution_count": 1,
     "metadata": {},
     "output_type": "execute_result"
    }
   ],
   "source": [
    "class Solution:\n",
    "    def isValid(self, s: str) -> bool:\n",
    "        stack = []\n",
    "        close_2_open = {\n",
    "            ')': '(',\n",
    "            ']': '[',\n",
    "            '}': '{'\n",
    "        }\n",
    "\n",
    "        for c in s:\n",
    "            if c in close_2_open:\n",
    "                if stack and stack[-1] == close_2_open[c]:\n",
    "                    stack.pop()\n",
    "                else:\n",
    "                    return False\n",
    "            else:\n",
    "                stack.append(c)\n",
    "            print(stack)\n",
    "        \n",
    "        return True if not stack else False\n",
    "\n",
    "s = \"()[]{}\"\n",
    "s = \"{[]()}\"\n",
    "\n",
    "solution = Solution()\n",
    "solution.isValid(s)"
   ]
  },
  {
   "cell_type": "markdown",
   "metadata": {},
   "source": [
    "2. Simplify Path\n",
    "https://leetcode.com/problems/simplify-path/"
   ]
  },
  {
   "cell_type": "code",
   "execution_count": 2,
   "metadata": {},
   "outputs": [
    {
     "data": {
      "text/plain": [
       "'/foo'"
      ]
     },
     "execution_count": 2,
     "metadata": {},
     "output_type": "execute_result"
    }
   ],
   "source": [
    "class Solution:\n",
    "    def simplifyPath(self, path: str) -> str:\n",
    "        stack = []\n",
    "        cur = ''\n",
    "\n",
    "        for c in path + '/':    # c = character, letter\n",
    "            if c != '/':\n",
    "                cur += c\n",
    "            else:\n",
    "                if cur == '..':\n",
    "                    if stack: stack.pop()\n",
    "                elif cur != '' and cur != '.':\n",
    "                    stack.append(cur)\n",
    "                cur = ''\n",
    "            # print(cur, stack)\n",
    "\n",
    "        return '/' + '/'.join(stack)\n",
    "\n",
    "path = \"/..//foo/\"\n",
    "s = Solution()\n",
    "s.simplifyPath(path)"
   ]
  },
  {
   "cell_type": "markdown",
   "metadata": {},
   "source": [
    "3. Largest Rectangle in Histogram\n",
    "https://leetcode.com/problems/largest-rectangle-in-histogram/\n"
   ]
  },
  {
   "cell_type": "code",
   "execution_count": 3,
   "metadata": {},
   "outputs": [
    {
     "name": "stdout",
     "output_type": "stream",
     "text": [
      "[(0, 2)]\n",
      "[(0, 1)]\n",
      "[(0, 1), (2, 5)]\n",
      "[(0, 1), (2, 5), (3, 6)]\n",
      "[(0, 1), (2, 2)]\n",
      "[(0, 1), (2, 2), (5, 3)]\n",
      "0 1\n",
      "2 2\n",
      "5 3\n"
     ]
    },
    {
     "data": {
      "text/plain": [
       "10"
      ]
     },
     "execution_count": 3,
     "metadata": {},
     "output_type": "execute_result"
    }
   ],
   "source": [
    "# TODO I haven't figured out the logic yet\n",
    "from typing import List\n",
    "class Solution:\n",
    "    def largestRectangleArea(self, heights: List[int]) -> int:\n",
    "        max_area = 0\n",
    "        stack = [] # (index, height)\n",
    "        for i, h in enumerate(heights):\n",
    "            start = i\n",
    "            while stack and stack[-1][1] > h:\n",
    "                index, height = stack.pop()\n",
    "                max_area = max(max_area, height * (i - index))\n",
    "                start = index\n",
    "            stack.append((start, h))\n",
    "            print(stack)\n",
    "\n",
    "        for i, h in stack:\n",
    "            print(i, h)\n",
    "            max_area = max(max_area, h * (len(heights) - i))\n",
    "        \n",
    "        return max_area\n",
    "\n",
    "heights = [2, 1, 5, 6, 2, 3]\n",
    "# heights = [2, 4]\n",
    "# heights = [1]\n",
    "# heights = [4, 2]\n",
    "# heights = [0, 9]\n",
    "# heights = [9, 0]\n",
    "# heights = [2, 1, 2]\n",
    "s = Solution()\n",
    "s.largestRectangleArea(heights)"
   ]
  },
  {
   "cell_type": "code",
   "execution_count": 4,
   "metadata": {},
   "outputs": [],
   "source": [
    "# index height max_area\n",
    "#    0    2       2\n",
    "#    3    6       6\n",
    "#    4-2    5       10\n",
    "#    5    3       3\n",
    "#    2    2       8 \n",
    "#    0    1       6"
   ]
  },
  {
   "cell_type": "markdown",
   "metadata": {},
   "source": [
    "4. Generate Parentheses\n",
    "https://leetcode.com/problems/generate-parentheses/"
   ]
  },
  {
   "cell_type": "code",
   "execution_count": 5,
   "metadata": {},
   "outputs": [],
   "source": [
    "class Solution:\n",
    "    def generateParenthesis(self, n: int) -> List[str]:\n",
    "        pass\n",
    "\n",
    "n = 3\n",
    "s = Solution()\n",
    "s.generateParenthesis(n)"
   ]
  },
  {
   "cell_type": "markdown",
   "metadata": {},
   "source": [
    "5. Min Stack\n",
    "https://leetcode.com/problems/min-stack/"
   ]
  },
  {
   "cell_type": "code",
   "execution_count": 6,
   "metadata": {},
   "outputs": [
    {
     "name": "stdout",
     "output_type": "stream",
     "text": [
      "None\n"
     ]
    }
   ],
   "source": [
    "class MinStack:\n",
    "    cur_min = float('inf')\n",
    "\n",
    "    def __init__(self):\n",
    "        self.data = []\n",
    "        self.mins = []\n",
    "\n",
    "    def push(self, val: int) -> None:\n",
    "        self.data.append(val)\n",
    "        cur_min = min(self.cur_min, val)\n",
    "        self.mins.append(cur_min)\n",
    "        self.cur_min = cur_min\n",
    "\n",
    "    def pop(self) -> None:\n",
    "        if self.data:\n",
    "            if len(self.mins) >= 2:\n",
    "                self.cur_min = self.mins[-2]\n",
    "            else: \n",
    "                self.cur_min = float('inf')\n",
    "            self.data.pop()\n",
    "            self.mins.pop()\n",
    "\n",
    "    def top(self) -> int:\n",
    "        if self.data:\n",
    "            return self.data[-1]\n",
    "\n",
    "    def getMin(self) -> int:\n",
    "        if self.mins:\n",
    "            return self.mins[-1]\n",
    "\n",
    "\n",
    "# Your obj object will be instantiated and called as such:\n",
    "obj = MinStack()\n",
    "print(obj.top())\n",
    "# obj.push(-2)\n",
    "# print(obj.__dict__)\n",
    "# obj.push(0)\n",
    "# print(obj.__dict__)\n",
    "# obj.push(-3)\n",
    "# print(obj.__dict__)\n",
    "# obj.pop()\n",
    "# print(obj.__dict__)\n",
    "# obj.pop()\n",
    "# print(obj.__dict__)\n",
    "# obj.pop()\n",
    "# print(obj.__dict__)\n",
    "# obj.push(-4)\n",
    "# print(obj.__dict__)\n",
    "# obj.push(0)\n",
    "# obj.push(-3)\n",
    "# print(obj.getMin())\n",
    "# obj.pop()\n",
    "# print(obj.top())\n",
    "# print(obj.getMin())"
   ]
  },
  {
   "cell_type": "markdown",
   "metadata": {},
   "source": [
    "6. Daily Temperatures\n",
    "https://leetcode.com/problems/daily-temperatures/"
   ]
  },
  {
   "cell_type": "code",
   "execution_count": 7,
   "metadata": {},
   "outputs": [
    {
     "data": {
      "text/plain": [
       "[1, 1, 4, 2, 1, 1, 0, 0]"
      ]
     },
     "execution_count": 7,
     "metadata": {},
     "output_type": "execute_result"
    }
   ],
   "source": [
    "class Solution:\n",
    "    def dailyTemperatures(self, temperatures: List[int]) -> List[int]:\n",
    "        res = [0] * len(temperatures)\n",
    "\n",
    "        stack = []  # (index, temp)\n",
    "\n",
    "        for i, t in enumerate(temperatures):\n",
    "            while stack and t > stack[-1][1]:\n",
    "                index, temp = stack.pop()\n",
    "                # print(i, index, temp)\n",
    "                res[index] = (i - index)\n",
    "            stack.append((i, t))\n",
    "            # print(stack)\n",
    "        return res\n",
    "\n",
    "            \n",
    "temperatures = [73,74,75,71,69,72,76,73]\n",
    "s = Solution()\n",
    "s.dailyTemperatures(temperatures)"
   ]
  },
  {
   "cell_type": "markdown",
   "metadata": {},
   "source": [
    "7. Asteroid Collision\n",
    "https://leetcode.com/problems/asteroid-collision/\n"
   ]
  },
  {
   "cell_type": "code",
   "execution_count": 8,
   "metadata": {},
   "outputs": [
    {
     "data": {
      "text/plain": [
       "[10]"
      ]
     },
     "execution_count": 8,
     "metadata": {},
     "output_type": "execute_result"
    }
   ],
   "source": [
    "class Solution:\n",
    "    def asteroidCollision(self, asteroids: List[int]) -> List[int]:\n",
    "        stack = []\n",
    "\n",
    "        for a in asteroids:\n",
    "            while stack and a < 0 and stack[-1] > 0:\n",
    "                diff = stack[-1] + a\n",
    "                if diff < 0:\n",
    "                    stack.pop()\n",
    "                elif diff > 0:\n",
    "                    a = 0\n",
    "                else:\n",
    "                    stack.pop()\n",
    "                    a = 0\n",
    "\n",
    "            if a:\n",
    "                stack.append(a)\n",
    "        return stack\n",
    "\n",
    "\n",
    "asteroids = [10, 2, -5]\n",
    "# asteroids = [-2,-1,1,2]\n",
    "# asteroids = [-2,-2,5,-6]\n",
    "# asteroids = [-1, 3, 2, -3]\n",
    "s = Solution()\n",
    "s.asteroidCollision(asteroids)"
   ]
  },
  {
   "cell_type": "markdown",
   "metadata": {},
   "source": [
    "8. Maximum Subarray Min-Product\n",
    "https://leetcode.com/problems/maximum-subarray-min-product/"
   ]
  },
  {
   "cell_type": "code",
   "execution_count": null,
   "metadata": {},
   "outputs": [],
   "source": [
    "class Solution:\n",
    "    def maxSumMinProduct(self, nums: List[int]) -> int:\n",
    "        pass\n",
    "\n",
    "nums = [2,3,3,1,2]\n",
    "s = Solution()\n",
    "s.maxSumMinProduct(nums)\n"
   ]
  },
  {
   "cell_type": "code",
   "execution_count": 2,
   "metadata": {},
   "outputs": [
    {
     "name": "stdout",
     "output_type": "stream",
     "text": [
      "1 2\n"
     ]
    }
   ],
   "source": []
  },
  {
   "cell_type": "code",
   "execution_count": null,
   "metadata": {},
   "outputs": [],
   "source": []
  },
  {
   "cell_type": "code",
   "execution_count": null,
   "metadata": {},
   "outputs": [],
   "source": []
  }
 ],
 "metadata": {
  "kernelspec": {
   "display_name": "python_sql_venv",
   "language": "python",
   "name": "python_sql_venv"
  },
  "language_info": {
   "codemirror_mode": {
    "name": "ipython",
    "version": 3
   },
   "file_extension": ".py",
   "mimetype": "text/x-python",
   "name": "python",
   "nbconvert_exporter": "python",
   "pygments_lexer": "ipython3",
   "version": "3.10.2"
  },
  "orig_nbformat": 4,
  "vscode": {
   "interpreter": {
    "hash": "d069d7a1948727279f2cf1fb753e38696f857060f508c2c6fffe28efce4c20be"
   }
  }
 },
 "nbformat": 4,
 "nbformat_minor": 2
}
