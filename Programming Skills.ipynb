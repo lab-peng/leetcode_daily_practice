{
 "cells": [
  {
   "cell_type": "markdown",
   "metadata": {},
   "source": [
    "##### Basic Implementation"
   ]
  },
  {
   "cell_type": "code",
   "execution_count": 2,
   "metadata": {},
   "outputs": [],
   "source": [
    "from typing import List, Optional\n",
    "# 1768. Merge Strings Alternately\n",
    "class Solution:\n",
    "    def mergeAlternately(self, word1: str, word2: str) -> str:\n",
    "        ans = []\n",
    "        lln, rln = len(word1), len(word2)\n",
    "        l, r = 0, 0\n",
    "        while l < lln and r < rln:\n",
    "            ans.append(word1[l])\n",
    "            l += 1\n",
    "            ans.append(word2[r])\n",
    "            r += 1\n",
    "\n",
    "        if l < lln:\n",
    "            ans += word1[l:]\n",
    "\n",
    "        if r < rln:\n",
    "            ans += word2[r:]\n",
    "        return ''.join(ans)"
   ]
  },
  {
   "cell_type": "code",
   "execution_count": 15,
   "metadata": {},
   "outputs": [
    {
     "data": {
      "text/plain": [
       "'e'"
      ]
     },
     "execution_count": 15,
     "metadata": {},
     "output_type": "execute_result"
    }
   ],
   "source": [
    "# 389. Find the Difference\n",
    "from collections import Counter\n",
    "class Solution:\n",
    "    def findTheDifference(self, s: str, t: str) -> str:\n",
    "        return next(iter(Counter(t) - Counter(s)))\n",
    "    \n",
    "s, t = \"abcd\", \"abcde\"\n",
    "sln = Solution()\n",
    "sln.findTheDifference(s, t)"
   ]
  },
  {
   "cell_type": "code",
   "execution_count": null,
   "metadata": {},
   "outputs": [],
   "source": [
    "# 28. Find the Index of the First Occurrence in a String\n",
    "class Solution:\n",
    "    def strStr(self, haystack: str, needle: str) -> int:\n",
    "        ln = len(needle)\n",
    "        for i in range(len(haystack)):\n",
    "            if haystack[i: i + ln] == needle:\n",
    "                return i\n",
    "        return -1"
   ]
  },
  {
   "cell_type": "code",
   "execution_count": 16,
   "metadata": {},
   "outputs": [],
   "source": [
    "# 242. Valid Anagram\n",
    "from collections import Counter\n",
    "class Solution:\n",
    "    def isAnagram(self, s: str, t: str) -> bool:\n",
    "        return Counter(s) == Counter(t)"
   ]
  },
  {
   "cell_type": "code",
   "execution_count": 30,
   "metadata": {},
   "outputs": [
    {
     "name": "stdout",
     "output_type": "stream",
     "text": [
      "bababa\n"
     ]
    },
    {
     "data": {
      "text/plain": [
       "True"
      ]
     },
     "execution_count": 30,
     "metadata": {},
     "output_type": "execute_result"
    }
   ],
   "source": [
    "# 459. Repeated Substring Pattern\n",
    "class Solution:\n",
    "    def repeatedSubstringPattern(self, s: str) -> bool:\n",
    "        t = s + s\n",
    "        print(t[1:-1])\n",
    "        if s in t[1:-1]:\n",
    "            return True\n",
    "        return False\n",
    "        \n",
    "# s = \"abcabcabcabc\"\n",
    "# s = 'abcdabcdabcd'\n",
    "s = 'abab'\n",
    "sln = Solution()\n",
    "sln.repeatedSubstringPattern(s)"
   ]
  },
  {
   "cell_type": "code",
   "execution_count": 37,
   "metadata": {},
   "outputs": [],
   "source": [
    "# 283. Move Zeroes\n",
    "class Solution:\n",
    "    def moveZeroes(self, nums: List[int]) -> None:\n",
    "        \"\"\"\n",
    "        Do not return anything, modify nums in-place instead.\n",
    "        \"\"\"\n",
    "        idx = 0\n",
    "        for i in range(len(nums)):\n",
    "            if nums[i] != 0:\n",
    "                nums[idx], nums[i] = nums[i], nums[idx]\n",
    "                idx += 1\n",
    "nums = [0,1,0,3,12]\n",
    "sln = Solution()\n",
    "sln.moveZeroes(nums)"
   ]
  },
  {
   "cell_type": "code",
   "execution_count": 38,
   "metadata": {},
   "outputs": [],
   "source": [
    "# 66. Plus One\n",
    "class Solution:\n",
    "    def plusOne(self, digits: List[int]) -> List[int]:\n",
    "        digits[-1] += 1\n",
    "        for i in range(len(digits) - 1, 0, -1):\n",
    "            if digits[i] == 10:\n",
    "                    digits[i] = 0\n",
    "                    digits[i - 1] += 1\n",
    "\n",
    "        if digits[0] == 10:\n",
    "            digits[0] = 0\n",
    "            digits = [1] + digits\n",
    "        return digits\n"
   ]
  },
  {
   "cell_type": "code",
   "execution_count": 43,
   "metadata": {},
   "outputs": [
    {
     "data": {
      "text/plain": [
       "1"
      ]
     },
     "execution_count": 43,
     "metadata": {},
     "output_type": "execute_result"
    }
   ],
   "source": [
    "# 1822. Sign of the Product of an Array\n",
    "class Solution:\n",
    "    def arraySign(self, nums: List[int]) -> int:\n",
    "        cnt = 0  # count the number of negative number in the array\n",
    "        for n in nums:\n",
    "            if n == 0:\n",
    "                return 0\n",
    "            elif n < 0:\n",
    "                cnt += 1\n",
    "        return 1 if cnt & 1 == 0 else -1\n",
    "    \n",
    "nums = [-1,-2,-3,-4,3,2,1,]\n",
    "sln = Solution()\n",
    "sln.arraySign(nums)"
   ]
  },
  {
   "cell_type": "code",
   "execution_count": 51,
   "metadata": {},
   "outputs": [
    {
     "data": {
      "text/plain": [
       "True"
      ]
     },
     "execution_count": 51,
     "metadata": {},
     "output_type": "execute_result"
    }
   ],
   "source": [
    "# 1502. Can Make Arithmetic Progression From Sequence  \n",
    "class Solution:\n",
    "    def canMakeArithmeticProgression(self, arr: List[int]) -> bool:\n",
    "        mx, mn, ln, hs = max(arr), min(arr), len(arr), set()\n",
    "        if mx == mn: # handling edge cases such as [0, 0, 0, 0]\n",
    "            return True\n",
    "        q, r = divmod(mx - mn, ln - 1) # quotient and remainder\n",
    "        if r:  # if not divisible by n - 1\n",
    "            return False\n",
    "        for n in arr:\n",
    "            if (n - mn) % q:\n",
    "                return False\n",
    "            hs.add(n)\n",
    "        return ln == len(hs)\n",
    "    \n",
    "arr = [3,5,1]\n",
    "# arr = [1,2,4]\n",
    "sln = Solution()\n",
    "sln.canMakeArithmeticProgression(arr)"
   ]
  },
  {
   "cell_type": "code",
   "execution_count": 53,
   "metadata": {},
   "outputs": [],
   "source": [
    "# 896. Monotonic Array\n",
    "class Solution:\n",
    "    def isMonotonic(self, nums: List[int]) -> bool:\n",
    "        if nums[-1] > nums[0]:  # is_inc?\n",
    "            for i in range(1, len(nums)):\n",
    "                if nums[i] < nums[i - 1]:\n",
    "                    return False \n",
    "            return True\n",
    "        else:\n",
    "            for i in range(1, len(nums)):\n",
    "                if nums[i] > nums[i - 1]:\n",
    "                    return False \n",
    "            return True"
   ]
  },
  {
   "cell_type": "code",
   "execution_count": 57,
   "metadata": {},
   "outputs": [],
   "source": [
    "class Solution:\n",
    "    def romanToInt(self, s: str) -> int:\n",
    "        hm = {\n",
    "            \"I\": 1,\n",
    "            \"V\": 5,\n",
    "            \"X\": 10,\n",
    "            \"L\": 50,\n",
    "            \"C\": 100,\n",
    "            \"D\": 500,\n",
    "            \"M\": 1000,\n",
    "        }\n",
    "        ans, i, n = 0, 0, len(s)\n",
    "        while i < n:\n",
    "            if i + 1 < n and hm[s[i + 1]] > hm[s[i]]: # subtractive case\n",
    "                ans += hm[s[i + 1]] - hm[s[i]]\n",
    "                i += 2\n",
    "            else:\n",
    "                ans += hm[s[i]]\n",
    "                i += 1\n",
    "        return ans"
   ]
  },
  {
   "cell_type": "markdown",
   "metadata": {},
   "source": [
    "##### Built-in Functions"
   ]
  },
  {
   "cell_type": "code",
   "execution_count": 86,
   "metadata": {},
   "outputs": [
    {
     "data": {
      "text/plain": [
       "4"
      ]
     },
     "execution_count": 86,
     "metadata": {},
     "output_type": "execute_result"
    }
   ],
   "source": [
    "class Solution:\n",
    "    def lengthOfLastWord(self, s: str) -> int:\n",
    "        # s = s.strip()\n",
    "        # ans = 0\n",
    "        # for i in range(len(s) - 1, -1, -1):\n",
    "        #     if s[i] == ' ':\n",
    "        #         return ans\n",
    "        #     ans += 1\n",
    "        # return ans\n",
    "        \n",
    "        return 0 if not s or s.isspace() else len(s.split()[-1])\n",
    "\n",
    "s = \"   fly me   to   the moon  \"\n",
    "# s = \"luffy is still joyboy\"\n",
    "# s = 'a'\n",
    "sln = Solution()\n",
    "sln.lengthOfLastWord(s)"
   ]
  },
  {
   "cell_type": "code",
   "execution_count": 85,
   "metadata": {},
   "outputs": [],
   "source": [
    "# 709. To Lower Case\n",
    "class Solution:\n",
    "    def toLowerCase(self, s: str) -> str:\n",
    "        return s.lower()"
   ]
  },
  {
   "cell_type": "markdown",
   "metadata": {},
   "source": [
    "##### Simulation"
   ]
  },
  {
   "cell_type": "code",
   "execution_count": null,
   "metadata": {},
   "outputs": [],
   "source": []
  }
 ],
 "metadata": {
  "kernelspec": {
   "display_name": "Python 3",
   "language": "python",
   "name": "python3"
  },
  "language_info": {
   "codemirror_mode": {
    "name": "ipython",
    "version": 3
   },
   "file_extension": ".py",
   "mimetype": "text/x-python",
   "name": "python",
   "nbconvert_exporter": "python",
   "pygments_lexer": "ipython3",
   "version": "3.11.2"
  },
  "orig_nbformat": 4
 },
 "nbformat": 4,
 "nbformat_minor": 2
}
