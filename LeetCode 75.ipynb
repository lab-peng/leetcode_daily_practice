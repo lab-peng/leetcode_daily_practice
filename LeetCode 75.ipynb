{
 "cells": [
  {
   "cell_type": "markdown",
   "metadata": {},
   "source": [
    "##### Array / String"
   ]
  },
  {
   "cell_type": "code",
   "execution_count": 67,
   "metadata": {},
   "outputs": [],
   "source": [
    "from typing import List, Optional\n",
    "# 1768. Merge Strings Alternately\n",
    "from itertools import zip_longest\n",
    "class Solution:\n",
    "    def mergeAlternately(self, word1: str, word2: str) -> str:\n",
    "        ans = []\n",
    "        for a, b in zip_longest(word1, word2):\n",
    "            if a: \n",
    "                ans.append(a)\n",
    "            if b:\n",
    "                ans.append(b)\n",
    "        return ''.join(ans)\n"
   ]
  },
  {
   "cell_type": "code",
   "execution_count": 47,
   "metadata": {},
   "outputs": [],
   "source": [
    "# 1071. Greatest Common Divisor of Strings\n",
    "from math import gcd\n",
    "class Solution:\n",
    "    def gcdOfStrings(self, str1: str, str2: str) -> str:\n",
    "        if str1 + str2 != str2 + str1:\n",
    "            return ''\n",
    "        mx = gcd(len(str1), len(str2))\n",
    "        return str1[:mx]"
   ]
  },
  {
   "cell_type": "code",
   "execution_count": 46,
   "metadata": {},
   "outputs": [
    {
     "data": {
      "text/plain": [
       "4"
      ]
     },
     "execution_count": 46,
     "metadata": {},
     "output_type": "execute_result"
    }
   ],
   "source": [
    "# 1431. Kids With the Greatest Number of Candies\n",
    "class Solution:\n",
    "    def kidsWithCandies(self, candies: List[int], extraCandies: int) -> List[bool]:\n",
    "        mx = max(candies)\n",
    "        for i in range(len(candies)):\n",
    "            if candies[i] + extraCandies >= mx:\n",
    "                candies[i] = True\n",
    "            else:\n",
    "                candies[i] = False\n",
    "        return candies"
   ]
  },
  {
   "cell_type": "code",
   "execution_count": 48,
   "metadata": {},
   "outputs": [],
   "source": [
    "# 605. Can Place Flowers\n",
    "class Solution:\n",
    "    def canPlaceFlowers(self, flowerbed: List[int], n: int) -> bool:\n",
    "        cnt, ln = 0, len(flowerbed)\n",
    "        for i in range(ln):\n",
    "            if flowerbed[i] == 0:\n",
    "                left_empty = (i == 0) or (flowerbed[i - 1] == 0)\n",
    "                right_empty = (i == ln - 1) or (flowerbed[i + 1] == 0)\n",
    "                if left_empty and right_empty:\n",
    "                    flowerbed[i] = 1\n",
    "                    cnt += 1\n",
    "                    if cnt >= n:\n",
    "                        return True\n",
    "        return cnt >= n"
   ]
  },
  {
   "cell_type": "code",
   "execution_count": 54,
   "metadata": {},
   "outputs": [],
   "source": [
    "# 345. Reverse Vowels of a String\n",
    "class Solution:\n",
    "    def reverseVowels(self, s: str) -> str:\n",
    "        hs = {'A', 'E', 'I', 'O', 'U', 'a', 'e', 'i', 'o', 'u'}\n",
    "        l, r = 0, len(s) - 1\n",
    "        s = list(s)\n",
    "        while l < r:\n",
    "            if s[l] in hs and s[r] in hs:\n",
    "                s[l], s[r] = s[r], s[l]\n",
    "                l += 1\n",
    "                r -= 1\n",
    "            elif s[l] in hs and s[r] not in hs:\n",
    "                r -= 1\n",
    "            elif s[l] not in hs and s[r] in hs:\n",
    "                l += 1\n",
    "            else:\n",
    "                l += 1\n",
    "                r -= 1\n",
    "        return ''.join(s)"
   ]
  },
  {
   "cell_type": "code",
   "execution_count": 55,
   "metadata": {},
   "outputs": [],
   "source": [
    "# 151. Reverse Words in a String\n",
    "class Solution:\n",
    "    def reverseWords(self, s: str) -> str:\n",
    "        s = s.strip().split()\n",
    "        return ' '.join(s[::-1])"
   ]
  },
  {
   "cell_type": "code",
   "execution_count": 51,
   "metadata": {},
   "outputs": [],
   "source": [
    "# 238. Product of Array Except Self (Neetcode 75 covered)"
   ]
  },
  {
   "cell_type": "code",
   "execution_count": 58,
   "metadata": {},
   "outputs": [
    {
     "data": {
      "text/plain": [
       "True"
      ]
     },
     "execution_count": 58,
     "metadata": {},
     "output_type": "execute_result"
    }
   ],
   "source": [
    "# 334. Increasing Triplet Subsequence\n",
    "class Solution:\n",
    "    def increasingTriplet(self, nums: List[int]) -> bool:\n",
    "        f, s = float('inf'), float('inf') # f == first, s = second\n",
    "        for n in nums:\n",
    "            if f >= n:\n",
    "                f = n\n",
    "            elif s >= n:\n",
    "                s = n\n",
    "            else:\n",
    "                return True\n",
    "        return False\n",
    "nums = [20,100,10,12,5,13]\n",
    "sln = Solution()\n",
    "sln.increasingTriplet(nums)"
   ]
  },
  {
   "cell_type": "code",
   "execution_count": 60,
   "metadata": {},
   "outputs": [],
   "source": [
    "# 443. String Compression\n",
    "class Solution:\n",
    "    def compress(self, chars: List[str]) -> int:\n",
    "        ans, i, n = 0, 0, len(chars)\n",
    "\n",
    "        while i < n:\n",
    "            c = chars[i]\n",
    "            cnt = 0\n",
    "            while i < n and chars[i] == c:\n",
    "                cnt += 1\n",
    "                i += 1\n",
    "            chars[ans] = c\n",
    "            ans += 1\n",
    "\n",
    "            if cnt > 1:\n",
    "                for num in str(cnt):\n",
    "                    chars[ans] = num\n",
    "                    ans += 1\n",
    "        return ans"
   ]
  },
  {
   "cell_type": "markdown",
   "metadata": {},
   "source": [
    "##### Two Pointers"
   ]
  },
  {
   "cell_type": "code",
   "execution_count": 64,
   "metadata": {},
   "outputs": [],
   "source": [
    "# 283. Move Zeroes\n",
    "class Solution:\n",
    "    def moveZeroes(self, nums: List[int]) -> None:\n",
    "        \"\"\"\n",
    "        Do not return anything, modify nums in-place instead.\n",
    "        \"\"\"\n",
    "        ptr = 0\n",
    "        for i in range(len(nums)):\n",
    "            if nums[i] != 0:\n",
    "                # print(ptr, i, nums)\n",
    "                nums[ptr], nums[i] = nums[i], nums[ptr]\n",
    "                ptr += 1"
   ]
  },
  {
   "cell_type": "code",
   "execution_count": 61,
   "metadata": {},
   "outputs": [],
   "source": [
    "# 392. Is Subsequence\n",
    "class Solution:\n",
    "    def isSubsequence(self, s: str, t: str) -> bool:\n",
    "        if not s:\n",
    "            return True\n",
    "        i = 0\n",
    "        for c in t:\n",
    "            if c == s[i]:\n",
    "                i += 1\n",
    "            if i == len(s):\n",
    "                return True\n",
    "        return False"
   ]
  },
  {
   "cell_type": "code",
   "execution_count": null,
   "metadata": {},
   "outputs": [],
   "source": [
    "# 11. Container With Most Water (Neetcode 75 covered)"
   ]
  },
  {
   "cell_type": "code",
   "execution_count": 63,
   "metadata": {},
   "outputs": [],
   "source": [
    "# 1679. Max Number of K-Sum Pairs\n",
    "class Solution:\n",
    "    def maxOperations(self, nums: List[int], k: int) -> int:\n",
    "        nums.sort()\n",
    "        l, r = 0, len(nums) - 1\n",
    "        ans = 0\n",
    "        while l < r:\n",
    "            sm = nums[l] + nums[r]\n",
    "            if sm < k:\n",
    "                l += 1\n",
    "            elif sm > k:\n",
    "                r -= 1\n",
    "            else:\n",
    "                ans += 1\n",
    "                l += 1\n",
    "                r -= 1\n",
    "        return ans"
   ]
  },
  {
   "cell_type": "markdown",
   "metadata": {},
   "source": [
    "##### Sliding Window"
   ]
  },
  {
   "cell_type": "code",
   "execution_count": 10,
   "metadata": {},
   "outputs": [],
   "source": [
    "# 643. Maximum Average Subarray I\n",
    "class Solution:\n",
    "    def findMaxAverage(self, nums: List[int], k: int) -> float:\n",
    "        crt_mx = sum(nums[:k])\n",
    "        mx = crt_mx\n",
    "        for i in range(1, len(nums) - k + 1):\n",
    "            crt_mx -= nums[i - 1]\n",
    "            crt_mx += nums[i + k - 1]\n",
    "            mx= max(mx, crt_mx)\n",
    "        return mx / k"
   ]
  },
  {
   "cell_type": "code",
   "execution_count": 11,
   "metadata": {},
   "outputs": [
    {
     "data": {
      "text/plain": [
       "3"
      ]
     },
     "execution_count": 11,
     "metadata": {},
     "output_type": "execute_result"
    }
   ],
   "source": [
    "# 1456. Maximum Number of Vowels in a Substring of Given Length\n",
    "class Solution:\n",
    "    def maxVowels(self, s: str, k: int) -> int:\n",
    "        hs = {'a', 'e', 'i', 'o', 'u'}\n",
    "        crt_mx = 0\n",
    "        for i in range(k):\n",
    "            if s[i] in hs:\n",
    "                crt_mx += 1\n",
    "\n",
    "        mx = crt_mx\n",
    "        for i in range(1, len(s) - k + 1):\n",
    "            # print(i, i - 1, i + k -1)\n",
    "            if s[i - 1] in hs:\n",
    "                crt_mx -= 1\n",
    "            if s[i + k - 1] in hs:\n",
    "                crt_mx += 1\n",
    "            mx = max(mx, crt_mx)\n",
    "                \n",
    "        return mx\n",
    "    \n",
    "s, k= \"abciiidef\", 3\n",
    "sln = Solution()\n",
    "sln.maxVowels(s, k)"
   ]
  },
  {
   "cell_type": "code",
   "execution_count": 12,
   "metadata": {},
   "outputs": [],
   "source": [
    "# 1004. Max Consecutive Ones III\n",
    "class Solution:\n",
    "    def longestOnes(self, nums: List[int], k: int) -> int:\n",
    "        l, hm = 0, {}\n",
    "        for r in range(len(nums)):\n",
    "            hm[nums[r]] = hm.get(nums[r], 0) + 1\n",
    "            if r - l + 1 - hm.get(1, 0) > k:\n",
    "                hm[nums[l]] -= 1\n",
    "                l += 1\n",
    "        return r - l + 1"
   ]
  },
  {
   "cell_type": "code",
   "execution_count": 13,
   "metadata": {},
   "outputs": [],
   "source": [
    "# 1493. Longest Subarray of 1's After Deleting One Element\n",
    "class Solution:\n",
    "    def longestSubarray(self, nums: List[int]) -> int:\n",
    "        l, hm = 0, {}\n",
    "        for r in range(len(nums)):\n",
    "            hm[nums[r]] = hm.get(nums[r], 0) + 1\n",
    "            if r - l + 1 - hm.get(1, 0) > 1:\n",
    "                hm[nums[l]] -= 1\n",
    "                l += 1\n",
    "        return r - l"
   ]
  },
  {
   "cell_type": "markdown",
   "metadata": {},
   "source": [
    "##### Prefix Sum"
   ]
  },
  {
   "cell_type": "code",
   "execution_count": 65,
   "metadata": {},
   "outputs": [],
   "source": [
    "# Find the Highest Altitude\n",
    "class Solution:\n",
    "    def largestAltitude(self, gain: List[int]) -> int:\n",
    "        crt = 0\n",
    "        mx = crt\n",
    "        for g in gain:\n",
    "            crt += g\n",
    "            mx = max(mx, crt)\n",
    "        return mx"
   ]
  },
  {
   "cell_type": "code",
   "execution_count": 66,
   "metadata": {},
   "outputs": [],
   "source": [
    "# Find Pivot Index\n",
    "class Solution:\n",
    "    def pivotIndex(self, nums: List[int]) -> int:\n",
    "        sm = sum(nums)\n",
    "        left = 0\n",
    "        for i, v in enumerate(nums):\n",
    "            if left == sm - left - v:\n",
    "                return i\n",
    "            left += v\n",
    "        return -1"
   ]
  },
  {
   "cell_type": "markdown",
   "metadata": {},
   "source": [
    "##### Hash Map / Set"
   ]
  },
  {
   "cell_type": "code",
   "execution_count": 15,
   "metadata": {},
   "outputs": [],
   "source": [
    "# 2215. Find the Difference of Two Arrays\n",
    "class Solution:\n",
    "    def findDifference(self, nums1: List[int], nums2: List[int]) -> List[List[int]]:\n",
    "        a, b = set(nums1), set(nums2)\n",
    "        return [a.difference(b), b.difference(a)]"
   ]
  },
  {
   "cell_type": "code",
   "execution_count": 17,
   "metadata": {},
   "outputs": [],
   "source": [
    "# 1207. Unique Number of Occurrences\n",
    "from collections import Counter\n",
    "class Solution:\n",
    "    def uniqueOccurrences(self, arr: List[int]) -> bool:\n",
    "        counter = Counter(arr)\n",
    "        hs = set()\n",
    "        for v in counter.values():\n",
    "            if v in hs:\n",
    "                return False\n",
    "            hs.add(v)\n",
    "        return True"
   ]
  },
  {
   "cell_type": "code",
   "execution_count": 19,
   "metadata": {},
   "outputs": [],
   "source": [
    "# 1657. Determine if Two Strings Are Close\n",
    "class Solution:\n",
    "    def closeStrings(self, word1: str, word2: str) -> bool:\n",
    "        c1, c2 = Counter(word1), Counter(word2)\n",
    "        return sorted(c1) == sorted(c2) and sorted(c1.values()) == sorted(c2.values())"
   ]
  },
  {
   "cell_type": "code",
   "execution_count": 42,
   "metadata": {},
   "outputs": [
    {
     "data": {
      "text/plain": [
       "3"
      ]
     },
     "execution_count": 42,
     "metadata": {},
     "output_type": "execute_result"
    }
   ],
   "source": [
    "# 2352. Equal Row and Column Pairs\n",
    "class Solution:\n",
    "    def equalPairs(self, grid: List[List[int]]) -> int:\n",
    "        rows = Counter(map(tuple, grid))\n",
    "        cols = Counter(map(tuple, zip(*grid)))\n",
    "        # print(rows)\n",
    "        # print(cols)\n",
    "        # print([(cols.get(k, 0), k) for k, v in rows.items()])\n",
    "        return sum(v * cols.get(k, 0) for k, v in rows.items())\n",
    "\n",
    "\n",
    "grid = [[3,1,2,2],[1,4,4,5],[2,4,2,2],[2,4,2,2]]\n",
    "# grid = [[11, 11], [11, 11]]\n",
    "sln = Solution()\n",
    "sln.equalPairs(grid)"
   ]
  },
  {
   "cell_type": "markdown",
   "metadata": {},
   "source": [
    "##### Stack"
   ]
  },
  {
   "cell_type": "code",
   "execution_count": 68,
   "metadata": {},
   "outputs": [],
   "source": [
    "# 2390. Removing Stars From a String\n",
    "class Solution:\n",
    "    def removeStars(self, s: str) -> str:\n",
    "        stack = []\n",
    "        for c in s:\n",
    "            if c == '*':\n",
    "                stack.pop()\n",
    "            else:\n",
    "                stack.append(c)\n",
    "        return ''.join(stack)"
   ]
  },
  {
   "cell_type": "code",
   "execution_count": 71,
   "metadata": {},
   "outputs": [
    {
     "name": "stdout",
     "output_type": "stream",
     "text": [
      "aaaabbbbbb\n"
     ]
    }
   ],
   "source": [
    "# 394. Decode String\n",
    "class Solution:\n",
    "    def decodeString(self, s: str) -> str:\n",
    "        \n",
    "        print('aa' * 2 + 'bb' * 3)\n",
    "\n",
    "s = \"3[a]2[bc]\"\n",
    "s = \"3[a2[c]]\"\n",
    "sln = Solution()\n",
    "sln.decodeString(s)"
   ]
  },
  {
   "cell_type": "code",
   "execution_count": null,
   "metadata": {},
   "outputs": [],
   "source": []
  },
  {
   "cell_type": "markdown",
   "metadata": {},
   "source": [
    "##### Queue"
   ]
  },
  {
   "cell_type": "code",
   "execution_count": null,
   "metadata": {},
   "outputs": [],
   "source": []
  },
  {
   "cell_type": "code",
   "execution_count": null,
   "metadata": {},
   "outputs": [],
   "source": []
  },
  {
   "cell_type": "markdown",
   "metadata": {},
   "source": [
    "\n",
    "##### Linked List"
   ]
  },
  {
   "cell_type": "code",
   "execution_count": null,
   "metadata": {},
   "outputs": [],
   "source": []
  },
  {
   "cell_type": "code",
   "execution_count": null,
   "metadata": {},
   "outputs": [],
   "source": []
  },
  {
   "cell_type": "code",
   "execution_count": null,
   "metadata": {},
   "outputs": [],
   "source": []
  },
  {
   "cell_type": "code",
   "execution_count": null,
   "metadata": {},
   "outputs": [],
   "source": []
  },
  {
   "cell_type": "markdown",
   "metadata": {},
   "source": [
    "##### Binary Tree - DFS"
   ]
  },
  {
   "cell_type": "code",
   "execution_count": null,
   "metadata": {},
   "outputs": [],
   "source": []
  },
  {
   "cell_type": "code",
   "execution_count": null,
   "metadata": {},
   "outputs": [],
   "source": []
  },
  {
   "cell_type": "code",
   "execution_count": null,
   "metadata": {},
   "outputs": [],
   "source": []
  },
  {
   "cell_type": "code",
   "execution_count": null,
   "metadata": {},
   "outputs": [],
   "source": []
  },
  {
   "cell_type": "code",
   "execution_count": null,
   "metadata": {},
   "outputs": [],
   "source": []
  },
  {
   "cell_type": "code",
   "execution_count": null,
   "metadata": {},
   "outputs": [],
   "source": []
  },
  {
   "cell_type": "markdown",
   "metadata": {},
   "source": [
    "###### Binary Tree - BFS"
   ]
  },
  {
   "cell_type": "code",
   "execution_count": null,
   "metadata": {},
   "outputs": [],
   "source": []
  },
  {
   "cell_type": "code",
   "execution_count": null,
   "metadata": {},
   "outputs": [],
   "source": []
  },
  {
   "cell_type": "markdown",
   "metadata": {},
   "source": [
    "###### Binary Search Tree"
   ]
  },
  {
   "cell_type": "code",
   "execution_count": null,
   "metadata": {},
   "outputs": [],
   "source": []
  },
  {
   "cell_type": "code",
   "execution_count": null,
   "metadata": {},
   "outputs": [],
   "source": []
  },
  {
   "cell_type": "markdown",
   "metadata": {},
   "source": [
    "##### Graphs - DFS"
   ]
  },
  {
   "cell_type": "code",
   "execution_count": null,
   "metadata": {},
   "outputs": [],
   "source": []
  }
 ],
 "metadata": {
  "kernelspec": {
   "display_name": "Python 3",
   "language": "python",
   "name": "python3"
  },
  "language_info": {
   "codemirror_mode": {
    "name": "ipython",
    "version": 3
   },
   "file_extension": ".py",
   "mimetype": "text/x-python",
   "name": "python",
   "nbconvert_exporter": "python",
   "pygments_lexer": "ipython3",
   "version": "3.11.2"
  },
  "orig_nbformat": 4
 },
 "nbformat": 4,
 "nbformat_minor": 2
}
