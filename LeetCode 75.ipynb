{
 "cells": [
  {
   "cell_type": "code",
   "execution_count": null,
   "metadata": {},
   "outputs": [],
   "source": []
  },
  {
   "cell_type": "code",
   "execution_count": 2,
   "metadata": {},
   "outputs": [],
   "source": [
    "from typing import List, Optional"
   ]
  },
  {
   "cell_type": "markdown",
   "metadata": {},
   "source": [
    "##### Sliding Window"
   ]
  },
  {
   "cell_type": "code",
   "execution_count": 3,
   "metadata": {},
   "outputs": [],
   "source": [
    "# 643. Maximum Average Subarray I\n",
    "class Solution:\n",
    "    def findMaxAverage(self, nums: List[int], k: int) -> float:\n",
    "        crt_mx = sum(nums[:k])\n",
    "        mx = crt_mx\n",
    "        for i in range(1, len(nums) - k + 1):\n",
    "            crt_mx -= nums[i - 1]\n",
    "            crt_mx += nums[i + k - 1]\n",
    "            mx= max(mx, crt_mx)\n",
    "        return mx / k"
   ]
  },
  {
   "cell_type": "code",
   "execution_count": 4,
   "metadata": {},
   "outputs": [],
   "source": [
    "# 1456. Maximum Number of Vowels in a Substring of Given Length\n",
    "class Solution:\n",
    "    def maxVowels(self, s: str, k: int) -> int:\n",
    "        hs = {'a', 'e', 'i', 'o', 'u'}\n",
    "        crt_mx = 0\n",
    "        for i in range(k):\n",
    "            if s[i] in hs:\n",
    "                crt_mx += 1\n",
    "\n",
    "        mx = crt_mx\n",
    "        for i in range(1, len(s) - k + 1):\n",
    "            if s[i - 1] in hs:\n",
    "                crt_mx -= 1\n",
    "            if s[i + k - 1] in hs:\n",
    "                crt_mx += 1\n",
    "            mx = max(mx, crt_mx)\n",
    "                \n",
    "        return mx"
   ]
  },
  {
   "cell_type": "code",
   "execution_count": 5,
   "metadata": {},
   "outputs": [],
   "source": [
    "# 1004. Max Consecutive Ones III\n",
    "class Solution:\n",
    "    def longestOnes(self, nums: List[int], k: int) -> int:\n",
    "        l, hm = 0, {}\n",
    "        for r in range(len(nums)):\n",
    "            hm[nums[r]] = hm.get(nums[r], 0) + 1\n",
    "            if r - l + 1 - hm.get(1, 0) > k:\n",
    "                hm[nums[l]] -= 1\n",
    "                l += 1\n",
    "        return r - l + 1"
   ]
  },
  {
   "cell_type": "code",
   "execution_count": 6,
   "metadata": {},
   "outputs": [],
   "source": [
    "# 1493. Longest Subarray of 1's After Deleting One Element\n",
    "class Solution:\n",
    "    def longestSubarray(self, nums: List[int]) -> int:\n",
    "        l, hm = 0, {}\n",
    "        for r in range(len(nums)):\n",
    "            hm[nums[r]] = hm.get(nums[r], 0) + 1\n",
    "            if r - l + 1 - hm.get(1, 0) > 1:\n",
    "                hm[nums[l]] -= 1\n",
    "                l += 1\n",
    "        return r - l"
   ]
  },
  {
   "cell_type": "code",
   "execution_count": null,
   "metadata": {},
   "outputs": [],
   "source": []
  }
 ],
 "metadata": {
  "kernelspec": {
   "display_name": "Python 3",
   "language": "python",
   "name": "python3"
  },
  "language_info": {
   "codemirror_mode": {
    "name": "ipython",
    "version": 3
   },
   "file_extension": ".py",
   "mimetype": "text/x-python",
   "name": "python",
   "nbconvert_exporter": "python",
   "pygments_lexer": "ipython3",
   "version": "3.11.2"
  },
  "orig_nbformat": 4
 },
 "nbformat": 4,
 "nbformat_minor": 2
}
