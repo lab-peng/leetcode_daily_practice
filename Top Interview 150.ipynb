{
 "cells": [
  {
   "cell_type": "markdown",
   "metadata": {},
   "source": [
    "##### Array/String"
   ]
  },
  {
   "cell_type": "code",
   "execution_count": 12,
   "metadata": {},
   "outputs": [
    {
     "name": "stdout",
     "output_type": "stream",
     "text": [
      "[1, 2, 2, 3, 5, 6]\n"
     ]
    }
   ],
   "source": [
    "from typing import List, Optional\n",
    "# 88. Merge Sorted Array\n",
    "class Solution:\n",
    "    def merge(self, nums1: List[int], m: int, nums2: List[int], n: int) -> None:\n",
    "        \"\"\"\n",
    "        Do not return anything, modify nums1 in-place instead.\n",
    "        \"\"\"\n",
    "        l, r, i = m - 1, n - 1, m + n - 1\n",
    "        while r >= 0:\n",
    "            nl, nr = nums1[l], nums2[r]\n",
    "            if l >= 0 and nl > nr:\n",
    "                nums1[i] = nl\n",
    "                l -= 1\n",
    "            else:\n",
    "                nums1[i] = nr\n",
    "                r -= 1\n",
    "            i -= 1\n",
    "        print(nums1)\n",
    "nums1, m, nums2, n = [1,2,3,0,0,0], 3, [2,5,6], 3\n",
    "sln = Solution()\n",
    "sln.merge(nums1, m, nums2, n)"
   ]
  },
  {
   "cell_type": "code",
   "execution_count": null,
   "metadata": {},
   "outputs": [],
   "source": []
  }
 ],
 "metadata": {
  "kernelspec": {
   "display_name": "Python 3",
   "language": "python",
   "name": "python3"
  },
  "language_info": {
   "codemirror_mode": {
    "name": "ipython",
    "version": 3
   },
   "file_extension": ".py",
   "mimetype": "text/x-python",
   "name": "python",
   "nbconvert_exporter": "python",
   "pygments_lexer": "ipython3",
   "version": "3.11.2"
  },
  "orig_nbformat": 4
 },
 "nbformat": 4,
 "nbformat_minor": 2
}
