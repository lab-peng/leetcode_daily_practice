{
 "cells": [
  {
   "cell_type": "code",
   "execution_count": 5,
   "source": [
    "from typing import List, Optional\r\n",
    "from collections import deque"
   ],
   "outputs": [],
   "metadata": {}
  },
  {
   "cell_type": "code",
   "execution_count": 6,
   "source": [
    "class TreeNode:\r\n",
    "    def __init__(self, val, left=None, right=None):\r\n",
    "        self.val = val\r\n",
    "        self.left = left\r\n",
    "        self.right = right\r\n",
    "\r\n",
    "    def graph(self):\r\n",
    "        \"\"\"Graph an instance of (tree) Node class\"\"\"\r\n",
    "        lines, *_ = self.graph_aux()\r\n",
    "        for line in lines:\r\n",
    "            print(line)\r\n",
    "\r\n",
    "    def graph_aux(self):\r\n",
    "        \"\"\"Returns list of strings, width, height, and horizontal coordinate of the root.\"\"\"\r\n",
    "        # No child.\r\n",
    "        if self.right is None and self.left is None:\r\n",
    "            line = str(self.val)\r\n",
    "            width = len(line)\r\n",
    "            height = 1\r\n",
    "            middle = width // 2\r\n",
    "            return [line], width, height, middle\r\n",
    "\r\n",
    "        # Only left child.\r\n",
    "        if self.right is None:\r\n",
    "            lines, n, p, x = self.left.graph_aux()\r\n",
    "            s = str(self.val)\r\n",
    "            u = len(s)\r\n",
    "            first_line = (x + 1) * ' ' + (n - x - 1) * '_' + s\r\n",
    "            second_line = x * ' ' + '/' + (n - x - 1 + u) * ' '\r\n",
    "            shifted_lines = [line + u * ' ' for line in lines]\r\n",
    "            return [first_line, second_line] + shifted_lines, n + u, p + 2, n + u // 2\r\n",
    "\r\n",
    "        # Only right child.\r\n",
    "        if self.left is None:\r\n",
    "            lines, n, p, x = self.right.graph_aux()\r\n",
    "            s = str(self.val)\r\n",
    "            u = len(s)\r\n",
    "            first_line = s + x * '_' + (n - x) * ' '\r\n",
    "            second_line = (u + x) * ' ' + '\\\\' + (n - x - 1) * ' '\r\n",
    "            shifted_lines = [u * ' ' + line for line in lines]\r\n",
    "            return [first_line, second_line] + shifted_lines, n + u, p + 2, u // 2\r\n",
    "\r\n",
    "        # Two children.\r\n",
    "        left, n, p, x = self.left.graph_aux()\r\n",
    "        right, m, q, y = self.right.graph_aux()\r\n",
    "        s = str(self.val)\r\n",
    "        u = len(s)\r\n",
    "        first_line = (x + 1) * ' ' + (n - x - 1) * '_' + s + y * '_' + (m - y) * ' '\r\n",
    "        second_line = x * ' ' + '/' + (n - x - 1 + u + y) * ' ' + '\\\\' + (m - y - 1) * ' '\r\n",
    "        if p < q:\r\n",
    "            left += [n * ' '] * (q - p)\r\n",
    "        elif q < p:\r\n",
    "            right += [m * ' '] * (p - q)\r\n",
    "        zipped_lines = zip(left, right)\r\n",
    "        lines = [first_line, second_line] + [a + u * ' ' + b for a, b in zipped_lines]\r\n",
    "        return lines, n + m + u, max(p, q) + 2, n + u // 2\r\n",
    "\r\n",
    "\r\n",
    "def list_to_tree(items: list[int]) -> TreeNode:\r\n",
    "    \"\"\"Create BT from list of values.\"\"\"\r\n",
    "    n = len(items)\r\n",
    "    if n == 0:\r\n",
    "        return None\r\n",
    "\r\n",
    "    def inner(index: int = 0) -> TreeNode:\r\n",
    "        if n <= index or items[index] is None:\r\n",
    "            return None\r\n",
    "\r\n",
    "        node = TreeNode(items[index])\r\n",
    "        node.left = inner(2 * index + 1)\r\n",
    "        node.right = inner(2 * index + 2)\r\n",
    "        return node\r\n",
    "\r\n",
    "    return inner()"
   ],
   "outputs": [],
   "metadata": {}
  },
  {
   "cell_type": "code",
   "execution_count": 7,
   "source": [
    "class Solution:\r\n",
    "    def zigzagLevelOrder(self, root: Optional[TreeNode]) -> List[List[int]]:\r\n",
    "        \"\"\"\r\n",
    "        103. Binary Tree Zigzag Level Order Traversal \r\n",
    "        \"\"\"\r\n",
    "        q = deque()\r\n",
    "        if root:\r\n",
    "            q.append(root)\r\n",
    "        \r\n",
    "        ans = deque()\r\n",
    "        depth = 0\r\n",
    "        while q:\r\n",
    "            lvl = deque()\r\n",
    "            depth += 1\r\n",
    "            for _ in range(len(q)):\r\n",
    "                crt = q.popleft()\r\n",
    "                if depth % 2 != 0:\r\n",
    "                    lvl.append(crt.val)\r\n",
    "                else:\r\n",
    "                    lvl.appendleft(crt.val)\r\n",
    "\r\n",
    "                if crt.left:\r\n",
    "                    q.append(crt.left)\r\n",
    "                if crt.right:\r\n",
    "                    q.append(crt.right)\r\n",
    "            ans.append(lvl)\r\n",
    "        return ans\r\n",
    "            \r\n",
    "s = Solution()\r\n",
    "s.zigzagLevelOrder(list_to_tree([3,9,20,None, None,15,7]))  # [[3],[20,9],[15,7]]"
   ],
   "outputs": [
    {
     "output_type": "execute_result",
     "data": {
      "text/plain": [
       "deque([deque([3]), deque([20, 9]), deque([15, 7])])\u0000\u0000\u0000Z  1 \n",
       " / \\\n",
       " 3 2\n",
       "/   \n",
       "5   \n",
       " _2  \n",
       "/  \\ \n",
       "1  3 \n",
       " \\  \\\n",
       " 4  7\n",
       "  _3  \n",
       " /  \\ \n",
       " 4  5 \n",
       "/ \\  \\\n",
       "5 4  7\n",
       "\u0000\u0000\u0000\u00021\n"
      ]
     },
     "metadata": {},
     "execution_count": 7
    }
   ],
   "metadata": {}
  },
  {
   "cell_type": "code",
   "execution_count": 8,
   "source": [
    "class Solution:\r\n",
    "    def getTargetCopy(self, original: TreeNode, cloned: TreeNode, target: TreeNode) -> TreeNode:\r\n",
    "        \"\"\" \r\n",
    "        1379. Find a Corresponding Node of a Binary Tree in a Clone of That Tree\r\n",
    "        \"\"\"\r\n",
    "        # What is the usage of original parameter?\r\n",
    "        q = deque()\r\n",
    "        if cloned:\r\n",
    "            q.append(cloned)\r\n",
    "\r\n",
    "        while q:\r\n",
    "            crt = q.popleft()\r\n",
    "            if crt.val == target.val:\r\n",
    "                return crt\r\n",
    "            if crt.left:\r\n",
    "                q.append(crt.left)\r\n",
    "            if crt.right:\r\n",
    "                q.append(crt.right)"
   ],
   "outputs": [],
   "metadata": {}
  },
  {
   "cell_type": "code",
   "execution_count": 9,
   "source": [
    "class Solution:\r\n",
    "    def rangeSumBST(self, root: Optional[TreeNode], low: int, high: int) -> int:\r\n",
    "        \"\"\"  \r\n",
    "        938. Range Sum of BST\r\n",
    "        \"\"\"\r\n",
    "        self.sm = 0\r\n",
    "        def inorder(root):\r\n",
    "            if not root:\r\n",
    "                return\r\n",
    "            inorder(root.left)\r\n",
    "            if low <= root.val <= high:\r\n",
    "                self.sm += root.val\r\n",
    "            inorder(root.right)\r\n",
    "        inorder(root)\r\n",
    "        return self.sm"
   ],
   "outputs": [],
   "metadata": {}
  },
  {
   "cell_type": "code",
   "execution_count": 10,
   "source": [
    "class Solution:\r\n",
    "    def evaluateTree(self, root: Optional[TreeNode]) -> bool:\r\n",
    "        \"\"\" \r\n",
    "        2331. Evaluate Boolean Binary Tree\r\n",
    "        \"\"\"\r\n",
    "        def postorder(root):\r\n",
    "            if not root:\r\n",
    "                return\r\n",
    "            if not root.left and not root.right:\r\n",
    "                return False if root.val == 0 else True\r\n",
    "\r\n",
    "            return postorder(root.left) or postorder(root.right) if root.val == 2 else \\\r\n",
    "                postorder(root.left) and postorder(root.right)\r\n",
    "\r\n",
    "        return postorder(root)\r\n",
    "        \r\n",
    "\r\n",
    "\r\n",
    "s = Solution()\r\n",
    "assert s.evaluateTree(list_to_tree([2,1,3,None,None,0,1])) is True\r\n",
    "assert s.evaluateTree(list_to_tree([3,3,2,0,0,3,2,None,None,None,None,1,3,1,1,None,None,2,1,None,None,None,None,1,1,None,None,None,None,None,None])) is False"
   ],
   "outputs": [],
   "metadata": {}
  },
  {
   "cell_type": "code",
   "execution_count": 11,
   "source": [
    "class Solution:\r\n",
    "    def mergeTrees(self, root1: Optional[TreeNode], root2: Optional[TreeNode]) -> Optional[TreeNode]:\r\n",
    "        \"\"\" \r\n",
    "        617. Merge Two Binary Trees\r\n",
    "        \"\"\"\r\n",
    "        if not root1 and not root2:\r\n",
    "            return None\r\n",
    "        v1 = root1.val if root1 else 0\r\n",
    "        v2 = root2.val if root2 else 0\r\n",
    "        root = TreeNode(v1 + v2)\r\n",
    "\r\n",
    "        root.left = self.mergeTrees(root1.left if root1 else None, root2.left if root2 else None)\r\n",
    "        root.right = self.mergeTrees(root1.right if root1 else None, root2.right if root2 else None)\r\n",
    "    \r\n",
    "        return root\r\n",
    "\r\n",
    "\r\n",
    "\r\n",
    "root1 = list_to_tree([1,3,2,5])\r\n",
    "root2 = list_to_tree([2,1,3,None,4,None,7])\r\n",
    "root3 = list_to_tree([3,4,5,5,4,None,7])\r\n",
    "\r\n",
    "s = Solution()\r\n",
    "root1.graph()\r\n",
    "root2.graph()\r\n",
    "s.mergeTrees(root1, root2).graph()"
   ],
   "outputs": [
    {
     "output_type": "stream",
     "name": "stdout",
     "text": [
      "  1 \n",
      " / \\\n",
      " 3 2\n",
      "/   \n",
      "5   \n",
      " _2  \n",
      "/  \\ \n",
      "1  3 \n",
      " \\  \\\n",
      " 4  7\n",
      "  _3  \n",
      " /  \\ \n",
      " 4  5 \n",
      "/ \\  \\\n",
      "5 4  7\n",
      "\u0000\u0000\u0000\u00021\n"
     ]
    }
   ],
   "metadata": {}
  },
  {
   "cell_type": "code",
   "execution_count": 12,
   "source": [],
   "outputs": [
    {
     "output_type": "stream",
     "name": "stdout",
     "text": [
      "1\n"
     ]
    }
   ],
   "metadata": {}
  },
  {
   "cell_type": "code",
   "execution_count": null,
   "source": [],
   "outputs": [],
   "metadata": {}
  },
  {
   "cell_type": "code",
   "execution_count": null,
   "source": [],
   "outputs": [],
   "metadata": {}
  }
 ],
 "metadata": {
  "kernelspec": {
   "display_name": "Python 3",
   "language": "python",
   "name": "python3"
  },
  "language_info": {
   "codemirror_mode": {
    "name": "ipython",
    "version": 3
   },
   "file_extension": ".py",
   "mimetype": "text/x-python",
   "name": "python",
   "nbconvert_exporter": "python",
   "pygments_lexer": "ipython3",
   "version": "3.11.1"
  },
  "orig_nbformat": 4,
  "vscode": {
   "interpreter": {
    "hash": "3c82aea9bf3f365190a7e416b607cf2c9372b04170f58ad31092367f98b9b5cc"
   }
  }
 },
 "nbformat": 4,
 "nbformat_minor": 2
}