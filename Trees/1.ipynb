{
 "cells": [
  {
   "cell_type": "code",
   "execution_count": 2,
   "metadata": {},
   "outputs": [],
   "source": [
    "from typing import List, Optional\n",
    "from collections import deque"
   ]
  },
  {
   "cell_type": "code",
   "execution_count": 3,
   "metadata": {},
   "outputs": [],
   "source": [
    "class TreeNode:\n",
    "    def __init__(self, val, left=None, right=None):\n",
    "        self.val = val\n",
    "        self.left = left\n",
    "        self.right = right\n",
    "\n",
    "    def graph(self):\n",
    "        \"\"\"Graph an instance of (tree) Node class\"\"\"\n",
    "        lines, *_ = self.graph_aux()\n",
    "        for line in lines:\n",
    "            print(line)\n",
    "\n",
    "    def graph_aux(self):\n",
    "        \"\"\"Returns list of strings, width, height, and horizontal coordinate of the root.\"\"\"\n",
    "        # No child.\n",
    "        if self.right is None and self.left is None:\n",
    "            line = str(self.val)\n",
    "            width = len(line)\n",
    "            height = 1\n",
    "            middle = width // 2\n",
    "            return [line], width, height, middle\n",
    "\n",
    "        # Only left child.\n",
    "        if self.right is None:\n",
    "            lines, n, p, x = self.left.graph_aux()\n",
    "            s = str(self.val)\n",
    "            u = len(s)\n",
    "            first_line = (x + 1) * ' ' + (n - x - 1) * '_' + s\n",
    "            second_line = x * ' ' + '/' + (n - x - 1 + u) * ' '\n",
    "            shifted_lines = [line + u * ' ' for line in lines]\n",
    "            return [first_line, second_line] + shifted_lines, n + u, p + 2, n + u // 2\n",
    "\n",
    "        # Only right child.\n",
    "        if self.left is None:\n",
    "            lines, n, p, x = self.right.graph_aux()\n",
    "            s = str(self.val)\n",
    "            u = len(s)\n",
    "            first_line = s + x * '_' + (n - x) * ' '\n",
    "            second_line = (u + x) * ' ' + '\\\\' + (n - x - 1) * ' '\n",
    "            shifted_lines = [u * ' ' + line for line in lines]\n",
    "            return [first_line, second_line] + shifted_lines, n + u, p + 2, u // 2\n",
    "\n",
    "        # Two children.\n",
    "        left, n, p, x = self.left.graph_aux()\n",
    "        right, m, q, y = self.right.graph_aux()\n",
    "        s = str(self.val)\n",
    "        u = len(s)\n",
    "        first_line = (x + 1) * ' ' + (n - x - 1) * '_' + s + y * '_' + (m - y) * ' '\n",
    "        second_line = x * ' ' + '/' + (n - x - 1 + u + y) * ' ' + '\\\\' + (m - y - 1) * ' '\n",
    "        if p < q:\n",
    "            left += [n * ' '] * (q - p)\n",
    "        elif q < p:\n",
    "            right += [m * ' '] * (p - q)\n",
    "        zipped_lines = zip(left, right)\n",
    "        lines = [first_line, second_line] + [a + u * ' ' + b for a, b in zipped_lines]\n",
    "        return lines, n + m + u, max(p, q) + 2, n + u // 2\n",
    "\n",
    "\n",
    "def list_to_tree(items: list[int]) -> TreeNode:\n",
    "    \"\"\"Create BT from list of values.\"\"\"\n",
    "    n = len(items)\n",
    "    if n == 0:\n",
    "        return None\n",
    "\n",
    "    def inner(index: int = 0) -> TreeNode:\n",
    "        if n <= index or items[index] is None:\n",
    "            return None\n",
    "\n",
    "        node = TreeNode(items[index])\n",
    "        node.left = inner(2 * index + 1)\n",
    "        node.right = inner(2 * index + 2)\n",
    "        return node\n",
    "\n",
    "    return inner()"
   ]
  },
  {
   "cell_type": "code",
   "execution_count": 4,
   "metadata": {},
   "outputs": [
    {
     "data": {
      "text/plain": [
       "deque([deque([3]), deque([20, 9]), deque([15, 7])])"
      ]
     },
     "execution_count": 4,
     "metadata": {},
     "output_type": "execute_result"
    }
   ],
   "source": [
    "class Solution:\n",
    "    def zigzagLevelOrder(self, root: Optional[TreeNode]) -> List[List[int]]:\n",
    "        \"\"\"\n",
    "        103. Binary Tree Zigzag Level Order Traversal \n",
    "        \"\"\"\n",
    "        q = deque()\n",
    "        if root:\n",
    "            q.append(root)\n",
    "        \n",
    "        ans = deque()\n",
    "        depth = 0\n",
    "        while q:\n",
    "            lvl = deque()\n",
    "            depth += 1\n",
    "            for _ in range(len(q)):\n",
    "                crt = q.popleft()\n",
    "                if depth % 2 != 0:\n",
    "                    lvl.append(crt.val)\n",
    "                else:\n",
    "                    lvl.appendleft(crt.val)\n",
    "\n",
    "                if crt.left:\n",
    "                    q.append(crt.left)\n",
    "                if crt.right:\n",
    "                    q.append(crt.right)\n",
    "            ans.append(lvl)\n",
    "        return ans\n",
    "            \n",
    "s = Solution()\n",
    "s.zigzagLevelOrder(list_to_tree([3,9,20,None, None,15,7]))  # [[3],[20,9],[15,7]]"
   ]
  },
  {
   "cell_type": "code",
   "execution_count": 6,
   "metadata": {},
   "outputs": [],
   "source": [
    "class Solution:\n",
    "    def getTargetCopy(self, original: TreeNode, cloned: TreeNode, target: TreeNode) -> TreeNode:\n",
    "        \"\"\" \n",
    "        1379. Find a Corresponding Node of a Binary Tree in a Clone of That Tree\n",
    "        \"\"\"\n",
    "        # What is the usage of original parameter?\n",
    "        q = deque()\n",
    "        if cloned:\n",
    "            q.append(cloned)\n",
    "\n",
    "        while q:\n",
    "            crt = q.popleft()\n",
    "            if crt.val == target.val:\n",
    "                return crt\n",
    "            if crt.left:\n",
    "                q.append(crt.left)\n",
    "            if crt.right:\n",
    "                q.append(crt.right)"
   ]
  },
  {
   "cell_type": "code",
   "execution_count": null,
   "metadata": {},
   "outputs": [],
   "source": [
    "class Solution:\n",
    "    def rangeSumBST(self, root: Optional[TreeNode], low: int, high: int) -> int:\n",
    "        \"\"\"  \n",
    "        938. Range Sum of BST\n",
    "        \"\"\"\n",
    "        self.sm = 0\n",
    "        def inorder(root):\n",
    "            if not root:\n",
    "                return\n",
    "            inorder(root.left)\n",
    "            if low <= root.val <= high:\n",
    "                self.sm += root.val\n",
    "            inorder(root.right)\n",
    "        inorder(root)\n",
    "        return self.sm"
   ]
  },
  {
   "cell_type": "code",
   "execution_count": 37,
   "metadata": {},
   "outputs": [],
   "source": [
    "class Solution:\n",
    "    def evaluateTree(self, root: Optional[TreeNode]) -> bool:\n",
    "        \"\"\" \n",
    "        2331. Evaluate Boolean Binary Tree\n",
    "        \"\"\"\n",
    "        def postorder(root):\n",
    "            if not root:\n",
    "                return\n",
    "            if not root.left and not root.right:\n",
    "                return False if root.val == 0 else True\n",
    "\n",
    "            return postorder(root.left) or postorder(root.right) if root.val == 2 else \\\n",
    "                postorder(root.left) and postorder(root.right)\n",
    "\n",
    "        return postorder(root)\n",
    "        \n",
    "\n",
    "\n",
    "s = Solution()\n",
    "assert s.evaluateTree(list_to_tree([2,1,3,None,None,0,1])) is True\n",
    "assert s.evaluateTree(list_to_tree([3,3,2,0,0,3,2,None,None,None,None,1,3,1,1,None,None,2,1,None,None,None,None,1,1,None,None,None,None,None,None])) is False"
   ]
  },
  {
   "cell_type": "code",
   "execution_count": 52,
   "metadata": {},
   "outputs": [
    {
     "name": "stdout",
     "output_type": "stream",
     "text": [
      "  1 \n",
      " / \\\n",
      " 3 2\n",
      "/   \n",
      "5   \n",
      " _2  \n",
      "/  \\ \n",
      "1  3 \n",
      " \\  \\\n",
      " 4  7\n",
      "  _3  \n",
      " /  \\ \n",
      " 4  5 \n",
      "/ \\  \\\n",
      "5 4  7\n"
     ]
    }
   ],
   "source": [
    "class Solution:\n",
    "    def mergeTrees(self, root1: Optional[TreeNode], root2: Optional[TreeNode]) -> Optional[TreeNode]:\n",
    "        \"\"\" \n",
    "        617. Merge Two Binary Trees\n",
    "        \"\"\"\n",
    "        if not root1 and not root2:\n",
    "            return None\n",
    "        v1 = root1.val if root1 else 0\n",
    "        v2 = root2.val if root2 else 0\n",
    "        root = TreeNode(v1 + v2)\n",
    "\n",
    "        root.left = self.mergeTrees(root1.left if root1 else None, root2.left if root2 else None)\n",
    "        root.right = self.mergeTrees(root1.right if root1 else None, root2.right if root2 else None)\n",
    "    \n",
    "        return root\n",
    "\n",
    "\n",
    "\n",
    "root1 = list_to_tree([1,3,2,5])\n",
    "root2 = list_to_tree([2,1,3,None,4,None,7])\n",
    "root3 = list_to_tree([3,4,5,5,4,None,7])\n",
    "\n",
    "s = Solution()\n",
    "root1.graph()\n",
    "root2.graph()\n",
    "s.mergeTrees(root1, root2).graph()"
   ]
  },
  {
   "cell_type": "code",
   "execution_count": null,
   "metadata": {},
   "outputs": [],
   "source": []
  },
  {
   "cell_type": "code",
   "execution_count": null,
   "metadata": {},
   "outputs": [],
   "source": []
  },
  {
   "cell_type": "code",
   "execution_count": null,
   "metadata": {},
   "outputs": [],
   "source": []
  }
 ],
 "metadata": {
  "kernelspec": {
   "display_name": "Python 3",
   "language": "python",
   "name": "python3"
  },
  "language_info": {
   "codemirror_mode": {
    "name": "ipython",
    "version": 3
   },
   "file_extension": ".py",
   "mimetype": "text/x-python",
   "name": "python",
   "nbconvert_exporter": "python",
   "pygments_lexer": "ipython3",
   "version": "3.11.1"
  },
  "orig_nbformat": 4,
  "vscode": {
   "interpreter": {
    "hash": "3c82aea9bf3f365190a7e416b607cf2c9372b04170f58ad31092367f98b9b5cc"
   }
  }
 },
 "nbformat": 4,
 "nbformat_minor": 2
}
