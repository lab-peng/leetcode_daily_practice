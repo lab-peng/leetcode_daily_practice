{
 "cells": [
  {
   "cell_type": "code",
   "execution_count": 4,
   "metadata": {},
   "outputs": [],
   "source": [
    "from typing import Optional, List"
   ]
  },
  {
   "cell_type": "markdown",
   "metadata": {},
   "source": [
    "1 Two sum\n",
    "https://leetcode.com/problems/two-sum/"
   ]
  },
  {
   "cell_type": "code",
   "execution_count": 7,
   "metadata": {},
   "outputs": [
    {
     "data": {
      "text/plain": [
       "[1, 2]"
      ]
     },
     "execution_count": 7,
     "metadata": {},
     "output_type": "execute_result"
    }
   ],
   "source": [
    "class Solution:\n",
    "    def twoSum(self, nums: List[int], target: int) -> List[int]:\n",
    "        hm = {}  # hashmap\n",
    "        for i, v in enumerate(nums):\n",
    "            complement = target - v\n",
    "            hm[complement] = i\n",
    "            if v in hm:\n",
    "                return [hm[v], i]\n",
    "\n",
    "nums = [2,7,11,15]\n",
    "target = 18\n",
    "s = Solution()\n",
    "s.twoSum(nums, target)"
   ]
  },
  {
   "cell_type": "markdown",
   "metadata": {},
   "source": [
    "2 Best Time to Buy and Sell Stock\n",
    "https://leetcode.com/problems/best-time-to-buy-and-sell-stock/"
   ]
  },
  {
   "cell_type": "code",
   "execution_count": 6,
   "metadata": {},
   "outputs": [
    {
     "data": {
      "text/plain": [
       "8"
      ]
     },
     "execution_count": 6,
     "metadata": {},
     "output_type": "execute_result"
    }
   ],
   "source": [
    "class Solution:\n",
    "    def maxProfit(self, prices: List[int]) -> int:\n",
    "        l = 0\n",
    "        r = 1\n",
    "        max_profit = 0\n",
    "\n",
    "        while r < len(prices):\n",
    "            if prices[l] < prices[r]:\n",
    "                max_profit = max(max_profit, (prices[r] - prices[l]))\n",
    "            else:\n",
    "                l = r\n",
    "            r += 1\n",
    "        return max_profit\n",
    "\n",
    "\n",
    "prices = [7, 1, 5, 3, 6, 4, 9, 1, 9]\n",
    "s = Solution()\n",
    "s.maxProfit(prices)"
   ]
  },
  {
   "cell_type": "markdown",
   "metadata": {},
   "source": [
    "3 Contains Duplicate\n",
    "https://leetcode.com/problems/contains-duplicate/\n"
   ]
  },
  {
   "cell_type": "code",
   "execution_count": 8,
   "metadata": {},
   "outputs": [
    {
     "data": {
      "text/plain": [
       "True"
      ]
     },
     "execution_count": 8,
     "metadata": {},
     "output_type": "execute_result"
    }
   ],
   "source": [
    "class Solution:\n",
    "    def containsDuplicate(self, nums: List[int]) -> bool:\n",
    "        hm = {}\n",
    "        for i, v in enumerate(nums):\n",
    "            if v not in hm:\n",
    "                hm[v] = 1\n",
    "            else:\n",
    "                return True\n",
    "        return False\n",
    "\n",
    "nums = [1, 2, 3, 1]\n",
    "s = Solution()\n",
    "s.containsDuplicate(nums)"
   ]
  },
  {
   "cell_type": "markdown",
   "metadata": {},
   "source": [
    "4 Product of Array Except Self\n",
    "https://leetcode.com/problems/product-of-array-except-self/\n"
   ]
  },
  {
   "cell_type": "code",
   "execution_count": 9,
   "metadata": {},
   "outputs": [
    {
     "data": {
      "text/plain": [
       "[12, 16, 24, 48, 24]"
      ]
     },
     "execution_count": 9,
     "metadata": {},
     "output_type": "execute_result"
    }
   ],
   "source": [
    "class Solution:\n",
    "    def productExceptSelf(self, nums: List[int]) -> List[int]:\n",
    "        preprod = 1\n",
    "        postprod = 1\n",
    "\n",
    "        prefix = [1] * len(nums)\n",
    "        postfix = [1] * len(nums)\n",
    "        res = [None] * len(nums)\n",
    " \n",
    "        for i in range(len(nums)):\n",
    "            preprod *= nums[i]\n",
    "            prefix[i] = preprod\n",
    "        \n",
    "        for i in range(len(nums)-1, -1, -1):\n",
    "            postprod *= nums[i]\n",
    "            postfix[i] = postprod\n",
    "\n",
    "        # print(prefix)\n",
    "        # print(postfix)\n",
    "\n",
    "        for i in range(len(nums)):\n",
    "            if i == 0:\n",
    "                res[i] = postfix[1]\n",
    "            elif i == len(nums) - 1:\n",
    "                res[i] = prefix[len(nums) - 2]\n",
    "            else:\n",
    "                res[i] = prefix[i-1] * postfix[i+1]\n",
    "        return res\n",
    "            \n",
    "# nums = [1, 2, 3, 4]\n",
    "nums = [-1, 1, 0, -3, 3]\n",
    "nums = [4,3,2,1,2]\n",
    "# [24, 12, 8, 6]\n",
    "s = Solution()\n",
    "s.productExceptSelf(nums)\n"
   ]
  },
  {
   "cell_type": "code",
   "execution_count": 10,
   "metadata": {},
   "outputs": [
    {
     "data": {
      "text/plain": [
       "[0, 0, 9, 0, 0]"
      ]
     },
     "execution_count": 10,
     "metadata": {},
     "output_type": "execute_result"
    }
   ],
   "source": [
    "# Improved version O(n) time complexity but only O(1) extra space complexity\n",
    "class Solution:\n",
    "    def productExceptSelf(self, nums: List[int]) -> List[int]:\n",
    "        preprod = 1\n",
    "        postprod = 1\n",
    "\n",
    "        res = [1] * (len(nums))\n",
    "\n",
    "        for i in range(len(nums)):\n",
    "            preprod *= nums[i]\n",
    "            res[i] = preprod\n",
    "        prefix = nums[1]\n",
    "        suffix = res[-2]\n",
    "        \n",
    "        x = [1] * len(res)\n",
    "        for i in range(len(res)-3, -1, -1):\n",
    "            postprod *= nums[i+2]\n",
    "            res[i] = postprod * res[i]\n",
    "        res.insert(0, postprod * prefix)\n",
    "        res[-2] = suffix\n",
    "        res.pop()\n",
    "        \n",
    "        return res\n",
    "            \n",
    "            \n",
    "nums = [1, 2, 3, 4]\n",
    "nums = [4,3,2,1,2]\n",
    "nums = [-1, 1, 0, -3, 3]\n",
    "# [24, 12, 8, 6]\n",
    "s = Solution()\n",
    "s.productExceptSelf(nums)"
   ]
  },
  {
   "cell_type": "code",
   "execution_count": 13,
   "metadata": {},
   "outputs": [
    {
     "data": {
      "text/plain": [
       "[24, 12, 8, 6]\u0000\u0000\u0000\u00016\u0000\u0000\u0000\u00016\u0000\u0000\u0000\u00016\u0000\u0000\u0000\u00010"
      ]
     },
     "execution_count": 13,
     "metadata": {},
     "output_type": "execute_result"
    }
   ],
   "source": [
    "# Improved version O(n) time complexity but only O(1) extra space complexity\n",
    "# Neetcode Solution\n",
    "class Solution:\n",
    "    def productExceptSelf(self, nums: List[int]) -> List[int]:\n",
    "        res = [1] * len(nums)\n",
    "\n",
    "        prefix = 1\n",
    "        for i in range(len(nums)):\n",
    "            res[i] = prefix\n",
    "            prefix *= nums[i]\n",
    "        # print(res)\n",
    "\n",
    "        postfix = 1  # 1 4 12 24\n",
    "        for i in range(len(nums) - 1, -1, -1): # 3 2 1 0\n",
    "            res[i] *= postfix # 6 8 12 24\n",
    "            postfix *= nums[i] \n",
    "\n",
    "        return res\n",
    "      \n",
    "nums = [1, 2, 3, 4]\n",
    "# nums = [4,3,2,1,2]\n",
    "# nums = [-1, 1, 0, -3, 3]\n",
    "# [24, 12, 8, 6]\n",
    "s = Solution()\n",
    "s.productExceptSelf(nums)"
   ]
  },
  {
   "cell_type": "markdown",
   "metadata": {},
   "source": [
    "5 Maxium Subarray\n",
    "https://leetcode.com/problems/maximum-subarray/"
   ]
  },
  {
   "cell_type": "code",
   "execution_count": 11,
   "metadata": {},
   "outputs": [
    {
     "data": {
      "text/plain": [
       "6"
      ]
     },
     "execution_count": 11,
     "metadata": {},
     "output_type": "execute_result"
    }
   ],
   "source": [
    "class Solution:\n",
    "    def maxSubArray(self, nums: List[int]) -> int:\n",
    "        for i in range(1, len(nums)):\n",
    "            nums[i] = max(nums[i] + nums[i-1], nums[i])\n",
    "        return max(nums)\n",
    "nums = [-2,1,-3,4,-1,2,1,-5,4]\n",
    "s = Solution()\n",
    "s.maxSubArray(nums)"
   ]
  },
  {
   "cell_type": "code",
   "execution_count": 16,
   "metadata": {},
   "outputs": [
    {
     "data": {
      "text/plain": [
       "6"
      ]
     },
     "execution_count": 16,
     "metadata": {},
     "output_type": "execute_result"
    }
   ],
   "source": [
    "# NeetCode Solution\n",
    "class Solution:\n",
    "    def maxSubArray(self, nums: List[int]) -> int:\n",
    "        max_sub = nums[0]\n",
    "        curr_sub = 0\n",
    "        \n",
    "        for n in nums:\n",
    "            if curr_sub < 0:\n",
    "                curr_sub = 0\n",
    "            curr_sub += n\n",
    "            max_sub = max(max_sub, curr_sub)\n",
    "        return max_sub\n",
    "\n",
    "\n",
    "nums = [-2,1,-3,4,-1,2,1,-5,4]\n",
    "# nums = [-1, -2, -3]\n",
    "s = Solution()\n",
    "s.maxSubArray(nums)"
   ]
  },
  {
   "cell_type": "markdown",
   "metadata": {},
   "source": [
    "6 Maximum Product Subarray\n",
    "https://leetcode.com/problems/maximum-product-subarray"
   ]
  },
  {
   "cell_type": "code",
   "execution_count": 17,
   "metadata": {},
   "outputs": [
    {
     "data": {
      "text/plain": [
       "6"
      ]
     },
     "execution_count": 17,
     "metadata": {},
     "output_type": "execute_result"
    }
   ],
   "source": [
    "# Neetcode solution\n",
    "class Solution:\n",
    "    def maxProduct(self, nums: List[int]) -> int:\n",
    "        max_prod = float('-inf')\n",
    "        cur_min, cur_max = 1, 1\n",
    "        for n in nums:\n",
    "            tmp_max = cur_max * n \n",
    "            cur_max = max(n * cur_max, n * cur_min, n)\n",
    "            cur_min = min(tmp_max, n * cur_min, n)\n",
    "            # print(tmp_max, cur_max, cur_min)\n",
    "            max_prod = max(max_prod, cur_max)\n",
    "        return max_prod\n",
    "\n",
    "\n",
    "nums = [2,3,-2,4]\n",
    "# nums = [2, 0, 0, 2]\n",
    "# nums = [3, -1, 4]\n",
    "# nums = [-2, 0, -1]\n",
    "# nums = [0, 2]\n",
    "s = Solution()\n",
    "s.maxProduct(nums)"
   ]
  },
  {
   "cell_type": "markdown",
   "metadata": {},
   "source": [
    "7 Find Minimum in Rotated Sorted Array\n",
    "https://leetcode.com/problems/find-minimum-in-rotated-sorted-array/"
   ]
  },
  {
   "cell_type": "code",
   "execution_count": 18,
   "metadata": {},
   "outputs": [
    {
     "data": {
      "text/plain": [
       "0"
      ]
     },
     "execution_count": 18,
     "metadata": {},
     "output_type": "execute_result"
    }
   ],
   "source": [
    "class Solution:\n",
    "    def findMin(self, nums: List[int]) -> int:\n",
    "        l, r = 0, len(nums) - 1\n",
    "        \n",
    "        while l < r:\n",
    "            m = (l + r) // 2\n",
    "            if nums[m] > nums[r]:\n",
    "                l = m + 1\n",
    "            else:\n",
    "                r = m\n",
    "        return nums[l]           \n",
    "\n",
    "\n",
    "nums = [3,4,5,1,2]\n",
    "nums = [1,2,3,4,5,6,7,8,9,0]\n",
    "# nums = [11,13,15,17]\n",
    "# Output: 1\n",
    "s = Solution()\n",
    "s.findMin(nums)"
   ]
  },
  {
   "cell_type": "markdown",
   "metadata": {},
   "source": [
    "8 \n"
   ]
  },
  {
   "cell_type": "code",
   "execution_count": null,
   "metadata": {},
   "outputs": [],
   "source": []
  },
  {
   "cell_type": "code",
   "execution_count": null,
   "metadata": {},
   "outputs": [],
   "source": []
  },
  {
   "cell_type": "code",
   "execution_count": null,
   "metadata": {},
   "outputs": [],
   "source": []
  },
  {
   "cell_type": "code",
   "execution_count": null,
   "metadata": {},
   "outputs": [],
   "source": []
  },
  {
   "cell_type": "code",
   "execution_count": null,
   "metadata": {},
   "outputs": [],
   "source": []
  },
  {
   "cell_type": "code",
   "execution_count": null,
   "metadata": {},
   "outputs": [],
   "source": []
  },
  {
   "cell_type": "code",
   "execution_count": null,
   "metadata": {},
   "outputs": [],
   "source": []
  },
  {
   "cell_type": "code",
   "execution_count": null,
   "metadata": {},
   "outputs": [],
   "source": []
  },
  {
   "cell_type": "code",
   "execution_count": null,
   "metadata": {},
   "outputs": [],
   "source": []
  }
 ],
 "metadata": {
  "kernelspec": {
   "display_name": "Python 3",
   "language": "python",
   "name": "python3"
  },
  "language_info": {
   "codemirror_mode": {
    "name": "ipython",
    "version": 3
   },
   "file_extension": ".py",
   "mimetype": "text/x-python",
   "name": "python",
   "nbconvert_exporter": "python",
   "pygments_lexer": "ipython3",
   "version": "3.11.1"
  },
  "orig_nbformat": 4,
  "vscode": {
   "interpreter": {
    "hash": "b7ca4a75756fff48ad75ddef2741ecfed8f2ce12ec8770943891cb3b12546634"
   }
  }
 },
 "nbformat": 4,
 "nbformat_minor": 2
}
