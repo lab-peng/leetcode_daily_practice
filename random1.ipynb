{
 "cells": [
  {
   "cell_type": "code",
   "execution_count": 2,
   "metadata": {},
   "outputs": [],
   "source": [
    "from bisect import bisect_left, bisect_right\n",
    "from typing import List\n",
    "\n",
    "def find_first_last_idx(arr, k):\n",
    "    first = bisect_left(arr, k)\n",
    "    last = bisect_right(arr, k) - 1\n",
    "    if first <= last:\n",
    "        return [first, last]\n",
    "    return [-1, -1]\n",
    "\n",
    "assert find_first_last_idx([1, 2, 3, 3, 3, 4], 3) == [2, 4]"
   ]
  },
  {
   "cell_type": "code",
   "execution_count": 3,
   "metadata": {},
   "outputs": [
    {
     "name": "stdout",
     "output_type": "stream",
     "text": [
      "Counter({'a': 5, 'f': 4, 'w': 4, 'e': 1})\n",
      "Counter({'a': 5, 'f': 5, 'w': 4, 'e': 3})\n"
     ]
    }
   ],
   "source": [
    "from collections import Counter\n",
    "a = 'aefawfawfawfaw'\n",
    "b = 'aefawfeawfwafwaef'\n",
    "\n",
    "counter_a = Counter(a)\n",
    "counter_b = Counter(b)\n",
    "print(counter_a)\n",
    "print(counter_b)"
   ]
  },
  {
   "cell_type": "code",
   "execution_count": 4,
   "metadata": {},
   "outputs": [
    {
     "name": "stdout",
     "output_type": "stream",
     "text": [
      "5\n",
      "[0, 1, 2, 3, 4, 2, 2, 3, 3, 4]\n"
     ]
    }
   ],
   "source": [
    "class Solution:\n",
    "    def removeDuplicates(self, nums: List[int]) -> int:\n",
    "        \"\"\"\n",
    "        26. Remove Duplicates from Sorted Array\n",
    "        \"\"\"\n",
    "        l = 1\n",
    "        for r in range(1, len(nums)):\n",
    "            if nums[r] != nums[r - 1]:\n",
    "                nums[l] = nums[r]\n",
    "                l += 1\n",
    "        return l\n",
    "    \n",
    "nums = [0,0,1,1,1,2,2,3,3,4]\n",
    "s = Solution()\n",
    "print(s.removeDuplicates(nums))\n",
    "print(nums)"
   ]
  },
  {
   "cell_type": "code",
   "execution_count": null,
   "metadata": {},
   "outputs": [],
   "source": []
  }
 ],
 "metadata": {
  "kernelspec": {
   "display_name": "python_sql_venv",
   "language": "python",
   "name": "python_sql_venv"
  },
  "language_info": {
   "codemirror_mode": {
    "name": "ipython",
    "version": 3
   },
   "file_extension": ".py",
   "mimetype": "text/x-python",
   "name": "python",
   "nbconvert_exporter": "python",
   "pygments_lexer": "ipython3",
   "version": "3.10.2"
  },
  "orig_nbformat": 4
 },
 "nbformat": 4,
 "nbformat_minor": 2
}
