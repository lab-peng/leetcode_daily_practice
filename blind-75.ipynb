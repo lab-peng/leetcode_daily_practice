{
 "cells": [
  {
   "cell_type": "code",
   "execution_count": 474,
   "source": [
    "from typing import List, Optional\r\n",
    "from collections import Counter, defaultdict, deque\r\n",
    "from itertools import accumulate\r\n",
    "from operator import mul"
   ],
   "outputs": [],
   "metadata": {}
  },
  {
   "cell_type": "markdown",
   "source": [
    "##### Arrays & Hashing"
   ],
   "metadata": {}
  },
  {
   "cell_type": "code",
   "execution_count": 421,
   "source": [
    "# 217. Contains Duplicate\r\n",
    "# https://leetcode.com/problems/contains-duplicate/\r\n",
    "class Solution:\r\n",
    "    def containsDuplicate(self, nums: List[int]) -> bool:\r\n",
    "        hs = set()\r\n",
    "        for n in nums:\r\n",
    "            if n in hs:\r\n",
    "                return True\r\n",
    "            hs.add(n)\r\n",
    "        return False\r\n",
    "\r\n",
    "s = Solution()\r\n",
    "assert s.containsDuplicate([1,2,3,1])\r\n",
    "assert s.containsDuplicate([1, 2, 3, 4]) is False"
   ],
   "outputs": [],
   "metadata": {}
  },
  {
   "cell_type": "code",
   "execution_count": 422,
   "source": [
    "# 242. Valid Anagram\r\n",
    "# https://leetcode.com/problems/valid-anagram/\r\n",
    "class Solution:\r\n",
    "    def isAnagram(self, s: str, t: str) -> bool:\r\n",
    "\r\n",
    "        # if len(s) != len(t):\r\n",
    "        #     return False\r\n",
    "        # dict_s = {}\r\n",
    "        # dict_t = {}\r\n",
    "        # for i in range(len(s)):\r\n",
    "        #     dict_s[s[i]] = dict_s.get(s[i], 0) + 1\r\n",
    "        #     dict_t[t[i]] = dict_t.get(t[i], 0) + 1\r\n",
    "\r\n",
    "        # for key in dict_s:\r\n",
    "        #     if dict_s.get(key) != dict_t.get(key):\r\n",
    "        #         return False\r\n",
    "        # return True\r\n",
    "\r\n",
    "        # return sorted(s) == sorted(t)\r\n",
    "\r\n",
    "        return Counter(s) == Counter(t)\r\n",
    "\r\n",
    "    \r\n",
    "s = Solution()\r\n",
    "assert s.isAnagram(s = \"anagram\", t = \"nagaram\")\r\n",
    "assert s.isAnagram(s = \"rat\", t = \"car\") is False\r\n"
   ],
   "outputs": [],
   "metadata": {}
  },
  {
   "cell_type": "code",
   "execution_count": 423,
   "source": [
    "# 1 Two sum\r\n",
    "# https://leetcode.com/problems/two-sum/\r\n",
    "class Solution:\r\n",
    "    def twoSum(self, nums: List[int], target: int) -> List[int]:\r\n",
    "        hm = {}\r\n",
    "        for i, v in enumerate(nums):\r\n",
    "            diff = target - v\r\n",
    "            if diff in hm:\r\n",
    "                return [hm[diff], i]\r\n",
    "            hm[v] = i\r\n",
    "        return -1\r\n",
    "\r\n",
    "s = Solution()\r\n",
    "assert s.twoSum(nums = [2,7,11,15], target = 18) == [1, 2]"
   ],
   "outputs": [],
   "metadata": {}
  },
  {
   "cell_type": "code",
   "execution_count": 424,
   "source": [
    "# 49. Group Anagrams\r\n",
    "# https://leetcode.com/problems/group-anagrams/\r\n",
    "class Solution:\r\n",
    "    def groupAnagrams(self, strs: List[str]) -> List[List[str]]:\r\n",
    "        hm = defaultdict(list)\r\n",
    "        for s in strs:\r\n",
    "            std = sorted(s)\r\n",
    "            hm[str(std)].append(s)\r\n",
    "        return hm.values()\r\n",
    "\r\n",
    "s = Solution()\r\n",
    "# s.groupAnagrams(strs = [\"eat\",\"tea\",\"tan\",\"ate\",\"nat\",\"bat\"])\r\n",
    "# dict_values([['eat', 'tea', 'ate'], ['tan', 'nat'], ['bat']])"
   ],
   "outputs": [],
   "metadata": {}
  },
  {
   "cell_type": "code",
   "execution_count": 425,
   "source": [
    "# 347. Top K Frequent Elements\r\n",
    "# https://leetcode.com/problems/top-k-frequent-elements/\r\n",
    "class Solution:\r\n",
    "    def topKFrequent(self, nums: List[int], k: int) -> List[int]:\r\n",
    "        return [num for (num, _) in Counter(nums).most_common(k)]\r\n",
    "                        # (num, count)\r\n",
    "s = Solution()\r\n",
    "assert s.topKFrequent(nums = [1,1,1,2,2,3], k = 2) == [1, 2]"
   ],
   "outputs": [],
   "metadata": {}
  },
  {
   "cell_type": "code",
   "execution_count": 426,
   "source": [
    "# 238. Product of Array Except Self\r\n",
    "# https://leetcode.com/problems/product-of-array-except-self/\r\n",
    "class Solution:\r\n",
    "    def productExceptSelf(self, nums: List[int]) -> List[int]:\r\n",
    "        ln = len(nums)\r\n",
    "\r\n",
    "        # ans = [1] * ln\r\n",
    "        # prefix = 1\r\n",
    "        # for i, v in enumerate(nums):\r\n",
    "        #     ans[i] = prefix\r\n",
    "        #     prefix *= v\r\n",
    "\r\n",
    "        # Exchange the above line with below one line for better performance\r\n",
    "        ans = [1] + list(accumulate(nums[:-1], mul))\r\n",
    "\r\n",
    "\r\n",
    "        suffix = 1\r\n",
    "        for i in range(ln - 1, -1, -1):\r\n",
    "            ans[i] *= suffix\r\n",
    "            suffix *= nums[i]\r\n",
    "        return ans\r\n",
    "\r\n",
    "s = Solution()\r\n",
    "assert s.productExceptSelf(nums = [1,2,3,4]) == [24,12,8,6]"
   ],
   "outputs": [],
   "metadata": {}
  },
  {
   "cell_type": "code",
   "execution_count": 427,
   "source": [
    "# 271 Encode and Decode Strings\r\n",
    "# https://leetcode.com/problems/encode-and-decode-strings/\r\n",
    "class Solution:\r\n",
    "    def encode(self, strs):\r\n",
    "        return '$whatever$'.join(strs)\r\n",
    "\r\n",
    "    def decode(self, str):\r\n",
    "        return str.split('$whatever$')"
   ],
   "outputs": [],
   "metadata": {}
  },
  {
   "cell_type": "code",
   "execution_count": 428,
   "source": [
    "# 128. Longest Consecutive Sequence\r\n",
    "# https://leetcode.com/problems/longest-consecutive-sequence/\r\n",
    "class Solution:\r\n",
    "    def longestConsecutive(self, nums: List[int]) -> int:\r\n",
    "        nums.sort()\r\n",
    "        l, mx, ln = 0, 0, len(nums)\r\n",
    "        for r in range(1, ln):\r\n",
    "            if nums[r] == nums[r - 1]:\r\n",
    "                l += 1\r\n",
    "            elif nums[r] - nums[r - 1] != 1:\r\n",
    "                l = r\r\n",
    "            mx = max(mx, r - l + 1)\r\n",
    "        return mx if ln > 1 else ln  # Handling edge cases such as len(nums) == 0 or 1\r\n",
    "\r\n",
    "\r\n",
    "\r\n",
    "s = Solution()\r\n",
    "assert s.longestConsecutive(nums = [100,4,200,1,3,2]) == 4\r\n",
    "assert s.longestConsecutive(nums = [0,3,7,2,5,8,4,6,0,1]) == 9\r\n",
    "assert s.longestConsecutive(nums = [1, 2, 0, 1]) == 3"
   ],
   "outputs": [],
   "metadata": {}
  },
  {
   "cell_type": "markdown",
   "source": [
    "##### Two Pointers"
   ],
   "metadata": {}
  },
  {
   "cell_type": "code",
   "execution_count": 429,
   "source": [
    "# 125. Valid Palindrome\r\n",
    "# https://leetcode.com/problems/valid-palindrome/\r\n",
    "class Solution:\r\n",
    "    def isPalindrome(self, s: str) -> bool:\r\n",
    "\r\n",
    "        # # Cleaner code but mabye less efficient\r\n",
    "        # s = [c.lower() for c in s if c.isalnum()]\r\n",
    "        # l, r = 0, len(s) - 1\r\n",
    "        # while l < r:\r\n",
    "        #     if s[l] != s[r]:\r\n",
    "        #         return False\r\n",
    "        #     l += 1\r\n",
    "        #     r -= 1\r\n",
    "        # return True\r\n",
    "\r\n",
    "        l, r = 0, len(s) - 1\r\n",
    "        while l < r:\r\n",
    "            if not s[r].isalnum():\r\n",
    "                r -= 1\r\n",
    "                continue\r\n",
    "            if not s[l].isalnum():\r\n",
    "                l += 1\r\n",
    "                continue\r\n",
    "            if s[r].lower() != s[l].lower():\r\n",
    "                return False\r\n",
    "            l += 1\r\n",
    "            r -= 1\r\n",
    "        return True\r\n",
    "\r\n",
    "s = Solution()\r\n",
    "assert s.isPalindrome(s = \"A man, a plan, a canal: Panama\")"
   ],
   "outputs": [],
   "metadata": {}
  },
  {
   "cell_type": "code",
   "execution_count": 430,
   "source": [
    "# 15. 3Sum\r\n",
    "# https://leetcode.com/problems/3sum/\r\n",
    "class Solution:\r\n",
    "    def threeSum(self, nums: List[int]) -> List[List[int]]:\r\n",
    "\r\n",
    "        ans = []\r\n",
    "        nums.sort()\r\n",
    "\r\n",
    "        for i, v in enumerate(nums):\r\n",
    "            if i > 0 and v == nums[i - 1]:\r\n",
    "                continue\r\n",
    "            l, r = i + 1, len(nums) - 1\r\n",
    "            while l < r:\r\n",
    "                sum_3 = v + nums[l] + nums[r]\r\n",
    "                if sum_3 > 0:\r\n",
    "                    r -= 1\r\n",
    "                elif sum_3 < 0:\r\n",
    "                    l += 1\r\n",
    "                else:\r\n",
    "                    ans.append([v, nums[l], nums[r]])\r\n",
    "                    l += 1\r\n",
    "                    while nums[l] == nums[l - 1] and l < r:\r\n",
    "                        l += 1\r\n",
    "        return ans\r\n",
    "    \r\n",
    "# Line 10, 11 and 22, 23 are all about handling duplicates\r\n",
    "\r\n",
    "    \r\n",
    "s = Solution()\r\n",
    "assert s.threeSum(nums = [-1,0,1,2,-1,-4]) == [[-1, -1, 2], [-1, 0, 1]]"
   ],
   "outputs": [],
   "metadata": {}
  },
  {
   "cell_type": "code",
   "execution_count": 431,
   "source": [
    "# 11. Container With Most Water\r\n",
    "# https://leetcode.com/problems/container-with-most-water/\r\n",
    "class Solution:\r\n",
    "    def maxArea(self, height: list[int]) -> int:\r\n",
    "        l, r, mx = 0, len(height) - 1, 0\r\n",
    "        while l <= r:\r\n",
    "            mx = max(mx, (r - l) * min(height[l], height[r]))\r\n",
    "            if height[l] < height[r]:\r\n",
    "                l += 1\r\n",
    "            else:\r\n",
    "                r -= 1\r\n",
    "        return mx\r\n",
    "\r\n",
    "s = Solution()\r\n",
    "assert s.maxArea(height = [1,8,6,2,5,4,8,3,7]) == 49"
   ],
   "outputs": [],
   "metadata": {}
  },
  {
   "cell_type": "markdown",
   "source": [
    "##### Sliding Window"
   ],
   "metadata": {}
  },
  {
   "cell_type": "code",
   "execution_count": 432,
   "source": [
    "# 2 Best Time to Buy and Sell Stock\r\n",
    "# https://leetcode.com/problems/best-time-to-buy-and-sell-stock/\r\n",
    "class Solution:\r\n",
    "    def maxProfit(self, prices: List[int]) -> int:\r\n",
    "        # l, mx = 0, 0\r\n",
    "        # for r in range(1, len(prices)):\r\n",
    "        #     if prices[l] > prices[r]:\r\n",
    "        #         l = r\r\n",
    "        #     mx = max(mx, prices[r] - prices[l])\r\n",
    "        # return mx\r\n",
    "\r\n",
    "        # Pythonic syntax optimization\r\n",
    "        l, mx = 0, 0\r\n",
    "        for r, v in enumerate(prices):\r\n",
    "            if prices[l] > v:\r\n",
    "                l = r\r\n",
    "            mx = max(mx, v - prices[l])\r\n",
    "        return mx\r\n",
    "\r\n",
    "s = Solution()\r\n",
    "assert s.maxProfit([7,1,5,3,6,4]) == 5"
   ],
   "outputs": [],
   "metadata": {}
  },
  {
   "cell_type": "code",
   "execution_count": 433,
   "source": [
    "# 3. Longest Substring Without Repeating Characters\r\n",
    "# https://leetcode.com/problems/longest-substring-without-repeating-characters/\r\n",
    "\r\n",
    "class Solution:\r\n",
    "    def lengthOfLongestSubstring(self, s: str) -> int:\r\n",
    "        # l, mx, hs = 0, 0, set()\r\n",
    "        # for _, v in enumerate(s):\r\n",
    "        #     while v in hs:   # It's 'while' here intead of 'if'\r\n",
    "        #         hs.remove(s[l])\r\n",
    "        #         l += 1\r\n",
    "        #     hs.add(v)\r\n",
    "        #     mx = max(mx, len(hs))\r\n",
    "        # return mx\r\n",
    "    \r\n",
    "        l, mx, hm = 0, 0, {}\r\n",
    "        for r, v in enumerate(s):\r\n",
    "            if v in hm:\r\n",
    "                l = max(l, hm[v] + 1) # Test 'abba' and print, you will see the logic more clearly \r\n",
    "            hm[v] = r\r\n",
    "            mx = max(mx, r - l + 1)\r\n",
    "        return mx\r\n",
    "\r\n",
    "solution = Solution()\r\n",
    "assert solution.lengthOfLongestSubstring('abba') == 2"
   ],
   "outputs": [],
   "metadata": {}
  },
  {
   "cell_type": "code",
   "execution_count": 434,
   "source": [
    "# 424. Longest Repeating Character Replacement\r\n",
    "# https://leetcode.com/problems/longest-repeating-character-replacement/\r\n",
    "class Solution:\r\n",
    "    def characterReplacement(self, s: str, k: int) -> int:\r\n",
    "        \"\"\"  \r\n",
    "        Key insights: The window is valid if the window length minus the most frequent \r\n",
    "        character is less than or equal to the number of allowed replacements.\r\n",
    "        \"\"\"\r\n",
    "\r\n",
    "\r\n",
    "solution = Solution()\r\n",
    "solution.characterReplacement(s = \"ABAB\", k = 2)"
   ],
   "outputs": [],
   "metadata": {}
  },
  {
   "cell_type": "code",
   "execution_count": 435,
   "source": [
    "# 76. Minimum Window Substring\r\n",
    "# https://leetcode.com/problems/minimum-window-substring/\r\n",
    "class Solution:\r\n",
    "    def minWindow(self, s: str, t: str) -> str:\r\n",
    "        pass\r\n",
    "\r\n",
    "solution = Solution()\r\n",
    "solution.minWindow(s = \"ADOBECODEBANC\", t = \"ABC\") # 'BANC'\r\n"
   ],
   "outputs": [],
   "metadata": {}
  },
  {
   "cell_type": "markdown",
   "source": [
    "##### Stack"
   ],
   "metadata": {}
  },
  {
   "cell_type": "code",
   "execution_count": 436,
   "source": [
    "# 20. Valid Parentheses\r\n",
    "# https://leetcode.com/problems/valid-parentheses/\r\n",
    "class Solution:\r\n",
    "    def isValid(self, s: str) -> bool:\r\n",
    "        stack = []\r\n",
    "        hm = {\r\n",
    "            ')': '(',\r\n",
    "            ']': '[',\r\n",
    "            '}': '{'\r\n",
    "        }\r\n",
    "\r\n",
    "        for c in s:\r\n",
    "            if c not in hm:\r\n",
    "                stack.append(c)\r\n",
    "            else:\r\n",
    "                if stack and stack[-1] == hm[c]:\r\n",
    "                    stack.pop()\r\n",
    "                else:\r\n",
    "                    return False\r\n",
    "        return not stack\r\n",
    "\r\n",
    "solution = Solution()\r\n",
    "assert solution.isValid(s = \"()[]{}\") is True\r\n",
    "assert solution.isValid(s = \"(]\") is False\r\n",
    "assert solution.isValid(']') is False"
   ],
   "outputs": [],
   "metadata": {}
  },
  {
   "cell_type": "markdown",
   "source": [
    "##### Binary Search"
   ],
   "metadata": {}
  },
  {
   "cell_type": "code",
   "execution_count": 437,
   "source": [
    "# 153. Find Minimum in Rotated Sorted Array\r\n",
    "# https://leetcode.com/problems/find-minimum-in-rotated-sorted-array/\r\n",
    "class Solution:\r\n",
    "    def findMin(self, nums: List[int]) -> int:\r\n",
    "        # return sorted(nums)[0]\r\n",
    "        l, r = 0, len(nums) - 1\r\n",
    "        while l < r:\r\n",
    "            m = (l + r) // 2\r\n",
    "            if nums[m] > nums[r]:\r\n",
    "                l = m + 1\r\n",
    "            else:\r\n",
    "                r = m\r\n",
    "        return nums[l]\r\n",
    "    \r\n",
    "\r\n",
    "s = Solution()\r\n",
    "assert s.findMin([3,4,5,1,2]) == 1"
   ],
   "outputs": [],
   "metadata": {}
  },
  {
   "cell_type": "code",
   "execution_count": 438,
   "source": [
    "# 33. Search in Rotated Sorted Array\r\n",
    "# https://leetcode.com/problems/search-in-rotated-sorted-array/\r\n",
    "class Solution:\r\n",
    "    def search(self, nums: List[int], target: int) -> int:\r\n",
    "        l, r = 0, len(nums) - 1\r\n",
    "        while l <= r:\r\n",
    "            m = (l + r) // 2\r\n",
    "\r\n",
    "            if nums[m] == target:\r\n",
    "                return m\r\n",
    "\r\n",
    "            if nums[l] <= nums[m]:\r\n",
    "               if nums[l] <= target < nums[m]:\r\n",
    "                   r = m - 1\r\n",
    "               else:\r\n",
    "                   l = m + 1\r\n",
    "            else:\r\n",
    "                if nums[m] < target <= nums[r]:\r\n",
    "                    l = m + 1\r\n",
    "                else:\r\n",
    "                    r = m - 1\r\n",
    "        return - 1\r\n",
    "\r\n",
    "\r\n",
    "s = Solution()\r\n",
    "assert s.search(nums = [4,5,6,7,0,1,2], target = 0) == 4"
   ],
   "outputs": [],
   "metadata": {}
  },
  {
   "cell_type": "markdown",
   "source": [
    "##### Linked List"
   ],
   "metadata": {}
  },
  {
   "cell_type": "code",
   "execution_count": 447,
   "source": [
    "# 206. Reverse Linked List\r\n",
    "# https://leetcode.com/problems/reverse-linked-list/\r\n",
    "class ListNode:\r\n",
    "    def __init__(self, val=0, next=None):\r\n",
    "        self.val = val\r\n",
    "        self.next = next\r\n",
    "\r\n",
    "    def graph(self):\r\n",
    "        nodes = []\r\n",
    "        while self:\r\n",
    "            nodes.append(str(self.val) + ' ->')\r\n",
    "            self = self.next\r\n",
    "        return ' '.join(nodes) + ' None'\r\n",
    "    \r\n",
    "def list2ll(arr):\r\n",
    "    crt = dummy = ListNode()\r\n",
    "    for a in arr:\r\n",
    "        crt.next = ListNode(a)\r\n",
    "        crt = crt.next\r\n",
    "    return dummy.next\r\n",
    "\r\n",
    "class Solution:\r\n",
    "    def reverseList(self, head: Optional[ListNode]) -> Optional[ListNode]:\r\n",
    "        prev, crt = None, head\r\n",
    "        while crt:\r\n",
    "            nxt = crt.next\r\n",
    "            crt.next = prev\r\n",
    "            prev = crt\r\n",
    "            crt = nxt\r\n",
    "        return prev\r\n",
    "\r\n",
    "s = Solution()\r\n",
    "new_head = s.reverseList(list2ll([1,2,3,4,5]))\r\n",
    "assert new_head.graph() == '5 -> 4 -> 3 -> 2 -> 1 -> None'"
   ],
   "outputs": [],
   "metadata": {}
  },
  {
   "cell_type": "code",
   "execution_count": 448,
   "source": [
    "# 21. Merge Two Sorted Lists\r\n",
    "# https://leetcode.com/problems/merge-two-sorted-lists/\r\n",
    "class Solution:\r\n",
    "    def mergeTwoLists(self, list1: Optional[ListNode], list2: Optional[ListNode]) -> Optional[ListNode]:\r\n",
    "        dummy = ListNode()\r\n",
    "        crt = dummy\r\n",
    "\r\n",
    "        l, r = list1, list2 \r\n",
    "\r\n",
    "        while l and r:\r\n",
    "            if l.val < r.val:\r\n",
    "                crt.next = l\r\n",
    "                l = l.next\r\n",
    "\r\n",
    "            else:\r\n",
    "                crt.next = r\r\n",
    "                r = r.next\r\n",
    "            crt = crt.next\r\n",
    "\r\n",
    "        if l:\r\n",
    "            crt.next = l\r\n",
    "\r\n",
    "        if r:\r\n",
    "            crt.next = r\r\n",
    "\r\n",
    "        return dummy.next\r\n",
    "\r\n",
    "\r\n",
    "list1 = list2ll([1,2,4])\r\n",
    "list2 = list2ll([1,3,4])\r\n",
    "s = Solution()\r\n",
    "head = s.mergeTwoLists(list1, list2)\r\n",
    "assert head.graph() == '1 -> 1 -> 2 -> 3 -> 4 -> 4 -> None'"
   ],
   "outputs": [],
   "metadata": {}
  },
  {
   "cell_type": "code",
   "execution_count": 449,
   "source": [
    "# Reorder List"
   ],
   "outputs": [],
   "metadata": {}
  },
  {
   "cell_type": "code",
   "execution_count": 450,
   "source": [
    "# Remove Nth Node From End of List"
   ],
   "outputs": [],
   "metadata": {}
  },
  {
   "cell_type": "code",
   "execution_count": 451,
   "source": [
    "# Linked List Cycle"
   ],
   "outputs": [],
   "metadata": {}
  },
  {
   "cell_type": "code",
   "execution_count": 452,
   "source": [
    "# Merge K Sorted Lists"
   ],
   "outputs": [],
   "metadata": {}
  },
  {
   "cell_type": "markdown",
   "source": [
    "##### Trees"
   ],
   "metadata": {}
  },
  {
   "cell_type": "code",
   "execution_count": 503,
   "source": [
    "class TreeNode:\r\n",
    "    def __init__(self, val, left=None, right=None):\r\n",
    "        self.val = val\r\n",
    "        self.left = left\r\n",
    "        self.right = right\r\n",
    "\r\n",
    "    def graph(self):\r\n",
    "        \"\"\"Graph an instance of (tree) Node class\"\"\"\r\n",
    "        lines, *_ = self.graph_aux()\r\n",
    "        for line in lines:\r\n",
    "            print(line)\r\n",
    "\r\n",
    "    def graph_aux(self):\r\n",
    "        \"\"\"Returns list of strings, width, height, and horizontal coordinate of the root.\"\"\"\r\n",
    "        # No child.\r\n",
    "        if self.right is None and self.left is None:\r\n",
    "            line = str(self.val)\r\n",
    "            width = len(line)\r\n",
    "            height = 1\r\n",
    "            middle = width // 2\r\n",
    "            return [line], width, height, middle\r\n",
    "\r\n",
    "        # Only left child.\r\n",
    "        if self.right is None:\r\n",
    "            lines, n, p, x = self.left.graph_aux()\r\n",
    "            s = str(self.val)\r\n",
    "            u = len(s)\r\n",
    "            first_line = (x + 1) * ' ' + (n - x - 1) * '_' + s\r\n",
    "            second_line = x * ' ' + '/' + (n - x - 1 + u) * ' '\r\n",
    "            shifted_lines = [line + u * ' ' for line in lines]\r\n",
    "            return [first_line, second_line] + shifted_lines, n + u, p + 2, n + u // 2\r\n",
    "\r\n",
    "        # Only right child.\r\n",
    "        if self.left is None:\r\n",
    "            lines, n, p, x = self.right.graph_aux()\r\n",
    "            s = str(self.val)\r\n",
    "            u = len(s)\r\n",
    "            first_line = s + x * '_' + (n - x) * ' '\r\n",
    "            second_line = (u + x) * ' ' + '\\\\' + (n - x - 1) * ' '\r\n",
    "            shifted_lines = [u * ' ' + line for line in lines]\r\n",
    "            return [first_line, second_line] + shifted_lines, n + u, p + 2, u // 2\r\n",
    "\r\n",
    "        # Two children.\r\n",
    "        left, n, p, x = self.left.graph_aux()\r\n",
    "        right, m, q, y = self.right.graph_aux()\r\n",
    "        s = str(self.val)\r\n",
    "        u = len(s)\r\n",
    "        first_line = (x + 1) * ' ' + (n - x - 1) * '_' + s + y * '_' + (m - y) * ' '\r\n",
    "        second_line = x * ' ' + '/' + (n - x - 1 + u + y) * ' ' + '\\\\' + (m - y - 1) * ' '\r\n",
    "        if p < q:\r\n",
    "            left += [n * ' '] * (q - p)\r\n",
    "        elif q < p:\r\n",
    "            right += [m * ' '] * (p - q)\r\n",
    "        zipped_lines = zip(left, right)\r\n",
    "        lines = [first_line, second_line] + [a + u * ' ' + b for a, b in zipped_lines]\r\n",
    "        return lines, n + m + u, max(p, q) + 2, n + u // 2\r\n",
    "\r\n",
    "def list2tree(vals: list) -> TreeNode:\r\n",
    "    if not vals:\r\n",
    "        return None\r\n",
    "    ln = len(vals)\r\n",
    "    def inner(idx: int = 0) -> TreeNode:\r\n",
    "        if ln <= idx or vals[idx] is None:\r\n",
    "            return None\r\n",
    "\r\n",
    "        node = TreeNode(vals[idx])\r\n",
    "        node.left = inner(2 * idx + 1)\r\n",
    "        node.right = inner(2 * idx + 2)\r\n",
    "        return node\r\n",
    "\r\n",
    "    return inner()\r\n",
    "\r\n",
    "def tree2list(root: TreeNode) -> list:\r\n",
    "    q = deque()\r\n",
    "    if root:\r\n",
    "        q.append(root)\r\n",
    "    \r\n",
    "    nodes = []\r\n",
    "    while q:\r\n",
    "        crt = q.popleft()\r\n",
    "        nodes.append(crt.val) if crt else nodes.append(crt)\r\n",
    "\r\n",
    "        if crt.left and crt.right:\r\n",
    "            q.append(crt.left)\r\n",
    "            q.append(crt.right)\r\n",
    "\r\n",
    "        if crt.left:\r\n",
    "            q.append(crt.left)\r\n",
    "            q.append(None)\r\n",
    "        \r\n",
    "        if crt.right:\r\n",
    "            q.append(None)\r\n",
    "            q.append(crt.right)\r\n",
    "    \r\n",
    "    return nodes\r\n",
    "\r\n",
    "    \r\n",
    "    \r\n"
   ],
   "outputs": [],
   "metadata": {}
  },
  {
   "cell_type": "code",
   "execution_count": 501,
   "source": [
    "tree2list(root)"
   ],
   "outputs": [
    {
     "output_type": "execute_result",
     "data": {
      "text/plain": [
       "[1, 2, 3, 4, 5]\u0000\u0000\u000061    \n",
       " \\   \n",
       " 2   \n",
       "  \\  \n",
       "  3  \n",
       "   \\ \n",
       "   4 \n",
       "    \\\n",
       "    5\n",
       "\u0000\u0000\u0000\u00016\u0000\u0000\u0000\u00016\u0000\u0000\u0000\u00016\u0000\u0000\u0000\u00010"
      ]
     },
     "metadata": {},
     "execution_count": 501
    }
   ],
   "metadata": {}
  },
  {
   "cell_type": "code",
   "execution_count": 500,
   "source": [
    "lst = [4,2,7,1,3,6,9]\r\n",
    "# The left child of list[(i+1)*2-1] and the right child is list[(i+1)*2]\r\n",
    "\r\n",
    "root = list2tree([1, None, 2, None, None, None, 3, None, None, None, None, None, None, None, 4, None, None, None, None, None, None, None, None, None, None, None, None, None, None, None, 5])\r\n",
    "# root = list2tree([1, 2, None, 3])\r\n",
    "root.graph()\r\n",
    "\r\n"
   ],
   "outputs": [
    {
     "output_type": "stream",
     "name": "stdout",
     "text": [
      "1    \n",
      " \\   \n",
      " 2   \n",
      "  \\  \n",
      "  3  \n",
      "   \\ \n",
      "   4 \n",
      "    \\\n",
      "    5\n",
      "\u0000\u0000\u0000\u00016\u0000\u0000\u0000\u00016\u0000\u0000\u0000\u00016\u0000\u0000\u0000\u00010"
     ]
    }
   ],
   "metadata": {}
  },
  {
   "cell_type": "code",
   "execution_count": null,
   "source": [],
   "outputs": [],
   "metadata": {}
  },
  {
   "cell_type": "code",
   "execution_count": null,
   "source": [],
   "outputs": [],
   "metadata": {}
  },
  {
   "cell_type": "code",
   "execution_count": 441,
   "source": [
    "# 5 Maxium Subarray\r\n",
    "# https://leetcode.com/problems/maximum-subarray/\r\n",
    "class Solution:\r\n",
    "    def maxSubArray(self, nums: List[int]) -> int:\r\n",
    "        for i in range(1, len(nums)):\r\n",
    "            nums[i] = max(nums[i] + nums[i-1], nums[i])\r\n",
    "        return max(nums)\r\n",
    "nums = [-2,1,-3,4,-1,2,1,-5,4]\r\n",
    "s = Solution()\r\n",
    "s.maxSubArray(nums)"
   ],
   "outputs": [
    {
     "output_type": "execute_result",
     "data": {
      "text/plain": [
       "6\u0000\u0000\u0000\u00016\u0000\u0000\u0000\u00016\u0000\u0000\u0000\u00010"
      ]
     },
     "metadata": {},
     "execution_count": 441
    }
   ],
   "metadata": {}
  },
  {
   "cell_type": "code",
   "execution_count": null,
   "source": [],
   "outputs": [],
   "metadata": {}
  },
  {
   "cell_type": "code",
   "execution_count": null,
   "source": [],
   "outputs": [],
   "metadata": {}
  },
  {
   "cell_type": "code",
   "execution_count": null,
   "source": [],
   "outputs": [],
   "metadata": {}
  },
  {
   "cell_type": "code",
   "execution_count": null,
   "source": [],
   "outputs": [],
   "metadata": {}
  },
  {
   "cell_type": "code",
   "execution_count": null,
   "source": [],
   "outputs": [],
   "metadata": {}
  },
  {
   "cell_type": "code",
   "execution_count": null,
   "source": [],
   "outputs": [],
   "metadata": {}
  },
  {
   "cell_type": "code",
   "execution_count": null,
   "source": [],
   "outputs": [],
   "metadata": {}
  },
  {
   "cell_type": "code",
   "execution_count": null,
   "source": [],
   "outputs": [],
   "metadata": {}
  },
  {
   "cell_type": "code",
   "execution_count": null,
   "source": [],
   "outputs": [],
   "metadata": {}
  },
  {
   "cell_type": "code",
   "execution_count": null,
   "source": [],
   "outputs": [],
   "metadata": {}
  },
  {
   "cell_type": "code",
   "execution_count": null,
   "source": [],
   "outputs": [],
   "metadata": {}
  },
  {
   "cell_type": "code",
   "execution_count": null,
   "source": [],
   "outputs": [],
   "metadata": {}
  },
  {
   "cell_type": "code",
   "execution_count": null,
   "source": [],
   "outputs": [],
   "metadata": {}
  },
  {
   "cell_type": "code",
   "execution_count": null,
   "source": [],
   "outputs": [],
   "metadata": {}
  },
  {
   "cell_type": "code",
   "execution_count": null,
   "source": [],
   "outputs": [],
   "metadata": {}
  },
  {
   "cell_type": "code",
   "execution_count": null,
   "source": [],
   "outputs": [],
   "metadata": {}
  },
  {
   "cell_type": "code",
   "execution_count": null,
   "source": [],
   "outputs": [],
   "metadata": {}
  },
  {
   "cell_type": "code",
   "execution_count": 442,
   "source": [
    "# NeetCode Solution\r\n",
    "class Solution:\r\n",
    "    def maxSubArray(self, nums: List[int]) -> int:\r\n",
    "        max_sub = nums[0]\r\n",
    "        curr_sub = 0\r\n",
    "        \r\n",
    "        for n in nums:\r\n",
    "            if curr_sub < 0:\r\n",
    "                curr_sub = 0\r\n",
    "            curr_sub += n\r\n",
    "            max_sub = max(max_sub, curr_sub)\r\n",
    "        return max_sub\r\n",
    "\r\n",
    "\r\n",
    "nums = [-2,1,-3,4,-1,2,1,-5,4]\r\n",
    "# nums = [-1, -2, -3]\r\n",
    "s = Solution()\r\n",
    "s.maxSubArray(nums)"
   ],
   "outputs": [
    {
     "output_type": "execute_result",
     "data": {
      "text/plain": [
       "6\u0000\u0000\u0000\u00016\u0000\u0000\u0000\u00010"
      ]
     },
     "metadata": {},
     "execution_count": 442
    }
   ],
   "metadata": {}
  },
  {
   "cell_type": "markdown",
   "source": [
    "6 Maximum Product Subarray\n",
    "https://leetcode.com/problems/maximum-product-subarray"
   ],
   "metadata": {}
  },
  {
   "cell_type": "code",
   "execution_count": 443,
   "source": [
    "# Neetcode solution\r\n",
    "class Solution:\r\n",
    "    def maxProduct(self, nums: List[int]) -> int:\r\n",
    "        max_prod = float('-inf')\r\n",
    "        cur_min, cur_max = 1, 1\r\n",
    "        for n in nums:\r\n",
    "            tmp_max = cur_max * n \r\n",
    "            cur_max = max(n * cur_max, n * cur_min, n)\r\n",
    "            cur_min = min(tmp_max, n * cur_min, n)\r\n",
    "            # print(tmp_max, cur_max, cur_min)\r\n",
    "            max_prod = max(max_prod, cur_max)\r\n",
    "        return max_prod\r\n",
    "\r\n",
    "\r\n",
    "nums = [2,3,-2,4]\r\n",
    "# nums = [2, 0, 0, 2]\r\n",
    "# nums = [3, -1, 4]\r\n",
    "# nums = [-2, 0, -1]\r\n",
    "# nums = [0, 2]\r\n",
    "s = Solution()\r\n",
    "s.maxProduct(nums)"
   ],
   "outputs": [
    {
     "output_type": "execute_result",
     "data": {
      "text/plain": [
       "6\u0000\u0000\u0000\u00010"
      ]
     },
     "metadata": {},
     "execution_count": 443
    }
   ],
   "metadata": {}
  },
  {
   "cell_type": "markdown",
   "source": [
    "7 Find Minimum in Rotated Sorted Array\n",
    "https://leetcode.com/problems/find-minimum-in-rotated-sorted-array/"
   ],
   "metadata": {}
  },
  {
   "cell_type": "code",
   "execution_count": 444,
   "source": [
    "class Solution:\r\n",
    "    def findMin(self, nums: List[int]) -> int:\r\n",
    "        l, r = 0, len(nums) - 1\r\n",
    "        \r\n",
    "        while l < r:\r\n",
    "            m = (l + r) // 2\r\n",
    "            if nums[m] > nums[r]:\r\n",
    "                l = m + 1\r\n",
    "            else:\r\n",
    "                r = m\r\n",
    "        return nums[l]           \r\n",
    "\r\n",
    "\r\n",
    "nums = [3,4,5,1,2]\r\n",
    "nums = [1,2,3,4,5,6,7,8,9,0]\r\n",
    "# nums = [11,13,15,17]\r\n",
    "# Output: 1\r\n",
    "s = Solution()\r\n",
    "s.findMin(nums)"
   ],
   "outputs": [
    {
     "output_type": "execute_result",
     "data": {
      "text/plain": [
       "0"
      ]
     },
     "metadata": {},
     "execution_count": 444
    }
   ],
   "metadata": {}
  },
  {
   "cell_type": "markdown",
   "source": [],
   "metadata": {}
  },
  {
   "cell_type": "markdown",
   "source": [
    "8 \n"
   ],
   "metadata": {}
  },
  {
   "cell_type": "code",
   "execution_count": null,
   "source": [],
   "outputs": [],
   "metadata": {}
  },
  {
   "cell_type": "code",
   "execution_count": null,
   "source": [],
   "outputs": [],
   "metadata": {}
  },
  {
   "cell_type": "code",
   "execution_count": null,
   "source": [],
   "outputs": [],
   "metadata": {}
  },
  {
   "cell_type": "code",
   "execution_count": null,
   "source": [],
   "outputs": [],
   "metadata": {}
  },
  {
   "cell_type": "code",
   "execution_count": null,
   "source": [],
   "outputs": [],
   "metadata": {}
  },
  {
   "cell_type": "code",
   "execution_count": null,
   "source": [],
   "outputs": [],
   "metadata": {}
  },
  {
   "cell_type": "code",
   "execution_count": null,
   "source": [],
   "outputs": [],
   "metadata": {}
  },
  {
   "cell_type": "code",
   "execution_count": null,
   "source": [],
   "outputs": [],
   "metadata": {}
  },
  {
   "cell_type": "code",
   "execution_count": null,
   "source": [],
   "outputs": [],
   "metadata": {}
  }
 ],
 "metadata": {
  "kernelspec": {
   "name": "python3",
   "language": "python",
   "display_name": "Python 3"
  },
  "orig_nbformat": 4,
  "vscode": {
   "interpreter": {
    "hash": "3c82aea9bf3f365190a7e416b607cf2c9372b04170f58ad31092367f98b9b5cc"
   }
  },
  "language_info": {
   "name": "python",
   "version": "3.11.1",
   "mimetype": "text/x-python",
   "codemirror_mode": {
    "name": "ipython",
    "version": 3
   },
   "pygments_lexer": "ipython3",
   "nbconvert_exporter": "python",
   "file_extension": ".py"
  }
 },
 "nbformat": 4,
 "nbformat_minor": 2
}