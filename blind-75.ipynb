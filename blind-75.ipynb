{
 "cells": [
  {
   "cell_type": "code",
   "execution_count": 1,
   "source": [
    "from typing import List, Optional\r\n",
    "from collections import Counter, defaultdict, deque\r\n",
    "from itertools import accumulate\r\n",
    "from operator import mul\r\n",
    "import re"
   ],
   "outputs": [],
   "metadata": {}
  },
  {
   "cell_type": "markdown",
   "source": [
    "##### Arrays & Hashing"
   ],
   "metadata": {}
  },
  {
   "cell_type": "code",
   "execution_count": 2,
   "source": [
    "# 217. Contains Duplicate\r\n",
    "# https://leetcode.com/problems/contains-duplicate/\r\n",
    "class Solution:\r\n",
    "    def containsDuplicate(self, nums: List[int]) -> bool:\r\n",
    "        hs = set()\r\n",
    "        for n in nums:\r\n",
    "            if n in hs:\r\n",
    "                return True\r\n",
    "            hs.add(n)\r\n",
    "        return False\r\n",
    "\r\n",
    "s = Solution()\r\n",
    "assert s.containsDuplicate([1,2,3,1])\r\n",
    "assert s.containsDuplicate([1, 2, 3, 4]) is False"
   ],
   "outputs": [],
   "metadata": {}
  },
  {
   "cell_type": "code",
   "execution_count": 3,
   "source": [
    "# 242. Valid Anagram\r\n",
    "# https://leetcode.com/problems/valid-anagram/\r\n",
    "class Solution:\r\n",
    "    def isAnagram(self, s: str, t: str) -> bool:\r\n",
    "\r\n",
    "        # if len(s) != len(t):\r\n",
    "        #     return False\r\n",
    "        # dict_s = {}\r\n",
    "        # dict_t = {}\r\n",
    "        # for i in range(len(s)):\r\n",
    "        #     dict_s[s[i]] = dict_s.get(s[i], 0) + 1\r\n",
    "        #     dict_t[t[i]] = dict_t.get(t[i], 0) + 1\r\n",
    "\r\n",
    "        # for key in dict_s:\r\n",
    "        #     if dict_s.get(key) != dict_t.get(key):\r\n",
    "        #         return False\r\n",
    "        # return True\r\n",
    "\r\n",
    "        # return sorted(s) == sorted(t)\r\n",
    "\r\n",
    "        return Counter(s) == Counter(t)\r\n",
    "\r\n",
    "    \r\n",
    "s = Solution()\r\n",
    "assert s.isAnagram(s = \"anagram\", t = \"nagaram\")\r\n",
    "assert s.isAnagram(s = \"rat\", t = \"car\") is False\r\n"
   ],
   "outputs": [],
   "metadata": {}
  },
  {
   "cell_type": "code",
   "execution_count": 4,
   "source": [
    "# 1 Two sum\r\n",
    "# https://leetcode.com/problems/two-sum/\r\n",
    "class Solution:\r\n",
    "    def twoSum(self, nums: List[int], target: int) -> List[int]:\r\n",
    "        hm = {}\r\n",
    "        for i, v in enumerate(nums):\r\n",
    "            diff = target - v\r\n",
    "            if diff in hm:\r\n",
    "                return [hm[diff], i]\r\n",
    "            hm[v] = i\r\n",
    "        return -1\r\n",
    "\r\n",
    "s = Solution()\r\n",
    "assert s.twoSum(nums = [2,7,11,15], target = 18) == [1, 2]"
   ],
   "outputs": [],
   "metadata": {}
  },
  {
   "cell_type": "code",
   "execution_count": 5,
   "source": [
    "# 49. Group Anagrams\r\n",
    "# https://leetcode.com/problems/group-anagrams/\r\n",
    "class Solution:\r\n",
    "    def groupAnagrams(self, strs: List[str]) -> List[List[str]]:\r\n",
    "        hm = defaultdict(list)\r\n",
    "        for s in strs:\r\n",
    "            std = sorted(s)\r\n",
    "            hm[str(std)].append(s)\r\n",
    "        return hm.values()\r\n",
    "\r\n",
    "s = Solution()\r\n",
    "# s.groupAnagrams(strs = [\"eat\",\"tea\",\"tan\",\"ate\",\"nat\",\"bat\"])\r\n",
    "# dict_values([['eat', 'tea', 'ate'], ['tan', 'nat'], ['bat']])"
   ],
   "outputs": [],
   "metadata": {}
  },
  {
   "cell_type": "code",
   "execution_count": 6,
   "source": [
    "# 347. Top K Frequent Elements\r\n",
    "# https://leetcode.com/problems/top-k-frequent-elements/\r\n",
    "class Solution:\r\n",
    "    def topKFrequent(self, nums: List[int], k: int) -> List[int]:\r\n",
    "        return [num for (num, _) in Counter(nums).most_common(k)]\r\n",
    "                        # (num, count)\r\n",
    "s = Solution()\r\n",
    "assert s.topKFrequent(nums = [1,1,1,2,2,3], k = 2) == [1, 2]"
   ],
   "outputs": [],
   "metadata": {}
  },
  {
   "cell_type": "code",
   "execution_count": 7,
   "source": [
    "# 238. Product of Array Except Self\r\n",
    "# https://leetcode.com/problems/product-of-array-except-self/\r\n",
    "class Solution:\r\n",
    "    def productExceptSelf(self, nums: List[int]) -> List[int]:\r\n",
    "        ln = len(nums)\r\n",
    "\r\n",
    "        # ans = [1] * ln\r\n",
    "        # prefix = 1\r\n",
    "        # for i, v in enumerate(nums):\r\n",
    "        #     ans[i] = prefix\r\n",
    "        #     prefix *= v\r\n",
    "\r\n",
    "        # Exchange the above line with below one line for better performance\r\n",
    "        ans = [1] + list(accumulate(nums[:-1], mul))\r\n",
    "\r\n",
    "\r\n",
    "        suffix = 1\r\n",
    "        for i in range(ln - 1, -1, -1):\r\n",
    "            ans[i] *= suffix\r\n",
    "            suffix *= nums[i]\r\n",
    "        return ans\r\n",
    "\r\n",
    "s = Solution()\r\n",
    "assert s.productExceptSelf(nums = [1,2,3,4]) == [24,12,8,6]"
   ],
   "outputs": [],
   "metadata": {}
  },
  {
   "cell_type": "code",
   "execution_count": 8,
   "source": [
    "# 271 Encode and Decode Strings\r\n",
    "# https://leetcode.com/problems/encode-and-decode-strings/\r\n",
    "class Solution:\r\n",
    "    def encode(self, strs):\r\n",
    "        return '$whatever$'.join(strs)\r\n",
    "\r\n",
    "    def decode(self, str):\r\n",
    "        return str.split('$whatever$')"
   ],
   "outputs": [],
   "metadata": {}
  },
  {
   "cell_type": "code",
   "execution_count": 9,
   "source": [
    "# 128. Longest Consecutive Sequence\r\n",
    "# https://leetcode.com/problems/longest-consecutive-sequence/\r\n",
    "class Solution:\r\n",
    "    def longestConsecutive(self, nums: List[int]) -> int:\r\n",
    "        nums.sort()\r\n",
    "        l, mx, ln = 0, 0, len(nums)\r\n",
    "        for r in range(1, ln):\r\n",
    "            if nums[r] == nums[r - 1]:\r\n",
    "                l += 1\r\n",
    "            elif nums[r] - nums[r - 1] != 1:\r\n",
    "                l = r\r\n",
    "            mx = max(mx, r - l + 1)\r\n",
    "        return mx if ln > 1 else ln  # Handling edge cases such as len(nums) == 0 or 1\r\n",
    "\r\n",
    "\r\n",
    "\r\n",
    "s = Solution()\r\n",
    "assert s.longestConsecutive(nums = [100,4,200,1,3,2]) == 4\r\n",
    "assert s.longestConsecutive(nums = [0,3,7,2,5,8,4,6,0,1]) == 9\r\n",
    "assert s.longestConsecutive(nums = [1, 2, 0, 1]) == 3"
   ],
   "outputs": [],
   "metadata": {}
  },
  {
   "cell_type": "markdown",
   "source": [
    "##### Two Pointers"
   ],
   "metadata": {}
  },
  {
   "cell_type": "code",
   "execution_count": 10,
   "source": [
    "# 125. Valid Palindrome\r\n",
    "# https://leetcode.com/problems/valid-palindrome/\r\n",
    "class Solution:\r\n",
    "    def isPalindrome(self, s: str) -> bool:\r\n",
    "\r\n",
    "        # Cleaner code but mabye less efficient\r\n",
    "        # s = [c.lower() for c in s if c.isalnum()] \r\n",
    "        # regex is a lot faster (even faster than the block of code below):  \r\n",
    "        # s = re.sub(r'[^a-zA-Z0-9]', '', s).lower() \r\n",
    "        s = re.sub(r'[\\W_]+', '', s).lower()\r\n",
    "        l, r = 0, len(s) - 1\r\n",
    "        while l < r:\r\n",
    "            if s[l] != s[r]:\r\n",
    "                return False\r\n",
    "            l += 1\r\n",
    "            r -= 1\r\n",
    "        return True\r\n",
    "\r\n",
    "        # l, r = 0, len(s) - 1\r\n",
    "        # while l < r:\r\n",
    "        #     if not s[r].isalnum():\r\n",
    "        #         r -= 1\r\n",
    "        #         continue\r\n",
    "        #     if not s[l].isalnum():\r\n",
    "        #         l += 1\r\n",
    "        #         continue\r\n",
    "        #     if s[r].lower() != s[l].lower():\r\n",
    "        #         return False\r\n",
    "        #     l += 1\r\n",
    "        #     r -= 1\r\n",
    "        # return True\r\n",
    "\r\n",
    "s = Solution()\r\n",
    "assert s.isPalindrome(s = \"A man, a plan, a canal: Panama\")"
   ],
   "outputs": [],
   "metadata": {}
  },
  {
   "cell_type": "code",
   "execution_count": 11,
   "source": [
    "# 15. 3Sum\r\n",
    "# https://leetcode.com/problems/3sum/\r\n",
    "class Solution:\r\n",
    "    def threeSum(self, nums: List[int]) -> List[List[int]]:\r\n",
    "\r\n",
    "        ans = []\r\n",
    "        nums.sort()\r\n",
    "\r\n",
    "        for i, v in enumerate(nums):\r\n",
    "            if i > 0 and v == nums[i - 1]:\r\n",
    "                continue\r\n",
    "            l, r = i + 1, len(nums) - 1\r\n",
    "            while l < r:\r\n",
    "                sum_3 = v + nums[l] + nums[r]\r\n",
    "                if sum_3 > 0:\r\n",
    "                    r -= 1\r\n",
    "                elif sum_3 < 0:\r\n",
    "                    l += 1\r\n",
    "                else:\r\n",
    "                    ans.append([v, nums[l], nums[r]])\r\n",
    "                    l += 1\r\n",
    "                    while nums[l] == nums[l - 1] and l < r:\r\n",
    "                        l += 1\r\n",
    "        return ans\r\n",
    "    \r\n",
    "# Line 10, 11 and 22, 23 are all about handling duplicates\r\n",
    "\r\n",
    "    \r\n",
    "s = Solution()\r\n",
    "assert s.threeSum(nums = [-1,0,1,2,-1,-4]) == [[-1, -1, 2], [-1, 0, 1]]"
   ],
   "outputs": [],
   "metadata": {}
  },
  {
   "cell_type": "code",
   "execution_count": 12,
   "source": [
    "# 11. Container With Most Water\r\n",
    "# https://leetcode.com/problems/container-with-most-water/\r\n",
    "class Solution:\r\n",
    "    def maxArea(self, height: list[int]) -> int:\r\n",
    "        l, r, mx = 0, len(height) - 1, 0\r\n",
    "        while l <= r:\r\n",
    "            mx = max(mx, (r - l) * min(height[l], height[r]))\r\n",
    "            if height[l] < height[r]:\r\n",
    "                l += 1\r\n",
    "            else:\r\n",
    "                r -= 1\r\n",
    "        return mx\r\n",
    "\r\n",
    "s = Solution()\r\n",
    "assert s.maxArea(height = [1,8,6,2,5,4,8,3,7]) == 49"
   ],
   "outputs": [],
   "metadata": {}
  },
  {
   "cell_type": "markdown",
   "source": [
    "##### Sliding Window"
   ],
   "metadata": {}
  },
  {
   "cell_type": "code",
   "execution_count": 13,
   "source": [
    "# 2 Best Time to Buy and Sell Stock\r\n",
    "# https://leetcode.com/problems/best-time-to-buy-and-sell-stock/\r\n",
    "class Solution:\r\n",
    "    def maxProfit(self, prices: List[int]) -> int:\r\n",
    "        # l, mx = 0, 0\r\n",
    "        # for r in range(1, len(prices)):\r\n",
    "        #     if prices[l] > prices[r]:\r\n",
    "        #         l = r\r\n",
    "        #     mx = max(mx, prices[r] - prices[l])\r\n",
    "        # return mx\r\n",
    "\r\n",
    "        # Pythonic syntax optimization\r\n",
    "        l, mx = 0, 0\r\n",
    "        for r, v in enumerate(prices):\r\n",
    "            if prices[l] > v:\r\n",
    "                l = r\r\n",
    "            mx = max(mx, v - prices[l])\r\n",
    "        return mx\r\n",
    "\r\n",
    "s = Solution()\r\n",
    "assert s.maxProfit([7,1,5,3,6,4]) == 5"
   ],
   "outputs": [],
   "metadata": {}
  },
  {
   "cell_type": "code",
   "execution_count": 14,
   "source": [
    "# 3. Longest Substring Without Repeating Characters\r\n",
    "# https://leetcode.com/problems/longest-substring-without-repeating-characters/\r\n",
    "\r\n",
    "class Solution:\r\n",
    "    def lengthOfLongestSubstring(self, s: str) -> int:\r\n",
    "        # l, mx, hs = 0, 0, set()\r\n",
    "        # for _, v in enumerate(s):\r\n",
    "        #     while v in hs:   # It's 'while' here intead of 'if'\r\n",
    "        #         hs.remove(s[l])\r\n",
    "        #         l += 1\r\n",
    "        #     hs.add(v)\r\n",
    "        #     mx = max(mx, len(hs))\r\n",
    "        # return mx\r\n",
    "    \r\n",
    "        l, mx, hm = 0, 0, {}\r\n",
    "        for r, v in enumerate(s):\r\n",
    "            if v in hm:\r\n",
    "                l = max(l, hm[v] + 1) # Test 'abba' and print, you will see the logic more clearly \r\n",
    "            hm[v] = r\r\n",
    "            mx = max(mx, r - l + 1)\r\n",
    "        return mx\r\n",
    "\r\n",
    "solution = Solution()\r\n",
    "assert solution.lengthOfLongestSubstring('abba') == 2"
   ],
   "outputs": [],
   "metadata": {}
  },
  {
   "cell_type": "code",
   "execution_count": 15,
   "source": [
    "# 424. Longest Repeating Character Replacement\r\n",
    "# https://leetcode.com/problems/longest-repeating-character-replacement/\r\n",
    "class Solution:\r\n",
    "    def characterReplacement(self, s: str, k: int) -> int:\r\n",
    "        \"\"\"  \r\n",
    "        Key insights: The window is valid if the window length minus the most frequent \r\n",
    "        character is less than or equal to the number of allowed replacements.\r\n",
    "        \"\"\"\r\n",
    "\r\n",
    "\r\n",
    "solution = Solution()\r\n",
    "solution.characterReplacement(s = \"ABAB\", k = 2)"
   ],
   "outputs": [],
   "metadata": {}
  },
  {
   "cell_type": "code",
   "execution_count": 16,
   "source": [
    "# 76. Minimum Window Substring\r\n",
    "# https://leetcode.com/problems/minimum-window-substring/\r\n",
    "class Solution:\r\n",
    "    def minWindow(self, s: str, t: str) -> str:\r\n",
    "        pass\r\n",
    "\r\n",
    "solution = Solution()\r\n",
    "solution.minWindow(s = \"ADOBECODEBANC\", t = \"ABC\") # 'BANC'\r\n"
   ],
   "outputs": [],
   "metadata": {}
  },
  {
   "cell_type": "markdown",
   "source": [
    "##### Stack"
   ],
   "metadata": {}
  },
  {
   "cell_type": "code",
   "execution_count": 17,
   "source": [
    "# 20. Valid Parentheses\r\n",
    "# https://leetcode.com/problems/valid-parentheses/\r\n",
    "class Solution:\r\n",
    "    def isValid(self, s: str) -> bool:\r\n",
    "        stack = []\r\n",
    "        hm = {\r\n",
    "            ')': '(',\r\n",
    "            ']': '[',\r\n",
    "            '}': '{'\r\n",
    "        }\r\n",
    "\r\n",
    "        for c in s:\r\n",
    "            if c not in hm:\r\n",
    "                stack.append(c)\r\n",
    "            else:\r\n",
    "                if stack and stack[-1] == hm[c]:\r\n",
    "                    stack.pop()\r\n",
    "                else:\r\n",
    "                    return False\r\n",
    "        return not stack\r\n",
    "\r\n",
    "solution = Solution()\r\n",
    "assert solution.isValid(s = \"()[]{}\") is True\r\n",
    "assert solution.isValid(s = \"(]\") is False\r\n",
    "assert solution.isValid(']') is False"
   ],
   "outputs": [],
   "metadata": {}
  },
  {
   "cell_type": "markdown",
   "source": [
    "##### Binary Search"
   ],
   "metadata": {}
  },
  {
   "cell_type": "code",
   "execution_count": 18,
   "source": [
    "# 153. Find Minimum in Rotated Sorted Array\r\n",
    "# https://leetcode.com/problems/find-minimum-in-rotated-sorted-array/\r\n",
    "class Solution:\r\n",
    "    def findMin(self, nums: List[int]) -> int:\r\n",
    "        # return sorted(nums)[0]\r\n",
    "        l, r = 0, len(nums) - 1\r\n",
    "        while l < r:\r\n",
    "            m = (l + r) // 2\r\n",
    "            if nums[m] > nums[r]:\r\n",
    "                l = m + 1\r\n",
    "            else:\r\n",
    "                r = m\r\n",
    "        return nums[l]\r\n",
    "    \r\n",
    "\r\n",
    "s = Solution()\r\n",
    "assert s.findMin([3,4,5,1,2]) == 1"
   ],
   "outputs": [],
   "metadata": {}
  },
  {
   "cell_type": "code",
   "execution_count": 19,
   "source": [
    "# 33. Search in Rotated Sorted Array\r\n",
    "# https://leetcode.com/problems/search-in-rotated-sorted-array/\r\n",
    "class Solution:\r\n",
    "    def search(self, nums: List[int], target: int) -> int:\r\n",
    "        l, r = 0, len(nums) - 1\r\n",
    "        while l <= r:\r\n",
    "            m = (l + r) // 2\r\n",
    "\r\n",
    "            if nums[m] == target:\r\n",
    "                return m\r\n",
    "\r\n",
    "            if nums[l] <= nums[m]:\r\n",
    "               if nums[l] <= target < nums[m]:\r\n",
    "                   r = m - 1\r\n",
    "               else:\r\n",
    "                   l = m + 1\r\n",
    "            else:\r\n",
    "                if nums[m] < target <= nums[r]:\r\n",
    "                    l = m + 1\r\n",
    "                else:\r\n",
    "                    r = m - 1\r\n",
    "        return - 1\r\n",
    "\r\n",
    "\r\n",
    "s = Solution()\r\n",
    "assert s.search(nums = [4,5,6,7,0,1,2], target = 0) == 4"
   ],
   "outputs": [],
   "metadata": {}
  },
  {
   "cell_type": "markdown",
   "source": [
    "##### Linked List"
   ],
   "metadata": {}
  },
  {
   "cell_type": "code",
   "execution_count": 20,
   "source": [
    "# 206. Reverse Linked List\r\n",
    "# https://leetcode.com/problems/reverse-linked-list/\r\n",
    "class ListNode:\r\n",
    "    def __init__(self, val=0, next=None):\r\n",
    "        self.val = val\r\n",
    "        self.next = next\r\n",
    "\r\n",
    "    def graph(self):\r\n",
    "        nodes = []\r\n",
    "        while self:\r\n",
    "            nodes.append(str(self.val) + ' ->')\r\n",
    "            self = self.next\r\n",
    "        return ' '.join(nodes) + ' None'\r\n",
    "    \r\n",
    "def list2ll(arr):\r\n",
    "    crt = dummy = ListNode()\r\n",
    "    for a in arr:\r\n",
    "        crt.next = ListNode(a)\r\n",
    "        crt = crt.next\r\n",
    "    return dummy.next\r\n",
    "\r\n",
    "class Solution:\r\n",
    "    def reverseList(self, head: Optional[ListNode]) -> Optional[ListNode]:\r\n",
    "        prev, crt = None, head\r\n",
    "        while crt:\r\n",
    "            nxt = crt.next\r\n",
    "            crt.next = prev\r\n",
    "            prev = crt\r\n",
    "            crt = nxt\r\n",
    "        return prev\r\n",
    "\r\n",
    "s = Solution()\r\n",
    "new_head = s.reverseList(list2ll([1,2,3,4,5]))\r\n",
    "assert new_head.graph() == '5 -> 4 -> 3 -> 2 -> 1 -> None'"
   ],
   "outputs": [],
   "metadata": {}
  },
  {
   "cell_type": "code",
   "execution_count": 21,
   "source": [
    "# 21. Merge Two Sorted Lists\r\n",
    "# https://leetcode.com/problems/merge-two-sorted-lists/\r\n",
    "class Solution:\r\n",
    "    def mergeTwoLists(self, list1: Optional[ListNode], list2: Optional[ListNode]) -> Optional[ListNode]:\r\n",
    "        dummy = ListNode()\r\n",
    "        crt = dummy\r\n",
    "\r\n",
    "        l, r = list1, list2 \r\n",
    "\r\n",
    "        while l and r:\r\n",
    "            if l.val < r.val:\r\n",
    "                crt.next = l\r\n",
    "                l = l.next\r\n",
    "\r\n",
    "            else:\r\n",
    "                crt.next = r\r\n",
    "                r = r.next\r\n",
    "            crt = crt.next\r\n",
    "\r\n",
    "        if l:\r\n",
    "            crt.next = l\r\n",
    "\r\n",
    "        if r:\r\n",
    "            crt.next = r\r\n",
    "\r\n",
    "        return dummy.next\r\n",
    "\r\n",
    "\r\n",
    "list1 = list2ll([1,2,4])\r\n",
    "list2 = list2ll([1,3,4])\r\n",
    "s = Solution()\r\n",
    "head = s.mergeTwoLists(list1, list2)\r\n",
    "assert head.graph() == '1 -> 1 -> 2 -> 3 -> 4 -> 4 -> None'"
   ],
   "outputs": [],
   "metadata": {}
  },
  {
   "cell_type": "code",
   "execution_count": 22,
   "source": [
    "# Reorder List"
   ],
   "outputs": [],
   "metadata": {}
  },
  {
   "cell_type": "code",
   "execution_count": 23,
   "source": [
    "# Remove Nth Node From End of List"
   ],
   "outputs": [],
   "metadata": {}
  },
  {
   "cell_type": "code",
   "execution_count": 24,
   "source": [
    "# Linked List Cycle"
   ],
   "outputs": [],
   "metadata": {}
  },
  {
   "cell_type": "code",
   "execution_count": 25,
   "source": [
    "# Merge K Sorted Lists"
   ],
   "outputs": [],
   "metadata": {}
  },
  {
   "cell_type": "markdown",
   "source": [
    "##### Trees"
   ],
   "metadata": {}
  },
  {
   "cell_type": "code",
   "execution_count": 26,
   "source": [
    "# 226. Invert Binary Tree\r\n",
    "# https://leetcode.com/problems/invert-binary-tree/\r\n",
    "class TreeNode:\r\n",
    "    def __init__(self, val, left=None, right=None):\r\n",
    "        self.val = val\r\n",
    "        self.left = left\r\n",
    "        self.right = right\r\n",
    "\r\n",
    "    def graph(self):\r\n",
    "        \"\"\"Graph an instance of (tree) Node class\"\"\"\r\n",
    "        lines, *_ = self.graph_aux()\r\n",
    "        for line in lines:\r\n",
    "            print(line)\r\n",
    "\r\n",
    "    def graph_aux(self):\r\n",
    "        \"\"\"Returns list of strings, width, height, and horizontal coordinate of the root.\"\"\"\r\n",
    "        # No child.\r\n",
    "        if self.right is None and self.left is None:\r\n",
    "            line = str(self.val)\r\n",
    "            width = len(line)\r\n",
    "            height = 1\r\n",
    "            middle = width // 2\r\n",
    "            return [line], width, height, middle\r\n",
    "\r\n",
    "        # Only left child.\r\n",
    "        if self.right is None:\r\n",
    "            lines, n, p, x = self.left.graph_aux()\r\n",
    "            s = str(self.val)\r\n",
    "            u = len(s)\r\n",
    "            first_line = (x + 1) * ' ' + (n - x - 1) * '_' + s\r\n",
    "            second_line = x * ' ' + '/' + (n - x - 1 + u) * ' '\r\n",
    "            shifted_lines = [line + u * ' ' for line in lines]\r\n",
    "            return [first_line, second_line] + shifted_lines, n + u, p + 2, n + u // 2\r\n",
    "\r\n",
    "        # Only right child.\r\n",
    "        if self.left is None:\r\n",
    "            lines, n, p, x = self.right.graph_aux()\r\n",
    "            s = str(self.val)\r\n",
    "            u = len(s)\r\n",
    "            first_line = s + x * '_' + (n - x) * ' '\r\n",
    "            second_line = (u + x) * ' ' + '\\\\' + (n - x - 1) * ' '\r\n",
    "            shifted_lines = [u * ' ' + line for line in lines]\r\n",
    "            return [first_line, second_line] + shifted_lines, n + u, p + 2, u // 2\r\n",
    "\r\n",
    "        # Two children.\r\n",
    "        left, n, p, x = self.left.graph_aux()\r\n",
    "        right, m, q, y = self.right.graph_aux()\r\n",
    "        s = str(self.val)\r\n",
    "        u = len(s)\r\n",
    "        first_line = (x + 1) * ' ' + (n - x - 1) * '_' + s + y * '_' + (m - y) * ' '\r\n",
    "        second_line = x * ' ' + '/' + (n - x - 1 + u + y) * ' ' + '\\\\' + (m - y - 1) * ' '\r\n",
    "        if p < q:\r\n",
    "            left += [n * ' '] * (q - p)\r\n",
    "        elif q < p:\r\n",
    "            right += [m * ' '] * (p - q)\r\n",
    "        zipped_lines = zip(left, right)\r\n",
    "        lines = [first_line, second_line] + [a + u * ' ' + b for a, b in zipped_lines]\r\n",
    "        return lines, n + m + u, max(p, q) + 2, n + u // 2\r\n",
    "\r\n",
    "\r\n",
    "# def serialize(root: TreeNode) -> list:\r\n",
    "#     ans = []\r\n",
    "#     def preorder(root):\r\n",
    "#       if not root:\r\n",
    "#         ans.append(None)\r\n",
    "#         return\r\n",
    "\r\n",
    "#       ans.append(root.val)\r\n",
    "#       preorder(root.left)\r\n",
    "#       preorder(root.right)\r\n",
    "\r\n",
    "#     preorder(root)\r\n",
    "#     return ans\r\n",
    "\r\n",
    "# def deserialize(data: list) -> TreeNode:\r\n",
    "    # q = deque(data)\r\n",
    "\r\n",
    "    # def preorder():\r\n",
    "    #   crt = q.popleft()\r\n",
    "    #   if not crt:\r\n",
    "    #     return None\r\n",
    "\r\n",
    "    #   root = TreeNode(crt)\r\n",
    "    #   root.left = preorder()\r\n",
    "    #   root.right = preorder()\r\n",
    "    #   return root\r\n",
    "\r\n",
    "    # return preorder()\r\n",
    " \r\n",
    "# BFS Serializer\r\n",
    "def serialize(root):\r\n",
    "    q = deque()\r\n",
    "\r\n",
    "    if not root: \r\n",
    "        return None\r\n",
    "    q.append(root)\r\n",
    "\r\n",
    "    ans = []\r\n",
    "    while q:\r\n",
    "        crt = q.popleft()\r\n",
    "        if not crt:\r\n",
    "            ans.append(None)\r\n",
    "        else:\r\n",
    "            ans.append(crt.val)\r\n",
    "\r\n",
    "            q.append(crt.left)\r\n",
    "            q.append(crt.right)\r\n",
    "    return ans\r\n",
    "\r\n",
    "def deserialize(data):\r\n",
    "    def createNode(val):\r\n",
    "        if val is None: \r\n",
    "            return None\r\n",
    "        return TreeNode(val)\r\n",
    "\r\n",
    "    if not data: \r\n",
    "        return None\r\n",
    "    root = createNode(data[0])\r\n",
    "    i = 1\r\n",
    "    q = deque([root])\r\n",
    "    while q:\r\n",
    "        crt = q.popleft()\r\n",
    "        crt.left = createNode(data[i])\r\n",
    "        crt.right = createNode(data[i+1])\r\n",
    "        i += 2\r\n",
    "\r\n",
    "        if crt.left:\r\n",
    "            q.append(crt.left)\r\n",
    "        if crt.right:\r\n",
    "            q.append(crt.right)\r\n",
    "    return root\r\n",
    "\r\n",
    "class Solution:\r\n",
    "    def invertTree(self, root: Optional[TreeNode]) -> Optional[TreeNode]:\r\n",
    "        if not root:\r\n",
    "            return\r\n",
    "        root.left, root.right = root.right, root.left\r\n",
    "        self.invertTree(root.left)\r\n",
    "        self.invertTree(root.right)\r\n",
    "        return root\r\n",
    "    \r\n",
    "s = Solution()\r\n",
    "\r\n",
    "root = TreeNode(4)\r\n",
    "root.left = TreeNode(2)\r\n",
    "root.right = TreeNode(7)\r\n",
    "root.left.left = TreeNode(1)\r\n",
    "root.left.right = TreeNode(3)\r\n",
    "root.right.left = TreeNode(6)\r\n",
    "root.right.right = TreeNode(9)\r\n",
    "\r\n",
    "# root = TreeNode(1)\r\n",
    "# root.right = TreeNode(2)\r\n",
    "# root.right.right = TreeNode(3)\r\n",
    "# root.right.right.right = TreeNode(4)\r\n",
    "\r\n",
    "root.graph()\r\n",
    "print(serialize(root))\r\n",
    "deserialize(serialize(root)).graph()\r\n",
    "s.invertTree(root).graph()"
   ],
   "outputs": [
    {
     "output_type": "stream",
     "name": "stdout",
     "text": [
      "  _4_  \n",
      " /   \\ \n",
      " 2   7 \n",
      "/ \\ / \\\n",
      "1 3 6 9\n",
      "[4, 2, 7, 1, 3, 6, 9, None, None, None, None, None, None, None, None]\n",
      "  _4_  \n",
      " /   \\ \n",
      " 2   7 \n",
      "/ \\ / \\\n",
      "1 3 6 9\n",
      "  _4_  \n",
      " /   \\ \n",
      " 7   2 \n",
      "/ \\ / \\\n",
      "9 6 3 1\n",
      "\u0000\u0000\u0000( 3___  \n",
      "/    \\ \n",
      "9   20 \n",
      "   /  \\\n",
      "  15  7\n",
      "\u0000\u0000\u0000\u0018 1 \n",
      "/ \\\n",
      "2 3\n",
      " 1 \n",
      "/ \\\n",
      "2 3\n",
      "\u0000\u0000\u0000*  _3 \n",
      " /  \\\n",
      " 4  5\n",
      "/ \\  \n",
      "1 2  \n",
      " 4 \n",
      "/ \\\n",
      "1 2\n",
      "\u0000\u0000\u0000\u0004True\u0000\u0000\u0000F  ___6_  \n",
      " /     \\ \n",
      " 2_    8 \n",
      "/  \\  / \\\n",
      "0  4  7 9\n",
      "  / \\    \n",
      "  3 5    \n",
      "\u0000\u0000\u0000( 3___  \n",
      "/    \\ \n",
      "9   20 \n",
      "   /  \\\n",
      "  15  7\n",
      "\u0000\u0000\u00003deque([deque([3]), deque([9, 20]), deque([15, 7])])\u0000\u0000\u0000\u001e 5_  \n",
      "/  \\ \n",
      "4  6 \n",
      "  / \\\n",
      "  3 7\n",
      "\u0000\u0000\u0000\u0005False\u0000\u0000\u0000J[(0, 1), (5, 1), (10, -1), (15, 1), (20, -1), (30, -1)]\n",
      "[(2, 1), (7, -1)]\n"
     ]
    }
   ],
   "metadata": {}
  },
  {
   "cell_type": "code",
   "execution_count": 27,
   "source": [
    "# 104. Maximum Depth of Binary Tree\r\n",
    "# https://leetcode.com/problems/maximum-depth-of-binary-tree/\r\n",
    "class Solution:\r\n",
    "    def maxDepth(self, root: Optional[TreeNode]) -> int:\r\n",
    "        depth = 0\r\n",
    "        q = deque()\r\n",
    "        if root:\r\n",
    "            q.append(root)\r\n",
    "            while q:\r\n",
    "                level_size = len(q)\r\n",
    "                depth += 1\r\n",
    "                \r\n",
    "                for _ in range(level_size):\r\n",
    "                    node = q.popleft()\r\n",
    "                    if node.left:\r\n",
    "                        q.append(node.left)\r\n",
    "                    if node.right:\r\n",
    "                        q.append(node.right)\r\n",
    "        return depth\r\n",
    "    \r\n",
    "s = Solution()\r\n",
    "root = deserialize([3,9,20,None,None,15,7,None,None,None,None])\r\n",
    "root.graph()\r\n",
    "assert s.maxDepth(root) == 3"
   ],
   "outputs": [
    {
     "output_type": "stream",
     "name": "stdout",
     "text": [
      " 3___  \n",
      "/    \\ \n",
      "9   20 \n",
      "   /  \\\n",
      "  15  7\n",
      "\u0000\u0000\u0000\u0018 1 \n",
      "/ \\\n",
      "2 3\n",
      " 1 \n",
      "/ \\\n",
      "2 3\n",
      "\u0000\u0000\u0000*  _3 \n",
      " /  \\\n",
      " 4  5\n",
      "/ \\  \n",
      "1 2  \n",
      " 4 \n",
      "/ \\\n",
      "1 2\n",
      "\u0000\u0000\u0000\u0004True\u0000\u0000\u0000F  ___6_  \n",
      " /     \\ \n",
      " 2_    8 \n",
      "/  \\  / \\\n",
      "0  4  7 9\n",
      "  / \\    \n",
      "  3 5    \n",
      "\u0000\u0000\u0000( 3___  \n",
      "/    \\ \n",
      "9   20 \n",
      "   /  \\\n",
      "  15  7\n",
      "\u0000\u0000\u00003deque([deque([3]), deque([9, 20]), deque([15, 7])])\u0000\u0000\u0000\u001e 5_  \n",
      "/  \\ \n",
      "4  6 \n",
      "  / \\\n",
      "  3 7\n",
      "\u0000\u0000\u0000\u0005False\u0000\u0000\u0000J[(0, 1), (5, 1), (10, -1), (15, 1), (20, -1), (30, -1)]\n",
      "[(2, 1), (7, -1)]\n"
     ]
    }
   ],
   "metadata": {}
  },
  {
   "cell_type": "code",
   "execution_count": 77,
   "source": [
    "# 100. Same Tree\r\n",
    "# https://leetcode.com/problems/same-tree/\r\n",
    "class Solution:\r\n",
    "    def isSameTree(self, p: Optional[TreeNode], q: Optional[TreeNode]) -> bool:\r\n",
    "        if not p and not q:\r\n",
    "            return True\r\n",
    "        if p and q and p.val == q.val:\r\n",
    "            return self.isSameTree(p.left, q.left) and self.isSameTree(p.right, q.right)\r\n",
    "        return False\r\n",
    "    \r\n",
    "p = deserialize([1, 2, 3, None, None, None, None])\r\n",
    "q = deserialize([1, 2, 3, None, None, None, None])\r\n",
    "p.graph()\r\n",
    "q.graph()\r\n",
    "s = Solution()\r\n",
    "assert s.isSameTree(p, q)"
   ],
   "outputs": [
    {
     "output_type": "stream",
     "name": "stdout",
     "text": [
      " 1 \n",
      "/ \\\n",
      "2 3\n",
      " 1 \n",
      "/ \\\n",
      "2 3\n",
      "\u0000\u0000\u0000*  _3 \n",
      " /  \\\n",
      " 4  5\n",
      "/ \\  \n",
      "1 2  \n",
      " 4 \n",
      "/ \\\n",
      "1 2\n",
      "\u0000\u0000\u0000\u0004True\u0000\u0000\u0000F  ___6_  \n",
      " /     \\ \n",
      " 2_    8 \n",
      "/  \\  / \\\n",
      "0  4  7 9\n",
      "  / \\    \n",
      "  3 5    \n",
      "\u0000\u0000\u0000( 3___  \n",
      "/    \\ \n",
      "9   20 \n",
      "   /  \\\n",
      "  15  7\n",
      "\u0000\u0000\u00003deque([deque([3]), deque([9, 20]), deque([15, 7])])\u0000\u0000\u0000\u001e 5_  \n",
      "/  \\ \n",
      "4  6 \n",
      "  / \\\n",
      "  3 7\n",
      "\u0000\u0000\u0000\u0005False\u0000\u0000\u0000J[(0, 1), (5, 1), (10, -1), (15, 1), (20, -1), (30, -1)]\n",
      "[(2, 1), (7, -1)]\n"
     ]
    }
   ],
   "metadata": {}
  },
  {
   "cell_type": "code",
   "execution_count": 78,
   "source": [
    "# 572. Subtree of Another Tree\r\n",
    "# https://leetcode.com/problems/subtree-of-another-tree/\r\n",
    "class Solution:\r\n",
    "    def isSubtree(self, root: Optional[TreeNode], subRoot: Optional[TreeNode]) -> bool:\r\n",
    "        def isSameTree(p, q):\r\n",
    "            if not p and not q:\r\n",
    "                return True\r\n",
    "            if p and q and p.val == q.val:\r\n",
    "                return isSameTree(p.left, q.left) and isSameTree(p.right, q.right)\r\n",
    "            return False\r\n",
    "        \r\n",
    "        if isSameTree(root, subRoot):\r\n",
    "            return True\r\n",
    "        if not root:\r\n",
    "            return False\r\n",
    "        return self.isSubtree(root.left, subRoot) or self.isSubtree(root.right, subRoot)\r\n",
    "\r\n",
    "root = deserialize([3,4,5, 1, 2, None, None, None, None, None, None])\r\n",
    "root.graph()\r\n",
    "subRoot = deserialize([4, 1, 2, None, None, None, None])\r\n",
    "subRoot.graph()\r\n",
    "\r\n",
    "s = Solution()\r\n",
    "s.isSubtree(root, subRoot)"
   ],
   "outputs": [
    {
     "output_type": "stream",
     "name": "stdout",
     "text": [
      "  _3 \n",
      " /  \\\n",
      " 4  5\n",
      "/ \\  \n",
      "1 2  \n",
      " 4 \n",
      "/ \\\n",
      "1 2\n",
      "\u0000\u0000\u0000\u0004True\u0000\u0000\u0000F  ___6_  \n",
      " /     \\ \n",
      " 2_    8 \n",
      "/  \\  / \\\n",
      "0  4  7 9\n",
      "  / \\    \n",
      "  3 5    \n",
      "\u0000\u0000\u0000( 3___  \n",
      "/    \\ \n",
      "9   20 \n",
      "   /  \\\n",
      "  15  7\n",
      "\u0000\u0000\u00003deque([deque([3]), deque([9, 20]), deque([15, 7])])\u0000\u0000\u0000\u001e 5_  \n",
      "/  \\ \n",
      "4  6 \n",
      "  / \\\n",
      "  3 7\n",
      "\u0000\u0000\u0000\u0005False\u0000\u0000\u0000J[(0, 1), (5, 1), (10, -1), (15, 1), (20, -1), (30, -1)]\n",
      "[(2, 1), (7, -1)]\n"
     ]
    },
    {
     "output_type": "execute_result",
     "data": {
      "text/plain": [
       "True\u0000\u0000\u0000F  ___6_  \n",
       " /     \\ \n",
       " 2_    8 \n",
       "/  \\  / \\\n",
       "0  4  7 9\n",
       "  / \\    \n",
       "  3 5    \n",
       "\u0000\u0000\u0000( 3___  \n",
       "/    \\ \n",
       "9   20 \n",
       "   /  \\\n",
       "  15  7\n",
       "\u0000\u0000\u00003deque([deque([3]), deque([9, 20]), deque([15, 7])])\u0000\u0000\u0000\u001e 5_  \n",
       "/  \\ \n",
       "4  6 \n",
       "  / \\\n",
       "  3 7\n",
       "\u0000\u0000\u0000\u0005False\u0000\u0000\u0000J[(0, 1), (5, 1), (10, -1), (15, 1), (20, -1), (30, -1)]\n",
       "[(2, 1), (7, -1)]\n"
      ]
     },
     "metadata": {},
     "execution_count": 78
    }
   ],
   "metadata": {}
  },
  {
   "cell_type": "code",
   "execution_count": 30,
   "source": [
    "# 235. Lowest Common Ancestor of a Binary Search Tree\r\n",
    "# https://leetcode.com/problems/lowest-common-ancestor-of-a-binary-search-tree/\r\n",
    "class Solution:\r\n",
    "    def lowestCommonAncestor(self, root: 'TreeNode', p: 'TreeNode', q: 'TreeNode') -> 'TreeNode':\r\n",
    "        pass\r\n",
    "\r\n",
    "\r\n",
    "\r\n",
    "root = deserialize([6,2,8,0,4,7,9,None,None,3,5,None, None, None, None, None, None, None, None])\r\n",
    "p, q = TreeNode(2), TreeNode(8)\r\n",
    "root.graph()\r\n",
    "\r\n",
    "s = Solution()\r\n",
    "s.lowestCommonAncestor(root, p, q)"
   ],
   "outputs": [
    {
     "output_type": "stream",
     "name": "stdout",
     "text": [
      "  ___6_  \n",
      " /     \\ \n",
      " 2_    8 \n",
      "/  \\  / \\\n",
      "0  4  7 9\n",
      "  / \\    \n",
      "  3 5    \n",
      "\u0000\u0000\u0000( 3___  \n",
      "/    \\ \n",
      "9   20 \n",
      "   /  \\\n",
      "  15  7\n",
      "\u0000\u0000\u00003deque([deque([3]), deque([9, 20]), deque([15, 7])])\u0000\u0000\u0000\u001e 5_  \n",
      "/  \\ \n",
      "4  6 \n",
      "  / \\\n",
      "  3 7\n",
      "\u0000\u0000\u0000\u0005False\u0000\u0000\u0000J[(0, 1), (5, 1), (10, -1), (15, 1), (20, -1), (30, -1)]\n",
      "[(2, 1), (7, -1)]\n"
     ]
    }
   ],
   "metadata": {}
  },
  {
   "cell_type": "code",
   "execution_count": 31,
   "source": [
    "# 102. Binary Tree Level Order Traversal\r\n",
    "# https://leetcode.com/problems/binary-tree-level-order-traversal/\r\n",
    "class Solution:\r\n",
    "    def levelOrder(self, root: Optional[TreeNode]) -> List[List[int]]:\r\n",
    "        q = deque()\r\n",
    "        if root:\r\n",
    "            q.append(root)\r\n",
    "\r\n",
    "        ans = deque()\r\n",
    "        while q:\r\n",
    "            lvl = deque()\r\n",
    "            for _ in range(len(q)):\r\n",
    "                crt = q.popleft()\r\n",
    "                lvl.append(crt.val)\r\n",
    "\r\n",
    "                if crt.left:\r\n",
    "                    q.append(crt.left)\r\n",
    "                if crt.right:\r\n",
    "                    q.append(crt.right)\r\n",
    "            ans.append(lvl)\r\n",
    "        return ans\r\n",
    "\r\n",
    "root = deserialize([3,9,20,None,None,15,7,None,None,None,None])\r\n",
    "root.graph()\r\n",
    "s = Solution()\r\n",
    "s.levelOrder(root)"
   ],
   "outputs": [
    {
     "output_type": "stream",
     "name": "stdout",
     "text": [
      " 3___  \n",
      "/    \\ \n",
      "9   20 \n",
      "   /  \\\n",
      "  15  7\n",
      "\u0000\u0000\u00003deque([deque([3]), deque([9, 20]), deque([15, 7])])\u0000\u0000\u0000\u001e 5_  \n",
      "/  \\ \n",
      "4  6 \n",
      "  / \\\n",
      "  3 7\n",
      "\u0000\u0000\u0000\u0005False\u0000\u0000\u0000J[(0, 1), (5, 1), (10, -1), (15, 1), (20, -1), (30, -1)]\n",
      "[(2, 1), (7, -1)]\n"
     ]
    },
    {
     "output_type": "execute_result",
     "data": {
      "text/plain": [
       "deque([deque([3]), deque([9, 20]), deque([15, 7])])\u0000\u0000\u0000\u001e 5_  \n",
       "/  \\ \n",
       "4  6 \n",
       "  / \\\n",
       "  3 7\n",
       "\u0000\u0000\u0000\u0005False\u0000\u0000\u0000J[(0, 1), (5, 1), (10, -1), (15, 1), (20, -1), (30, -1)]\n",
       "[(2, 1), (7, -1)]\n"
      ]
     },
     "metadata": {},
     "execution_count": 31
    }
   ],
   "metadata": {}
  },
  {
   "cell_type": "code",
   "execution_count": 32,
   "source": [
    "# 98. Validate Binary Search Tree\n",
    "# https://leetcode.com/problems/validate-binary-search-tree/\n",
    "class Solution:\n",
    "    def isValidBST(self, root: Optional[TreeNode]) -> bool:\n",
    "        \n",
    "        # def inorder(root):\n",
    "        #     if not root:\n",
    "        #         return []\n",
    "        #     return [*inorder(root.left), root.val, *inorder(root.right)]\n",
    "        \n",
    "        # vals = inorder(root)\n",
    "        # for i, v in enumerate(vals):\n",
    "        #     if i > 0 and v <= vals[i - 1]:\n",
    "        #         return False\n",
    "        # return True\n",
    "\n",
    "        def dfs(lower, node, upper):\n",
    "            if not node:\n",
    "                return True\n",
    "            elif node.val <= lower or node.val >= upper:\n",
    "                return False\n",
    "            else:\n",
    "                return dfs(lower, node.left, node.val) and dfs(node.val, node.right, upper)\n",
    "        return dfs(float('-inf'), root, float('inf')) \n",
    "\n",
    "root = deserialize([2, 1, 3, None, None, None, None])\n",
    "root = deserialize([5,4,6,None,None,3,7, None, None, None, None])\n",
    "root.graph()\n",
    "\n",
    "s = Solution()\n",
    "s.isValidBST(root)\n"
   ],
   "outputs": [
    {
     "output_type": "stream",
     "name": "stdout",
     "text": [
      " 5_  \n",
      "/  \\ \n",
      "4  6 \n",
      "  / \\\n",
      "  3 7\n",
      "\u0000\u0000\u0000\u0005False\u0000\u0000\u0000J[(0, 1), (5, 1), (10, -1), (15, 1), (20, -1), (30, -1)]\n",
      "[(2, 1), (7, -1)]\n"
     ]
    },
    {
     "output_type": "execute_result",
     "data": {
      "text/plain": [
       "False\u0000\u0000\u0000J[(0, 1), (5, 1), (10, -1), (15, 1), (20, -1), (30, -1)]\n",
       "[(2, 1), (7, -1)]\n"
      ]
     },
     "metadata": {},
     "execution_count": 32
    }
   ],
   "metadata": {}
  },
  {
   "cell_type": "code",
   "execution_count": 33,
   "source": [
    "# Kth Smallest Element In a Bst"
   ],
   "outputs": [],
   "metadata": {}
  },
  {
   "cell_type": "code",
   "execution_count": 34,
   "source": [
    "# Construct Binary Tree From Preorder And Inorder Traversal"
   ],
   "outputs": [],
   "metadata": {}
  },
  {
   "cell_type": "code",
   "execution_count": 35,
   "source": [
    "# Binary Tree Maximum Path Sum"
   ],
   "outputs": [],
   "metadata": {}
  },
  {
   "cell_type": "code",
   "execution_count": 36,
   "source": [
    "# Serialize And Deserialize Binary Tree"
   ],
   "outputs": [],
   "metadata": {}
  },
  {
   "cell_type": "markdown",
   "source": [
    "##### Tries"
   ],
   "metadata": {}
  },
  {
   "cell_type": "code",
   "execution_count": 37,
   "source": [
    "# Implement Trie Prefix Tree"
   ],
   "outputs": [],
   "metadata": {}
  },
  {
   "cell_type": "code",
   "execution_count": 38,
   "source": [
    "# Design Add And Search Words Data Structure"
   ],
   "outputs": [],
   "metadata": {}
  },
  {
   "cell_type": "code",
   "execution_count": 39,
   "source": [
    "# Word Search II"
   ],
   "outputs": [],
   "metadata": {}
  },
  {
   "cell_type": "markdown",
   "source": [
    "##### Heap/Priority Queue"
   ],
   "metadata": {}
  },
  {
   "cell_type": "code",
   "execution_count": 40,
   "source": [
    "# Find Median From Data Stream"
   ],
   "outputs": [],
   "metadata": {}
  },
  {
   "cell_type": "markdown",
   "source": [
    "##### Backtracking"
   ],
   "metadata": {}
  },
  {
   "cell_type": "code",
   "execution_count": 41,
   "source": [
    "# Combination Sum"
   ],
   "outputs": [],
   "metadata": {}
  },
  {
   "cell_type": "code",
   "execution_count": 42,
   "source": [
    "# Word Search"
   ],
   "outputs": [],
   "metadata": {}
  },
  {
   "cell_type": "markdown",
   "source": [
    "##### Graphs"
   ],
   "metadata": {}
  },
  {
   "cell_type": "code",
   "execution_count": 43,
   "source": [
    "# Number of Islands"
   ],
   "outputs": [],
   "metadata": {}
  },
  {
   "cell_type": "code",
   "execution_count": 44,
   "source": [
    "# Clone Graph"
   ],
   "outputs": [],
   "metadata": {}
  },
  {
   "cell_type": "code",
   "execution_count": 45,
   "source": [
    "# Pacific Atlantic Water Flow"
   ],
   "outputs": [],
   "metadata": {}
  },
  {
   "cell_type": "code",
   "execution_count": 46,
   "source": [
    "# Course Schedule"
   ],
   "outputs": [],
   "metadata": {}
  },
  {
   "cell_type": "code",
   "execution_count": 47,
   "source": [
    "# Number of Connected Components In An Undirected Graph"
   ],
   "outputs": [],
   "metadata": {}
  },
  {
   "cell_type": "code",
   "execution_count": 48,
   "source": [
    "# Graph Valid Tree"
   ],
   "outputs": [],
   "metadata": {}
  },
  {
   "cell_type": "code",
   "execution_count": 49,
   "source": [
    "# Alien Dictionary"
   ],
   "outputs": [],
   "metadata": {}
  },
  {
   "cell_type": "markdown",
   "source": [
    "##### 1-D Dynamic Programming"
   ],
   "metadata": {}
  },
  {
   "cell_type": "code",
   "execution_count": 50,
   "source": [
    "# 70. Climbing Stairs\n",
    "# https://leetcode.com/problems/climbing-stairs/\n",
    "\n",
    "class Solution:\n",
    "    def climbStairs(self, n: int) -> int:\n",
    "        tab = [1] * (n)\n",
    "        if len(tab) > 1:\n",
    "            tab[1] = 2\n",
    "            for i in range(2, n):\n",
    "                tab[i] = tab[i - 1] + tab[i - 2]\n",
    "        return tab[-1]\n",
    "    \n",
    "\n",
    "s = Solution()\n",
    "assert s.climbStairs(2) == 2\n",
    "assert s.climbStairs(3) == 3"
   ],
   "outputs": [],
   "metadata": {}
  },
  {
   "cell_type": "code",
   "execution_count": 51,
   "source": [
    "# 198. House Robber\n",
    "# https://leetcode.com/problems/house-robber/\n",
    "\n",
    "class Solution:\n",
    "    def rob(self, nums: List[int]) -> int:\n",
    "        tab = [0] * len(nums) \n",
    "        tab[0] = nums[0]\n",
    "        if len(nums) > 1:\n",
    "            tab[1] = max(nums[0], nums[1])\n",
    "\n",
    "            for i in range(2, len(nums)):\n",
    "                tab[i] = max((nums[i] + tab[i-2]), tab[i-1])\n",
    "        return tab[-1]\n",
    "\n",
    "s = Solution()\n",
    "assert s.rob(nums = [2,7,9,3,1]) == 12"
   ],
   "outputs": [],
   "metadata": {}
  },
  {
   "cell_type": "code",
   "execution_count": 52,
   "source": [
    "# 213. House Robber II"
   ],
   "outputs": [],
   "metadata": {}
  },
  {
   "cell_type": "code",
   "execution_count": 53,
   "source": [
    "# 5. Longest Palindromic Substring\n",
    "# https://leetcode.com/problems/longest-palindromic-substring/\n",
    "class Solution:\n",
    "    def longestPalindrome(self, s: str) -> str:\n",
    "        mx_str = ''\n",
    "        mx = 0\n",
    "\n",
    "        for i in range(len(s)):\n",
    "            # odd length\n",
    "            l, r = i, i\n",
    "            while l >= 0 and r < len(s) and s[l] == s[r]:\n",
    "                if (r - l + 1) > mx:\n",
    "                    mx_str = s[l : r + 1]\n",
    "                    mx = r - l + 1\n",
    "                l -= 1\n",
    "                r += 1\n",
    "\n",
    "            # even length\n",
    "            l, r = i, i + 1\n",
    "            while l >= 0 and r < len(s) and s[l] == s[r]:\n",
    "                if (r - l + 1) > mx:\n",
    "                    mx_str = s[l : r + 1]\n",
    "                    mx = r - l + 1\n",
    "                l -= 1\n",
    "                r += 1\n",
    "\n",
    "        return mx_str\n",
    "    \n",
    "solution = Solution()\n",
    "assert solution.longestPalindrome(s = \"babad\") == 'bab'\n",
    "assert solution.longestPalindrome(s = \"cbbd\") == 'bb'"
   ],
   "outputs": [],
   "metadata": {}
  },
  {
   "cell_type": "code",
   "execution_count": 54,
   "source": [
    "# 647. Palindromic Substrings\n",
    "# https://leetcode.com/problems/palindromic-substrings/\n",
    "class Solution:\n",
    "    def countSubstrings(self, s: str) -> int:\n",
    "        ans = 0\n",
    "        for i in range(len(s)):\n",
    "            # odd length\n",
    "            l, r = i, i\n",
    "            while l >= 0 and r < len(s) and s[l] == s[r]:\n",
    "                ans += 1\n",
    "                l -= 1\n",
    "                r += 1\n",
    "\n",
    "            # even length\n",
    "            l, r = i, i + 1\n",
    "            while l >= 0 and r < len(s) and s[l] == s[r]:\n",
    "                ans += 1\n",
    "                l -= 1\n",
    "                r += 1\n",
    "        return ans\n",
    "    \n",
    "solution = Solution()\n",
    "assert solution.countSubstrings('abc') == 3\n",
    "assert solution.countSubstrings('aaa') == 6"
   ],
   "outputs": [],
   "metadata": {}
  },
  {
   "cell_type": "code",
   "execution_count": 55,
   "source": [
    "# 91. Decode Ways"
   ],
   "outputs": [],
   "metadata": {}
  },
  {
   "cell_type": "code",
   "execution_count": 56,
   "source": [
    "# Coin Change"
   ],
   "outputs": [],
   "metadata": {}
  },
  {
   "cell_type": "code",
   "execution_count": 57,
   "source": [
    "# 6 Maximum Product Subarray"
   ],
   "outputs": [],
   "metadata": {}
  },
  {
   "cell_type": "code",
   "execution_count": 58,
   "source": [
    "# Word Break"
   ],
   "outputs": [],
   "metadata": {}
  },
  {
   "cell_type": "code",
   "execution_count": 59,
   "source": [
    "# Longest Increasing Subsequence\n",
    "# https://leetcode.com/problems/longest-increasing-subsequence/\n",
    "class Solution:\n",
    "    def lengthOfLIS(self, nums: List[int]) -> int:\n",
    "        pass\n",
    "\n",
    "s = Solution()\n",
    "s.lengthOfLIS([10,9,2,5,3,7,101,18]) # 4\n",
    "# s.lengthOfLIS([0,1,0,3,2,3]) # 4"
   ],
   "outputs": [],
   "metadata": {}
  },
  {
   "cell_type": "markdown",
   "source": [
    "\n",
    "##### 2-D Dynamic Programming"
   ],
   "metadata": {}
  },
  {
   "cell_type": "code",
   "execution_count": 60,
   "source": [
    "# Unique Paths"
   ],
   "outputs": [],
   "metadata": {}
  },
  {
   "cell_type": "code",
   "execution_count": 61,
   "source": [
    "# Longest Common Subsequence\n",
    "# https://leetcode.com/problems/longest-common-subsequence/\n",
    "class Solution:\n",
    "    def longestCommonSubsequence(self, text1: str, text2: str) -> int:\n",
    "\n",
    "        # rows, columns = len(text1) + 1, len(text2) + 1\n",
    "        # m = [[0] * columns for _ in range(rows)]\n",
    "        # for i in range(1, rows):\n",
    "        #     for j in range(1, columns):\n",
    "        #         if text1[i - 1] == text2[j - 1]:\n",
    "        #             m[i][j] = m[i - 1][j - 1] + 1\n",
    "        #         else:\n",
    "        #             m[i][j] = max(m[i - 1][j], m[i][j - 1])\n",
    "\n",
    "        # return m[-1][-1]\n",
    "\n",
    "\n",
    "        m = [[0] * (len(text2) + 1) for _ in range(len(text1) + 1)]\n",
    "\n",
    "        for i1, v1 in enumerate(text1):\n",
    "            for i2, v2 in enumerate(text2):\n",
    "                if v1 == v2:\n",
    "                    m[i1 + 1][i2 + 1] = m[i1][i2] + 1\n",
    "                else:\n",
    "                    m[i1 + 1][i2 + 1] = max(m[i1 + 1][i2], m[i1][i2 + 1])\n",
    "        return m[-1][-1]\n",
    "    \n",
    "s = Solution()\n",
    "assert s.longestCommonSubsequence(text1 = \"abcde\", text2 = \"ace\") == 3"
   ],
   "outputs": [],
   "metadata": {}
  },
  {
   "cell_type": "markdown",
   "source": [
    "##### Greedy"
   ],
   "metadata": {}
  },
  {
   "cell_type": "code",
   "execution_count": 62,
   "source": [
    "# Maximum Subarray"
   ],
   "outputs": [],
   "metadata": {}
  },
  {
   "cell_type": "code",
   "execution_count": 63,
   "source": [
    "# Jump Game"
   ],
   "outputs": [],
   "metadata": {}
  },
  {
   "cell_type": "markdown",
   "source": [
    "##### Intervals"
   ],
   "metadata": {}
  },
  {
   "cell_type": "code",
   "execution_count": 64,
   "source": [
    "# 57. Insert Interval\n",
    "# https://leetcode.com/problems/insert-interval/\n",
    "class Solution:\n",
    "    def insert(self, intervals: List[List[int]], newInterval: List[int]) -> List[List[int]]:\n",
    "        # removables = []\n",
    "        # l, r = newInterval\n",
    "        # for mn, mx in intervals:\n",
    "        #     if l > mx:\n",
    "        #         continue\n",
    "        #     if r < mn:\n",
    "        #         break\n",
    "        #     removables.append([mn, mx])\n",
    "        # if removables:    \n",
    "        #     insertable = [min(removables[0][0], l), \n",
    "        #                   max(removables[-1][1], r)]\n",
    "        #     intervals.insert(intervals.index(removables[0]), insertable)\n",
    "        #     for r in removables:\n",
    "        #         intervals.remove(r)\n",
    "        #     return intervals\n",
    "        # else:\n",
    "        #     return sorted(intervals + [newInterval])\n",
    "        \n",
    "        ans = []\n",
    "        for i in range(len(intervals)):\n",
    "            if newInterval[1] < intervals[i][0]:\n",
    "                ans.append(newInterval)\n",
    "                return ans + intervals[i:]\n",
    "            elif newInterval[0] > intervals[i][1]:\n",
    "                ans.append(intervals[i])\n",
    "            else:\n",
    "                newInterval = [\n",
    "                    min(newInterval[0], intervals[i][0]),\n",
    "                    max(newInterval[1], intervals[i][1]),\n",
    "                ]\n",
    "        ans.append(newInterval)\n",
    "        return ans\n",
    "\n",
    "s = Solution()\n",
    "assert s.insert(intervals = [[1,3],[6,9]], newInterval = [2,5]) == [[1,5],[6,9]]\n",
    "assert s.insert([[1,5]], [6,8]) == [[1, 5], [6, 8]]\n",
    "assert s.insert(intervals = [[1,2],[3,5],[6,7],[8,10],[12,16]], newInterval = [4,8]) \\\n",
    "== [[1,2],[3,10],[12,16]]"
   ],
   "outputs": [],
   "metadata": {}
  },
  {
   "cell_type": "code",
   "execution_count": 65,
   "source": [
    "# 56. Merge Intervals\n",
    "# https://leetcode.com/problems/merge-intervals/\n",
    "class Solution:\n",
    "    def merge(self, intervals: List[List[int]]) -> List[List[int]]:\n",
    "        intervals.sort(key=lambda x: x[0])\n",
    "        ans = [intervals[0]]\n",
    "        for start, end in intervals[1:]:\n",
    "            last = ans[-1]\n",
    "            if last[1] >= start:\n",
    "                last[1] = max(last[1], end)\n",
    "            else:\n",
    "                ans.append([start, end])\n",
    "        return ans\n",
    "\n",
    "s = Solution()\n",
    "assert s.merge([[1,3],[2,6],[8,10],[15,18]]) == [[1,6],[8,10],[15,18]]"
   ],
   "outputs": [],
   "metadata": {}
  },
  {
   "cell_type": "code",
   "execution_count": 66,
   "source": [
    "# 435. Non-overlapping Intervals\n",
    "# https://leetcode.com/problems/non-overlapping-intervals/\n",
    "class Solution:\n",
    "    def eraseOverlapIntervals(self, intervals: List[List[int]]) -> int:\n",
    "        # ans = 0\n",
    "        # intervals.sort()\n",
    "        # tracks = [intervals[0]]\n",
    "        # for mn, mx in intervals[1:]:\n",
    "        #     last = tracks[-1]\n",
    "        #     if mn < last[1]:\n",
    "        #         last[1] = min(last[1], mx)\n",
    "        #         ans += 1\n",
    "        #     else:\n",
    "        #         tracks.append([mn, mx])\n",
    "        # return ans\n",
    "    \n",
    "        # intervals.sort(key=lambda x: x[0])\n",
    "        # idx, ans = 0, 0\n",
    "        # for i in range(1, len(intervals)):\n",
    "        #     if (intervals[idx][1] > intervals[i][0]):\n",
    "        #         intervals[idx][1] = min(intervals[idx][1], intervals[i][1])\n",
    "        #         ans += 1\n",
    "        #     else:\n",
    "        #         idx += 1\n",
    "        #         intervals[idx] = intervals[i]\n",
    "        # return ans\n",
    "\n",
    "        intervals.sort(key=lambda x: x[0])\n",
    "        last_end = intervals[0][1]\n",
    "        ans = 0\n",
    "        for mn, mx in intervals[1:]:\n",
    "            if mn < last_end:\n",
    "                ans += 1\n",
    "                last_end = min(last_end, mx)\n",
    "            else:\n",
    "                last_end = mx\n",
    "        return ans\n",
    "\n",
    "s = Solution()\n",
    "# s.eraseOverlapIntervals(intervals = [[1,2],[2,3],[3,4],[1,3]])\n",
    "# s.eraseOverlapIntervals(intervals = [[1,2],[1,2],[1,2]]) # 2\n",
    "# s.eraseOverlapIntervals([[1,100],[11,22],[1,11],[2,12]]) # 2\n",
    "# s.eraseOverlapIntervals([[0,2],[1,3],[2,4],[3,5],[4,6]]) # 2\n",
    "assert s.eraseOverlapIntervals([[-52,31],[-73,-26],[82,97],[-65,-11],[-62,-49],[95,99],[58,95],[-31,49],[66,98],[-63,2],[30,47],[-40,-26]]) == 7"
   ],
   "outputs": [],
   "metadata": {}
  },
  {
   "cell_type": "code",
   "execution_count": 67,
   "source": [
    "# Meeting Rooms\n",
    "# https://leetcode.com/problems/meeting-rooms/\n",
    "\n",
    "intervals = [(0,30),(5,10),(15,20)]\n",
    "intervals = [(5,8),(9,15)]\n",
    "intervals = [(465,497),(386,462),(354,380),(134,189),(199,282),(18,104),(499,562),(4,14),(111,129),(292,345)]\n",
    "\n",
    "def can_attend_meetings(intervals):\n",
    "    intervals.sort(key=lambda x: x[0])\n",
    "    for i in range(1, len(intervals)):\n",
    "        if intervals[i][0] < intervals[i - 1][1]:\n",
    "            return False\n",
    "    return True\n",
    "assert can_attend_meetings(intervals)"
   ],
   "outputs": [],
   "metadata": {}
  },
  {
   "cell_type": "code",
   "execution_count": 68,
   "source": [
    "# Meeting Rooms II\n",
    "# https://leetcode.com/problems/meeting-rooms-ii/\n",
    "class Solution:\n",
    "    def min_meeting_rooms(self, intervals: List[List]) -> int:\n",
    "        time = []\n",
    "        for start, end in intervals:\n",
    "            time.append((start, 1))\n",
    "            time.append((end, -1))\n",
    "        \n",
    "        time.sort(key=lambda x: (x[0], x[1]))\n",
    "        print(time)\n",
    "        \n",
    "        count, mx = 0, 0\n",
    "        for t in time:\n",
    "            count += t[1]\n",
    "            mx = max(mx, count)\n",
    "        return mx\n",
    "\n",
    "s = Solution()\n",
    "assert s.min_meeting_rooms([(0,30),(5,10),(15,20)]) == 2\n",
    "assert s.min_meeting_rooms([(2,7)]) == 1"
   ],
   "outputs": [
    {
     "output_type": "stream",
     "name": "stdout",
     "text": [
      "[(0, 1), (5, 1), (10, -1), (15, 1), (20, -1), (30, -1)]\n",
      "[(2, 1), (7, -1)]\n"
     ]
    }
   ],
   "metadata": {}
  },
  {
   "cell_type": "markdown",
   "source": [
    "##### Math & Geometry"
   ],
   "metadata": {}
  },
  {
   "cell_type": "code",
   "execution_count": 69,
   "source": [
    "# Rotate Image"
   ],
   "outputs": [],
   "metadata": {}
  },
  {
   "cell_type": "code",
   "execution_count": 70,
   "source": [
    "# Spiral Matrix"
   ],
   "outputs": [],
   "metadata": {}
  },
  {
   "cell_type": "code",
   "execution_count": 71,
   "source": [
    "# Set Matrix Zeroes"
   ],
   "outputs": [],
   "metadata": {}
  },
  {
   "cell_type": "markdown",
   "source": [
    "##### Bit Manipulation"
   ],
   "metadata": {}
  },
  {
   "cell_type": "code",
   "execution_count": 72,
   "source": [
    "# Number of 1 Bits\n"
   ],
   "outputs": [],
   "metadata": {}
  },
  {
   "cell_type": "code",
   "execution_count": 73,
   "source": [
    "# Counting Bits"
   ],
   "outputs": [],
   "metadata": {}
  },
  {
   "cell_type": "code",
   "execution_count": 74,
   "source": [
    "# Reverse Bits"
   ],
   "outputs": [],
   "metadata": {}
  },
  {
   "cell_type": "code",
   "execution_count": 75,
   "source": [
    "# Missing Number"
   ],
   "outputs": [],
   "metadata": {}
  },
  {
   "cell_type": "code",
   "execution_count": 76,
   "source": [
    "# Sum of Two Integers"
   ],
   "outputs": [],
   "metadata": {}
  }
 ],
 "metadata": {
  "kernelspec": {
   "display_name": "Python 3",
   "language": "python",
   "name": "python3"
  },
  "language_info": {
   "codemirror_mode": {
    "name": "ipython",
    "version": 3
   },
   "file_extension": ".py",
   "mimetype": "text/x-python",
   "name": "python",
   "nbconvert_exporter": "python",
   "pygments_lexer": "ipython3",
   "version": "3.11.2"
  },
  "orig_nbformat": 4,
  "vscode": {
   "interpreter": {
    "hash": "3c82aea9bf3f365190a7e416b607cf2c9372b04170f58ad31092367f98b9b5cc"
   }
  }
 },
 "nbformat": 4,
 "nbformat_minor": 2
}