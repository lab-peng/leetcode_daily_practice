{
 "cells": [
  {
   "cell_type": "code",
   "execution_count": 59,
   "source": [
    "from typing import List, Optional\r\n",
    "from collections import Counter, defaultdict\r\n",
    "from itertools import accumulate\r\n",
    "from operator import mul"
   ],
   "outputs": [],
   "metadata": {}
  },
  {
   "cell_type": "markdown",
   "source": [
    "##### Arrays & Hashing"
   ],
   "metadata": {}
  },
  {
   "cell_type": "code",
   "execution_count": 20,
   "source": [
    "# 217. Contains Duplicate\r\n",
    "# https://leetcode.com/problems/contains-duplicate/\r\n",
    "class Solution:\r\n",
    "    def containsDuplicate(self, nums: List[int]) -> bool:\r\n",
    "        hs = set()\r\n",
    "        for n in nums:\r\n",
    "            if n in hs:\r\n",
    "                return True\r\n",
    "            hs.add(n)\r\n",
    "        return False\r\n",
    "\r\n",
    "s = Solution()\r\n",
    "assert s.containsDuplicate([1,2,3,1])\r\n",
    "assert s.containsDuplicate([1, 2, 3, 4]) is False"
   ],
   "outputs": [],
   "metadata": {}
  },
  {
   "cell_type": "code",
   "execution_count": 24,
   "source": [
    "# 242. Valid Anagram\r\n",
    "# https://leetcode.com/problems/valid-anagram/\r\n",
    "class Solution:\r\n",
    "    def isAnagram(self, s: str, t: str) -> bool:\r\n",
    "\r\n",
    "        # if len(s) != len(t):\r\n",
    "        #     return False\r\n",
    "        # dict_s = {}\r\n",
    "        # dict_t = {}\r\n",
    "        # for i in range(len(s)):\r\n",
    "        #     dict_s[s[i]] = dict_s.get(s[i], 0) + 1\r\n",
    "        #     dict_t[t[i]] = dict_t.get(t[i], 0) + 1\r\n",
    "\r\n",
    "        # for key in dict_s:\r\n",
    "        #     if dict_s.get(key) != dict_t.get(key):\r\n",
    "        #         return False\r\n",
    "        # return True\r\n",
    "\r\n",
    "        # return sorted(s) == sorted(t)\r\n",
    "\r\n",
    "        return Counter(s) == Counter(t)\r\n",
    "\r\n",
    "    \r\n",
    "s = Solution()\r\n",
    "assert s.isAnagram(s = \"anagram\", t = \"nagaram\")\r\n",
    "assert s.isAnagram(s = \"rat\", t = \"car\") is False\r\n"
   ],
   "outputs": [],
   "metadata": {}
  },
  {
   "cell_type": "code",
   "execution_count": 27,
   "source": [
    "# 1 Two sum\r\n",
    "# https://leetcode.com/problems/two-sum/\r\n",
    "class Solution:\r\n",
    "    def twoSum(self, nums: List[int], target: int) -> List[int]:\r\n",
    "        hm = {}\r\n",
    "        for i, v in enumerate(nums):\r\n",
    "            diff = target - v\r\n",
    "            if diff in hm:\r\n",
    "                return [hm[diff], i]\r\n",
    "            hm[v] = i\r\n",
    "        return -1\r\n",
    "\r\n",
    "s = Solution()\r\n",
    "assert s.twoSum(nums = [2,7,11,15], target = 18) == [1, 2]"
   ],
   "outputs": [],
   "metadata": {}
  },
  {
   "cell_type": "code",
   "execution_count": 41,
   "source": [
    "# 49. Group Anagrams\r\n",
    "# https://leetcode.com/problems/group-anagrams/\r\n",
    "class Solution:\r\n",
    "    def groupAnagrams(self, strs: List[str]) -> List[List[str]]:\r\n",
    "        hm = defaultdict(list)\r\n",
    "        for s in strs:\r\n",
    "            std = sorted(s)\r\n",
    "            hm[str(std)].append(s)\r\n",
    "        return hm.values()\r\n",
    "\r\n",
    "s = Solution()\r\n",
    "s.groupAnagrams(strs = [\"eat\",\"tea\",\"tan\",\"ate\",\"nat\",\"bat\"])"
   ],
   "outputs": [
    {
     "output_type": "execute_result",
     "data": {
      "text/plain": [
       "dict_values([['eat', 'tea', 'ate'], ['tan', 'nat'], ['bat']])\u0000\u0000\u0000\u0004True\u0000\u0000\u0000n8\u0000\u0000\u0000\u0004True\u0000\u0000\u0000\u0014[12, 16, 24, 48, 24]\u0000\u0000\u0000\u000f[0, 0, 9, 0, 0]\u0000\u0000\u0000\"[24, 12, 8, 6]\u0000\u0000\u0000\u00016\u0000\u0000\u0000\u00016\u0000\u0000\u0000\u00016\u0000\u0000\u0000\u00010\u0000\u0000\u0000\u00016\u0000\u0000\u0000\u00016\u0000\u0000\u0000\u00016\u0000\u0000\u0000\u00010\u0000\u0000\u0000\u0004True\u0000\u0000\u0000I[0, 0, 9, 0, 0]\u0000\u0000\u0000\"[24, 12, 8, 6]\u0000\u0000\u0000\u00016\u0000\u0000\u0000\u00016\u0000\u0000\u0000\u00016\u0000\u0000\u0000\u00010\u0000\u0000\u0000\u00016\u0000\u0000\u0000\u00016\u0000\u0000\u0000\u00016\u0000\u0000\u0000\u00010\u0000\u0000\u0000\u0013[1, 4, 12, 24, 24]\n",
       "\u0000\u0000\u0000\u0014[12, 16, 24, 48, 24]\u0000\u0000\u0000\u00106\u0000\u0000\u0000\u00016\u0000\u0000\u0000\u00016\u0000\u0000\u0000\u00010\u0000\u0000\u0000\u000b6\u0000\u0000\u0000\u00016\u0000\u0000\u0000\u00010\u0000\u0000\u0000\u00066\u0000\u0000\u0000\u00010\u0000\u0000\u0000\u00010"
      ]
     },
     "metadata": {},
     "execution_count": 41
    }
   ],
   "metadata": {}
  },
  {
   "cell_type": "code",
   "execution_count": 53,
   "source": [
    "# 347. Top K Frequent Elements\r\n",
    "# https://leetcode.com/problems/top-k-frequent-elements/\r\n",
    "class Solution:\r\n",
    "    def topKFrequent(self, nums: List[int], k: int) -> List[int]:\r\n",
    "        return [x for (x, _) in Counter(nums).most_common(k)]\r\n",
    "s = Solution()\r\n",
    "s.topKFrequent(nums = [1,1,1,2,2,3], k = 2) == [1, 2]"
   ],
   "outputs": [
    {
     "output_type": "execute_result",
     "data": {
      "text/plain": [
       "True\u0000\u0000\u0000n8\u0000\u0000\u0000\u0004True\u0000\u0000\u0000\u0014[12, 16, 24, 48, 24]\u0000\u0000\u0000\u000f[0, 0, 9, 0, 0]\u0000\u0000\u0000\"[24, 12, 8, 6]\u0000\u0000\u0000\u00016\u0000\u0000\u0000\u00016\u0000\u0000\u0000\u00016\u0000\u0000\u0000\u00010\u0000\u0000\u0000\u00016\u0000\u0000\u0000\u00016\u0000\u0000\u0000\u00016\u0000\u0000\u0000\u00010\u0000\u0000\u0000\u0004True\u0000\u0000\u0000I[0, 0, 9, 0, 0]\u0000\u0000\u0000\"[24, 12, 8, 6]\u0000\u0000\u0000\u00016\u0000\u0000\u0000\u00016\u0000\u0000\u0000\u00016\u0000\u0000\u0000\u00010\u0000\u0000\u0000\u00016\u0000\u0000\u0000\u00016\u0000\u0000\u0000\u00016\u0000\u0000\u0000\u00010\u0000\u0000\u0000\u0013[1, 4, 12, 24, 24]\n",
       "\u0000\u0000\u0000\u0014[12, 16, 24, 48, 24]\u0000\u0000\u0000\u00106\u0000\u0000\u0000\u00016\u0000\u0000\u0000\u00016\u0000\u0000\u0000\u00010\u0000\u0000\u0000\u000b6\u0000\u0000\u0000\u00016\u0000\u0000\u0000\u00010\u0000\u0000\u0000\u00066\u0000\u0000\u0000\u00010\u0000\u0000\u0000\u00010"
      ]
     },
     "metadata": {},
     "execution_count": 53
    }
   ],
   "metadata": {}
  },
  {
   "cell_type": "code",
   "execution_count": 73,
   "source": [
    "# 238. Product of Array Except Self\r\n",
    "# https://leetcode.com/problems/product-of-array-except-self/\r\n",
    "class Solution:\r\n",
    "    def productExceptSelf(self, nums: List[int]) -> List[int]:\r\n",
    "        ln = len(nums)\r\n",
    "\r\n",
    "        # ans = [1] * ln\r\n",
    "        # prefix = 1\r\n",
    "        # for i, v in enumerate(nums):\r\n",
    "        #     ans[i] = prefix\r\n",
    "        #     prefix *= v\r\n",
    "\r\n",
    "        # Exchange the above line with below one line for better performance\r\n",
    "        ans = [1] + list(accumulate(nums[:-1], mul))\r\n",
    "\r\n",
    "\r\n",
    "        suffix = 1\r\n",
    "        for i in range(ln - 1, -1, -1):\r\n",
    "            ans[i] *= suffix\r\n",
    "            suffix *= nums[i]\r\n",
    "        return ans\r\n",
    "\r\n",
    "s = Solution()\r\n",
    "assert s.productExceptSelf(nums = [1,2,3,4]) == [24,12,8,6]"
   ],
   "outputs": [],
   "metadata": {}
  },
  {
   "cell_type": "code",
   "execution_count": 74,
   "source": [
    "# 271 Encode and Decode Strings\r\n",
    "# https://leetcode.com/problems/encode-and-decode-strings/\r\n",
    "class Solution:\r\n",
    "    def encode(self, strs):\r\n",
    "        return '$whatever$'.join(strs)\r\n",
    "\r\n",
    "    def decode(self, str):\r\n",
    "        return str.split('$whatever$')"
   ],
   "outputs": [],
   "metadata": {}
  },
  {
   "cell_type": "code",
   "execution_count": 103,
   "source": [
    "# 128. Longest Consecutive Sequence\r\n",
    "# https://leetcode.com/problems/longest-consecutive-sequence/\r\n",
    "class Solution:\r\n",
    "    def longestConsecutive(self, nums: List[int]) -> int:\r\n",
    "        nums.sort()\r\n",
    "        l, mx, ln = 0, 0, len(nums)\r\n",
    "        for r in range(1, ln):\r\n",
    "            if nums[r] == nums[r - 1]:\r\n",
    "                l += 1\r\n",
    "            elif nums[r] - nums[r - 1] != 1:\r\n",
    "                l = r\r\n",
    "            mx = max(mx, r - l + 1)\r\n",
    "        return mx if ln > 1 else ln  # Handling edge cases such as len(nums) == 0 or 1\r\n",
    "\r\n",
    "\r\n",
    "\r\n",
    "s = Solution()\r\n",
    "assert s.longestConsecutive(nums = [100,4,200,1,3,2]) == 4\r\n",
    "assert s.longestConsecutive(nums = [0,3,7,2,5,8,4,6,0,1]) == 9\r\n",
    "assert s.longestConsecutive(nums = [1, 2, 0, 1]) == 3"
   ],
   "outputs": [],
   "metadata": {}
  },
  {
   "cell_type": "markdown",
   "source": [
    "##### Two Pointers"
   ],
   "metadata": {}
  },
  {
   "cell_type": "code",
   "execution_count": null,
   "source": [],
   "outputs": [],
   "metadata": {}
  },
  {
   "cell_type": "markdown",
   "source": [
    "2 Best Time to Buy and Sell Stock\n",
    "https://leetcode.com/problems/best-time-to-buy-and-sell-stock/"
   ],
   "metadata": {}
  },
  {
   "cell_type": "code",
   "execution_count": 5,
   "source": [
    "class Solution:\r\n",
    "    def maxProfit(self, prices: List[int]) -> int:\r\n",
    "        l = 0\r\n",
    "        mx = 0\r\n",
    "        for r in range(1, len(prices)):\r\n",
    "            if prices[l] < prices[r]:\r\n",
    "                mx = max(mx, prices[r] - prices[l])\r\n",
    "            else:\r\n",
    "                l = r\r\n",
    "        return mx\r\n",
    "\r\n",
    "\r\n",
    "prices = [7, 1, 5, 3, 6, 4, 9, 1, 9]\r\n",
    "s = Solution()\r\n",
    "s.maxProfit(prices)"
   ],
   "outputs": [
    {
     "output_type": "execute_result",
     "data": {
      "text/plain": [
       "8\u0000\u0000\u0000\u0004True\u0000\u0000\u0000\u0014[12, 16, 24, 48, 24]\u0000\u0000\u0000\u000f[0, 0, 9, 0, 0]\u0000\u0000\u0000\"[24, 12, 8, 6]\u0000\u0000\u0000\u00016\u0000\u0000\u0000\u00016\u0000\u0000\u0000\u00016\u0000\u0000\u0000\u00010\u0000\u0000\u0000\u00016\u0000\u0000\u0000\u00016\u0000\u0000\u0000\u00016\u0000\u0000\u0000\u00010\u0000\u0000\u0000\u0004True\u0000\u0000\u0000I[0, 0, 9, 0, 0]\u0000\u0000\u0000\"[24, 12, 8, 6]\u0000\u0000\u0000\u00016\u0000\u0000\u0000\u00016\u0000\u0000\u0000\u00016\u0000\u0000\u0000\u00010\u0000\u0000\u0000\u00016\u0000\u0000\u0000\u00016\u0000\u0000\u0000\u00016\u0000\u0000\u0000\u00010\u0000\u0000\u0000\u0013[1, 4, 12, 24, 24]\n",
       "\u0000\u0000\u0000\u0014[12, 16, 24, 48, 24]\u0000\u0000\u0000\u00106\u0000\u0000\u0000\u00016\u0000\u0000\u0000\u00016\u0000\u0000\u0000\u00010\u0000\u0000\u0000\u000b6\u0000\u0000\u0000\u00016\u0000\u0000\u0000\u00010\u0000\u0000\u0000\u00066\u0000\u0000\u0000\u00010\u0000\u0000\u0000\u00010"
      ]
     },
     "metadata": {},
     "execution_count": 5
    }
   ],
   "metadata": {}
  },
  {
   "cell_type": "markdown",
   "source": [
    "\r\n"
   ],
   "metadata": {}
  },
  {
   "cell_type": "code",
   "execution_count": 7,
   "source": [
    "[ 1 2 3 4]\r\n",
    "[ 1 2 6 24]\r\n",
    "\r\n",
    "\r\n"
   ],
   "outputs": [
    {
     "output_type": "execute_result",
     "data": {
      "text/plain": [
       "True\u0000\u0000\u0000I[0, 0, 9, 0, 0]\u0000\u0000\u0000\"[24, 12, 8, 6]\u0000\u0000\u0000\u00016\u0000\u0000\u0000\u00016\u0000\u0000\u0000\u00016\u0000\u0000\u0000\u00010\u0000\u0000\u0000\u00016\u0000\u0000\u0000\u00016\u0000\u0000\u0000\u00016\u0000\u0000\u0000\u00010\u0000\u0000\u0000\u0013[1, 4, 12, 24, 24]\n",
       "\u0000\u0000\u0000\u0014[12, 16, 24, 48, 24]\u0000\u0000\u0000\u00106\u0000\u0000\u0000\u00016\u0000\u0000\u0000\u00016\u0000\u0000\u0000\u00010\u0000\u0000\u0000\u000b6\u0000\u0000\u0000\u00016\u0000\u0000\u0000\u00010\u0000\u0000\u0000\u00066\u0000\u0000\u0000\u00010\u0000\u0000\u0000\u00010"
      ]
     },
     "metadata": {},
     "execution_count": 7
    }
   ],
   "metadata": {}
  },
  {
   "cell_type": "markdown",
   "source": [
    "4 Product of Array Except Self\n",
    "https://leetcode.com/problems/product-of-array-except-self/\n"
   ],
   "metadata": {}
  },
  {
   "cell_type": "code",
   "execution_count": 10,
   "source": [
    "# Improved version O(n) time complexity but only O(1) extra space complexity\r\n",
    "class Solution:\r\n",
    "    def productExceptSelf(self, nums: List[int]) -> List[int]:\r\n",
    "        preprod = 1\r\n",
    "        postprod = 1\r\n",
    "\r\n",
    "        res = [1] * (len(nums))\r\n",
    "\r\n",
    "        for i in range(len(nums)):\r\n",
    "            preprod *= nums[i]\r\n",
    "            res[i] = preprod\r\n",
    "        prefix = nums[1]\r\n",
    "        suffix = res[-2]\r\n",
    "        \r\n",
    "        x = [1] * len(res)\r\n",
    "        for i in range(len(res)-3, -1, -1):\r\n",
    "            postprod *= nums[i+2]\r\n",
    "            res[i] = postprod * res[i]\r\n",
    "        res.insert(0, postprod * prefix)\r\n",
    "        res[-2] = suffix\r\n",
    "        res.pop()\r\n",
    "        \r\n",
    "        return res\r\n",
    "            \r\n",
    "            \r\n",
    "nums = [1, 2, 3, 4]\r\n",
    "nums = [4,3,2,1,2]\r\n",
    "nums = [-1, 1, 0, -3, 3]\r\n",
    "# [24, 12, 8, 6]\r\n",
    "s = Solution()\r\n",
    "s.productExceptSelf(nums)"
   ],
   "outputs": [
    {
     "output_type": "execute_result",
     "data": {
      "text/plain": [
       "[0, 0, 9, 0, 0]\u0000\u0000\u0000\"[24, 12, 8, 6]\u0000\u0000\u0000\u00016\u0000\u0000\u0000\u00016\u0000\u0000\u0000\u00016\u0000\u0000\u0000\u00010\u0000\u0000\u0000\u00016\u0000\u0000\u0000\u00016\u0000\u0000\u0000\u00016\u0000\u0000\u0000\u00010\u0000\u0000\u0000\u0013[1, 4, 12, 24, 24]\n",
       "\u0000\u0000\u0000\u0014[12, 16, 24, 48, 24]\u0000\u0000\u0000\u00106\u0000\u0000\u0000\u00016\u0000\u0000\u0000\u00016\u0000\u0000\u0000\u00010\u0000\u0000\u0000\u000b6\u0000\u0000\u0000\u00016\u0000\u0000\u0000\u00010\u0000\u0000\u0000\u00066\u0000\u0000\u0000\u00010\u0000\u0000\u0000\u00010"
      ]
     },
     "metadata": {},
     "execution_count": 10
    }
   ],
   "metadata": {}
  },
  {
   "cell_type": "code",
   "execution_count": 66,
   "source": [
    "# Improved version O(n) time complexity but only O(1) extra space complexity\r\n",
    "# Neetcode Solution\r\n",
    "class Solution:\r\n",
    "    def productExceptSelf(self, nums: List[int]) -> List[int]:\r\n",
    "        # res = [1] * len(nums)\r\n",
    "        # prefix = 1\r\n",
    "        # for i in range(len(nums)):\r\n",
    "        #     res[i] = prefix\r\n",
    "        #     prefix *= nums[i]\r\n",
    "        \r\n",
    "        res = [1] + list(accumulate(nums[:-1], mul))\r\n",
    "        print(res)\r\n",
    "\r\n",
    "        postfix = 1  # 1 4 12 24\r\n",
    "        for i in range(len(nums) - 1, -1, -1): # 3 2 1 0\r\n",
    "            res[i] *= postfix # 6 8 12 24\r\n",
    "            postfix *= nums[i] \r\n",
    "\r\n",
    "        return res\r\n",
    "      \r\n",
    "nums = [1, 2, 3, 4]\r\n",
    "nums = [4,3,2,1,2]\r\n",
    "# nums = [-1, 1, 0, -3, 3]\r\n",
    "# [24, 12, 8, 6]\r\n",
    "s = Solution()\r\n",
    "s.productExceptSelf(nums)"
   ],
   "outputs": [
    {
     "output_type": "stream",
     "name": "stdout",
     "text": [
      "[1, 4, 12, 24, 24]\n",
      "\u0000\u0000\u0000\u0014[12, 16, 24, 48, 24]\u0000\u0000\u0000\u00106\u0000\u0000\u0000\u00016\u0000\u0000\u0000\u00016\u0000\u0000\u0000\u00010\u0000\u0000\u0000\u000b6\u0000\u0000\u0000\u00016\u0000\u0000\u0000\u00010\u0000\u0000\u0000\u00066\u0000\u0000\u0000\u00010\u0000\u0000\u0000\u00010"
     ]
    },
    {
     "output_type": "execute_result",
     "data": {
      "text/plain": [
       "[12, 16, 24, 48, 24]\u0000\u0000\u0000\u00106\u0000\u0000\u0000\u00016\u0000\u0000\u0000\u00016\u0000\u0000\u0000\u00010\u0000\u0000\u0000\u000b6\u0000\u0000\u0000\u00016\u0000\u0000\u0000\u00010\u0000\u0000\u0000\u00066\u0000\u0000\u0000\u00010\u0000\u0000\u0000\u00010"
      ]
     },
     "metadata": {},
     "execution_count": 66
    }
   ],
   "metadata": {}
  },
  {
   "cell_type": "markdown",
   "source": [
    "5 Maxium Subarray\n",
    "https://leetcode.com/problems/maximum-subarray/"
   ],
   "metadata": {}
  },
  {
   "cell_type": "code",
   "execution_count": 11,
   "source": [
    "class Solution:\r\n",
    "    def maxSubArray(self, nums: List[int]) -> int:\r\n",
    "        for i in range(1, len(nums)):\r\n",
    "            nums[i] = max(nums[i] + nums[i-1], nums[i])\r\n",
    "        return max(nums)\r\n",
    "nums = [-2,1,-3,4,-1,2,1,-5,4]\r\n",
    "s = Solution()\r\n",
    "s.maxSubArray(nums)"
   ],
   "outputs": [
    {
     "output_type": "execute_result",
     "data": {
      "text/plain": [
       "6\u0000\u0000\u0000\u00016\u0000\u0000\u0000\u00016\u0000\u0000\u0000\u00010\u0000\u0000\u0000\u000b6\u0000\u0000\u0000\u00016\u0000\u0000\u0000\u00010\u0000\u0000\u0000\u00066\u0000\u0000\u0000\u00010\u0000\u0000\u0000\u00010"
      ]
     },
     "metadata": {},
     "execution_count": 11
    }
   ],
   "metadata": {}
  },
  {
   "cell_type": "code",
   "execution_count": 16,
   "source": [
    "# NeetCode Solution\r\n",
    "class Solution:\r\n",
    "    def maxSubArray(self, nums: List[int]) -> int:\r\n",
    "        max_sub = nums[0]\r\n",
    "        curr_sub = 0\r\n",
    "        \r\n",
    "        for n in nums:\r\n",
    "            if curr_sub < 0:\r\n",
    "                curr_sub = 0\r\n",
    "            curr_sub += n\r\n",
    "            max_sub = max(max_sub, curr_sub)\r\n",
    "        return max_sub\r\n",
    "\r\n",
    "\r\n",
    "nums = [-2,1,-3,4,-1,2,1,-5,4]\r\n",
    "# nums = [-1, -2, -3]\r\n",
    "s = Solution()\r\n",
    "s.maxSubArray(nums)"
   ],
   "outputs": [
    {
     "output_type": "execute_result",
     "data": {
      "text/plain": [
       "6\u0000\u0000\u0000\u00016\u0000\u0000\u0000\u00010\u0000\u0000\u0000\u00066\u0000\u0000\u0000\u00010\u0000\u0000\u0000\u00010"
      ]
     },
     "metadata": {},
     "execution_count": 16
    }
   ],
   "metadata": {}
  },
  {
   "cell_type": "markdown",
   "source": [
    "6 Maximum Product Subarray\n",
    "https://leetcode.com/problems/maximum-product-subarray"
   ],
   "metadata": {}
  },
  {
   "cell_type": "code",
   "execution_count": 17,
   "source": [
    "# Neetcode solution\r\n",
    "class Solution:\r\n",
    "    def maxProduct(self, nums: List[int]) -> int:\r\n",
    "        max_prod = float('-inf')\r\n",
    "        cur_min, cur_max = 1, 1\r\n",
    "        for n in nums:\r\n",
    "            tmp_max = cur_max * n \r\n",
    "            cur_max = max(n * cur_max, n * cur_min, n)\r\n",
    "            cur_min = min(tmp_max, n * cur_min, n)\r\n",
    "            # print(tmp_max, cur_max, cur_min)\r\n",
    "            max_prod = max(max_prod, cur_max)\r\n",
    "        return max_prod\r\n",
    "\r\n",
    "\r\n",
    "nums = [2,3,-2,4]\r\n",
    "# nums = [2, 0, 0, 2]\r\n",
    "# nums = [3, -1, 4]\r\n",
    "# nums = [-2, 0, -1]\r\n",
    "# nums = [0, 2]\r\n",
    "s = Solution()\r\n",
    "s.maxProduct(nums)"
   ],
   "outputs": [
    {
     "output_type": "execute_result",
     "data": {
      "text/plain": [
       "6\u0000\u0000\u0000\u00010\u0000\u0000\u0000\u00010"
      ]
     },
     "metadata": {},
     "execution_count": 17
    }
   ],
   "metadata": {}
  },
  {
   "cell_type": "markdown",
   "source": [
    "7 Find Minimum in Rotated Sorted Array\n",
    "https://leetcode.com/problems/find-minimum-in-rotated-sorted-array/"
   ],
   "metadata": {}
  },
  {
   "cell_type": "code",
   "execution_count": 18,
   "source": [
    "class Solution:\r\n",
    "    def findMin(self, nums: List[int]) -> int:\r\n",
    "        l, r = 0, len(nums) - 1\r\n",
    "        \r\n",
    "        while l < r:\r\n",
    "            m = (l + r) // 2\r\n",
    "            if nums[m] > nums[r]:\r\n",
    "                l = m + 1\r\n",
    "            else:\r\n",
    "                r = m\r\n",
    "        return nums[l]           \r\n",
    "\r\n",
    "\r\n",
    "nums = [3,4,5,1,2]\r\n",
    "nums = [1,2,3,4,5,6,7,8,9,0]\r\n",
    "# nums = [11,13,15,17]\r\n",
    "# Output: 1\r\n",
    "s = Solution()\r\n",
    "s.findMin(nums)"
   ],
   "outputs": [
    {
     "output_type": "execute_result",
     "data": {
      "text/plain": [
       "0"
      ]
     },
     "metadata": {},
     "execution_count": 18
    }
   ],
   "metadata": {}
  },
  {
   "cell_type": "markdown",
   "source": [
    "8 \n"
   ],
   "metadata": {}
  },
  {
   "cell_type": "code",
   "execution_count": 3,
   "source": [],
   "outputs": [],
   "metadata": {}
  },
  {
   "cell_type": "code",
   "execution_count": null,
   "source": [],
   "outputs": [],
   "metadata": {}
  },
  {
   "cell_type": "code",
   "execution_count": null,
   "source": [],
   "outputs": [],
   "metadata": {}
  },
  {
   "cell_type": "code",
   "execution_count": null,
   "source": [],
   "outputs": [],
   "metadata": {}
  },
  {
   "cell_type": "code",
   "execution_count": null,
   "source": [],
   "outputs": [],
   "metadata": {}
  },
  {
   "cell_type": "code",
   "execution_count": null,
   "source": [],
   "outputs": [],
   "metadata": {}
  },
  {
   "cell_type": "code",
   "execution_count": null,
   "source": [],
   "outputs": [],
   "metadata": {}
  },
  {
   "cell_type": "code",
   "execution_count": null,
   "source": [],
   "outputs": [],
   "metadata": {}
  },
  {
   "cell_type": "code",
   "execution_count": null,
   "source": [],
   "outputs": [],
   "metadata": {}
  }
 ],
 "metadata": {
  "kernelspec": {
   "name": "python3",
   "language": "python",
   "display_name": "Python 3"
  },
  "orig_nbformat": 4,
  "vscode": {
   "interpreter": {
    "hash": "3c82aea9bf3f365190a7e416b607cf2c9372b04170f58ad31092367f98b9b5cc"
   }
  },
  "language_info": {
   "name": "python",
   "version": "3.11.1",
   "mimetype": "text/x-python",
   "codemirror_mode": {
    "name": "ipython",
    "version": 3
   },
   "pygments_lexer": "ipython3",
   "nbconvert_exporter": "python",
   "file_extension": ".py"
  }
 },
 "nbformat": 4,
 "nbformat_minor": 2
}