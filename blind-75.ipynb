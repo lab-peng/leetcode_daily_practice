{
 "cells": [
  {
   "cell_type": "code",
   "execution_count": null,
   "metadata": {},
   "outputs": [],
   "source": [
    "from typing import List, Optional\n",
    "from collections import Counter, defaultdict, deque\n",
    "from itertools import accumulate\n",
    "from operator import mul\n",
    "import re"
   ]
  },
  {
   "cell_type": "markdown",
   "metadata": {},
   "source": [
    "##### Arrays & Hashing"
   ]
  },
  {
   "cell_type": "code",
   "execution_count": 810,
   "metadata": {},
   "outputs": [],
   "source": [
    "# 217. Contains Duplicate\n",
    "# https://leetcode.com/problems/contains-duplicate/\n",
    "class Solution:\n",
    "    def containsDuplicate(self, nums: List[int]) -> bool:\n",
    "        hs = set()\n",
    "        for n in nums:\n",
    "            if n in hs:\n",
    "                return True\n",
    "            hs.add(n)\n",
    "        return False\n",
    "\n",
    "s = Solution()\n",
    "assert s.containsDuplicate([1,2,3,1])\n",
    "assert s.containsDuplicate([1, 2, 3, 4]) is False"
   ]
  },
  {
   "cell_type": "code",
   "execution_count": 811,
   "metadata": {},
   "outputs": [],
   "source": [
    "# 242. Valid Anagram\n",
    "# https://leetcode.com/problems/valid-anagram/\n",
    "class Solution:\n",
    "    def isAnagram(self, s: str, t: str) -> bool:\n",
    "\n",
    "        # if len(s) != len(t):\n",
    "        #     return False\n",
    "        # dict_s = {}\n",
    "        # dict_t = {}\n",
    "        # for i in range(len(s)):\n",
    "        #     dict_s[s[i]] = dict_s.get(s[i], 0) + 1\n",
    "        #     dict_t[t[i]] = dict_t.get(t[i], 0) + 1\n",
    "\n",
    "        # for key in dict_s:\n",
    "        #     if dict_s.get(key) != dict_t.get(key):\n",
    "        #         return False\n",
    "        # return True\n",
    "\n",
    "        # return sorted(s) == sorted(t)\n",
    "\n",
    "        return Counter(s) == Counter(t)\n",
    "\n",
    "    \n",
    "s = Solution()\n",
    "assert s.isAnagram(s = \"anagram\", t = \"nagaram\")\n",
    "assert s.isAnagram(s = \"rat\", t = \"car\") is False\n"
   ]
  },
  {
   "cell_type": "code",
   "execution_count": 812,
   "metadata": {},
   "outputs": [],
   "source": [
    "# 1 Two sum\n",
    "# https://leetcode.com/problems/two-sum/\n",
    "class Solution:\n",
    "    def twoSum(self, nums: List[int], target: int) -> List[int]:\n",
    "        hm = {}\n",
    "        for i, v in enumerate(nums):\n",
    "            diff = target - v\n",
    "            if diff in hm:\n",
    "                return [hm[diff], i]\n",
    "            hm[v] = i\n",
    "        return -1\n",
    "\n",
    "s = Solution()\n",
    "assert s.twoSum(nums = [2,7,11,15], target = 18) == [1, 2]"
   ]
  },
  {
   "cell_type": "code",
   "execution_count": 813,
   "metadata": {},
   "outputs": [],
   "source": [
    "# 49. Group Anagrams\n",
    "# https://leetcode.com/problems/group-anagrams/\n",
    "class Solution:\n",
    "    def groupAnagrams(self, strs: List[str]) -> List[List[str]]:\n",
    "        hm = defaultdict(list)\n",
    "        for s in strs:\n",
    "            std = sorted(s)\n",
    "            hm[str(std)].append(s)\n",
    "        return hm.values()\n",
    "\n",
    "s = Solution()\n",
    "# s.groupAnagrams(strs = [\"eat\",\"tea\",\"tan\",\"ate\",\"nat\",\"bat\"])\n",
    "# dict_values([['eat', 'tea', 'ate'], ['tan', 'nat'], ['bat']])"
   ]
  },
  {
   "cell_type": "code",
   "execution_count": 814,
   "metadata": {},
   "outputs": [],
   "source": [
    "# 347. Top K Frequent Elements\n",
    "# https://leetcode.com/problems/top-k-frequent-elements/\n",
    "class Solution:\n",
    "    def topKFrequent(self, nums: List[int], k: int) -> List[int]:\n",
    "        return [num for (num, _) in Counter(nums).most_common(k)]\n",
    "                        # (num, count)\n",
    "s = Solution()\n",
    "assert s.topKFrequent(nums = [1,1,1,2,2,3], k = 2) == [1, 2]"
   ]
  },
  {
   "cell_type": "code",
   "execution_count": 815,
   "metadata": {},
   "outputs": [],
   "source": [
    "# 238. Product of Array Except Self\n",
    "# https://leetcode.com/problems/product-of-array-except-self/\n",
    "class Solution:\n",
    "    def productExceptSelf(self, nums: List[int]) -> List[int]:\n",
    "        ln = len(nums)\n",
    "\n",
    "        # ans = [1] * ln\n",
    "        # prefix = 1\n",
    "        # for i, v in enumerate(nums):\n",
    "        #     ans[i] = prefix\n",
    "        #     prefix *= v\n",
    "\n",
    "        # Exchange the above line with below one line for better performance\n",
    "        ans = [1] + list(accumulate(nums[:-1], mul))\n",
    "\n",
    "\n",
    "        suffix = 1\n",
    "        for i in range(ln - 1, -1, -1):\n",
    "            ans[i] *= suffix\n",
    "            suffix *= nums[i]\n",
    "        return ans\n",
    "\n",
    "s = Solution()\n",
    "assert s.productExceptSelf(nums = [1,2,3,4]) == [24,12,8,6]"
   ]
  },
  {
   "cell_type": "code",
   "execution_count": 816,
   "metadata": {},
   "outputs": [],
   "source": [
    "# 271 Encode and Decode Strings\n",
    "# https://leetcode.com/problems/encode-and-decode-strings/\n",
    "class Solution:\n",
    "    def encode(self, strs):\n",
    "        return '$whatever$'.join(strs)\n",
    "\n",
    "    def decode(self, str):\n",
    "        return str.split('$whatever$')"
   ]
  },
  {
   "cell_type": "code",
   "execution_count": 817,
   "metadata": {},
   "outputs": [],
   "source": [
    "# 128. Longest Consecutive Sequence\n",
    "# https://leetcode.com/problems/longest-consecutive-sequence/\n",
    "class Solution:\n",
    "    def longestConsecutive(self, nums: List[int]) -> int:\n",
    "        nums.sort()\n",
    "        l, mx, ln = 0, 0, len(nums)\n",
    "        for r in range(1, ln):\n",
    "            if nums[r] == nums[r - 1]:\n",
    "                l += 1\n",
    "            elif nums[r] - nums[r - 1] != 1:\n",
    "                l = r\n",
    "            mx = max(mx, r - l + 1)\n",
    "        return mx if ln > 1 else ln  # Handling edge cases such as len(nums) == 0 or 1\n",
    "\n",
    "\n",
    "\n",
    "s = Solution()\n",
    "assert s.longestConsecutive(nums = [100,4,200,1,3,2]) == 4\n",
    "assert s.longestConsecutive(nums = [0,3,7,2,5,8,4,6,0,1]) == 9\n",
    "assert s.longestConsecutive(nums = [1, 2, 0, 1]) == 3"
   ]
  },
  {
   "cell_type": "markdown",
   "metadata": {},
   "source": [
    "##### Two Pointers"
   ]
  },
  {
   "cell_type": "code",
   "execution_count": 818,
   "metadata": {},
   "outputs": [],
   "source": [
    "# 125. Valid Palindrome\n",
    "# https://leetcode.com/problems/valid-palindrome/\n",
    "class Solution:\n",
    "    def isPalindrome(self, s: str) -> bool:\n",
    "\n",
    "        # # Cleaner code but mabye less efficient\n",
    "        # s = [c.lower() for c in s if c.isalnum()] # regex is a lot faster:  s = re.sub(r'[^a-zA-Z0-9]', '', s).lower() || s = re.sub(r'[\\W_]+', '', s).lower()\n",
    "        # l, r = 0, len(s) - 1\n",
    "        # while l < r:\n",
    "        #     if s[l] != s[r]:\n",
    "        #         return False\n",
    "        #     l += 1\n",
    "        #     r -= 1\n",
    "        # return True\n",
    "\n",
    "        l, r = 0, len(s) - 1\n",
    "        while l < r:\n",
    "            if not s[r].isalnum():\n",
    "                r -= 1\n",
    "                continue\n",
    "            if not s[l].isalnum():\n",
    "                l += 1\n",
    "                continue\n",
    "            if s[r].lower() != s[l].lower():\n",
    "                return False\n",
    "            l += 1\n",
    "            r -= 1\n",
    "        return True\n",
    "\n",
    "s = Solution()\n",
    "assert s.isPalindrome(s = \"A man, a plan, a canal: Panama\")"
   ]
  },
  {
   "cell_type": "code",
   "execution_count": 819,
   "metadata": {},
   "outputs": [],
   "source": [
    "# 15. 3Sum\n",
    "# https://leetcode.com/problems/3sum/\n",
    "class Solution:\n",
    "    def threeSum(self, nums: List[int]) -> List[List[int]]:\n",
    "\n",
    "        ans = []\n",
    "        nums.sort()\n",
    "\n",
    "        for i, v in enumerate(nums):\n",
    "            if i > 0 and v == nums[i - 1]:\n",
    "                continue\n",
    "            l, r = i + 1, len(nums) - 1\n",
    "            while l < r:\n",
    "                sum_3 = v + nums[l] + nums[r]\n",
    "                if sum_3 > 0:\n",
    "                    r -= 1\n",
    "                elif sum_3 < 0:\n",
    "                    l += 1\n",
    "                else:\n",
    "                    ans.append([v, nums[l], nums[r]])\n",
    "                    l += 1\n",
    "                    while nums[l] == nums[l - 1] and l < r:\n",
    "                        l += 1\n",
    "        return ans\n",
    "    \n",
    "# Line 10, 11 and 22, 23 are all about handling duplicates\n",
    "\n",
    "    \n",
    "s = Solution()\n",
    "assert s.threeSum(nums = [-1,0,1,2,-1,-4]) == [[-1, -1, 2], [-1, 0, 1]]"
   ]
  },
  {
   "cell_type": "code",
   "execution_count": 820,
   "metadata": {},
   "outputs": [],
   "source": [
    "# 11. Container With Most Water\n",
    "# https://leetcode.com/problems/container-with-most-water/\n",
    "class Solution:\n",
    "    def maxArea(self, height: list[int]) -> int:\n",
    "        l, r, mx = 0, len(height) - 1, 0\n",
    "        while l <= r:\n",
    "            mx = max(mx, (r - l) * min(height[l], height[r]))\n",
    "            if height[l] < height[r]:\n",
    "                l += 1\n",
    "            else:\n",
    "                r -= 1\n",
    "        return mx\n",
    "\n",
    "s = Solution()\n",
    "assert s.maxArea(height = [1,8,6,2,5,4,8,3,7]) == 49"
   ]
  },
  {
   "cell_type": "markdown",
   "metadata": {},
   "source": [
    "##### Sliding Window"
   ]
  },
  {
   "cell_type": "code",
   "execution_count": 821,
   "metadata": {},
   "outputs": [],
   "source": [
    "# 2 Best Time to Buy and Sell Stock\n",
    "# https://leetcode.com/problems/best-time-to-buy-and-sell-stock/\n",
    "class Solution:\n",
    "    def maxProfit(self, prices: List[int]) -> int:\n",
    "        # l, mx = 0, 0\n",
    "        # for r in range(1, len(prices)):\n",
    "        #     if prices[l] > prices[r]:\n",
    "        #         l = r\n",
    "        #     mx = max(mx, prices[r] - prices[l])\n",
    "        # return mx\n",
    "\n",
    "        # Pythonic syntax optimization\n",
    "        l, mx = 0, 0\n",
    "        for r, v in enumerate(prices):\n",
    "            if prices[l] > v:\n",
    "                l = r\n",
    "            mx = max(mx, v - prices[l])\n",
    "        return mx\n",
    "\n",
    "s = Solution()\n",
    "assert s.maxProfit([7,1,5,3,6,4]) == 5"
   ]
  },
  {
   "cell_type": "code",
   "execution_count": 822,
   "metadata": {},
   "outputs": [],
   "source": [
    "# 3. Longest Substring Without Repeating Characters\n",
    "# https://leetcode.com/problems/longest-substring-without-repeating-characters/\n",
    "\n",
    "class Solution:\n",
    "    def lengthOfLongestSubstring(self, s: str) -> int:\n",
    "        # l, mx, hs = 0, 0, set()\n",
    "        # for _, v in enumerate(s):\n",
    "        #     while v in hs:   # It's 'while' here intead of 'if'\n",
    "        #         hs.remove(s[l])\n",
    "        #         l += 1\n",
    "        #     hs.add(v)\n",
    "        #     mx = max(mx, len(hs))\n",
    "        # return mx\n",
    "    \n",
    "        l, mx, hm = 0, 0, {}\n",
    "        for r, v in enumerate(s):\n",
    "            if v in hm:\n",
    "                l = max(l, hm[v] + 1) # Test 'abba' and print, you will see the logic more clearly \n",
    "            hm[v] = r\n",
    "            mx = max(mx, r - l + 1)\n",
    "        return mx\n",
    "\n",
    "solution = Solution()\n",
    "assert solution.lengthOfLongestSubstring('abba') == 2"
   ]
  },
  {
   "cell_type": "code",
   "execution_count": 823,
   "metadata": {},
   "outputs": [],
   "source": [
    "# 424. Longest Repeating Character Replacement\n",
    "# https://leetcode.com/problems/longest-repeating-character-replacement/\n",
    "class Solution:\n",
    "    def characterReplacement(self, s: str, k: int) -> int:\n",
    "        \"\"\"  \n",
    "        Key insights: The window is valid if the window length minus the most frequent \n",
    "        character is less than or equal to the number of allowed replacements.\n",
    "        \"\"\"\n",
    "\n",
    "\n",
    "solution = Solution()\n",
    "solution.characterReplacement(s = \"ABAB\", k = 2)"
   ]
  },
  {
   "cell_type": "code",
   "execution_count": 824,
   "metadata": {},
   "outputs": [],
   "source": [
    "# 76. Minimum Window Substring\n",
    "# https://leetcode.com/problems/minimum-window-substring/\n",
    "class Solution:\n",
    "    def minWindow(self, s: str, t: str) -> str:\n",
    "        pass\n",
    "\n",
    "solution = Solution()\n",
    "solution.minWindow(s = \"ADOBECODEBANC\", t = \"ABC\") # 'BANC'\n"
   ]
  },
  {
   "cell_type": "markdown",
   "metadata": {},
   "source": [
    "##### Stack"
   ]
  },
  {
   "cell_type": "code",
   "execution_count": 825,
   "metadata": {},
   "outputs": [],
   "source": [
    "# 20. Valid Parentheses\n",
    "# https://leetcode.com/problems/valid-parentheses/\n",
    "class Solution:\n",
    "    def isValid(self, s: str) -> bool:\n",
    "        stack = []\n",
    "        hm = {\n",
    "            ')': '(',\n",
    "            ']': '[',\n",
    "            '}': '{'\n",
    "        }\n",
    "\n",
    "        for c in s:\n",
    "            if c not in hm:\n",
    "                stack.append(c)\n",
    "            else:\n",
    "                if stack and stack[-1] == hm[c]:\n",
    "                    stack.pop()\n",
    "                else:\n",
    "                    return False\n",
    "        return not stack\n",
    "\n",
    "solution = Solution()\n",
    "assert solution.isValid(s = \"()[]{}\") is True\n",
    "assert solution.isValid(s = \"(]\") is False\n",
    "assert solution.isValid(']') is False"
   ]
  },
  {
   "cell_type": "markdown",
   "metadata": {},
   "source": [
    "##### Binary Search"
   ]
  },
  {
   "cell_type": "code",
   "execution_count": 826,
   "metadata": {},
   "outputs": [],
   "source": [
    "# 153. Find Minimum in Rotated Sorted Array\n",
    "# https://leetcode.com/problems/find-minimum-in-rotated-sorted-array/\n",
    "class Solution:\n",
    "    def findMin(self, nums: List[int]) -> int:\n",
    "        # return sorted(nums)[0]\n",
    "        l, r = 0, len(nums) - 1\n",
    "        while l < r:\n",
    "            m = (l + r) // 2\n",
    "            if nums[m] > nums[r]:\n",
    "                l = m + 1\n",
    "            else:\n",
    "                r = m\n",
    "        return nums[l]\n",
    "    \n",
    "\n",
    "s = Solution()\n",
    "assert s.findMin([3,4,5,1,2]) == 1"
   ]
  },
  {
   "cell_type": "code",
   "execution_count": 827,
   "metadata": {},
   "outputs": [],
   "source": [
    "# 33. Search in Rotated Sorted Array\n",
    "# https://leetcode.com/problems/search-in-rotated-sorted-array/\n",
    "class Solution:\n",
    "    def search(self, nums: List[int], target: int) -> int:\n",
    "        l, r = 0, len(nums) - 1\n",
    "        while l <= r:\n",
    "            m = (l + r) // 2\n",
    "\n",
    "            if nums[m] == target:\n",
    "                return m\n",
    "\n",
    "            if nums[l] <= nums[m]:\n",
    "               if nums[l] <= target < nums[m]:\n",
    "                   r = m - 1\n",
    "               else:\n",
    "                   l = m + 1\n",
    "            else:\n",
    "                if nums[m] < target <= nums[r]:\n",
    "                    l = m + 1\n",
    "                else:\n",
    "                    r = m - 1\n",
    "        return - 1\n",
    "\n",
    "\n",
    "s = Solution()\n",
    "assert s.search(nums = [4,5,6,7,0,1,2], target = 0) == 4"
   ]
  },
  {
   "cell_type": "markdown",
   "metadata": {},
   "source": [
    "##### Linked List"
   ]
  },
  {
   "cell_type": "code",
   "execution_count": 828,
   "metadata": {},
   "outputs": [],
   "source": [
    "# 206. Reverse Linked List\n",
    "# https://leetcode.com/problems/reverse-linked-list/\n",
    "class ListNode:\n",
    "    def __init__(self, val=0, next=None):\n",
    "        self.val = val\n",
    "        self.next = next\n",
    "\n",
    "    def graph(self):\n",
    "        nodes = []\n",
    "        while self:\n",
    "            nodes.append(str(self.val) + ' ->')\n",
    "            self = self.next\n",
    "        return ' '.join(nodes) + ' None'\n",
    "    \n",
    "def list2ll(arr):\n",
    "    crt = dummy = ListNode()\n",
    "    for a in arr:\n",
    "        crt.next = ListNode(a)\n",
    "        crt = crt.next\n",
    "    return dummy.next\n",
    "\n",
    "class Solution:\n",
    "    def reverseList(self, head: Optional[ListNode]) -> Optional[ListNode]:\n",
    "        prev, crt = None, head\n",
    "        while crt:\n",
    "            nxt = crt.next\n",
    "            crt.next = prev\n",
    "            prev = crt\n",
    "            crt = nxt\n",
    "        return prev\n",
    "\n",
    "s = Solution()\n",
    "new_head = s.reverseList(list2ll([1,2,3,4,5]))\n",
    "assert new_head.graph() == '5 -> 4 -> 3 -> 2 -> 1 -> None'"
   ]
  },
  {
   "cell_type": "code",
   "execution_count": 829,
   "metadata": {},
   "outputs": [],
   "source": [
    "# 21. Merge Two Sorted Lists\n",
    "# https://leetcode.com/problems/merge-two-sorted-lists/\n",
    "class Solution:\n",
    "    def mergeTwoLists(self, list1: Optional[ListNode], list2: Optional[ListNode]) -> Optional[ListNode]:\n",
    "        dummy = ListNode()\n",
    "        crt = dummy\n",
    "\n",
    "        l, r = list1, list2 \n",
    "\n",
    "        while l and r:\n",
    "            if l.val < r.val:\n",
    "                crt.next = l\n",
    "                l = l.next\n",
    "\n",
    "            else:\n",
    "                crt.next = r\n",
    "                r = r.next\n",
    "            crt = crt.next\n",
    "\n",
    "        if l:\n",
    "            crt.next = l\n",
    "\n",
    "        if r:\n",
    "            crt.next = r\n",
    "\n",
    "        return dummy.next\n",
    "\n",
    "\n",
    "list1 = list2ll([1,2,4])\n",
    "list2 = list2ll([1,3,4])\n",
    "s = Solution()\n",
    "head = s.mergeTwoLists(list1, list2)\n",
    "assert head.graph() == '1 -> 1 -> 2 -> 3 -> 4 -> 4 -> None'"
   ]
  },
  {
   "cell_type": "code",
   "execution_count": 830,
   "metadata": {},
   "outputs": [],
   "source": [
    "# Reorder List"
   ]
  },
  {
   "cell_type": "code",
   "execution_count": 831,
   "metadata": {},
   "outputs": [],
   "source": [
    "# Remove Nth Node From End of List"
   ]
  },
  {
   "cell_type": "code",
   "execution_count": 832,
   "metadata": {},
   "outputs": [],
   "source": [
    "# Linked List Cycle"
   ]
  },
  {
   "cell_type": "code",
   "execution_count": 833,
   "metadata": {},
   "outputs": [],
   "source": [
    "# Merge K Sorted Lists"
   ]
  },
  {
   "cell_type": "markdown",
   "metadata": {},
   "source": [
    "##### Trees"
   ]
  },
  {
   "cell_type": "code",
   "execution_count": 834,
   "metadata": {},
   "outputs": [
    {
     "name": "stdout",
     "output_type": "stream",
     "text": [
      "  _4_  \n",
      " /   \\ \n",
      " 2   7 \n",
      "/ \\ / \\\n",
      "1 3 6 9\n",
      "[4, 2, 7, 1, 3, 6, 9, None, None, None, None, None, None, None, None]\n",
      "  _4_  \n",
      " /   \\ \n",
      " 2   7 \n",
      "/ \\ / \\\n",
      "1 3 6 9\n",
      "  _4_  \n",
      " /   \\ \n",
      " 7   2 \n",
      "/ \\ / \\\n",
      "9 6 3 1\n",
      "\u0000\u0000\u0000( 3___  \n",
      "/    \\ \n",
      "9   20 \n",
      "   /  \\\n",
      "  15  7\n",
      "\u0000\u0000\u0000\u0018 1 \n",
      "/ \\\n",
      "2 3\n",
      " 1 \n",
      "/ \\\n",
      "2 3\n",
      "\u0000\u0000\u0000*  _3 \n",
      " /  \\\n",
      " 4  5\n",
      "/ \\  \n",
      "1 2  \n",
      " 4 \n",
      "/ \\\n",
      "1 2\n",
      "\u0000\u0000\u0000\u0004True\u0000\u0000\u0000F  ___6_  \n",
      " /     \\ \n",
      " 2_    8 \n",
      "/  \\  / \\\n",
      "0  4  7 9\n",
      "  / \\    \n",
      "  3 5    \n",
      "\u0000\u0000\u0000( 3___  \n",
      "/    \\ \n",
      "9   20 \n",
      "   /  \\\n",
      "  15  7\n",
      "\u0000\u0000\u00003deque([deque([3]), deque([9, 20]), deque([15, 7])])\u0000\u0000\u0000\u001e 5_  \n",
      "/  \\ \n",
      "4  6 \n",
      "  / \\\n",
      "  3 7\n",
      "\u0000\u0000\u0000\u0005False\u0000\u0000\u0000\u00016\u0000\u0000\u0000\u00016\u0000\u0000\u0000\u00016"
     ]
    }
   ],
   "source": [
    "# 226. Invert Binary Tree\n",
    "# https://leetcode.com/problems/invert-binary-tree/\n",
    "class TreeNode:\n",
    "    def __init__(self, val, left=None, right=None):\n",
    "        self.val = val\n",
    "        self.left = left\n",
    "        self.right = right\n",
    "\n",
    "    def graph(self):\n",
    "        \"\"\"Graph an instance of (tree) Node class\"\"\"\n",
    "        lines, *_ = self.graph_aux()\n",
    "        for line in lines:\n",
    "            print(line)\n",
    "\n",
    "    def graph_aux(self):\n",
    "        \"\"\"Returns list of strings, width, height, and horizontal coordinate of the root.\"\"\"\n",
    "        # No child.\n",
    "        if self.right is None and self.left is None:\n",
    "            line = str(self.val)\n",
    "            width = len(line)\n",
    "            height = 1\n",
    "            middle = width // 2\n",
    "            return [line], width, height, middle\n",
    "\n",
    "        # Only left child.\n",
    "        if self.right is None:\n",
    "            lines, n, p, x = self.left.graph_aux()\n",
    "            s = str(self.val)\n",
    "            u = len(s)\n",
    "            first_line = (x + 1) * ' ' + (n - x - 1) * '_' + s\n",
    "            second_line = x * ' ' + '/' + (n - x - 1 + u) * ' '\n",
    "            shifted_lines = [line + u * ' ' for line in lines]\n",
    "            return [first_line, second_line] + shifted_lines, n + u, p + 2, n + u // 2\n",
    "\n",
    "        # Only right child.\n",
    "        if self.left is None:\n",
    "            lines, n, p, x = self.right.graph_aux()\n",
    "            s = str(self.val)\n",
    "            u = len(s)\n",
    "            first_line = s + x * '_' + (n - x) * ' '\n",
    "            second_line = (u + x) * ' ' + '\\\\' + (n - x - 1) * ' '\n",
    "            shifted_lines = [u * ' ' + line for line in lines]\n",
    "            return [first_line, second_line] + shifted_lines, n + u, p + 2, u // 2\n",
    "\n",
    "        # Two children.\n",
    "        left, n, p, x = self.left.graph_aux()\n",
    "        right, m, q, y = self.right.graph_aux()\n",
    "        s = str(self.val)\n",
    "        u = len(s)\n",
    "        first_line = (x + 1) * ' ' + (n - x - 1) * '_' + s + y * '_' + (m - y) * ' '\n",
    "        second_line = x * ' ' + '/' + (n - x - 1 + u + y) * ' ' + '\\\\' + (m - y - 1) * ' '\n",
    "        if p < q:\n",
    "            left += [n * ' '] * (q - p)\n",
    "        elif q < p:\n",
    "            right += [m * ' '] * (p - q)\n",
    "        zipped_lines = zip(left, right)\n",
    "        lines = [first_line, second_line] + [a + u * ' ' + b for a, b in zipped_lines]\n",
    "        return lines, n + m + u, max(p, q) + 2, n + u // 2\n",
    "\n",
    "\n",
    "# def serialize(root: TreeNode) -> list:\n",
    "#     ans = []\n",
    "#     def preorder(root):\n",
    "#       if not root:\n",
    "#         ans.append(None)\n",
    "#         return\n",
    "\n",
    "#       ans.append(root.val)\n",
    "#       preorder(root.left)\n",
    "#       preorder(root.right)\n",
    "\n",
    "#     preorder(root)\n",
    "#     return ans\n",
    "\n",
    "# def deserialize(data: list) -> TreeNode:\n",
    "    # q = deque(data)\n",
    "\n",
    "    # def preorder():\n",
    "    #   crt = q.popleft()\n",
    "    #   if not crt:\n",
    "    #     return None\n",
    "\n",
    "    #   root = TreeNode(crt)\n",
    "    #   root.left = preorder()\n",
    "    #   root.right = preorder()\n",
    "    #   return root\n",
    "\n",
    "    # return preorder()\n",
    " \n",
    "# BFS Serializer\n",
    "def serialize(root):\n",
    "    q = deque()\n",
    "\n",
    "    if not root: \n",
    "        return None\n",
    "    q.append(root)\n",
    "\n",
    "    ans = []\n",
    "    while q:\n",
    "        crt = q.popleft()\n",
    "        if not crt:\n",
    "            ans.append(None)\n",
    "        else:\n",
    "            ans.append(crt.val)\n",
    "\n",
    "            q.append(crt.left)\n",
    "            q.append(crt.right)\n",
    "    return ans\n",
    "\n",
    "def deserialize(data):\n",
    "    def createNode(val):\n",
    "        if val is None: \n",
    "            return None\n",
    "        return TreeNode(val)\n",
    "\n",
    "    if not data: \n",
    "        return None\n",
    "    root = createNode(data[0])\n",
    "    i = 1\n",
    "    q = deque([root])\n",
    "    while q:\n",
    "        crt = q.popleft()\n",
    "        crt.left = createNode(data[i])\n",
    "        crt.right = createNode(data[i+1])\n",
    "        i += 2\n",
    "\n",
    "        if crt.left:\n",
    "            q.append(crt.left)\n",
    "        if crt.right:\n",
    "            q.append(crt.right)\n",
    "    return root\n",
    "\n",
    "class Solution:\n",
    "    def invertTree(self, root: Optional[TreeNode]) -> Optional[TreeNode]:\n",
    "        if not root:\n",
    "            return\n",
    "        root.left, root.right = root.right, root.left\n",
    "        self.invertTree(root.left)\n",
    "        self.invertTree(root.right)\n",
    "        return root\n",
    "    \n",
    "s = Solution()\n",
    "\n",
    "root = TreeNode(4)\n",
    "root.left = TreeNode(2)\n",
    "root.right = TreeNode(7)\n",
    "root.left.left = TreeNode(1)\n",
    "root.left.right = TreeNode(3)\n",
    "root.right.left = TreeNode(6)\n",
    "root.right.right = TreeNode(9)\n",
    "\n",
    "# root = TreeNode(1)\n",
    "# root.right = TreeNode(2)\n",
    "# root.right.right = TreeNode(3)\n",
    "# root.right.right.right = TreeNode(4)\n",
    "\n",
    "root.graph()\n",
    "print(serialize(root))\n",
    "deserialize(serialize(root)).graph()\n",
    "s.invertTree(root).graph()"
   ]
  },
  {
   "cell_type": "code",
   "execution_count": 835,
   "metadata": {},
   "outputs": [
    {
     "name": "stdout",
     "output_type": "stream",
     "text": [
      " 3___  \n",
      "/    \\ \n",
      "9   20 \n",
      "   /  \\\n",
      "  15  7\n",
      "\u0000\u0000\u0000\u0018 1 \n",
      "/ \\\n",
      "2 3\n",
      " 1 \n",
      "/ \\\n",
      "2 3\n",
      "\u0000\u0000\u0000*  _3 \n",
      " /  \\\n",
      " 4  5\n",
      "/ \\  \n",
      "1 2  \n",
      " 4 \n",
      "/ \\\n",
      "1 2\n",
      "\u0000\u0000\u0000\u0004True\u0000\u0000\u0000F  ___6_  \n",
      " /     \\ \n",
      " 2_    8 \n",
      "/  \\  / \\\n",
      "0  4  7 9\n",
      "  / \\    \n",
      "  3 5    \n",
      "\u0000\u0000\u0000( 3___  \n",
      "/    \\ \n",
      "9   20 \n",
      "   /  \\\n",
      "  15  7\n",
      "\u0000\u0000\u00003deque([deque([3]), deque([9, 20]), deque([15, 7])])\u0000\u0000\u0000\u001e 5_  \n",
      "/  \\ \n",
      "4  6 \n",
      "  / \\\n",
      "  3 7\n",
      "\u0000\u0000\u0000\u0005False\u0000\u0000\u0000\u00016\u0000\u0000\u0000\u00016\u0000\u0000\u0000\u00016"
     ]
    }
   ],
   "source": [
    "# 104. Maximum Depth of Binary Tree\n",
    "# https://leetcode.com/problems/maximum-depth-of-binary-tree/\n",
    "class Solution:\n",
    "    def maxDepth(self, root: Optional[TreeNode]) -> int:\n",
    "        depth = 0\n",
    "        q = deque()\n",
    "        if root:\n",
    "            q.append(root)\n",
    "            while q:\n",
    "                level_size = len(q)\n",
    "                depth += 1\n",
    "                \n",
    "                for _ in range(level_size):\n",
    "                    node = q.popleft()\n",
    "                    if node.left:\n",
    "                        q.append(node.left)\n",
    "                    if node.right:\n",
    "                        q.append(node.right)\n",
    "        return depth\n",
    "    \n",
    "s = Solution()\n",
    "root = deserialize([3,9,20,None,None,15,7,None,None,None,None])\n",
    "root.graph()\n",
    "assert s.maxDepth(root) == 3"
   ]
  },
  {
   "cell_type": "code",
   "execution_count": 836,
   "metadata": {},
   "outputs": [
    {
     "name": "stdout",
     "output_type": "stream",
     "text": [
      " 1 \n",
      "/ \\\n",
      "2 3\n",
      " 1 \n",
      "/ \\\n",
      "2 3\n",
      "\u0000\u0000\u0000*  _3 \n",
      " /  \\\n",
      " 4  5\n",
      "/ \\  \n",
      "1 2  \n",
      " 4 \n",
      "/ \\\n",
      "1 2\n",
      "\u0000\u0000\u0000\u0004True\u0000\u0000\u0000F  ___6_  \n",
      " /     \\ \n",
      " 2_    8 \n",
      "/  \\  / \\\n",
      "0  4  7 9\n",
      "  / \\    \n",
      "  3 5    \n",
      "\u0000\u0000\u0000( 3___  \n",
      "/    \\ \n",
      "9   20 \n",
      "   /  \\\n",
      "  15  7\n",
      "\u0000\u0000\u00003deque([deque([3]), deque([9, 20]), deque([15, 7])])\u0000\u0000\u0000\u001e 5_  \n",
      "/  \\ \n",
      "4  6 \n",
      "  / \\\n",
      "  3 7\n",
      "\u0000\u0000\u0000\u0005False\u0000\u0000\u0000\u00016\u0000\u0000\u0000\u00016\u0000\u0000\u0000\u00016"
     ]
    }
   ],
   "source": [
    "# 100. Same Tree\n",
    "# https://leetcode.com/problems/same-tree/\n",
    "class Solution:\n",
    "    def isSameTree(self, p: Optional[TreeNode], q: Optional[TreeNode]) -> bool:\n",
    "        if not p and not q:\n",
    "            return True\n",
    "        if p and q and p.val == q.val:\n",
    "            return self.isSameTree(p.left, q.left) and self.isSameTree(p.right, q.right)\n",
    "        return False\n",
    "    \n",
    "p = deserialize([1, 2, 3, None, None, None, None])\n",
    "q = deserialize([1, 2, 3, None, None, None, None])\n",
    "p.graph()\n",
    "q.graph()\n",
    "s = Solution()\n",
    "assert s.isSameTree(p, q)"
   ]
  },
  {
   "cell_type": "code",
   "execution_count": 837,
   "metadata": {},
   "outputs": [
    {
     "name": "stdout",
     "output_type": "stream",
     "text": [
      "  _3 \n",
      " /  \\\n",
      " 4  5\n",
      "/ \\  \n",
      "1 2  \n",
      " 4 \n",
      "/ \\\n",
      "1 2\n",
      "\u0000\u0000\u0000\u0004True\u0000\u0000\u0000F  ___6_  \n",
      " /     \\ \n",
      " 2_    8 \n",
      "/  \\  / \\\n",
      "0  4  7 9\n",
      "  / \\    \n",
      "  3 5    \n",
      "\u0000\u0000\u0000( 3___  \n",
      "/    \\ \n",
      "9   20 \n",
      "   /  \\\n",
      "  15  7\n",
      "\u0000\u0000\u00003deque([deque([3]), deque([9, 20]), deque([15, 7])])\u0000\u0000\u0000\u001e 5_  \n",
      "/  \\ \n",
      "4  6 \n",
      "  / \\\n",
      "  3 7\n",
      "\u0000\u0000\u0000\u0005False\u0000\u0000\u0000\u00016\u0000\u0000\u0000\u00016\u0000\u0000\u0000\u00016"
     ]
    },
    {
     "data": {
      "text/plain": [
       "True\u0000\u0000\u0000F  ___6_  \n",
       " /     \\ \n",
       " 2_    8 \n",
       "/  \\  / \\\n",
       "0  4  7 9\n",
       "  / \\    \n",
       "  3 5    \n",
       "\u0000\u0000\u0000( 3___  \n",
       "/    \\ \n",
       "9   20 \n",
       "   /  \\\n",
       "  15  7\n",
       "\u0000\u0000\u00003deque([deque([3]), deque([9, 20]), deque([15, 7])])\u0000\u0000\u0000\u001e 5_  \n",
       "/  \\ \n",
       "4  6 \n",
       "  / \\\n",
       "  3 7\n",
       "\u0000\u0000\u0000\u0005False\u0000\u0000\u0000\u00016\u0000\u0000\u0000\u00016\u0000\u0000\u0000\u00016"
      ]
     },
     "execution_count": 837,
     "metadata": {},
     "output_type": "execute_result"
    }
   ],
   "source": [
    "# 572. Subtree of Another Tree\n",
    "# https://leetcode.com/problems/subtree-of-another-tree/\n",
    "class Solution:\n",
    "    def isSubtree(self, root: Optional[TreeNode], subRoot: Optional[TreeNode]) -> bool:\n",
    "        def isSameTree(p, q):\n",
    "            if not p and not q:\n",
    "                return True\n",
    "            if p and q and p.val == q.val:\n",
    "                return isSameTree(p.left, q.left) and isSameTree(p.right, q.right)\n",
    "            return False\n",
    "        \n",
    "        if isSameTree(root, subRoot):\n",
    "            return True\n",
    "        if not root:\n",
    "            return False\n",
    "        return self.isSubtree(root.left, subRoot) or self.isSubtree(root.right, subRoot)\n",
    "\n",
    "root = deserialize([3,4,5, 1, 2, None, None, None, None, None, None])\n",
    "root.graph()\n",
    "subRoot = deserialize([4, 1, 2, None, None, None, None])\n",
    "subRoot.graph()\n",
    "\n",
    "s = Solution()\n",
    "s.isSubtree(root, subRoot)"
   ]
  },
  {
   "cell_type": "code",
   "execution_count": 838,
   "metadata": {},
   "outputs": [
    {
     "name": "stdout",
     "output_type": "stream",
     "text": [
      "  ___6_  \n",
      " /     \\ \n",
      " 2_    8 \n",
      "/  \\  / \\\n",
      "0  4  7 9\n",
      "  / \\    \n",
      "  3 5    \n",
      "\u0000\u0000\u0000( 3___  \n",
      "/    \\ \n",
      "9   20 \n",
      "   /  \\\n",
      "  15  7\n",
      "\u0000\u0000\u00003deque([deque([3]), deque([9, 20]), deque([15, 7])])\u0000\u0000\u0000\u001e 5_  \n",
      "/  \\ \n",
      "4  6 \n",
      "  / \\\n",
      "  3 7\n",
      "\u0000\u0000\u0000\u0005False\u0000\u0000\u0000\u00016\u0000\u0000\u0000\u00016\u0000\u0000\u0000\u00016"
     ]
    }
   ],
   "source": [
    "# 235. Lowest Common Ancestor of a Binary Search Tree\n",
    "# https://leetcode.com/problems/lowest-common-ancestor-of-a-binary-search-tree/\n",
    "class Solution:\n",
    "    def lowestCommonAncestor(self, root: 'TreeNode', p: 'TreeNode', q: 'TreeNode') -> 'TreeNode':\n",
    "        pass\n",
    "\n",
    "\n",
    "\n",
    "root = deserialize([6,2,8,0,4,7,9,None,None,3,5,None, None, None, None, None, None, None, None])\n",
    "p, q = TreeNode(2), TreeNode(8)\n",
    "root.graph()\n",
    "\n",
    "s = Solution()\n",
    "s.lowestCommonAncestor(root, p, q)"
   ]
  },
  {
   "cell_type": "code",
   "execution_count": 839,
   "metadata": {},
   "outputs": [
    {
     "name": "stdout",
     "output_type": "stream",
     "text": [
      " 3___  \n",
      "/    \\ \n",
      "9   20 \n",
      "   /  \\\n",
      "  15  7\n",
      "\u0000\u0000\u00003deque([deque([3]), deque([9, 20]), deque([15, 7])])\u0000\u0000\u0000\u001e 5_  \n",
      "/  \\ \n",
      "4  6 \n",
      "  / \\\n",
      "  3 7\n",
      "\u0000\u0000\u0000\u0005False\u0000\u0000\u0000\u00016\u0000\u0000\u0000\u00016\u0000\u0000\u0000\u00016"
     ]
    },
    {
     "data": {
      "text/plain": [
       "deque([deque([3]), deque([9, 20]), deque([15, 7])])\u0000\u0000\u0000\u001e 5_  \n",
       "/  \\ \n",
       "4  6 \n",
       "  / \\\n",
       "  3 7\n",
       "\u0000\u0000\u0000\u0005False\u0000\u0000\u0000\u00016\u0000\u0000\u0000\u00016\u0000\u0000\u0000\u00016"
      ]
     },
     "execution_count": 839,
     "metadata": {},
     "output_type": "execute_result"
    }
   ],
   "source": [
    "# 102. Binary Tree Level Order Traversal\n",
    "# https://leetcode.com/problems/binary-tree-level-order-traversal/\n",
    "class Solution:\n",
    "    def levelOrder(self, root: Optional[TreeNode]) -> List[List[int]]:\n",
    "        q = deque()\n",
    "        if root:\n",
    "            q.append(root)\n",
    "\n",
    "        ans = deque()\n",
    "        while q:\n",
    "            lvl = deque()\n",
    "            for _ in range(len(q)):\n",
    "                crt = q.popleft()\n",
    "                lvl.append(crt.val)\n",
    "\n",
    "                if crt.left:\n",
    "                    q.append(crt.left)\n",
    "                if crt.right:\n",
    "                    q.append(crt.right)\n",
    "            ans.append(lvl)\n",
    "        return ans\n",
    "\n",
    "root = deserialize([3,9,20,None,None,15,7,None,None,None,None])\n",
    "root.graph()\n",
    "s = Solution()\n",
    "s.levelOrder(root)"
   ]
  },
  {
   "cell_type": "code",
   "execution_count": 840,
   "metadata": {},
   "outputs": [
    {
     "name": "stdout",
     "output_type": "stream",
     "text": [
      " 5_  \n",
      "/  \\ \n",
      "4  6 \n",
      "  / \\\n",
      "  3 7\n",
      "\u0000\u0000\u0000\u0005False\u0000\u0000\u0000\u00016\u0000\u0000\u0000\u00016\u0000\u0000\u0000\u00016"
     ]
    },
    {
     "data": {
      "text/plain": [
       "False\u0000\u0000\u0000\u00016\u0000\u0000\u0000\u00016\u0000\u0000\u0000\u00016"
      ]
     },
     "execution_count": 840,
     "metadata": {},
     "output_type": "execute_result"
    }
   ],
   "source": [
    "# 98. Validate Binary Search Tree\n",
    "# https://leetcode.com/problems/validate-binary-search-tree/\n",
    "class Solution:\n",
    "    def isValidBST(self, root: Optional[TreeNode]) -> bool:\n",
    "        \n",
    "        # def inorder(root):\n",
    "        #     if not root:\n",
    "        #         return []\n",
    "        #     return [*inorder(root.left), root.val, *inorder(root.right)]\n",
    "        \n",
    "        # vals = inorder(root)\n",
    "        # for i, v in enumerate(vals):\n",
    "        #     if i > 0 and v <= vals[i - 1]:\n",
    "        #         return False\n",
    "        # return True\n",
    "\n",
    "        def dfs(lower, node, upper):\n",
    "            if not node:\n",
    "                return True\n",
    "            elif node.val <= lower or node.val >= upper:\n",
    "                return False\n",
    "            else:\n",
    "                return dfs(lower, node.left, node.val) and dfs(node.val, node.right, upper)\n",
    "        return dfs(float('-inf'), root, float('inf')) \n",
    "\n",
    "root = deserialize([2, 1, 3, None, None, None, None])\n",
    "root = deserialize([5,4,6,None,None,3,7, None, None, None, None])\n",
    "root.graph()\n",
    "\n",
    "s = Solution()\n",
    "s.isValidBST(root)\n"
   ]
  },
  {
   "cell_type": "code",
   "execution_count": 841,
   "metadata": {},
   "outputs": [],
   "source": [
    "# Kth Smallest Element In a Bst"
   ]
  },
  {
   "cell_type": "code",
   "execution_count": 842,
   "metadata": {},
   "outputs": [],
   "source": [
    "# Construct Binary Tree From Preorder And Inorder Traversal"
   ]
  },
  {
   "cell_type": "code",
   "execution_count": 843,
   "metadata": {},
   "outputs": [],
   "source": [
    "# Binary Tree Maximum Path Sum"
   ]
  },
  {
   "cell_type": "code",
   "execution_count": 844,
   "metadata": {},
   "outputs": [],
   "source": [
    "# Serialize And Deserialize Binary Tree"
   ]
  },
  {
   "cell_type": "markdown",
   "metadata": {},
   "source": [
    "##### Tries"
   ]
  },
  {
   "cell_type": "code",
   "execution_count": null,
   "metadata": {},
   "outputs": [],
   "source": []
  },
  {
   "cell_type": "code",
   "execution_count": null,
   "metadata": {},
   "outputs": [],
   "source": []
  },
  {
   "cell_type": "code",
   "execution_count": null,
   "metadata": {},
   "outputs": [],
   "source": []
  },
  {
   "cell_type": "code",
   "execution_count": null,
   "metadata": {},
   "outputs": [],
   "source": []
  },
  {
   "cell_type": "code",
   "execution_count": null,
   "metadata": {},
   "outputs": [],
   "source": []
  },
  {
   "cell_type": "code",
   "execution_count": null,
   "metadata": {},
   "outputs": [],
   "source": []
  },
  {
   "cell_type": "code",
   "execution_count": null,
   "metadata": {},
   "outputs": [],
   "source": []
  },
  {
   "cell_type": "code",
   "execution_count": null,
   "metadata": {},
   "outputs": [],
   "source": []
  },
  {
   "cell_type": "code",
   "execution_count": null,
   "metadata": {},
   "outputs": [],
   "source": []
  },
  {
   "cell_type": "code",
   "execution_count": null,
   "metadata": {},
   "outputs": [],
   "source": []
  },
  {
   "cell_type": "code",
   "execution_count": null,
   "metadata": {},
   "outputs": [],
   "source": []
  },
  {
   "cell_type": "code",
   "execution_count": null,
   "metadata": {},
   "outputs": [],
   "source": []
  },
  {
   "cell_type": "code",
   "execution_count": null,
   "metadata": {},
   "outputs": [],
   "source": []
  },
  {
   "cell_type": "code",
   "execution_count": null,
   "metadata": {},
   "outputs": [],
   "source": []
  },
  {
   "cell_type": "code",
   "execution_count": null,
   "metadata": {},
   "outputs": [],
   "source": []
  },
  {
   "cell_type": "code",
   "execution_count": null,
   "metadata": {},
   "outputs": [],
   "source": []
  },
  {
   "cell_type": "code",
   "execution_count": 845,
   "metadata": {},
   "outputs": [
    {
     "data": {
      "text/plain": [
       "6\u0000\u0000\u0000\u00016\u0000\u0000\u0000\u00016"
      ]
     },
     "execution_count": 845,
     "metadata": {},
     "output_type": "execute_result"
    }
   ],
   "source": [
    "# 5 Maxium Subarray\n",
    "# https://leetcode.com/problems/maximum-subarray/\n",
    "class Solution:\n",
    "    def maxSubArray(self, nums: List[int]) -> int:\n",
    "        for i in range(1, len(nums)):\n",
    "            nums[i] = max(nums[i] + nums[i-1], nums[i])\n",
    "        return max(nums)\n",
    "nums = [-2,1,-3,4,-1,2,1,-5,4]\n",
    "s = Solution()\n",
    "s.maxSubArray(nums)"
   ]
  },
  {
   "cell_type": "code",
   "execution_count": 846,
   "metadata": {},
   "outputs": [
    {
     "data": {
      "text/plain": [
       "6\u0000\u0000\u0000\u00016"
      ]
     },
     "execution_count": 846,
     "metadata": {},
     "output_type": "execute_result"
    }
   ],
   "source": [
    "# NeetCode Solution\n",
    "class Solution:\n",
    "    def maxSubArray(self, nums: List[int]) -> int:\n",
    "        max_sub = nums[0]\n",
    "        curr_sub = 0\n",
    "        \n",
    "        for n in nums:\n",
    "            if curr_sub < 0:\n",
    "                curr_sub = 0\n",
    "            curr_sub += n\n",
    "            max_sub = max(max_sub, curr_sub)\n",
    "        return max_sub\n",
    "\n",
    "\n",
    "nums = [-2,1,-3,4,-1,2,1,-5,4]\n",
    "# nums = [-1, -2, -3]\n",
    "s = Solution()\n",
    "s.maxSubArray(nums)"
   ]
  },
  {
   "cell_type": "markdown",
   "metadata": {},
   "source": [
    "6 Maximum Product Subarray\n",
    "https://leetcode.com/problems/maximum-product-subarray"
   ]
  },
  {
   "cell_type": "code",
   "execution_count": 847,
   "metadata": {},
   "outputs": [
    {
     "data": {
      "text/plain": [
       "6"
      ]
     },
     "execution_count": 847,
     "metadata": {},
     "output_type": "execute_result"
    }
   ],
   "source": [
    "# Neetcode solution\n",
    "class Solution:\n",
    "    def maxProduct(self, nums: List[int]) -> int:\n",
    "        max_prod = float('-inf')\n",
    "        cur_min, cur_max = 1, 1\n",
    "        for n in nums:\n",
    "            tmp_max = cur_max * n \n",
    "            cur_max = max(n * cur_max, n * cur_min, n)\n",
    "            cur_min = min(tmp_max, n * cur_min, n)\n",
    "            # print(tmp_max, cur_max, cur_min)\n",
    "            max_prod = max(max_prod, cur_max)\n",
    "        return max_prod\n",
    "\n",
    "\n",
    "nums = [2,3,-2,4]\n",
    "# nums = [2, 0, 0, 2]\n",
    "# nums = [3, -1, 4]\n",
    "# nums = [-2, 0, -1]\n",
    "# nums = [0, 2]\n",
    "s = Solution()\n",
    "s.maxProduct(nums)"
   ]
  },
  {
   "cell_type": "markdown",
   "metadata": {},
   "source": [
    "8 \n"
   ]
  },
  {
   "cell_type": "code",
   "execution_count": null,
   "metadata": {},
   "outputs": [],
   "source": []
  },
  {
   "cell_type": "code",
   "execution_count": null,
   "metadata": {},
   "outputs": [],
   "source": []
  },
  {
   "cell_type": "code",
   "execution_count": null,
   "metadata": {},
   "outputs": [],
   "source": []
  },
  {
   "cell_type": "code",
   "execution_count": null,
   "metadata": {},
   "outputs": [],
   "source": []
  },
  {
   "cell_type": "code",
   "execution_count": null,
   "metadata": {},
   "outputs": [],
   "source": []
  },
  {
   "cell_type": "code",
   "execution_count": null,
   "metadata": {},
   "outputs": [],
   "source": []
  },
  {
   "cell_type": "code",
   "execution_count": null,
   "metadata": {},
   "outputs": [],
   "source": []
  },
  {
   "cell_type": "code",
   "execution_count": null,
   "metadata": {},
   "outputs": [],
   "source": []
  },
  {
   "cell_type": "code",
   "execution_count": null,
   "metadata": {},
   "outputs": [],
   "source": []
  }
 ],
 "metadata": {
  "kernelspec": {
   "display_name": "Python 3",
   "language": "python",
   "name": "python3"
  },
  "language_info": {
   "codemirror_mode": {
    "name": "ipython",
    "version": 3
   },
   "file_extension": ".py",
   "mimetype": "text/x-python",
   "name": "python",
   "nbconvert_exporter": "python",
   "pygments_lexer": "ipython3",
   "version": "3.10.8"
  },
  "orig_nbformat": 4,
  "vscode": {
   "interpreter": {
    "hash": "3c82aea9bf3f365190a7e416b607cf2c9372b04170f58ad31092367f98b9b5cc"
   }
  }
 },
 "nbformat": 4,
 "nbformat_minor": 2
}
