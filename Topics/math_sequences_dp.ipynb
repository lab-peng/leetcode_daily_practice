{
 "cells": [
  {
   "cell_type": "code",
   "execution_count": 2,
   "metadata": {},
   "outputs": [
    {
     "data": {
      "text/plain": [
       "610"
      ]
     },
     "execution_count": 2,
     "metadata": {},
     "output_type": "execute_result"
    }
   ],
   "source": [
    "# finonacci sequence\n",
    "def fib(n):\n",
    "    res = [None] * (n+1)\n",
    "    for i in range(n+1):\n",
    "        if i == 0 or i == 1:\n",
    "            res[i] = i\n",
    "        else:\n",
    "            res[i] = res[i-1] + res[i-2]\n",
    "    return res[-1]\n",
    "\n",
    "fib(15)"
   ]
  },
  {
   "cell_type": "code",
   "execution_count": 2,
   "metadata": {},
   "outputs": [
    {
     "name": "stdout",
     "output_type": "stream",
     "text": [
      "[5, 11, 17, 23, 29, 35, 41, 47, 53, 59, 65]\n"
     ]
    },
    {
     "data": {
      "text/plain": [
       "59"
      ]
     },
     "execution_count": 2,
     "metadata": {},
     "output_type": "execute_result"
    }
   ],
   "source": [
    "# arithmetic sequence\n",
    "def arithmetic(start, n, step):\n",
    "    res = [0] * (n+1)\n",
    "    for i in range(n+1):\n",
    "        if i == 0:\n",
    "            res[i] = start\n",
    "        else:\n",
    "            res[i] = res[i-1] + step\n",
    "    print(res)\n",
    "    return res[-2]\n",
    "\n",
    "arithmetic(5, 10, 6)"
   ]
  },
  {
   "cell_type": "code",
   "execution_count": 3,
   "metadata": {},
   "outputs": [
    {
     "name": "stdout",
     "output_type": "stream",
     "text": [
      "[2, 6, 18, 54, 162, 486, 1458, 4374, 13122, 39366, 118098]\n"
     ]
    },
    {
     "data": {
      "text/plain": [
       "39366"
      ]
     },
     "execution_count": 3,
     "metadata": {},
     "output_type": "execute_result"
    }
   ],
   "source": [
    "# geometric sequence\n",
    "def geometric(start, n, step):\n",
    "    res = [0] * (n+1)\n",
    "    for i in range(n+1):\n",
    "        if i == 0:\n",
    "            res[i] = start\n",
    "        else:\n",
    "            res[i] = res[i-1] * step\n",
    "    print(res)\n",
    "    return res[-2]\n",
    "\n",
    "geometric(2, 10, 3)"
   ]
  },
  {
   "cell_type": "code",
   "execution_count": 4,
   "metadata": {},
   "outputs": [
    {
     "data": {
      "text/plain": [
       "120"
      ]
     },
     "execution_count": 4,
     "metadata": {},
     "output_type": "execute_result"
    }
   ],
   "source": [
    "# factorial\n",
    "def fac(n):\n",
    "    res = [1] * (n+1)\n",
    "    for i in range(n+1):\n",
    "        if i == 0 or i == 1:\n",
    "            res[i] = 1\n",
    "        else:\n",
    "            res[i] = i * res[i-1]\n",
    "\n",
    "    # print(res)\n",
    "    return res[-1]\n",
    "\n",
    "fac(5)"
   ]
  },
  {
   "cell_type": "code",
   "execution_count": null,
   "metadata": {},
   "outputs": [],
   "source": []
  },
  {
   "cell_type": "code",
   "execution_count": null,
   "metadata": {},
   "outputs": [],
   "source": []
  },
  {
   "cell_type": "code",
   "execution_count": null,
   "metadata": {},
   "outputs": [],
   "source": []
  },
  {
   "cell_type": "code",
   "execution_count": null,
   "metadata": {},
   "outputs": [],
   "source": []
  }
 ],
 "metadata": {
  "kernelspec": {
   "display_name": "Python 3",
   "language": "python",
   "name": "python3"
  },
  "language_info": {
   "codemirror_mode": {
    "name": "ipython",
    "version": 3
   },
   "file_extension": ".py",
   "mimetype": "text/x-python",
   "name": "python",
   "nbconvert_exporter": "python",
   "pygments_lexer": "ipython3",
   "version": "3.11.2"
  },
  "orig_nbformat": 4,
  "vscode": {
   "interpreter": {
    "hash": "3c82aea9bf3f365190a7e416b607cf2c9372b04170f58ad31092367f98b9b5cc"
   }
  }
 },
 "nbformat": 4,
 "nbformat_minor": 2
}
