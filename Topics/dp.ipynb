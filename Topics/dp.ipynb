{
 "cells": [
  {
   "cell_type": "markdown",
   "metadata": {},
   "source": [
    "##### [Dynamic Programming Made Simple [Intro / Overview]](https://www.youtube.com/watch?v=Clp5c7HvLqs&list=PLDjGkpToBsYD84jKeZPgyJd4Vn2VL5zsB&index=2)\n"
   ]
  },
  {
   "cell_type": "code",
   "execution_count": 16,
   "metadata": {},
   "outputs": [
    {
     "data": {
      "text/plain": [
       "1"
      ]
     },
     "execution_count": 16,
     "metadata": {},
     "output_type": "execute_result"
    }
   ],
   "source": [
    "from typing import List\n",
    "# 62. Unique Paths  (Grid Traveler)\n",
    "class Solution:\n",
    "    def uniquePaths(self, m: int, n: int) -> int:\n",
    "        # recursive, pull or memoization\n",
    "        def grid_traveler(m, n, cache={}):\n",
    "            if (m, n) in cache:\n",
    "                return cache[(m, n)]\n",
    "            if m == 0 or n == 0:\n",
    "                return 0\n",
    "            if m == 1 and n == 1:\n",
    "                return 1\n",
    "            cache[(m, n)] = grid_traveler(m - 1, n, cache) + grid_traveler(m, n - 1, cache)\n",
    "            return cache[(m, n)]\n",
    "        return grid_traveler(m, n)\n",
    "\n",
    "        # iterative, push or tabulation\n",
    "        tab = [[0] * (n + 1) for _ in range(m + 1)]\n",
    "        tab[1][1] = 1\n",
    "        for r in range(m + 1):\n",
    "            for c in range(n + 1):\n",
    "                crt = tab[r][c]\n",
    "                if r > 0 and c > 0:\n",
    "                    tab[r][c] += tab[r][c - 1] + tab[r - 1][c]\n",
    "                elif r > 0:\n",
    "                    tab[r][c] += tab[r - 1][c]\n",
    "                elif c > 0:\n",
    "                    tab[r][c] += tab[r][c - 1]\n",
    "        return tab[m][n]\n",
    "\n",
    "m, n = 3, 2\n",
    "m, n = 3, 7\n",
    "m, n = 1, 1\n",
    "s = Solution()\n",
    "s.uniquePaths(m, n)"
   ]
  },
  {
   "cell_type": "code",
   "execution_count": 17,
   "metadata": {},
   "outputs": [
    {
     "data": {
      "text/plain": [
       "7"
      ]
     },
     "execution_count": 17,
     "metadata": {},
     "output_type": "execute_result"
    }
   ],
   "source": [
    "# 64. Minimum Path Sum\n",
    "class Solution:\n",
    "    def minPathSum(self, grid: List[List[int]]) -> int:\n",
    "        rows, cols = len(grid), len(grid[0])\n",
    "        for r in range(rows):\n",
    "            for c in range(cols):\n",
    "                crt = grid[r][c]\n",
    "                if r > 0 and c > 0:\n",
    "                    grid[r][c] = min(crt + grid[r - 1][c], crt + grid[r][c - 1])\n",
    "                elif r > 0:\n",
    "                    grid[r][c] = crt + grid[r - 1][c]\n",
    "                elif c > 0:\n",
    "                    grid[r][c] = crt + grid[r][c - 1]  \n",
    "        return grid[rows - 1][cols - 1]\n",
    "\n",
    "\n",
    "grid = [[1,3,1],[1,5,1],[4,2,1]]\n",
    "# grid = [[1,2,3],[4,5,6]]\n",
    "s = Solution()\n",
    "s.minPathSum(grid)"
   ]
  },
  {
   "cell_type": "code",
   "execution_count": 19,
   "metadata": {},
   "outputs": [],
   "source": [
    "# 1 3 6\n",
    "# 5 5 6"
   ]
  },
  {
   "cell_type": "markdown",
   "metadata": {},
   "source": [
    "##### Grokking Algorithms"
   ]
  },
  {
   "cell_type": "code",
   "execution_count": 20,
   "metadata": {},
   "outputs": [],
   "source": [
    "def knapsack(values, weights, capacity):\n",
    "    \"\"\"\n",
    "    Grokking Algorithm\n",
    "    \"\"\"\n",
    "    rows, cols = len(values) + 1, capacity + 1\n",
    "\n",
    "    m = [[0] * cols for _ in range(rows)]\n",
    "\n",
    "    for r in range(1, rows):\n",
    "        for c in range(1, cols):\n",
    "            v = values[r - 1]\n",
    "            w = weights[r - 1]\n",
    "            if c < w:\n",
    "                m[r][c] = m[r - 1][c]\n",
    "            else:\n",
    "                m[r][c] = max(m[r - 1][c], v + m[r - 1][c - w])\n",
    "    return m[-1][-1]"
   ]
  },
  {
   "cell_type": "code",
   "execution_count": 21,
   "metadata": {},
   "outputs": [
    {
     "data": {
      "text/plain": [
       "3500"
      ]
     },
     "execution_count": 21,
     "metadata": {},
     "output_type": "execute_result"
    }
   ],
   "source": [
    "values = [10, 3, 9, 5, 6]\n",
    "weights = [3, 1, 2, 2, 1]\n",
    "capacity = 6\n",
    "\n",
    "values = [3000, 1500, 2000]\n",
    "weights = [4, 1, 3]\n",
    "capacity = 4\n",
    "\n",
    "knapsack(values, weights, capacity)"
   ]
  },
  {
   "cell_type": "code",
   "execution_count": 22,
   "metadata": {},
   "outputs": [
    {
     "data": {
      "text/plain": [
       "2"
      ]
     },
     "execution_count": 22,
     "metadata": {},
     "output_type": "execute_result"
    }
   ],
   "source": [
    "s1, s2 = 'vista', 'hish'\n",
    "s1, s2 = 'hish', 'fish'\n",
    "s1, s2 = 'clues', 'blue'\n",
    "s1, s2 = 'fosh', 'fish'\n",
    "\n",
    "def longest_common_substring(s1, s2):\n",
    "    s1, s2 = (s1, s2) if len(s1) < len(s2) else (s2, s1)\n",
    "    m = [[0] * len(s1) for _ in range(len(s2))]\n",
    "    \n",
    "    ans = 0\n",
    "    for i in range(len(s1)):\n",
    "        for j in range(len(s2)):\n",
    "            if s1[i] == s2[j]:\n",
    "                m[i][j] = 1\n",
    "                if i != 0 and j != 0:\n",
    "                    m[i][j] = m[i - 1][j - 1] + 1\n",
    "                    ans = max(ans, m[i][j])\n",
    "\n",
    "    return ans\n",
    "\n",
    "longest_common_substring(s1, s2)"
   ]
  },
  {
   "cell_type": "code",
   "execution_count": 23,
   "metadata": {},
   "outputs": [
    {
     "data": {
      "text/plain": [
       "3"
      ]
     },
     "execution_count": 23,
     "metadata": {},
     "output_type": "execute_result"
    }
   ],
   "source": [
    "def longest_common_subsequence(s1, s2):\n",
    "    rows, cols = len(s1) + 1, len(s2) + 1\n",
    "    tab = [[0] * cols for _ in range(rows)]\n",
    "\n",
    "    for r in range(1, rows):\n",
    "        for c in range(1, cols):\n",
    "            if s1[r - 1] == s2[c - 1]:\n",
    "                tab[r][c] = tab[r - 1][c - 1] + 1\n",
    "            else:\n",
    "                tab[r][c] = max(tab[r - 1][c], tab[r][c - 1])\n",
    "    return tab[-1][-1]\n",
    "longest_common_subsequence('fishs', 'fosh') # 3\n",
    "# assert longest_common_subsequence('fort', 'fosh') == 2"
   ]
  },
  {
   "cell_type": "code",
   "execution_count": 24,
   "metadata": {},
   "outputs": [
    {
     "data": {
      "text/plain": [
       "3"
      ]
     },
     "execution_count": 24,
     "metadata": {},
     "output_type": "execute_result"
    }
   ],
   "source": [
    "text1, text2 = [\"b\", \"l\", \"u\", \"e\", \"s\"], [\"c\", \"l\", \"u\", \"e\", \"s\"]\n",
    "text1, text2 = 'fosh', 'fish'\n",
    "# text1, text2 = text2, text1\n",
    "# text1, text2 = 'oxcpqrsvwf', 'shmtulqrypy'\n",
    "\n",
    "def longest_common_subsequence(text1, text2):\n",
    "    rows, columns = len(text1) + 1, len(text2) + 1\n",
    "    tab = [[0] * columns for _ in range(rows)]\n",
    "    for r in range(1, rows):\n",
    "        for c in range(1, columns):\n",
    "            if text1[r - 1] == text2[c - 1]:\n",
    "                tab[r][c] = tab[r - 1][c - 1] + 1\n",
    "            else:\n",
    "                tab[r][c] = max(tab[r - 1][c], tab[r][c - 1])\n",
    "    return tab[-1][-1]\n",
    "\n",
    "\n",
    "longest_common_subsequence(text1, text2)"
   ]
  },
  {
   "cell_type": "markdown",
   "metadata": {},
   "source": [
    "##### Tech with Tim"
   ]
  },
  {
   "cell_type": "code",
   "execution_count": 25,
   "metadata": {},
   "outputs": [
    {
     "data": {
      "text/plain": [
       "7"
      ]
     },
     "execution_count": 25,
     "metadata": {},
     "output_type": "execute_result"
    }
   ],
   "source": [
    "# 53. Maximum Subarray\n",
    "class Solution:\n",
    "    def maxSubArray(self, nums: List[int]) -> int:\n",
    "        for i in range(1, len(nums)):\n",
    "            nums[i] = max(nums[i] + nums[i - 1], nums[i])\n",
    "        return max(nums)\n",
    "\n",
    "nums = [-2,1,-3,4,-1,2,1,-5,4]\n",
    "nums = [-7, 3, 4, -2, -3, 1, -3]\n",
    "s = Solution()\n",
    "s.maxSubArray(nums)\n",
    "\n",
    "# Minimum Sum Subarray:  I haven't found it on Leetcode yet\n",
    "# It's basically the same problem as above\n"
   ]
  },
  {
   "cell_type": "markdown",
   "metadata": {},
   "source": [
    "##### Alvin Zablan"
   ]
  },
  {
   "cell_type": "code",
   "execution_count": 26,
   "metadata": {},
   "outputs": [
    {
     "data": {
      "text/plain": [
       "False"
      ]
     },
     "execution_count": 26,
     "metadata": {},
     "output_type": "execute_result"
    }
   ],
   "source": [
    "# canSum(targetSum, numbers)\n",
    "class Solution:\n",
    "    def canChange(self, coins: List[int], amount: int) -> bool:\n",
    "        ln = amount + 1\n",
    "        tab = [False] * ln\n",
    "        tab[0] = True\n",
    "\n",
    "        for i in range(ln):\n",
    "            if tab[i]:\n",
    "                for c in coins:\n",
    "                    if i + c < ln:\n",
    "                        tab[i + c] = True\n",
    "                        if tab[-1]:\n",
    "                            return True\n",
    "        return tab[-1]\n",
    "\n",
    "\n",
    "coins, amount = [5, 3, 4], 7  # T\n",
    "# coins, amount = [2, 3], 7  # T\n",
    "# coins, amount = [5, 3, 4, 7], 7  # T\n",
    "# coins, amount = [2, 4], 7  # F\n",
    "# coins, amount = [2, 3, 5], 8 # T\n",
    "coins, amount = [7, 14], 300000 # F\n",
    "sln = Solution()\n",
    "sln.canChange(coins, amount)"
   ]
  },
  {
   "cell_type": "code",
   "execution_count": 27,
   "metadata": {},
   "outputs": [
    {
     "data": {
      "text/plain": [
       "[3, 4]"
      ]
     },
     "execution_count": 27,
     "metadata": {},
     "output_type": "execute_result"
    }
   ],
   "source": [
    "# howSum(targetSum, numbers)\n",
    "class Solution:\n",
    "    def howSum(self, coins: List[int], amount: int) -> List[int]:\n",
    "        ln = amount + 1\n",
    "        tab = [None] * ln\n",
    "        tab[0] = []\n",
    "\n",
    "        for i in range(ln):\n",
    "            if tab[i] is not None:\n",
    "                for c in coins:\n",
    "                    if i + c < ln:\n",
    "                        tab[i + c] = [*tab[i], c]\n",
    "                        if tab[-1] is not None:\n",
    "                            return tab[-1]\n",
    "        return tab[-1]\n",
    "\n",
    "coins, amount = [5, 3, 4], 7 # [3, 4]\n",
    "# coins, amount = [1, 2, 5], 5\n",
    "sln = Solution()\n",
    "sln.howSum(coins, amount)"
   ]
  },
  {
   "cell_type": "code",
   "execution_count": 28,
   "metadata": {},
   "outputs": [
    {
     "data": {
      "text/plain": [
       "[3, 4]"
      ]
     },
     "execution_count": 28,
     "metadata": {},
     "output_type": "execute_result"
    }
   ],
   "source": [
    "# bestSum(targetSum, numbers)\n",
    "class Solution:\n",
    "    def bestSum(self, coins: List[int], amount: int) -> List[int]:\n",
    "        ln = amount + 1\n",
    "        tab = [None] * ln\n",
    "        tab[0] = []\n",
    "\n",
    "        for i in range(ln):\n",
    "            if tab[i] is not None:\n",
    "                for c in coins:\n",
    "                    if i + c < ln:\n",
    "                        tab[i + c] = [*tab[i], c]\n",
    "                        if tab[-1] is not None:\n",
    "                            return tab[-1]\n",
    "        return tab[-1]\n",
    "\n",
    "coins, amount = [5, 3, 4], 7 # [3, 4]\n",
    "# coins, amount = [2, 3, 5], 8 #\n",
    "# coins, amount = [1, 2, 5], 5\n",
    "\n",
    "sln = Solution()\n",
    "sln.bestSum(coins, amount)"
   ]
  },
  {
   "cell_type": "code",
   "execution_count": null,
   "metadata": {},
   "outputs": [
    {
     "data": {
      "text/plain": [
       "2"
      ]
     },
     "execution_count": 359,
     "metadata": {},
     "output_type": "execute_result"
    }
   ],
   "source": [
    "# 322. Coin Change (a bestSum(targetSum, numbers) variation)\n",
    "class Solution:\n",
    "    def coinChange(self, coins: List[int], amount: int) -> int:\n",
    "        ln = amount + 1\n",
    "        tab = [ln] * ln\n",
    "        tab[0] = 0\n",
    "\n",
    "        for i in range(ln):\n",
    "            if tab[i] < ln:\n",
    "                for c in coins:\n",
    "                    if i + c < ln:\n",
    "                        tab[i + c] = min(tab[i] + 1, tab[i + c])\n",
    "        return tab[-1] if tab[-1] != ln else -1\n",
    "\n",
    "\n",
    "coins, amount = [2, 3, 5], 8  \n",
    "# coins, amount = [1, 2, 5], 11  \n",
    "# coins, amount = [2], 3 \n",
    "# coins, amount = [1], 0   \n",
    "sln = Solution()\n",
    "sln.coinChange(coins, amount)     "
   ]
  },
  {
   "cell_type": "code",
   "execution_count": 29,
   "metadata": {},
   "outputs": [
    {
     "data": {
      "text/plain": [
       "[[5], [1, 2, 2], [1, 1, 1, 2], [1, 1, 1, 1, 1]]"
      ]
     },
     "execution_count": 29,
     "metadata": {},
     "output_type": "execute_result"
    }
   ],
   "source": [
    "# allSum(targetSum, numbers)\n",
    "class Solution:\n",
    "    def allSum(self, coins: List[int], amount: int) -> List[int]:\n",
    "        ln = amount + 1\n",
    "        tab = [[] for _ in range(ln)]\n",
    "        tab[0] = [[]]\n",
    "\n",
    "        for i in range(ln):\n",
    "            if tab[i]:\n",
    "                for c in coins:\n",
    "                    if i + c < ln:\n",
    "                        combos = [sorted([*sub, c]) for sub in tab[i]]\n",
    "                        for com in combos:\n",
    "                            if com not in tab[i + c]:\n",
    "                                tab[i + c].append(com)\n",
    "        return tab[-1]\n",
    "\n",
    "coins, amount = [5, 3, 4], 7 # [3, 4]\n",
    "coins, amount = [1, 2, 5], 5\n",
    "sln = Solution()\n",
    "sln.allSum(coins, amount)"
   ]
  },
  {
   "cell_type": "code",
   "execution_count": 30,
   "metadata": {},
   "outputs": [
    {
     "data": {
      "text/plain": [
       "42"
      ]
     },
     "execution_count": 30,
     "metadata": {},
     "output_type": "execute_result"
    }
   ],
   "source": [
    "# 518. Coin Change II (an allSum(targetSum, numbers) variation)\n",
    "class Solution:\n",
    "    def change(self, amount: int, coins: List[int]) -> int:\n",
    "        rows, cols = len(coins) + 1, amount + 1\n",
    "        tab = [[1] + [0] * (cols - 1) for _ in range(rows)]\n",
    "\n",
    "        for r in range(1, rows):\n",
    "            for c in range(1, cols): \n",
    "                tab[r][c] = tab[r - 1][c]\n",
    "                if c >= coins[r - 1]:\n",
    "                    tab[r][c] += tab[r][c - coins[r - 1]]\n",
    "        return tab[rows - 1][cols - 1]\n",
    "\n",
    "\n",
    "coins, amount = [1, 2, 5], 25\n",
    "sln = Solution()\n",
    "sln.change(amount, coins)\n"
   ]
  },
  {
   "cell_type": "code",
   "execution_count": 31,
   "metadata": {},
   "outputs": [
    {
     "data": {
      "text/plain": [
       "True"
      ]
     },
     "execution_count": 31,
     "metadata": {},
     "output_type": "execute_result"
    }
   ],
   "source": [
    "# 139. Word Break (conConstruct(target, wordBank))\n",
    "class Solution:\n",
    "    def wordBreak(self, s: str, wordDict: List[str]) -> bool:\n",
    "        ln = len(s) + 1\n",
    "        tab = [False] * ln\n",
    "        tab[0] = True\n",
    "\n",
    "        for i in range(ln):\n",
    "            if tab[i]:\n",
    "                for word in wordDict:\n",
    "                    word_ln = len(word)\n",
    "                    if s[i: i + word_ln] == word:\n",
    "                        tab[i + word_ln] = True\n",
    "\n",
    "                        # Optional optimization\n",
    "                        if tab[-1]:\n",
    "                            return True\n",
    "        return tab[-1]\n",
    "\n",
    "s, wordDict = \"leetcode\", [\"leet\",\"code\"]\n",
    "s, wordDict = 'abcdef', ['ab', 'abc', 'cd', 'def', 'abcd']\n",
    "# s, wordDict = \"catsandog\", [\"cats\",\"dog\",\"sand\",\"and\",\"cat\"]\n",
    "sln = Solution()\n",
    "sln.wordBreak(s, wordDict)"
   ]
  },
  {
   "cell_type": "code",
   "execution_count": 32,
   "metadata": {},
   "outputs": [
    {
     "data": {
      "text/plain": [
       "3"
      ]
     },
     "execution_count": 32,
     "metadata": {},
     "output_type": "execute_result"
    }
   ],
   "source": [
    "# 91. Decode Ways (countConstruct(target, wordBank))\n",
    "class Solution:\n",
    "    def numDecodings(self, s: str) -> int:\n",
    "        ln = len(s) + 1\n",
    "        tab = [0] * ln\n",
    "        tab[0] = 1\n",
    "\n",
    "        for i in range(ln):\n",
    "            if tab[i]:\n",
    "                for l in range(1, 27):\n",
    "                    string = str(l)\n",
    "                    string_ln = len(string)\n",
    "                    if s[i: i + string_ln] == string:\n",
    "                        tab[i + string_ln] += tab[i]\n",
    "        return tab[-1]\n",
    "\n",
    "\n",
    "s = \"226\"\n",
    "sln = Solution()\n",
    "sln.numDecodings(s)"
   ]
  },
  {
   "cell_type": "code",
   "execution_count": null,
   "metadata": {},
   "outputs": [
    {
     "data": {
      "text/plain": [
       "['abc def', 'ab c def', 'abcd ef', 'ab cd ef']"
      ]
     },
     "execution_count": 263,
     "metadata": {},
     "output_type": "execute_result"
    }
   ],
   "source": [
    "# 140. Word Break II (allConstruct(target, wordBank))\n",
    "class Solution:\n",
    "    def wordBreak(self, s: str, wordDict: List[str]) -> List[str]:\n",
    "        ln = len(s) + 1\n",
    "        tab = [[] for _ in range(ln)]\n",
    "        tab[0] = [[]]\n",
    "\n",
    "        for i in range(ln):\n",
    "            if tab[i]:\n",
    "                for word in wordDict:\n",
    "                    word_ln = len(word)\n",
    "                    if s[i: i + word_ln] == word:\n",
    "                        combos = [[*sub, word] for sub in tab[i]]\n",
    "                        tab[i + word_ln].extend(combos)\n",
    "\n",
    "        return [' '.join(word) for word in tab[-1]]\n",
    "# s, wordDict = \"catsanddog\", [\"cat\",\"cats\",\"and\",\"sand\",\"dog\"]\n",
    "s, wordDict = 'abcdef', ['ab', 'abc', 'cd', 'def', 'abcd', 'ef', 'c']\n",
    "sln = Solution()\n",
    "sln.wordBreak(s, wordDict)"
   ]
  },
  {
   "cell_type": "code",
   "execution_count": null,
   "metadata": {},
   "outputs": [
    {
     "data": {
      "text/plain": [
       "4"
      ]
     },
     "execution_count": 406,
     "metadata": {},
     "output_type": "execute_result"
    }
   ],
   "source": [
    "# 516. Longest Palindromic Subsequence (max palin subsequence(structy.net))\n",
    "from functools import lru_cache\n",
    "class Solution:\n",
    "    def longestPalindromeSubseq(self, s: str) -> int:\n",
    "        @lru_cache(maxsize = 10_000)\n",
    "        def helper(s, l, r):\n",
    "            if l == r:\n",
    "                return 1\n",
    "            if l > r:\n",
    "                return 0\n",
    "\n",
    "            if s[l] == s[r]:\n",
    "                return 2 + helper(s, l + 1, r - 1)\n",
    "            else:\n",
    "                return max(helper(s, l + 1, r), helper(s, l, r - 1))\n",
    "\n",
    "        # def helper(s, l, r, cache={}):\n",
    "        #     if (l, r) in cache:\n",
    "        #         return cache[(l, r)]\n",
    "        #     if l == r:\n",
    "        #         return 1\n",
    "        #     if l > r:\n",
    "        #         return 0\n",
    "\n",
    "        #     if s[l] == s[r]:\n",
    "        #         cache[(l, r)] = 2 + helper(s, l + 1, r - 1, cache)\n",
    "        #     else:\n",
    "        #         cache[(l, r)] = max(helper(s, l + 1, r, cache), helper(s, l, r - 1, cache))\n",
    "\n",
    "        #     return cache[(l, r)]\n",
    "\n",
    "        return helper(s, 0, len(s) - 1)\n",
    "            \n",
    "\n",
    "s = \"bbbab\" # 4\n",
    "sln = Solution()\n",
    "sln.longestPalindromeSubseq(s)\n",
    "\n",
    "\n"
   ]
  },
  {
   "cell_type": "code",
   "execution_count": null,
   "metadata": {},
   "outputs": [
    {
     "data": {
      "text/plain": [
       "2"
      ]
     },
     "execution_count": 429,
     "metadata": {},
     "output_type": "execute_result"
    }
   ],
   "source": [
    "# 279. Perfect Squares (summing squares structy.net)\n",
    "class Solution:\n",
    "    def numSquares(self, n: int) -> int:\n",
    "        ln = n + 1\n",
    "        squares = [i * i for i in range(1, ln) if i * i <= n]\n",
    "        tab = [ln] * ln\n",
    "        tab[0] = 0\n",
    "        for i in range(ln):\n",
    "            if tab[i] < ln:\n",
    "                for s in squares:\n",
    "                    if i + s < ln:\n",
    "                        tab[i + s] = min(tab[i] + 1, tab[i + s])\n",
    "        return tab[-1]\n",
    "\n",
    "n = 13\n",
    "sln= Solution()\n",
    "sln.numSquares(n)\n"
   ]
  },
  {
   "cell_type": "markdown",
   "metadata": {},
   "source": [
    "##### Back to Back SWE"
   ]
  },
  {
   "cell_type": "code",
   "execution_count": 36,
   "metadata": {},
   "outputs": [
    {
     "data": {
      "text/plain": [
       "3"
      ]
     },
     "execution_count": 36,
     "metadata": {},
     "output_type": "execute_result"
    }
   ],
   "source": [
    "# Coin Change\n",
    "class Solution:\n",
    "    def coinChange(self, coins: List[int], amount: int) -> int:\n",
    "        ln = amount + 1\n",
    "        tab = [ln] * ln\n",
    "        tab[0] = 0\n",
    "        \n",
    "        for i in range(1, ln):\n",
    "            for c in coins:\n",
    "                if c <= amount:\n",
    "                    tab[i] = min(tab[i], tab[i - c] + 1)\n",
    "        return tab[-1] if tab[-1] != ln else -1  # Edge case when no combination is possible\n",
    "    \n",
    "coins, amount= [1,2,5], 11\n",
    "# coins, amount = [2], 3\n",
    "# coins, amount = [1], 0\n",
    "s = Solution()\n",
    "s.coinChange(coins, amount)"
   ]
  },
  {
   "cell_type": "code",
   "execution_count": null,
   "metadata": {},
   "outputs": [],
   "source": []
  },
  {
   "cell_type": "code",
   "execution_count": null,
   "metadata": {},
   "outputs": [],
   "source": []
  },
  {
   "cell_type": "code",
   "execution_count": null,
   "metadata": {},
   "outputs": [],
   "source": []
  },
  {
   "cell_type": "code",
   "execution_count": null,
   "metadata": {},
   "outputs": [],
   "source": []
  },
  {
   "cell_type": "code",
   "execution_count": null,
   "metadata": {},
   "outputs": [],
   "source": []
  },
  {
   "cell_type": "markdown",
   "metadata": {},
   "source": [
    "##### Extra"
   ]
  },
  {
   "cell_type": "code",
   "execution_count": 302,
   "metadata": {},
   "outputs": [
    {
     "data": {
      "text/plain": [
       "'bb'"
      ]
     },
     "execution_count": 302,
     "metadata": {},
     "output_type": "execute_result"
    }
   ],
   "source": [
    "\n",
    "# 5. Longest Palindromic Substring\n",
    "# How to track start and end is still confusing to me\n",
    "class Solution:\n",
    "    def longestPalindrome(self, s: str) -> str:\n",
    "        n = len(s)\n",
    "        tab = [[0] * n for _ in range(n)]\n",
    "\n",
    "        for d in range(n):  # d stands for diagonal\n",
    "            for r in range(n - d):\n",
    "                c = r + d\n",
    "                if r == c:\n",
    "                    tab[r][c] = 1\n",
    "                    start, end = r, c\n",
    "                elif c - r == 1:\n",
    "                    if s[r] == s[c]:\n",
    "                        tab[r][c] = 1\n",
    "                        start, end = r, c\n",
    "                else: \n",
    "                    if s[r] == s[c] and tab[r + 1][c - 1]:\n",
    "                        tab[r][c] = 1\n",
    "                        start, end = r, c        \n",
    "        return s[start: end + 1]\n",
    "        # return tab, (start, end), (r, c, d), s[start: end + 1]\n",
    "sln = Solution()\n",
    "s = 'aaba'\n",
    "s = \"babadd\"\n",
    "s = 'cbacbd'\n",
    "s = \"aacabdkacaa\"\n",
    "s = 'cbbd'\n",
    "sln.longestPalindrome(s)"
   ]
  },
  {
   "cell_type": "code",
   "execution_count": 209,
   "metadata": {},
   "outputs": [
    {
     "name": "stdout",
     "output_type": "stream",
     "text": [
      "[[1, 0, 0, 0, 0, 0], [0, 1, 0, 0, 0, 0], [0, 0, 1, 0, 0, 0], [0, 0, 0, 1, 0, 0], [0, 0, 0, 0, 1, 0], [0, 0, 0, 0, 0, 1]]\n"
     ]
    },
    {
     "data": {
      "text/plain": [
       "('c',\n",
       " [[1, 0, 0, 0, 0, 0],\n",
       "  [0, 1, 0, 0, 0, 0],\n",
       "  [0, 0, 1, 0, 0, 0],\n",
       "  [0, 0, 0, 1, 0, 0],\n",
       "  [0, 0, 0, 0, 1, 0],\n",
       "  [0, 0, 0, 0, 0, 1]])"
      ]
     },
     "execution_count": 209,
     "metadata": {},
     "output_type": "execute_result"
    }
   ],
   "source": [
    "def longestPalSubstr(st):\n",
    "    # GeeksforGeeks Solution\n",
    "    n = len(st)\n",
    "    # table[i][j] will be True only if substring str[i+1..j-1] is \n",
    "    # also a palindrome AND str[i] == str[j]\n",
    "    table = [[0] * n for _ in range(n)]\n",
    " \n",
    "    # All substrings of length 1 are palindromes\n",
    "    ln = 1\n",
    "    for i in range(n):\n",
    "        table[i][i] = 1\n",
    "\n",
    "    # Check for sub-string of length 2.\n",
    "    start = 0\n",
    "    for i in range(n - 1):\n",
    "        if st[i] == st[i + 1]:\n",
    "            table[i][i + 1] = 1\n",
    "            start = i\n",
    "            ln = 2\n",
    "\n",
    "    for k in range(3, n + 1):\n",
    " \n",
    "        for i in range(n - k + 1):\n",
    "        \n",
    "            # Get the ending index of\n",
    "            # substring from starting\n",
    "            # index i and length k\n",
    "            j = i + k - 1\n",
    " \n",
    "            # Checking for sub-string from\n",
    "            # ith index to jth index if\n",
    "            # st[i + 1] to st[(j-1)] is a\n",
    "            # palindrome\n",
    "            if table[i + 1][j - 1] and st[i] == st[j]:\n",
    "                table[i][j] = 1\n",
    " \n",
    "                if (k > ln):\n",
    "                    start = i\n",
    "                    ln = k\n",
    "    print(table)\n",
    "    # return ln, (start, start + ln), st[start: start + ln]\n",
    "    return st[start: start + ln], table\n",
    "\n",
    "# s = 'bckbab'\n",
    "# s = \"babadd\"\n",
    "s = 'cbacbd'\n",
    "# s = \"aacabdkacaa\"\n",
    "longestPalSubstr(s)"
   ]
  },
  {
   "cell_type": "code",
   "execution_count": 216,
   "metadata": {},
   "outputs": [
    {
     "data": {
      "text/plain": [
       "(1, [[1, 2, 3, 4], [1, 2, 3, 4], [1, 2, 3, 4], [1, 2, 3, 4]])"
      ]
     },
     "execution_count": 216,
     "metadata": {},
     "output_type": "execute_result"
    }
   ],
   "source": [
    "x = [[i for i in range(1, 5)] for _ in range(1, 5)]\n",
    "def func():\n",
    "    return 1, x\n",
    "\n",
    "func()"
   ]
  },
  {
   "cell_type": "code",
   "execution_count": 217,
   "metadata": {},
   "outputs": [
    {
     "name": "stdout",
     "output_type": "stream",
     "text": [
      "0 0\n",
      "1 1\n",
      "2 2\n",
      "3 3\n",
      "0 1\n",
      "1 2\n",
      "2 3\n",
      "0 2\n",
      "1 3\n",
      "0 3\n"
     ]
    }
   ],
   "source": [
    "n = len(x)\n",
    "for d in range(n):\n",
    "    for r in range(n - d):\n",
    "        c = r + d\n",
    "        print(r, c)"
   ]
  },
  {
   "cell_type": "code",
   "execution_count": 253,
   "metadata": {},
   "outputs": [
    {
     "data": {
      "text/plain": [
       "0"
      ]
     },
     "execution_count": 253,
     "metadata": {},
     "output_type": "execute_result"
    }
   ],
   "source": [
    "from typing import List\n",
    "class Solution:\n",
    "    def findMin(self, nums: List[int]) -> int:\n",
    "        l,  r = 0,  len(nums) - 1\n",
    "        while l <= r:\n",
    "            if nums[l] < nums[r]:\n",
    "                return l\n",
    "            else:\n",
    "                m = (l + r) // 2\n",
    "                if nums[l] < nums[m]:\n",
    "                    l = m + 1\n",
    "                else:\n",
    "                    r = m\n",
    "                print(l, r)\n",
    "                return nums[l]\n",
    "\n",
    "nums = [3,4,5,1,2]\n",
    "nums = [4,5,6,7,0,1,2]\n",
    "nums = [11,13,15,17]\n",
    "sln = Solution()\n",
    "sln.findMin(nums)"
   ]
  },
  {
   "cell_type": "code",
   "execution_count": 276,
   "metadata": {},
   "outputs": [
    {
     "data": {
      "text/plain": [
       "-1"
      ]
     },
     "execution_count": 276,
     "metadata": {},
     "output_type": "execute_result"
    }
   ],
   "source": [
    "class Solution:\n",
    "    def search(self, nums: List[int], target: int) -> int:\n",
    "        l, r = 0, len(nums) - 1\n",
    "\n",
    "        while l <= r:\n",
    "            m = (l + r) // 2\n",
    "            if target == nums[m]:\n",
    "                return m\n",
    "            elif target < nums[m]:\n",
    "                if nums[l] > nums[m] or target >= nums[l]:\n",
    "                    r = m - 1\n",
    "                else:\n",
    "                    l = m + 1\n",
    "            elif target > nums[m]:\n",
    "                if nums[m] > nums[r] or target <= nums[r]:\n",
    "                    l = m + 1\n",
    "                else:\n",
    "                    r = m - 1\n",
    "        return -1\n",
    "nums, target = [4,5,6,7,0,1,2], 0\n",
    "nums, target = [4,5,6,7,0,1,2], 3\n",
    "nums, target = [1], 0\n",
    "sln = Solution()\n",
    "sln.search(nums, target)"
   ]
  },
  {
   "cell_type": "code",
   "execution_count": 300,
   "metadata": {},
   "outputs": [
    {
     "data": {
      "text/plain": [
       "(4, 'aaba', 1)"
      ]
     },
     "execution_count": 300,
     "metadata": {},
     "output_type": "execute_result"
    }
   ],
   "source": [
    "def count_palin(s: str, l: int, r: int) -> int:\n",
    "    ln = len(s)\n",
    "    count = 0\n",
    "    while l in range(ln) and r in range(ln) and s[l] == s[r]:\n",
    "        count += 1\n",
    "        l -= 1\n",
    "        r += 1\n",
    "    return (r - l - 1), s[l + 1: r], count\n",
    "\n",
    "\n",
    "count_palin('aaba', 0, 3)"
   ]
  },
  {
   "cell_type": "code",
   "execution_count": null,
   "metadata": {},
   "outputs": [],
   "source": []
  }
 ],
 "metadata": {
  "kernelspec": {
   "display_name": "Python 3",
   "language": "python",
   "name": "python3"
  },
  "language_info": {
   "codemirror_mode": {
    "name": "ipython",
    "version": 3
   },
   "file_extension": ".py",
   "mimetype": "text/x-python",
   "name": "python",
   "nbconvert_exporter": "python",
   "pygments_lexer": "ipython3",
   "version": "3.11.2"
  },
  "orig_nbformat": 4,
  "vscode": {
   "interpreter": {
    "hash": "3c82aea9bf3f365190a7e416b607cf2c9372b04170f58ad31092367f98b9b5cc"
   }
  }
 },
 "nbformat": 4,
 "nbformat_minor": 2
}
