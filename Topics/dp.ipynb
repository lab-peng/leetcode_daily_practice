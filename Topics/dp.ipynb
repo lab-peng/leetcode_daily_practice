{
 "cells": [
  {
   "cell_type": "markdown",
   "metadata": {},
   "source": [
    "##### [Dynamic Programming Made Simple [Intro / Overview]](https://www.youtube.com/watch?v=Clp5c7HvLqs&list=PLDjGkpToBsYD84jKeZPgyJd4Vn2VL5zsB&index=2)\n"
   ]
  },
  {
   "cell_type": "code",
   "execution_count": 145,
   "metadata": {},
   "outputs": [
    {
     "data": {
      "text/plain": [
       "1"
      ]
     },
     "execution_count": 145,
     "metadata": {},
     "output_type": "execute_result"
    }
   ],
   "source": [
    "from typing import List\n",
    "# 62. Unique Paths  (Grid Traveler)\n",
    "class Solution:\n",
    "    def uniquePaths(self, m: int, n: int) -> int:\n",
    "        # recursive, pull or memoization\n",
    "        def grid_traveler(m, n, cache={}):\n",
    "            if (m, n) in cache:\n",
    "                return cache[(m, n)]\n",
    "            if m == 0 or n == 0:\n",
    "                return 0\n",
    "            if m == 1 and n == 1:\n",
    "                return 1\n",
    "            cache[(m, n)] = grid_traveler(m - 1, n, cache) + grid_traveler(m, n - 1, cache)\n",
    "            return cache[(m, n)]\n",
    "        return grid_traveler(m, n)\n",
    "\n",
    "        # iterative, push or tabulation\n",
    "        tab = [[0] * (n + 1) for _ in range(m + 1)]\n",
    "        tab[1][1] = 1\n",
    "        for r in range(m + 1):\n",
    "            for c in range(n + 1):\n",
    "                crt = tab[r][c]\n",
    "                if r > 0 and c > 0:\n",
    "                    tab[r][c] += tab[r][c - 1] + tab[r - 1][c]\n",
    "                elif r > 0:\n",
    "                    tab[r][c] += tab[r - 1][c]\n",
    "                elif c > 0:\n",
    "                    tab[r][c] += tab[r][c - 1]\n",
    "        return tab[m][n]\n",
    "\n",
    "m, n = 3, 2\n",
    "m, n = 3, 7\n",
    "m, n = 1, 1\n",
    "s = Solution()\n",
    "s.uniquePaths(m, n)"
   ]
  },
  {
   "cell_type": "code",
   "execution_count": 147,
   "metadata": {},
   "outputs": [
    {
     "data": {
      "text/plain": [
       "7"
      ]
     },
     "execution_count": 147,
     "metadata": {},
     "output_type": "execute_result"
    }
   ],
   "source": [
    "# 64. Minimum Path Sum\n",
    "class Solution:\n",
    "    def minPathSum(self, grid: List[List[int]]) -> int:\n",
    "        rows, cols = len(grid), len(grid[0])\n",
    "        for r in range(rows):\n",
    "            for c in range(cols):\n",
    "                crt = grid[r][c]\n",
    "                if r > 0 and c > 0:\n",
    "                    grid[r][c] = min(crt + grid[r - 1][c], crt + grid[r][c - 1])\n",
    "                elif r > 0:\n",
    "                    grid[r][c] = crt + grid[r - 1][c]\n",
    "                elif c > 0:\n",
    "                    grid[r][c] = crt + grid[r][c - 1]  \n",
    "        return grid[rows - 1][cols - 1]\n",
    "\n",
    "\n",
    "grid = [[1,3,1],[1,5,1],[4,2,1]]\n",
    "# grid = [[1,2,3],[4,5,6]]\n",
    "s = Solution()\n",
    "s.minPathSum(grid)"
   ]
  },
  {
   "cell_type": "code",
   "execution_count": null,
   "metadata": {},
   "outputs": [],
   "source": [
    "1 3 6\n",
    "5 5 6"
   ]
  },
  {
   "cell_type": "markdown",
   "metadata": {},
   "source": [
    "##### Grokking Algorithms"
   ]
  },
  {
   "cell_type": "code",
   "execution_count": 1,
   "metadata": {},
   "outputs": [],
   "source": [
    "def knapsack(values, weights, capacity):\n",
    "    \"\"\"\n",
    "    Grokking Algorithm\n",
    "    \"\"\"\n",
    "    m = [[0] * (capacity + 1) for _ in range(len(values) + 1)]\n",
    "\n",
    "    for i in range(1, len(m)):\n",
    "        for j in range(1, len(m[0])):\n",
    "            v = values[i - 1]\n",
    "            w = weights[i - 1]\n",
    "            if j < w:\n",
    "                m[i][j] = m[i - 1][j]\n",
    "            else:\n",
    "                m[i][j] = max(m[i - 1][j], v + m[i - 1][j - w])\n",
    "    return m[-1][-1]"
   ]
  },
  {
   "cell_type": "code",
   "execution_count": 2,
   "metadata": {},
   "outputs": [
    {
     "data": {
      "text/plain": [
       "3500"
      ]
     },
     "execution_count": 2,
     "metadata": {},
     "output_type": "execute_result"
    }
   ],
   "source": [
    "values = [10, 3, 9, 5, 6]\n",
    "weights = [3, 1, 2, 2, 1]\n",
    "capacity = 6\n",
    "\n",
    "values = [1500, 2000, 3000]\n",
    "weights = [1, 3, 4]\n",
    "capacity = 4\n",
    "\n",
    "knapsack(values, weights, capacity)"
   ]
  },
  {
   "cell_type": "code",
   "execution_count": 4,
   "metadata": {},
   "outputs": [
    {
     "data": {
      "text/plain": [
       "2"
      ]
     },
     "execution_count": 4,
     "metadata": {},
     "output_type": "execute_result"
    }
   ],
   "source": [
    "s1, s2 = 'vista', 'hish'\n",
    "s1, s2 = 'hish', 'fish'\n",
    "s1, s2 = 'clues', 'blue'\n",
    "s1, s2 = 'fosh', 'fish'\n",
    "\n",
    "def longest_common_substring(s1, s2):\n",
    "    s1, s2 = (s1, s2) if len(s1) < len(s2) else (s2, s1)\n",
    "    m = [[0] * len(s1) for _ in range(len(s2))]\n",
    "    \n",
    "    ans = 0\n",
    "    for i in range(len(s1)):\n",
    "        for j in range(len(s2)):\n",
    "            if s1[i] == s2[j]:\n",
    "                m[i][j] = 1\n",
    "                if i != 0 and j != 0:\n",
    "                    m[i][j] = m[i - 1][j - 1] + 1\n",
    "                    ans = max(ans, m[i][j])\n",
    "\n",
    "    return ans\n",
    "\n",
    "longest_common_substring(s1, s2)"
   ]
  },
  {
   "cell_type": "code",
   "execution_count": 6,
   "metadata": {},
   "outputs": [],
   "source": [
    "def longest_common_subsequence(s1, s2):\n",
    "    s1, s2 = (s1, s2) if len(s1) < len(s2) else (s2, s1)\n",
    "    m = [[0] * len(s1) for _ in range(len(s2))]\n",
    "    \n",
    "    ans = 0\n",
    "    for i in range(len(s1)):\n",
    "        for j in range(len(s2)):\n",
    "            if s1[i] == s2[j]:\n",
    "                m[i][j] = 1\n",
    "                if i != 0 and j != 0:\n",
    "                    m[i][j] = m[i - 1][j - 1] + 1\n",
    "            else:\n",
    "                if i != 0 and j != 0:\n",
    "                    m[i][j] = max(m[i-1][j], m[i][j-1])\n",
    "            ans = max(ans, m[i][j])\n",
    "\n",
    "    return ans\n",
    "\n",
    "# assert longest_common_subsequence('fishs', 'fosh') == 3\n",
    "assert longest_common_subsequence('fort', 'fosh') == 2"
   ]
  },
  {
   "cell_type": "code",
   "execution_count": 7,
   "metadata": {},
   "outputs": [
    {
     "data": {
      "text/plain": [
       "2"
      ]
     },
     "execution_count": 7,
     "metadata": {},
     "output_type": "execute_result"
    }
   ],
   "source": [
    "text1, text2 = [\"b\", \"l\", \"u\", \"e\", \"s\"], [\"c\", \"l\", \"u\", \"e\", \"s\"]\n",
    "# text1, text2 = 'fosh', 'fish'\n",
    "# text1, text2 = text2, text1\n",
    "text1, text2 = 'oxcpqrsvwf', 'shmtulqrypy'\n",
    "\n",
    "def longest_common_subsequence(text1, text2):\n",
    "    rows, columns = len(text1) + 1, len(text2) + 1\n",
    "    m = [[0] * columns for _ in range(rows)]\n",
    "    for i in range(1, rows):\n",
    "        for j in range(1, columns):\n",
    "            if text1[i - 1] == text2[j - 1]:\n",
    "                m[i][j] = m[i - 1][j - 1] + 1\n",
    "            else:\n",
    "                m[i][j] = max(m[i - 1][j], m[i][j - 1])\n",
    "\n",
    "    return m[-1][-1]\n",
    "\n",
    "\n",
    "longest_common_subsequence(text1, text2)"
   ]
  },
  {
   "cell_type": "markdown",
   "metadata": {},
   "source": [
    "#### Tech with Tim"
   ]
  },
  {
   "cell_type": "code",
   "execution_count": 152,
   "metadata": {},
   "outputs": [
    {
     "data": {
      "text/plain": [
       "7"
      ]
     },
     "execution_count": 152,
     "metadata": {},
     "output_type": "execute_result"
    }
   ],
   "source": [
    "# 53. Maximum Subarray\n",
    "class Solution:\n",
    "    def maxSubArray(self, nums: List[int]) -> int:\n",
    "        # mx = nums[0]\n",
    "        # for i in range(1, len(nums)):\n",
    "        #     nums[i] = max(nums[i] + nums[i-1], nums[i])\n",
    "        #     mx = max(mx, nums[i])\n",
    "        # return mx\n",
    "\n",
    "        for i in range(1, len(nums)):\n",
    "            nums[i] = max(nums[i] + nums[i - 1], nums[i])\n",
    "        return max(nums)\n",
    "\n",
    "nums = [-2,1,-3,4,-1,2,1,-5,4]\n",
    "nums = [-7, 3, 4, -2, -3, 1, -3]\n",
    "s = Solution()\n",
    "s.maxSubArray(nums)\n",
    "\n",
    "# Minimum Sum Subarray:  I haven't found it on Leetcode yet\n",
    "# It's basically the same problem as above\n"
   ]
  },
  {
   "cell_type": "markdown",
   "metadata": {},
   "source": [
    "##### Alvin Zablan"
   ]
  },
  {
   "cell_type": "code",
   "execution_count": 199,
   "metadata": {},
   "outputs": [
    {
     "data": {
      "text/plain": [
       "3"
      ]
     },
     "execution_count": 199,
     "metadata": {},
     "output_type": "execute_result"
    }
   ],
   "source": [
    "# 322. Coin Change  (bestSum)\n",
    "class Solution:\n",
    "    def coinChange(self, coins: List[int], amount: int) -> int:\n",
    "        tab = [None] * (amount + 1)\n",
    "        tab[0] = []\n",
    "        for i in range(amount + 1):\n",
    "            if tab[i] is not None:\n",
    "                for c in coins:\n",
    "                    combos = [*tab[i], c]\n",
    "                    try:\n",
    "                        if not (i + c >= len(tab) or tab[i + c]) or len(tab[i + c]) > len(combos):\n",
    "                            tab[i + c] = combos\n",
    "                    except:\n",
    "                        pass\n",
    "        return len(tab[amount]) if tab[amount] is not None else -1\n",
    "\n",
    "\n",
    "coins, amount = [1,2,5], 11\n",
    "s = Solution()\n",
    "s.coinChange(coins, amount)"
   ]
  },
  {
   "cell_type": "code",
   "execution_count": 264,
   "metadata": {},
   "outputs": [
    {
     "data": {
      "text/plain": [
       "True"
      ]
     },
     "execution_count": 264,
     "metadata": {},
     "output_type": "execute_result"
    }
   ],
   "source": [
    "# 139. Word Break (conConstruct(target, wordBank))\n",
    "class Solution:\n",
    "    def wordBreak(self, s: str, wordDict: List[str]) -> bool:\n",
    "        tab = [False] * (len(s) + 1)\n",
    "        tab[0] = True\n",
    "\n",
    "        for i in range(len(tab)):\n",
    "            if tab[i]:\n",
    "                for word in wordDict:\n",
    "                    if s[i: i + len(word)] == word:\n",
    "                        tab[i + len(word)] = True\n",
    "            # print(tab)\n",
    "        return tab[-1]\n",
    "\n",
    "s, wordDict = \"leetcode\", [\"leet\",\"code\"]\n",
    "s, wordDict = 'abcdef', ['ab', 'abc', 'cd', 'def', 'abcd']\n",
    "# s, wordDict = \"catsandog\", [\"cats\",\"dog\",\"sand\",\"and\",\"cat\"]\n",
    "sln = Solution()\n",
    "sln.wordBreak(s, wordDict)"
   ]
  },
  {
   "cell_type": "code",
   "execution_count": 263,
   "metadata": {},
   "outputs": [
    {
     "data": {
      "text/plain": [
       "['abc def', 'ab c def', 'abcd ef', 'ab cd ef']"
      ]
     },
     "execution_count": 263,
     "metadata": {},
     "output_type": "execute_result"
    }
   ],
   "source": [
    "# 140. Word Break II (allConstruct(target, wordBank))\n",
    "class Solution:\n",
    "    def wordBreak(self, s: str, wordDict: List[str]) -> List[str]:\n",
    "        tab = [[] for _ in range(len(s) + 1)]\n",
    "        tab[0] = [[]]\n",
    "        for i in range(len(tab)):\n",
    "            for word in wordDict:\n",
    "                if s[i: i + len(word)] == word:\n",
    "                    combos = [[*sub, word] for sub in tab[i]]\n",
    "                    for com in combos:\n",
    "                        tab[i + len(word)].append(com)\n",
    "        return [' '.join(word) for word in tab[-1]]\n",
    "# s, wordDict = \"catsanddog\", [\"cat\",\"cats\",\"and\",\"sand\",\"dog\"]\n",
    "s, wordDict = 'abcdef', ['ab', 'abc', 'cd', 'def', 'abcd', 'ef', 'c']\n",
    "sln = Solution()\n",
    "sln.wordBreak(s, wordDict)"
   ]
  },
  {
   "cell_type": "code",
   "execution_count": null,
   "metadata": {},
   "outputs": [],
   "source": []
  },
  {
   "cell_type": "code",
   "execution_count": null,
   "metadata": {},
   "outputs": [],
   "source": []
  }
 ],
 "metadata": {
  "kernelspec": {
   "display_name": "Python 3",
   "language": "python",
   "name": "python3"
  },
  "language_info": {
   "codemirror_mode": {
    "name": "ipython",
    "version": 3
   },
   "file_extension": ".py",
   "mimetype": "text/x-python",
   "name": "python",
   "nbconvert_exporter": "python",
   "pygments_lexer": "ipython3",
   "version": "3.11.2"
  },
  "orig_nbformat": 4,
  "vscode": {
   "interpreter": {
    "hash": "3c82aea9bf3f365190a7e416b607cf2c9372b04170f58ad31092367f98b9b5cc"
   }
  }
 },
 "nbformat": 4,
 "nbformat_minor": 2
}
