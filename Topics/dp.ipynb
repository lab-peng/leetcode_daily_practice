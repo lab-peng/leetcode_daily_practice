{
 "cells": [
  {
   "cell_type": "code",
   "execution_count": 2,
   "metadata": {},
   "outputs": [],
   "source": [
    "def knapsack(values, weights, capacity):\n",
    "    \"\"\"\n",
    "    Grokking Algorithm\n",
    "    \"\"\"\n",
    "    m = [[0] * (capacity + 1) for _ in range(len(values) + 1)]\n",
    "\n",
    "    for i in range(1, len(m)):\n",
    "        for j in range(1, len(m[0])):\n",
    "            v = values[i - 1]\n",
    "            w = weights[i - 1]\n",
    "            if j < w:\n",
    "                m[i][j] = m[i - 1][j]\n",
    "            else:\n",
    "                m[i][j] = max(m[i - 1][j], v + m[i - 1][j - w])\n",
    "    return m[-1][-1]\n"
   ]
  },
  {
   "cell_type": "code",
   "execution_count": 3,
   "metadata": {},
   "outputs": [
    {
     "data": {
      "text/plain": [
       "3500"
      ]
     },
     "execution_count": 3,
     "metadata": {},
     "output_type": "execute_result"
    }
   ],
   "source": [
    "values = [10, 3, 9, 5, 6]\n",
    "weights = [3, 1, 2, 2, 1]\n",
    "capacity = 6\n",
    "\n",
    "values = [1500, 2000, 3000]\n",
    "weights = [1, 3, 4]\n",
    "capacity = 4\n",
    "\n",
    "knapsack(values, weights, capacity)"
   ]
  },
  {
   "cell_type": "code",
   "execution_count": 4,
   "metadata": {},
   "outputs": [
    {
     "data": {
      "text/plain": [
       "2"
      ]
     },
     "execution_count": 4,
     "metadata": {},
     "output_type": "execute_result"
    }
   ],
   "source": [
    "s1, s2 = 'vista', 'hish'\n",
    "s1, s2 = 'hish', 'fish'\n",
    "s1, s2 = 'clues', 'blue'\n",
    "s1, s2 = 'fosh', 'fish'\n",
    "\n",
    "def longest_common_substring(s1, s2):\n",
    "    s1, s2 = (s1, s2) if len(s1) < len(s2) else (s2, s1)\n",
    "    m = [[0] * len(s1) for _ in range(len(s2))]\n",
    "    \n",
    "    ans = 0\n",
    "    for i in range(len(s1)):\n",
    "        for j in range(len(s2)):\n",
    "            if s1[i] == s2[j]:\n",
    "                m[i][j] = 1\n",
    "                if i != 0 and j != 0:\n",
    "                    m[i][j] = m[i - 1][j - 1] + 1\n",
    "                    ans = max(ans, m[i][j])\n",
    "\n",
    "    return ans\n",
    "\n",
    "longest_common_substring(s1, s2)"
   ]
  },
  {
   "cell_type": "code",
   "execution_count": 6,
   "metadata": {},
   "outputs": [],
   "source": [
    "def longest_common_subsequence(s1, s2):\n",
    "    s1, s2 = (s1, s2) if len(s1) < len(s2) else (s2, s1)\n",
    "    m = [[0] * len(s1) for _ in range(len(s2))]\n",
    "    \n",
    "    ans = 0\n",
    "    for i in range(len(s1)):\n",
    "        for j in range(len(s2)):\n",
    "            if s1[i] == s2[j]:\n",
    "                m[i][j] = 1\n",
    "                if i != 0 and j != 0:\n",
    "                    m[i][j] = m[i - 1][j - 1] + 1\n",
    "            else:\n",
    "                if i != 0 and j != 0:\n",
    "                    m[i][j] = max(m[i-1][j], m[i][j-1])\n",
    "            ans = max(ans, m[i][j])\n",
    "\n",
    "    return ans\n",
    "\n",
    "# assert longest_common_subsequence('fishs', 'fosh') == 3\n",
    "assert longest_common_subsequence('fort', 'fosh') == 2"
   ]
  },
  {
   "cell_type": "code",
   "execution_count": 7,
   "metadata": {},
   "outputs": [
    {
     "data": {
      "text/plain": [
       "2"
      ]
     },
     "execution_count": 7,
     "metadata": {},
     "output_type": "execute_result"
    }
   ],
   "source": [
    "text1, text2 = [\"b\", \"l\", \"u\", \"e\", \"s\"], [\"c\", \"l\", \"u\", \"e\", \"s\"]\n",
    "# text1, text2 = 'fosh', 'fish'\n",
    "# text1, text2 = text2, text1\n",
    "text1, text2 = 'oxcpqrsvwf', 'shmtulqrypy'\n",
    "\n",
    "def longest_common_subsequence(text1, text2):\n",
    "    rows, columns = len(text1) + 1, len(text2) + 1\n",
    "    m = [[0] * columns for _ in range(rows)]\n",
    "    for i in range(1, rows):\n",
    "        for j in range(1, columns):\n",
    "            if text1[i - 1] == text2[j - 1]:\n",
    "                m[i][j] = m[i - 1][j - 1] + 1\n",
    "            else:\n",
    "                m[i][j] = max(m[i - 1][j], m[i][j - 1])\n",
    "\n",
    "    return m[-1][-1]\n",
    "\n",
    "\n",
    "longest_common_subsequence(text1, text2)"
   ]
  },
  {
   "cell_type": "code",
   "execution_count": null,
   "metadata": {},
   "outputs": [],
   "source": []
  },
  {
   "cell_type": "code",
   "execution_count": null,
   "metadata": {},
   "outputs": [],
   "source": []
  },
  {
   "cell_type": "code",
   "execution_count": null,
   "metadata": {},
   "outputs": [],
   "source": []
  }
 ],
 "metadata": {
  "kernelspec": {
   "display_name": "Python 3",
   "language": "python",
   "name": "python3"
  },
  "language_info": {
   "codemirror_mode": {
    "name": "ipython",
    "version": 3
   },
   "file_extension": ".py",
   "mimetype": "text/x-python",
   "name": "python",
   "nbconvert_exporter": "python",
   "pygments_lexer": "ipython3",
   "version": "3.11.2"
  },
  "orig_nbformat": 4,
  "vscode": {
   "interpreter": {
    "hash": "3c82aea9bf3f365190a7e416b607cf2c9372b04170f58ad31092367f98b9b5cc"
   }
  }
 },
 "nbformat": 4,
 "nbformat_minor": 2
}
