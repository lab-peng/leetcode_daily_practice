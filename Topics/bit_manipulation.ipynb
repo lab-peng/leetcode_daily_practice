{
 "cells": [
  {
   "cell_type": "code",
   "execution_count": 30,
   "metadata": {},
   "outputs": [
    {
     "name": "stdout",
     "output_type": "stream",
     "text": [
      "101101110110101\n",
      "111100111101101\n",
      "101100110100101 22949\n",
      "111101111111101 31741\n",
      "10001001011000 8792\n"
     ]
    }
   ],
   "source": [
    "from numpy import base_repr\n",
    "# Basics\n",
    "n1 = 23477\n",
    "n2 = 31213\n",
    "# AND: &\n",
    "print(base_repr(n1))\n",
    "print(base_repr(n2))\n",
    "print(base_repr(n1 & n2), n1 & n2)\n",
    "\n",
    "# OR: |\n",
    "print(base_repr(n1 | n2), n1 | n2)\n",
    "\n",
    "\n",
    "# XOR ^\n",
    "print(base_repr(n1 ^ n2), n1 ^ n2)\n"
   ]
  },
  {
   "cell_type": "code",
   "execution_count": null,
   "metadata": {},
   "outputs": [],
   "source": []
  },
  {
   "cell_type": "code",
   "execution_count": 12,
   "metadata": {},
   "outputs": [
    {
     "data": {
      "text/plain": [
       "137"
      ]
     },
     "execution_count": 12,
     "metadata": {},
     "output_type": "execute_result"
    }
   ],
   "source": []
  },
  {
   "cell_type": "code",
   "execution_count": null,
   "metadata": {},
   "outputs": [],
   "source": [
    "# OR\n",
    "# XOR\n",
    "# NOT"
   ]
  }
 ],
 "metadata": {
  "kernelspec": {
   "display_name": "Python 3",
   "language": "python",
   "name": "python3"
  },
  "language_info": {
   "codemirror_mode": {
    "name": "ipython",
    "version": 3
   },
   "file_extension": ".py",
   "mimetype": "text/x-python",
   "name": "python",
   "nbconvert_exporter": "python",
   "pygments_lexer": "ipython3",
   "version": "3.11.1"
  },
  "orig_nbformat": 4
 },
 "nbformat": 4,
 "nbformat_minor": 2
}
