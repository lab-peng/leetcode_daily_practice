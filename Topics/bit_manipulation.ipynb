{
 "cells": [
  {
   "cell_type": "code",
   "execution_count": 100,
   "metadata": {},
   "outputs": [
    {
     "name": "stdout",
     "output_type": "stream",
     "text": [
      "101101110110101\n",
      "111100111101101\n",
      "101100110100101 22949\n",
      "111101111111101 31741\n",
      "10001001011000 8792\n",
      "-101101110110110 -23478 010010001001010\n"
     ]
    }
   ],
   "source": [
    "from numpy import base_repr\n",
    "# Basics\n",
    "n1 = 23477\n",
    "n2 = 31213\n",
    "# AND: &\n",
    "print(base_repr(n1))\n",
    "print(base_repr(n2))\n",
    "print(base_repr(n1 & n2), n1 & n2)\n",
    "\n",
    "# OR: |\n",
    "print(base_repr(n1 | n2), n1 | n2)\n",
    "\n",
    "\n",
    "# XOR ^  0 ^ 1 or 1 ^ 0 = 1,  0 ^ 0 or 1 ^ 1 = 0  same 0, different 1\n",
    "print(base_repr(n1 ^ n2), n1 ^ n2)\n",
    "\n",
    "# NOT ~\n",
    "print(base_repr(~n1), ~n1, '0' + bin(0b111111111111111 - n1)[2:])\n",
    "\n"
   ]
  },
  {
   "cell_type": "code",
   "execution_count": 94,
   "metadata": {},
   "outputs": [
    {
     "name": "stdout",
     "output_type": "stream",
     "text": [
      "11101\n",
      "<class 'str'>\n",
      "11100\n"
     ]
    }
   ],
   "source": [
    "n3 = 29\n",
    "# print(base_repr(n3))\n",
    "# print(type(base_repr(n3)))\n",
    "\n",
    "print(bin(n3)[2:])\n",
    "print(type(bin(n3)[2:]))\n",
    "\n",
    "\n",
    "n4 = 28\n",
    "print(bin(n4)[2:])"
   ]
  },
  {
   "cell_type": "code",
   "execution_count": 101,
   "metadata": {},
   "outputs": [
    {
     "name": "stdout",
     "output_type": "stream",
     "text": [
      "28 11100\n",
      "29 11101\n",
      "1 1\n",
      "-30 11110 00010\n"
     ]
    }
   ],
   "source": [
    "print(n3 & n4, bin(n3 & n4)[2:])\n",
    "print(n3 | n4, bin(n3 | n4)[2:])\n",
    "print(n3 ^ n4, bin(n3 ^ n4)[2:])\n",
    "print(~n3, bin(~n3)[3:], '000' + bin(0b11111 - n3)[2:])"
   ]
  },
  {
   "cell_type": "code",
   "execution_count": 75,
   "metadata": {},
   "outputs": [
    {
     "data": {
      "text/plain": [
       "127"
      ]
     },
     "execution_count": 75,
     "metadata": {},
     "output_type": "execute_result"
    }
   ],
   "source": [
    "def bin2dec(s):\n",
    "    ln = len(s)\n",
    "    dec = 0\n",
    "    for i in range(ln):\n",
    "        dec += int(s[i]) * 2 ** (ln - i - 1)\n",
    "    return dec\n",
    "        \n",
    "bin2dec('10001001') == 137"
   ]
  },
  {
   "cell_type": "code",
   "execution_count": 83,
   "metadata": {},
   "outputs": [
    {
     "data": {
      "text/plain": [
       "-65535"
      ]
     },
     "execution_count": 83,
     "metadata": {},
     "output_type": "execute_result"
    }
   ],
   "source": [
    "\n",
    "# 2 ** 16 - 1\n",
    "# -32768 - 32767 \n"
   ]
  },
  {
   "cell_type": "code",
   "execution_count": 87,
   "metadata": {},
   "outputs": [
    {
     "name": "stdout",
     "output_type": "stream",
     "text": [
      "1 1>>2 0>>3 1>>4 0>>5 1>>6 0>>7 1>>8 0>>9 1>>10 0>>11 1>>12 0>>13 1>>14 0>>15 1>>16 0>>17 1>>18 0>>19 1>>20 0>>"
     ]
    }
   ],
   "source": [
    "# AND & Operator Usage\n",
    "# 1 Check a number is even or odd\n",
    "for i in range(1, 21):\n",
    "    print(i, i & 1, end = '>>')"
   ]
  },
  {
   "cell_type": "code",
   "execution_count": 108,
   "metadata": {},
   "outputs": [
    {
     "name": "stdout",
     "output_type": "stream",
     "text": [
      "56\n",
      "6\n",
      "True\n",
      "True\n"
     ]
    }
   ],
   "source": [
    "print(14 << 2) # 1110 -> 111000  # left bit shift\n",
    "print(49 >> 3) # 110001 -> 110   # right bit shift\n",
    "\n",
    "print(14 << 2 == 14 * 2 ** 2)\n",
    "print(49 >> 3 == 49 // 2 ** 3)"
   ]
  },
  {
   "cell_type": "code",
   "execution_count": 119,
   "metadata": {},
   "outputs": [
    {
     "name": "stdout",
     "output_type": "stream",
     "text": [
      "00000000000000000101101110110101"
     ]
    }
   ],
   "source": [
    "x = 23477\n",
    "for i in range(31, -1, -1):\n",
    "    if x & (1 << i):\n",
    "        print('1', end='')\n",
    "    else:\n",
    "        print('0', end='')"
   ]
  },
  {
   "cell_type": "code",
   "execution_count": 130,
   "metadata": {},
   "outputs": [
    {
     "name": "stdout",
     "output_type": "stream",
     "text": [
      "2 <class 'int'>\n",
      "8 <class 'int'>\n",
      "16 <class 'int'>\n"
     ]
    }
   ],
   "source": [
    "x = 0b010\n",
    "y = 0o010\n",
    "z = 0x010\n",
    "print(x, type(x))\n",
    "print(y, type(y))\n",
    "print(z, type(z))"
   ]
  },
  {
   "cell_type": "code",
   "execution_count": 134,
   "metadata": {},
   "outputs": [
    {
     "name": "stdout",
     "output_type": "stream",
     "text": [
      "3 0b11\n",
      "2\n"
     ]
    }
   ],
   "source": [
    "print(x ^ 1, bin(x ^ 1))\n",
    "print(x ^ 0)"
   ]
  },
  {
   "cell_type": "code",
   "execution_count": null,
   "metadata": {},
   "outputs": [],
   "source": []
  }
 ],
 "metadata": {
  "kernelspec": {
   "display_name": "Python 3",
   "language": "python",
   "name": "python3"
  },
  "language_info": {
   "codemirror_mode": {
    "name": "ipython",
    "version": 3
   },
   "file_extension": ".py",
   "mimetype": "text/x-python",
   "name": "python",
   "nbconvert_exporter": "python",
   "pygments_lexer": "ipython3",
   "version": "3.11.2"
  },
  "orig_nbformat": 4
 },
 "nbformat": 4,
 "nbformat_minor": 2
}
