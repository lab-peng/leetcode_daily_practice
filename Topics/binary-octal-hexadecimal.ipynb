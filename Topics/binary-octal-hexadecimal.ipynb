{
 "cells": [
  {
   "cell_type": "code",
   "execution_count": 15,
   "metadata": {},
   "outputs": [
    {
     "name": "stdout",
     "output_type": "stream",
     "text": [
      "0b10001001\n",
      "0o211\n",
      "0x89\n",
      "\n",
      "137\n",
      "137\n",
      "137\n",
      "137\n"
     ]
    }
   ],
   "source": [
    "# Python built-in Functions\n",
    "# integer = int(input(''))\n",
    "integer = 137\n",
    "print(bin(integer))\n",
    "print(oct(integer))\n",
    "print(hex(integer))\n",
    "\n",
    "print()\n",
    "\n",
    "# Convert them back to an integer   \n",
    "print(int('0b10001001', 2))\n",
    "print(int('10001001', 2))  # It can be done with or without '0b, 0o, 0x' prefix\n",
    "print(int('211', 8))\n",
    "print(int('89', 16))"
   ]
  },
  {
   "cell_type": "code",
   "execution_count": 16,
   "metadata": {},
   "outputs": [
    {
     "name": "stdout",
     "output_type": "stream",
     "text": [
      "10001001\n",
      "211\n",
      "Z\n"
     ]
    }
   ],
   "source": [
    "# Numpy Functions\n",
    "from numpy import base_repr\n",
    "#  The valid range is 2-36, the default value is 2\n",
    "print(base_repr(integer))\n",
    "print(base_repr(integer, 8))\n",
    "print(base_repr(35, 36))"
   ]
  },
  {
   "cell_type": "code",
   "execution_count": 17,
   "metadata": {},
   "outputs": [],
   "source": [
    "# Implement the functions manually for coding interviews\n",
    "def to_int(b: str, radix: int = 2) -> int:\n",
    "    \"\"\"\n",
    "    Convert a binary string to decimal integer.\n",
    "    \"\"\"\n",
    "    # total = 0\n",
    "    # for d in b:\n",
    "    #     total *= radix\n",
    "    #     total += int(d)\n",
    "    # return total\n",
    "\n",
    "    total = 0\n",
    "    for i in range(-len(b), 0):\n",
    "        total += int(b[i]) * radix ** (-i - 1)\n",
    "    return total\n",
    "\n",
    "assert to_int('10001001') == 137\n",
    "assert to_int('211', 8) == 137\n",
    "assert to_int('89', 16) == 137"
   ]
  },
  {
   "cell_type": "code",
   "execution_count": 18,
   "metadata": {},
   "outputs": [],
   "source": [
    "from collections import deque\n",
    "\n",
    "def to_radix(num: int, radix: int = 2) -> str:\n",
    "    \"\"\"\n",
    "    Convert a decimal integer to a binary string\n",
    "\n",
    "    The number q is called the quotient, while r is called the remainder\n",
    "    # q, r = divmod(5, 2)\n",
    "    # print(q, r)\n",
    "    \"\"\"\n",
    "    hm = {\n",
    "        0: '0',\n",
    "        1: '1',\n",
    "        2: '2',\n",
    "        3: '3',\n",
    "        4: '4',\n",
    "        5: '5',\n",
    "        6: '6', \n",
    "        7: '7',\n",
    "        8: '8',\n",
    "        9: '9',\n",
    "        10: 'A',\n",
    "        11: 'B',\n",
    "        12: 'C',\n",
    "        13: 'D',\n",
    "        14: 'E',\n",
    "        15: 'F',\n",
    "        16: 'G',\n",
    "        17: 'H',\n",
    "        18: 'I',\n",
    "        19: 'J',\n",
    "        20: 'K',\n",
    "        21: 'L',\n",
    "        22: 'M',\n",
    "        23: 'N',\n",
    "        24: 'O',\n",
    "        25: 'P',\n",
    "        26: 'Q',\n",
    "        27: 'R',\n",
    "        28: 'S',\n",
    "        29: 'T',\n",
    "        30: 'U',\n",
    "        31: 'V',\n",
    "        32: 'W',\n",
    "        33: 'X',\n",
    "        34: 'Y',\n",
    "        35: 'Z'\n",
    "    }\n",
    "    ans = deque()\n",
    "    while num:\n",
    "        r = num % radix\n",
    "        ans.appendleft(hm[r])\n",
    "        num //= radix\n",
    "    return ''.join(ans)       \n",
    "    \n",
    "assert to_radix(137) == '10001001'\n",
    "assert to_radix(137, 8) == '211'\n",
    "assert to_radix(137, 16) == '89'\n",
    "assert to_radix(35, 36) == 'Z'"
   ]
  },
  {
   "cell_type": "code",
   "execution_count": 19,
   "metadata": {},
   "outputs": [],
   "source": [
    "# 1837. Sum of Digits in Base K\n",
    "# https://leetcode.com/problems/sum-of-digits-in-base-k/\n",
    "class Solution:\n",
    "    def sumBase(self, n: int, k: int) -> int:\n",
    "        ans = 0\n",
    "        while n:\n",
    "            r = n % k\n",
    "            ans += r\n",
    "            n //= k\n",
    "        return ans\n",
    "    \n",
    "s = Solution()\n",
    "assert s.sumBase(34, 6) == 9"
   ]
  },
  {
   "cell_type": "code",
   "execution_count": 20,
   "metadata": {},
   "outputs": [],
   "source": [
    "# 1780. Check if Number is a Sum of Powers of Three\n",
    "# https://leetcode.com/problems/check-if-number-is-a-sum-of-powers-of-three/\n",
    "class Solution:\n",
    "    def checkPowersOfThree(self, n: int) -> bool:\n",
    "        while n:\n",
    "            r = n % 3\n",
    "            if r > 1:\n",
    "                return False\n",
    "            n //= 3\n",
    "        return True\n",
    "\n",
    "s = Solution()\n",
    "assert s.checkPowersOfThree(12)\n",
    "assert s.checkPowersOfThree(91)\n",
    "assert s.checkPowersOfThree(21) is False"
   ]
  },
  {
   "cell_type": "code",
   "execution_count": 21,
   "metadata": {},
   "outputs": [],
   "source": [
    "# 405. Convert a Number to Hexadecimal"
   ]
  },
  {
   "cell_type": "code",
   "execution_count": 22,
   "metadata": {},
   "outputs": [],
   "source": [
    "neg = [1 << i for i in range(1, 33, 2)]\n",
    "# neg2 = [2 ** i for i in range(1, 33, 2)]\n",
    "# neg == neg2"
   ]
  },
  {
   "cell_type": "code",
   "execution_count": 23,
   "metadata": {},
   "outputs": [],
   "source": [
    "class Solution:\n",
    "    def bitwiseComplement(self, n: int) -> int:\n",
    "        hm = {'1': 0, '0': 1}\n",
    "\n",
    "    \n",
    "s = Solution()\n",
    "s.bitwiseComplement(10)"
   ]
  },
  {
   "cell_type": "code",
   "execution_count": null,
   "metadata": {},
   "outputs": [],
   "source": []
  }
 ],
 "metadata": {
  "kernelspec": {
   "display_name": "Python 3",
   "language": "python",
   "name": "python3"
  },
  "language_info": {
   "codemirror_mode": {
    "name": "ipython",
    "version": 3
   },
   "file_extension": ".py",
   "mimetype": "text/x-python",
   "name": "python",
   "nbconvert_exporter": "python",
   "pygments_lexer": "ipython3",
   "version": "3.11.2"
  },
  "orig_nbformat": 4
 },
 "nbformat": 4,
 "nbformat_minor": 2
}
