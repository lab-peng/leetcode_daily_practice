{
 "cells": [
  {
   "cell_type": "code",
   "execution_count": 33,
   "metadata": {},
   "outputs": [],
   "source": [
    "class Trie:\n",
    "    def __init__(self):\n",
    "        self.root = {}\n",
    "\n",
    "    def __str__(self):\n",
    "        return str(self.root)\n",
    "\n",
    "    def insert(self, word):\n",
    "        crt = self.root\n",
    "        for c in word:\n",
    "            if c not in crt:\n",
    "                crt[c] = {}\n",
    "            crt = crt[c]\n",
    "        crt['*'] = None\n",
    "\n",
    "    def search(self, word):\n",
    "        crt = self.root\n",
    "        for c in word:\n",
    "            if c not in crt:\n",
    "                return False\n",
    "            crt = crt[c]\n",
    "        return '*' in crt\n",
    "    \n",
    "    def startsWith(self, prefix):\n",
    "        crt = self.root\n",
    "        for c in prefix:\n",
    "            if c not in crt:\n",
    "                return False\n",
    "            crt = crt[c]\n",
    "        return True"
   ]
  },
  {
   "cell_type": "code",
   "execution_count": 22,
   "metadata": {},
   "outputs": [
    {
     "name": "stdout",
     "output_type": "stream",
     "text": [
      "{'w': {'a': {'i': {'t': {'*': '*'}}}}}\n",
      "{'w': {'a': {'i': {'t': {'*': '*', 'e': {'r': {'*': '*'}}}}}}}\n",
      "{'w': {'a': {'i': {'t': {'*': '*', 'e': {'r': {'*': '*'}}}}}, 'o': {'r': {'k': {'*': '*'}}}}}\n",
      "{'w': {'a': {'i': {'t': {'*': '*', 'e': {'r': {'*': '*'}}}}}, 'o': {'r': {'k': {'*': '*'}}}}, 'l': {'o': {'v': {'e': {'*': '*'}}}}}\n"
     ]
    }
   ],
   "source": [
    "t = Trie()\n",
    "t.insert('wait')\n",
    "print(t)\n",
    "t.insert('waiter')\n",
    "print(t)\n",
    "t.insert('work')\n",
    "print(t)\n",
    "t.insert('love')\n",
    "print(t)"
   ]
  },
  {
   "cell_type": "code",
   "execution_count": 31,
   "metadata": {},
   "outputs": [
    {
     "data": {
      "text/plain": [
       "16"
      ]
     },
     "execution_count": 31,
     "metadata": {},
     "output_type": "execute_result"
    }
   ],
   "source": []
  },
  {
   "cell_type": "code",
   "execution_count": 32,
   "metadata": {},
   "outputs": [
    {
     "data": {
      "text/plain": [
       "28"
      ]
     },
     "execution_count": 32,
     "metadata": {},
     "output_type": "execute_result"
    }
   ],
   "source": []
  },
  {
   "cell_type": "code",
   "execution_count": null,
   "metadata": {},
   "outputs": [],
   "source": []
  }
 ],
 "metadata": {
  "kernelspec": {
   "display_name": "Python 3",
   "language": "python",
   "name": "python3"
  },
  "language_info": {
   "codemirror_mode": {
    "name": "ipython",
    "version": 3
   },
   "file_extension": ".py",
   "mimetype": "text/x-python",
   "name": "python",
   "nbconvert_exporter": "python",
   "pygments_lexer": "ipython3",
   "version": "3.11.2"
  },
  "orig_nbformat": 4
 },
 "nbformat": 4,
 "nbformat_minor": 2
}
