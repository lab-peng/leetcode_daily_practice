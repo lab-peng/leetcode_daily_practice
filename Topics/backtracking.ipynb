{
 "cells": [
  {
   "cell_type": "markdown",
   "metadata": {},
   "source": [
    "[**Solve Coding Interview Backtracking Problems - Crash Course**](https://www.youtube.com/watch?v=A80YzvNwqXA&t=335s)\n"
   ]
  },
  {
   "cell_type": "code",
   "execution_count": 1,
   "metadata": {},
   "outputs": [],
   "source": [
    "def is_valid_state(state):\n",
    "    # check if it is a valid solution\n",
    "    return True\n",
    "\n",
    "def get_candidates(state):\n",
    "    return []\n",
    "\n",
    "def search(state, solutions):\n",
    "    if is_valid_state(state):\n",
    "        solutions.append(state.copy())\n",
    "        # return \n",
    "\n",
    "    for candidate in get_candidates(state):\n",
    "        state.add(candidate)\n",
    "        search(state, solutions)\n",
    "        state.remove(candidate)\n",
    "\n",
    "def solve():\n",
    "    solutions = []\n",
    "    state = set()\n",
    "    search(state, solutions)\n",
    "    return solutions"
   ]
  },
  {
   "cell_type": "code",
   "execution_count": null,
   "metadata": {},
   "outputs": [],
   "source": []
  }
 ],
 "metadata": {
  "kernelspec": {
   "display_name": "Python 3",
   "language": "python",
   "name": "python3"
  },
  "language_info": {
   "codemirror_mode": {
    "name": "ipython",
    "version": 3
   },
   "file_extension": ".py",
   "mimetype": "text/x-python",
   "name": "python",
   "nbconvert_exporter": "python",
   "pygments_lexer": "ipython3",
   "version": "3.11.2"
  },
  "orig_nbformat": 4
 },
 "nbformat": 4,
 "nbformat_minor": 2
}
