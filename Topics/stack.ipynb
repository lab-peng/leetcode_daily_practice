{
 "cells": [
  {
   "cell_type": "markdown",
   "source": [
    "1. Valid Parentheses\n",
    "https://leetcode.com/problems/valid-parentheses/\n"
   ],
   "metadata": {}
  },
  {
   "cell_type": "code",
   "execution_count": 1,
   "source": [
    "class Solution:\r\n",
    "    def isValid(self, s: str) -> bool:\r\n",
    "        stack = []\r\n",
    "        close_2_open = {\r\n",
    "            ')': '(',\r\n",
    "            ']': '[',\r\n",
    "            '}': '{'\r\n",
    "        }\r\n",
    "\r\n",
    "        for c in s:\r\n",
    "            if c in close_2_open:\r\n",
    "                if stack and stack[-1] == close_2_open[c]:\r\n",
    "                    stack.pop()\r\n",
    "                else:\r\n",
    "                    return False\r\n",
    "            else:\r\n",
    "                stack.append(c)\r\n",
    "            print(stack)\r\n",
    "        \r\n",
    "        return True if not stack else False\r\n",
    "\r\n",
    "s = \"()[]{}\"\r\n",
    "s = \"{[]()}\"\r\n",
    "\r\n",
    "solution = Solution()\r\n",
    "solution.isValid(s)"
   ],
   "outputs": [
    {
     "output_type": "stream",
     "name": "stdout",
     "text": [
      "['{']\n",
      "['{', '[']\n",
      "['{']\n",
      "['{', '(']\n",
      "['{']\n",
      "[]\n",
      "\u0000\u0000\u0000\u0004True\u0000\u0000\u0000\u0006'/foo'\u0000\u0000\u0000r[(0, 2)]\n",
      "[(0, 1)]\n",
      "[(0, 1), (2, 5)]\n",
      "[(0, 1), (2, 5), (3, 6)]\n",
      "[(0, 1), (2, 2)]\n",
      "[(0, 1), (2, 2), (5, 3)]\n",
      "0 1\n",
      "2 2\n",
      "5 3\n",
      "\u0000\u0000\u0000\u000210\u0000\u0000\u0000\u0005None\n",
      "\u0000\u0000\u0000\u0018[1, 1, 4, 2, 1, 1, 0, 0]\u0000\u0000\u0000\u0004[10]"
     ]
    },
    {
     "output_type": "execute_result",
     "data": {
      "text/plain": [
       "True\u0000\u0000\u0000\u0006'/foo'\u0000\u0000\u0000r[(0, 2)]\n",
       "[(0, 1)]\n",
       "[(0, 1), (2, 5)]\n",
       "[(0, 1), (2, 5), (3, 6)]\n",
       "[(0, 1), (2, 2)]\n",
       "[(0, 1), (2, 2), (5, 3)]\n",
       "0 1\n",
       "2 2\n",
       "5 3\n",
       "\u0000\u0000\u0000\u000210\u0000\u0000\u0000\u0005None\n",
       "\u0000\u0000\u0000\u0018[1, 1, 4, 2, 1, 1, 0, 0]\u0000\u0000\u0000\u0004[10]"
      ]
     },
     "metadata": {},
     "execution_count": 1
    }
   ],
   "metadata": {}
  },
  {
   "cell_type": "markdown",
   "source": [
    "2. Simplify Path\n",
    "https://leetcode.com/problems/simplify-path/"
   ],
   "metadata": {}
  },
  {
   "cell_type": "code",
   "execution_count": 2,
   "source": [
    "class Solution:\r\n",
    "    def simplifyPath(self, path: str) -> str:\r\n",
    "        stack = []\r\n",
    "        cur = ''\r\n",
    "\r\n",
    "        for c in path + '/':    # c = character, letter\r\n",
    "            if c != '/':\r\n",
    "                cur += c\r\n",
    "            else:\r\n",
    "                if cur == '..':\r\n",
    "                    if stack: stack.pop()\r\n",
    "                elif cur != '' and cur != '.':\r\n",
    "                    stack.append(cur)\r\n",
    "                cur = ''\r\n",
    "            # print(cur, stack)\r\n",
    "\r\n",
    "        return '/' + '/'.join(stack)\r\n",
    "\r\n",
    "path = \"/..//foo/\"\r\n",
    "s = Solution()\r\n",
    "s.simplifyPath(path)"
   ],
   "outputs": [
    {
     "output_type": "execute_result",
     "data": {
      "text/plain": [
       "'/foo'\u0000\u0000\u0000r[(0, 2)]\n",
       "[(0, 1)]\n",
       "[(0, 1), (2, 5)]\n",
       "[(0, 1), (2, 5), (3, 6)]\n",
       "[(0, 1), (2, 2)]\n",
       "[(0, 1), (2, 2), (5, 3)]\n",
       "0 1\n",
       "2 2\n",
       "5 3\n",
       "\u0000\u0000\u0000\u000210\u0000\u0000\u0000\u0005None\n",
       "\u0000\u0000\u0000\u0018[1, 1, 4, 2, 1, 1, 0, 0]\u0000\u0000\u0000\u0004[10]"
      ]
     },
     "metadata": {},
     "execution_count": 2
    }
   ],
   "metadata": {}
  },
  {
   "cell_type": "markdown",
   "source": [
    "3. Largest Rectangle in Histogram\n",
    "https://leetcode.com/problems/largest-rectangle-in-histogram/\n"
   ],
   "metadata": {}
  },
  {
   "cell_type": "code",
   "execution_count": 3,
   "source": [
    "# TODO I haven't figured out the logic yet\r\n",
    "from typing import List\r\n",
    "class Solution:\r\n",
    "    def largestRectangleArea(self, heights: List[int]) -> int:\r\n",
    "        max_area = 0\r\n",
    "        stack = [] # (index, height)\r\n",
    "        for i, h in enumerate(heights):\r\n",
    "            start = i\r\n",
    "            while stack and stack[-1][1] > h:\r\n",
    "                index, height = stack.pop()\r\n",
    "                max_area = max(max_area, height * (i - index))\r\n",
    "                start = index\r\n",
    "            stack.append((start, h))\r\n",
    "            print(stack)\r\n",
    "\r\n",
    "        for i, h in stack:\r\n",
    "            print(i, h)\r\n",
    "            max_area = max(max_area, h * (len(heights) - i))\r\n",
    "        \r\n",
    "        return max_area\r\n",
    "\r\n",
    "heights = [2, 1, 5, 6, 2, 3]\r\n",
    "# heights = [2, 4]\r\n",
    "# heights = [1]\r\n",
    "# heights = [4, 2]\r\n",
    "# heights = [0, 9]\r\n",
    "# heights = [9, 0]\r\n",
    "# heights = [2, 1, 2]\r\n",
    "s = Solution()\r\n",
    "s.largestRectangleArea(heights)"
   ],
   "outputs": [
    {
     "output_type": "stream",
     "name": "stdout",
     "text": [
      "[(0, 2)]\n",
      "[(0, 1)]\n",
      "[(0, 1), (2, 5)]\n",
      "[(0, 1), (2, 5), (3, 6)]\n",
      "[(0, 1), (2, 2)]\n",
      "[(0, 1), (2, 2), (5, 3)]\n",
      "0 1\n",
      "2 2\n",
      "5 3\n",
      "\u0000\u0000\u0000\u000210\u0000\u0000\u0000\u0005None\n",
      "\u0000\u0000\u0000\u0018[1, 1, 4, 2, 1, 1, 0, 0]\u0000\u0000\u0000\u0004[10]"
     ]
    },
    {
     "output_type": "execute_result",
     "data": {
      "text/plain": [
       "10\u0000\u0000\u0000\u0005None\n",
       "\u0000\u0000\u0000\u0018[1, 1, 4, 2, 1, 1, 0, 0]\u0000\u0000\u0000\u0004[10]"
      ]
     },
     "metadata": {},
     "execution_count": 3
    }
   ],
   "metadata": {}
  },
  {
   "cell_type": "code",
   "execution_count": 4,
   "source": [
    "# index height max_area\r\n",
    "#    0    2       2\r\n",
    "#    3    6       6\r\n",
    "#    4-2    5       10\r\n",
    "#    5    3       3\r\n",
    "#    2    2       8 \r\n",
    "#    0    1       6"
   ],
   "outputs": [],
   "metadata": {}
  },
  {
   "cell_type": "markdown",
   "source": [
    "4. Generate Parentheses\n",
    "https://leetcode.com/problems/generate-parentheses/"
   ],
   "metadata": {}
  },
  {
   "cell_type": "code",
   "execution_count": 5,
   "source": [
    "class Solution:\r\n",
    "    def generateParenthesis(self, n: int) -> List[str]:\r\n",
    "        pass\r\n",
    "\r\n",
    "n = 3\r\n",
    "s = Solution()\r\n",
    "s.generateParenthesis(n)"
   ],
   "outputs": [],
   "metadata": {}
  },
  {
   "cell_type": "markdown",
   "source": [
    "5. Min Stack\n",
    "https://leetcode.com/problems/min-stack/"
   ],
   "metadata": {}
  },
  {
   "cell_type": "code",
   "execution_count": 6,
   "source": [
    "class MinStack:\r\n",
    "    cur_min = float('inf')\r\n",
    "\r\n",
    "    def __init__(self):\r\n",
    "        self.data = []\r\n",
    "        self.mins = []\r\n",
    "\r\n",
    "    def push(self, val: int) -> None:\r\n",
    "        self.data.append(val)\r\n",
    "        cur_min = min(self.cur_min, val)\r\n",
    "        self.mins.append(cur_min)\r\n",
    "        self.cur_min = cur_min\r\n",
    "\r\n",
    "    def pop(self) -> None:\r\n",
    "        if self.data:\r\n",
    "            if len(self.mins) >= 2:\r\n",
    "                self.cur_min = self.mins[-2]\r\n",
    "            else: \r\n",
    "                self.cur_min = float('inf')\r\n",
    "            self.data.pop()\r\n",
    "            self.mins.pop()\r\n",
    "\r\n",
    "    def top(self) -> int:\r\n",
    "        if self.data:\r\n",
    "            return self.data[-1]\r\n",
    "\r\n",
    "    def getMin(self) -> int:\r\n",
    "        if self.mins:\r\n",
    "            return self.mins[-1]\r\n",
    "\r\n",
    "\r\n",
    "# Your obj object will be instantiated and called as such:\r\n",
    "obj = MinStack()\r\n",
    "print(obj.top())\r\n",
    "# obj.push(-2)\r\n",
    "# print(obj.__dict__)\r\n",
    "# obj.push(0)\r\n",
    "# print(obj.__dict__)\r\n",
    "# obj.push(-3)\r\n",
    "# print(obj.__dict__)\r\n",
    "# obj.pop()\r\n",
    "# print(obj.__dict__)\r\n",
    "# obj.pop()\r\n",
    "# print(obj.__dict__)\r\n",
    "# obj.pop()\r\n",
    "# print(obj.__dict__)\r\n",
    "# obj.push(-4)\r\n",
    "# print(obj.__dict__)\r\n",
    "# obj.push(0)\r\n",
    "# obj.push(-3)\r\n",
    "# print(obj.getMin())\r\n",
    "# obj.pop()\r\n",
    "# print(obj.top())\r\n",
    "# print(obj.getMin())"
   ],
   "outputs": [
    {
     "output_type": "stream",
     "name": "stdout",
     "text": [
      "None\n",
      "\u0000\u0000\u0000\u0018[1, 1, 4, 2, 1, 1, 0, 0]\u0000\u0000\u0000\u0004[10]"
     ]
    }
   ],
   "metadata": {}
  },
  {
   "cell_type": "markdown",
   "source": [
    "6. Daily Temperatures\n",
    "https://leetcode.com/problems/daily-temperatures/"
   ],
   "metadata": {}
  },
  {
   "cell_type": "code",
   "execution_count": 7,
   "source": [
    "class Solution:\r\n",
    "    def dailyTemperatures(self, temperatures: List[int]) -> List[int]:\r\n",
    "        res = [0] * len(temperatures)\r\n",
    "\r\n",
    "        stack = []  # (index, temp)\r\n",
    "\r\n",
    "        for i, t in enumerate(temperatures):\r\n",
    "            while stack and t > stack[-1][1]:\r\n",
    "                index, temp = stack.pop()\r\n",
    "                # print(i, index, temp)\r\n",
    "                res[index] = (i - index)\r\n",
    "            stack.append((i, t))\r\n",
    "            # print(stack)\r\n",
    "        return res\r\n",
    "\r\n",
    "            \r\n",
    "temperatures = [73,74,75,71,69,72,76,73]\r\n",
    "s = Solution()\r\n",
    "s.dailyTemperatures(temperatures)"
   ],
   "outputs": [
    {
     "output_type": "execute_result",
     "data": {
      "text/plain": [
       "[1, 1, 4, 2, 1, 1, 0, 0]\u0000\u0000\u0000\u0004[10]"
      ]
     },
     "metadata": {},
     "execution_count": 7
    }
   ],
   "metadata": {}
  },
  {
   "cell_type": "markdown",
   "source": [
    "7. Asteroid Collision\n",
    "https://leetcode.com/problems/asteroid-collision/\n"
   ],
   "metadata": {}
  },
  {
   "cell_type": "code",
   "execution_count": 8,
   "source": [
    "class Solution:\r\n",
    "    def asteroidCollision(self, asteroids: List[int]) -> List[int]:\r\n",
    "        stack = []\r\n",
    "\r\n",
    "        for a in asteroids:\r\n",
    "            while stack and a < 0 and stack[-1] > 0:\r\n",
    "                diff = stack[-1] + a\r\n",
    "                if diff < 0:\r\n",
    "                    stack.pop()\r\n",
    "                elif diff > 0:\r\n",
    "                    a = 0\r\n",
    "                else:\r\n",
    "                    stack.pop()\r\n",
    "                    a = 0\r\n",
    "\r\n",
    "            if a:\r\n",
    "                stack.append(a)\r\n",
    "        return stack\r\n",
    "\r\n",
    "\r\n",
    "asteroids = [10, 2, -5]\r\n",
    "# asteroids = [-2,-1,1,2]\r\n",
    "# asteroids = [-2,-2,5,-6]\r\n",
    "# asteroids = [-1, 3, 2, -3]\r\n",
    "s = Solution()\r\n",
    "s.asteroidCollision(asteroids)"
   ],
   "outputs": [
    {
     "output_type": "execute_result",
     "data": {
      "text/plain": [
       "[10]"
      ]
     },
     "metadata": {},
     "execution_count": 8
    }
   ],
   "metadata": {}
  },
  {
   "cell_type": "markdown",
   "source": [
    "8. Maximum Subarray Min-Product\n",
    "https://leetcode.com/problems/maximum-subarray-min-product/"
   ],
   "metadata": {}
  },
  {
   "cell_type": "code",
   "execution_count": null,
   "source": [
    "class Solution:\r\n",
    "    def maxSumMinProduct(self, nums: List[int]) -> int:\r\n",
    "        pass\r\n",
    "\r\n",
    "nums = [2,3,3,1,2]\r\n",
    "s = Solution()\r\n",
    "s.maxSumMinProduct(nums)\r\n"
   ],
   "outputs": [],
   "metadata": {}
  }
 ],
 "metadata": {
  "kernelspec": {
   "name": "python3",
   "language": "python",
   "display_name": "python_sql_venv"
  },
  "language_info": {
   "codemirror_mode": {
    "name": "ipython",
    "version": 3
   },
   "file_extension": ".py",
   "mimetype": "text/x-python",
   "name": "python",
   "nbconvert_exporter": "python",
   "pygments_lexer": "ipython3",
   "version": "3.10.2"
  },
  "orig_nbformat": 4,
  "vscode": {
   "interpreter": {
    "hash": "d069d7a1948727279f2cf1fb753e38696f857060f508c2c6fffe28efce4c20be"
   }
  }
 },
 "nbformat": 4,
 "nbformat_minor": 2
}