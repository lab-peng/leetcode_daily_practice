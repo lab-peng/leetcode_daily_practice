{
 "cells": [
  {
   "cell_type": "code",
   "execution_count": null,
   "metadata": {},
   "outputs": [],
   "source": [
    "from typing import List\n",
    "from collections import deque"
   ]
  },
  {
   "cell_type": "code",
   "execution_count": null,
   "metadata": {},
   "outputs": [],
   "source": [
    "class Node:\n",
    "    def __init__(self, val=None, children=None):\n",
    "        self.val = val\n",
    "        self.children = children"
   ]
  },
  {
   "cell_type": "code",
   "execution_count": null,
   "metadata": {},
   "outputs": [],
   "source": [
    "# 589. N-ary Tree Preorder Traversal\n",
    "# https://leetcode.com/problems/n-ary-tree-preorder-traversal\n",
    "class Solution:\n",
    "    def preorder(self, root: 'Node') -> List[int]:\n",
    "\n",
    "        # self.nodes = []\n",
    "        # def dfs(root):\n",
    "        #     if not root:\n",
    "        #         return\n",
    "        #     self.nodes.append(root.val)\n",
    "        #     for child in root.children:\n",
    "        #         dfs(child)\n",
    "        # dfs(root)\n",
    "        # return self.nodes\n",
    "\n",
    "\n",
    "        # def dfs(root, nodes=[]):\n",
    "        #     if not root:\n",
    "        #         return \n",
    "        #     nodes.append(root.val)\n",
    "        #     for child in root.children:\n",
    "        #         dfs(child)\n",
    "        #     return nodes\n",
    "        # return dfs(root)\n",
    "\n",
    "        # if not root:\n",
    "        #     return []\n",
    "        # children = []\n",
    "        # for child in root.children:\n",
    "        #     children += self.preorder(child)\n",
    "        # return [root.val] + children\n",
    "\n",
    "        s, ans = deque(), deque()\n",
    "        if root:\n",
    "            s.append(root)\n",
    "        while s:\n",
    "            crt = s.pop()\n",
    "            ans.append(crt.val)\n",
    "            for child in crt.children:\n",
    "                s.append(child)\n",
    "        return ans"
   ]
  },
  {
   "cell_type": "code",
   "execution_count": null,
   "metadata": {},
   "outputs": [],
   "source": [
    "# 590. N-ary Tree Postorder Traversal\n",
    "# https://leetcode.com/problems/n-ary-tree-postorder-traversal/\n",
    "class Solution:\n",
    "    def postorder(self, root: 'Node') -> List[int]:\n",
    "\n",
    "        # self.nodes = []\n",
    "        # def dfs(root):\n",
    "        #     if not root:\n",
    "        #         return \n",
    "        #     for child in root.children:\n",
    "        #         dfs(child)\n",
    "        #     self.nodes.append(root.val)\n",
    "        # dfs(root)\n",
    "        # return self.nodes\n",
    "\n",
    "        # def dfs(root, nodes=[]):\n",
    "        #     if not root:\n",
    "        #         return\n",
    "        #     for child in root.children:\n",
    "        #         dfs(child)\n",
    "        #     nodes.append(root.val)\n",
    "        #     return nodes\n",
    "        # return dfs(root)\n",
    "\n",
    "        if not root:\n",
    "            return []\n",
    "        children = []\n",
    "        for child in root.children:\n",
    "            children += self.postorder(child)\n",
    "        return children + [root.val]         \n"
   ]
  },
  {
   "cell_type": "code",
   "execution_count": null,
   "metadata": {},
   "outputs": [],
   "source": [
    "# 429. N-ary Tree Level Order Traversal\n",
    "# https://leetcode.com/problems/n-ary-tree-level-order-traversal/\n",
    "class Solution:\n",
    "    def levelOrder(self, root: 'Node') -> List[List[int]]:\n",
    "        q, ans = deque(), deque()\n",
    "        if root:\n",
    "            q.append(root)\n",
    "\n",
    "        while q:\n",
    "            lvl = deque()\n",
    "            for _ in range(len(q)):\n",
    "                crt = q.popleft()\n",
    "                lvl.append(crt.val)\n",
    "\n",
    "                for child in crt.children:\n",
    "                    q.append(child)\n",
    "                    \n",
    "            ans.append(lvl)\n",
    "\n",
    "        return ans"
   ]
  },
  {
   "cell_type": "code",
   "execution_count": null,
   "metadata": {},
   "outputs": [],
   "source": [
    "# 559. Maximum Depth of N-ary Tree\n",
    "# https://leetcode.com/problems/maximum-depth-of-n-ary-tree/\n",
    "class Solution:\n",
    "    def maxDepth(self, root: 'Node') -> int:\n",
    "        q, ans = deque(), 0\n",
    "        if root:\n",
    "            q.append(root)\n",
    "\n",
    "        while q:\n",
    "            ans += 1\n",
    "            for _ in range(len(q)):\n",
    "                crt = q.popleft()\n",
    "\n",
    "                for child in crt.children:\n",
    "                    q.append(child)\n",
    "        return ans"
   ]
  },
  {
   "cell_type": "code",
   "execution_count": null,
   "metadata": {},
   "outputs": [],
   "source": []
  }
 ],
 "metadata": {
  "kernelspec": {
   "display_name": "Python 3",
   "language": "python",
   "name": "python3"
  },
  "language_info": {
   "codemirror_mode": {
    "name": "ipython",
    "version": 3
   },
   "file_extension": ".py",
   "mimetype": "text/x-python",
   "name": "python",
   "nbconvert_exporter": "python",
   "pygments_lexer": "ipython3",
   "version": "3.11.2"
  },
  "orig_nbformat": 4,
  "vscode": {
   "interpreter": {
    "hash": "3c82aea9bf3f365190a7e416b607cf2c9372b04170f58ad31092367f98b9b5cc"
   }
  }
 },
 "nbformat": 4,
 "nbformat_minor": 2
}
