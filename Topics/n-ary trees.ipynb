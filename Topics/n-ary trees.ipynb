{
 "cells": [
  {
   "cell_type": "code",
   "execution_count": 16,
   "source": [
    "from typing import List\r\n",
    "from collections import deque"
   ],
   "outputs": [],
   "metadata": {}
  },
  {
   "cell_type": "code",
   "execution_count": 10,
   "source": [
    "class Node:\r\n",
    "    def __init__(self, val=None, children=None):\r\n",
    "        self.val = val\r\n",
    "        self.children = children"
   ],
   "outputs": [],
   "metadata": {}
  },
  {
   "cell_type": "code",
   "execution_count": 17,
   "source": [
    "# 589. N-ary Tree Preorder Traversal\r\n",
    "# https://leetcode.com/problems/n-ary-tree-preorder-traversal\r\n",
    "class Solution:\r\n",
    "    def preorder(self, root: 'Node') -> List[int]:\r\n",
    "\r\n",
    "        # self.nodes = []\r\n",
    "        # def dfs(root):\r\n",
    "        #     if not root:\r\n",
    "        #         return\r\n",
    "        #     self.nodes.append(root.val)\r\n",
    "        #     for child in root.children:\r\n",
    "        #         dfs(child)\r\n",
    "        # dfs(root)\r\n",
    "        # return self.nodes\r\n",
    "\r\n",
    "\r\n",
    "        # def dfs(root, nodes=[]):\r\n",
    "        #     if not root:\r\n",
    "        #         return \r\n",
    "        #     nodes.append(root.val)\r\n",
    "        #     for child in root.children:\r\n",
    "        #         dfs(child)\r\n",
    "        #     return nodes\r\n",
    "        # return dfs(root)\r\n",
    "\r\n",
    "        # if not root:\r\n",
    "        #     return []\r\n",
    "        # children = []\r\n",
    "        # for child in root.children:\r\n",
    "        #     children += self.preorder(child)\r\n",
    "        # return [root.val] + children\r\n",
    "\r\n",
    "        s, ans = deque(), deque()\r\n",
    "        if root:\r\n",
    "            s.append(root)\r\n",
    "        while s:\r\n",
    "            crt = s.pop()\r\n",
    "            ans.append(crt.val)\r\n",
    "            for child in crt.children:\r\n",
    "                s.append(child)\r\n",
    "        return ans"
   ],
   "outputs": [],
   "metadata": {}
  },
  {
   "cell_type": "code",
   "execution_count": 19,
   "source": [
    "# 590. N-ary Tree Postorder Traversal\r\n",
    "# https://leetcode.com/problems/n-ary-tree-postorder-traversal/\r\n",
    "class Solution:\r\n",
    "    def postorder(self, root: 'Node') -> List[int]:\r\n",
    "\r\n",
    "        # self.nodes = []\r\n",
    "        # def dfs(root):\r\n",
    "        #     if not root:\r\n",
    "        #         return \r\n",
    "        #     for child in root.children:\r\n",
    "        #         dfs(child)\r\n",
    "        #     self.nodes.append(root.val)\r\n",
    "        # dfs(root)\r\n",
    "        # return self.nodes\r\n",
    "\r\n",
    "        # def dfs(root, nodes=[]):\r\n",
    "        #     if not root:\r\n",
    "        #         return\r\n",
    "        #     for child in root.children:\r\n",
    "        #         dfs(child)\r\n",
    "        #     nodes.append(root.val)\r\n",
    "        #     return nodes\r\n",
    "        # return dfs(root)\r\n",
    "\r\n",
    "        if not root:\r\n",
    "            return []\r\n",
    "        children = []\r\n",
    "        for child in root.children:\r\n",
    "            children += self.postorder(child)\r\n",
    "        return children + [root.val]         \r\n"
   ],
   "outputs": [],
   "metadata": {}
  },
  {
   "cell_type": "code",
   "execution_count": 20,
   "source": [
    "# 429. N-ary Tree Level Order Traversal\r\n",
    "# https://leetcode.com/problems/n-ary-tree-level-order-traversal/\r\n",
    "class Solution:\r\n",
    "    def levelOrder(self, root: 'Node') -> List[List[int]]:\r\n",
    "        q, ans = deque(), deque()\r\n",
    "        if root:\r\n",
    "            q.append(root)\r\n",
    "\r\n",
    "        while q:\r\n",
    "            lvl = deque()\r\n",
    "            for _ in range(len(q)):\r\n",
    "                crt = q.popleft()\r\n",
    "                lvl.append(crt.val)\r\n",
    "\r\n",
    "                for child in crt.children:\r\n",
    "                    q.append(child)\r\n",
    "                    \r\n",
    "            ans.append(lvl)\r\n",
    "\r\n",
    "        return ans"
   ],
   "outputs": [],
   "metadata": {}
  },
  {
   "cell_type": "code",
   "execution_count": 21,
   "source": [
    "# 559. Maximum Depth of N-ary Tree\r\n",
    "# https://leetcode.com/problems/maximum-depth-of-n-ary-tree/\r\n",
    "class Solution:\r\n",
    "    def maxDepth(self, root: 'Node') -> int:\r\n",
    "        q, ans = deque(), 0\r\n",
    "        if root:\r\n",
    "            q.append(root)\r\n",
    "\r\n",
    "        while q:\r\n",
    "            ans += 1\r\n",
    "            for _ in range(len(q)):\r\n",
    "                crt = q.popleft()\r\n",
    "\r\n",
    "                for child in crt.children:\r\n",
    "                    q.append(child)\r\n",
    "        return ans"
   ],
   "outputs": [],
   "metadata": {}
  },
  {
   "cell_type": "code",
   "execution_count": null,
   "source": [],
   "outputs": [],
   "metadata": {}
  }
 ],
 "metadata": {
  "orig_nbformat": 4,
  "language_info": {
   "name": "python",
   "version": "3.11.1",
   "mimetype": "text/x-python",
   "codemirror_mode": {
    "name": "ipython",
    "version": 3
   },
   "pygments_lexer": "ipython3",
   "nbconvert_exporter": "python",
   "file_extension": ".py"
  },
  "kernelspec": {
   "name": "python3",
   "language": "python",
   "display_name": "Python 3"
  },
  "vscode": {
   "interpreter": {
    "hash": "3c82aea9bf3f365190a7e416b607cf2c9372b04170f58ad31092367f98b9b5cc"
   }
  }
 },
 "nbformat": 4,
 "nbformat_minor": 2
}