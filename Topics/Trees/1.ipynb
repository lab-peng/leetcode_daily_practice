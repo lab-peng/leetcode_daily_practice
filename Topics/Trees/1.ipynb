{
 "cells": [
  {
   "cell_type": "code",
   "execution_count": 7,
   "metadata": {},
   "outputs": [],
   "source": [
    "from typing import List, Optional\n",
    "from collections import deque"
   ]
  },
  {
   "cell_type": "code",
   "execution_count": null,
   "metadata": {},
   "outputs": [],
   "source": []
  },
  {
   "cell_type": "code",
   "execution_count": 8,
   "metadata": {},
   "outputs": [],
   "source": [
    "class TreeNode:\n",
    "    def __init__(self, val, left=None, right=None):\n",
    "        self.val = val\n",
    "        self.left = left\n",
    "        self.right = right\n",
    "\n",
    "    def graph(self):\n",
    "        \"\"\"Graph an instance of (tree) Node class\"\"\"\n",
    "        lines, *_ = self.graph_aux()\n",
    "        for line in lines:\n",
    "            print(line)\n",
    "\n",
    "    def graph_aux(self):\n",
    "        \"\"\"Returns list of strings, width, height, and horizontal coordinate of the root.\"\"\"\n",
    "        # No child.\n",
    "        if self.right is None and self.left is None:\n",
    "            line = str(self.val)\n",
    "            width = len(line)\n",
    "            height = 1\n",
    "            middle = width // 2\n",
    "            return [line], width, height, middle\n",
    "\n",
    "        # Only left child.\n",
    "        if self.right is None:\n",
    "            lines, n, p, x = self.left.graph_aux()\n",
    "            s = str(self.val)\n",
    "            u = len(s)\n",
    "            first_line = (x + 1) * ' ' + (n - x - 1) * '_' + s\n",
    "            second_line = x * ' ' + '/' + (n - x - 1 + u) * ' '\n",
    "            shifted_lines = [line + u * ' ' for line in lines]\n",
    "            return [first_line, second_line] + shifted_lines, n + u, p + 2, n + u // 2\n",
    "\n",
    "        # Only right child.\n",
    "        if self.left is None:\n",
    "            lines, n, p, x = self.right.graph_aux()\n",
    "            s = str(self.val)\n",
    "            u = len(s)\n",
    "            first_line = s + x * '_' + (n - x) * ' '\n",
    "            second_line = (u + x) * ' ' + '\\\\' + (n - x - 1) * ' '\n",
    "            shifted_lines = [u * ' ' + line for line in lines]\n",
    "            return [first_line, second_line] + shifted_lines, n + u, p + 2, u // 2\n",
    "\n",
    "        # Two children.\n",
    "        left, n, p, x = self.left.graph_aux()\n",
    "        right, m, q, y = self.right.graph_aux()\n",
    "        s = str(self.val)\n",
    "        u = len(s)\n",
    "        first_line = (x + 1) * ' ' + (n - x - 1) * '_' + s + y * '_' + (m - y) * ' '\n",
    "        second_line = x * ' ' + '/' + (n - x - 1 + u + y) * ' ' + '\\\\' + (m - y - 1) * ' '\n",
    "        if p < q:\n",
    "            left += [n * ' '] * (q - p)\n",
    "        elif q < p:\n",
    "            right += [m * ' '] * (p - q)\n",
    "        zipped_lines = zip(left, right)\n",
    "        lines = [first_line, second_line] + [a + u * ' ' + b for a, b in zipped_lines]\n",
    "        return lines, n + m + u, max(p, q) + 2, n + u // 2\n",
    "\n",
    "\n",
    "def list_to_tree(items: list[int]) -> TreeNode:\n",
    "    \"\"\"Create BT from list of values.\"\"\"\n",
    "    n = len(items)\n",
    "    if n == 0:\n",
    "        return None\n",
    "\n",
    "    def inner(index: int = 0) -> TreeNode:\n",
    "        if n <= index or items[index] is None:\n",
    "            return None\n",
    "\n",
    "        node = TreeNode(items[index])\n",
    "        node.left = inner(2 * index + 1)\n",
    "        node.right = inner(2 * index + 2)\n",
    "        return node\n",
    "\n",
    "    return inner()"
   ]
  },
  {
   "cell_type": "code",
   "execution_count": 9,
   "metadata": {},
   "outputs": [
    {
     "data": {
      "text/plain": [
       "deque([deque([3]), deque([20, 9]), deque([15, 7])])"
      ]
     },
     "execution_count": 9,
     "metadata": {},
     "output_type": "execute_result"
    }
   ],
   "source": [
    "class Solution:\n",
    "    def zigzagLevelOrder(self, root: Optional[TreeNode]) -> List[List[int]]:\n",
    "        \"\"\"\n",
    "        103. Binary Tree Zigzag Level Order Traversal \n",
    "        \"\"\"\n",
    "        q = deque()\n",
    "        if root:\n",
    "            q.append(root)\n",
    "        \n",
    "        ans = deque()\n",
    "        depth = 0\n",
    "        while q:\n",
    "            lvl = deque()\n",
    "            depth += 1\n",
    "            for _ in range(len(q)):\n",
    "                crt = q.popleft()\n",
    "                if depth % 2 != 0:\n",
    "                    lvl.append(crt.val)\n",
    "                else:\n",
    "                    lvl.appendleft(crt.val)\n",
    "\n",
    "                if crt.left:\n",
    "                    q.append(crt.left)\n",
    "                if crt.right:\n",
    "                    q.append(crt.right)\n",
    "            ans.append(lvl)\n",
    "        return ans\n",
    "            \n",
    "s = Solution()\n",
    "s.zigzagLevelOrder(list_to_tree([3,9,20,None, None,15,7]))  # [[3],[20,9],[15,7]]"
   ]
  },
  {
   "cell_type": "code",
   "execution_count": 10,
   "metadata": {},
   "outputs": [],
   "source": [
    "class Solution:\n",
    "    def getTargetCopy(self, original: TreeNode, cloned: TreeNode, target: TreeNode) -> TreeNode:\n",
    "        \"\"\" \n",
    "        1379. Find a Corresponding Node of a Binary Tree in a Clone of That Tree\n",
    "        \"\"\"\n",
    "        # What is the usage of original parameter?\n",
    "        q = deque()\n",
    "        if cloned:\n",
    "            q.append(cloned)\n",
    "\n",
    "        while q:\n",
    "            crt = q.popleft()\n",
    "            if crt.val == target.val:\n",
    "                return crt\n",
    "            if crt.left:\n",
    "                q.append(crt.left)\n",
    "            if crt.right:\n",
    "                q.append(crt.right)"
   ]
  },
  {
   "cell_type": "code",
   "execution_count": 11,
   "metadata": {},
   "outputs": [],
   "source": [
    "class Solution:\n",
    "    def rangeSumBST(self, root: Optional[TreeNode], low: int, high: int) -> int:\n",
    "        \"\"\"  \n",
    "        938. Range Sum of BST\n",
    "        \"\"\"\n",
    "        self.sm = 0\n",
    "        def inorder(root):\n",
    "            if not root:\n",
    "                return\n",
    "            inorder(root.left)\n",
    "            if low <= root.val <= high:\n",
    "                self.sm += root.val\n",
    "            inorder(root.right)\n",
    "        inorder(root)\n",
    "        return self.sm"
   ]
  },
  {
   "cell_type": "code",
   "execution_count": 12,
   "metadata": {},
   "outputs": [
    {
     "data": {
      "text/plain": [
       "22"
      ]
     },
     "execution_count": 12,
     "metadata": {},
     "output_type": "execute_result"
    }
   ],
   "source": [
    "class Solution:\n",
    "    def sumRootToLeaf(self, root: Optional[TreeNode]) -> int:\n",
    "        \"\"\" \n",
    "        1022. Sum of Root To Leaf Binary Numbers\n",
    "        \"\"\"\n",
    "        def preorder(node, binary):\n",
    "            if not node:\n",
    "                return 0\n",
    "            \n",
    "            if not node.left and not node.right:\n",
    "                return int(binary + str(node.val), 2)\n",
    "            else:\n",
    "                return preorder(node.left, binary + str(node.val)) + preorder(node.right, binary + str(node.val))\n",
    "        return preorder(root, '')\n",
    "\n",
    "\n",
    "s = Solution()\n",
    "s.sumRootToLeaf(list_to_tree([1,0,1,0,1,0,1]))"
   ]
  },
  {
   "cell_type": "code",
   "execution_count": null,
   "metadata": {},
   "outputs": [],
   "source": []
  }
 ],
 "metadata": {
  "kernelspec": {
   "display_name": "Python 3",
   "language": "python",
   "name": "python3"
  },
  "language_info": {
   "codemirror_mode": {
    "name": "ipython",
    "version": 3
   },
   "file_extension": ".py",
   "mimetype": "text/x-python",
   "name": "python",
   "nbconvert_exporter": "python",
   "pygments_lexer": "ipython3",
   "version": "3.11.1"
  },
  "orig_nbformat": 4,
  "vscode": {
   "interpreter": {
    "hash": "3c82aea9bf3f365190a7e416b607cf2c9372b04170f58ad31092367f98b9b5cc"
   }
  }
 },
 "nbformat": 4,
 "nbformat_minor": 2
}
