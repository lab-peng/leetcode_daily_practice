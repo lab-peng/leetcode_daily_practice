{
 "cells": [
  {
   "cell_type": "code",
   "execution_count": 2,
   "metadata": {},
   "outputs": [
    {
     "name": "stdout",
     "output_type": "stream",
     "text": [
      "1\n",
      "2\n",
      "3\n",
      "\n",
      "1\n",
      "2\n",
      "3\n"
     ]
    }
   ],
   "source": [
    "# Turning Iterative Code to Recursive Code\n",
    "\n",
    "def ite(lst):\n",
    "    for i in lst:\n",
    "        print(i)\n",
    "ite([1, 2, 3])\n",
    "\n",
    "print()\n",
    "\n",
    "def rec(idx, lst):\n",
    "    if idx == len(lst):\n",
    "        return\n",
    "    print(lst[idx])\n",
    "    rec(idx + 1, lst)\n",
    "\n",
    "rec(0, [1, 2, 3])"
   ]
  },
  {
   "cell_type": "code",
   "execution_count": null,
   "metadata": {},
   "outputs": [],
   "source": []
  }
 ],
 "metadata": {
  "kernelspec": {
   "display_name": "Python 3",
   "language": "python",
   "name": "python3"
  },
  "language_info": {
   "codemirror_mode": {
    "name": "ipython",
    "version": 3
   },
   "file_extension": ".py",
   "mimetype": "text/x-python",
   "name": "python",
   "nbconvert_exporter": "python",
   "pygments_lexer": "ipython3",
   "version": "3.11.2"
  },
  "orig_nbformat": 4
 },
 "nbformat": 4,
 "nbformat_minor": 2
}
