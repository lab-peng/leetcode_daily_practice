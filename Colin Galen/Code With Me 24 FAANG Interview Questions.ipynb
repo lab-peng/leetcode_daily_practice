{
 "cells": [
  {
   "cell_type": "code",
   "execution_count": 1,
   "metadata": {},
   "outputs": [],
   "source": [
    "from typing import List, Optional\n",
    "from collections import Counter, deque\n",
    "import re"
   ]
  },
  {
   "cell_type": "code",
   "execution_count": 2,
   "metadata": {},
   "outputs": [],
   "source": [
    "class Solution:\n",
    "    def findLengthOfLCIS(self, nums: List[int]) -> int:\n",
    "        \"\"\" \n",
    "        674. Longest Continuous Increasing Subsequence        \n",
    "        \"\"\"\n",
    "        l, mx = 0, 1\n",
    "        for r, v in enumerate(nums):\n",
    "            if v <= nums[r - 1]:\n",
    "                l = r\n",
    "            mx = max(mx, r - l + 1)\n",
    "        return mx\n",
    "\n",
    "        # crt, best = 0, 0\n",
    "        # for i in range(len(nums)):\n",
    "        #     if i == 0 or nums[i - 1] >= nums[i]:\n",
    "        #         crt = 1\n",
    "        #     else:\n",
    "        #         crt += 1\n",
    "        #     best = max(best, crt)\n",
    "        # return best\n",
    "    \n",
    "s = Solution()\n",
    "assert s.findLengthOfLCIS([1,3,5,4,7]) == 3\n",
    "assert s.findLengthOfLCIS([2, 2, 2, 2, 2]) == 1"
   ]
  },
  {
   "cell_type": "code",
   "execution_count": 3,
   "metadata": {},
   "outputs": [],
   "source": [
    "# class Solution {\n",
    "# public:\n",
    "#     int findLengthOfLCIS(vector<int>& nums) {\n",
    "#         int l = 0, mx = 1;\n",
    "#         for (int r = 1; r < nums.size(); r++) {\n",
    "#             if (nums[r - 1] >= nums[r]) {\n",
    "#                 l = r;\n",
    "#             }\n",
    "#             mx = max(mx, r - l + 1);\n",
    "#         }\n",
    "#         return mx;\n",
    "#     }\n",
    "# };"
   ]
  },
  {
   "cell_type": "code",
   "execution_count": 4,
   "metadata": {},
   "outputs": [],
   "source": [
    "class ListNode:\n",
    "    def __init__(self, val=0, next=None):\n",
    "        self.val = val\n",
    "        self.next = next\n",
    "\n",
    "class Solution:\n",
    "    def mergeTwoLists(self, list1: Optional[ListNode], list2: Optional[ListNode]) -> Optional[ListNode]:\n",
    "        \"\"\"      \n",
    "        21. Merge Two Sorted Lists  \n",
    "        \"\"\"\n",
    "        head = ListNode()\n",
    "        tail = head\n",
    "\n",
    "        l = list1\n",
    "        r = list2\n",
    "\n",
    "        while l and r:\n",
    "            if l.val < r.val:\n",
    "                tail.next = l\n",
    "                l = l.next\n",
    "            else:\n",
    "                tail.next = r\n",
    "                r = r.next \n",
    "            tail = tail.next\n",
    "\n",
    "        if l:\n",
    "            tail.next = l\n",
    "        elif r:\n",
    "            tail.next = r \n",
    "\n",
    "        return head.next"
   ]
  },
  {
   "cell_type": "code",
   "execution_count": 5,
   "metadata": {},
   "outputs": [],
   "source": [
    "class Solution:\n",
    "    def findTheDifference(self, s: str, t: str) -> str:\n",
    "        \"\"\"  \n",
    "        389. Find the Difference\n",
    "        \"\"\"\n",
    "        return (Counter(t) - Counter(s)).popitem()[0]\n",
    "        \n",
    "\n",
    "s = Solution()\n",
    "assert s.findTheDifference(s = \"abcd\", t = \"abcde\") == 'e'\n",
    "assert s.findTheDifference(s = 'a', t = 'aa') == 'a'"
   ]
  },
  {
   "cell_type": "code",
   "execution_count": 6,
   "metadata": {},
   "outputs": [
    {
     "data": {
      "text/plain": [
       "[2, 0, 0, 0, 0, 0]"
      ]
     },
     "execution_count": 6,
     "metadata": {},
     "output_type": "execute_result"
    }
   ],
   "source": [
    "class Solution:\n",
    "    def plusOne(self, digits: List[int]) -> List[int]:\n",
    "        \"\"\"   \n",
    "        66. Plus One    \n",
    "        \"\"\"\n",
    "        # return [int(n) for n in list(str(int(''.join([str(i) for i in digits])) + 1))]\n",
    "\n",
    "        ln = len(digits)\n",
    "        if all([d == 9 for d in digits]):\n",
    "            return [1] + [0] * ln\n",
    "        \n",
    "        digits[-1] += 1\n",
    "        i = len(digits) - 1\n",
    "        for i in range(ln - 1, -1, -1):\n",
    "            if digits[i] == 10:\n",
    "                digits[i] = 0\n",
    "                digits[i - 1] += 1\n",
    "\n",
    "        return digits\n",
    "\n",
    "s = Solution()\n",
    "# s.plusOne(digits = [9, 9, 9, 9])\n",
    "s.plusOne(digits = [1, 9, 9, 9, 9, 9])"
   ]
  },
  {
   "cell_type": "code",
   "execution_count": 7,
   "metadata": {},
   "outputs": [],
   "source": [
    "class Solution:\n",
    "    def numUniqueEmails(self, emails: List[str]) -> int:\n",
    "        \"\"\"   \n",
    "        929. Unique Email Addresses      \n",
    "        \"\"\"\n",
    "        hs = set()\n",
    "        for e in emails:\n",
    "            local, domain = e.split('@')\n",
    "            local = local.replace('.', '')\n",
    "            if '+' in local:\n",
    "                local = local[:local.index('+')]\n",
    "            hs.add((local, domain))\n",
    "        return len(hs)\n",
    "\n",
    "        # TODO: how to do it with re\n",
    "        # for e in emails:\n",
    "        #     e = re.sub(r'(?<=/+)[a-zA-Z]+(?=\\W*@)', '|||', e)  \n",
    "        #     print(e)\n",
    "        \n",
    "s = Solution()\n",
    "assert s.numUniqueEmails(emails = [\"test.email+alex@leetcode.com\",\n",
    "                                   \"test.e.mail+bob.cathy@leetcode.com\",\n",
    "                                   \"testemail+david@lee.tcode.com\"]) == 2"
   ]
  },
  {
   "cell_type": "code",
   "execution_count": 8,
   "metadata": {},
   "outputs": [
    {
     "data": {
      "text/plain": [
       "5"
      ]
     },
     "execution_count": 8,
     "metadata": {},
     "output_type": "execute_result"
    }
   ],
   "source": [
    "class Solution:\n",
    "    def maxProfit(self, prices: List[int]) -> int:\n",
    "        \"\"\"   \n",
    "        121. Best Time to Buy and Sell Stock      \n",
    "        \"\"\"\n",
    "        l, mx = 0, 0\n",
    "        for r, v in enumerate(prices):\n",
    "            if prices[l] > v:\n",
    "                l = r\n",
    "            mx = max(mx, v - prices[l])\n",
    "        return mx\n",
    "\n",
    "\n",
    "s = Solution()\n",
    "s.maxProfit(prices = [7,1,5,3,6,4])"
   ]
  },
  {
   "cell_type": "code",
   "execution_count": 9,
   "metadata": {},
   "outputs": [],
   "source": [
    "class Solution:\n",
    "    def maxProfit(self, prices: List[int]) -> int:\n",
    "        \"\"\"\n",
    "        122. Best Time to Buy and Sell Stock II\n",
    "        \"\"\"\n",
    "        # l, mx = 0, 0\n",
    "        # for r in range(len(prices)):\n",
    "        #     if prices[r] <= prices[l]:\n",
    "        #         l = r\n",
    "        #     else:\n",
    "        #         profit = prices[r] - prices[l]\n",
    "        #         l = r\n",
    "        #         mx += profit\n",
    "        # return mx\n",
    "    \n",
    "        # After refactoring the above code:\n",
    "        l, mx = 0, 0\n",
    "        for r, v in enumerate(prices):\n",
    "            if v > prices[l]:\n",
    "                profit = v - prices[l]\n",
    "                mx += profit\n",
    "            l = r\n",
    "        return mx\n",
    "    \n",
    "\n",
    "s = Solution()\n",
    "assert s.maxProfit(prices = [7,1,5,3,6,4]) == 7\n",
    "assert s.maxProfit(prices = [1,2,3,4,5]) == 4\n",
    "assert s.maxProfit(prices = [7,6,4,3,1]) == 0"
   ]
  },
  {
   "cell_type": "code",
   "execution_count": 10,
   "metadata": {},
   "outputs": [],
   "source": [
    "class Solution:\n",
    "    def rotateString(self, s: str, goal: str) -> bool:\n",
    "        \"\"\"  \n",
    "        796. Rotate String        \n",
    "        \"\"\"\n",
    "        # # Brute force is slow but I have learned how to rotate a sequence(string, list, etc)\n",
    "        # s, goal = list(s), list(goal)\n",
    "        # for _ in range(len(s)):\n",
    "        #     if goal == s:\n",
    "        #         return True\n",
    "        #     for j in range(len(s) - 1):\n",
    "        #         s[j] , s[j + 1] = s[j + 1], s[j]\n",
    "        # return False\n",
    "\n",
    "        # A little bit of optimization\n",
    "        s, goal = deque(list(s)), deque(list(goal))\n",
    "        for _ in range(len(s)):\n",
    "            if goal == s:\n",
    "                return True\n",
    "            l = s.popleft()\n",
    "            s.append(l)\n",
    "\n",
    "        return False\n",
    "\n",
    "\n",
    "\n",
    "\n",
    "        if len(s) != len(goal):\n",
    "            return False\n",
    "        s *= 2\n",
    "        return goal in s\n",
    "\n",
    "solution = Solution()\n",
    "\n",
    "assert solution.rotateString(s = \"abcde\", goal = \"cdeab\")\n",
    "assert solution.rotateString(s = \"abcde\", goal = \"abced\") is False"
   ]
  },
  {
   "cell_type": "code",
   "execution_count": 11,
   "metadata": {},
   "outputs": [],
   "source": [
    "class Solution:\n",
    "    def addBinary(self, a: str, b: str) -> str:\n",
    "        \"\"\"\n",
    "        67. Add Binary         \n",
    "        \"\"\"\n",
    "\n",
    "        # ans = deque()\n",
    "        # i, j = len(a) - 1, len(b) - 1\n",
    "        # while i >= 0 and j >= 0:\n",
    "        #     ans.appendleft(int(a[i]) + int(b[j]))\n",
    "        #     i -= 1\n",
    "        #     j -= 1\n",
    "        # while i >= 0:\n",
    "        #     ans.appendleft(int(a[i]))\n",
    "        #     i -= 1\n",
    "        # while j >=  0:\n",
    "        #     ans.appendleft(int(b[j]))\n",
    "        #     j -= 1\n",
    "    \n",
    "        # for i in range(len(ans) - 1, 0, -1):\n",
    "        #     if ans[i] == 2 or ans[i] == 3:\n",
    "        #         ans[i] %= 2\n",
    "        #         ans[i - 1] += 1\n",
    "        # if ans[0] == 2 or ans[0] == 3:\n",
    "        #     ans[0] %= 2\n",
    "        #     ans.appendleft(1)\n",
    "        # return ''.join([str(a) for a in ans])\n",
    "     \n",
    "        return bin(int(a, 2) + int(b, 2))[2:]\n",
    "    \n",
    "\n",
    "s = Solution()\n",
    "assert s.addBinary(a = \"11\", b = \"1\") == '100'\n",
    "assert s.addBinary(a = \"1010\", b = \"1011\") == '10101'\n",
    "assert s.addBinary(a = '1111', b = '1111') == '11110'"
   ]
  },
  {
   "cell_type": "code",
   "execution_count": null,
   "metadata": {},
   "outputs": [],
   "source": []
  }
 ],
 "metadata": {
  "kernelspec": {
   "display_name": "Python 3",
   "language": "python",
   "name": "python3"
  },
  "language_info": {
   "codemirror_mode": {
    "name": "ipython",
    "version": 3
   },
   "file_extension": ".py",
   "mimetype": "text/x-python",
   "name": "python",
   "nbconvert_exporter": "python",
   "pygments_lexer": "ipython3",
   "version": "3.11.1"
  },
  "orig_nbformat": 4,
  "vscode": {
   "interpreter": {
    "hash": "b7ca4a75756fff48ad75ddef2741ecfed8f2ce12ec8770943891cb3b12546634"
   }
  }
 },
 "nbformat": 4,
 "nbformat_minor": 2
}
