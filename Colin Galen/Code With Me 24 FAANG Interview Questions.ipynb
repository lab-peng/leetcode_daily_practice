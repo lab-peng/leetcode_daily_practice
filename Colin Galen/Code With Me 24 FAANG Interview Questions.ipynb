{
 "cells": [
  {
   "cell_type": "code",
   "execution_count": 144,
   "source": [
    "from typing import List, Optional\r\n",
    "from collections import Counter, deque\r\n",
    "import re"
   ],
   "outputs": [],
   "metadata": {}
  },
  {
   "cell_type": "code",
   "execution_count": 8,
   "source": [
    "class Solution:\r\n",
    "    def findLengthOfLCIS(self, nums: List[int]) -> int:\r\n",
    "        \"\"\" \r\n",
    "        674. Longest Continuous Increasing Subsequence        \r\n",
    "        \"\"\"\r\n",
    "        l, mx = 0, 1\r\n",
    "        for r, v in enumerate(nums):\r\n",
    "            if v <= nums[r - 1]:\r\n",
    "                l = r\r\n",
    "            mx = max(mx, r - l + 1)\r\n",
    "        return mx\r\n",
    "\r\n",
    "        # crt, best = 0, 0\r\n",
    "        # for i in range(len(nums)):\r\n",
    "        #     if i == 0 or nums[i - 1] >= nums[i]:\r\n",
    "        #         crt = 1\r\n",
    "        #     else:\r\n",
    "        #         crt += 1\r\n",
    "        #     best = max(best, crt)\r\n",
    "        # return best\r\n",
    "    \r\n",
    "s = Solution()\r\n",
    "assert s.findLengthOfLCIS([1,3,5,4,7]) == 3\r\n",
    "assert s.findLengthOfLCIS([2, 2, 2, 2, 2]) == 1"
   ],
   "outputs": [],
   "metadata": {}
  },
  {
   "cell_type": "code",
   "execution_count": 9,
   "source": [
    "# class Solution {\r\n",
    "# public:\r\n",
    "#     int findLengthOfLCIS(vector<int>& nums) {\r\n",
    "#         int l = 0, mx = 1;\r\n",
    "#         for (int r = 1; r < nums.size(); r++) {\r\n",
    "#             if (nums[r - 1] >= nums[r]) {\r\n",
    "#                 l = r;\r\n",
    "#             }\r\n",
    "#             mx = max(mx, r - l + 1);\r\n",
    "#         }\r\n",
    "#         return mx;\r\n",
    "#     }\r\n",
    "# };"
   ],
   "outputs": [],
   "metadata": {}
  },
  {
   "cell_type": "code",
   "execution_count": 10,
   "source": [
    "class ListNode:\r\n",
    "    def __init__(self, val=0, next=None):\r\n",
    "        self.val = val\r\n",
    "        self.next = next\r\n",
    "\r\n",
    "class Solution:\r\n",
    "    def mergeTwoLists(self, list1: Optional[ListNode], list2: Optional[ListNode]) -> Optional[ListNode]:\r\n",
    "        \"\"\"      \r\n",
    "        21. Merge Two Sorted Lists  \r\n",
    "        \"\"\"\r\n",
    "        head = ListNode()\r\n",
    "        tail = head\r\n",
    "\r\n",
    "        l = list1\r\n",
    "        r = list2\r\n",
    "\r\n",
    "        while l and r:\r\n",
    "            if l.val < r.val:\r\n",
    "                tail.next = l\r\n",
    "                l = l.next\r\n",
    "            else:\r\n",
    "                tail.next = r\r\n",
    "                r = r.next \r\n",
    "            tail = tail.next\r\n",
    "\r\n",
    "        if l:\r\n",
    "            tail.next = l\r\n",
    "        elif r:\r\n",
    "            tail.next = r \r\n",
    "\r\n",
    "        return head.next"
   ],
   "outputs": [],
   "metadata": {}
  },
  {
   "cell_type": "code",
   "execution_count": 24,
   "source": [
    "class Solution:\r\n",
    "    def findTheDifference(self, s: str, t: str) -> str:\r\n",
    "        \"\"\"  \r\n",
    "        389. Find the Difference\r\n",
    "        \"\"\"\r\n",
    "        return (Counter(t) - Counter(s)).popitem()[0]\r\n",
    "        \r\n",
    "\r\n",
    "s = Solution()\r\n",
    "assert s.findTheDifference(s = \"abcd\", t = \"abcde\") == 'e'\r\n",
    "assert s.findTheDifference(s = 'a', t = 'aa') == 'a'"
   ],
   "outputs": [],
   "metadata": {}
  },
  {
   "cell_type": "code",
   "execution_count": 77,
   "source": [
    "class Solution:\r\n",
    "    def plusOne(self, digits: List[int]) -> List[int]:\r\n",
    "        \"\"\"   \r\n",
    "        66. Plus One    \r\n",
    "        \"\"\"\r\n",
    "        # return [int(n) for n in list(str(int(''.join([str(i) for i in digits])) + 1))]\r\n",
    "\r\n",
    "        ln = len(digits)\r\n",
    "        if all([d == 9 for d in digits]):\r\n",
    "            return [1] + [0] * ln\r\n",
    "        \r\n",
    "        digits[-1] += 1\r\n",
    "        i = len(digits) - 1\r\n",
    "        for i in range(ln - 1, -1, -1):\r\n",
    "            if digits[i] == 10:\r\n",
    "                digits[i] = 0\r\n",
    "                digits[i - 1] += 1\r\n",
    "\r\n",
    "        return digits\r\n",
    "\r\n",
    "s = Solution()\r\n",
    "# s.plusOne(digits = [9, 9, 9, 9])\r\n",
    "s.plusOne(digits = [1, 9, 9, 9, 9, 9])"
   ],
   "outputs": [
    {
     "output_type": "execute_result",
     "data": {
      "text/plain": [
       "[2, 0, 0, 0, 0, 0]\u0000\u0000\u0000\u00015\u0000\u0000\u00006deque([1, 2])\n",
       "deque([2, 0, 2, 1])\n",
       "deque([2, 2, 2, 2])\n",
       "\u0000\u0000\u0000\u0006'3030'\u0000\u0000\u0000\t'0b110b1'"
      ]
     },
     "metadata": {},
     "execution_count": 77
    }
   ],
   "metadata": {}
  },
  {
   "cell_type": "code",
   "execution_count": 121,
   "source": [
    "class Solution:\r\n",
    "    def numUniqueEmails(self, emails: List[str]) -> int:\r\n",
    "        \"\"\"   \r\n",
    "        929. Unique Email Addresses      \r\n",
    "        \"\"\"\r\n",
    "        hs = set()\r\n",
    "        for e in emails:\r\n",
    "            local, domain = e.split('@')\r\n",
    "            local = local.replace('.', '')\r\n",
    "            if '+' in local:\r\n",
    "                local = local[:local.index('+')]\r\n",
    "            hs.add((local, domain))\r\n",
    "        return len(hs)\r\n",
    "\r\n",
    "        # TODO: how to do it with re\r\n",
    "        # for e in emails:\r\n",
    "        #     e = re.sub(r'(?<=/+)[a-zA-Z]+(?=\\W*@)', '|||', e)  \r\n",
    "        #     print(e)\r\n",
    "        \r\n",
    "s = Solution()\r\n",
    "assert s.numUniqueEmails(emails = [\"test.email+alex@leetcode.com\",\r\n",
    "                                   \"test.e.mail+bob.cathy@leetcode.com\",\r\n",
    "                                   \"testemail+david@lee.tcode.com\"]) == 2"
   ],
   "outputs": [],
   "metadata": {}
  },
  {
   "cell_type": "code",
   "execution_count": 123,
   "source": [
    "class Solution:\r\n",
    "    def maxProfit(self, prices: List[int]) -> int:\r\n",
    "        \"\"\"   \r\n",
    "        121. Best Time to Buy and Sell Stock      \r\n",
    "        \"\"\"\r\n",
    "        l, mx = 0, 0\r\n",
    "        for r, v in enumerate(prices):\r\n",
    "            if prices[l] > v:\r\n",
    "                l = r\r\n",
    "            mx = max(mx, v - prices[l])\r\n",
    "        return mx\r\n",
    "\r\n",
    "\r\n",
    "s = Solution()\r\n",
    "s.maxProfit(prices = [7,1,5,3,6,4])"
   ],
   "outputs": [
    {
     "output_type": "execute_result",
     "data": {
      "text/plain": [
       "5\u0000\u0000\u00006deque([1, 2])\n",
       "deque([2, 0, 2, 1])\n",
       "deque([2, 2, 2, 2])\n",
       "\u0000\u0000\u0000\u0006'3030'\u0000\u0000\u0000\t'0b110b1'"
      ]
     },
     "metadata": {},
     "execution_count": 123
    }
   ],
   "metadata": {}
  },
  {
   "cell_type": "code",
   "execution_count": 132,
   "source": [
    "class Solution:\r\n",
    "    def maxProfit(self, prices: List[int]) -> int:\r\n",
    "        \"\"\"\r\n",
    "        122. Best Time to Buy and Sell Stock II\r\n",
    "        \"\"\"\r\n",
    "        # l, mx = 0, 0\r\n",
    "        # for r in range(len(prices)):\r\n",
    "        #     if prices[r] <= prices[l]:\r\n",
    "        #         l = r\r\n",
    "        #     else:\r\n",
    "        #         profit = prices[r] - prices[l]\r\n",
    "        #         l = r\r\n",
    "        #         mx += profit\r\n",
    "        # return mx\r\n",
    "    \r\n",
    "        # After refactoring the above code:\r\n",
    "        l, mx = 0, 0\r\n",
    "        for r, v in enumerate(prices):\r\n",
    "            if v > prices[l]:\r\n",
    "                profit = v - prices[l]\r\n",
    "                mx += profit\r\n",
    "            l = r\r\n",
    "        return mx\r\n",
    "    \r\n",
    "\r\n",
    "s = Solution()\r\n",
    "assert s.maxProfit(prices = [7,1,5,3,6,4]) == 7\r\n",
    "assert s.maxProfit(prices = [1,2,3,4,5]) == 4\r\n",
    "assert s.maxProfit(prices = [7,6,4,3,1]) == 0"
   ],
   "outputs": [],
   "metadata": {}
  },
  {
   "cell_type": "code",
   "execution_count": 142,
   "source": [
    "class Solution:\r\n",
    "    def rotateString(self, s: str, goal: str) -> bool:\r\n",
    "        \"\"\"  \r\n",
    "        796. Rotate String        \r\n",
    "        \"\"\"\r\n",
    "        # # Brute force is slow but I have learned how to rotate a sequence(string, list, etc)\r\n",
    "        # s, goal = list(s), list(goal)\r\n",
    "        # for _ in range(len(s)):\r\n",
    "        #     if goal == s:\r\n",
    "        #         return True\r\n",
    "        #     for j in range(len(s) - 1):\r\n",
    "        #         s[j] , s[j + 1] = s[j + 1], s[j]\r\n",
    "        # return False\r\n",
    "\r\n",
    "\r\n",
    "        if len(s) != len(goal):\r\n",
    "            return False\r\n",
    "        s *= 2\r\n",
    "        return goal in s\r\n",
    "\r\n",
    "solution = Solution()\r\n",
    "\r\n",
    "assert solution.rotateString(s = \"abcde\", goal = \"cdeab\")\r\n",
    "assert solution.rotateString(s = \"abcde\", goal = \"abced\") is False"
   ],
   "outputs": [],
   "metadata": {}
  },
  {
   "cell_type": "code",
   "execution_count": 183,
   "source": [
    "class Solution:\r\n",
    "    def addBinary(self, a: str, b: str) -> str:\r\n",
    "        \"\"\"\r\n",
    "        67. Add Binary         \r\n",
    "        \"\"\"\r\n",
    "        ans = deque()\r\n",
    "        i, j = len(a) - 1, len(b) - 1\r\n",
    "        while i >= 0 and j >= 0:\r\n",
    "            ans.appendleft(int(a[i]) + int(b[j]))\r\n",
    "            i -= 1\r\n",
    "            j -= 1\r\n",
    "        while i >= 0:\r\n",
    "            ans.appendleft(int(a[i]))\r\n",
    "            i -= 1\r\n",
    "        while j >=  0:\r\n",
    "            ans.appendleft(int(b[j]))\r\n",
    "            j -= 1\r\n",
    "            \r\n",
    "        print(ans)\r\n",
    "        for i in range(len(ans) - 1, 0, -1):\r\n",
    "            while ans[i] == 2:\r\n",
    "                ans[i] % 0\r\n",
    "                ans[i - 1] += 1\r\n",
    "\r\n",
    "        if ans[0] == 2:\r\n",
    "            ans[0] = 0\r\n",
    "            ans.appendleft(1)\r\n",
    "\r\n",
    "        return ''.join([str(i) for i in ans])\r\n",
    "    \r\n",
    "\r\n",
    "\r\n",
    "\r\n",
    "s = Solution()\r\n",
    "s.addBinary(a = \"11\", b = \"1\")\r\n",
    "s.addBinary(a = \"1010\", b = \"1011\")\r\n",
    "s.addBinary(a = '1111', b = '1111')"
   ],
   "outputs": [
    {
     "output_type": "stream",
     "name": "stdout",
     "text": [
      "deque([1, 2])\n",
      "deque([2, 0, 2, 1])\n",
      "deque([2, 2, 2, 2])\n",
      "\u0000\u0000\u0000\u0006'3030'\u0000\u0000\u0000\t'0b110b1'"
     ]
    },
    {
     "output_type": "execute_result",
     "data": {
      "text/plain": [
       "'3030'\u0000\u0000\u0000\t'0b110b1'"
      ]
     },
     "metadata": {},
     "execution_count": 183
    }
   ],
   "metadata": {}
  },
  {
   "cell_type": "code",
   "execution_count": 179,
   "source": [
    "a = '11'\r\n",
    "\r\n",
    "\r\n",
    "bin(3) + bin(1)"
   ],
   "outputs": [
    {
     "output_type": "execute_result",
     "data": {
      "text/plain": [
       "'0b110b1'"
      ]
     },
     "metadata": {},
     "execution_count": 179
    }
   ],
   "metadata": {}
  },
  {
   "cell_type": "code",
   "execution_count": null,
   "source": [],
   "outputs": [],
   "metadata": {}
  }
 ],
 "metadata": {
  "orig_nbformat": 4,
  "language_info": {
   "name": "python",
   "version": "3.11.1",
   "mimetype": "text/x-python",
   "codemirror_mode": {
    "name": "ipython",
    "version": 3
   },
   "pygments_lexer": "ipython3",
   "nbconvert_exporter": "python",
   "file_extension": ".py"
  },
  "kernelspec": {
   "name": "python3",
   "language": "python",
   "display_name": "Python 3"
  },
  "vscode": {
   "interpreter": {
    "hash": "3c82aea9bf3f365190a7e416b607cf2c9372b04170f58ad31092367f98b9b5cc"
   }
  }
 },
 "nbformat": 4,
 "nbformat_minor": 2
}