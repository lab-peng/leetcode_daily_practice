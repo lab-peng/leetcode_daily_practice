{
 "cells": [
  {
   "cell_type": "code",
   "execution_count": 4,
   "metadata": {},
   "outputs": [],
   "source": [
    "from typing import List, Optional"
   ]
  },
  {
   "cell_type": "code",
   "execution_count": 5,
   "metadata": {},
   "outputs": [],
   "source": [
    "from collections import Counter\n",
    "\n",
    "class Solution:\n",
    "    def majorityElement(self, nums: List[int]) -> List[int]:\n",
    "        \"\"\"\n",
    "        229. Majority Element II\n",
    "        https://leetcode.com/problems/majority-element-ii/\n",
    "        \"\"\"\n",
    "        counter = Counter(nums)\n",
    "        threhold = len(nums) // 3\n",
    "        return [k for k, v in counter.items() if v > threhold]\n",
    "    \n",
    "s = Solution()\n",
    "assert s.majorityElement([3,2,3]) == [3]\n",
    "assert s.majorityElement([1, 2]) == [1, 2]\n",
    "assert s.majorityElement([1, 2, 3]) == []"
   ]
  },
  {
   "cell_type": "code",
   "execution_count": 6,
   "metadata": {},
   "outputs": [],
   "source": [
    "# Definition for a binary tree node.\n",
    "class TreeNode:\n",
    "    def __init__(self, val=0, left=None, right=None):\n",
    "        self.val = val\n",
    "        self.left = left\n",
    "        self.right = right\n",
    "\n",
    "class Solution:\n",
    "    def kthSmallest(self, root: Optional[TreeNode], k: int) -> int:\n",
    "        \"\"\"\n",
    "        230. Kth Smallest Element in a BST\n",
    "        https://leetcode.com/problems/kth-smallest-element-in-a-bst/\n",
    "        \"\"\"\n",
    "        def inorder(root):\n",
    "            if not root:\n",
    "                return []\n",
    "            return [*inorder(root.left), root.val, *inorder(root.right)]\n",
    "\n",
    "        # return heapq.nsmallest(k, inorder(root))[-1]\n",
    "        return inorder(root)[k - 1]"
   ]
  },
  {
   "cell_type": "code",
   "execution_count": null,
   "metadata": {},
   "outputs": [],
   "source": []
  },
  {
   "cell_type": "code",
   "execution_count": null,
   "metadata": {},
   "outputs": [],
   "source": []
  }
 ],
 "metadata": {
  "kernelspec": {
   "display_name": "Python 3",
   "language": "python",
   "name": "python3"
  },
  "language_info": {
   "codemirror_mode": {
    "name": "ipython",
    "version": 3
   },
   "file_extension": ".py",
   "mimetype": "text/x-python",
   "name": "python",
   "nbconvert_exporter": "python",
   "pygments_lexer": "ipython3",
   "version": "3.11.1"
  },
  "orig_nbformat": 4,
  "vscode": {
   "interpreter": {
    "hash": "b7ca4a75756fff48ad75ddef2741ecfed8f2ce12ec8770943891cb3b12546634"
   }
  }
 },
 "nbformat": 4,
 "nbformat_minor": 2
}
