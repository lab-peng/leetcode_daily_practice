{
 "cells": [
  {
   "cell_type": "code",
   "execution_count": null,
   "source": [
    "from typing import List, Optional\r\n",
    "from collections import Counter"
   ],
   "outputs": [],
   "metadata": {}
  },
  {
   "cell_type": "markdown",
   "source": [
    "1 3Sum\r\n",
    "https://leetcode.com/problems/3sum/\r\n"
   ],
   "metadata": {}
  },
  {
   "cell_type": "code",
   "execution_count": 60,
   "source": [
    "class Solution:\r\n",
    "    def threeSum(self, nums: List[int]) -> List[List[int]]:\r\n",
    "        res = []  # res == result\r\n",
    "        nums.sort()\r\n",
    "\r\n",
    "        for i, v in enumerate(nums):\r\n",
    "            if i > 0 and v == nums[i-1]:\r\n",
    "                continue\r\n",
    "            l, r = i + 1, len(nums) - 1\r\n",
    "            while l < r:\r\n",
    "                three_sum = v + nums[l] + nums[r]\r\n",
    "                if three_sum > 0:\r\n",
    "                    r -= 1\r\n",
    "                elif three_sum < 0:\r\n",
    "                    l += 1\r\n",
    "                else:\r\n",
    "                    res.append([v, nums[l], nums[r]])\r\n",
    "                    l += 1\r\n",
    "                    while nums[l] == nums[l-1] and l < r:\r\n",
    "                        l += 1\r\n",
    "        return res\r\n",
    "\r\n",
    "nums = [-1,0,1,2,-1,-4]\r\n",
    "output = [[-1,-1,2],[-1,0,1]]\r\n",
    "\r\n",
    "s = Solution()\r\n",
    "assert s.threeSum(nums) == output"
   ],
   "outputs": [],
   "metadata": {}
  },
  {
   "cell_type": "code",
   "execution_count": null,
   "source": [],
   "outputs": [],
   "metadata": {}
  },
  {
   "cell_type": "code",
   "execution_count": null,
   "source": [],
   "outputs": [],
   "metadata": {}
  }
 ],
 "metadata": {
  "kernelspec": {
   "name": "python3",
   "language": "python",
   "display_name": "Python 3"
  },
  "language_info": {
   "codemirror_mode": {
    "name": "ipython",
    "version": 3
   },
   "file_extension": ".py",
   "mimetype": "text/x-python",
   "name": "python",
   "nbconvert_exporter": "python",
   "pygments_lexer": "ipython3",
   "version": "3.11.1"
  },
  "orig_nbformat": 4,
  "vscode": {
   "interpreter": {
    "hash": "3c82aea9bf3f365190a7e416b607cf2c9372b04170f58ad31092367f98b9b5cc"
   }
  }
 },
 "nbformat": 4,
 "nbformat_minor": 2
}