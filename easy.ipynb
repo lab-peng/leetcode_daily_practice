{
 "cells": [
  {
   "cell_type": "code",
   "execution_count": 2,
   "metadata": {},
   "outputs": [],
   "source": [
    "from typing import List\n",
    "from typing import Optional"
   ]
  },
  {
   "cell_type": "markdown",
   "metadata": {},
   "source": [
    "1 Valid Anagrams\n",
    "https://leetcode.com/problems/valid-anagram/"
   ]
  },
  {
   "cell_type": "code",
   "execution_count": 3,
   "metadata": {},
   "outputs": [
    {
     "data": {
      "text/plain": [
       "True"
      ]
     },
     "execution_count": 3,
     "metadata": {},
     "output_type": "execute_result"
    }
   ],
   "source": [
    "class Solution:\n",
    "    def isAnagram(self, s: str, t: str) -> bool:\n",
    "        if len(s) != len(t):\n",
    "            return False\n",
    "        dict_s = {}\n",
    "        dict_t = {}\n",
    "        for i in range(len(s)):\n",
    "            dict_s[s[i]] = dict_s.get(s[i], 0) + 1\n",
    "            dict_t[t[i]] = dict_t.get(t[i], 0) + 1\n",
    "\n",
    "        for key in dict_s:\n",
    "            if dict_s.get(key) != dict_t.get(key):\n",
    "                return False\n",
    "        return True\n",
    "\n",
    "s = Solution()\n",
    "s.isAnagram('rat', 'tar')"
   ]
  },
  {
   "cell_type": "code",
   "execution_count": 4,
   "metadata": {},
   "outputs": [
    {
     "data": {
      "text/plain": [
       "True"
      ]
     },
     "execution_count": 4,
     "metadata": {},
     "output_type": "execute_result"
    }
   ],
   "source": [
    "class Solution:\n",
    "    def isAnagram(self, s: str, t: str) -> bool:\n",
    "        return sorted(s) == sorted(t)\n",
    "s = Solution()\n",
    "s.isAnagram('rat', 'tar')"
   ]
  },
  {
   "cell_type": "code",
   "execution_count": 5,
   "metadata": {},
   "outputs": [
    {
     "data": {
      "text/plain": [
       "True"
      ]
     },
     "execution_count": 5,
     "metadata": {},
     "output_type": "execute_result"
    }
   ],
   "source": [
    "from collections import Counter\n",
    "class Solution:\n",
    "    def isAnagram(self, s: str, t: str) -> bool:\n",
    "        return Counter(s.replace(' ', '')) == Counter(t.replace(' ', ''))\n",
    "s = Solution()\n",
    "s.isAnagram('public relations', 'crap built on lies')"
   ]
  },
  {
   "cell_type": "markdown",
   "metadata": {},
   "source": [
    "2 Two Sum\n",
    "https://leetcode.com/problems/two-sum/"
   ]
  },
  {
   "cell_type": "code",
   "execution_count": 6,
   "metadata": {},
   "outputs": [
    {
     "data": {
      "text/plain": [
       "[1, 4]"
      ]
     },
     "execution_count": 6,
     "metadata": {},
     "output_type": "execute_result"
    }
   ],
   "source": [
    "class Solution:\n",
    "    def twoSum(self, nums: list[int], target: int) -> list[int]:\n",
    "        hm = {}\n",
    "        for i, v in enumerate(nums):\n",
    "            complement = target - v\n",
    "            if v not in hm:\n",
    "                hm[complement] = i\n",
    "            else:\n",
    "                return [hm[v], i]     \n",
    "\n",
    "nums = [3, 5, 2, -4, 8, 11]\n",
    "target = 13\n",
    "s = Solution()\n",
    "s.twoSum(nums, target)"
   ]
  },
  {
   "cell_type": "markdown",
   "metadata": {},
   "source": [
    "3 Maximum Subarray \n",
    "https://leetcode.com/problems/maximum-subarray/"
   ]
  },
  {
   "cell_type": "code",
   "execution_count": 7,
   "metadata": {},
   "outputs": [
    {
     "data": {
      "text/plain": [
       "6"
      ]
     },
     "execution_count": 7,
     "metadata": {},
     "output_type": "execute_result"
    }
   ],
   "source": [
    "# Jay Kadane Algorithm    kadane pronounced as ka(as in kebab)-- Darn (no r sound)\n",
    "class Solution:\n",
    "    def maxSubArray(self, nums: List[int]) -> int:\n",
    "        max_sum, cur_sum = float('-inf'), 0\n",
    "\n",
    "        for n in nums:\n",
    "            cur_sum = max((cur_sum + n), n)\n",
    "            max_sum = max(max_sum, cur_sum)\n",
    "        \n",
    "        return max_sum\n",
    "\n",
    "\n",
    "nums = [-2,1,-3,4,-1,2,1,-5,4]\n",
    "# nums = [1]\n",
    "s = Solution()\n",
    "s.maxSubArray(nums)"
   ]
  },
  {
   "cell_type": "code",
   "execution_count": 8,
   "metadata": {},
   "outputs": [
    {
     "data": {
      "text/plain": [
       "2"
      ]
     },
     "execution_count": 8,
     "metadata": {},
     "output_type": "execute_result"
    }
   ],
   "source": [
    "# ⭐dynamic sized sliding windows: I haven't figured out yet\n",
    "class Solution:\n",
    "    def maxSubArray(self, nums: List[int]) -> int:\n",
    "        start = 0\n",
    "        end = 0\n",
    "        total = 0\n",
    "        current_max = nums[0]\n",
    "\n",
    "        while end < len(nums):\n",
    "            total += nums[end]\n",
    "            end += 1\n",
    "            current_max = max(current_max, total)\n",
    "            # print(nums[start: end], current_max)\n",
    "\n",
    "        return current_max\n",
    "\n",
    "nums = [-2,1,-3,4,-1,2,1,-5,4]\n",
    "s = Solution()\n",
    "s.maxSubArray(nums)"
   ]
  },
  {
   "cell_type": "code",
   "execution_count": 9,
   "metadata": {},
   "outputs": [
    {
     "data": {
      "text/plain": [
       "6"
      ]
     },
     "execution_count": 9,
     "metadata": {},
     "output_type": "execute_result"
    }
   ],
   "source": [
    "# O(n^2) Time Limit Exceeded\n",
    "class Solution:\n",
    "    def maxSubArray(self, nums: List[int]) -> int:\n",
    "        current_max = float('-inf')\n",
    "        for i in range(len(nums)):\n",
    "            for j in range(i, len(nums)):\n",
    "                current_max = max(current_max, sum(nums[i: j+1]))\n",
    "        return current_max\n",
    "\n",
    "nums = [-2,1,-3,4,-1,2,1,-5,4]\n",
    "s = Solution()\n",
    "s.maxSubArray(nums)"
   ]
  },
  {
   "cell_type": "code",
   "execution_count": 10,
   "metadata": {},
   "outputs": [
    {
     "data": {
      "text/plain": [
       "6"
      ]
     },
     "execution_count": 10,
     "metadata": {},
     "output_type": "execute_result"
    }
   ],
   "source": [
    "# Dynamic Programming\n",
    "class Solution:\n",
    "    def maxSubArray(self, nums: List[int]) -> int:\n",
    "        for i in range(1, len(nums)):\n",
    "            nums[i] = max(nums[i-1] + nums[i], nums[i])\n",
    "            # print(i, nums)\n",
    "        return max(nums)\n",
    "\n",
    "nums = [-2,1,-3,4,-1,2,1,-5,4]\n",
    "s = Solution()\n",
    "s.maxSubArray(nums)"
   ]
  },
  {
   "cell_type": "markdown",
   "metadata": {},
   "source": [
    "4 Two Sum II - Input Array Is Sorted\n",
    "https://leetcode.com/problems/two-sum-ii-input-array-is-sorted/\n"
   ]
  },
  {
   "cell_type": "code",
   "execution_count": 11,
   "metadata": {},
   "outputs": [
    {
     "data": {
      "text/plain": [
       "[1, 3]"
      ]
     },
     "execution_count": 11,
     "metadata": {},
     "output_type": "execute_result"
    }
   ],
   "source": [
    "# Two pointers problem\n",
    "class Solution:\n",
    "    def twoSum(self, nums: list[int], target: int) -> list[int]:\n",
    "        left = 0\n",
    "        right = len(nums) - 1\n",
    "        while left < right:\n",
    "            if target < nums[left] + nums[right]:\n",
    "                right -= 1\n",
    "            elif target > nums[left] + nums[right]:\n",
    "                left += 1\n",
    "            else:\n",
    "                return [left+1, right+1]\n",
    "\n",
    "nums = [2, 3, 4]\n",
    "target = 6\n",
    "s = Solution()\n",
    "s.twoSum(nums, target)"
   ]
  },
  {
   "cell_type": "markdown",
   "metadata": {},
   "source": [
    "5 House Robber\n",
    "https://leetcode.com/problems/house-robber/\n"
   ]
  },
  {
   "cell_type": "code",
   "execution_count": 12,
   "metadata": {},
   "outputs": [
    {
     "data": {
      "text/plain": [
       "12"
      ]
     },
     "execution_count": 12,
     "metadata": {},
     "output_type": "execute_result"
    }
   ],
   "source": [
    "# dynamic programming\n",
    "class Solution:\n",
    "    def rob(self, nums: List[int]) -> int:\n",
    "        if not nums:\n",
    "            return 0\n",
    "        \n",
    "        if len(nums) == 1:\n",
    "            return nums[0]\n",
    "\n",
    "        dp = [None] * len(nums)  # cache list\n",
    "\n",
    "        dp[0] = nums[0]\n",
    "        dp[1] = max(nums[0], nums[1])\n",
    "\n",
    "        for i in range(2, len(nums)):\n",
    "            dp[i] = max((nums[i] + dp[i-2]), dp[i-1])\n",
    "        \n",
    "        return dp[-1]\n",
    "\n",
    "s = Solution()\n",
    "nums = [2, 7, 9, 3, 1]\n",
    "# nums = [1, 2, 3, 1]\n",
    "s.rob(nums)\n",
    "        "
   ]
  },
  {
   "cell_type": "markdown",
   "metadata": {},
   "source": [
    "6 Merge Two Sorted Lists\n",
    "https://leetcode.com/problems/merge-two-sorted-lists/\n"
   ]
  },
  {
   "cell_type": "code",
   "execution_count": 13,
   "metadata": {},
   "outputs": [
    {
     "name": "stdout",
     "output_type": "stream",
     "text": [
      "1\n",
      "1\n",
      "2\n",
      "3\n",
      "4\n",
      "4\n"
     ]
    }
   ],
   "source": [
    "# Definition for singly-linked list.\n",
    "# Input: list1 = [1,2,4], list2 = [1,3,4]\n",
    "# Output: [1,1,2,3,4,4]\n",
    "\n",
    "class ListNode:\n",
    "    def __init__(self, val=0, next=None):\n",
    "        self.val = val\n",
    "        self.next = next\n",
    "        \n",
    "class Solution:\n",
    "    def mergeTwoLists(self, list1: Optional[ListNode], list2: Optional[ListNode]) -> Optional[ListNode]:\n",
    "        head = ListNode()\n",
    "        tail = head\n",
    "\n",
    "        left = list1\n",
    "        right = list2\n",
    "\n",
    "        while left and right:\n",
    "            if left.val < right.val:\n",
    "                tail.next = left\n",
    "                left = left.next\n",
    "            else:\n",
    "                tail.next = right\n",
    "                right = right.next \n",
    "            tail = tail.next\n",
    "\n",
    "        if left:\n",
    "            tail.next = left\n",
    "        elif right:\n",
    "            tail.next = right \n",
    "\n",
    "        return head.next\n",
    "\n",
    "# class Solution:\n",
    "#     def mergeTwoLists(self, l1: Optional[ListNode], l2: Optional[ListNode]) -> Optional[ListNode]:\n",
    "#         head = ListNode()\n",
    "#         tail = head\n",
    "\n",
    "#         while l1 and l2:\n",
    "#             if l1.val < l2.val:\n",
    "#                 tail.next = l1\n",
    "#                 l1 = l1.next\n",
    "#             else:\n",
    "#                 tail.next = l2\n",
    "#                 l2 = l2.next\n",
    "#             tail = tail.next \n",
    "\n",
    "#         if l1:\n",
    "#             tail.next = l1\n",
    "#         elif l2:\n",
    "#             tail.next = l2\n",
    "\n",
    "#         return head.next\n",
    "\n",
    "list1 = ListNode(1)\n",
    "list1.next = ListNode(2)\n",
    "list1.next.next = ListNode(4)\n",
    "\n",
    "list2 = ListNode(1)\n",
    "list2.next = ListNode(3)\n",
    "list2.next.next = ListNode(4)\n",
    "\n",
    "s = Solution()\n",
    "merged = s.mergeTwoLists(list1, list2)\n",
    "\n",
    "node = merged\n",
    "while node:\n",
    "    print(node.val)\n",
    "    node = node.next"
   ]
  },
  {
   "cell_type": "markdown",
   "metadata": {},
   "source": [
    "7 Best Time to Buy and Sell Stock\n",
    "https://leetcode.com/problems/best-time-to-buy-and-sell-stock/"
   ]
  },
  {
   "cell_type": "code",
   "execution_count": 14,
   "metadata": {},
   "outputs": [
    {
     "data": {
      "text/plain": [
       "5"
      ]
     },
     "execution_count": 14,
     "metadata": {},
     "output_type": "execute_result"
    }
   ],
   "source": [
    "# Kadane Algorithm\n",
    "class Solution:\n",
    "    def maxProfit(self, prices: List[int]) -> int:\n",
    "        max_profit = 0\n",
    "        cur_min = prices[0]\n",
    "\n",
    "        if not prices:\n",
    "            return 0\n",
    "\n",
    "        for i in prices[1:]:\n",
    "            max_profit = max((i-cur_min), max_profit)\n",
    "            cur_min = min(cur_min, i)\n",
    "        \n",
    "        return max_profit\n",
    "        \n",
    "    \n",
    "prices = [7,1,5,3,6,4]\n",
    "# 5 = 6 - 1\n",
    "s = Solution()\n",
    "s.maxProfit(prices)  "
   ]
  },
  {
   "cell_type": "code",
   "execution_count": 15,
   "metadata": {},
   "outputs": [
    {
     "data": {
      "text/plain": [
       "8"
      ]
     },
     "execution_count": 15,
     "metadata": {},
     "output_type": "execute_result"
    }
   ],
   "source": [
    "# Two Pointers: l == left, r == right\n",
    "class Solution:\n",
    "    def maxProfit(self, prices: List[int]) -> int:\n",
    "        l, r = 0, 1\n",
    "        max_profit = 0\n",
    "\n",
    "        while r < len(prices):\n",
    "            if prices[l] < prices[r]:\n",
    "                max_profit = max(max_profit, (prices[r] - prices[l]))\n",
    "            else:\n",
    "                l = r\n",
    "            r += 1\n",
    "        \n",
    "        return max_profit\n",
    "    \n",
    "prices = [2,4,9,1,9]\n",
    "# 9 - 0 = 9\n",
    "s = Solution()\n",
    "s.maxProfit(prices)  "
   ]
  },
  {
   "cell_type": "markdown",
   "metadata": {},
   "source": [
    "8 Merge Sorted Array\n",
    "https://leetcode.com/problems/merge-sorted-array/"
   ]
  },
  {
   "cell_type": "code",
   "execution_count": 16,
   "metadata": {},
   "outputs": [
    {
     "name": "stdout",
     "output_type": "stream",
     "text": [
      "[1, 2, 2, 3, 5, 6]\n"
     ]
    }
   ],
   "source": [
    "class Solution:\n",
    "    def merge(self, nums1: List[int], m: int, nums2: List[int], n: int) -> None:\n",
    "        \"\"\"\n",
    "        Do not return anything, modify nums1 in-place instead.\n",
    "        \"\"\"\n",
    "        last = m + n -1 \n",
    "\n",
    "        while m and n:  # while m > 0 and n > 0\n",
    "            if nums1[m-1] > nums2[n-1]:\n",
    "                nums1[last] = nums1[m-1]\n",
    "                m -= 1\n",
    "            else:\n",
    "                nums1[last] = nums2[n-1]\n",
    "                n -= 1\n",
    "            last -= 1\n",
    "        \n",
    "        while n:  # or while n > 0\n",
    "            nums1[last] = nums2[n-1]\n",
    "            last, n = last-1, n-1\n",
    "\n",
    "nums1 = [1,2,3,0,0,0]\n",
    "m = 3\n",
    "nums2 = [2,5,6]\n",
    "n = 3\n",
    "s = Solution()\n",
    "s.merge(nums1, m, nums2, n)\n",
    "print(nums1)\n"
   ]
  },
  {
   "cell_type": "markdown",
   "metadata": {},
   "source": [
    "9 Climbing Stairs\n",
    "https://leetcode.com/problems/climbing-stairs/"
   ]
  },
  {
   "cell_type": "code",
   "execution_count": 17,
   "metadata": {},
   "outputs": [
    {
     "data": {
      "text/plain": [
       "13"
      ]
     },
     "execution_count": 17,
     "metadata": {},
     "output_type": "execute_result"
    }
   ],
   "source": [
    "# dynamic programming  fibonacci sequence\n",
    "class Solution:\n",
    "    def climbStairs(self, n: int) -> int:\n",
    "        if n > 0:\n",
    "            dp = [0] * n\n",
    "            dp[0] = 1\n",
    "            if n > 1:\n",
    "                dp[1] = 2\n",
    "            for i in range(2, n):\n",
    "                dp[i] = dp[i-1] + dp[i-2]\n",
    "        else:\n",
    "            return 0\n",
    "        return dp[-1]\n",
    "n = 6\n",
    "s = Solution()\n",
    "s.climbStairs(n)\n",
    "\n"
   ]
  },
  {
   "cell_type": "markdown",
   "metadata": {},
   "source": [
    "10 Reverse Linked List\n",
    "https://leetcode.com/problems/reverse-linked-list/\n"
   ]
  },
  {
   "cell_type": "code",
   "execution_count": 19,
   "metadata": {},
   "outputs": [
    {
     "name": "stdout",
     "output_type": "stream",
     "text": [
      "5\n",
      "4\n",
      "3\n",
      "2\n",
      "1\n"
     ]
    }
   ],
   "source": [
    "# Definition for singly-linked list.\n",
    "from re import L\n",
    "\n",
    "\n",
    "class ListNode:\n",
    "    def __init__(self, val=0, next=None):\n",
    "        self.val = val\n",
    "        self.next = next\n",
    "\n",
    "class Solution:\n",
    "    def reverseList(self, head: Optional[ListNode]) -> Optional[ListNode]:\n",
    "        prev, curr = None, head\n",
    "        while curr:\n",
    "            nxt = curr.next\n",
    "            curr.next = prev\n",
    "            prev = curr \n",
    "            curr = nxt\n",
    "        return prev\n",
    "\n",
    "\n",
    "\n",
    "\n",
    "head = ListNode(1)\n",
    "head.next = ListNode(2)\n",
    "head.next.next = ListNode(3)\n",
    "head.next.next.next = ListNode(4)\n",
    "head.next.next.next.next = ListNode(5)\n",
    "\n",
    "# while head:\n",
    "#     print(head.val)\n",
    "#     head = head.next\n",
    "\n",
    "s = Solution()\n",
    "result = s.reverseList(head)\n",
    "while result:\n",
    "    print(result.val)\n",
    "    result = result.next\n"
   ]
  },
  {
   "cell_type": "markdown",
   "metadata": {},
   "source": [
    "11 Diameter of Binary Tree\n"
   ]
  },
  {
   "cell_type": "code",
   "execution_count": null,
   "metadata": {},
   "outputs": [],
   "source": []
  },
  {
   "cell_type": "code",
   "execution_count": null,
   "metadata": {},
   "outputs": [],
   "source": []
  },
  {
   "cell_type": "code",
   "execution_count": null,
   "metadata": {},
   "outputs": [],
   "source": []
  },
  {
   "cell_type": "code",
   "execution_count": null,
   "metadata": {},
   "outputs": [],
   "source": []
  },
  {
   "cell_type": "code",
   "execution_count": null,
   "metadata": {},
   "outputs": [],
   "source": []
  },
  {
   "cell_type": "code",
   "execution_count": null,
   "metadata": {},
   "outputs": [],
   "source": []
  },
  {
   "cell_type": "code",
   "execution_count": null,
   "metadata": {},
   "outputs": [],
   "source": []
  },
  {
   "cell_type": "code",
   "execution_count": null,
   "metadata": {},
   "outputs": [],
   "source": []
  },
  {
   "cell_type": "code",
   "execution_count": null,
   "metadata": {},
   "outputs": [],
   "source": []
  },
  {
   "cell_type": "code",
   "execution_count": null,
   "metadata": {},
   "outputs": [],
   "source": []
  },
  {
   "cell_type": "code",
   "execution_count": null,
   "metadata": {},
   "outputs": [],
   "source": []
  },
  {
   "cell_type": "code",
   "execution_count": null,
   "metadata": {},
   "outputs": [],
   "source": []
  },
  {
   "cell_type": "code",
   "execution_count": null,
   "metadata": {},
   "outputs": [],
   "source": []
  },
  {
   "cell_type": "code",
   "execution_count": null,
   "metadata": {},
   "outputs": [],
   "source": []
  },
  {
   "cell_type": "code",
   "execution_count": null,
   "metadata": {},
   "outputs": [],
   "source": []
  },
  {
   "cell_type": "code",
   "execution_count": null,
   "metadata": {},
   "outputs": [],
   "source": []
  },
  {
   "cell_type": "code",
   "execution_count": null,
   "metadata": {},
   "outputs": [],
   "source": []
  },
  {
   "cell_type": "code",
   "execution_count": null,
   "metadata": {},
   "outputs": [],
   "source": []
  },
  {
   "cell_type": "code",
   "execution_count": null,
   "metadata": {},
   "outputs": [],
   "source": []
  },
  {
   "cell_type": "code",
   "execution_count": null,
   "metadata": {},
   "outputs": [],
   "source": []
  },
  {
   "cell_type": "code",
   "execution_count": null,
   "metadata": {},
   "outputs": [],
   "source": []
  },
  {
   "cell_type": "code",
   "execution_count": 6,
   "metadata": {},
   "outputs": [
    {
     "data": {
      "text/plain": [
       "3628800\u0000\u0000\u0000\u0006832040\u0000\u0000\u0000\u0006832040\u0000\u0000\u0000�\n",
       "    May God grant me the serenity to accept thing things I cannot change,\n",
       "        the courage to change the things I can, \n",
       "        and the wisdom always to tell the difference!\n",
       "\n",
       "\u0000\u0000\u0000\u0018Practice makes perfect!\n",
       "\u0000\u0000\u0000\u0004True"
      ]
     },
     "execution_count": 6,
     "metadata": {},
     "output_type": "execute_result"
    }
   ],
   "source": [
    "# factorial with dynamic programming\n",
    "def factorial(n):\n",
    "    if n == 0:\n",
    "        dp = [0]\n",
    "    elif n == 1:\n",
    "        dp = [1, 1]\n",
    "    else:\n",
    "        dp = [1, 1] + [None] * (n-1)\n",
    "        for i in range(2, n+1):\n",
    "            dp[i] = i * dp[i-1]\n",
    "    # print(dp)\n",
    "    return dp[-1]\n",
    "#   0, 1, 2, 3, 4,   5,   6,  7,    8,    9,     10\n",
    "# [ 1, 1, 2, 6, 24, 120, 720, 5040, 40320, 362880, 3628800]\n",
    "factorial(10)"
   ]
  },
  {
   "cell_type": "code",
   "execution_count": null,
   "metadata": {},
   "outputs": [],
   "source": []
  },
  {
   "cell_type": "code",
   "execution_count": null,
   "metadata": {},
   "outputs": [],
   "source": []
  },
  {
   "cell_type": "code",
   "execution_count": null,
   "metadata": {},
   "outputs": [],
   "source": []
  },
  {
   "cell_type": "code",
   "execution_count": null,
   "metadata": {},
   "outputs": [],
   "source": []
  },
  {
   "cell_type": "code",
   "execution_count": null,
   "metadata": {},
   "outputs": [],
   "source": []
  },
  {
   "cell_type": "code",
   "execution_count": null,
   "metadata": {},
   "outputs": [],
   "source": []
  },
  {
   "cell_type": "code",
   "execution_count": null,
   "metadata": {},
   "outputs": [],
   "source": []
  },
  {
   "cell_type": "code",
   "execution_count": null,
   "metadata": {},
   "outputs": [],
   "source": []
  },
  {
   "cell_type": "code",
   "execution_count": 316,
   "metadata": {},
   "outputs": [
    {
     "data": {
      "text/plain": [
       "832040\u0000\u0000\u0000\u0006832040\u0000\u0000\u0000�\n",
       "    May God grant me the serenity to accept thing things I cannot change,\n",
       "        the courage to change the things I can, \n",
       "        and the wisdom always to tell the difference!\n",
       "\n",
       "\u0000\u0000\u0000\u0018Practice makes perfect!\n",
       "\u0000\u0000\u0000\u0004True"
      ]
     },
     "execution_count": 316,
     "metadata": {},
     "output_type": "execute_result"
    }
   ],
   "source": [
    "# [0, 1, 1, 2, 3, 5, 8, 13, 21, 34, 55]\n",
    "# dynamic programming \n",
    "# https://www.youtube.com/watch?v=wVe4HMj3e7w\n",
    "\n",
    "# approch 1: recursion + memoization with a dict (top down)\n",
    "def fib(n, memo={}):\n",
    "    if 0 <= n < 2:\n",
    "        memo[n] = n\n",
    "    if n in memo:\n",
    "        return memo[n]\n",
    "    memo[n] = fib(n-1, memo) + fib(n-2, memo)\n",
    "    # print(memo)\n",
    "    return memo[n]\n",
    "\n",
    "fib(30)"
   ]
  },
  {
   "cell_type": "code",
   "execution_count": 315,
   "metadata": {},
   "outputs": [
    {
     "data": {
      "text/plain": [
       "832040\u0000\u0000\u0000�\n",
       "    May God grant me the serenity to accept thing things I cannot change,\n",
       "        the courage to change the things I can, \n",
       "        and the wisdom always to tell the difference!\n",
       "\n",
       "\u0000\u0000\u0000\u0018Practice makes perfect!\n",
       "\u0000\u0000\u0000\u0004True"
      ]
     },
     "execution_count": 315,
     "metadata": {},
     "output_type": "execute_result"
    }
   ],
   "source": [
    "# approach 2: tabulation (bottom up) is still recursion + memoization with a list\n",
    "def fib(n):\n",
    "    if 0 <= n < 2:\n",
    "        return n\n",
    "    cache = [None] * (n + 1)\n",
    "\n",
    "    cache[0] = 0\n",
    "    cache[1] = 1\n",
    "\n",
    "    for i in range(2, n+1):\n",
    "        cache[i] = cache[i-1] + cache[i-2]\n",
    "        # print(cache)\n",
    "    return cache[n]\n",
    "\n",
    "fib(30)"
   ]
  },
  {
   "cell_type": "code",
   "execution_count": 9,
   "metadata": {},
   "outputs": [
    {
     "name": "stdout",
     "output_type": "stream",
     "text": [
      "\n",
      "    May God grant me the serenity to accept thing things I cannot change,\n",
      "        the courage to change the things I can, \n",
      "        and the wisdom always to tell the difference!\n",
      "\n",
      "\u0000\u0000\u0000\u0018Practice makes perfect!\n",
      "\u0000\u0000\u0000\u0004True"
     ]
    }
   ],
   "source": [
    "motto = '''\n",
    "    May God grant me the serenity to accept thing things I cannot change,\n",
    "        the courage to change the things I can, \n",
    "        and the wisdom always to tell the difference!\n",
    "'''\n",
    "print(motto)\n",
    "        "
   ]
  },
  {
   "cell_type": "code",
   "execution_count": 10,
   "metadata": {},
   "outputs": [
    {
     "name": "stdout",
     "output_type": "stream",
     "text": [
      "Practice makes perfect!\n",
      "\u0000\u0000\u0000\u0004True"
     ]
    }
   ],
   "source": [
    "print('Practice makes perfect!')"
   ]
  },
  {
   "cell_type": "code",
   "execution_count": null,
   "metadata": {},
   "outputs": [],
   "source": []
  },
  {
   "cell_type": "code",
   "execution_count": null,
   "metadata": {},
   "outputs": [],
   "source": []
  },
  {
   "cell_type": "code",
   "execution_count": null,
   "metadata": {},
   "outputs": [],
   "source": []
  },
  {
   "cell_type": "code",
   "execution_count": null,
   "metadata": {},
   "outputs": [],
   "source": []
  },
  {
   "cell_type": "code",
   "execution_count": null,
   "metadata": {},
   "outputs": [],
   "source": []
  },
  {
   "cell_type": "code",
   "execution_count": null,
   "metadata": {},
   "outputs": [],
   "source": []
  },
  {
   "cell_type": "code",
   "execution_count": null,
   "metadata": {},
   "outputs": [],
   "source": []
  },
  {
   "cell_type": "code",
   "execution_count": 169,
   "metadata": {},
   "outputs": [
    {
     "data": {
      "text/plain": [
       "True"
      ]
     },
     "execution_count": 169,
     "metadata": {},
     "output_type": "execute_result"
    }
   ],
   "source": [
    "class Solution:\n",
    "    def isPalindrome(self, s: str) -> bool:\n",
    "        s = s.replace(' ', '').lower()\n",
    "        s = [i for i in s if i.isalpha() or i.isnumeric()]\n",
    "        left = 0\n",
    "        right = len(s) - 1\n",
    "        \n",
    "        for i in range(len(s) // 2):\n",
    "            if s[left] != s[right]:\n",
    "                return False\n",
    "            left += 1\n",
    "            right -= 1\n",
    "        return True\n",
    "\n",
    "x = 'aba'\n",
    "x = \"A man, a plan, a canal: Panama\"\n",
    "s = Solution()\n",
    "s.isPalindrome(x)"
   ]
  },
  {
   "cell_type": "code",
   "execution_count": null,
   "metadata": {},
   "outputs": [],
   "source": []
  }
 ],
 "metadata": {
  "kernelspec": {
   "display_name": "Python 3",
   "language": "python",
   "name": "python3"
  },
  "language_info": {
   "codemirror_mode": {
    "name": "ipython",
    "version": 3
   },
   "file_extension": ".py",
   "mimetype": "text/x-python",
   "name": "python",
   "nbconvert_exporter": "python",
   "pygments_lexer": "ipython3",
   "version": "3.11.1"
  },
  "orig_nbformat": 4,
  "vscode": {
   "interpreter": {
    "hash": "b7ca4a75756fff48ad75ddef2741ecfed8f2ce12ec8770943891cb3b12546634"
   }
  }
 },
 "nbformat": 4,
 "nbformat_minor": 2
}
