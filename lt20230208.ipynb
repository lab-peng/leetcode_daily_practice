{
 "cells": [
  {
   "cell_type": "code",
   "execution_count": null,
   "metadata": {},
   "outputs": [],
   "source": [
    "from typing import List, Optional"
   ]
  },
  {
   "cell_type": "code",
   "execution_count": null,
   "metadata": {},
   "outputs": [
    {
     "name": "stdout",
     "output_type": "stream",
     "text": [
      "41\n"
     ]
    }
   ],
   "source": [
    "class Solution:\n",
    "    def numOfSubarrays(self, arr: List[int], k: int, threshold: int) -> int:\n",
    "        \"\"\" \n",
    "        1343. Number of Sub-arrays of Size K and Average Greater than or Equal to Threshold\n",
    "        https://leetcode.com/problems/number-of-sub-arrays-of-size-k-and-average-greater-than-or-equal-to-threshold/\n",
    "        \"\"\"\n",
    "        \n",
    "        total = sum(arr[:k])\n",
    "        threshold *= k\n",
    "        ans = 1 if total >= threshold else 0\n",
    "        for i in range(1, len(arr) - k +  1):\n",
    "            total -= arr[i - 1]\n",
    "            total += arr[i + k - 1]\n",
    "            if total >= threshold:\n",
    "                ans += 1\n",
    "\n",
    "        return ans\n",
    "\n",
    "arr = [11,13,17,23,29,31,7,5,2,3]\n",
    "k = 3\n",
    "threshold = 5\n",
    "\n",
    "s = Solution()\n",
    "assert s.numOfSubarrays(arr, k, threshold) == 6"
   ]
  },
  {
   "cell_type": "code",
   "execution_count": null,
   "metadata": {},
   "outputs": [],
   "source": []
  },
  {
   "cell_type": "code",
   "execution_count": null,
   "metadata": {},
   "outputs": [],
   "source": []
  }
 ],
 "metadata": {
  "kernelspec": {
   "display_name": "Python 3",
   "language": "python",
   "name": "python3"
  },
  "language_info": {
   "codemirror_mode": {
    "name": "ipython",
    "version": 3
   },
   "file_extension": ".py",
   "mimetype": "text/x-python",
   "name": "python",
   "nbconvert_exporter": "python",
   "pygments_lexer": "ipython3",
   "version": "3.11.1"
  },
  "orig_nbformat": 4,
  "vscode": {
   "interpreter": {
    "hash": "b7ca4a75756fff48ad75ddef2741ecfed8f2ce12ec8770943891cb3b12546634"
   }
  }
 },
 "nbformat": 4,
 "nbformat_minor": 2
}
