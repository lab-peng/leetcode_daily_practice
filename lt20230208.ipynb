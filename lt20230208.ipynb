{
 "cells": [
  {
   "cell_type": "code",
   "execution_count": null,
   "source": [
    "from typing import List, Optional"
   ],
   "outputs": [],
   "metadata": {}
  },
  {
   "cell_type": "code",
   "execution_count": null,
   "source": [
    "class Solution:\r\n",
    "    def numOfSubarrays(self, arr: List[int], k: int, threshold: int) -> int:\r\n",
    "        \"\"\" \r\n",
    "        1343. Number of Sub-arrays of Size K and Average Greater than or Equal to Threshold\r\n",
    "        https://leetcode.com/problems/number-of-sub-arrays-of-size-k-and-average-greater-than-or-equal-to-threshold/\r\n",
    "        \"\"\"\r\n",
    "        \r\n",
    "        total = sum(arr[:k])\r\n",
    "        threshold *= k\r\n",
    "        ans = 1 if total >= threshold else 0\r\n",
    "        for i in range(1, len(arr) - k +  1):\r\n",
    "            total -= arr[i - 1]\r\n",
    "            total += arr[i + k - 1]\r\n",
    "            if total >= threshold:\r\n",
    "                ans += 1\r\n",
    "\r\n",
    "        return ans\r\n",
    "\r\n",
    "arr = [11,13,17,23,29,31,7,5,2,3]\r\n",
    "k = 3\r\n",
    "threshold = 5\r\n",
    "\r\n",
    "s = Solution()\r\n",
    "assert s.numOfSubarrays(arr, k, threshold) == 6"
   ],
   "outputs": [
    {
     "output_type": "stream",
     "name": "stdout",
     "text": [
      "41\n"
     ]
    }
   ],
   "metadata": {}
  },
  {
   "cell_type": "code",
   "execution_count": null,
   "source": [],
   "outputs": [],
   "metadata": {}
  },
  {
   "cell_type": "code",
   "execution_count": null,
   "source": [],
   "outputs": [],
   "metadata": {}
  }
 ],
 "metadata": {
  "kernelspec": {
   "display_name": "Python 3",
   "language": "python",
   "name": "python3"
  },
  "language_info": {
   "codemirror_mode": {
    "name": "ipython",
    "version": 3
   },
   "file_extension": ".py",
   "mimetype": "text/x-python",
   "name": "python",
   "nbconvert_exporter": "python",
   "pygments_lexer": "ipython3",
   "version": "3.11.1"
  },
  "orig_nbformat": 4,
  "vscode": {
   "interpreter": {
    "hash": "3c82aea9bf3f365190a7e416b607cf2c9372b04170f58ad31092367f98b9b5cc"
   }
  }
 },
 "nbformat": 4,
 "nbformat_minor": 2
}