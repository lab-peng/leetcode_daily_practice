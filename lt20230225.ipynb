{
 "cells": [
  {
   "cell_type": "code",
   "execution_count": null,
   "metadata": {},
   "outputs": [],
   "source": [
    "from collections import deque"
   ]
  },
  {
   "cell_type": "code",
   "execution_count": 2,
   "metadata": {},
   "outputs": [],
   "source": [
    "class LRUCache:\n",
    "    \"\"\" \n",
    "    146. LRU Cache\n",
    "    https://leetcode.com/problems/lru-cache/\n",
    "    \"\"\"\n",
    "\n",
    "    def __init__(self, capacity: int):\n",
    "        self.d = {}\n",
    "        self.stack = []\n",
    "\n",
    "    def get(self, key: int) -> int:\n",
    "        return self.d.get(key, -1)\n",
    "        \n",
    "    def put(self, key: int, value: int) -> None:\n",
    "        self.d[key] = value\n",
    "        self.last = key\n",
    "\n",
    "            \n",
    "        \n",
    "\n",
    "\n",
    "# obj = LRUCache(capacity)\n",
    "# param_1 = obj.get(key)\n",
    "# obj.put(key,value)"
   ]
  },
  {
   "cell_type": "code",
   "execution_count": 3,
   "metadata": {},
   "outputs": [
    {
     "data": {
      "text/plain": [
       "{1: 1, 2: 2, 4: 4}"
      ]
     },
     "execution_count": 3,
     "metadata": {},
     "output_type": "execute_result"
    }
   ],
   "source": [
    "d = {}\n",
    "d[1] = 1\n",
    "d[2] = 2\n",
    "d.get(1)\n",
    "d[3] = 3\n",
    "d.popitem()\n",
    "d.get(2, -1)\n",
    "d[4] = 4\n",
    "d\n",
    "\n",
    "\n",
    "\n"
   ]
  },
  {
   "cell_type": "code",
   "execution_count": null,
   "metadata": {},
   "outputs": [],
   "source": []
  }
 ],
 "metadata": {
  "kernelspec": {
   "display_name": "Python 3",
   "language": "python",
   "name": "python3"
  },
  "language_info": {
   "codemirror_mode": {
    "name": "ipython",
    "version": 3
   },
   "file_extension": ".py",
   "mimetype": "text/x-python",
   "name": "python",
   "nbconvert_exporter": "python",
   "pygments_lexer": "ipython3",
   "version": "3.11.1"
  },
  "orig_nbformat": 4,
  "vscode": {
   "interpreter": {
    "hash": "b7ca4a75756fff48ad75ddef2741ecfed8f2ce12ec8770943891cb3b12546634"
   }
  }
 },
 "nbformat": 4,
 "nbformat_minor": 2
}
