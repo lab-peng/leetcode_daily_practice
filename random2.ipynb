{
 "cells": [
  {
   "cell_type": "code",
   "execution_count": 2,
   "metadata": {},
   "outputs": [
    {
     "name": "stdout",
     "output_type": "stream",
     "text": [
      "5\n",
      "[0, 1, 2, 3, 4, 2, 2, 3, 3, 4]\n"
     ]
    }
   ],
   "source": [
    "from typing import List\n",
    "class Solution:\n",
    "    def removeDuplicates(self, nums: List[int]) -> int:\n",
    "        \"\"\"\n",
    "        26. Remove Duplicates from Sorted Array\n",
    "        \"\"\"\n",
    "        l = 1\n",
    "        for r in range(1, len(nums)):\n",
    "            if nums[r] != nums[r - 1]:\n",
    "                nums[l] = nums[r]\n",
    "                l += 1\n",
    "        return l\n",
    "    \n",
    "nums = [0,0,1,1,1,2,2,3,3,4]\n",
    "s = Solution()\n",
    "print(s.removeDuplicates(nums))\n",
    "print(nums)"
   ]
  },
  {
   "cell_type": "code",
   "execution_count": 9,
   "metadata": {},
   "outputs": [],
   "source": [
    "from collections import defaultdict\n",
    "\n",
    "class Solution:\n",
    "    def totalFruit(self, fruits: List[int]) -> int:\n",
    "        \"\"\" \n",
    "        904. Fruit Into Baskets\n",
    "        https://leetcode.com/problems/fruit-into-baskets/\n",
    "\n",
    "        Rephrased problem description: Find the widest sliding window \n",
    "        consisting of two unique elements.\n",
    "\n",
    "        \"\"\"\n",
    "        l, total, max_total = 0, 0, 0\n",
    "        counter = defaultdict(int)\n",
    "\n",
    "        for r in range(len(fruits)):\n",
    "            counter[fruits[r]] += 1\n",
    "            total += 1\n",
    "\n",
    "            if len(counter) > 2:\n",
    "                counter[fruits[l]] -= 1\n",
    "                total -= 1\n",
    "\n",
    "                if not counter[fruits[l]]:\n",
    "                    counter.pop(fruits[l])\n",
    "                    l += 1\n",
    "\n",
    "            max_total = max(max_total, total)\n",
    "        return max_total\n",
    "\n",
    "s = Solution()\n",
    "assert s.totalFruit([0,1,2,2]) == 3\n",
    "assert s.totalFruit([1,2,3,2,2]) == 4"
   ]
  },
  {
   "cell_type": "code",
   "execution_count": 10,
   "metadata": {},
   "outputs": [],
   "source": [
    "# Definition for a Node.\n",
    "class Node:\n",
    "    def __init__(self, val=None, children=None):\n",
    "        self.val = val\n",
    "        self.children = children\n",
    "\n",
    "class Solution:\n",
    "    def postorder(self, root: 'Node') -> List[int]:\n",
    "        \"\"\" \n",
    "        590. N-ary Tree Postorder Traversal\n",
    "        https://leetcode.com/problems/n-ary-tree-postorder-traversal/\n",
    "        \"\"\"\n",
    "        ans = []\n",
    "        def dfs(root):\n",
    "            if not root:\n",
    "                return\n",
    "            for child in root.children:\n",
    "                dfs(child)\n",
    "            ans.append(root.val)\n",
    "        dfs(root)\n",
    "\n",
    "        return ans"
   ]
  },
  {
   "cell_type": "code",
   "execution_count": 12,
   "metadata": {},
   "outputs": [],
   "source": [
    "from collections import deque\n",
    "class Solution:\n",
    "    def levelOrder(self, root: 'Node') -> List[List[int]]:\n",
    "        \"\"\" \n",
    "        429. N-ary Tree Level Order Traversal\n",
    "        https://leetcode.com/problems/n-ary-tree-level-order-traversal/\n",
    "        \"\"\"\n",
    "        ans = []\n",
    "        q = deque()\n",
    "        if root:\n",
    "            q.append(root)\n",
    "\n",
    "        while q:\n",
    "            lvl = []\n",
    "            for i in range(len(q)):\n",
    "                crt = q.popleft()\n",
    "                lvl.append(crt.val)\n",
    "                if crt.children:\n",
    "                    for child in crt.children:\n",
    "                        q.append(child)\n",
    "            ans.append(lvl)\n",
    "\n",
    "        return ans"
   ]
  },
  {
   "cell_type": "code",
   "execution_count": 13,
   "metadata": {},
   "outputs": [],
   "source": [
    "# string builder += is not as efficient as  [].append and ''.join([....])"
   ]
  },
  {
   "cell_type": "code",
   "execution_count": 22,
   "metadata": {},
   "outputs": [],
   "source": [
    "class Solution:\n",
    "    def rob(self, nums: List[int]) -> int:\n",
    "        \"\"\"\n",
    "        House Robber\n",
    "        https://leetcode.com/problems/house-robber/\n",
    "        \"\"\"\n",
    "        tab = [0] * len(nums)\n",
    "\n",
    "        tab[0] = nums[0]\n",
    "        if len(nums) > 1:\n",
    "            tab[1] = max(tab[0], nums[1])\n",
    "            for i in range(2, len(nums)):\n",
    "                tab[i] = max(nums[i] + tab[i-2], tab[i-1])\n",
    "\n",
    "        return tab[-1]\n",
    "\n",
    "\n",
    "s = Solution()\n",
    "assert s.rob([1, 2, 3, 1]) == 4\n",
    "assert s.rob([2,7,9,3,1]) == 12"
   ]
  },
  {
   "cell_type": "code",
   "execution_count": 40,
   "metadata": {},
   "outputs": [
    {
     "data": {
      "text/plain": [
       "13"
      ]
     },
     "execution_count": 40,
     "metadata": {},
     "output_type": "execute_result"
    }
   ],
   "source": []
  },
  {
   "cell_type": "code",
   "execution_count": null,
   "metadata": {},
   "outputs": [],
   "source": [
    "s = [1, 1, 2, 2, 2, 3, 3, 3]\n",
    "\n",
    "i = 0\n",
    "ln = len(s)\n",
    "while i < ln:\n",
    "    while s[i + 1] == s[i]:\n",
    "        s[i] \n",
    "\n",
    "\n",
    "\n",
    "\n"
   ]
  }
 ],
 "metadata": {
  "kernelspec": {
   "display_name": "Python 3",
   "language": "python",
   "name": "python3"
  },
  "language_info": {
   "codemirror_mode": {
    "name": "ipython",
    "version": 3
   },
   "file_extension": ".py",
   "mimetype": "text/x-python",
   "name": "python",
   "nbconvert_exporter": "python",
   "pygments_lexer": "ipython3",
   "version": "3.11.1"
  },
  "orig_nbformat": 4,
  "vscode": {
   "interpreter": {
    "hash": "3c82aea9bf3f365190a7e416b607cf2c9372b04170f58ad31092367f98b9b5cc"
   }
  }
 },
 "nbformat": 4,
 "nbformat_minor": 2
}
