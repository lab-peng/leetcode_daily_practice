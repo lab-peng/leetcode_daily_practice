{
 "cells": [
  {
   "cell_type": "code",
   "execution_count": 2,
   "source": [
    "from typing import List, Optional\r\n",
    "from collections import deque"
   ],
   "outputs": [],
   "metadata": {}
  },
  {
   "cell_type": "code",
   "execution_count": 3,
   "source": [
    "class Solution:\r\n",
    "    def findMaxAverage(self, nums: List[int], k: int) -> float:\r\n",
    "        # I believe my version is easier to understand and thus somewhat better.\r\n",
    "        sm = sum(nums[:k])\r\n",
    "        mx = sm\r\n",
    "        for i in range(1, len(nums) - k + 1):\r\n",
    "            sm -= nums[i - 1]\r\n",
    "            sm += nums[i + k - 1]\r\n",
    "            mx = max(mx, sm)\r\n",
    "        return mx / k\r\n",
    "\r\n",
    "        # l, sm, mx = 0, 0, float('-inf')\r\n",
    "        # for r in range(len(nums)):\r\n",
    "        #     sm += nums[r]\r\n",
    "        #     if r - l + 1 == k:\r\n",
    "        #         mx = max(mx, sm)\r\n",
    "        #         sm -= nums[l]\r\n",
    "        #         l += 1\r\n",
    "        # return mx / k\r\n",
    "\r\n",
    "\r\n",
    "s = Solution()\r\n",
    "assert s.findMaxAverage([5], 1) == 5.00\r\n",
    "assert s.findMaxAverage(nums = [1,12,-5,-6,50,3], k = 4) == 12.75"
   ],
   "outputs": [],
   "metadata": {}
  },
  {
   "cell_type": "code",
   "execution_count": 4,
   "source": [
    "class Solution:\r\n",
    "    def totalFruit(self, fruits: List[int]) -> int:\r\n",
    "        \"\"\"\r\n",
    "        904. Fruit Into Baskets\r\n",
    "        \"\"\"   \r\n",
    "        l, mx, hm = 0, 0, {}\r\n",
    "        for r, v in enumerate(fruits):\r\n",
    "            hm[v] = r\r\n",
    "            \r\n",
    "            if len(hm) > 2:\r\n",
    "                mn = min(hm.values())\r\n",
    "                hm.pop(fruits[mn])\r\n",
    "                l = mn + 1\r\n",
    "            mx = max(mx, r - l + 1)  \r\n",
    "        return mx\r\n",
    "\r\n",
    "\r\n",
    "s = Solution()\r\n",
    "assert s.totalFruit(fruits = [0,1,2,2]) == 3\r\n",
    "assert s.totalFruit([1,2,3,2,2]) == 4"
   ],
   "outputs": [],
   "metadata": {}
  },
  {
   "cell_type": "code",
   "execution_count": 24,
   "source": [
    "class Solution:\r\n",
    "    def lengthOfLongestSubstring(self, s: str) -> int:\r\n",
    "        # l, mx, hs = 0, 0, set()\r\n",
    "        # for r, v in enumerate(s):\r\n",
    "        #     while v in hs:\r\n",
    "        #         hs.remove(s[l])\r\n",
    "        #         l += 1\r\n",
    "        #     hs.add(v)\r\n",
    "        #     mx = max(mx, r - l + 1)\r\n",
    "        # return mx\r\n",
    "\r\n",
    "\r\n",
    "        l, mx, hm = 0, 0, {}\r\n",
    "        for r, v in enumerate(s):\r\n",
    "            if v in hm and hm[v] >= l:\r\n",
    "                l = hm[v] + 1\r\n",
    "            hm[v] = r\r\n",
    "            mx = max(mx, r - l  + 1)\r\n",
    "\r\n",
    "        return mx\r\n",
    "    \r\n",
    "solution = Solution()\r\n",
    "solution.lengthOfLongestSubstring(\"abcabcbb\") == 3\r\n",
    "# solution.lengthOfLongestSubstring('pwwkew') == 3"
   ],
   "outputs": [
    {
     "output_type": "execute_result",
     "data": {
      "text/plain": [
       "True\u0000\u0000\u0000\u00012"
      ]
     },
     "metadata": {},
     "execution_count": 24
    }
   ],
   "metadata": {}
  },
  {
   "cell_type": "code",
   "execution_count": 25,
   "source": [
    "class Solution:\r\n",
    "    def minSubArrayLen(self, target: int, nums: List[int]):\r\n",
    "        \"\"\" \r\n",
    "        209. Minimum Size Subarray Sum\r\n",
    "        \"\"\"\r\n",
    "        l, sm, mn = 0, 0, float('inf')\r\n",
    "        for r, v in enumerate(nums):\r\n",
    "            sm += v\r\n",
    "            while sm >= target:\r\n",
    "                mn = min(mn, r - l + 1)\r\n",
    "                sm -= nums[l]\r\n",
    "                l += 1\r\n",
    "        return mn if mn != float('inf') else 0\r\n",
    "    \r\n",
    "s = Solution()\r\n",
    "s.minSubArrayLen(target = 7, nums = [2,3,1,2,4,3])"
   ],
   "outputs": [
    {
     "output_type": "execute_result",
     "data": {
      "text/plain": [
       "2"
      ]
     },
     "metadata": {},
     "execution_count": 25
    }
   ],
   "metadata": {}
  },
  {
   "cell_type": "code",
   "execution_count": 7,
   "source": [
    "class Solution:\r\n",
    "    def twoSum(self, numbers: List[int], target: int) -> List[int]:\r\n",
    "        \"\"\"\r\n",
    "        167. Two Sum II - Input Array Is Sorted\r\n",
    "        \"\"\"\r\n",
    "        l, r = 0, len(numbers) - 1\r\n",
    "        while l < r:\r\n",
    "            sm = numbers[l] + numbers[r]\r\n",
    "            if sm > target:\r\n",
    "                r -= 1\r\n",
    "            elif sm < target:\r\n",
    "                l += 1\r\n",
    "            else:\r\n",
    "                return [l + 1 , r + 1]\r\n",
    "\r\n",
    "s = Solution()\r\n",
    "assert s.twoSum([2,7,11,15], target = 9) == [1, 2]\r\n",
    "assert s.twoSum(numbers = [-1,0], target = -1) == [1, 2]\r\n",
    "assert s.twoSum(numbers = [2,3,4], target = 6) == [1, 3]"
   ],
   "outputs": [],
   "metadata": {}
  },
  {
   "cell_type": "code",
   "execution_count": 8,
   "source": [
    "class Solution:\r\n",
    "    def maxArea(self, height: List[int]) -> int:\r\n",
    "        \"\"\"  \r\n",
    "        11. Container With Most Water\r\n",
    "        \"\"\"\r\n",
    "        l, r, mx = 0, len(height) - 1, 0\r\n",
    "        while l < r:\r\n",
    "            mx = max(mx, min(height[l], height[r]) * (r - l))\r\n",
    "            if height[l] < height[r]:\r\n",
    "                l += 1\r\n",
    "            else:\r\n",
    "                r -= 1\r\n",
    "        return mx   \r\n",
    "\r\n",
    "\r\n",
    "\r\n",
    "s = Solution()\r\n",
    "assert s.maxArea(height = [1,8,6,2,5,4,8,3,3]) == 40\r\n",
    "assert s.maxArea(height = [1,8,6,2,5,4,8,3,7]) == 49"
   ],
   "outputs": [],
   "metadata": {}
  },
  {
   "cell_type": "code",
   "execution_count": 9,
   "source": [
    "class ListNode:\r\n",
    "    def __init__(self, val=0, next=None):\r\n",
    "        self.val = val\r\n",
    "        self.next = next\r\n",
    "\r\n",
    "class Solution:\r\n",
    "    def mergeTwoLists(self, list1: Optional[ListNode], list2: Optional[ListNode]) -> Optional[ListNode]:\r\n",
    "        \"\"\"  \r\n",
    "        21. Merge Two Sorted Lists\r\n",
    "        \"\"\"\r\n",
    "        dummy = ListNode()\r\n",
    "        current = dummy\r\n",
    "\r\n",
    "        while list1 and list2:\r\n",
    "            if list1.val < list2.val:\r\n",
    "                current.next = list1\r\n",
    "                list1 = list1.next\r\n",
    "            else:\r\n",
    "                current.next = list2\r\n",
    "                list2 = list2.next\r\n",
    "            current = current.next\r\n",
    "\r\n",
    "        if list1:\r\n",
    "            current.next = list1\r\n",
    "        if list2:\r\n",
    "            current.next = list2\r\n",
    "\r\n",
    "        return dummy.next"
   ],
   "outputs": [],
   "metadata": {}
  },
  {
   "cell_type": "code",
   "execution_count": 22,
   "source": [
    "class TreeNode:\r\n",
    "    def __init__(self, val=0, left=None, right=None):\r\n",
    "        self.val = val\r\n",
    "        self.left = left\r\n",
    "        self.right = right\r\n",
    "        \r\n",
    "class Solution:\r\n",
    "    def levelOrder(self, root: Optional[TreeNode]) -> deque:\r\n",
    "        q = deque()\r\n",
    "        if root:\r\n",
    "            q.append(root)\r\n",
    "\r\n",
    "        ans = deque()\r\n",
    "        while q:\r\n",
    "            lvl = deque()\r\n",
    "            for _ in range(len(q)):\r\n",
    "                crt = q.popleft()\r\n",
    "                lvl.append(crt.val)\r\n",
    "\r\n",
    "                if crt.left:\r\n",
    "                    q.append(crt.left)\r\n",
    "                if crt.right:\r\n",
    "                    q.append(crt.right)\r\n",
    "\r\n",
    "            ans.append(lvl)\r\n",
    "        return ans\r\n"
   ],
   "outputs": [],
   "metadata": {}
  },
  {
   "cell_type": "code",
   "execution_count": 23,
   "source": [
    "# video 10\r\n"
   ],
   "outputs": [],
   "metadata": {}
  },
  {
   "cell_type": "code",
   "execution_count": null,
   "source": [],
   "outputs": [],
   "metadata": {}
  },
  {
   "cell_type": "code",
   "execution_count": null,
   "source": [],
   "outputs": [],
   "metadata": {}
  },
  {
   "cell_type": "code",
   "execution_count": null,
   "source": [],
   "outputs": [],
   "metadata": {}
  },
  {
   "cell_type": "code",
   "execution_count": null,
   "source": [],
   "outputs": [],
   "metadata": {}
  },
  {
   "cell_type": "code",
   "execution_count": 12,
   "source": [
    "class Solution:\r\n",
    "    def subarraySum(self, nums: List[int], k: int) -> int:\r\n",
    "        \"\"\" \r\n",
    "        560. Subarray Sum Equals K\r\n",
    "        \"\"\"\r\n",
    "        # TODO\r\n",
    "s = Solution()\r\n",
    "s.subarraySum([1,1,1], 2)"
   ],
   "outputs": [],
   "metadata": {}
  },
  {
   "cell_type": "markdown",
   "source": [
    "##### Additional Problems"
   ],
   "metadata": {},
   "attachments": {}
  },
  {
   "cell_type": "code",
   "execution_count": 13,
   "source": [
    "class Solution:\n",
    "    def getAverages(self, nums: List[int], k: int) -> List[int]:\n",
    "        \"\"\" \n",
    "        2090. K Radius Subarray Averages\n",
    "        \"\"\"\n",
    "        wsize = k * 2 + 1\n",
    "        ln = len(nums)\n",
    "        if wsize > ln:\n",
    "            return [-1] * ln\n",
    "            \n",
    "        ans = [-1] * k\n",
    "        sm = sum(nums[: wsize])\n",
    "        ans.append(sm // wsize)\n",
    "        \n",
    "        for i in range(k + 1, ln - k):\n",
    "            sm -= nums[i - k - 1]\n",
    "            sm += nums[i + k]\n",
    "            ans.append(sm // wsize)\n",
    "        ans += [-1] * k\n",
    "        return ans"
   ],
   "outputs": [],
   "metadata": {}
  },
  {
   "cell_type": "code",
   "execution_count": null,
   "source": [],
   "outputs": [],
   "metadata": {}
  },
  {
   "cell_type": "code",
   "execution_count": null,
   "source": [],
   "outputs": [],
   "metadata": {}
  },
  {
   "cell_type": "code",
   "execution_count": null,
   "source": [],
   "outputs": [],
   "metadata": {}
  },
  {
   "cell_type": "code",
   "execution_count": null,
   "source": [],
   "outputs": [],
   "metadata": {}
  },
  {
   "cell_type": "code",
   "execution_count": null,
   "source": [],
   "outputs": [],
   "metadata": {}
  },
  {
   "cell_type": "code",
   "execution_count": null,
   "source": [],
   "outputs": [],
   "metadata": {}
  },
  {
   "cell_type": "code",
   "execution_count": null,
   "source": [],
   "outputs": [],
   "metadata": {}
  },
  {
   "cell_type": "code",
   "execution_count": null,
   "source": [],
   "outputs": [],
   "metadata": {}
  },
  {
   "cell_type": "code",
   "execution_count": null,
   "source": [],
   "outputs": [],
   "metadata": {}
  }
 ],
 "metadata": {
  "kernelspec": {
   "name": "python3",
   "language": "python",
   "display_name": "Python 3"
  },
  "language_info": {
   "codemirror_mode": {
    "name": "ipython",
    "version": 3
   },
   "file_extension": ".py",
   "mimetype": "text/x-python",
   "name": "python",
   "nbconvert_exporter": "python",
   "pygments_lexer": "ipython3",
   "version": "3.11.2"
  },
  "orig_nbformat": 4,
  "vscode": {
   "interpreter": {
    "hash": "3c82aea9bf3f365190a7e416b607cf2c9372b04170f58ad31092367f98b9b5cc"
   }
  }
 },
 "nbformat": 4,
 "nbformat_minor": 2
}