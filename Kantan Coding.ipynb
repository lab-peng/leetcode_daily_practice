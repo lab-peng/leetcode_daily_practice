{
 "cells": [
  {
   "cell_type": "code",
   "execution_count": 50,
   "metadata": {},
   "outputs": [],
   "source": [
    "from typing import List, Optional\n",
    "from collections import deque"
   ]
  },
  {
   "cell_type": "code",
   "execution_count": 12,
   "metadata": {},
   "outputs": [],
   "source": [
    "class Solution:\n",
    "    def findMaxAverage(self, nums: List[int], k: int) -> float:\n",
    "        # I believe my version is easier to understand and thus somewhat better.\n",
    "        sm = sum(nums[:k])\n",
    "        mx = sm\n",
    "        for i in range(1, len(nums) - k + 1):\n",
    "            sm -= nums[i - 1]\n",
    "            sm += nums[i + k - 1]\n",
    "            mx = max(mx, sm)\n",
    "        return mx / k\n",
    "\n",
    "        # l, sm, mx = 0, 0, float('-inf')\n",
    "        # for r in range(len(nums)):\n",
    "        #     sm += nums[r]\n",
    "        #     if r - l + 1 == k:\n",
    "        #         mx = max(mx, sm)\n",
    "        #         sm -= nums[l]\n",
    "        #         l += 1\n",
    "        # return mx / k\n",
    "\n",
    "\n",
    "s = Solution()\n",
    "assert s.findMaxAverage([5], 1) == 5.00\n",
    "assert s.findMaxAverage(nums = [1,12,-5,-6,50,3], k = 4) == 12.75"
   ]
  },
  {
   "cell_type": "code",
   "execution_count": 27,
   "metadata": {},
   "outputs": [],
   "source": [
    "class Solution:\n",
    "    def totalFruit(self, fruits: List[int]) -> int:\n",
    "        \"\"\"\n",
    "        904. Fruit Into Baskets\n",
    "        \"\"\"   \n",
    "        l, mx, hm = 0, 0, {}\n",
    "        for r, v in enumerate(fruits):\n",
    "            hm[v] = r\n",
    "            \n",
    "            if len(hm) > 2:\n",
    "                mn = min(hm.values())\n",
    "                hm.pop(fruits[mn])\n",
    "                l = mn + 1\n",
    "            mx = max(mx, r - l + 1)  \n",
    "        return mx\n",
    "\n",
    "\n",
    "s = Solution()\n",
    "assert s.totalFruit(fruits = [0,1,2,2]) == 3\n",
    "assert s.totalFruit([1,2,3,2,2]) == 4"
   ]
  },
  {
   "cell_type": "code",
   "execution_count": 29,
   "metadata": {},
   "outputs": [
    {
     "data": {
      "text/plain": [
       "True"
      ]
     },
     "execution_count": 29,
     "metadata": {},
     "output_type": "execute_result"
    }
   ],
   "source": [
    "class Solution:\n",
    "    def lengthOfLongestSubstring(self, s: str) -> int:\n",
    "        # l, mx, hs = 0, 0, set()\n",
    "        # for r, v in enumerate(s):\n",
    "        #     while v in hs:\n",
    "        #         hs.remove(s[l])\n",
    "        #         l += 1\n",
    "        #     hs.add(v)\n",
    "        #     mx = max(mx, r - l + 1)\n",
    "        # return mx\n",
    "\n",
    "\n",
    "        l, mx, hm = 0, 0, {}\n",
    "        for r, v in enumerate(s):\n",
    "            if v in hm and hm[v] >= l:\n",
    "                l = hm[v] + 1\n",
    "            hm[v] = r\n",
    "            mx = max(mx, r - l  + 1)\n",
    "\n",
    "        return mx\n",
    "    \n",
    "solution = Solution()\n",
    "solution.lengthOfLongestSubstring(\"abcabcbb\") == 3\n",
    "solution.lengthOfLongestSubstring('pwwkew') == 3"
   ]
  },
  {
   "cell_type": "code",
   "execution_count": 32,
   "metadata": {},
   "outputs": [
    {
     "data": {
      "text/plain": [
       "2"
      ]
     },
     "execution_count": 32,
     "metadata": {},
     "output_type": "execute_result"
    }
   ],
   "source": [
    "class Solution:\n",
    "    def minSubArrayLen(self, target: int, nums: List[int]) -> int:\n",
    "        \"\"\" \n",
    "        209. Minimum Size Subarray Sum\n",
    "        \"\"\"\n",
    "        l, sm, mn = 0, 0, float('inf')\n",
    "        for r, v in enumerate(nums):\n",
    "            sm += v\n",
    "            while sm >= target:\n",
    "                mn = min(mn, r - l + 1)\n",
    "                sm -= nums[l]\n",
    "                l += 1\n",
    "        return mn if mn != float('inf') else 0\n",
    "    \n",
    "s = Solution()\n",
    "s.minSubArrayLen(target = 7, nums = [2,3,1,2,4,3])"
   ]
  },
  {
   "cell_type": "code",
   "execution_count": 38,
   "metadata": {},
   "outputs": [],
   "source": [
    "class Solution:\n",
    "    def twoSum(self, numbers: List[int], target: int) -> List[int]:\n",
    "        \"\"\"\n",
    "        167. Two Sum II - Input Array Is Sorted\n",
    "        \"\"\"\n",
    "        l, r = 0, len(numbers) - 1\n",
    "        while l < r:\n",
    "            sm = numbers[l] + numbers[r]\n",
    "            if sm > target:\n",
    "                r -= 1\n",
    "            elif sm < target:\n",
    "                l += 1\n",
    "            else:\n",
    "                return [l + 1 , r + 1]\n",
    "\n",
    "s = Solution()\n",
    "assert s.twoSum([2,7,11,15], target = 9) == [1, 2]\n",
    "assert s.twoSum(numbers = [-1,0], target = -1) == [1, 2]\n",
    "assert s.twoSum(numbers = [2,3,4], target = 6) == [1, 3]"
   ]
  },
  {
   "cell_type": "code",
   "execution_count": 48,
   "metadata": {},
   "outputs": [],
   "source": [
    "class Solution:\n",
    "    def maxArea(self, height: List[int]) -> int:\n",
    "        \"\"\"  \n",
    "        11. Container With Most Water\n",
    "        \"\"\"\n",
    "        l, r, mx = 0, len(height) - 1, 0\n",
    "        while l < r:\n",
    "            mx = max(mx, min(height[l], height[r]) * (r - l))\n",
    "            if height[l] < height[r]:\n",
    "                l += 1\n",
    "            else:\n",
    "                r -= 1\n",
    "        return mx   \n",
    "\n",
    "\n",
    "\n",
    "s = Solution()\n",
    "assert s.maxArea(height = [1,8,6,2,5,4,8,3,3]) == 40\n",
    "assert s.maxArea(height = [1,8,6,2,5,4,8,3,7]) == 49"
   ]
  },
  {
   "cell_type": "code",
   "execution_count": 49,
   "metadata": {},
   "outputs": [],
   "source": [
    "class ListNode:\n",
    "    def __init__(self, val=0, next=None):\n",
    "        self.val = val\n",
    "        self.next = next\n",
    "\n",
    "class Solution:\n",
    "    def mergeTwoLists(self, list1: Optional[ListNode], list2: Optional[ListNode]) -> Optional[ListNode]:\n",
    "        \"\"\"  \n",
    "        21. Merge Two Sorted Lists\n",
    "        \"\"\"\n",
    "        dummy = ListNode()\n",
    "        current = dummy\n",
    "\n",
    "        while list1 and list2:\n",
    "            if list1.val < list2.val:\n",
    "                current.next = list1\n",
    "                list1 = list1.next\n",
    "            else:\n",
    "                current.next = list2\n",
    "                list2 = list2.next\n",
    "            current = current.next\n",
    "\n",
    "        if list1:\n",
    "            current.next = list1\n",
    "        if list2:\n",
    "            current.next = list2\n",
    "\n",
    "        return dummy.next"
   ]
  },
  {
   "cell_type": "code",
   "execution_count": 52,
   "metadata": {},
   "outputs": [],
   "source": [
    "class TreeNode:\n",
    "    def __init__(self, val=0, left=None, right=None):\n",
    "        self.val = val\n",
    "        self.left = left\n",
    "        self.right = right\n",
    "        \n",
    "class Solution:\n",
    "    def levelOrder(self, root: Optional[TreeNode]) -> List[List[int]]:\n",
    "        q = deque()\n",
    "        if root:\n",
    "            q.append(root)\n",
    "\n",
    "        ans = deque()\n",
    "        while q:\n",
    "            lvl = deque()\n",
    "            for _ in range(len(q)):\n",
    "                crt = q.popleft()\n",
    "                lvl.append(crt.val)\n",
    "\n",
    "                if crt.left:\n",
    "                    q.append(crt.left)\n",
    "                if crt.right:\n",
    "                    q.append(crt.right)\n",
    "\n",
    "            ans.append(lvl)\n",
    "        return ans"
   ]
  },
  {
   "cell_type": "code",
   "execution_count": null,
   "metadata": {},
   "outputs": [],
   "source": [
    "# video 10\n"
   ]
  },
  {
   "cell_type": "code",
   "execution_count": null,
   "metadata": {},
   "outputs": [],
   "source": []
  },
  {
   "cell_type": "code",
   "execution_count": null,
   "metadata": {},
   "outputs": [],
   "source": []
  },
  {
   "cell_type": "code",
   "execution_count": null,
   "metadata": {},
   "outputs": [],
   "source": []
  },
  {
   "cell_type": "code",
   "execution_count": null,
   "metadata": {},
   "outputs": [],
   "source": []
  },
  {
   "cell_type": "code",
   "execution_count": null,
   "metadata": {},
   "outputs": [],
   "source": [
    "class Solution:\n",
    "    def subarraySum(self, nums: List[int], k: int) -> int:\n",
    "        \"\"\" \n",
    "        560. Subarray Sum Equals K\n",
    "        \"\"\"\n",
    "        # TODO\n",
    "s = Solution()\n",
    "s.subarraySum([1,1,1], 2)"
   ]
  },
  {
   "attachments": {},
   "cell_type": "markdown",
   "metadata": {},
   "source": [
    "##### Additional Problems"
   ]
  },
  {
   "cell_type": "code",
   "execution_count": null,
   "metadata": {},
   "outputs": [],
   "source": [
    "class Solution:\n",
    "    def getAverages(self, nums: List[int], k: int) -> List[int]:\n",
    "        \"\"\" \n",
    "        2090. K Radius Subarray Averages\n",
    "        \"\"\"\n",
    "        wsize = k * 2 + 1\n",
    "        ln = len(nums)\n",
    "        if wsize > ln:\n",
    "            return [-1] * ln\n",
    "            \n",
    "        ans = [-1] * k\n",
    "        sm = sum(nums[: wsize])\n",
    "        ans.append(sm // wsize)\n",
    "        \n",
    "        for i in range(k + 1, ln - k):\n",
    "            sm -= nums[i - k - 1]\n",
    "            sm += nums[i + k]\n",
    "            ans.append(sm // wsize)\n",
    "        ans += [-1] * k\n",
    "        return ans"
   ]
  },
  {
   "cell_type": "code",
   "execution_count": 10,
   "metadata": {},
   "outputs": [
    {
     "data": {
      "text/plain": [
       "[]"
      ]
     },
     "execution_count": 10,
     "metadata": {},
     "output_type": "execute_result"
    }
   ],
   "source": []
  },
  {
   "cell_type": "code",
   "execution_count": null,
   "metadata": {},
   "outputs": [],
   "source": []
  },
  {
   "cell_type": "code",
   "execution_count": null,
   "metadata": {},
   "outputs": [],
   "source": []
  },
  {
   "cell_type": "code",
   "execution_count": null,
   "metadata": {},
   "outputs": [],
   "source": []
  },
  {
   "cell_type": "code",
   "execution_count": null,
   "metadata": {},
   "outputs": [],
   "source": []
  },
  {
   "cell_type": "code",
   "execution_count": null,
   "metadata": {},
   "outputs": [],
   "source": []
  },
  {
   "cell_type": "code",
   "execution_count": null,
   "metadata": {},
   "outputs": [],
   "source": []
  },
  {
   "cell_type": "code",
   "execution_count": null,
   "metadata": {},
   "outputs": [],
   "source": []
  },
  {
   "cell_type": "code",
   "execution_count": null,
   "metadata": {},
   "outputs": [],
   "source": []
  }
 ],
 "metadata": {
  "kernelspec": {
   "display_name": "Python 3",
   "language": "python",
   "name": "python3"
  },
  "language_info": {
   "codemirror_mode": {
    "name": "ipython",
    "version": 3
   },
   "file_extension": ".py",
   "mimetype": "text/x-python",
   "name": "python",
   "nbconvert_exporter": "python",
   "pygments_lexer": "ipython3",
   "version": "3.11.1"
  },
  "orig_nbformat": 4,
  "vscode": {
   "interpreter": {
    "hash": "b7ca4a75756fff48ad75ddef2741ecfed8f2ce12ec8770943891cb3b12546634"
   }
  }
 },
 "nbformat": 4,
 "nbformat_minor": 2
}
