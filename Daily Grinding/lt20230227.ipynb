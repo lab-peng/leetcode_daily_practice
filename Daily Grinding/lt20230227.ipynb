{
 "cells": [
  {
   "cell_type": "code",
   "execution_count": 2,
   "metadata": {},
   "outputs": [],
   "source": [
    "from collections import Counter\n",
    "from itertools import groupby"
   ]
  },
  {
   "cell_type": "code",
   "execution_count": 3,
   "metadata": {},
   "outputs": [
    {
     "data": {
      "text/plain": [
       "'312211'"
      ]
     },
     "execution_count": 3,
     "metadata": {},
     "output_type": "execute_result"
    }
   ],
   "source": [
    "class Solution:\n",
    "    def countAndSay(self, n: int) -> str:\n",
    "        \"\"\" \n",
    "        38. Count and Say\n",
    "        \"\"\"\n",
    "        ans = ['1'] * n\n",
    "        for i in range(1, n):\n",
    "            ans[i] = Solution.say(ans[i - 1])\n",
    "        # return ans[n - 1]\n",
    "        return ans[n - 1]\n",
    "    \n",
    "    @staticmethod\n",
    "    def say(s):\n",
    "        # ans = []\n",
    "        # i = 0\n",
    "        # while i < len(s):\n",
    "        #     count = 1\n",
    "        #     while i + 1 < len(s) and s[i] == s[i + 1]:\n",
    "        #         i += 1\n",
    "        #         count += 1\n",
    "        #     ans.append(str(count) + s[i])\n",
    "        #     i += 1\n",
    "        # return ''.join(ans)\n",
    "        \n",
    "        return ''.join(f'{sum(1 for _ in gr)}{key}' for key, gr in groupby(s))\n",
    "\n",
    "s = Solution()\n",
    "s.countAndSay(6)"
   ]
  },
  {
   "cell_type": "code",
   "execution_count": 2,
   "metadata": {},
   "outputs": [],
   "source": [
    "class Solution:\n",
    "    def canBeTypedWords(self, text: str, brokenLetters: str) -> int:\n",
    "        \"\"\"\n",
    "        1935. Maximum Number of Words You Can Type\n",
    "        \"\"\"\n",
    "        # ans = 0\n",
    "        # for word in text.split(' '):\n",
    "        #     is_valid = True\n",
    "        #     for c in brokenLetters:\n",
    "        #         if c in word:\n",
    "        #             is_valid = False\n",
    "        #     ans += is_valid\n",
    "        # return ans\n",
    "\n",
    "        # Maybe the above code is cleaner and more efficient\n",
    "        ans = 0\n",
    "        for word in text.split(' '):\n",
    "            is_valid = 0 if any((c in word for c in brokenLetters)) else 1\n",
    "            ans += is_valid\n",
    "        return ans\n",
    "\n",
    "    \n",
    "\n",
    "    \n",
    "s = Solution()\n",
    "assert s.canBeTypedWords(text = \"hello world\", brokenLetters = \"ad\") == 1"
   ]
  },
  {
   "cell_type": "code",
   "execution_count": null,
   "metadata": {},
   "outputs": [],
   "source": []
  },
  {
   "cell_type": "code",
   "execution_count": null,
   "metadata": {},
   "outputs": [],
   "source": []
  }
 ],
 "metadata": {
  "kernelspec": {
   "display_name": "Python 3",
   "language": "python",
   "name": "python3"
  },
  "language_info": {
   "codemirror_mode": {
    "name": "ipython",
    "version": 3
   },
   "file_extension": ".py",
   "mimetype": "text/x-python",
   "name": "python",
   "nbconvert_exporter": "python",
   "pygments_lexer": "ipython3",
   "version": "3.11.1"
  },
  "orig_nbformat": 4,
  "vscode": {
   "interpreter": {
    "hash": "b7ca4a75756fff48ad75ddef2741ecfed8f2ce12ec8770943891cb3b12546634"
   }
  }
 },
 "nbformat": 4,
 "nbformat_minor": 2
}
