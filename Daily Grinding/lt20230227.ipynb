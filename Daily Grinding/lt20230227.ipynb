{
 "cells": [
  {
   "cell_type": "code",
   "execution_count": 2,
   "source": [
    "from collections import Counter\r\n",
    "from itertools import groupby"
   ],
   "outputs": [],
   "metadata": {}
  },
  {
   "cell_type": "code",
   "execution_count": 7,
   "source": [
    "class Solution:\r\n",
    "    def countAndSay(self, n: int) -> str:\r\n",
    "        \"\"\" \r\n",
    "        38. Count and Say\r\n",
    "        \"\"\"\r\n",
    "        ans = ['1'] * n\r\n",
    "        for i in range(1, n):\r\n",
    "            ans[i] = Solution.say(ans[i - 1])\r\n",
    "        # return ans[n - 1]\r\n",
    "        return ans[n - 1]\r\n",
    "    \r\n",
    "    @staticmethod\r\n",
    "    def say(s):\r\n",
    "        ans = []\r\n",
    "        i = 0\r\n",
    "        while i < len(s):\r\n",
    "            count = 1\r\n",
    "            while i + 1 < len(s) and s[i] == s[i + 1]:\r\n",
    "                i += 1\r\n",
    "                count += 1\r\n",
    "            ans.append(str(count) + s[i])\r\n",
    "            i += 1\r\n",
    "        return ''.join(ans)\r\n",
    "        \r\n",
    "        # return ''.join(f'{sum(1 for _ in gr)}{key}' for key, gr in groupby(s))\r\n",
    "\r\n",
    "s = Solution()\r\n",
    "assert s.countAndSay(6) == '312211'"
   ],
   "outputs": [],
   "metadata": {}
  },
  {
   "cell_type": "code",
   "execution_count": 2,
   "source": [
    "class Solution:\r\n",
    "    def canBeTypedWords(self, text: str, brokenLetters: str) -> int:\r\n",
    "        \"\"\"\r\n",
    "        1935. Maximum Number of Words You Can Type\r\n",
    "        \"\"\"\r\n",
    "        # ans = 0\r\n",
    "        # for word in text.split(' '):\r\n",
    "        #     is_valid = True\r\n",
    "        #     for c in brokenLetters:\r\n",
    "        #         if c in word:\r\n",
    "        #             is_valid = False\r\n",
    "        #     ans += is_valid\r\n",
    "        # return ans\r\n",
    "\r\n",
    "        # Maybe the above code is cleaner and more efficient\r\n",
    "        ans = 0\r\n",
    "        for word in text.split(' '):\r\n",
    "            is_valid = 0 if any((c in word for c in brokenLetters)) else 1\r\n",
    "            ans += is_valid\r\n",
    "        return ans\r\n",
    "\r\n",
    "    \r\n",
    "\r\n",
    "    \r\n",
    "s = Solution()\r\n",
    "assert s.canBeTypedWords(text = \"hello world\", brokenLetters = \"ad\") == 1"
   ],
   "outputs": [],
   "metadata": {}
  },
  {
   "cell_type": "code",
   "execution_count": null,
   "source": [],
   "outputs": [],
   "metadata": {}
  },
  {
   "cell_type": "code",
   "execution_count": null,
   "source": [],
   "outputs": [],
   "metadata": {}
  }
 ],
 "metadata": {
  "kernelspec": {
   "display_name": "Python 3",
   "language": "python",
   "name": "python3"
  },
  "language_info": {
   "codemirror_mode": {
    "name": "ipython",
    "version": 3
   },
   "file_extension": ".py",
   "mimetype": "text/x-python",
   "name": "python",
   "nbconvert_exporter": "python",
   "pygments_lexer": "ipython3",
   "version": "3.11.1"
  },
  "orig_nbformat": 4,
  "vscode": {
   "interpreter": {
    "hash": "b7ca4a75756fff48ad75ddef2741ecfed8f2ce12ec8770943891cb3b12546634"
   }
  }
 },
 "nbformat": 4,
 "nbformat_minor": 2
}