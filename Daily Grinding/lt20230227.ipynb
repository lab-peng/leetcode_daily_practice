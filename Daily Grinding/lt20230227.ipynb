{
 "cells": [
  {
   "cell_type": "code",
   "execution_count": 2,
   "source": [
    "from collections import Counter\r\n",
    "from itertools import groupby"
   ],
   "outputs": [],
   "metadata": {}
  },
  {
   "cell_type": "code",
   "execution_count": 3,
   "source": [
    "class Solution:\r\n",
    "    def countAndSay(self, n: int) -> str:\r\n",
    "        \"\"\" \r\n",
    "        38. Count and Say\r\n",
    "        \"\"\"\r\n",
    "        ans = ['1'] * n\r\n",
    "        for i in range(1, n):\r\n",
    "            ans[i] = Solution.say(ans[i - 1])\r\n",
    "        # return ans[n - 1]\r\n",
    "        return ans[n - 1]\r\n",
    "    \r\n",
    "    @staticmethod\r\n",
    "    def say(s):\r\n",
    "        # ans = []\r\n",
    "        # i = 0\r\n",
    "        # while i < len(s):\r\n",
    "        #     count = 1\r\n",
    "        #     while i + 1 < len(s) and s[i] == s[i + 1]:\r\n",
    "        #         i += 1\r\n",
    "        #         count += 1\r\n",
    "        #     ans.append(str(count) + s[i])\r\n",
    "        #     i += 1\r\n",
    "        # return ''.join(ans)\r\n",
    "        \r\n",
    "        return ''.join(f'{sum(1 for _ in gr)}{key}' for key, gr in groupby(s))\r\n",
    "\r\n",
    "s = Solution()\r\n",
    "s.countAndSay(6)"
   ],
   "outputs": [
    {
     "output_type": "execute_result",
     "data": {
      "text/plain": [
       "'312211'"
      ]
     },
     "metadata": {},
     "execution_count": 3
    }
   ],
   "metadata": {}
  },
  {
   "cell_type": "code",
   "execution_count": 2,
   "source": [
    "class Solution:\r\n",
    "    def canBeTypedWords(self, text: str, brokenLetters: str) -> int:\r\n",
    "        \"\"\"\r\n",
    "        1935. Maximum Number of Words You Can Type\r\n",
    "        \"\"\"\r\n",
    "        ans = 0\r\n",
    "        for word in text.split(' '):\r\n",
    "            is_valid = True\r\n",
    "            for c in brokenLetters:\r\n",
    "                if c in word:\r\n",
    "                    is_valid = False\r\n",
    "            ans += int(is_valid)\r\n",
    "\r\n",
    "        return ans\r\n",
    "    \r\n",
    "s = Solution()\r\n",
    "assert s.canBeTypedWords(text = \"hello world\", brokenLetters = \"ad\") == 1"
   ],
   "outputs": [],
   "metadata": {}
  },
  {
   "cell_type": "code",
   "execution_count": null,
   "source": [],
   "outputs": [],
   "metadata": {}
  },
  {
   "cell_type": "code",
   "execution_count": null,
   "source": [],
   "outputs": [],
   "metadata": {}
  }
 ],
 "metadata": {
  "kernelspec": {
   "name": "python3",
   "language": "python",
   "display_name": "Python 3"
  },
  "language_info": {
   "codemirror_mode": {
    "name": "ipython",
    "version": 3
   },
   "file_extension": ".py",
   "mimetype": "text/x-python",
   "name": "python",
   "nbconvert_exporter": "python",
   "pygments_lexer": "ipython3",
   "version": "3.11.1"
  },
  "orig_nbformat": 4,
  "vscode": {
   "interpreter": {
    "hash": "3c82aea9bf3f365190a7e416b607cf2c9372b04170f58ad31092367f98b9b5cc"
   }
  }
 },
 "nbformat": 4,
 "nbformat_minor": 2
}