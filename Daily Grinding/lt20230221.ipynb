{
 "cells": [
  {
   "cell_type": "code",
   "execution_count": 2,
   "metadata": {},
   "outputs": [],
   "source": [
    "from typing import List, Optional"
   ]
  },
  {
   "cell_type": "code",
   "execution_count": 3,
   "metadata": {},
   "outputs": [],
   "source": [
    "class Solution:\n",
    "    def longestConsecutive(self, nums: List[int]) -> int:\n",
    "        \"\"\" \n",
    "        128. Longest Consecutive Sequence\n",
    "        \"\"\"\n",
    "        if len(nums) < 1:\n",
    "            return nums\n",
    "        nums.sort()\n",
    "        l = 0\n",
    "        mx = 0\n",
    "        for r in range(1, len(nums)):\n",
    "            if nums[r] == nums[r - 1]:\n",
    "                l += 1\n",
    "            elif nums[r] - nums[r-1] != 1:\n",
    "                l = r\n",
    "            mx = max(mx, r - l + 1)\n",
    "        return mx\n",
    "\n",
    "s = Solution()\n",
    "assert s.longestConsecutive([100,4,200,1,3,2]) == 4\n",
    "assert s.longestConsecutive([1, 2, 0, 1]) == 3"
   ]
  },
  {
   "cell_type": "code",
   "execution_count": 57,
   "metadata": {},
   "outputs": [
    {
     "data": {
      "text/plain": [
       "False"
      ]
     },
     "execution_count": 57,
     "metadata": {},
     "output_type": "execute_result"
    }
   ],
   "source": [
    "class Solution:\n",
    "    def firstMissingPositive(self, nums: List[int]) -> int:\n",
    "        \"\"\" \n",
    "        41. First Missing Positive\n",
    "        https://leetcode.com/problems/first-missing-positive/\n",
    "        \"\"\"\n",
    "        # TODO\n",
    "\n",
    "s = Solution()\n",
    "s.firstMissingPositive([1,2,0]) == 3\n",
    "s.firstMissingPositive([3,4,-1,1]) == 2\n",
    "s.firstMissingPositive([7,8,9,11,12]) == 1\n"
   ]
  },
  {
   "cell_type": "code",
   "execution_count": 79,
   "metadata": {},
   "outputs": [
    {
     "name": "stdout",
     "output_type": "stream",
     "text": [
      "[(), ('a',), ('b',), ('c',), ('a', 'b'), ('a', 'c'), ('b', 'c'), ('a', 'b', 'c')]\n",
      "\n",
      "[('a', 'b', 'c'), ('a', 'c', 'b'), ('b', 'a', 'c'), ('b', 'c', 'a'), ('c', 'a', 'b'), ('c', 'b', 'a')]\n"
     ]
    }
   ],
   "source": [
    "# Combinations vs Permutations\n",
    "# Order does't matter in Combinations (n factorial)\n",
    "from itertools import combinations, permutations\n",
    "vals = ['a', 'b', 'c']\n",
    "\n",
    "combos = []\n",
    "for i in range(0, len(vals) + 1):\n",
    "    for c in combinations(vals, i):\n",
    "        combos.append(c)\n",
    "print(combos)\n",
    "\n",
    "print()\n",
    "\n",
    "perms = []\n",
    "for p in permutations(vals):\n",
    "    perms.append(p)\n",
    "print(perms)"
   ]
  },
  {
   "cell_type": "code",
   "execution_count": 183,
   "metadata": {},
   "outputs": [],
   "source": [
    "from itertools import permutations\n",
    "class Solution:\n",
    "    \"\"\" \n",
    "    46. Permutations\n",
    "    https://leetcode.com/problems/permutations/\n",
    "    https://www.youtube.com/watch?v=us0cYQXQpxg&t=859s\n",
    "    \"\"\"\n",
    "    def permute(self, nums: List[int]) -> List[List[int]]:\n",
    "        if not nums: \n",
    "            return [[]]\n",
    "        first, rest = nums[0], nums[1:]\n",
    "\n",
    "        all_perms = []\n",
    "        for perm in self.permute(rest):\n",
    "            for i in range(len(perm) + 1):\n",
    "                perms_first = [*perm[:i], first, *perm[i:]]\n",
    "                all_perms.append(perms_first)\n",
    "        return all_perms\n",
    "    \n",
    "        # return [list(p) for p in permutations(nums)]\n",
    "        \n",
    "s = Solution()\n",
    "assert s.permute(['a', 'b', 'c']) == [\n",
    "    ['a', 'b', 'c'], ['b', 'a', 'c'], ['b', 'c', 'a'], \n",
    "    ['a', 'c', 'b'], ['c', 'a', 'b'], ['c', 'b', 'a']]\n",
    "\n",
    "assert s.permute([1,2,3]) == [[1, 2, 3], [2, 1, 3], [2, 3, 1], [1, 3, 2], [3, 1, 2], [3, 2, 1]]"
   ]
  },
  {
   "cell_type": "code",
   "execution_count": 184,
   "metadata": {},
   "outputs": [],
   "source": [
    "from itertools import permutations\n",
    "class Solution:\n",
    "    def getPermutation(self, n: int, k: int) -> str:\n",
    "        \"\"\" \n",
    "        60. Permutation Sequence\n",
    "        https://leetcode.com/problems/permutation-sequence/\n",
    "        \"\"\"\n",
    "        return ''.join((str(i) for i in list(permutations(range(1, n + 1)))[k - 1]))\n",
    "    \n",
    "s = Solution()\n",
    "assert s.getPermutation(n=4, k=9) == '2314'"
   ]
  },
  {
   "cell_type": "code",
   "execution_count": 215,
   "metadata": {},
   "outputs": [
    {
     "data": {
      "text/plain": [
       "False"
      ]
     },
     "execution_count": 215,
     "metadata": {},
     "output_type": "execute_result"
    }
   ],
   "source": [
    "class Solution:\n",
    "    def isHappy(self, n: int) -> bool:\n",
    "        hs = set()\n",
    "        while True:\n",
    "            n = Solution.helper(n)\n",
    "            if n == 1:\n",
    "                return True\n",
    "            if n in hs:\n",
    "                return False\n",
    "            hs.add(n)\n",
    "\n",
    "    @staticmethod\n",
    "    def helper(num):\n",
    "        num = list(str(num))\n",
    "        return sum([int(n)**2 for n in num])\n",
    "    \n",
    "s = Solution()\n",
    "s.isHappy(19)\n",
    "s.isHappy(2)"
   ]
  },
  {
   "cell_type": "code",
   "execution_count": 240,
   "metadata": {},
   "outputs": [
    {
     "data": {
      "text/plain": [
       "True"
      ]
     },
     "execution_count": 240,
     "metadata": {},
     "output_type": "execute_result"
    }
   ],
   "source": [
    "class Solution:\n",
    "    def wordPattern(self, pattern: str, s: str) -> bool:\n",
    "        s = s.split()\n",
    "        if len(pattern) != len(s):\n",
    "            return False\n",
    "        hm1, hm2= {}, {}\n",
    "        for p, word in zip(pattern, s):\n",
    "            hm1[p] = word\n",
    "            hm2[word] = p\n",
    "        for p, word in zip(pattern, s):\n",
    "            if hm1[p] != word:\n",
    "                return False\n",
    "            elif hm2[word] != p:\n",
    "                return False\n",
    "        return True\n",
    "\n",
    "s = Solution()\n",
    "s.wordPattern('abba', 'dog cat cat dog')\n",
    "# s.wordPattern('aaaa', 'dog cat cat dog')\n",
    "# s.wordPattern('abba', 'dog dog dog dog')"
   ]
  },
  {
   "cell_type": "code",
   "execution_count": null,
   "metadata": {},
   "outputs": [],
   "source": []
  }
 ],
 "metadata": {
  "kernelspec": {
   "display_name": "Python 3",
   "language": "python",
   "name": "python3"
  },
  "language_info": {
   "codemirror_mode": {
    "name": "ipython",
    "version": 3
   },
   "file_extension": ".py",
   "mimetype": "text/x-python",
   "name": "python",
   "nbconvert_exporter": "python",
   "pygments_lexer": "ipython3",
   "version": "3.11.2"
  },
  "orig_nbformat": 4,
  "vscode": {
   "interpreter": {
    "hash": "b7ca4a75756fff48ad75ddef2741ecfed8f2ce12ec8770943891cb3b12546634"
   }
  }
 },
 "nbformat": 4,
 "nbformat_minor": 2
}
