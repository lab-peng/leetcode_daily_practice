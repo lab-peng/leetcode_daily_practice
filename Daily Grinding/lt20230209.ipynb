{
 "cells": [
  {
   "cell_type": "code",
   "execution_count": 5,
   "metadata": {},
   "outputs": [],
   "source": [
    "from collections import Counter\n",
    "from typing import List, Optional\n",
    "import math"
   ]
  },
  {
   "cell_type": "code",
   "execution_count": 9,
   "metadata": {},
   "outputs": [],
   "source": [
    "class Solution:\n",
    "    def findLHS(self, nums: List[int]) -> int:\n",
    "        \"\"\" \n",
    "        594. Longest Harmonious Subsequence\n",
    "        https://leetcode.com/problems/longest-harmonious-subsequence/\n",
    "        \"\"\"\n",
    "        counter = Counter(nums)\n",
    "        counter = sorted(counter.items(), key=lambda x: x[0])\n",
    "        lgst = 0\n",
    "        for i in range(1, len(counter)):\n",
    "            if counter[i][0] - counter[i-1][0] == 1:\n",
    "                lgst = max(lgst, counter[i][1] + counter[i-1][1])\n",
    "        return lgst\n",
    "    \n",
    "        # TODO Try two pointers to achive better efficiency\n",
    "\n",
    "s = Solution()\n",
    "# s.findLHS([1, 3, 2, 2, 5, 2, 3, 7])\n",
    "assert s.findLHS([1, 3, 2, 2, 5, 2, 3, 7]) == 5"
   ]
  },
  {
   "cell_type": "code",
   "execution_count": 10,
   "metadata": {},
   "outputs": [],
   "source": [
    "class Solution:\n",
    "    def rotateString(self, s: str, goal: str) -> bool:\n",
    "        \"\"\" \n",
    "        796. Rotate String\n",
    "        https://leetcode.com/problems/rotate-string/\n",
    "        \"\"\"\n",
    "        if len(s) != len(goal):\n",
    "            return False\n",
    "        s *= 2\n",
    "        return goal in s\n",
    "        \n",
    "\n",
    "s = Solution()\n",
    "assert s.rotateString('abcde', 'cdeab')"
   ]
  },
  {
   "cell_type": "code",
   "execution_count": 12,
   "metadata": {},
   "outputs": [],
   "source": [
    "class Solution:\n",
    "    def checkPerfectNumber(self, num: int) -> bool:\n",
    "        \"\"\" \n",
    "        507. Perfect Number\n",
    "        https://leetcode.com/problems/perfect-number/\n",
    "        \"\"\"\n",
    "        if num == 1:\n",
    "            return False\n",
    "        total = 0\n",
    "        for i in range(1, int(math.sqrt(num)) + 1):\n",
    "            if num % i == 0:\n",
    "                if (num / i == i) :\n",
    "                    total += i\n",
    "                else:\n",
    "                    total += i\n",
    "                    if num // i != num:\n",
    "                        total += num // i\n",
    "        return total == num\n",
    "    \n",
    "s = Solution()\n",
    "assert s.checkPerfectNumber(28)"
   ]
  },
  {
   "cell_type": "code",
   "execution_count": null,
   "metadata": {},
   "outputs": [],
   "source": []
  },
  {
   "cell_type": "code",
   "execution_count": null,
   "metadata": {},
   "outputs": [],
   "source": []
  },
  {
   "cell_type": "code",
   "execution_count": null,
   "metadata": {},
   "outputs": [],
   "source": []
  },
  {
   "cell_type": "code",
   "execution_count": null,
   "metadata": {},
   "outputs": [],
   "source": []
  },
  {
   "cell_type": "code",
   "execution_count": null,
   "metadata": {},
   "outputs": [],
   "source": []
  }
 ],
 "metadata": {
  "kernelspec": {
   "display_name": "Python 3",
   "language": "python",
   "name": "python3"
  },
  "language_info": {
   "codemirror_mode": {
    "name": "ipython",
    "version": 3
   },
   "file_extension": ".py",
   "mimetype": "text/x-python",
   "name": "python",
   "nbconvert_exporter": "python",
   "pygments_lexer": "ipython3",
   "version": "3.11.1"
  },
  "orig_nbformat": 4,
  "vscode": {
   "interpreter": {
    "hash": "b7ca4a75756fff48ad75ddef2741ecfed8f2ce12ec8770943891cb3b12546634"
   }
  }
 },
 "nbformat": 4,
 "nbformat_minor": 2
}
