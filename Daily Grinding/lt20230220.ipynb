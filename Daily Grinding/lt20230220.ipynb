{
 "cells": [
  {
   "cell_type": "code",
   "execution_count": 2,
   "metadata": {},
   "outputs": [],
   "source": [
    "from typing import List\n",
    "from collections import Counter"
   ]
  },
  {
   "cell_type": "code",
   "execution_count": 3,
   "metadata": {},
   "outputs": [
    {
     "data": {
      "text/plain": [
       "13"
      ]
     },
     "execution_count": 3,
     "metadata": {},
     "output_type": "execute_result"
    }
   ],
   "source": [
    "class Employee:\n",
    "    def __init__(self, id: int, importance: int, subordinates: List[int]):\n",
    "        self.id = id\n",
    "        self.importance = importance\n",
    "        self.subordinates = subordinates\n",
    "\n",
    "class Solution:\n",
    "    def getImportance(self, employees: List['Employee'], id: int) -> int:\n",
    "        \"\"\" \n",
    "        \"\"\"\n",
    "        # def _get_importance(e):\n",
    "        #     if not e.subordinates:\n",
    "        #         return e.importance\n",
    "        #     sub_total = 0\n",
    "        #     sub = filter(lambda x: x.id in e.subordinates, employees)\n",
    "        #     for s in sub:\n",
    "        #         sub_total += _get_importance(s)\n",
    "        #     return e.importance + sub_total\n",
    "        # e = next(filter(lambda x: x.id == id, employees))\n",
    "        # return _get_importance(e)\n",
    "    \n",
    "\n",
    "        # def dfs(id):\n",
    "        #     imp = emps[id].importance            \n",
    "        #     for s in emps[id].subordinates:\n",
    "        #         imp += dfs(s)\n",
    "        #     return imp\n",
    "        \n",
    "        # emps= {emp.id: emp for emp in employees}      \n",
    "        # return dfs(id)\n",
    "    \n",
    "        try:\n",
    "            e = next(filter(lambda x: x.id == id, employees))\n",
    "            if not e.subordinates:\n",
    "                return e.importance\n",
    "            sub_total = 0\n",
    "            sub = filter(lambda x: x.id in e.subordinates, employees)\n",
    "            for s in sub:\n",
    "                sub_total += self.getImportance(employees, s.id)\n",
    "            return e.importance + sub_total\n",
    "        except StopIteration:\n",
    "            return 0\n",
    "\n",
    "e1 = Employee(1, 5, [2, 3])\n",
    "e2 = Employee(2, 3, [4])\n",
    "e3 = Employee(3, 4, [])\n",
    "e4 = Employee(4, 1, [])\n",
    "\n",
    "s = Solution()\n",
    "assert s.getImportance([e1, e2, e3, e4], 1) == 13\n",
    "\n",
    "\n",
    "employees = [e1, e2, e3, e4]\n",
    "def _get_importance(e):\n",
    "    if not e.subordinates:\n",
    "        return e.importance\n",
    "    sub_total = 0\n",
    "    sub = filter(lambda x: x.id in e.subordinates, employees)\n",
    "    for s in sub:\n",
    "        sub_total += _get_importance(s)\n",
    "    return e.importance + sub_total\n",
    "\n",
    "_get_importance(e1)"
   ]
  },
  {
   "cell_type": "code",
   "execution_count": 4,
   "metadata": {},
   "outputs": [],
   "source": [
    "class Solution:\n",
    "    def findDuplicate(self, nums: List[int]) -> int:\n",
    "        \"\"\" \n",
    "        287. Find the Duplicate Number\n",
    "        https://leetcode.com/problems/find-the-duplicate-number/\n",
    "        \"\"\"\n",
    "        return Counter(nums).most_common(1)[0][0]\n",
    "    \n",
    "s = Solution()\n",
    "assert s.findDuplicate([3,1,3,4,2]) == 3"
   ]
  },
  {
   "cell_type": "code",
   "execution_count": 5,
   "metadata": {},
   "outputs": [],
   "source": [
    "class Solution:\n",
    "    def findDuplicates(self, nums: List[int]) -> List[int]:\n",
    "        \"\"\" \n",
    "        442. Find All Duplicates in an Array\n",
    "        https://leetcode.com/problems/find-all-duplicates-in-an-array/\n",
    "        \"\"\"\n",
    "        ans = []\n",
    "        counter = sorted(Counter(nums).items(), key=lambda x: x[1], reverse=True)\n",
    "        for k, v in counter:\n",
    "            if v == 2:\n",
    "                ans.append(k)\n",
    "        return ans\n",
    "\n",
    "\n",
    "s = Solution()\n",
    "assert s.findDuplicates([1]) == []\n",
    "assert s.findDuplicates([1, 1, 2]) == [1]\n",
    "assert s.findDuplicates([4,3,2,7,8,2,3,1]) == [3, 2]\n",
    "\n"
   ]
  },
  {
   "cell_type": "code",
   "execution_count": 6,
   "metadata": {},
   "outputs": [],
   "source": [
    "class Solution:\n",
    "    def construct2DArray(self, original: List[int], m: int, n: int) -> List[List[int]]:\n",
    "        \"\"\" \n",
    "        2022. Convert 1D Array Into 2D Array\n",
    "        \"\"\"\n",
    "        ln = len(original)\n",
    "        if m * n != ln:\n",
    "            return []\n",
    "\n",
    "        # ans = []\n",
    "        # for i in range(0, ln, steps):\n",
    "        #     # row = []\n",
    "        #     # for j in range(i, i + n):\n",
    "        #     #     row.append(original[j])\n",
    "        #     row = [original[j] for j in range(i, i + n)]\n",
    "        #     ans.append(row)\n",
    "\n",
    "\n",
    "        return [[original[j] for j in range(i, i + n)] for i in range(0, ln, n)]\n",
    "        # return ans\n",
    "                \n",
    "\n",
    "\n",
    "s = Solution()\n",
    "assert s.construct2DArray(original = [1,2,3,4], m = 2, n = 2) ==  [[1, 2], [3, 4]]\n",
    "assert s.construct2DArray(original = [1,2,3], m = 1, n = 3)  == [[1,2,3]]"
   ]
  },
  {
   "cell_type": "code",
   "execution_count": 28,
   "metadata": {},
   "outputs": [
    {
     "name": "stdout",
     "output_type": "stream",
     "text": [
      "[[0, 0, 0, 0], [0, 4, 5, 0], [0, 3, 1, 0]]\n"
     ]
    }
   ],
   "source": [
    "class Solution:\n",
    "    def setZeroes(self, matrix: List[List[int]]) -> None:\n",
    "        \"\"\"\n",
    "        73. Set Matrix Zeroes\n",
    "        Do not return anything, modify matrix in-place instead.\n",
    "        \"\"\"\n",
    "        m, n = len(matrix), len(matrix[0])\n",
    "        rows, cols = set(), set()\n",
    "        for i in range(m):\n",
    "            for j in range(n):\n",
    "                if matrix[i][j] == 0:\n",
    "                    rows.add(i)\n",
    "                    cols.add(j)\n",
    "\n",
    "        for r in rows:\n",
    "            matrix[r] = [0] * n\n",
    "        for c in cols:\n",
    "            for i in range(m):\n",
    "                matrix[i][c] = 0\n",
    "                    \n",
    "s = Solution()\n",
    "matrix = [[1,1,1],[1,0,1],[1,1,1]]\n",
    "matrix = [[0,1,2,0],[3,4,5,2],[1,3,1,5]]\n",
    "# [[1,0,1],[0,0,0],[1,0,1]]\n",
    "# [[0,0,0,0],[0,4,5,0],[0,3,1,0]]\n",
    "s.setZeroes(matrix)\n",
    "print(matrix)"
   ]
  },
  {
   "cell_type": "code",
   "execution_count": null,
   "metadata": {},
   "outputs": [],
   "source": []
  }
 ],
 "metadata": {
  "kernelspec": {
   "display_name": "Python 3",
   "language": "python",
   "name": "python3"
  },
  "language_info": {
   "codemirror_mode": {
    "name": "ipython",
    "version": 3
   },
   "file_extension": ".py",
   "mimetype": "text/x-python",
   "name": "python",
   "nbconvert_exporter": "python",
   "pygments_lexer": "ipython3",
   "version": "3.11.1"
  },
  "orig_nbformat": 4,
  "vscode": {
   "interpreter": {
    "hash": "b7ca4a75756fff48ad75ddef2741ecfed8f2ce12ec8770943891cb3b12546634"
   }
  }
 },
 "nbformat": 4,
 "nbformat_minor": 2
}
