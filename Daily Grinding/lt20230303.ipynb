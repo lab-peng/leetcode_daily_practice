{
 "cells": [
  {
   "cell_type": "code",
   "execution_count": 208,
   "source": [
    "from typing import List\r\n",
    "from collections import deque, OrderedDict, Counter"
   ],
   "outputs": [],
   "metadata": {}
  },
  {
   "cell_type": "code",
   "execution_count": 209,
   "source": [
    "class Solution:\r\n",
    "    def compress(self, chars: List[str]) -> int:\r\n",
    "        \"\"\" \r\n",
    "        443. String Compression\r\n",
    "        \"\"\"\r\n",
    "        ln = len(chars)\r\n",
    "\r\n",
    "        i = j = 0\r\n",
    "        while i < ln:\r\n",
    "            count = 1\r\n",
    "            while i < ln - 1 and chars[i + 1] == chars[i]:\r\n",
    "                count += 1\r\n",
    "                i += 1\r\n",
    "            chars[j] = chars[i]\r\n",
    "            j += 1\r\n",
    "            if count > 1:\r\n",
    "                for val in str(count):\r\n",
    "                    chars[j] = val\r\n",
    "                    j += 1\r\n",
    "\r\n",
    "            i += 1\r\n",
    "        return j\r\n",
    "        \r\n",
    "s = Solution()\r\n",
    "assert s.compress(chars = [\"a\",\"a\",\"b\",\"b\",\"c\",\"c\",\"c\"]) == 6"
   ],
   "outputs": [],
   "metadata": {}
  },
  {
   "cell_type": "code",
   "execution_count": 210,
   "source": [
    "class Solution:\r\n",
    "    def getStrongest(self, arr: List[int], k: int) -> List[int]:\r\n",
    "        \"\"\"  \r\n",
    "        1471. The k Strongest Values in an Array\r\n",
    "        \"\"\"\r\n",
    "        arr.sort()\r\n",
    "        m = arr[(len(arr) - 1) // 2]  # find medium\r\n",
    "        l, r = 0, len(arr) - 1\r\n",
    "\r\n",
    "        ans, count = [], 0\r\n",
    "        while l <= r:\r\n",
    "            if abs(arr[l] - m) > abs(arr[r] - m):\r\n",
    "                ans.append(arr[l])\r\n",
    "                l += 1\r\n",
    "            else:\r\n",
    "                ans.append(arr[r])\r\n",
    "                r -= 1\r\n",
    "            count += 1\r\n",
    "            if count == k:\r\n",
    "                return ans\r\n",
    "        \r\n",
    "s = Solution()\r\n",
    "assert s.getStrongest([6,7,11,7,6,8], 5) == [11,8,6,6,7]\r\n",
    "assert s.getStrongest([-493,598,-262,-918,-76,-532,521], 7) == [598, 521, -918, -532, -493, -76, -262]"
   ],
   "outputs": [],
   "metadata": {}
  },
  {
   "cell_type": "code",
   "execution_count": 211,
   "source": [
    "# 2574. Left and Right Sum Differences\r\n",
    "from itertools import accumulate\r\n",
    "class Solution:\r\n",
    "    def leftRigthDifference(self, nums: List[int]) -> List[int]:\r\n",
    "        left_sum = [(a - n) for a, n in zip(accumulate(nums), nums)]\r\n",
    "        right_sum = [(a - n) for a, n in zip(accumulate(nums[::-1]), nums[::-1])][::-1]\r\n",
    "        return [abs(l - r) for l, r in zip(left_sum, right_sum)]\r\n",
    "    \r\n",
    "s = Solution()\r\n",
    "s.leftRigthDifference([10, 4, 8, 3]) == [15, 1, 11, 22]"
   ],
   "outputs": [
    {
     "output_type": "execute_result",
     "data": {
      "text/plain": [
       "True\u0000\u0000\u0000\u00016\u0000\u0000\u0000\u00016\u0000\u0000\u0000\u000b[[1, 2]] 5\n"
      ]
     },
     "metadata": {},
     "execution_count": 211
    }
   ],
   "metadata": {}
  },
  {
   "cell_type": "code",
   "execution_count": 212,
   "source": [
    "# 1512. Number of Good Pairs\r\n",
    "class Solution:\r\n",
    "    def numIdenticalPairs(self, nums: List[int]) -> int:\r\n",
    "        # ln = len(nums)\r\n",
    "        # ans = 0\r\n",
    "        # for i in range(ln):\r\n",
    "        #     for j in range(i + 1, ln):\r\n",
    "        #         if nums[i] == nums[j] and i < j:\r\n",
    "        #             ans += 1\r\n",
    "        # return ans\r\n",
    "\r\n",
    "        # More perfomant solution for sure\r\n",
    "        counter = [v for v in Counter(nums).values() if v > 1]\r\n",
    "        ans = 0\r\n",
    "        for c in counter:\r\n",
    "            total = 0\r\n",
    "            incre = 1\r\n",
    "            for _ in range(c - 1):\r\n",
    "                total += incre\r\n",
    "                incre += 1\r\n",
    "            ans += total\r\n",
    "        return ans\r\n",
    "\r\n",
    "s = Solution()\r\n",
    "\r\n",
    "assert s.numIdenticalPairs([1, 1, 1, 1]) == 6\r\n",
    "assert s.numIdenticalPairs([1,2,3,1,1,3]) == 4"
   ],
   "outputs": [],
   "metadata": {}
  },
  {
   "cell_type": "code",
   "execution_count": 213,
   "source": [
    "# 6 Maximum Product Subarray\r\n",
    "# https://leetcode.com/problems/maximum-product-subarray\r\n",
    "class Solution:\r\n",
    "    def maxProduct(self, nums: List[int]) -> int:\r\n",
    "        max_prod = float('-inf')\r\n",
    "        cur_min, cur_max = 1, 1\r\n",
    "        for n in nums:\r\n",
    "            tmp_max = cur_max * n \r\n",
    "            cur_max = max(n * cur_max, n * cur_min, n)\r\n",
    "            cur_min = min(tmp_max, n * cur_min, n)\r\n",
    "            # print(tmp_max, cur_max, cur_min)\r\n",
    "            max_prod = max(max_prod, cur_max)\r\n",
    "        return max_prod\r\n",
    "\r\n",
    "\r\n",
    "nums = [2,3,-2,4]\r\n",
    "# nums = [2, 0, 0, 2]\r\n",
    "# nums = [3, -1, 4]\r\n",
    "# nums = [-2, 0, -1]\r\n",
    "# nums = [0, 2]\r\n",
    "s = Solution()\r\n",
    "s.maxProduct(nums)"
   ],
   "outputs": [
    {
     "output_type": "execute_result",
     "data": {
      "text/plain": [
       "6\u0000\u0000\u0000\u00016\u0000\u0000\u0000\u000b[[1, 2]] 5\n"
      ]
     },
     "metadata": {},
     "execution_count": 213
    }
   ],
   "metadata": {}
  },
  {
   "cell_type": "code",
   "execution_count": 214,
   "source": [
    "# NeetCode Solution\r\n",
    "class Solution:\r\n",
    "    def maxSubArray(self, nums: List[int]) -> int:\r\n",
    "        max_sub = nums[0]\r\n",
    "        curr_sub = 0\r\n",
    "        \r\n",
    "        for n in nums:\r\n",
    "            if curr_sub < 0:\r\n",
    "                curr_sub = 0\r\n",
    "            curr_sub += n\r\n",
    "            max_sub = max(max_sub, curr_sub)\r\n",
    "        return max_sub\r\n",
    "\r\n",
    "\r\n",
    "nums = [-2,1,-3,4,-1,2,1,-5,4]\r\n",
    "# nums = [-1, -2, -3]\r\n",
    "s = Solution()\r\n",
    "s.maxSubArray(nums)"
   ],
   "outputs": [
    {
     "output_type": "execute_result",
     "data": {
      "text/plain": [
       "6\u0000\u0000\u0000\u000b[[1, 2]] 5\n"
      ]
     },
     "metadata": {},
     "execution_count": 214
    }
   ],
   "metadata": {}
  },
  {
   "cell_type": "code",
   "execution_count": 215,
   "source": [
    "# 986. Interval List Intersections\r\n",
    "# https://leetcode.com/problems/interval-list-intersections/\r\n",
    "class Solution:\r\n",
    "    def intervalIntersection(self, firstList: List[List[int]], secondList: List[List[int]]) -> List[List[int]]:\r\n",
    "        first_mn = max(firstList[0][0], secondList[0][0])\r\n",
    "        first_mx = min(firstList[0][1], secondList[0][1])\r\n",
    "        last = max(firstList[0][1], secondList[0][1])\r\n",
    "        ans = [[first_mn, first_mx]]\r\n",
    "        ln = min(len(firstList), len(secondList))\r\n",
    "        print(ans, last)\r\n",
    "        i = 1\r\n",
    "        # while i < ln:\r\n",
    "        #     pass\r\n",
    "            \r\n",
    "            # mn = max(last, firstList[i][0], secondList[i][0])\r\n",
    "            # mx = min()\r\n",
    "\r\n",
    "        \r\n",
    "s = Solution()\r\n",
    "s.intervalIntersection(firstList = [[0,2],[5,10],[13,23],[24,25]], secondList = [[1,5],[8,12],[15,24],[25,26]])\r\n",
    "\r\n",
    "\r\n"
   ],
   "outputs": [
    {
     "output_type": "stream",
     "name": "stdout",
     "text": [
      "[[1, 2]] 5\n"
     ]
    }
   ],
   "metadata": {}
  },
  {
   "cell_type": "code",
   "execution_count": null,
   "source": [],
   "outputs": [],
   "metadata": {}
  }
 ],
 "metadata": {
  "orig_nbformat": 4,
  "language_info": {
   "name": "python",
   "version": "3.11.1",
   "mimetype": "text/x-python",
   "codemirror_mode": {
    "name": "ipython",
    "version": 3
   },
   "pygments_lexer": "ipython3",
   "nbconvert_exporter": "python",
   "file_extension": ".py"
  },
  "kernelspec": {
   "name": "python3",
   "language": "python",
   "display_name": "Python 3"
  },
  "vscode": {
   "interpreter": {
    "hash": "3c82aea9bf3f365190a7e416b607cf2c9372b04170f58ad31092367f98b9b5cc"
   }
  }
 },
 "nbformat": 4,
 "nbformat_minor": 2
}