{
 "cells": [
  {
   "cell_type": "code",
   "execution_count": 151,
   "source": [
    "from typing import List\r\n",
    "from collections import deque, OrderedDict, Counter\r\n"
   ],
   "outputs": [],
   "metadata": {}
  },
  {
   "cell_type": "code",
   "execution_count": 59,
   "source": [
    "class Solution:\r\n",
    "    def compress(self, chars: List[str]) -> int:\r\n",
    "        \"\"\" \r\n",
    "        443. String Compression\r\n",
    "        \"\"\"\r\n",
    "        ln = len(chars)\r\n",
    "\r\n",
    "        i = j = 0\r\n",
    "        while i < ln:\r\n",
    "            count = 1\r\n",
    "            while i < ln - 1 and chars[i + 1] == chars[i]:\r\n",
    "                count += 1\r\n",
    "                i += 1\r\n",
    "            chars[j] = chars[i]\r\n",
    "            j += 1\r\n",
    "            if count > 1:\r\n",
    "                for val in str(count):\r\n",
    "                    chars[j] = val\r\n",
    "                    j += 1\r\n",
    "\r\n",
    "            i += 1\r\n",
    "        return j\r\n",
    "        \r\n",
    "s = Solution()\r\n",
    "assert s.compress(chars = [\"a\",\"a\",\"b\",\"b\",\"c\",\"c\",\"c\"]) == 6"
   ],
   "outputs": [],
   "metadata": {}
  },
  {
   "cell_type": "code",
   "execution_count": 95,
   "source": [
    "class Solution:\r\n",
    "    def getStrongest(self, arr: List[int], k: int) -> List[int]:\r\n",
    "        \"\"\"  \r\n",
    "        1471. The k Strongest Values in an Array\r\n",
    "        \"\"\"\r\n",
    "        arr.sort()\r\n",
    "        m = arr[(len(arr) - 1) // 2]  # find medium\r\n",
    "        l, r = 0, len(arr) - 1\r\n",
    "\r\n",
    "        ans, count = [], 0\r\n",
    "        while l <= r:\r\n",
    "            if abs(arr[l] - m) > abs(arr[r] - m):\r\n",
    "                ans.append(arr[l])\r\n",
    "                l += 1\r\n",
    "            else:\r\n",
    "                ans.append(arr[r])\r\n",
    "                r -= 1\r\n",
    "            count += 1\r\n",
    "            if count == k:\r\n",
    "                return ans\r\n",
    "        \r\n",
    "s = Solution()\r\n",
    "assert s.getStrongest([6,7,11,7,6,8], 5) == [11,8,6,6,7]\r\n",
    "assert s.getStrongest([-493,598,-262,-918,-76,-532,521], 7) == [598, 521, -918, -532, -493, -76, -262]"
   ],
   "outputs": [],
   "metadata": {}
  },
  {
   "cell_type": "code",
   "execution_count": 128,
   "source": [
    "# 2574. Left and Right Sum Differences\r\n",
    "from itertools import accumulate\r\n",
    "class Solution:\r\n",
    "    def leftRigthDifference(self, nums: List[int]) -> List[int]:\r\n",
    "        left_sum = [(a - n) for a, n in zip(accumulate(nums), nums)]\r\n",
    "        right_sum = [(a - n) for a, n in zip(accumulate(nums[::-1]), nums[::-1])][::-1]\r\n",
    "        return [abs(l - r) for l, r in zip(left_sum, right_sum)]\r\n",
    "    \r\n",
    "s = Solution()\r\n",
    "s.leftRigthDifference([10, 4, 8, 3]) == [15, 1, 11, 22]"
   ],
   "outputs": [
    {
     "output_type": "execute_result",
     "data": {
      "text/plain": [
       "[15, 1, 11, 22]\u0000\u0000\u0000\f[2, 3, 5, 6]"
      ]
     },
     "metadata": {},
     "execution_count": 128
    }
   ],
   "metadata": {}
  },
  {
   "cell_type": "code",
   "execution_count": 164,
   "source": [
    "# 1512. Number of Good Pairs\r\n",
    "class Solution:\r\n",
    "    def numIdenticalPairs(self, nums: List[int]) -> int:\r\n",
    "        # ln = len(nums)\r\n",
    "        # ans = 0\r\n",
    "        # for i in range(ln):\r\n",
    "        #     for j in range(i + 1, ln):\r\n",
    "        #         if nums[i] == nums[j] and i < j:\r\n",
    "        #             ans += 1\r\n",
    "        # return ans\r\n",
    "\r\n",
    "        # More perfomant solution for sure\r\n",
    "        counter = [v for v in Counter(nums).values() if v > 1]\r\n",
    "        ans = 0\r\n",
    "        for c in counter:\r\n",
    "            total = 0\r\n",
    "            incre = 1\r\n",
    "            for _ in range(c - 1):\r\n",
    "                total += incre\r\n",
    "                incre += 1\r\n",
    "            ans += total\r\n",
    "        return ans\r\n",
    "\r\n",
    "    \r\n",
    "s = Solution()\r\n",
    "\r\n",
    "assert s.numIdenticalPairs([1, 1, 1, 1]) == 6\r\n",
    "assert s.numIdenticalPairs([1,2,3,1,1,3]) == 4"
   ],
   "outputs": [],
   "metadata": {}
  },
  {
   "cell_type": "code",
   "execution_count": 168,
   "source": [],
   "outputs": [
    {
     "output_type": "execute_result",
     "data": {
      "text/plain": [
       "[2, 3, 5, 6]"
      ]
     },
     "metadata": {},
     "execution_count": 168
    }
   ],
   "metadata": {}
  },
  {
   "cell_type": "code",
   "execution_count": null,
   "source": [],
   "outputs": [],
   "metadata": {}
  }
 ],
 "metadata": {
  "orig_nbformat": 4,
  "language_info": {
   "name": "python",
   "version": "3.11.1",
   "mimetype": "text/x-python",
   "codemirror_mode": {
    "name": "ipython",
    "version": 3
   },
   "pygments_lexer": "ipython3",
   "nbconvert_exporter": "python",
   "file_extension": ".py"
  },
  "kernelspec": {
   "name": "python3",
   "language": "python",
   "display_name": "Python 3"
  },
  "vscode": {
   "interpreter": {
    "hash": "3c82aea9bf3f365190a7e416b607cf2c9372b04170f58ad31092367f98b9b5cc"
   }
  }
 },
 "nbformat": 4,
 "nbformat_minor": 2
}