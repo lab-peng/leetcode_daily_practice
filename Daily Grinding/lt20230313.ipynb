{
 "cells": [
  {
   "cell_type": "code",
   "execution_count": 82,
   "metadata": {},
   "outputs": [],
   "source": [
    "from typing import List\n",
    "from itertools import zip_longest"
   ]
  },
  {
   "cell_type": "code",
   "execution_count": 77,
   "metadata": {},
   "outputs": [
    {
     "data": {
      "text/plain": [
       "False"
      ]
     },
     "execution_count": 77,
     "metadata": {},
     "output_type": "execute_result"
    }
   ],
   "source": [
    "# 1893. Check if All the Integers in a Range Are Covered\n",
    "class Solution:\n",
    "    def isCovered(self, ranges: List[List[int]], left: int, right: int) -> bool:\n",
    "        for i in range(left, right + 1):\n",
    "            covered = False\n",
    "            for r in ranges:\n",
    "                if r[0] <= i <= r[1]:\n",
    "                    covered = True\n",
    "            if not covered:\n",
    "                return False\n",
    "        return True\n",
    "    \n",
    "s = Solution()\n",
    "s.isCovered([[1,1]], 1, 50)\n",
    "# s.isCovered(ranges = [[1,2],[3,4],[5,6]], left = 2, right = 5)\n",
    "# s.isCovered(ranges = [[1,10],[10,20]], left = 21, right = 21)\n",
    "# s.isCovered([[50, 50]], 1, 50)"
   ]
  },
  {
   "cell_type": "code",
   "execution_count": 84,
   "metadata": {},
   "outputs": [],
   "source": [
    "# 1880. Check if Word Equals Summation of Two Words\n",
    "class Solution:\n",
    "    def isSumEqual(self, firstWord: str, secondWord: str, targetWord: str) -> bool:\n",
    "        for f, s, t in zip_longest(firstWord, secondWord, targetWord):\n",
    "            if f:\n",
    "                firstWord = firstWord.replace(f, str(ord(f) - 97))\n",
    "            if s:\n",
    "                secondWord = secondWord.replace(s, str(ord(s) - 97))\n",
    "            if t:\n",
    "                targetWord = targetWord.replace(t, str(ord(t) - 97))\n",
    "        \n",
    "        return int(firstWord) + int(secondWord) == int(targetWord)"
   ]
  },
  {
   "cell_type": "code",
   "execution_count": 145,
   "metadata": {},
   "outputs": [],
   "source": [
    "# 1909. Remove One Element to Make the Array Strictly Increasing\n",
    "class Solution:\n",
    "    def canBeIncreasing(self, nums: List[int]) -> bool:\n",
    "        ln = len(nums)\n",
    "        pivots = []\n",
    "        for i in range(1, ln):\n",
    "            if nums[i - 1] >= nums[i]:\n",
    "                pivots.append(i)\n",
    "\n",
    "        if not pivots:\n",
    "            return True\n",
    "        if len(pivots) > 1:\n",
    "            return False\n",
    "        \n",
    "        p = pivots[0]\n",
    "        if ln == p + 1 or nums[p - 1] < nums[p + 1]:\n",
    "            return True\n",
    "        return nums[p - 2] < nums[p] if p - 2 >= 0 else True\n",
    "\n",
    "\n",
    "s = Solution()\n",
    "assert s.canBeIncreasing([1,2,10,5,7])\n",
    "assert s.canBeIncreasing([2,3,1,2]) is False\n",
    "assert s.canBeIncreasing([1, 1, 1]) is False\n",
    "assert s.canBeIncreasing([1, 1])\n",
    "assert s.canBeIncreasing([100,21,3]) is False\n",
    "assert s.canBeIncreasing([1, 2, 3])\n",
    "assert s.canBeIncreasing([100,21,100])\n",
    "assert s.canBeIncreasing([105,924,32,968])\n",
    "assert s.canBeIncreasing([23,297,427,949,945])"
   ]
  },
  {
   "cell_type": "code",
   "execution_count": 220,
   "metadata": {},
   "outputs": [
    {
     "data": {
      "text/plain": [
       "''"
      ]
     },
     "execution_count": 220,
     "metadata": {},
     "output_type": "execute_result"
    }
   ],
   "source": [
    "\n",
    "class Solution:\n",
    "    def largestOddNumber(self, num: str) -> str:\n",
    "        mx = 0\n",
    "        for i in range(len(num) - 1, -1, -1):\n",
    "            n = int(num[:i + 1])\n",
    "            if n % 2 == 1:\n",
    "                mx = max(mx, n)\n",
    "        return str(mx) if mx else ''\n",
    "\n",
    "s = Solution()\n",
    "# s.largestOddNumber('52')\n",
    "# s.largestOddNumber('35427')\n",
    "s.largestOddNumber('4206')"
   ]
  },
  {
   "cell_type": "code",
   "execution_count": 271,
   "metadata": {},
   "outputs": [
    {
     "data": {
      "text/plain": [
       "[(3, 4, 5), (6, 8, 10)]"
      ]
     },
     "execution_count": 271,
     "metadata": {},
     "output_type": "execute_result"
    }
   ],
   "source": [
    "# 1925. Count Square Sum Triples\n",
    "from math import sqrt\n",
    "class Solution:\n",
    "    def countTriples(self, n: int) -> int:\n",
    "        # ans = 0\n",
    "        ans = []\n",
    "        for i in range(1, n + 1):\n",
    "            for j in range(i + 1, n + 1):\n",
    "                root = sqrt(i ** 2 + j ** 2)\n",
    "                if root == int(root) and root <= n:   # root = int(root) == sqrt is an integer value\n",
    "                    # ans += 2\n",
    "                    ans.append((i, j, int(root)))\n",
    "        return ans\n",
    "\n",
    "s = Solution()\n",
    "s.countTriples(5)\n",
    "s.countTriples(10)\n",
    "# s.countTriples(30)"
   ]
  },
  {
   "cell_type": "code",
   "execution_count": null,
   "metadata": {},
   "outputs": [],
   "source": []
  }
 ],
 "metadata": {
  "kernelspec": {
   "display_name": "Python 3",
   "language": "python",
   "name": "python3"
  },
  "language_info": {
   "codemirror_mode": {
    "name": "ipython",
    "version": 3
   },
   "file_extension": ".py",
   "mimetype": "text/x-python",
   "name": "python",
   "nbconvert_exporter": "python",
   "pygments_lexer": "ipython3",
   "version": "3.11.1"
  },
  "orig_nbformat": 4
 },
 "nbformat": 4,
 "nbformat_minor": 2
}
