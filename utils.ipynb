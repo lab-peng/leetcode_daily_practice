{
 "cells": [
  {
   "cell_type": "markdown",
   "source": [
    "##### Calendar Week <==> Date Conversion"
   ],
   "metadata": {},
   "attachments": {}
  },
  {
   "cell_type": "code",
   "execution_count": 2,
   "source": [
    "from datetime import date\r\n",
    "\r\n",
    "print(date(2023, 2, 20).isocalendar())  # from date to calendar week, week day\r\n",
    "print(date.fromisocalendar(2023, 8, 1)) # from calendar week, week day  to date\r\n",
    "print(date.fromisocalendar(2023, 17, 1))\r\n",
    "print(date(2023, 1, 2).isocalendar())"
   ],
   "outputs": [
    {
     "output_type": "stream",
     "name": "stdout",
     "text": [
      "datetime.IsoCalendarDate(year=2023, week=8, weekday=1)\n",
      "2023-02-20\n",
      "2023-04-24\n",
      "datetime.IsoCalendarDate(year=2023, week=1, weekday=1)\n"
     ]
    }
   ],
   "metadata": {}
  },
  {
   "cell_type": "markdown",
   "source": [
    "##### Watch and kill system process"
   ],
   "metadata": {},
   "attachments": {}
  },
  {
   "cell_type": "code",
   "execution_count": 3,
   "source": [
    "import psutil\r\n",
    "\r\n",
    "PROCNAME = \"EXCEL.EXE\"\r\n",
    "\r\n",
    "for proc in psutil.process_iter():\r\n",
    "    # print(proc.pid, proc.name())\r\n",
    "    if proc.name() == PROCNAME:\r\n",
    "        proc.kill() "
   ],
   "outputs": [],
   "metadata": {}
  },
  {
   "cell_type": "markdown",
   "source": [
    "##### Search all files in a directory for a term or phrase"
   ],
   "metadata": {},
   "attachments": {}
  },
  {
   "cell_type": "code",
   "execution_count": 4,
   "source": [
    "import os \r\n",
    "\r\n",
    "def find_s_under_fpath(s, fpath):\r\n",
    "    matches = [\r\n",
    "      [(f, l.strip()) for l in open(f'{fpath}/{f}') if s in l] for f in os.listdir(fpath)\r\n",
    "    ]\r\n",
    "    # print(matches)\r\n",
    "    for m in matches:\r\n",
    "      if m:\r\n",
    "        print(m[0][0], m[0][1])\r\n",
    "\r\n",
    "\r\n",
    "s = 'edge'\r\n",
    "fpath = r'C:\\KinRigData\\config\\extModule\\Schulung'"
   ],
   "outputs": [],
   "metadata": {}
  }
 ],
 "metadata": {
  "kernelspec": {
   "name": "python3",
   "language": "python",
   "display_name": "Python 3"
  },
  "language_info": {
   "codemirror_mode": {
    "name": "ipython",
    "version": 3
   },
   "file_extension": ".py",
   "mimetype": "text/x-python",
   "name": "python",
   "nbconvert_exporter": "python",
   "pygments_lexer": "ipython3",
   "version": "3.11.2"
  },
  "orig_nbformat": 4,
  "vscode": {
   "interpreter": {
    "hash": "3c82aea9bf3f365190a7e416b607cf2c9372b04170f58ad31092367f98b9b5cc"
   }
  }
 },
 "nbformat": 4,
 "nbformat_minor": 2
}