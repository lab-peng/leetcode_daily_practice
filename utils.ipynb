{
 "cells": [
  {
   "attachments": {},
   "cell_type": "markdown",
   "metadata": {},
   "source": [
    "##### Calendar Week <==> Date Conversion"
   ]
  },
  {
   "cell_type": "code",
   "execution_count": 1,
   "metadata": {},
   "outputs": [
    {
     "name": "stdout",
     "output_type": "stream",
     "text": [
      "datetime.IsoCalendarDate(year=2023, week=8, weekday=1)\n",
      "2023-02-20\n",
      "2023-04-24\n",
      "datetime.IsoCalendarDate(year=2023, week=1, weekday=1)\n"
     ]
    }
   ],
   "source": [
    "from datetime import date\n",
    "print(date(2023, 2, 20).isocalendar())  # from date to calendar week, week day\n",
    "print(date.fromisocalendar(2023, 8, 1)) # from calendar week, week day  to date\n",
    "print(date.fromisocalendar(2023, 17, 1))\n",
    "print(date(2023, 1, 2).isocalendar())"
   ]
  },
  {
   "attachments": {},
   "cell_type": "markdown",
   "metadata": {},
   "source": [
    "##### Watch and kill system process"
   ]
  },
  {
   "cell_type": "code",
   "execution_count": 2,
   "metadata": {},
   "outputs": [],
   "source": [
    "import psutil\n",
    "\n",
    "PROCNAME = \"EXCEL.EXE\"\n",
    "\n",
    "for proc in psutil.process_iter():\n",
    "    # print(proc.pid, proc.name())\n",
    "    if proc.name() == PROCNAME:\n",
    "        proc.kill() "
   ]
  },
  {
   "cell_type": "code",
   "execution_count": null,
   "metadata": {},
   "outputs": [],
   "source": []
  },
  {
   "cell_type": "code",
   "execution_count": null,
   "metadata": {},
   "outputs": [],
   "source": []
  }
 ],
 "metadata": {
  "kernelspec": {
   "display_name": "Python 3",
   "language": "python",
   "name": "python3"
  },
  "language_info": {
   "codemirror_mode": {
    "name": "ipython",
    "version": 3
   },
   "file_extension": ".py",
   "mimetype": "text/x-python",
   "name": "python",
   "nbconvert_exporter": "python",
   "pygments_lexer": "ipython3",
   "version": "3.11.1"
  },
  "orig_nbformat": 4,
  "vscode": {
   "interpreter": {
    "hash": "3c82aea9bf3f365190a7e416b607cf2c9372b04170f58ad31092367f98b9b5cc"
   }
  }
 },
 "nbformat": 4,
 "nbformat_minor": 2
}
