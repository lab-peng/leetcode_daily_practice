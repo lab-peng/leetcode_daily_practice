{
 "cells": [
  {
   "cell_type": "code",
   "execution_count": 9,
   "metadata": {},
   "outputs": [
    {
     "name": "stdout",
     "output_type": "stream",
     "text": [
      "[0, 1, 1, 2, 3, 5, 8, 13, 21, 34, 55, 89, 144, 233, 377, 610]\n"
     ]
    },
    {
     "data": {
      "text/plain": [
       "610"
      ]
     },
     "execution_count": 9,
     "metadata": {},
     "output_type": "execute_result"
    }
   ],
   "source": [
    "# finonacci sequence\n",
    "def fib(n):\n",
    "    res = [None] * (n+1)\n",
    "    for i in range(n+1):\n",
    "        if i == 0 or i == 1:\n",
    "            res[i] = i\n",
    "        else:\n",
    "            res[i] = res[i-1] + res[i-2]\n",
    "    print(res)\n",
    "    return res[-1]\n",
    "\n",
    "fib(15)"
   ]
  },
  {
   "cell_type": "code",
   "execution_count": 10,
   "metadata": {},
   "outputs": [
    {
     "name": "stdout",
     "output_type": "stream",
     "text": [
      "[5, 11, 17, 23, 29, 35, 41, 47, 53, 59, 65]\n"
     ]
    },
    {
     "data": {
      "text/plain": [
       "59"
      ]
     },
     "execution_count": 10,
     "metadata": {},
     "output_type": "execute_result"
    }
   ],
   "source": [
    "# arithmetic sequence\n",
    "def arithmetic(start, n, step):\n",
    "    res = [0] * (n+1)\n",
    "    for i in range(n+1):\n",
    "        if i == 0:\n",
    "            res[i] = start\n",
    "        else:\n",
    "            res[i] = res[i-1] + step\n",
    "    print(res)\n",
    "    return res[-2]\n",
    "\n",
    "arithmetic(5, 10, 6)"
   ]
  },
  {
   "cell_type": "code",
   "execution_count": 7,
   "metadata": {},
   "outputs": [
    {
     "name": "stdout",
     "output_type": "stream",
     "text": [
      "[2, 6, 18, 54, 162, 486, 1458, 4374, 13122, 39366, 118098]\n"
     ]
    },
    {
     "data": {
      "text/plain": [
       "39366"
      ]
     },
     "execution_count": 7,
     "metadata": {},
     "output_type": "execute_result"
    }
   ],
   "source": [
    "# geometric sequence\n",
    "def geometric(start, n, step):\n",
    "    res = [0] * (n+1)\n",
    "    for i in range(n+1):\n",
    "        if i == 0:\n",
    "            res[i] = start\n",
    "        else:\n",
    "            res[i] = res[i-1] * step\n",
    "    print(res)\n",
    "    return res[-2]\n",
    "\n",
    "geometric(2, 10, 3)"
   ]
  },
  {
   "cell_type": "code",
   "execution_count": 11,
   "metadata": {},
   "outputs": [
    {
     "data": {
      "text/plain": [
       "93326215443944152681699238856266700490715968264381621468592963895217599993229915608941463976156518286253697920827223758251185210916864000000000000000000000000"
      ]
     },
     "execution_count": 11,
     "metadata": {},
     "output_type": "execute_result"
    }
   ],
   "source": [
    "# factorial\n",
    "def fac(n):\n",
    "    res = [1] * (n+1)\n",
    "    for i in range(n+1):\n",
    "        if i == 0 or i == 1:\n",
    "            res[i] = 1\n",
    "        else:\n",
    "            res[i] = i * res[i-1]\n",
    "\n",
    "    # print(res)\n",
    "    return res[-1]\n",
    "\n",
    "fac(100)"
   ]
  },
  {
   "cell_type": "code",
   "execution_count": 13,
   "metadata": {},
   "outputs": [
    {
     "name": "stdout",
     "output_type": "stream",
     "text": [
      "1\n",
      "2\n"
     ]
    }
   ],
   "source": []
  },
  {
   "cell_type": "code",
   "execution_count": null,
   "metadata": {},
   "outputs": [],
   "source": []
  },
  {
   "cell_type": "code",
   "execution_count": null,
   "metadata": {},
   "outputs": [],
   "source": []
  },
  {
   "cell_type": "code",
   "execution_count": null,
   "metadata": {},
   "outputs": [],
   "source": []
  },
  {
   "cell_type": "code",
   "execution_count": null,
   "metadata": {},
   "outputs": [],
   "source": []
  }
 ],
 "metadata": {
  "kernelspec": {
   "display_name": "Python 3.10.2 ('python_sql_venv')",
   "language": "python",
   "name": "python3"
  },
  "language_info": {
   "codemirror_mode": {
    "name": "ipython",
    "version": 3
   },
   "file_extension": ".py",
   "mimetype": "text/x-python",
   "name": "python",
   "nbconvert_exporter": "python",
   "pygments_lexer": "ipython3",
   "version": "3.10.2"
  },
  "orig_nbformat": 4,
  "vscode": {
   "interpreter": {
    "hash": "d069d7a1948727279f2cf1fb753e38696f857060f508c2c6fffe28efce4c20be"
   }
  }
 },
 "nbformat": 4,
 "nbformat_minor": 2
}
