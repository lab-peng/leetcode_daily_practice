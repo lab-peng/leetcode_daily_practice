{
 "cells": [
  {
   "cell_type": "code",
   "execution_count": 3,
   "source": [
    "# finonacci sequence\r\n",
    "def fib(n):\r\n",
    "    res = [None] * (n+1)\r\n",
    "    for i in range(n+1):\r\n",
    "        if i == 0 or i == 1:\r\n",
    "            res[i] = i\r\n",
    "        else:\r\n",
    "            res[i] = res[i-1] + res[i-2]\r\n",
    "    print(res)\r\n",
    "    return res[-1]\r\n",
    "\r\n",
    "fib(15)"
   ],
   "outputs": [
    {
     "output_type": "stream",
     "name": "stdout",
     "text": [
      "[0, 1, 1, 2, 3, 5, 8, 13, 21, 34, 55, 89, 144, 233, 377, 610]\n",
      "\u0000\u0000\u0000\u0003610\u0000\u0000\u0000,[5, 11, 17, 23, 29, 35, 41, 47, 53, 59, 65]\n",
      "\u0000\u0000\u0000\u000259\u0000\u0000\u0000;[2, 6, 18, 54, 162, 486, 1458, 4374, 13122, 39366, 118098]\n",
      "\u0000\u0000\u0000\u000539366\u0000\u0000\u0000�93326215443944152681699238856266700490715968264381621468592963895217599993229915608941463976156518286253697920827223758251185210916864000000000000000000000000"
     ]
    },
    {
     "output_type": "execute_result",
     "data": {
      "text/plain": [
       "610\u0000\u0000\u0000,[5, 11, 17, 23, 29, 35, 41, 47, 53, 59, 65]\n",
       "\u0000\u0000\u0000\u000259\u0000\u0000\u0000;[2, 6, 18, 54, 162, 486, 1458, 4374, 13122, 39366, 118098]\n",
       "\u0000\u0000\u0000\u000539366\u0000\u0000\u0000�93326215443944152681699238856266700490715968264381621468592963895217599993229915608941463976156518286253697920827223758251185210916864000000000000000000000000"
      ]
     },
     "metadata": {},
     "execution_count": 3
    }
   ],
   "metadata": {}
  },
  {
   "cell_type": "code",
   "execution_count": 4,
   "source": [
    "# arithmetic sequence\r\n",
    "def arithmetic(start, n, step):\r\n",
    "    res = [0] * (n+1)\r\n",
    "    for i in range(n+1):\r\n",
    "        if i == 0:\r\n",
    "            res[i] = start\r\n",
    "        else:\r\n",
    "            res[i] = res[i-1] + step\r\n",
    "    print(res)\r\n",
    "    return res[-2]\r\n",
    "\r\n",
    "arithmetic(5, 10, 6)"
   ],
   "outputs": [
    {
     "output_type": "stream",
     "name": "stdout",
     "text": [
      "[5, 11, 17, 23, 29, 35, 41, 47, 53, 59, 65]\n",
      "\u0000\u0000\u0000\u000259\u0000\u0000\u0000;[2, 6, 18, 54, 162, 486, 1458, 4374, 13122, 39366, 118098]\n",
      "\u0000\u0000\u0000\u000539366\u0000\u0000\u0000�93326215443944152681699238856266700490715968264381621468592963895217599993229915608941463976156518286253697920827223758251185210916864000000000000000000000000"
     ]
    },
    {
     "output_type": "execute_result",
     "data": {
      "text/plain": [
       "59\u0000\u0000\u0000;[2, 6, 18, 54, 162, 486, 1458, 4374, 13122, 39366, 118098]\n",
       "\u0000\u0000\u0000\u000539366\u0000\u0000\u0000�93326215443944152681699238856266700490715968264381621468592963895217599993229915608941463976156518286253697920827223758251185210916864000000000000000000000000"
      ]
     },
     "metadata": {},
     "execution_count": 4
    }
   ],
   "metadata": {}
  },
  {
   "cell_type": "code",
   "execution_count": 5,
   "source": [
    "# geometric sequence\r\n",
    "def geometric(start, n, step):\r\n",
    "    res = [0] * (n+1)\r\n",
    "    for i in range(n+1):\r\n",
    "        if i == 0:\r\n",
    "            res[i] = start\r\n",
    "        else:\r\n",
    "            res[i] = res[i-1] * step\r\n",
    "    print(res)\r\n",
    "    return res[-2]\r\n",
    "\r\n",
    "geometric(2, 10, 3)"
   ],
   "outputs": [
    {
     "output_type": "stream",
     "name": "stdout",
     "text": [
      "[2, 6, 18, 54, 162, 486, 1458, 4374, 13122, 39366, 118098]\n",
      "\u0000\u0000\u0000\u000539366\u0000\u0000\u0000�93326215443944152681699238856266700490715968264381621468592963895217599993229915608941463976156518286253697920827223758251185210916864000000000000000000000000"
     ]
    },
    {
     "output_type": "execute_result",
     "data": {
      "text/plain": [
       "39366\u0000\u0000\u0000�93326215443944152681699238856266700490715968264381621468592963895217599993229915608941463976156518286253697920827223758251185210916864000000000000000000000000"
      ]
     },
     "metadata": {},
     "execution_count": 5
    }
   ],
   "metadata": {}
  },
  {
   "cell_type": "code",
   "execution_count": 7,
   "source": [
    "# factorial\r\n",
    "def fac(n):\r\n",
    "    res = [1] * (n+1)\r\n",
    "    for i in range(n+1):\r\n",
    "        if i == 0 or i == 1:\r\n",
    "            res[i] = 1\r\n",
    "        else:\r\n",
    "            res[i] = i * res[i-1]\r\n",
    "\r\n",
    "    # print(res)\r\n",
    "    return res[-1]\r\n",
    "\r\n",
    "fac(100)"
   ],
   "outputs": [
    {
     "output_type": "execute_result",
     "data": {
      "text/plain": [
       "93326215443944152681699238856266700490715968264381621468592963895217599993229915608941463976156518286253697920827223758251185210916864000000000000000000000000"
      ]
     },
     "metadata": {},
     "execution_count": 7
    }
   ],
   "metadata": {}
  },
  {
   "cell_type": "code",
   "execution_count": null,
   "source": [],
   "outputs": [],
   "metadata": {}
  },
  {
   "cell_type": "code",
   "execution_count": null,
   "source": [],
   "outputs": [],
   "metadata": {}
  },
  {
   "cell_type": "code",
   "execution_count": null,
   "source": [],
   "outputs": [],
   "metadata": {}
  },
  {
   "cell_type": "code",
   "execution_count": null,
   "source": [],
   "outputs": [],
   "metadata": {}
  }
 ],
 "metadata": {
  "kernelspec": {
   "name": "python3",
   "language": "python",
   "display_name": "Python 3"
  },
  "language_info": {
   "codemirror_mode": {
    "name": "ipython",
    "version": 3
   },
   "file_extension": ".py",
   "mimetype": "text/x-python",
   "name": "python",
   "nbconvert_exporter": "python",
   "pygments_lexer": "ipython3",
   "version": "3.11.1"
  },
  "orig_nbformat": 4,
  "vscode": {
   "interpreter": {
    "hash": "3c82aea9bf3f365190a7e416b607cf2c9372b04170f58ad31092367f98b9b5cc"
   }
  }
 },
 "nbformat": 4,
 "nbformat_minor": 2
}