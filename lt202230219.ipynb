{
 "cells": [
  {
   "cell_type": "code",
   "execution_count": 178,
   "metadata": {},
   "outputs": [],
   "source": [
    "class Solution:\n",
    "    def numberToWords(self, num: int) -> str:\n",
    "        \"\"\"\n",
    "        273. Integer to English Words\n",
    "        \"\"\"\n",
    "        if num == 0:\n",
    "            return 'Zero'\n",
    "        hm = {\n",
    "            1: 'One',\n",
    "            2: 'Two',\n",
    "            3: 'Three',\n",
    "            4: 'Four',\n",
    "            5: 'Five',\n",
    "            6: 'Six',\n",
    "            7: 'Seven',\n",
    "            8: 'Eight',\n",
    "            9: 'Nine',\n",
    "            10: 'Ten',\n",
    "\n",
    "            11: 'Eleven',\n",
    "            12: 'Twelve',\n",
    "            13: 'Thirteen',\n",
    "            14: 'Fourteen',\n",
    "            15: 'Fifteen',\n",
    "            16: 'Sixteen',\n",
    "            17: 'Seventeen',\n",
    "            18: 'Eighteen',\n",
    "            19: 'Nineteen',\n",
    "            \n",
    "            20: 'Twenty',\n",
    "            30: 'Thirty',\n",
    "            40: 'Forty',\n",
    "            50: 'Fifty',\n",
    "            60: 'Sixty',\n",
    "            70: 'Seventy',\n",
    "            80: 'Eighty',\n",
    "            90: 'Ninety',\n",
    "\n",
    "            100: 'Hundred',\n",
    "            1000: 'Thousand',\n",
    "            1000000: 'Million',\n",
    "            1000000000: 'Billion'\n",
    "        }\n",
    "\n",
    "        def digit_3(n):\n",
    "            lst = []\n",
    "            place = 1\n",
    "            while n > 0:\n",
    "                r = n % 10\n",
    "                if place < 100:\n",
    "                    lst.append((r, place))\n",
    "                else:\n",
    "                    lst.append(hm[r] + ' ' + hm[place])\n",
    "                place *= 10\n",
    "                n //= 10\n",
    "\n",
    "            if len(lst) == 1:\n",
    "                return hm[lst[0][0]]\n",
    "            \n",
    "            elif len(lst) == 2:\n",
    "                if lst[1][0] == 1:\n",
    "                    lst[1] = hm.get(lst[1][0] * 10 + lst[0][0])\n",
    "                    lst.remove(lst[0])\n",
    "                else:\n",
    "                    lst[0] = hm.get(lst[0][0], '')\n",
    "                    lst[1] = hm.get(lst[1][0] * 10)\n",
    "            else:\n",
    "                if lst[1][0] == 0:\n",
    "                    lst[0] = hm.get(lst[0][0], '')\n",
    "                    lst.remove(lst[1])\n",
    "                else:\n",
    "                    if lst[1][0] == 1:\n",
    "                        lst[1] = hm.get(lst[1][0] * 10 + lst[0][0])\n",
    "                        lst.remove(lst[0])\n",
    "                    else:\n",
    "                        lst[0] = hm.get(lst[0][0], '')\n",
    "                        lst[1] = hm.get(lst[1][0] * 10)\n",
    "\n",
    "            return ' '.join(lst[::-1]).strip()\n",
    "\n",
    "        ans = []\n",
    "        place = 1\n",
    "        while num > 0:\n",
    "            r = num % 1000\n",
    "            if r != 0:\n",
    "                if place != 1:\n",
    "                    ans.append(digit_3(r) + ' ' + hm[place]) \n",
    "                else:\n",
    "                    ans.append(digit_3(r))\n",
    "            place *= 1000\n",
    "            num //= 1000\n",
    "\n",
    "        return ' '.join(ans[::-1])\n",
    "\n",
    "\n",
    "s = Solution()\n",
    "assert s.numberToWords(123) == 'One Hundred Twenty Three'\n",
    "assert s.numberToWords(12345) == 'Twelve Thousand Three Hundred Forty Five'\n",
    "assert s.numberToWords(1234567) == 'One Million Two Hundred Thirty Four Thousand Five Hundred Sixty Seven'\n",
    "assert s.numberToWords(1000) == 'One Thousand'\n",
    "assert s.numberToWords(0) == 'Zero'"
   ]
  },
  {
   "cell_type": "code",
   "execution_count": 186,
   "metadata": {},
   "outputs": [
    {
     "data": {
      "text/plain": [
       "False"
      ]
     },
     "execution_count": 186,
     "metadata": {},
     "output_type": "execute_result"
    }
   ],
   "source": [
    "class WordDictionary:\n",
    "    \"\"\" \n",
    "    211. Design Add and Search Words Data Structure\n",
    "    \"\"\"\n",
    "    def __init__(self, word_set=set()):\n",
    "        self.word_set = word_set\n",
    "        \n",
    "\n",
    "    def addWord(self, word: str) -> None:\n",
    "        self.word_set.add(word)\n",
    "        \n",
    "\n",
    "    def search(self, word: str) -> bool:\n",
    "        if not self.word_set:\n",
    "            return False\n",
    "        for word1 in self.word_set:\n",
    "            if WordDictionary._match(word, word1):\n",
    "                return True\n",
    "        return False\n",
    "\n",
    "    @staticmethod\n",
    "    def _match(word1, word2):\n",
    "        if len(word1) != len(word2):\n",
    "            return False\n",
    "        for c1, c2 in zip(word1, word2):\n",
    "            if c1 == '.':\n",
    "                continue\n",
    "            if c1 != c2:\n",
    "                return False\n",
    "        return True\n",
    "    \n",
    "obj = WordDictionary()\n",
    "# obj.addWord(word)\n",
    "obj.search('a')"
   ]
  },
  {
   "cell_type": "code",
   "execution_count": 181,
   "metadata": {},
   "outputs": [
    {
     "data": {
      "text/plain": [
       "True"
      ]
     },
     "execution_count": 181,
     "metadata": {},
     "output_type": "execute_result"
    }
   ],
   "source": [
    "\n",
    "def match(word1, word2):\n",
    "    if len(word1) != len(word2):\n",
    "        return False\n",
    "    for c1, c2 in zip(word1, word2):\n",
    "        if c1 == '.':\n",
    "            continue\n",
    "        if c1 != c2:\n",
    "            return False\n",
    "    return True\n",
    "    \n",
    "\n",
    "word1, word2 = 'b..', 'bad'\n",
    "\n",
    "\n",
    "match(word1, word2)\n",
    "\n"
   ]
  },
  {
   "cell_type": "code",
   "execution_count": null,
   "metadata": {},
   "outputs": [],
   "source": []
  }
 ],
 "metadata": {
  "kernelspec": {
   "display_name": "Python 3",
   "language": "python",
   "name": "python3"
  },
  "language_info": {
   "codemirror_mode": {
    "name": "ipython",
    "version": 3
   },
   "file_extension": ".py",
   "mimetype": "text/x-python",
   "name": "python",
   "nbconvert_exporter": "python",
   "pygments_lexer": "ipython3",
   "version": "3.11.1"
  },
  "orig_nbformat": 4,
  "vscode": {
   "interpreter": {
    "hash": "3c82aea9bf3f365190a7e416b607cf2c9372b04170f58ad31092367f98b9b5cc"
   }
  }
 },
 "nbformat": 4,
 "nbformat_minor": 2
}
