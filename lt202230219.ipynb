{
 "cells": [
  {
   "cell_type": "code",
   "execution_count": 121,
   "metadata": {},
   "outputs": [],
   "source": [
    "from typing import List"
   ]
  },
  {
   "cell_type": "code",
   "execution_count": 122,
   "metadata": {},
   "outputs": [],
   "source": [
    "class Solution:\n",
    "    def numberToWords(self, num: int) -> str:\n",
    "        \"\"\"\n",
    "        273. Integer to English Words\n",
    "        \"\"\"\n",
    "        if num == 0:\n",
    "            return 'Zero'\n",
    "        hm = {\n",
    "            1: 'One',\n",
    "            2: 'Two',\n",
    "            3: 'Three',\n",
    "            4: 'Four',\n",
    "            5: 'Five',\n",
    "            6: 'Six',\n",
    "            7: 'Seven',\n",
    "            8: 'Eight',\n",
    "            9: 'Nine',\n",
    "            10: 'Ten',\n",
    "\n",
    "            11: 'Eleven',\n",
    "            12: 'Twelve',\n",
    "            13: 'Thirteen',\n",
    "            14: 'Fourteen',\n",
    "            15: 'Fifteen',\n",
    "            16: 'Sixteen',\n",
    "            17: 'Seventeen',\n",
    "            18: 'Eighteen',\n",
    "            19: 'Nineteen',\n",
    "            \n",
    "            20: 'Twenty',\n",
    "            30: 'Thirty',\n",
    "            40: 'Forty',\n",
    "            50: 'Fifty',\n",
    "            60: 'Sixty',\n",
    "            70: 'Seventy',\n",
    "            80: 'Eighty',\n",
    "            90: 'Ninety',\n",
    "\n",
    "            100: 'Hundred',\n",
    "            1000: 'Thousand',\n",
    "            1000000: 'Million',\n",
    "            1000000000: 'Billion'\n",
    "        }\n",
    "\n",
    "        def digit_3(n):\n",
    "            lst = []\n",
    "            place = 1\n",
    "            while n > 0:\n",
    "                r = n % 10\n",
    "                if place < 100:\n",
    "                    lst.append((r, place))\n",
    "                else:\n",
    "                    lst.append(hm[r] + ' ' + hm[place])\n",
    "                place *= 10\n",
    "                n //= 10\n",
    "\n",
    "            if len(lst) == 1:\n",
    "                return hm[lst[0][0]]\n",
    "\n",
    "            lst = lst[::-1]\n",
    "            val = lst[-2][0] * 10 + lst[-1][0]\n",
    "            if 0 < val < 21:\n",
    "                number = hm[val]\n",
    "            else:\n",
    "                if lst[-2][0] == 0 and lst[-1][0] == 0:\n",
    "                    number = None\n",
    "                elif lst[-1][0] == 0:\n",
    "                    number = hm[lst[-2][0] * 10]\n",
    "                elif lst[-2][0] == 0:\n",
    "                    number = hm.get(lst[-1][0])\n",
    "                else:\n",
    "                    number = hm[lst[-2][0] * 10] + ' ' + hm[lst[-1][0]]\n",
    "                    \n",
    "            if len(lst) == 3:\n",
    "                return lst[0] + ' ' + number if number else lst[0]\n",
    "            return  number\n",
    "        \n",
    "        ans = []\n",
    "        place = 1\n",
    "        while num > 0:\n",
    "            r = num % 1000\n",
    "            if r != 0:\n",
    "                if place != 1:\n",
    "                    ans.append(digit_3(r) + ' ' + hm[place]) \n",
    "                else:\n",
    "                    ans.append(digit_3(r))\n",
    "            place *= 1000\n",
    "            num //= 1000\n",
    "\n",
    "        return ' '.join(ans[::-1])\n",
    "\n",
    "\n",
    "s = Solution()\n",
    "\n",
    "assert s.numberToWords(123) == 'One Hundred Twenty Three'\n",
    "assert s.numberToWords(12345) == 'Twelve Thousand Three Hundred Forty Five'\n",
    "assert s.numberToWords(1234567) == 'One Million Two Hundred Thirty Four Thousand Five Hundred Sixty Seven'\n",
    "assert s.numberToWords(1000) == 'One Thousand'\n",
    "assert s.numberToWords(0) == 'Zero'\n",
    "assert s.numberToWords(100) == 'One Hundred'\n",
    "assert s.numberToWords(30) == 'Thirty'"
   ]
  },
  {
   "cell_type": "code",
   "execution_count": 123,
   "metadata": {},
   "outputs": [],
   "source": [
    "class Solution:\n",
    "    def replaceDigits(self, s: str) -> str:\n",
    "        \"\"\" \n",
    "        1844. Replace All Digits with Characters\n",
    "        \"\"\"\n",
    "        ans = []\n",
    "        for i, v in enumerate(s):\n",
    "            if i % 2:\n",
    "                ans.append(chr(ord(s[i - 1]) + int(v)))\n",
    "            else:\n",
    "                ans.append(v)\n",
    "        return ''.join(ans)\n",
    "\n",
    "s = Solution()\n",
    "assert s.replaceDigits('a1b2c3d4e') == \"abbdcfdhe\""
   ]
  },
  {
   "cell_type": "code",
   "execution_count": 120,
   "metadata": {},
   "outputs": [
    {
     "data": {
      "text/plain": [
       "1"
      ]
     },
     "execution_count": 120,
     "metadata": {},
     "output_type": "execute_result"
    }
   ],
   "source": [
    "from random import choice\n",
    "choice([1, 2, 3])"
   ]
  },
  {
   "cell_type": "code",
   "execution_count": 134,
   "metadata": {},
   "outputs": [
    {
     "name": "stdout",
     "output_type": "stream",
     "text": [
      "3\n",
      "0\n",
      "4\n"
     ]
    }
   ],
   "source": [
    "from random import choice\n",
    "from collections import defaultdict\n",
    "class Solution:\n",
    "    \"\"\" \n",
    "    398. Random Pick Index\n",
    "    \"\"\"\n",
    "\n",
    "    def __init__(self, nums: List[int]):\n",
    "        self.d = defaultdict(list)\n",
    "        for i, v in enumerate(nums):\n",
    "            self.d[v].append(i)\n",
    "\n",
    "    def pick(self, target: int) -> int:\n",
    "        return choice(self.d[target])\n",
    "\n",
    "nums = [1, 2, 3, 3, 3]\n",
    "obj = Solution(nums)\n",
    "param_1 = obj.pick(3)\n",
    "print(param_1)\n",
    "param_1 = obj.pick(1)\n",
    "print(param_1)\n",
    "param_1 = obj.pick(3)\n",
    "print(param_1)"
   ]
  },
  {
   "cell_type": "code",
   "execution_count": 159,
   "metadata": {},
   "outputs": [],
   "source": [
    "class Solution:\n",
    "    def slowestKey(self, releaseTimes: List[int], keysPressed: str) -> str:\n",
    "        hm = {}\n",
    "        hm[keysPressed[0]] = releaseTimes[0]\n",
    "        for i in range(1, len(keysPressed)):\n",
    "            hm[keysPressed[i]] = max(hm.get(keysPressed[i], 0), releaseTimes[i] - releaseTimes[i - 1])\n",
    "        \n",
    "        sorted_hm = sorted(hm.items(), key=lambda x: (-x[1], x[0]))\n",
    "        for i in range(1, len(hm)):\n",
    "            if sorted_hm[i][1] != sorted_hm[i - 1][1]:\n",
    "                return sorted_hm[i - 1][0]\n",
    "        return sorted_hm[-1][0]\n",
    "\n",
    "s = Solution()\n",
    "# s.slowestKey(releaseTimes = [9,29,49,50], keysPressed = \"cbcd\")\n",
    "# s.slowestKey(releaseTimes = [1, 2], keysPressed = \"ba\")\n",
    "assert s.slowestKey(releaseTimes=[19,22,28,29,66,81,93,97], keysPressed='fnfaaxha') == 'a'"
   ]
  },
  {
   "cell_type": "code",
   "execution_count": null,
   "metadata": {},
   "outputs": [],
   "source": []
  },
  {
   "cell_type": "code",
   "execution_count": null,
   "metadata": {},
   "outputs": [],
   "source": []
  }
 ],
 "metadata": {
  "kernelspec": {
   "display_name": "Python 3",
   "language": "python",
   "name": "python3"
  },
  "language_info": {
   "codemirror_mode": {
    "name": "ipython",
    "version": 3
   },
   "file_extension": ".py",
   "mimetype": "text/x-python",
   "name": "python",
   "nbconvert_exporter": "python",
   "pygments_lexer": "ipython3",
   "version": "3.11.1"
  },
  "orig_nbformat": 4,
  "vscode": {
   "interpreter": {
    "hash": "3c82aea9bf3f365190a7e416b607cf2c9372b04170f58ad31092367f98b9b5cc"
   }
  }
 },
 "nbformat": 4,
 "nbformat_minor": 2
}
